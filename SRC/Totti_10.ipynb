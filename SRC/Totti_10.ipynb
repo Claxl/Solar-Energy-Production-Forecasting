{
 "cells": [
  {
   "cell_type": "markdown",
   "metadata": {
    "id": "sPjP2yKT6EaB"
   },
   "source": [
    "## INIT"
   ]
  },
  {
   "cell_type": "code",
   "execution_count": 1,
   "metadata": {
    "colab": {
     "base_uri": "https://localhost:8080/"
    },
    "id": "qthf5SwgyJ6j",
    "outputId": "760d74ab-5532-4c29-de8a-f6aa20b28332"
   },
   "outputs": [
    {
     "name": "stdout",
     "output_type": "stream",
     "text": [
      "Cloning into 'MLProject'...\n",
      "remote: Enumerating objects: 3, done.\u001b[K\n",
      "remote: Counting objects: 100% (3/3), done.\u001b[K\n",
      "remote: Compressing objects: 100% (2/2), done.\u001b[K\n",
      "remote: Total 3 (delta 0), reused 3 (delta 0), pack-reused 0\u001b[K\n",
      "Receiving objects: 100% (3/3), 20.33 MiB | 24.01 MiB/s, done.\n"
     ]
    }
   ],
   "source": [
    "!rm -rf data __MACOSX output sample_data data.zip MLProject/\n",
    "!git clone https://github.com/Claxl/MLProject\n",
    "!mv MLProject/data.zip /content\n"
   ]
  },
  {
   "cell_type": "code",
   "execution_count": 2,
   "metadata": {
    "id": "PoO-pI__R3cS"
   },
   "outputs": [],
   "source": [
    "!unzip -qq data.zip\n",
    "!rm -rf __MACOSX output data.zip MLProject/"
   ]
  },
  {
   "cell_type": "markdown",
   "metadata": {
    "id": "JVCbvGlL6IqF"
   },
   "source": [
    "#DATA READ\n"
   ]
  },
  {
   "cell_type": "code",
   "execution_count": 3,
   "metadata": {
    "id": "yER-BGLidW3G"
   },
   "outputs": [],
   "source": [
    "import pandas as pd\n",
    "\n",
    "y_train_obs_A = pd.read_parquet('data/A/train_targets.parquet')\n",
    "X_test_est_A = pd.read_parquet('data/A/X_test_estimated.parquet')\n",
    "X_train_est_A = pd.read_parquet('data/A/X_train_estimated.parquet')\n",
    "X_train_obs_A = pd.read_parquet('data/A/X_train_observed.parquet')\n",
    "\n",
    "\n",
    "y_train_obs_B = pd.read_parquet('data/B/train_targets.parquet')\n",
    "X_test_est_B = pd.read_parquet('data/B/X_test_estimated.parquet' )\n",
    "X_train_est_B = pd.read_parquet('data/B/X_train_estimated.parquet')\n",
    "X_train_obs_B = pd.read_parquet('data/B/X_train_observed.parquet')\n",
    "\n",
    "\n",
    "y_train_obs_C = pd.read_parquet('data/C/train_targets.parquet')\n",
    "X_test_est_C = pd.read_parquet('data/C/X_test_estimated.parquet')\n",
    "X_train_est_C = pd.read_parquet('data/C/X_train_estimated.parquet')\n",
    "X_train_obs_C = pd.read_parquet('data/C/X_train_observed.parquet')\n"
   ]
  },
  {
   "cell_type": "markdown",
   "metadata": {
    "id": "2rzxYJUy0G5u"
   },
   "source": [
    "# DATA CLEAR"
   ]
  },
  {
   "cell_type": "code",
   "execution_count": 4,
   "metadata": {
    "id": "STo0MZRTKffU"
   },
   "outputs": [],
   "source": [
    "columns_with_nan_A_obs = X_train_obs_A.columns[X_train_obs_A.isna().any()].to_list()\n",
    "X_train_obs_A.drop(columns=columns_with_nan_A_obs, inplace=True)\n",
    "\n",
    "columns_with_nan_B_obs = X_train_obs_B.columns[X_train_obs_B.isna().any()].to_list()\n",
    "X_train_obs_B.drop(columns=columns_with_nan_B_obs, inplace=True)\n",
    "\n",
    "columns_with_nan_C_obs = X_train_obs_C.columns[X_train_obs_C.isna().any()].to_list()\n",
    "X_train_obs_C.drop(columns=columns_with_nan_C_obs, inplace=True)\n",
    "\n",
    "\n",
    "columns_with_nan_A_test_est = X_test_est_A.columns[X_test_est_A.isna().any()].to_list()\n",
    "X_test_est_A.drop(columns=columns_with_nan_A_test_est, inplace=True)\n",
    "\n",
    "columns_with_nan_B_test_est = X_test_est_B.columns[X_test_est_B.isna().any()].to_list()\n",
    "X_test_est_B.drop(columns=columns_with_nan_B_test_est, inplace=True)\n",
    "\n",
    "columns_with_nan_C_test_est = X_test_est_C.columns[X_test_est_C.isna().any()].to_list()\n",
    "X_test_est_C.drop(columns=columns_with_nan_C_test_est, inplace=True)\n",
    "\n",
    "\n",
    "\n",
    "columns_with_nan_A_train_est = X_train_est_A.columns[X_train_est_A.isna().any()].to_list()\n",
    "X_train_est_A.drop(columns=columns_with_nan_A_train_est, inplace=True)\n",
    "\n",
    "columns_with_nan_B_train_est = X_train_est_B.columns[X_train_est_B.isna().any()].to_list()\n",
    "X_train_est_B.drop(columns=columns_with_nan_B_train_est, inplace=True)\n",
    "\n",
    "columns_with_nan_C_train_est = X_train_est_C.columns[X_train_est_C.isna().any()].to_list()\n",
    "X_train_est_C.drop(columns=columns_with_nan_C_train_est, inplace=True)\n",
    "\n",
    "\n",
    "\n",
    "y_train_obs_A = y_train_obs_A.dropna()\n",
    "y_train_obs_B = y_train_obs_B.dropna()\n",
    "y_train_obs_C = y_train_obs_C.dropna()"
   ]
  },
  {
   "cell_type": "code",
   "execution_count": 5,
   "metadata": {
    "id": "pyFzSl_E4eBI"
   },
   "outputs": [],
   "source": [
    "X_train_obs_A.set_index('date_forecast', inplace=True)\n",
    "X_train_obs_B.set_index('date_forecast', inplace=True)\n",
    "X_train_obs_C.set_index('date_forecast', inplace=True)\n",
    "\n",
    "X_train_est_A.set_index('date_forecast', inplace=True)\n",
    "X_train_est_B.set_index('date_forecast', inplace=True)\n",
    "X_train_est_C.set_index('date_forecast', inplace=True)\n",
    "\n",
    "X_test_est_A.set_index('date_forecast', inplace=True)\n",
    "X_test_est_B.set_index('date_forecast', inplace=True)\n",
    "X_test_est_C.set_index('date_forecast', inplace=True)\n",
    "\n",
    "y_train_obs_A.set_index('time', inplace=True)\n",
    "y_train_obs_B.set_index('time', inplace=True)\n",
    "y_train_obs_C.set_index('time', inplace=True)"
   ]
  },
  {
   "cell_type": "code",
   "execution_count": 6,
   "metadata": {
    "id": "miYNqSqjGU1a"
   },
   "outputs": [],
   "source": [
    "def make_hourly(unsampled_df, target_df):\n",
    "    sampled_df = unsampled_df.resample('H').mean()\n",
    "    sampled_df.index = sampled_df.index.floor('H')\n",
    "    merged_df = sampled_df.merge(target_df, left_index=True, right_index=True, how='inner')\n",
    "    return merged_df"
   ]
  },
  {
   "cell_type": "code",
   "execution_count": 25,
   "metadata": {
    "colab": {
     "base_uri": "https://localhost:8080/"
    },
    "id": "vC6pe44i4jy9",
    "outputId": "978baa5d-cf48-4c43-89d9-abeaafee421b"
   },
   "outputs": [
    {
     "name": "stderr",
     "output_type": "stream",
     "text": [
      "<ipython-input-6-62b0cb3945d7>:2: FutureWarning: The default value of numeric_only in DataFrameGroupBy.mean is deprecated. In a future version, numeric_only will default to False. Either specify numeric_only or select only columns which should be valid for the function.\n",
      "  sampled_df = unsampled_df.resample('H').mean()\n",
      "<ipython-input-6-62b0cb3945d7>:2: FutureWarning: The default value of numeric_only in DataFrameGroupBy.mean is deprecated. In a future version, numeric_only will default to False. Either specify numeric_only or select only columns which should be valid for the function.\n",
      "  sampled_df = unsampled_df.resample('H').mean()\n",
      "<ipython-input-6-62b0cb3945d7>:2: FutureWarning: The default value of numeric_only in DataFrameGroupBy.mean is deprecated. In a future version, numeric_only will default to False. Either specify numeric_only or select only columns which should be valid for the function.\n",
      "  sampled_df = unsampled_df.resample('H').mean()\n"
     ]
    }
   ],
   "source": [
    "merged_df_train_obs_A = make_hourly(X_train_obs_A, y_train_obs_A)\n",
    "merged_df_train_obs_B = make_hourly(X_train_obs_B, y_train_obs_B)\n",
    "merged_df_train_obs_C = make_hourly(X_train_obs_C, y_train_obs_C)\n",
    "\n",
    "merged_df_train_est_A = make_hourly(X_train_est_A, y_train_obs_A)\n",
    "merged_df_train_est_B = make_hourly(X_train_est_B, y_train_obs_B)\n",
    "merged_df_train_est_C = make_hourly(X_train_est_C, y_train_obs_C)"
   ]
  },
  {
   "cell_type": "code",
   "execution_count": 26,
   "metadata": {
    "colab": {
     "base_uri": "https://localhost:8080/"
    },
    "id": "5SBRXwm_4m_I",
    "outputId": "4c66f868-378d-4a56-ac4f-918a899b5f7a"
   },
   "outputs": [
    {
     "name": "stderr",
     "output_type": "stream",
     "text": [
      "<ipython-input-26-aca7c6315909>:1: FutureWarning: The default value of numeric_only in DataFrameGroupBy.mean is deprecated. In a future version, numeric_only will default to False. Either specify numeric_only or select only columns which should be valid for the function.\n",
      "  X_test_est_hourly_A = X_test_est_A.resample('H').mean()\n",
      "<ipython-input-26-aca7c6315909>:5: FutureWarning: The default value of numeric_only in DataFrameGroupBy.mean is deprecated. In a future version, numeric_only will default to False. Either specify numeric_only or select only columns which should be valid for the function.\n",
      "  X_test_est_hourly_B = X_test_est_B.resample('H').mean()\n",
      "<ipython-input-26-aca7c6315909>:9: FutureWarning: The default value of numeric_only in DataFrameGroupBy.mean is deprecated. In a future version, numeric_only will default to False. Either specify numeric_only or select only columns which should be valid for the function.\n",
      "  X_test_est_hourly_C = X_test_est_C.resample('H').mean()\n"
     ]
    }
   ],
   "source": [
    "X_test_est_hourly_A = X_test_est_A.resample('H').mean()\n",
    "X_test_est_hourly_A.index = X_test_est_hourly_A.index.floor('H')\n",
    "X_test_est_hourly_A = X_test_est_hourly_A.dropna()\n",
    "\n",
    "X_test_est_hourly_B = X_test_est_B.resample('H').mean()\n",
    "X_test_est_hourly_B.index = X_test_est_hourly_B.index.floor('H')\n",
    "X_test_est_hourly_B = X_test_est_hourly_B.dropna()\n",
    "\n",
    "X_test_est_hourly_C = X_test_est_C.resample('H').mean()\n",
    "X_test_est_hourly_C.index = X_test_est_hourly_C.index.floor('H')\n",
    "X_test_est_hourly_C = X_test_est_hourly_C.dropna()"
   ]
  },
  {
   "cell_type": "code",
   "execution_count": 9,
   "metadata": {
    "id": "Xq-oCEVR5Rhv"
   },
   "outputs": [],
   "source": [
    "merged_df_train_est_A = merged_df_train_est_A.dropna()\n",
    "\n",
    "merged_df_train_est_B = merged_df_train_est_B.dropna()\n",
    "\n",
    "merged_df_train_est_C = merged_df_train_est_C.dropna()"
   ]
  },
  {
   "cell_type": "code",
   "execution_count": 10,
   "metadata": {
    "colab": {
     "base_uri": "https://localhost:8080/"
    },
    "id": "rSLUMsl45Ube",
    "outputId": "e39bb588-7d7a-42b6-b445-b0a6267b1e72"
   },
   "outputs": [
    {
     "name": "stdout",
     "output_type": "stream",
     "text": [
      "(29667, 42) (29667,)\n"
     ]
    }
   ],
   "source": [
    "features_name = [c for c in merged_df_train_obs_A.columns if c != 'pv_measurement']\n",
    "target = 'pv_measurement'\n",
    "X_A = merged_df_train_obs_A[features_name]\n",
    "y_A = merged_df_train_obs_A[target]\n",
    "print(X_A.shape, y_A.shape)\n",
    "X_B = merged_df_train_obs_B[features_name]\n",
    "y_B = merged_df_train_obs_B[target]\n",
    "\n",
    "X_C = merged_df_train_obs_C[features_name]\n",
    "y_C = merged_df_train_obs_C[target]"
   ]
  },
  {
   "cell_type": "markdown",
   "metadata": {
    "id": "xtyeIN5S6UOq"
   },
   "source": [
    "# FEATURE SELECTION"
   ]
  },
  {
   "cell_type": "code",
   "execution_count": 18,
   "metadata": {
    "id": "cjzC8t5WW7kY"
   },
   "outputs": [],
   "source": [
    "# decision tree for feature importance on a regression problem\n",
    "from sklearn.datasets import make_regression\n",
    "from sklearn.tree import DecisionTreeRegressor\n",
    "from matplotlib import pyplot as plt\n",
    "import numpy as np\n",
    "import seaborn as sns\n",
    "\n",
    "def RFFeature(X, y):\n",
    "# define dataset\n",
    "# define the model\n",
    "\n",
    "  model = DecisionTreeRegressor()\n",
    "  model.fit(X, y)\n",
    "  # get importance\n",
    "  importance = model.feature_importances_\n",
    "  dataRF = pd.DataFrame()\n",
    "  dataRF['Feature_name'] = features_name\n",
    "  dataRF['importance'] = importance\n",
    "  dataRF = dataRF.sort_values(by='importance',ascending = False)\n",
    "  \"\"\"\n",
    "  plt.figure(figsize=(20, 25))  # width:20, height:3\n",
    "\n",
    "  plot = plt.barh(dataRF['Feature_name'],dataRF['importance'])\n",
    "  plt.bar_label(plot)\n",
    "  plt.rc('ytick', labelsize=8)    # fontsize of the tick labels\n",
    "  \"\"\"\n",
    "  return dataRF['Feature_name'][0:10]\n"
   ]
  },
  {
   "cell_type": "code",
   "execution_count": 12,
   "metadata": {
    "id": "x3sY2XoHt4Zj"
   },
   "outputs": [],
   "source": [
    "import xgboost as xgb\n",
    "def XGBoostFeature(X, y):\n",
    "  model = xgb.XGBRegressor()\n",
    "  model.fit(X, y)\n",
    "\n",
    "  # get importance\n",
    "  importance = model.feature_importances_\n",
    "  dataXGB = pd.DataFrame()\n",
    "  dataXGB['Feature_name'] = features_name\n",
    "  dataXGB['importance'] = importance\n",
    "  dataXGB = dataXGB.sort_values(by='importance',ascending=False)\n",
    "  \"\"\"\n",
    "  plt.figure(figsize=(20, 25))  # width:20, height:3\n",
    "\n",
    "  plot = plt.barh(dataXGB['Feature_name'],dataXGB['importance'])\n",
    "  plt.bar_label(plot)\n",
    "  plt.rc('ytick', labelsize=8)    # fontsize of the tick labels\n",
    "  \"\"\"\n",
    "\n",
    "    # Get the names of the top features\n",
    "  selected_features = dataXGB['Feature_name'][0:10]\n",
    "  return selected_features"
   ]
  },
  {
   "cell_type": "markdown",
   "metadata": {
    "id": "tNBcNvq-FFoU"
   },
   "source": [
    "# Data Scaling"
   ]
  },
  {
   "cell_type": "code",
   "execution_count": 13,
   "metadata": {
    "id": "pieiRbACFJxu"
   },
   "outputs": [],
   "source": [
    "# Try to scale data:\n",
    "# Different types of scalers\n",
    "from sklearn.preprocessing import MinMaxScaler\n",
    "from sklearn.preprocessing import StandardScaler\n",
    "from sklearn.preprocessing import RobustScaler\n",
    "from sklearn.preprocessing import MaxAbsScaler\n",
    "from sklearn.preprocessing import QuantileTransformer\n",
    "#scaler = QuantileTransformer(output_distribution='normal')\n",
    "from sklearn.preprocessing import PowerTransformer\n",
    "#scaler = PowerTransformer(method='yeo-johnson')\n",
    "from sklearn.preprocessing import FunctionTransformer # This might be relevant for us\n",
    "#custom_scaler = FunctionTransformer(func=my_custom_scaler)\n",
    "def Scaler(X_train, X_test):\n",
    "  # Create a StandardScaler instance\n",
    "  #scaler = StandardScaler()\n",
    "  scaler = RobustScaler()\n",
    "\n",
    "  # Fit the scaler on the training data and transform it\n",
    "  X_train_scaled = scaler.fit_transform(X_train)\n",
    "\n",
    "  # Transform the test data using the same scaler\n",
    "  X_test_scaled = scaler.transform(X_test)\n",
    "  return X_train_scaled, X_test_scaled"
   ]
  },
  {
   "cell_type": "markdown",
   "metadata": {
    "id": "KEEVO0GT6qqn"
   },
   "source": [
    "# XGBRegressor\n",
    "\n"
   ]
  },
  {
   "cell_type": "code",
   "execution_count": 14,
   "metadata": {
    "id": "DVm78g3O--MS"
   },
   "outputs": [],
   "source": [
    "# Now we are going to find the right amount of features to use:\n",
    "from sklearn.ensemble import RandomForestRegressor\n",
    "from sklearn.metrics import mean_absolute_error\n",
    "def XGBRegressor(X_train, y_train, X_test):\n",
    "  xgb_model_A = xgb.XGBRegressor()\n",
    "  xgb_model_A.fit(X_train, y_train)\n",
    "\n",
    "  # Make predictions on the test set\n",
    "  y_pred = xgb_model_A.predict(X_test)\n",
    "  #mae = mean_absolute_error(y_test, y_pred_A)\n",
    "  return y_pred"
   ]
  },
  {
   "cell_type": "markdown",
   "metadata": {
    "id": "1bYsP3v6F1dm"
   },
   "source": [
    "# RandomForest"
   ]
  },
  {
   "cell_type": "code",
   "execution_count": 19,
   "metadata": {
    "id": "uFs-wYaZF3qz"
   },
   "outputs": [],
   "source": [
    "from sklearn.ensemble import RandomForestRegressor\n",
    "from sklearn.metrics import mean_absolute_error\n",
    "\n",
    "def RandomForest(X_train, y_train, X_test):\n",
    "  # Create and train the Random Forest model\n",
    "  rf_model = RandomForestRegressor()\n",
    "  rf_model.fit(X_train, y_train)\n",
    "\n",
    "  # Make predictions on the test set\n",
    "  y_pred = rf_model.predict(X_test)\n",
    "  return y_pred"
   ]
  },
  {
   "cell_type": "markdown",
   "metadata": {
    "id": "xMxH_vX1IoNT"
   },
   "source": [
    "# Full datasetup"
   ]
  },
  {
   "cell_type": "code",
   "execution_count": 20,
   "metadata": {
    "colab": {
     "base_uri": "https://localhost:8080/",
     "height": 425
    },
    "id": "D-LnrUaHMONq",
    "outputId": "2a748190-bf9a-4b7c-baba-4d5e21f9f364"
   },
   "outputs": [
    {
     "name": "stderr",
     "output_type": "stream",
     "text": [
      "<ipython-input-20-4360b9ef4602>:4: FutureWarning: The series.append method is deprecated and will be removed from pandas in a future version. Use pandas.concat instead.\n",
      "  selected_features_RF_A.append('pv_measurement')\n"
     ]
    },
    {
     "ename": "TypeError",
     "evalue": "ignored",
     "output_type": "error",
     "traceback": [
      "\u001b[0;31m---------------------------------------------------------------------------\u001b[0m",
      "\u001b[0;31mTypeError\u001b[0m                                 Traceback (most recent call last)",
      "\u001b[0;32m<ipython-input-20-4360b9ef4602>\u001b[0m in \u001b[0;36m<cell line: 4>\u001b[0;34m()\u001b[0m\n\u001b[1;32m      2\u001b[0m \u001b[0mselected_features_RF_A\u001b[0m \u001b[0;34m=\u001b[0m \u001b[0mRFFeature\u001b[0m\u001b[0;34m(\u001b[0m\u001b[0mX_A\u001b[0m\u001b[0;34m,\u001b[0m\u001b[0my_A\u001b[0m\u001b[0;34m)\u001b[0m\u001b[0;34m\u001b[0m\u001b[0;34m\u001b[0m\u001b[0m\n\u001b[1;32m      3\u001b[0m \u001b[0mselected_features_XGB_A\u001b[0m \u001b[0;34m=\u001b[0m \u001b[0mselected_features_XGB_A\u001b[0m\u001b[0;34m.\u001b[0m\u001b[0mto_list\u001b[0m\u001b[0;34m(\u001b[0m\u001b[0;34m)\u001b[0m\u001b[0;34m\u001b[0m\u001b[0;34m\u001b[0m\u001b[0m\n\u001b[0;32m----> 4\u001b[0;31m \u001b[0mselected_features_RF_A\u001b[0m\u001b[0;34m.\u001b[0m\u001b[0mappend\u001b[0m\u001b[0;34m(\u001b[0m\u001b[0;34m'pv_measurement'\u001b[0m\u001b[0;34m)\u001b[0m\u001b[0;34m\u001b[0m\u001b[0;34m\u001b[0m\u001b[0m\n\u001b[0m\u001b[1;32m      5\u001b[0m \u001b[0mwithout_target\u001b[0m \u001b[0;34m=\u001b[0m \u001b[0mselected_features_RF_A\u001b[0m\u001b[0;34m.\u001b[0m\u001b[0mcopy\u001b[0m\u001b[0;34m(\u001b[0m\u001b[0;34m)\u001b[0m\u001b[0;34m\u001b[0m\u001b[0;34m\u001b[0m\u001b[0m\n\u001b[1;32m      6\u001b[0m \u001b[0mwithout_target\u001b[0m\u001b[0;34m.\u001b[0m\u001b[0mremove\u001b[0m\u001b[0;34m(\u001b[0m\u001b[0;34m'pv_measurement'\u001b[0m\u001b[0;34m)\u001b[0m\u001b[0;34m\u001b[0m\u001b[0;34m\u001b[0m\u001b[0m\n",
      "\u001b[0;32m/usr/local/lib/python3.10/dist-packages/pandas/core/series.py\u001b[0m in \u001b[0;36mappend\u001b[0;34m(self, to_append, ignore_index, verify_integrity)\u001b[0m\n\u001b[1;32m   3138\u001b[0m         )\n\u001b[1;32m   3139\u001b[0m \u001b[0;34m\u001b[0m\u001b[0m\n\u001b[0;32m-> 3140\u001b[0;31m         \u001b[0;32mreturn\u001b[0m \u001b[0mself\u001b[0m\u001b[0;34m.\u001b[0m\u001b[0m_append\u001b[0m\u001b[0;34m(\u001b[0m\u001b[0mto_append\u001b[0m\u001b[0;34m,\u001b[0m \u001b[0mignore_index\u001b[0m\u001b[0;34m,\u001b[0m \u001b[0mverify_integrity\u001b[0m\u001b[0;34m)\u001b[0m\u001b[0;34m\u001b[0m\u001b[0;34m\u001b[0m\u001b[0m\n\u001b[0m\u001b[1;32m   3141\u001b[0m \u001b[0;34m\u001b[0m\u001b[0m\n\u001b[1;32m   3142\u001b[0m     def _append(\n",
      "\u001b[0;32m/usr/local/lib/python3.10/dist-packages/pandas/core/series.py\u001b[0m in \u001b[0;36m_append\u001b[0;34m(self, to_append, ignore_index, verify_integrity)\u001b[0m\n\u001b[1;32m   3153\u001b[0m             \u001b[0mmsg\u001b[0m \u001b[0;34m=\u001b[0m \u001b[0;34m\"to_append should be a Series or list/tuple of Series, got DataFrame\"\u001b[0m\u001b[0;34m\u001b[0m\u001b[0;34m\u001b[0m\u001b[0m\n\u001b[1;32m   3154\u001b[0m             \u001b[0;32mraise\u001b[0m \u001b[0mTypeError\u001b[0m\u001b[0;34m(\u001b[0m\u001b[0mmsg\u001b[0m\u001b[0;34m)\u001b[0m\u001b[0;34m\u001b[0m\u001b[0;34m\u001b[0m\u001b[0m\n\u001b[0;32m-> 3155\u001b[0;31m         return concat(\n\u001b[0m\u001b[1;32m   3156\u001b[0m             \u001b[0mto_concat\u001b[0m\u001b[0;34m,\u001b[0m \u001b[0mignore_index\u001b[0m\u001b[0;34m=\u001b[0m\u001b[0mignore_index\u001b[0m\u001b[0;34m,\u001b[0m \u001b[0mverify_integrity\u001b[0m\u001b[0;34m=\u001b[0m\u001b[0mverify_integrity\u001b[0m\u001b[0;34m\u001b[0m\u001b[0;34m\u001b[0m\u001b[0m\n\u001b[1;32m   3157\u001b[0m         )\n",
      "\u001b[0;32m/usr/local/lib/python3.10/dist-packages/pandas/util/_decorators.py\u001b[0m in \u001b[0;36mwrapper\u001b[0;34m(*args, **kwargs)\u001b[0m\n\u001b[1;32m    329\u001b[0m                     \u001b[0mstacklevel\u001b[0m\u001b[0;34m=\u001b[0m\u001b[0mfind_stack_level\u001b[0m\u001b[0;34m(\u001b[0m\u001b[0;34m)\u001b[0m\u001b[0;34m,\u001b[0m\u001b[0;34m\u001b[0m\u001b[0;34m\u001b[0m\u001b[0m\n\u001b[1;32m    330\u001b[0m                 )\n\u001b[0;32m--> 331\u001b[0;31m             \u001b[0;32mreturn\u001b[0m \u001b[0mfunc\u001b[0m\u001b[0;34m(\u001b[0m\u001b[0;34m*\u001b[0m\u001b[0margs\u001b[0m\u001b[0;34m,\u001b[0m \u001b[0;34m**\u001b[0m\u001b[0mkwargs\u001b[0m\u001b[0;34m)\u001b[0m\u001b[0;34m\u001b[0m\u001b[0;34m\u001b[0m\u001b[0m\n\u001b[0m\u001b[1;32m    332\u001b[0m \u001b[0;34m\u001b[0m\u001b[0m\n\u001b[1;32m    333\u001b[0m         \u001b[0;31m# error: \"Callable[[VarArg(Any), KwArg(Any)], Any]\" has no\u001b[0m\u001b[0;34m\u001b[0m\u001b[0;34m\u001b[0m\u001b[0m\n",
      "\u001b[0;32m/usr/local/lib/python3.10/dist-packages/pandas/core/reshape/concat.py\u001b[0m in \u001b[0;36mconcat\u001b[0;34m(objs, axis, join, ignore_index, keys, levels, names, verify_integrity, sort, copy)\u001b[0m\n\u001b[1;32m    366\u001b[0m     \u001b[0;36m1\u001b[0m   \u001b[0;36m3\u001b[0m   \u001b[0;36m4\u001b[0m\u001b[0;34m\u001b[0m\u001b[0;34m\u001b[0m\u001b[0m\n\u001b[1;32m    367\u001b[0m     \"\"\"\n\u001b[0;32m--> 368\u001b[0;31m     op = _Concatenator(\n\u001b[0m\u001b[1;32m    369\u001b[0m         \u001b[0mobjs\u001b[0m\u001b[0;34m,\u001b[0m\u001b[0;34m\u001b[0m\u001b[0;34m\u001b[0m\u001b[0m\n\u001b[1;32m    370\u001b[0m         \u001b[0maxis\u001b[0m\u001b[0;34m=\u001b[0m\u001b[0maxis\u001b[0m\u001b[0;34m,\u001b[0m\u001b[0;34m\u001b[0m\u001b[0;34m\u001b[0m\u001b[0m\n",
      "\u001b[0;32m/usr/local/lib/python3.10/dist-packages/pandas/core/reshape/concat.py\u001b[0m in \u001b[0;36m__init__\u001b[0;34m(self, objs, axis, join, keys, levels, names, ignore_index, verify_integrity, copy, sort)\u001b[0m\n\u001b[1;32m    456\u001b[0m                     \u001b[0;34m\"only Series and DataFrame objs are valid\"\u001b[0m\u001b[0;34m\u001b[0m\u001b[0;34m\u001b[0m\u001b[0m\n\u001b[1;32m    457\u001b[0m                 )\n\u001b[0;32m--> 458\u001b[0;31m                 \u001b[0;32mraise\u001b[0m \u001b[0mTypeError\u001b[0m\u001b[0;34m(\u001b[0m\u001b[0mmsg\u001b[0m\u001b[0;34m)\u001b[0m\u001b[0;34m\u001b[0m\u001b[0;34m\u001b[0m\u001b[0m\n\u001b[0m\u001b[1;32m    459\u001b[0m \u001b[0;34m\u001b[0m\u001b[0m\n\u001b[1;32m    460\u001b[0m             \u001b[0mndims\u001b[0m\u001b[0;34m.\u001b[0m\u001b[0madd\u001b[0m\u001b[0;34m(\u001b[0m\u001b[0mobj\u001b[0m\u001b[0;34m.\u001b[0m\u001b[0mndim\u001b[0m\u001b[0;34m)\u001b[0m\u001b[0;34m\u001b[0m\u001b[0;34m\u001b[0m\u001b[0m\n",
      "\u001b[0;31mTypeError\u001b[0m: cannot concatenate object of type '<class 'str'>'; only Series and DataFrame objs are valid"
     ]
    }
   ],
   "source": [
    "selected_features_XGB_A = XGBoostFeature(X_A,y_A)\n",
    "selected_features_RF_A = RFFeature(X_A,y_A)\n",
    "selected_features_XGB_A = selected_features_XGB_A.to_list()\n",
    "selected_features_RF_A.append('pv_measurement')\n",
    "without_target = selected_features_RF_A.copy()\n",
    "without_target.remove('pv_measurement')"
   ]
  },
  {
   "cell_type": "code",
   "execution_count": null,
   "metadata": {
    "id": "AqzwZkDzMOCP"
   },
   "outputs": [],
   "source": [
    "selected_features_XGB_B = XGBoostFeature(X_B,y_B)\n",
    "selected_features_RF_B = RFFeature(X_B,y_B)\n",
    "selected_features_XGB_B = selected_features_XGB_B.to_list()\n",
    "selected_features_XGB_B.append('pv_measurement')\n",
    "without_target = selected_features_XGB_B.copy()\n",
    "without_target.remove('pv_measurement')"
   ]
  },
  {
   "cell_type": "code",
   "execution_count": null,
   "metadata": {
    "id": "WmYUthXN7aoM"
   },
   "outputs": [],
   "source": [
    "selected_features_XGB_C = XGBoostFeature(X_C,y_C)\n",
    "selected_features_RF_C = RFFeature(X_C,y_C)\n",
    "selected_features_XGB_C = selected_features_XGB_C.to_list()\n",
    "selected_features_XGB_C.append('pv_measurement')\n",
    "without_target = selected_features_XGB_C.copy()\n",
    "without_target.remove('pv_measurement')"
   ]
  },
  {
   "cell_type": "code",
   "execution_count": 27,
   "metadata": {
    "id": "WNCif799DR2r"
   },
   "outputs": [],
   "source": [
    "full_train_dataA = pd.concat([merged_df_train_obs_A,merged_df_train_obs_A])\n",
    "full_train_dataB = pd.concat([merged_df_train_obs_B,merged_df_train_obs_B])\n",
    "full_train_dataC = pd.concat([merged_df_train_obs_C,merged_df_train_obs_C])"
   ]
  },
  {
   "cell_type": "code",
   "execution_count": 22,
   "metadata": {
    "colab": {
     "base_uri": "https://localhost:8080/",
     "height": 245
    },
    "id": "pgmKyBDABw2x",
    "outputId": "eec85055-2938-48b2-c1d7-0be74cce29fb"
   },
   "outputs": [
    {
     "ename": "NameError",
     "evalue": "ignored",
     "output_type": "error",
     "traceback": [
      "\u001b[0;31m---------------------------------------------------------------------------\u001b[0m",
      "\u001b[0;31mNameError\u001b[0m                                 Traceback (most recent call last)",
      "\u001b[0;32m<ipython-input-22-0b32fb210158>\u001b[0m in \u001b[0;36m<cell line: 1>\u001b[0;34m()\u001b[0m\n\u001b[0;32m----> 1\u001b[0;31m \u001b[0mX_train_A\u001b[0m \u001b[0;34m=\u001b[0m \u001b[0mfull_train_dataA\u001b[0m\u001b[0;34m[\u001b[0m\u001b[0mwithout_target\u001b[0m\u001b[0;34m]\u001b[0m\u001b[0;34m\u001b[0m\u001b[0;34m\u001b[0m\u001b[0m\n\u001b[0m\u001b[1;32m      2\u001b[0m \u001b[0my_train_A\u001b[0m \u001b[0;34m=\u001b[0m \u001b[0mfull_train_dataA\u001b[0m\u001b[0;34m[\u001b[0m\u001b[0;34m'pv_measurement'\u001b[0m\u001b[0;34m]\u001b[0m\u001b[0;34m\u001b[0m\u001b[0;34m\u001b[0m\u001b[0m\n\u001b[1;32m      3\u001b[0m \u001b[0mX_test_A\u001b[0m \u001b[0;34m=\u001b[0m \u001b[0mX_test_est_hourly_A\u001b[0m\u001b[0;34m[\u001b[0m\u001b[0mwithout_target\u001b[0m\u001b[0;34m]\u001b[0m\u001b[0;34m\u001b[0m\u001b[0;34m\u001b[0m\u001b[0m\n\u001b[1;32m      4\u001b[0m \u001b[0;34m\u001b[0m\u001b[0m\n\u001b[1;32m      5\u001b[0m \u001b[0mX_train_B\u001b[0m \u001b[0;34m=\u001b[0m \u001b[0mfull_train_dataB\u001b[0m\u001b[0;34m[\u001b[0m\u001b[0mwithout_target\u001b[0m\u001b[0;34m]\u001b[0m\u001b[0;34m\u001b[0m\u001b[0;34m\u001b[0m\u001b[0m\n",
      "\u001b[0;31mNameError\u001b[0m: name 'without_target' is not defined"
     ]
    }
   ],
   "source": [
    "X_train_A = full_train_dataA[without_target]\n",
    "y_train_A = full_train_dataA['pv_measurement']\n",
    "X_test_A = X_test_est_hourly_A[without_target]\n",
    "\n",
    "X_train_B = full_train_dataB[without_target]\n",
    "y_train_B = full_train_dataB['pv_measurement']\n",
    "X_test_B = X_test_est_hourly_B[without_target]\n",
    "\n",
    "X_train_C = full_train_dataC[without_target]\n",
    "y_train_C = full_train_dataC['pv_measurement']\n",
    "X_test_C = X_test_est_hourly_C[without_target]"
   ]
  },
  {
   "cell_type": "code",
   "execution_count": null,
   "metadata": {
    "id": "lfekQdWiI4K_"
   },
   "outputs": [],
   "source": [
    "X_train_A_scaled, X_test_A_scaled = Scaler(X_train_A, X_test_A)\n",
    "X_train_B_scaled, X_test_B_scaled = Scaler(X_train_B, X_test_B)\n",
    "X_train_C_scaled, X_test_C_scaled = Scaler(X_train_C, X_test_C)"
   ]
  },
  {
   "cell_type": "code",
   "execution_count": null,
   "metadata": {
    "id": "XHqePzDYGXKU"
   },
   "outputs": [],
   "source": [
    "X_train_A_scaled_df = pd.DataFrame(X_train_A_scaled, columns=X_train_A.columns)\n",
    "X_test_A_scaled_df = pd.DataFrame(X_test_A_scaled, columns=X_test_A.columns)\n",
    "\n",
    "X_train_B_scaled_df = pd.DataFrame(X_train_B_scaled, columns=X_train_B.columns)\n",
    "X_test_B_scaled_df = pd.DataFrame(X_test_B_scaled, columns=X_test_B.columns)\n",
    "\n",
    "X_train_C_scaled_df = pd.DataFrame(X_train_C_scaled, columns=X_train_C.columns)\n",
    "X_test_C_scaled_df = pd.DataFrame(X_test_C_scaled, columns=X_test_C.columns)"
   ]
  },
  {
   "cell_type": "markdown",
   "metadata": {
    "id": "TcppXaCnYIRR"
   },
   "source": [
    "# Dense"
   ]
  },
  {
   "cell_type": "code",
   "execution_count": null,
   "metadata": {
    "id": "NJ871XU8SzBm"
   },
   "outputs": [],
   "source": [
    "import tensorflow as tf\n",
    "from tensorflow import keras\n",
    "from sklearn.metrics import mean_absolute_error\n",
    "from sklearn.model_selection import train_test_split\n",
    "\n",
    "# Define the neural network model\n",
    "model = keras.Sequential([\n",
    "    keras.layers.Dense(128, activation='relu', input_shape=(X_train_C.shape[1],)),\n",
    "    keras.layers.Dense(64, activation='relu'),\n",
    "    keras.layers.Dense(64, activation='relu'),\n",
    "\n",
    "    keras.layers.Dense(1)  # Output layer with one neuron for regression\n",
    "])\n",
    "\n",
    "\n",
    "# Compile the model\n",
    "model.compile(optimizer='adam', loss='mean_squared_error')  # You can use other loss functions as well\n",
    "\n"
   ]
  },
  {
   "cell_type": "code",
   "execution_count": null,
   "metadata": {
    "id": "08OyjTT9X6fN"
   },
   "outputs": [],
   "source": [
    "def Dense(X, y, X_test):\n",
    "\n",
    "  # Train the model\n",
    "  model.fit(X, y, epochs=50, batch_size=4, validation_split=0.5)  # Adjust epochs and batch size as needed\n",
    "\n",
    "  # Make predictions on the test set\n",
    "  y_pred_C = model.predict(X_test)\n",
    "\n",
    "  # Flatten predictions to 1D array\n",
    "  y_pred_C = y_pred_C.flatten()\n",
    "  return y_pred_C"
   ]
  },
  {
   "cell_type": "markdown",
   "metadata": {
    "id": "K9xDaJdMpwCh"
   },
   "source": [
    "# AutoML"
   ]
  },
  {
   "cell_type": "code",
   "execution_count": null,
   "metadata": {
    "colab": {
     "base_uri": "https://localhost:8080/"
    },
    "id": "iBL89pyhpyUQ",
    "outputId": "d2fcdc23-d486-4447-99eb-5ad394feaff8"
   },
   "outputs": [
    {
     "name": "stdout",
     "output_type": "stream",
     "text": [
      "Requirement already satisfied: h2o in /usr/local/lib/python3.10/dist-packages (3.42.0.4)\n",
      "Requirement already satisfied: requests in /usr/local/lib/python3.10/dist-packages (from h2o) (2.31.0)\n",
      "Requirement already satisfied: tabulate in /usr/local/lib/python3.10/dist-packages (from h2o) (0.9.0)\n",
      "Requirement already satisfied: charset-normalizer<4,>=2 in /usr/local/lib/python3.10/dist-packages (from requests->h2o) (3.3.0)\n",
      "Requirement already satisfied: idna<4,>=2.5 in /usr/local/lib/python3.10/dist-packages (from requests->h2o) (3.4)\n",
      "Requirement already satisfied: urllib3<3,>=1.21.1 in /usr/local/lib/python3.10/dist-packages (from requests->h2o) (2.0.6)\n",
      "Requirement already satisfied: certifi>=2017.4.17 in /usr/local/lib/python3.10/dist-packages (from requests->h2o) (2023.7.22)\n"
     ]
    }
   ],
   "source": [
    "!pip install h2o"
   ]
  },
  {
   "cell_type": "code",
   "execution_count": null,
   "metadata": {
    "colab": {
     "base_uri": "https://localhost:8080/",
     "height": 379
    },
    "id": "4QhJKqgrRSly",
    "outputId": "05afae86-db33-4081-a7f1-05dd41deff10"
   },
   "outputs": [
    {
     "name": "stdout",
     "output_type": "stream",
     "text": [
      "Checking whether there is an H2O instance running at http://localhost:54321. connected.\n"
     ]
    },
    {
     "data": {
      "text/html": [
       "\n",
       "<style>\n",
       "\n",
       "#h2o-table-7.h2o-container {\n",
       "  overflow-x: auto;\n",
       "}\n",
       "#h2o-table-7 .h2o-table {\n",
       "  /* width: 100%; */\n",
       "  margin-top: 1em;\n",
       "  margin-bottom: 1em;\n",
       "}\n",
       "#h2o-table-7 .h2o-table caption {\n",
       "  white-space: nowrap;\n",
       "  caption-side: top;\n",
       "  text-align: left;\n",
       "  /* margin-left: 1em; */\n",
       "  margin: 0;\n",
       "  font-size: larger;\n",
       "}\n",
       "#h2o-table-7 .h2o-table thead {\n",
       "  white-space: nowrap; \n",
       "  position: sticky;\n",
       "  top: 0;\n",
       "  box-shadow: 0 -1px inset;\n",
       "}\n",
       "#h2o-table-7 .h2o-table tbody {\n",
       "  overflow: auto;\n",
       "}\n",
       "#h2o-table-7 .h2o-table th,\n",
       "#h2o-table-7 .h2o-table td {\n",
       "  text-align: right;\n",
       "  /* border: 1px solid; */\n",
       "}\n",
       "#h2o-table-7 .h2o-table tr:nth-child(even) {\n",
       "  /* background: #F5F5F5 */\n",
       "}\n",
       "\n",
       "</style>      \n",
       "<div id=\"h2o-table-7\" class=\"h2o-container\">\n",
       "  <table class=\"h2o-table\">\n",
       "    <caption></caption>\n",
       "    <thead></thead>\n",
       "    <tbody><tr><td>H2O_cluster_uptime:</td>\n",
       "<td>4 mins 15 secs</td></tr>\n",
       "<tr><td>H2O_cluster_timezone:</td>\n",
       "<td>Etc/UTC</td></tr>\n",
       "<tr><td>H2O_data_parsing_timezone:</td>\n",
       "<td>UTC</td></tr>\n",
       "<tr><td>H2O_cluster_version:</td>\n",
       "<td>3.42.0.4</td></tr>\n",
       "<tr><td>H2O_cluster_version_age:</td>\n",
       "<td>10 days</td></tr>\n",
       "<tr><td>H2O_cluster_name:</td>\n",
       "<td>H2O_from_python_unknownUser_41orta</td></tr>\n",
       "<tr><td>H2O_cluster_total_nodes:</td>\n",
       "<td>1</td></tr>\n",
       "<tr><td>H2O_cluster_free_memory:</td>\n",
       "<td>3.170 Gb</td></tr>\n",
       "<tr><td>H2O_cluster_total_cores:</td>\n",
       "<td>2</td></tr>\n",
       "<tr><td>H2O_cluster_allowed_cores:</td>\n",
       "<td>2</td></tr>\n",
       "<tr><td>H2O_cluster_status:</td>\n",
       "<td>locked, healthy</td></tr>\n",
       "<tr><td>H2O_connection_url:</td>\n",
       "<td>http://localhost:54321</td></tr>\n",
       "<tr><td>H2O_connection_proxy:</td>\n",
       "<td>{\"http\": null, \"https\": null, \"colab_language_server\": \"/usr/colab/bin/language_service\"}</td></tr>\n",
       "<tr><td>H2O_internal_security:</td>\n",
       "<td>False</td></tr>\n",
       "<tr><td>Python_version:</td>\n",
       "<td>3.10.12 final</td></tr></tbody>\n",
       "  </table>\n",
       "</div>\n"
      ],
      "text/plain": [
       "--------------------------  -----------------------------------------------------------------------------------------\n",
       "H2O_cluster_uptime:         4 mins 15 secs\n",
       "H2O_cluster_timezone:       Etc/UTC\n",
       "H2O_data_parsing_timezone:  UTC\n",
       "H2O_cluster_version:        3.42.0.4\n",
       "H2O_cluster_version_age:    10 days\n",
       "H2O_cluster_name:           H2O_from_python_unknownUser_41orta\n",
       "H2O_cluster_total_nodes:    1\n",
       "H2O_cluster_free_memory:    3.170 Gb\n",
       "H2O_cluster_total_cores:    2\n",
       "H2O_cluster_allowed_cores:  2\n",
       "H2O_cluster_status:         locked, healthy\n",
       "H2O_connection_url:         http://localhost:54321\n",
       "H2O_connection_proxy:       {\"http\": null, \"https\": null, \"colab_language_server\": \"/usr/colab/bin/language_service\"}\n",
       "H2O_internal_security:      False\n",
       "Python_version:             3.10.12 final\n",
       "--------------------------  -----------------------------------------------------------------------------------------"
      ]
     },
     "metadata": {},
     "output_type": "display_data"
    }
   ],
   "source": [
    "import h2o\n",
    "from h2o.automl import H2OAutoML\n",
    "h2o.init()"
   ]
  },
  {
   "cell_type": "code",
   "execution_count": null,
   "metadata": {
    "id": "NN5emEyKqLUi"
   },
   "outputs": [],
   "source": [
    "\n",
    "def autoML(X,X_test):\n",
    "\n",
    "  aml = H2OAutoML(max_models = 20, seed = 10, verbosity=\"info\", nfolds=0)\n",
    "  y = \"pv_measurement\"\n",
    "  x = X.columns\n",
    "  x=x.to_list()\n",
    "  hf = h2o.H2OFrame(X)\n",
    "  aml.train(x = x, y = y, training_frame = hf)\n",
    "  ht = h2o.H2OFrame(X_test)\n",
    "\n",
    "  preds = aml.predict(ht)\n",
    "  lb = aml.leaderboard\n",
    "  lb.head()\n",
    "  return preds.as_data_frame()"
   ]
  },
  {
   "cell_type": "markdown",
   "metadata": {
    "id": "YAubAelYIIwy"
   },
   "source": [
    "# PREDICTION"
   ]
  },
  {
   "cell_type": "code",
   "execution_count": 28,
   "metadata": {
    "colab": {
     "base_uri": "https://localhost:8080/",
     "height": 356
    },
    "id": "gKC83QtvKBuz",
    "outputId": "b723ac50-37ce-4112-f0eb-a38cbb136f12"
   },
   "outputs": [
    {
     "ename": "ValueError",
     "evalue": "ignored",
     "output_type": "error",
     "traceback": [
      "\u001b[0;31m---------------------------------------------------------------------------\u001b[0m",
      "\u001b[0;31mValueError\u001b[0m                                Traceback (most recent call last)",
      "\u001b[0;32m<ipython-input-28-48277b239237>\u001b[0m in \u001b[0;36m<cell line: 1>\u001b[0;34m()\u001b[0m\n\u001b[0;32m----> 1\u001b[0;31m \u001b[0my_pred_random_A\u001b[0m \u001b[0;34m=\u001b[0m \u001b[0mRandomForest\u001b[0m\u001b[0;34m(\u001b[0m\u001b[0mfull_train_dataA\u001b[0m\u001b[0;34m,\u001b[0m\u001b[0my_A\u001b[0m\u001b[0;34m,\u001b[0m \u001b[0mX_test_est_hourly_A\u001b[0m\u001b[0;34m)\u001b[0m\u001b[0;34m\u001b[0m\u001b[0;34m\u001b[0m\u001b[0m\n\u001b[0m\u001b[1;32m      2\u001b[0m \u001b[0my_pred_random_B\u001b[0m \u001b[0;34m=\u001b[0m \u001b[0mRandomForest\u001b[0m\u001b[0;34m(\u001b[0m\u001b[0mfull_train_dataB\u001b[0m\u001b[0;34m,\u001b[0m\u001b[0my_B\u001b[0m\u001b[0;34m,\u001b[0m \u001b[0mX_test_est_hourly_B\u001b[0m\u001b[0;34m)\u001b[0m\u001b[0;34m\u001b[0m\u001b[0;34m\u001b[0m\u001b[0m\n\u001b[1;32m      3\u001b[0m \u001b[0my_pred_random_C\u001b[0m \u001b[0;34m=\u001b[0m \u001b[0mRandomForest\u001b[0m\u001b[0;34m(\u001b[0m\u001b[0mfull_train_dataC\u001b[0m\u001b[0;34m,\u001b[0m\u001b[0my_C\u001b[0m\u001b[0;34m,\u001b[0m \u001b[0mX_test_est_hourly_C\u001b[0m\u001b[0;34m)\u001b[0m\u001b[0;34m\u001b[0m\u001b[0;34m\u001b[0m\u001b[0m\n",
      "\u001b[0;32m<ipython-input-19-04b866bfdce9>\u001b[0m in \u001b[0;36mRandomForest\u001b[0;34m(X_train, y_train, X_test)\u001b[0m\n\u001b[1;32m      5\u001b[0m   \u001b[0;31m# Create and train the Random Forest model\u001b[0m\u001b[0;34m\u001b[0m\u001b[0;34m\u001b[0m\u001b[0m\n\u001b[1;32m      6\u001b[0m   \u001b[0mrf_model\u001b[0m \u001b[0;34m=\u001b[0m \u001b[0mRandomForestRegressor\u001b[0m\u001b[0;34m(\u001b[0m\u001b[0;34m)\u001b[0m\u001b[0;34m\u001b[0m\u001b[0;34m\u001b[0m\u001b[0m\n\u001b[0;32m----> 7\u001b[0;31m   \u001b[0mrf_model\u001b[0m\u001b[0;34m.\u001b[0m\u001b[0mfit\u001b[0m\u001b[0;34m(\u001b[0m\u001b[0mX_train\u001b[0m\u001b[0;34m,\u001b[0m \u001b[0my_train\u001b[0m\u001b[0;34m)\u001b[0m\u001b[0;34m\u001b[0m\u001b[0;34m\u001b[0m\u001b[0m\n\u001b[0m\u001b[1;32m      8\u001b[0m \u001b[0;34m\u001b[0m\u001b[0m\n\u001b[1;32m      9\u001b[0m   \u001b[0;31m# Make predictions on the test set\u001b[0m\u001b[0;34m\u001b[0m\u001b[0;34m\u001b[0m\u001b[0m\n",
      "\u001b[0;32m/usr/local/lib/python3.10/dist-packages/sklearn/ensemble/_forest.py\u001b[0m in \u001b[0;36mfit\u001b[0;34m(self, X, y, sample_weight)\u001b[0m\n\u001b[1;32m    343\u001b[0m         \u001b[0;32mif\u001b[0m \u001b[0missparse\u001b[0m\u001b[0;34m(\u001b[0m\u001b[0my\u001b[0m\u001b[0;34m)\u001b[0m\u001b[0;34m:\u001b[0m\u001b[0;34m\u001b[0m\u001b[0;34m\u001b[0m\u001b[0m\n\u001b[1;32m    344\u001b[0m             \u001b[0;32mraise\u001b[0m \u001b[0mValueError\u001b[0m\u001b[0;34m(\u001b[0m\u001b[0;34m\"sparse multilabel-indicator for y is not supported.\"\u001b[0m\u001b[0;34m)\u001b[0m\u001b[0;34m\u001b[0m\u001b[0;34m\u001b[0m\u001b[0m\n\u001b[0;32m--> 345\u001b[0;31m         X, y = self._validate_data(\n\u001b[0m\u001b[1;32m    346\u001b[0m             \u001b[0mX\u001b[0m\u001b[0;34m,\u001b[0m \u001b[0my\u001b[0m\u001b[0;34m,\u001b[0m \u001b[0mmulti_output\u001b[0m\u001b[0;34m=\u001b[0m\u001b[0;32mTrue\u001b[0m\u001b[0;34m,\u001b[0m \u001b[0maccept_sparse\u001b[0m\u001b[0;34m=\u001b[0m\u001b[0;34m\"csc\"\u001b[0m\u001b[0;34m,\u001b[0m \u001b[0mdtype\u001b[0m\u001b[0;34m=\u001b[0m\u001b[0mDTYPE\u001b[0m\u001b[0;34m\u001b[0m\u001b[0;34m\u001b[0m\u001b[0m\n\u001b[1;32m    347\u001b[0m         )\n",
      "\u001b[0;32m/usr/local/lib/python3.10/dist-packages/sklearn/base.py\u001b[0m in \u001b[0;36m_validate_data\u001b[0;34m(self, X, y, reset, validate_separately, **check_params)\u001b[0m\n\u001b[1;32m    582\u001b[0m                 \u001b[0my\u001b[0m \u001b[0;34m=\u001b[0m \u001b[0mcheck_array\u001b[0m\u001b[0;34m(\u001b[0m\u001b[0my\u001b[0m\u001b[0;34m,\u001b[0m \u001b[0minput_name\u001b[0m\u001b[0;34m=\u001b[0m\u001b[0;34m\"y\"\u001b[0m\u001b[0;34m,\u001b[0m \u001b[0;34m**\u001b[0m\u001b[0mcheck_y_params\u001b[0m\u001b[0;34m)\u001b[0m\u001b[0;34m\u001b[0m\u001b[0;34m\u001b[0m\u001b[0m\n\u001b[1;32m    583\u001b[0m             \u001b[0;32melse\u001b[0m\u001b[0;34m:\u001b[0m\u001b[0;34m\u001b[0m\u001b[0;34m\u001b[0m\u001b[0m\n\u001b[0;32m--> 584\u001b[0;31m                 \u001b[0mX\u001b[0m\u001b[0;34m,\u001b[0m \u001b[0my\u001b[0m \u001b[0;34m=\u001b[0m \u001b[0mcheck_X_y\u001b[0m\u001b[0;34m(\u001b[0m\u001b[0mX\u001b[0m\u001b[0;34m,\u001b[0m \u001b[0my\u001b[0m\u001b[0;34m,\u001b[0m \u001b[0;34m**\u001b[0m\u001b[0mcheck_params\u001b[0m\u001b[0;34m)\u001b[0m\u001b[0;34m\u001b[0m\u001b[0;34m\u001b[0m\u001b[0m\n\u001b[0m\u001b[1;32m    585\u001b[0m             \u001b[0mout\u001b[0m \u001b[0;34m=\u001b[0m \u001b[0mX\u001b[0m\u001b[0;34m,\u001b[0m \u001b[0my\u001b[0m\u001b[0;34m\u001b[0m\u001b[0;34m\u001b[0m\u001b[0m\n\u001b[1;32m    586\u001b[0m \u001b[0;34m\u001b[0m\u001b[0m\n",
      "\u001b[0;32m/usr/local/lib/python3.10/dist-packages/sklearn/utils/validation.py\u001b[0m in \u001b[0;36mcheck_X_y\u001b[0;34m(X, y, accept_sparse, accept_large_sparse, dtype, order, copy, force_all_finite, ensure_2d, allow_nd, multi_output, ensure_min_samples, ensure_min_features, y_numeric, estimator)\u001b[0m\n\u001b[1;32m   1122\u001b[0m     \u001b[0my\u001b[0m \u001b[0;34m=\u001b[0m \u001b[0m_check_y\u001b[0m\u001b[0;34m(\u001b[0m\u001b[0my\u001b[0m\u001b[0;34m,\u001b[0m \u001b[0mmulti_output\u001b[0m\u001b[0;34m=\u001b[0m\u001b[0mmulti_output\u001b[0m\u001b[0;34m,\u001b[0m \u001b[0my_numeric\u001b[0m\u001b[0;34m=\u001b[0m\u001b[0my_numeric\u001b[0m\u001b[0;34m,\u001b[0m \u001b[0mestimator\u001b[0m\u001b[0;34m=\u001b[0m\u001b[0mestimator\u001b[0m\u001b[0;34m)\u001b[0m\u001b[0;34m\u001b[0m\u001b[0;34m\u001b[0m\u001b[0m\n\u001b[1;32m   1123\u001b[0m \u001b[0;34m\u001b[0m\u001b[0m\n\u001b[0;32m-> 1124\u001b[0;31m     \u001b[0mcheck_consistent_length\u001b[0m\u001b[0;34m(\u001b[0m\u001b[0mX\u001b[0m\u001b[0;34m,\u001b[0m \u001b[0my\u001b[0m\u001b[0;34m)\u001b[0m\u001b[0;34m\u001b[0m\u001b[0;34m\u001b[0m\u001b[0m\n\u001b[0m\u001b[1;32m   1125\u001b[0m \u001b[0;34m\u001b[0m\u001b[0m\n\u001b[1;32m   1126\u001b[0m     \u001b[0;32mreturn\u001b[0m \u001b[0mX\u001b[0m\u001b[0;34m,\u001b[0m \u001b[0my\u001b[0m\u001b[0;34m\u001b[0m\u001b[0;34m\u001b[0m\u001b[0m\n",
      "\u001b[0;32m/usr/local/lib/python3.10/dist-packages/sklearn/utils/validation.py\u001b[0m in \u001b[0;36mcheck_consistent_length\u001b[0;34m(*arrays)\u001b[0m\n\u001b[1;32m    395\u001b[0m     \u001b[0muniques\u001b[0m \u001b[0;34m=\u001b[0m \u001b[0mnp\u001b[0m\u001b[0;34m.\u001b[0m\u001b[0munique\u001b[0m\u001b[0;34m(\u001b[0m\u001b[0mlengths\u001b[0m\u001b[0;34m)\u001b[0m\u001b[0;34m\u001b[0m\u001b[0;34m\u001b[0m\u001b[0m\n\u001b[1;32m    396\u001b[0m     \u001b[0;32mif\u001b[0m \u001b[0mlen\u001b[0m\u001b[0;34m(\u001b[0m\u001b[0muniques\u001b[0m\u001b[0;34m)\u001b[0m \u001b[0;34m>\u001b[0m \u001b[0;36m1\u001b[0m\u001b[0;34m:\u001b[0m\u001b[0;34m\u001b[0m\u001b[0;34m\u001b[0m\u001b[0m\n\u001b[0;32m--> 397\u001b[0;31m         raise ValueError(\n\u001b[0m\u001b[1;32m    398\u001b[0m             \u001b[0;34m\"Found input variables with inconsistent numbers of samples: %r\"\u001b[0m\u001b[0;34m\u001b[0m\u001b[0;34m\u001b[0m\u001b[0m\n\u001b[1;32m    399\u001b[0m             \u001b[0;34m%\u001b[0m \u001b[0;34m[\u001b[0m\u001b[0mint\u001b[0m\u001b[0;34m(\u001b[0m\u001b[0ml\u001b[0m\u001b[0;34m)\u001b[0m \u001b[0;32mfor\u001b[0m \u001b[0ml\u001b[0m \u001b[0;32min\u001b[0m \u001b[0mlengths\u001b[0m\u001b[0;34m]\u001b[0m\u001b[0;34m\u001b[0m\u001b[0;34m\u001b[0m\u001b[0m\n",
      "\u001b[0;31mValueError\u001b[0m: Found input variables with inconsistent numbers of samples: [59334, 29667]"
     ]
    }
   ],
   "source": [
    "y_pred_random_A = RandomForest(full_train_dataA,y_A, X_test_est_hourly_A)\n",
    "y_pred_random_B = RandomForest(full_train_dataB,y_B, X_test_est_hourly_B)\n",
    "y_pred_random_C = RandomForest(full_train_dataC,y_C, X_test_est_hourly_C)\n"
   ]
  },
  {
   "cell_type": "markdown",
   "metadata": {
    "id": "h5cimCdflyEX"
   },
   "source": [
    "# SAVE"
   ]
  },
  {
   "cell_type": "code",
   "execution_count": null,
   "metadata": {
    "colab": {
     "base_uri": "https://localhost:8080/",
     "height": 265
    },
    "id": "fUMXKN5nNBXg",
    "outputId": "47850ce7-153c-438f-90fa-8cf4c9237e7c"
   },
   "outputs": [
    {
     "name": "stdout",
     "output_type": "stream",
     "text": [
      "[[-1.927001714706421], [-1.6654229164123535], [-3.520737409591675], [54.71662521362305], [446.1569519042969], [1119.304443359375], [1739.0592041015625], [2617.091796875], [2939.14599609375], [2294.281982421875], [1463.595703125], [2974.105224609375], [1793.1697998046875], [1792.0360107421875], [2027.7410888671875], [1398.2659912109375], [1363.3009033203125], [359.0007629394531], [344.4584350585937], [18.31972885131836], [-1.4261530637741089], [-0.2947223484516144], [2.240716457366944], [-0.5327792763710022], [2.145625114440918], [9.038496971130373], [11.491759300231934], [141.6396026611328], [477.3408508300781], [1171.0556640625], [1454.777099609375], [2219.45849609375], [3347.98486328125], [4659.1923828125], [3591.92724609375], [2845.750732421875], [2966.677001953125], [3286.93994140625], [3463.971923828125], [2340.25341796875], [1964.9140625], [998.0388793945312], [488.0714721679688], [73.04940795898438], [0.8759483098983765], [-9.74923038482666], [-2.4016501903533936], [-6.019851207733154], [-1.1810641288757324], [-0.0683717057108879], [19.32376289367676], [452.62408447265625], [800.3930053710938], [1781.0047607421875], [2390.105712890625], [3468.7255859375], [4532.99560546875], [4906.93896484375], [4596.2138671875], [4946.951171875], [4734.11865234375], [4292.53857421875], [3324.63525390625], [2043.7972412109373], [1025.6512451171875], [627.8965454101562], [562.0934448242188], [104.04303741455078], [-6.068557262420654], [3.628676414489746], [3.556079864501953], [3.988189220428467], [0.0874547064304351], [0.1677532196044922], [8.175711631774902], [171.75376892089844], [637.1600341796875], [517.3954467773438], [2452.119140625], [3483.6201171875], [3736.35009765625], [2912.259765625], [2300.080078125], [2631.677734375], [2759.962646484375], [3142.247802734375], [3362.27734375], [2717.667236328125], [2000.2623291015625], [323.79595947265625], [148.2546844482422], [125.05966186523438], [25.563947677612305], [-0.7621874213218689], [-1.5253580808639526], [-0.0711897015571594], [-5.04902458190918], [7.5887770652771], [105.20787048339844], [255.7184295654297], [563.2340698242188], [1181.10205078125], [2928.44970703125], [3588.338623046875], [5058.150390625], [4771.99755859375], [5114.62548828125], [5170.1123046875], [4515.48486328125], [4056.783935546875], [3602.607421875], [3371.86669921875], [1963.9090576171875], [744.7025146484375], [394.78424072265625], [182.45420837402344], [15.61746883392334], [-9.698010444641112], [-11.392290115356444], [-12.130358695983888], [-5.501970291137695], [-7.879811286926269], [73.32878112792969], [263.5589904785156], [346.77716064453125], [1994.4217529296875], [2528.578857421875], [4106.609375], [4116.990234375], [3731.0947265625], [3107.177001953125], [2707.8310546875], [2937.18603515625], [3652.556640625], [4104.62646484375], [2252.43603515625], [1591.455078125], [948.7938232421876], [464.4916076660156], [169.81369018554688], [71.3248519897461], [-2.003030300140381], [-0.4783432483673095], [3.5676095485687256], [0.8764316439628601], [-6.034234523773193], [63.32071685791016], [291.2767639160156], [604.4932861328125], [1926.4534912109373], [2440.490966796875], [4011.5107421875], [4533.39404296875], [4435.98095703125], [4205.19970703125], [4725.54150390625], [3495.92041015625], [3092.75], [3636.748046875], [2045.5985107421875], [1757.9866943359375], [1214.11181640625], [458.66595458984375], [181.7061920166016], [3.66948914527893], [6.606709003448486], [-1.624130368232727], [-3.701770305633545], [-0.163213700056076], [2.566492080688477], [4.39547061920166], [47.5095329284668], [123.15001678466795], [237.2937164306641], [240.0010681152344], [447.8033447265625], [317.8661193847656], [460.4053955078125], [225.4615173339844], [418.4888000488281], [1010.7345581054688], [1744.0546875], [1964.019775390625], [1771.14697265625], [847.5263671875], [759.2755737304688], [349.52752685546875], [30.198389053344727], [23.42481803894043], [-0.2540134191513061], [2.5834903717041016], [1.160771369934082], [-1.123332977294922], [2.8655202388763428], [69.40864562988281], [216.780517578125], [307.91455078125], [935.9632568359376], [1095.5003662109375], [2614.851318359375], [1984.6873779296875], [2381.419189453125], [2394.2509765625], [2087.783447265625], [3145.301025390625], [3610.6787109375], [2332.66748046875], [738.3065185546875], [1154.0], [558.6041870117188], [293.1153259277344], [60.090065002441406], [3.6250174045562735], [10.599160194396973], [0.7864153385162354], [-0.4015590250492096], [-1.2984905242919922], [-0.8823352456092834], [35.171810150146484], [97.39320373535156], [151.9196014404297], [514.7542724609375], [850.4155883789062], [1161.1981201171875], [1514.4102783203125], [2418.725830078125], [1204.8243408203125], [1739.06982421875], [951.6344604492188], [644.3984985351562], [763.7103271484375], [890.1852416992188], [332.11248779296875], [313.1217956542969], [314.2886657714844], [77.37786865234375], [15.930059432983398], [3.6325395107269287], [-1.29140043258667], [0.9390941262245178], [-5.547285556793213], [0.2826423943042755], [0.4613862335681915], [133.3126678466797], [376.0076293945313], [891.2281494140625], [1342.501953125], [2347.59228515625], [2374.904052734375], [1368.760986328125], [1110.141845703125], [1249.6600341796875], [2261.733642578125], [2482.92236328125], [2276.805908203125], [1704.808837890625], [1580.4842529296875], [923.902587890625], [380.9728393554688], [202.0407257080078], [47.66900634765625], [3.5406925678253174], [2.062196731567383], [-2.890854358673096], [5.0719733238220215], [-0.2597248256206512], [77.01850128173828], [285.36376953125], [314.8484802246094], [1006.6402587890624], [840.9138793945312], [1190.0087890625], [1480.7293701171875], [591.0471801757812], [1529.42529296875], [2061.72900390625], [1023.5895385742188], [466.1450805664063], [626.5741577148438], [703.8096313476562], [635.5396728515625], [297.0412902832031], [230.5713806152344], [68.06050872802734], [22.50379180908203], [16.717315673828125], [-3.6452112197875977], [-3.4256339073181152], [-3.946425914764404], [-0.6802862882614136], [95.2156982421875], [115.68656158447266], [483.5943603515625], [654.806884765625], [2099.4658203125], [1426.36572265625], [1805.1826171875], [1369.761474609375], [1900.27783203125], [1934.1756591796875], [1112.96044921875], [1629.671142578125], [1483.2845458984375], [1129.5240478515625], [986.4915771484376], [675.2288818359375], [373.79583740234375], [236.9299468994141], [33.655853271484375], [-6.558526039123535], [-5.799810886383057], [3.677882671356201], [1.3181712627410889], [4.66303825378418], [79.17233276367188], [292.419189453125], [545.8164672851562], [760.0082397460938], [1321.7523193359375], [1701.9915771484375], [2832.60205078125], [2938.675048828125], [3569.59228515625], [1845.0677490234373], [2138.138916015625], [1974.874267578125], [1268.275390625], [804.2786254882812], [753.6723022460938], [605.4920043945312], [225.7674560546875], [215.95103454589844], [15.955442428588867], [-16.565906524658203], [8.216822624206543], [2.082622766494751], [-1.4016051292419434], [0.095704510807991], [28.42679786682129], [61.76298141479492], [367.0805969238281], [764.62744140625], [963.3452758789062], [1246.057861328125], [1294.62939453125], [1601.4658203125], [1404.63134765625], [2047.009765625], [1710.3248291015625], [1184.1334228515625], [1377.8023681640625], [1245.2701416015625], [836.9801635742188], [230.1962432861328], [279.7988586425781], [118.54986572265624], [22.906497955322266], [17.997594833374023], [1.8097810745239256], [1.896993637084961], [-0.5926576256752014], [3.3783960342407227], [62.8021125793457], [163.1522216796875], [477.60150146484375], [649.3572387695312], [1241.9664306640625], [1290.0115966796875], [1304.5810546875], [2085.93505859375], [2278.470458984375], [1896.8895263671875], [1505.2132568359375], [1493.4459228515625], [777.5225219726562], [790.09326171875], [886.9007568359375], [642.0559692382812], [319.7295837402344], [88.50171661376953], [4.93378210067749], [4.041807174682617], [-2.368360996246338], [-0.655330240726471], [5.131006717681885], [5.082364559173584], [56.44326400756836], [150.8236083984375], [294.29754638671875], [427.2059020996094], [346.40594482421875], [646.3604736328125], [923.5665283203124], [1227.891845703125], [1276.4228515625], [1318.274169921875], [629.6525268554688], [1196.8148193359375], [1047.5958251953125], [927.2601318359376], [668.1383056640625], [413.2955322265625], [580.1934204101562], [210.5227203369141], [34.891014099121094], [-13.564009666442873], [-0.7257347106933594], [13.952190399169922], [-0.8780644536018372], [37.64509582519531], [146.96360778808594], [311.6658020019531], [663.2230224609375], [1679.6156005859375], [2525.74267578125], [4401.42578125], [4597.1552734375], [4720.6328125], [4465.05126953125], [4617.84765625], [4973.48876953125], [3934.13671875], [3638.05419921875], [3288.89501953125], [2303.198486328125], [1254.8155517578125], [644.20751953125], [326.8298645019531], [131.70510864257812], [-27.085681915283203], [-3.0238990783691406], [-8.533281326293945], [-4.7919745445251465], [5.144723415374756], [133.1824951171875], [281.1361999511719], [842.7537231445312], [896.2533569335938], [2028.4395751953125], [2191.044189453125], [3381.973388671875], [4209.06396484375], [4886.89990234375], [2192.29296875], [1269.56591796875], [320.1650390625], [391.0667724609375], [1573.9217529296875], [2004.5440673828125], [455.645263671875], [497.1470642089844], [116.90856170654295], [55.7762565612793], [6.364868640899658], [-1.1549811363220217], [2.101541042327881], [11.629060745239258], [2.950923442840576], [50.37002182006836], [321.490966796875], [363.0055847167969], [1194.2833251953125], [2593.840576171875], [3336.396728515625], [3095.22802734375], [3926.35546875], [4455.59033203125], [3724.380859375], [3912.646240234375], [3689.2021484375], [2898.48681640625], [3195.851318359375], [2329.90625], [1395.281005859375], [601.8661499023438], [352.87811279296875], [118.53905487060548], [13.565507888793944], [1.3966126441955566], [1.6216814517974854], [4.669138431549072], [-60.9990119934082], [51.599308013916016], [220.8506317138672], [849.3910522460938], [1536.48193359375], [2999.4912109375], [3151.0400390625], [4008.45654296875], [4483.818359375], [4901.71875], [4973.9541015625], [4782.1962890625], [4068.93505859375], [3865.49560546875], [2993.746826171875], [2284.4423828125], [1242.2515869140625], [654.93505859375], [418.7703552246094], [183.84104919433597], [1.1852787733078003], [-5.610976219177246], [3.7010750770568848], [-5.894632816314697], [16.72441291809082], [123.14681243896484], [206.07839965820312], [783.3374633789062], [1019.2766723632812], [1796.666748046875], [2862.240478515625], [4327.671875], [4766.55029296875], [5190.798828125], [3570.44482421875], [3139.2431640625], [2776.303466796875], [2139.086669921875], [2085.2412109375], [1695.1514892578125], [873.619384765625], [365.5443115234375], [152.2227020263672], [80.38806915283203], [24.16807746887207], [2.6044399738311768], [3.49686861038208], [-9.991288185119627], [2.646423101425171], [48.54282379150391], [114.1469268798828], [388.2015380859375], [555.635986328125], [994.0330810546876], [1248.782470703125], [1342.0208740234375], [750.12060546875], [559.5263671875], [2615.306396484375], [3513.37060546875], [3219.707763671875], [3084.224853515625], [2336.12646484375], [1378.8963623046875], [1004.4330444335938], [620.4293212890625], [274.7675476074219], [29.668529510498047], [-43.25800704956055], [-23.63234519958496], [-0.7699549198150635], [8.504291534423828], [-32.689449310302734], [34.82633590698242], [34.29739761352539], [177.95741271972656], [40.53092956542969], [279.01080322265625], [1205.7247314453125], [1032.202392578125], [1201.12646484375], [1389.01611328125], [1530.2279052734375], [1533.837158203125], [1656.982421875], [2605.494140625], [1200.609619140625], [1347.7218017578125], [912.26708984375], [471.2641296386719], [187.0674285888672], [117.57849884033205], [3.10225248336792], [-0.2312585115432739], [-15.950332641601562], [-2.434072732925415], [19.01270294189453], [150.9263153076172], [261.62847900390625], [736.9675903320312], [1723.3408203125], [3065.228759765625], [3783.64453125], [3979.116943359375], [4493.59814453125], [4877.15185546875], [4662.9697265625], [3898.44580078125], [3473.645751953125], [3310.012939453125], [3004.479248046875], [1274.1822509765625], [1140.737060546875], [293.4013061523437], [154.43202209472656], [-113.4438934326172], [-213.3045959472656], [14.456868171691896], [-13.097259521484377], [-13.859926223754885], [7.95576810836792], [79.53905487060547], [335.6073303222656], [750.1173095703125], [1270.10498046875], [1847.919921875], [2192.83203125], [4185.4091796875], [3316.099853515625], [3777.62109375], [4813.87158203125], [4650.11181640625], [3852.083251953125], [3043.8681640625], [2259.35595703125], [1100.6968994140625], [929.8938598632812], [447.1211242675781], [500.4212646484375], [94.08304595947266], [1.7734817266464231], [18.35198211669922], [-22.62302589416504], [28.149200439453125], [4.251377582550049], [89.93370056152344], [426.1485595703125], [536.77587890625], [3.769681215286255], [343.636962890625], [1078.795654296875], [1176.575927734375], [791.386962890625], [1578.4691162109375], [1354.2578125], [1378.0555419921875], [1107.625732421875], [1174.72607421875], [1330.0167236328125], [568.1749877929688], [574.4962768554688], [177.78858947753906], [55.445899963378906], [11.715822219848633], [10.226781845092772], [0.5274332761764526], [-15.556265830993652], [15.464783668518066], [20.16190719604492], [23.687524795532227], [61.064208984375], [146.21495056152344], [231.0715484619141], [348.0884704589844], [911.07861328125], [667.9847412109375], [609.9317016601562], [437.3780822753906], [543.6727294921875], [520.2470092773438], [442.5161437988281], [942.7176513671876], [902.4652099609376], [583.748291015625], [411.8853759765625], [413.9551086425781], [99.51599884033205], [4.092278003692627], [0.0344016775488853], [-2.7220022678375244], [-12.485236167907717], [9.672372817993164], [25.68531990051269], [188.859619140625], [456.00927734375], [383.0942077636719], [958.0477905273438], [1658.8043212890625], [2567.28271484375], [3834.834716796875], [4369.00244140625], [4665.236328125], [4430.6533203125], [4976.31298828125], [3333.8876953125], [2993.16162109375], [2242.056884765625], [754.2586669921875], [713.3001098632812], [775.1812133789062], [535.4315185546875], [151.9961700439453], [23.25083541870117], [17.573490142822266], [51.30077362060547], [1.208137035369873], [28.147947311401367], [82.91088104248047], [376.4937744140625], [230.32638549804688], [213.84852600097656], [200.67173767089844], [603.103271484375], [1791.40380859375], [2352.738525390625], [2763.988525390625], [3458.351318359375], [3628.934326171875], [3722.448486328125], [1180.662353515625], [797.6533203125], [906.1195678710938], [757.9446411132812], [292.5079040527344], [349.46978759765625], [47.19844055175781], [2.4502944946289062], [14.203095436096191], [-14.167224884033203]]\n"
     ]
    },
    {
     "ename": "NameError",
     "evalue": "ignored",
     "output_type": "error",
     "traceback": [
      "\u001b[0;31m---------------------------------------------------------------------------\u001b[0m",
      "\u001b[0;31mNameError\u001b[0m                                 Traceback (most recent call last)",
      "\u001b[0;32m<ipython-input-62-8a3afd08bee7>\u001b[0m in \u001b[0;36m<cell line: 3>\u001b[0;34m()\u001b[0m\n\u001b[1;32m      1\u001b[0m \u001b[0my_pred_A\u001b[0m \u001b[0;34m=\u001b[0m \u001b[0my_pred_random_A\u001b[0m\u001b[0;34m.\u001b[0m\u001b[0mvalues\u001b[0m\u001b[0;34m.\u001b[0m\u001b[0mtolist\u001b[0m\u001b[0;34m(\u001b[0m\u001b[0;34m)\u001b[0m\u001b[0;34m\u001b[0m\u001b[0;34m\u001b[0m\u001b[0m\n\u001b[1;32m      2\u001b[0m \u001b[0mprint\u001b[0m\u001b[0;34m(\u001b[0m\u001b[0my_pred_A\u001b[0m\u001b[0;34m)\u001b[0m\u001b[0;34m\u001b[0m\u001b[0;34m\u001b[0m\u001b[0m\n\u001b[0;32m----> 3\u001b[0;31m \u001b[0my_pred_B\u001b[0m \u001b[0;34m=\u001b[0m \u001b[0my_pred_random_B\u001b[0m\u001b[0;34m.\u001b[0m\u001b[0mtolist\u001b[0m\u001b[0;34m(\u001b[0m\u001b[0;34m)\u001b[0m\u001b[0;34m\u001b[0m\u001b[0;34m\u001b[0m\u001b[0m\n\u001b[0m\u001b[1;32m      4\u001b[0m \u001b[0my_pred_C\u001b[0m \u001b[0;34m=\u001b[0m \u001b[0my_pred_random_C\u001b[0m\u001b[0;34m.\u001b[0m\u001b[0mtolist\u001b[0m\u001b[0;34m(\u001b[0m\u001b[0;34m)\u001b[0m\u001b[0;34m\u001b[0m\u001b[0;34m\u001b[0m\u001b[0m\n",
      "\u001b[0;31mNameError\u001b[0m: name 'y_pred_random_B' is not defined"
     ]
    }
   ],
   "source": [
    "y_pred_A = y_pred_random_A.values.tolist()\n",
    "print(y_pred_A)\n",
    "y_pred_B = y_pred_random_B.tolist()\n",
    "y_pred_C = y_pred_random_C.tolist()"
   ]
  },
  {
   "cell_type": "code",
   "execution_count": null,
   "metadata": {
    "colab": {
     "base_uri": "https://localhost:8080/",
     "height": 193
    },
    "id": "b9chMB68NM_g",
    "outputId": "afc80315-83a5-4b0e-d28a-3b4c1bf674f5"
   },
   "outputs": [
    {
     "ename": "NameError",
     "evalue": "ignored",
     "output_type": "error",
     "traceback": [
      "\u001b[0;31m---------------------------------------------------------------------------\u001b[0m",
      "\u001b[0;31mNameError\u001b[0m                                 Traceback (most recent call last)",
      "\u001b[0;32m<ipython-input-64-30e06f14c398>\u001b[0m in \u001b[0;36m<cell line: 1>\u001b[0;34m()\u001b[0m\n\u001b[0;32m----> 1\u001b[0;31m \u001b[0mall_preds\u001b[0m \u001b[0;34m=\u001b[0m \u001b[0my_pred_A\u001b[0m \u001b[0;34m+\u001b[0m\u001b[0my_pred_B\u001b[0m \u001b[0;34m+\u001b[0m \u001b[0my_pred_C\u001b[0m\u001b[0;34m\u001b[0m\u001b[0;34m\u001b[0m\u001b[0m\n\u001b[0m\u001b[1;32m      2\u001b[0m \u001b[0mall_preds\u001b[0m \u001b[0;34m=\u001b[0m \u001b[0;34m[\u001b[0m\u001b[0;36m0\u001b[0m \u001b[0;32mif\u001b[0m \u001b[0mi\u001b[0m \u001b[0;34m<\u001b[0m \u001b[0;36m0\u001b[0m \u001b[0;32melse\u001b[0m \u001b[0mi\u001b[0m \u001b[0;32mfor\u001b[0m \u001b[0mi\u001b[0m \u001b[0;32min\u001b[0m \u001b[0mall_preds\u001b[0m\u001b[0;34m]\u001b[0m\u001b[0;34m\u001b[0m\u001b[0;34m\u001b[0m\u001b[0m\n",
      "\u001b[0;31mNameError\u001b[0m: name 'y_pred_B' is not defined"
     ]
    }
   ],
   "source": [
    "all_preds = y_pred_A +y_pred_B + y_pred_C\n",
    "all_preds = [0 if i < 0 else i for i in all_preds]"
   ]
  },
  {
   "cell_type": "code",
   "execution_count": null,
   "metadata": {
    "id": "iiSMmZo-NKvo"
   },
   "outputs": [],
   "source": [
    "dict_preds = {'id' : [i for i in range(2160)],  'prediction' : all_preds  } #'time' : hourly_date_range, 'location' : location_list\n",
    "send_in_df = pd.DataFrame(dict_preds)\n",
    "send_in_df.set_index('id', inplace=True)\n",
    "send_in_df"
   ]
  },
  {
   "cell_type": "code",
   "execution_count": null,
   "metadata": {
    "id": "Vt5VaquGNP0L"
   },
   "outputs": [],
   "source": [
    "send_in_df.to_csv('dense1.csv')"
   ]
  },
  {
   "cell_type": "markdown",
   "metadata": {
    "id": "i5KeNRjKDCuH"
   },
   "source": [
    "# Test\n"
   ]
  },
  {
   "cell_type": "code",
   "execution_count": null,
   "metadata": {
    "colab": {
     "base_uri": "https://localhost:8080/",
     "height": 408
    },
    "id": "7ZZIcY1ZDCBP",
    "outputId": "b41e84d9-8e70-4378-aa78-758e6992a62f"
   },
   "outputs": [
    {
     "ename": "ValueError",
     "evalue": "ignored",
     "output_type": "error",
     "traceback": [
      "\u001b[0;31m---------------------------------------------------------------------------\u001b[0m",
      "\u001b[0;31mValueError\u001b[0m                                Traceback (most recent call last)",
      "\u001b[0;32m<ipython-input-62-016ebed8a295>\u001b[0m in \u001b[0;36m<cell line: 54>\u001b[0;34m()\u001b[0m\n\u001b[1;32m     66\u001b[0m     \u001b[0;32mwith\u001b[0m \u001b[0mtorch\u001b[0m\u001b[0;34m.\u001b[0m\u001b[0mno_grad\u001b[0m\u001b[0;34m(\u001b[0m\u001b[0;34m)\u001b[0m\u001b[0;34m:\u001b[0m\u001b[0;34m\u001b[0m\u001b[0;34m\u001b[0m\u001b[0m\n\u001b[1;32m     67\u001b[0m         \u001b[0my_pred\u001b[0m \u001b[0;34m=\u001b[0m \u001b[0mmodel\u001b[0m\u001b[0;34m(\u001b[0m\u001b[0mX_train\u001b[0m\u001b[0;34m)\u001b[0m\u001b[0;34m\u001b[0m\u001b[0;34m\u001b[0m\u001b[0m\n\u001b[0;32m---> 68\u001b[0;31m         \u001b[0mtrain_rmse\u001b[0m \u001b[0;34m=\u001b[0m \u001b[0mmean_absolute_error\u001b[0m\u001b[0;34m(\u001b[0m\u001b[0my_train\u001b[0m\u001b[0;34m,\u001b[0m\u001b[0my_pred\u001b[0m\u001b[0;34m)\u001b[0m\u001b[0;34m\u001b[0m\u001b[0;34m\u001b[0m\u001b[0m\n\u001b[0m\u001b[1;32m     69\u001b[0m         \u001b[0my_pred\u001b[0m \u001b[0;34m=\u001b[0m \u001b[0mmodel\u001b[0m\u001b[0;34m(\u001b[0m\u001b[0mX_test\u001b[0m\u001b[0;34m)\u001b[0m\u001b[0;34m\u001b[0m\u001b[0;34m\u001b[0m\u001b[0m\n\u001b[1;32m     70\u001b[0m         \u001b[0mtest_rmse\u001b[0m \u001b[0;34m=\u001b[0m \u001b[0mmean_absolute_error\u001b[0m\u001b[0;34m(\u001b[0m\u001b[0my_test\u001b[0m\u001b[0;34m,\u001b[0m \u001b[0my_pred\u001b[0m\u001b[0;34m)\u001b[0m\u001b[0;34m\u001b[0m\u001b[0;34m\u001b[0m\u001b[0m\n",
      "\u001b[0;32m/usr/local/lib/python3.10/dist-packages/sklearn/metrics/_regression.py\u001b[0m in \u001b[0;36mmean_absolute_error\u001b[0;34m(y_true, y_pred, sample_weight, multioutput)\u001b[0m\n\u001b[1;32m    194\u001b[0m     \u001b[0;36m0.85\u001b[0m\u001b[0;34m...\u001b[0m\u001b[0;34m\u001b[0m\u001b[0;34m\u001b[0m\u001b[0m\n\u001b[1;32m    195\u001b[0m     \"\"\"\n\u001b[0;32m--> 196\u001b[0;31m     y_type, y_true, y_pred, multioutput = _check_reg_targets(\n\u001b[0m\u001b[1;32m    197\u001b[0m         \u001b[0my_true\u001b[0m\u001b[0;34m,\u001b[0m \u001b[0my_pred\u001b[0m\u001b[0;34m,\u001b[0m \u001b[0mmultioutput\u001b[0m\u001b[0;34m\u001b[0m\u001b[0;34m\u001b[0m\u001b[0m\n\u001b[1;32m    198\u001b[0m     )\n",
      "\u001b[0;32m/usr/local/lib/python3.10/dist-packages/sklearn/metrics/_regression.py\u001b[0m in \u001b[0;36m_check_reg_targets\u001b[0;34m(y_true, y_pred, multioutput, dtype)\u001b[0m\n\u001b[1;32m     99\u001b[0m     \"\"\"\n\u001b[1;32m    100\u001b[0m     \u001b[0mcheck_consistent_length\u001b[0m\u001b[0;34m(\u001b[0m\u001b[0my_true\u001b[0m\u001b[0;34m,\u001b[0m \u001b[0my_pred\u001b[0m\u001b[0;34m)\u001b[0m\u001b[0;34m\u001b[0m\u001b[0;34m\u001b[0m\u001b[0m\n\u001b[0;32m--> 101\u001b[0;31m     \u001b[0my_true\u001b[0m \u001b[0;34m=\u001b[0m \u001b[0mcheck_array\u001b[0m\u001b[0;34m(\u001b[0m\u001b[0my_true\u001b[0m\u001b[0;34m,\u001b[0m \u001b[0mensure_2d\u001b[0m\u001b[0;34m=\u001b[0m\u001b[0;32mFalse\u001b[0m\u001b[0;34m,\u001b[0m \u001b[0mdtype\u001b[0m\u001b[0;34m=\u001b[0m\u001b[0mdtype\u001b[0m\u001b[0;34m)\u001b[0m\u001b[0;34m\u001b[0m\u001b[0;34m\u001b[0m\u001b[0m\n\u001b[0m\u001b[1;32m    102\u001b[0m     \u001b[0my_pred\u001b[0m \u001b[0;34m=\u001b[0m \u001b[0mcheck_array\u001b[0m\u001b[0;34m(\u001b[0m\u001b[0my_pred\u001b[0m\u001b[0;34m,\u001b[0m \u001b[0mensure_2d\u001b[0m\u001b[0;34m=\u001b[0m\u001b[0;32mFalse\u001b[0m\u001b[0;34m,\u001b[0m \u001b[0mdtype\u001b[0m\u001b[0;34m=\u001b[0m\u001b[0mdtype\u001b[0m\u001b[0;34m)\u001b[0m\u001b[0;34m\u001b[0m\u001b[0;34m\u001b[0m\u001b[0m\n\u001b[1;32m    103\u001b[0m \u001b[0;34m\u001b[0m\u001b[0m\n",
      "\u001b[0;32m/usr/local/lib/python3.10/dist-packages/sklearn/utils/validation.py\u001b[0m in \u001b[0;36mcheck_array\u001b[0;34m(array, accept_sparse, accept_large_sparse, dtype, order, copy, force_all_finite, ensure_2d, allow_nd, ensure_min_samples, ensure_min_features, estimator, input_name)\u001b[0m\n\u001b[1;32m    913\u001b[0m             )\n\u001b[1;32m    914\u001b[0m         \u001b[0;32mif\u001b[0m \u001b[0;32mnot\u001b[0m \u001b[0mallow_nd\u001b[0m \u001b[0;32mand\u001b[0m \u001b[0marray\u001b[0m\u001b[0;34m.\u001b[0m\u001b[0mndim\u001b[0m \u001b[0;34m>=\u001b[0m \u001b[0;36m3\u001b[0m\u001b[0;34m:\u001b[0m\u001b[0;34m\u001b[0m\u001b[0;34m\u001b[0m\u001b[0m\n\u001b[0;32m--> 915\u001b[0;31m             raise ValueError(\n\u001b[0m\u001b[1;32m    916\u001b[0m                 \u001b[0;34m\"Found array with dim %d. %s expected <= 2.\"\u001b[0m\u001b[0;34m\u001b[0m\u001b[0;34m\u001b[0m\u001b[0m\n\u001b[1;32m    917\u001b[0m                 \u001b[0;34m%\u001b[0m \u001b[0;34m(\u001b[0m\u001b[0marray\u001b[0m\u001b[0;34m.\u001b[0m\u001b[0mndim\u001b[0m\u001b[0;34m,\u001b[0m \u001b[0mestimator_name\u001b[0m\u001b[0;34m)\u001b[0m\u001b[0;34m\u001b[0m\u001b[0;34m\u001b[0m\u001b[0m\n",
      "\u001b[0;31mValueError\u001b[0m: Found array with dim 3. None expected <= 2."
     ]
    }
   ],
   "source": [
    "\n",
    "import matplotlib.pyplot as plt\n",
    "import numpy as np\n",
    "import pandas as pd\n",
    "import torch\n",
    "import torch.nn as nn\n",
    "import torch.optim as optim\n",
    "import torch.utils.data as data\n",
    "from sklearn.metrics import mean_absolute_error\n",
    "\n",
    "df = full_train_dataA[selected_features_XGB_A]\n",
    "for col in selected_features_XGB_A:\n",
    "  timeseries = df[[col]].values.astype('float32')\n",
    "\n",
    "# train-test split for time series\n",
    "train_size = int(len(timeseries) * 0.67)\n",
    "test_size = len(timeseries) - train_size\n",
    "train, test = timeseries[:train_size], timeseries[train_size:]\n",
    "\n",
    "def create_dataset(dataset, lookback):\n",
    "    \"\"\"Transform a time series into a prediction dataset\n",
    "\n",
    "    Args:\n",
    "        dataset: A numpy array of time series, first dimension is the time steps\n",
    "        lookback: Size of window for prediction\n",
    "    \"\"\"\n",
    "    X, y = [], []\n",
    "    for i in range(len(dataset)-lookback):\n",
    "        feature = dataset[i:i+lookback]\n",
    "        target = dataset[i+1:i+lookback+1]\n",
    "        X.append(feature)\n",
    "        y.append(target)\n",
    "    return torch.tensor(X), torch.tensor(y)\n",
    "\n",
    "lookback = 4\n",
    "X_train, y_train = create_dataset(train, lookback=lookback)\n",
    "X_test, y_test = create_dataset(test, lookback=lookback)\n",
    "\n",
    "class AirModel(nn.Module):\n",
    "    def __init__(self):\n",
    "        super().__init__()\n",
    "        self.lstm = nn.LSTM(input_size=1, hidden_size=50, num_layers=1, batch_first=True)\n",
    "        self.linear = nn.Linear(50, 1)\n",
    "    def forward(self, x):\n",
    "        x, _ = self.lstm(x)\n",
    "        x = self.linear(x)\n",
    "        return x\n",
    "\n",
    "model = AirModel()\n",
    "optimizer = optim.Adam(model.parameters())\n",
    "loss_fn = nn.MSELoss()\n",
    "loader = data.DataLoader(data.TensorDataset(X_train, y_train), shuffle=True, batch_size=8)\n",
    "\n",
    "n_epochs = 201\n",
    "for epoch in range(n_epochs):\n",
    "    model.train()\n",
    "    for X_batch, y_batch in loader:\n",
    "        y_pred = model(X_batch)\n",
    "        loss = loss_fn(y_pred, y_batch)\n",
    "        optimizer.zero_grad()\n",
    "        loss.backward()\n",
    "        optimizer.step()\n",
    "    # Validation\n",
    "    if epoch % 100 != 0:\n",
    "        continue\n",
    "    model.eval()\n",
    "    with torch.no_grad():\n",
    "        y_pred = model(X_train)\n",
    "        train_rmse = mean_absolute_error(y_train,y_pred)\n",
    "        y_pred = model(X_test)\n",
    "        test_rmse = mean_absolute_error(y_test, y_pred)\n",
    "    print(\"Epoch %d: train RMSE %.4f, test RMSE %.4f\" % (epoch, train_rmse, test_rmse))\n",
    "\n",
    "with torch.no_grad():\n",
    "    # shift train predictions for plotting\n",
    "    train_plot = np.ones_like(timeseries) * np.nan\n",
    "    y_pred = model(X_train)\n",
    "    y_pred = y_pred[:, -1, :]\n",
    "    train_plot[lookback:train_size] = model(X_train)[:, -1, :]\n",
    "    # shift test predictions for plotting\n",
    "    test_plot = np.ones_like(timeseries) * np.nan\n",
    "    test_plot[train_size+lookback:len(timeseries)] = model(X_test)[:, -1, :]\n",
    "# plot\n",
    "plt.plot(timeseries)\n",
    "plt.plot(train_plot, c='r')\n",
    "plt.plot(test_plot, c='g')\n",
    "plt.show()"
   ]
  },
  {
   "cell_type": "code",
   "execution_count": null,
   "metadata": {
    "colab": {
     "base_uri": "https://localhost:8080/",
     "height": 769
    },
    "id": "zlO8AXlnMjZR",
    "outputId": "df459a75-126b-49f7-956a-b36671bc9324"
   },
   "outputs": [
    {
     "ename": "ValueError",
     "evalue": "ignored",
     "output_type": "error",
     "traceback": [
      "\u001b[0;31m---------------------------------------------------------------------------\u001b[0m",
      "\u001b[0;31mValueError\u001b[0m                                Traceback (most recent call last)",
      "\u001b[0;32m<ipython-input-60-bbe3cc6c9be9>\u001b[0m in \u001b[0;36m<cell line: 2>\u001b[0;34m()\u001b[0m\n\u001b[1;32m      1\u001b[0m \u001b[0mplt\u001b[0m\u001b[0;34m.\u001b[0m\u001b[0mplot\u001b[0m\u001b[0;34m(\u001b[0m\u001b[0my_pred\u001b[0m\u001b[0;34m,\u001b[0m \u001b[0mc\u001b[0m\u001b[0;34m=\u001b[0m\u001b[0;34m'r'\u001b[0m\u001b[0;34m)\u001b[0m\u001b[0;34m\u001b[0m\u001b[0;34m\u001b[0m\u001b[0m\n\u001b[0;32m----> 2\u001b[0;31m \u001b[0mplt\u001b[0m\u001b[0;34m.\u001b[0m\u001b[0mplot\u001b[0m\u001b[0;34m(\u001b[0m\u001b[0my_test\u001b[0m\u001b[0;34m,\u001b[0m \u001b[0mc\u001b[0m\u001b[0;34m=\u001b[0m\u001b[0;34m'g'\u001b[0m\u001b[0;34m)\u001b[0m\u001b[0;34m\u001b[0m\u001b[0;34m\u001b[0m\u001b[0m\n\u001b[0m\u001b[1;32m      3\u001b[0m \u001b[0mplt\u001b[0m\u001b[0;34m.\u001b[0m\u001b[0mshow\u001b[0m\u001b[0;34m(\u001b[0m\u001b[0;34m)\u001b[0m\u001b[0;34m\u001b[0m\u001b[0;34m\u001b[0m\u001b[0m\n",
      "\u001b[0;32m/usr/local/lib/python3.10/dist-packages/matplotlib/pyplot.py\u001b[0m in \u001b[0;36mplot\u001b[0;34m(scalex, scaley, data, *args, **kwargs)\u001b[0m\n\u001b[1;32m   2810\u001b[0m \u001b[0;34m@\u001b[0m\u001b[0m_copy_docstring_and_deprecators\u001b[0m\u001b[0;34m(\u001b[0m\u001b[0mAxes\u001b[0m\u001b[0;34m.\u001b[0m\u001b[0mplot\u001b[0m\u001b[0;34m)\u001b[0m\u001b[0;34m\u001b[0m\u001b[0;34m\u001b[0m\u001b[0m\n\u001b[1;32m   2811\u001b[0m \u001b[0;32mdef\u001b[0m \u001b[0mplot\u001b[0m\u001b[0;34m(\u001b[0m\u001b[0;34m*\u001b[0m\u001b[0margs\u001b[0m\u001b[0;34m,\u001b[0m \u001b[0mscalex\u001b[0m\u001b[0;34m=\u001b[0m\u001b[0;32mTrue\u001b[0m\u001b[0;34m,\u001b[0m \u001b[0mscaley\u001b[0m\u001b[0;34m=\u001b[0m\u001b[0;32mTrue\u001b[0m\u001b[0;34m,\u001b[0m \u001b[0mdata\u001b[0m\u001b[0;34m=\u001b[0m\u001b[0;32mNone\u001b[0m\u001b[0;34m,\u001b[0m \u001b[0;34m**\u001b[0m\u001b[0mkwargs\u001b[0m\u001b[0;34m)\u001b[0m\u001b[0;34m:\u001b[0m\u001b[0;34m\u001b[0m\u001b[0;34m\u001b[0m\u001b[0m\n\u001b[0;32m-> 2812\u001b[0;31m     return gca().plot(\n\u001b[0m\u001b[1;32m   2813\u001b[0m         \u001b[0;34m*\u001b[0m\u001b[0margs\u001b[0m\u001b[0;34m,\u001b[0m \u001b[0mscalex\u001b[0m\u001b[0;34m=\u001b[0m\u001b[0mscalex\u001b[0m\u001b[0;34m,\u001b[0m \u001b[0mscaley\u001b[0m\u001b[0;34m=\u001b[0m\u001b[0mscaley\u001b[0m\u001b[0;34m,\u001b[0m\u001b[0;34m\u001b[0m\u001b[0;34m\u001b[0m\u001b[0m\n\u001b[1;32m   2814\u001b[0m         **({\"data\": data} if data is not None else {}), **kwargs)\n",
      "\u001b[0;32m/usr/local/lib/python3.10/dist-packages/matplotlib/axes/_axes.py\u001b[0m in \u001b[0;36mplot\u001b[0;34m(self, scalex, scaley, data, *args, **kwargs)\u001b[0m\n\u001b[1;32m   1686\u001b[0m         \"\"\"\n\u001b[1;32m   1687\u001b[0m         \u001b[0mkwargs\u001b[0m \u001b[0;34m=\u001b[0m \u001b[0mcbook\u001b[0m\u001b[0;34m.\u001b[0m\u001b[0mnormalize_kwargs\u001b[0m\u001b[0;34m(\u001b[0m\u001b[0mkwargs\u001b[0m\u001b[0;34m,\u001b[0m \u001b[0mmlines\u001b[0m\u001b[0;34m.\u001b[0m\u001b[0mLine2D\u001b[0m\u001b[0;34m)\u001b[0m\u001b[0;34m\u001b[0m\u001b[0;34m\u001b[0m\u001b[0m\n\u001b[0;32m-> 1688\u001b[0;31m         \u001b[0mlines\u001b[0m \u001b[0;34m=\u001b[0m \u001b[0;34m[\u001b[0m\u001b[0;34m*\u001b[0m\u001b[0mself\u001b[0m\u001b[0;34m.\u001b[0m\u001b[0m_get_lines\u001b[0m\u001b[0;34m(\u001b[0m\u001b[0;34m*\u001b[0m\u001b[0margs\u001b[0m\u001b[0;34m,\u001b[0m \u001b[0mdata\u001b[0m\u001b[0;34m=\u001b[0m\u001b[0mdata\u001b[0m\u001b[0;34m,\u001b[0m \u001b[0;34m**\u001b[0m\u001b[0mkwargs\u001b[0m\u001b[0;34m)\u001b[0m\u001b[0;34m]\u001b[0m\u001b[0;34m\u001b[0m\u001b[0;34m\u001b[0m\u001b[0m\n\u001b[0m\u001b[1;32m   1689\u001b[0m         \u001b[0;32mfor\u001b[0m \u001b[0mline\u001b[0m \u001b[0;32min\u001b[0m \u001b[0mlines\u001b[0m\u001b[0;34m:\u001b[0m\u001b[0;34m\u001b[0m\u001b[0;34m\u001b[0m\u001b[0m\n\u001b[1;32m   1690\u001b[0m             \u001b[0mself\u001b[0m\u001b[0;34m.\u001b[0m\u001b[0madd_line\u001b[0m\u001b[0;34m(\u001b[0m\u001b[0mline\u001b[0m\u001b[0;34m)\u001b[0m\u001b[0;34m\u001b[0m\u001b[0;34m\u001b[0m\u001b[0m\n",
      "\u001b[0;32m/usr/local/lib/python3.10/dist-packages/matplotlib/axes/_base.py\u001b[0m in \u001b[0;36m__call__\u001b[0;34m(self, data, *args, **kwargs)\u001b[0m\n\u001b[1;32m    309\u001b[0m                 \u001b[0mthis\u001b[0m \u001b[0;34m+=\u001b[0m \u001b[0margs\u001b[0m\u001b[0;34m[\u001b[0m\u001b[0;36m0\u001b[0m\u001b[0;34m]\u001b[0m\u001b[0;34m,\u001b[0m\u001b[0;34m\u001b[0m\u001b[0;34m\u001b[0m\u001b[0m\n\u001b[1;32m    310\u001b[0m                 \u001b[0margs\u001b[0m \u001b[0;34m=\u001b[0m \u001b[0margs\u001b[0m\u001b[0;34m[\u001b[0m\u001b[0;36m1\u001b[0m\u001b[0;34m:\u001b[0m\u001b[0;34m]\u001b[0m\u001b[0;34m\u001b[0m\u001b[0;34m\u001b[0m\u001b[0m\n\u001b[0;32m--> 311\u001b[0;31m             yield from self._plot_args(\n\u001b[0m\u001b[1;32m    312\u001b[0m                 this, kwargs, ambiguous_fmt_datakey=ambiguous_fmt_datakey)\n\u001b[1;32m    313\u001b[0m \u001b[0;34m\u001b[0m\u001b[0m\n",
      "\u001b[0;32m/usr/local/lib/python3.10/dist-packages/matplotlib/axes/_base.py\u001b[0m in \u001b[0;36m_plot_args\u001b[0;34m(self, tup, kwargs, return_kwargs, ambiguous_fmt_datakey)\u001b[0m\n\u001b[1;32m    505\u001b[0m                              f\"have shapes {x.shape} and {y.shape}\")\n\u001b[1;32m    506\u001b[0m         \u001b[0;32mif\u001b[0m \u001b[0mx\u001b[0m\u001b[0;34m.\u001b[0m\u001b[0mndim\u001b[0m \u001b[0;34m>\u001b[0m \u001b[0;36m2\u001b[0m \u001b[0;32mor\u001b[0m \u001b[0my\u001b[0m\u001b[0;34m.\u001b[0m\u001b[0mndim\u001b[0m \u001b[0;34m>\u001b[0m \u001b[0;36m2\u001b[0m\u001b[0;34m:\u001b[0m\u001b[0;34m\u001b[0m\u001b[0;34m\u001b[0m\u001b[0m\n\u001b[0;32m--> 507\u001b[0;31m             raise ValueError(f\"x and y can be no greater than 2D, but have \"\n\u001b[0m\u001b[1;32m    508\u001b[0m                              f\"shapes {x.shape} and {y.shape}\")\n\u001b[1;32m    509\u001b[0m         \u001b[0;32mif\u001b[0m \u001b[0mx\u001b[0m\u001b[0;34m.\u001b[0m\u001b[0mndim\u001b[0m \u001b[0;34m==\u001b[0m \u001b[0;36m1\u001b[0m\u001b[0;34m:\u001b[0m\u001b[0;34m\u001b[0m\u001b[0;34m\u001b[0m\u001b[0m\n",
      "\u001b[0;31mValueError\u001b[0m: x and y can be no greater than 2D, but have shapes (19577,) and torch.Size([19577, 4, 1])"
     ]
    },
    {
     "data": {
      "image/png": "[encoded data removed]",
      "text/plain": [
       "<Figure size 640x480 with 1 Axes>"
      ]
     },
     "metadata": {},
     "output_type": "display_data"
    }
   ],
   "source": [
    "plt.plot(y_pred, c='r')\n",
    "plt.plot(y_test, c='g')\n",
    "plt.show()"
   ]
  }
 ],
 "metadata": {
  "accelerator": "GPU",
  "colab": {
   "collapsed_sections": [
    "sPjP2yKT6EaB",
    "JVCbvGlL6IqF",
    "2rzxYJUy0G5u",
    "xtyeIN5S6UOq",
    "tNBcNvq-FFoU",
    "KEEVO0GT6qqn",
    "1bYsP3v6F1dm",
    "TcppXaCnYIRR",
    "K9xDaJdMpwCh",
    "YAubAelYIIwy",
    "h5cimCdflyEX"
   ],
   "gpuType": "T4",
   "provenance": []
  },
  "kernelspec": {
   "display_name": "Python 3 (ipykernel)",
   "language": "python",
   "name": "python3"
  },
  "language_info": {
   "codemirror_mode": {
    "name": "ipython",
    "version": 3
   },
   "file_extension": ".py",
   "mimetype": "text/x-python",
   "name": "python",
   "nbconvert_exporter": "python",
   "pygments_lexer": "ipython3",
   "version": "3.11.4"
  }
 },
 "nbformat": 4,
 "nbformat_minor": 1
}
