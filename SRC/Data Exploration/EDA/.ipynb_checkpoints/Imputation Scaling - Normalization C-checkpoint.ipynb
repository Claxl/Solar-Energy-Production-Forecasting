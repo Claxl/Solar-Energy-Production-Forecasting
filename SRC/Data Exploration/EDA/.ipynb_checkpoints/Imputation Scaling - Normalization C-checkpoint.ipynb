{
 "cells": [
  {
   "cell_type": "code",
   "execution_count": 1,
   "id": "ae99bf4d",
   "metadata": {},
   "outputs": [],
   "source": [
    "import pandas as pd\n",
    "import numpy as np\n",
    "import matplotlib.pyplot as plt"
   ]
  },
  {
   "cell_type": "code",
   "execution_count": 2,
   "id": "fc3b1064",
   "metadata": {},
   "outputs": [],
   "source": [
    "df_train_est_A = pd.read_csv('train_est_C.csv')\n",
    "df_train_obs_A = pd.read_csv('train_obs_C.csv')\n",
    "df_test_A = pd.read_csv('X_test_C.csv')\n",
    "df_train_est_A = df_train_est_A.rename(columns={'Unnamed: 0': 'date_forecast'})\n",
    "\n",
    "df_train_obs_A = df_train_obs_A.rename(columns={'Unnamed: 0': 'date_forecast'})\n",
    "\n",
    "df_test_A = df_test_A.rename(columns={'Unnamed: 0': 'date_forecast'})\n",
    "\n",
    "df_train_est_A.set_index('date_forecast', inplace=True)\n",
    "df_train_obs_A.set_index('date_forecast', inplace=True)\n",
    "df_test_A.set_index('date_forecast', inplace=True)\n",
    "df_train_obs_A.index = pd.to_datetime(df_train_obs_A.index)\n",
    "df_train_obs_A.index = pd.to_datetime(df_train_obs_A.index)"
   ]
  },
  {
   "cell_type": "code",
   "execution_count": 3,
   "id": "7b0d3a9d",
   "metadata": {},
   "outputs": [],
   "source": [
    "df = pd.concat([df_train_obs_A,df_train_est_A])\n",
    "df = df.drop(columns = 'date_calc', axis = 1)\n",
    "df_test_A = df_test_A.drop(columns = 'date_calc', axis = 1)"
   ]
  },
  {
   "cell_type": "code",
   "execution_count": 4,
   "id": "fc0849d5",
   "metadata": {},
   "outputs": [
    {
     "data": {
      "text/plain": [
       "(absolute_humidity_2m:gm3             24\n",
       " air_density_2m:kgm3                  24\n",
       " ceiling_height_agl:m               5481\n",
       " clear_sky_energy_1h:J                24\n",
       " clear_sky_rad:W                      24\n",
       " cloud_base_agl:m                   2533\n",
       " dew_or_rime:idx                      24\n",
       " dew_point_2m:K                       24\n",
       " diffuse_rad:W                        24\n",
       " diffuse_rad_1h:J                     24\n",
       " direct_rad:W                         24\n",
       " direct_rad_1h:J                      24\n",
       " effective_cloud_cover:p              24\n",
       " elevation:m                          24\n",
       " fresh_snow_12h:cm                    24\n",
       " fresh_snow_1h:cm                     24\n",
       " fresh_snow_24h:cm                    24\n",
       " fresh_snow_3h:cm                     24\n",
       " fresh_snow_6h:cm                     24\n",
       " is_day:idx                           24\n",
       " is_in_shadow:idx                     24\n",
       " msl_pressure:hPa                     24\n",
       " precip_5min:mm                       24\n",
       " precip_type_5min:idx                 24\n",
       " pressure_100m:hPa                    24\n",
       " pressure_50m:hPa                     24\n",
       " prob_rime:p                          24\n",
       " rain_water:kgm2                      24\n",
       " relative_humidity_1000hPa:p          24\n",
       " sfc_pressure:hPa                     24\n",
       " snow_density:kgm3                 29758\n",
       " snow_depth:cm                        24\n",
       " snow_drift:idx                       24\n",
       " snow_melt_10min:mm                   24\n",
       " snow_water:kgm2                      24\n",
       " sun_azimuth:d                        24\n",
       " sun_elevation:d                      24\n",
       " super_cooled_liquid_water:kgm2       24\n",
       " t_1000hPa:K                          24\n",
       " total_cloud_cover:p                  24\n",
       " visibility:m                         24\n",
       " wind_speed_10m:ms                    24\n",
       " wind_speed_u_10m:ms                  24\n",
       " wind_speed_v_10m:ms                  24\n",
       " wind_speed_w_1000hPa:ms              24\n",
       " pv_measurement                     6059\n",
       " dtype: int64,\n",
       " (32154, 46))"
      ]
     },
     "execution_count": 4,
     "metadata": {},
     "output_type": "execute_result"
    }
   ],
   "source": [
    "df.isna().sum(), df.shape"
   ]
  },
  {
   "cell_type": "code",
   "execution_count": 5,
   "id": "c9073f1c",
   "metadata": {},
   "outputs": [
    {
     "data": {
      "text/plain": [
       "count    26673.000000\n",
       "mean      2689.859177\n",
       "std       2449.224417\n",
       "min         27.800000\n",
       "25%       1004.075000\n",
       "50%       1706.425000\n",
       "75%       3591.000000\n",
       "max      12260.225000\n",
       "Name: ceiling_height_agl:m, dtype: float64"
      ]
     },
     "execution_count": 5,
     "metadata": {},
     "output_type": "execute_result"
    }
   ],
   "source": [
    "df['ceiling_height_agl:m'].describe()"
   ]
  },
  {
   "cell_type": "code",
   "execution_count": 6,
   "id": "cb562fc8",
   "metadata": {},
   "outputs": [
    {
     "data": {
      "text/plain": [
       "count    29621.000000\n",
       "mean      1727.309690\n",
       "std       1780.134446\n",
       "min         27.500000\n",
       "25%        607.050000\n",
       "50%       1172.400000\n",
       "75%       2074.400000\n",
       "max      11652.700000\n",
       "Name: cloud_base_agl:m, dtype: float64"
      ]
     },
     "execution_count": 6,
     "metadata": {},
     "output_type": "execute_result"
    }
   ],
   "source": [
    "df['cloud_base_agl:m'].describe()"
   ]
  },
  {
   "cell_type": "markdown",
   "id": "7b6174ef",
   "metadata": {},
   "source": [
    "250 means settled snow"
   ]
  },
  {
   "cell_type": "code",
   "execution_count": 7,
   "id": "90f00c68",
   "metadata": {},
   "outputs": [
    {
     "data": {
      "text/plain": [
       "count    2396.0\n",
       "mean      250.0\n",
       "std         0.0\n",
       "min       250.0\n",
       "25%       250.0\n",
       "50%       250.0\n",
       "75%       250.0\n",
       "max       250.0\n",
       "Name: snow_density:kgm3, dtype: float64"
      ]
     },
     "execution_count": 7,
     "metadata": {},
     "output_type": "execute_result"
    }
   ],
   "source": [
    "df['snow_density:kgm3'].describe()"
   ]
  },
  {
   "cell_type": "code",
   "execution_count": 8,
   "id": "594f3ff7",
   "metadata": {},
   "outputs": [],
   "source": [
    "import re\n",
    "df = df.rename(columns = lambda x:re.sub('[^A-Za-z0-9_]+', '', x))"
   ]
  },
  {
   "cell_type": "code",
   "execution_count": 21,
   "id": "08b10b05",
   "metadata": {},
   "outputs": [],
   "source": [
    "df_nandrop = df\n",
    "df_nandrop = df_nandrop.drop(columns= ['snow_densitykgm3'],axis = 1)\n",
    "df_nandrop = df_nandrop.dropna()\n",
    "\n",
    "df_nan0 = df.fillna(0)\n",
    "df_nanmedian = df.fillna(df.median())\n",
    "df_rolling2 = df.fillna(df.rolling(2).mean())\n",
    "df_rolling4 = df.fillna(df.rolling(720).mean())"
   ]
  },
  {
   "cell_type": "code",
   "execution_count": 10,
   "id": "4d093d85",
   "metadata": {},
   "outputs": [],
   "source": [
    "from sklearn.impute import KNNImputer\n",
    "imputer = KNNImputer(n_neighbors=5)\n",
    "# Imputa i valori mancanti\n",
    "df_knn =pd.DataFrame(imputer.fit_transform(df),columns = df.columns, index = df.index)"
   ]
  },
  {
   "cell_type": "code",
   "execution_count": 16,
   "id": "64ca8a20",
   "metadata": {},
   "outputs": [],
   "source": [
    "df_dict = {\n",
    "    'drop' : df_nandrop,\n",
    "    'zero' : df_nan0,\n",
    "    'median' : df_nanmedian,\n",
    "    'knn' : df_knn,\n",
    "    'rolling2' : df_rolling2,\n",
    "    'rolling4' : df_rolling4,\n",
    "}"
   ]
  },
  {
   "cell_type": "code",
   "execution_count": 17,
   "id": "966afb24",
   "metadata": {},
   "outputs": [],
   "source": [
    "from sklearn.model_selection import TimeSeriesSplit, cross_val_score\n",
    "from sklearn.metrics import mean_absolute_error\n",
    "# Define the number of splits (e.g., 5 for 80-20 train-test splits)\n",
    "n_splits = 3\n",
    "# Initialize the TimeSeriesSplit\n",
    "tscv = TimeSeriesSplit(n_splits=n_splits)"
   ]
  },
  {
   "cell_type": "code",
   "execution_count": 18,
   "id": "98133c44",
   "metadata": {},
   "outputs": [],
   "source": [
    "import lightgbm as lgb\n",
    "param = {'verbose' :-1}\n",
    "\n",
    "model = lgb.LGBMRegressor(**param)"
   ]
  },
  {
   "cell_type": "code",
   "execution_count": 19,
   "id": "5f4c36b2",
   "metadata": {},
   "outputs": [],
   "source": [
    "def test(df_dict):\n",
    "    mean_mae_list = []\n",
    "    for key in df_dict:\n",
    "        print(key)\n",
    "        data = df_dict[key]\n",
    "        maelist = []\n",
    "        for train_index, test_index in tscv.split(data):\n",
    "            train_data = data.iloc[train_index]\n",
    "            test_data = data.iloc[test_index]\n",
    "\n",
    "            # Extract target variable for training and testing data\n",
    "            y_train = train_data['pv_measurement']\n",
    "            y_test = test_data['pv_measurement']\n",
    "\n",
    "            # Extract features for training and testing data\n",
    "            X_train = train_data.drop(columns = 'pv_measurement')\n",
    "            X_test = test_data.drop(columns = 'pv_measurement')\n",
    "\n",
    "            # Train the XGBoost model\n",
    "            model.fit(X_train, y_train,eval_set=[(X_test,y_test)])\n",
    "\n",
    "            # Make predictions on the test data\n",
    "            y_pred = model.predict(X_test)\n",
    "\n",
    "            # Evaluate the model using Mean Absolute Error (MAE)\n",
    "            mae = mean_absolute_error(y_test, y_pred)\n",
    "            print(\"Mean Absolute Error:\", mae)\n",
    "            maelist.append(mae)\n",
    "        # Return MAE\n",
    "        mean_mae = np.average(maelist,weights=[1,2,3])\n",
    "        print(\"Mean MAE: \",mean_mae )\n",
    "        mean_mae_list.append(mean_mae)\n",
    "    return mean_mae_list"
   ]
  },
  {
   "cell_type": "code",
   "execution_count": null,
   "id": "2275de57",
   "metadata": {},
   "outputs": [
    {
     "name": "stdout",
     "output_type": "stream",
     "text": [
      "drop\n",
      "Mean Absolute Error: 39.24107551252952\n",
      "Mean Absolute Error: 37.346138506512176\n",
      "Mean Absolute Error: 14.490016527606235\n",
      "Mean MAE:  26.23390035139543\n",
      "zero\n",
      "Mean Absolute Error: 98.79672811531096\n",
      "Mean Absolute Error: 34.9474371903615\n",
      "Mean Absolute Error: 18.375115282463135\n",
      "Mean MAE:  37.302824723903896\n",
      "median\n",
      "Mean Absolute Error: 98.85084688972952\n",
      "Mean Absolute Error: 35.39362977321388\n",
      "Mean Absolute Error: 17.903465495469998\n",
      "Mean MAE:  37.224750487094546\n",
      "knn\n",
      "Mean Absolute Error: 34.95919711518043\n"
     ]
    }
   ],
   "source": [
    "test(df_dict)"
   ]
  },
  {
   "cell_type": "code",
   "execution_count": null,
   "id": "5107fee9",
   "metadata": {},
   "outputs": [],
   "source": [
    "columns = df_rolling4.drop(columns = 'pv_measurement').columns\n"
   ]
  },
  {
   "cell_type": "code",
   "execution_count": null,
   "id": "90fb19e0",
   "metadata": {},
   "outputs": [],
   "source": [
    "import numpy as np\n",
    "import pandas as pd\n",
    "from sklearn.preprocessing import MinMaxScaler\n",
    "\n",
    "# Crea un oggetto MinMaxScaler\n",
    "scaler = MinMaxScaler()\n",
    "\n",
    "# Normalizza il DataFrame\n",
    "df_normalized = pd.DataFrame(scaler.fit_transform(df_rolling2[columns]),columns = df_rolling2[columns].columns, index = df_rolling2[columns].index)\n",
    "df_normalized['pv_measurement'] = df_rolling4[ 'pv_measurement']"
   ]
  },
  {
   "cell_type": "code",
   "execution_count": null,
   "id": "02dc13c2",
   "metadata": {},
   "outputs": [],
   "source": [
    "import numpy as np\n",
    "import pandas as pd\n",
    "from sklearn.preprocessing import StandardScaler\n",
    "# Crea un oggetto StandardScaler\n",
    "scaler = StandardScaler()\n",
    "\n",
    "# Standardizza il DataFrame\n",
    "df_scaled = pd.DataFrame(scaler.fit_transform(df_rolling2[columns]),columns = df_rolling2[columns].columns, index = df_rolling2[columns].index)\n",
    "df_scaled['pv_measurement'] = df_rolling4[ 'pv_measurement']"
   ]
  },
  {
   "cell_type": "code",
   "execution_count": null,
   "id": "897fd7dc",
   "metadata": {},
   "outputs": [],
   "source": [
    "def z_score_standardization(data):\n",
    "  mean = np.mean(data)\n",
    "  std = np.std(data)\n",
    "  standardized_data = (data - mean) / std\n",
    "  return standardized_data\n",
    "\n",
    "def z_score_standardization_dataframe(df):\n",
    "    standardized_df = pd.DataFrame()\n",
    "    for column in df.columns:\n",
    "        standardized_df[column] = z_score_standardization(df[column])\n",
    "    return standardized_df\n",
    "\n",
    "# Esempio di utilizzo della funzione:\n",
    "\n",
    "df_zscore = df_rolling2[columns]\n",
    "\n",
    "df_zscore = z_score_standardization_dataframe(df_zscore)\n",
    "df_zscore['pv_measurement'] = df_rolling4[ 'pv_measurement']"
   ]
  },
  {
   "cell_type": "code",
   "execution_count": null,
   "id": "cc616f79",
   "metadata": {},
   "outputs": [],
   "source": [
    "df_scaled_norm = {\n",
    "    'norm' : df_normalized,\n",
    "    'scaled' : df_scaled,\n",
    "    'zscore' : df_zscore,\n",
    "}"
   ]
  },
  {
   "cell_type": "code",
   "execution_count": null,
   "id": "25d7d496",
   "metadata": {},
   "outputs": [],
   "source": [
    "test(df_scaled_norm)"
   ]
  },
  {
   "cell_type": "code",
   "execution_count": null,
   "id": "2241d6b3",
   "metadata": {},
   "outputs": [],
   "source": [
    "df_normalized['direct_radW'].plot()"
   ]
  },
  {
   "cell_type": "code",
   "execution_count": null,
   "id": "a9526078",
   "metadata": {},
   "outputs": [],
   "source": [
    "df_scaled['direct_radW'].plot()"
   ]
  },
  {
   "cell_type": "code",
   "execution_count": null,
   "id": "73efdaf7",
   "metadata": {},
   "outputs": [],
   "source": [
    "df_zscore['direct_radW'].plot()"
   ]
  },
  {
   "cell_type": "code",
   "execution_count": null,
   "id": "0dd70a19",
   "metadata": {},
   "outputs": [],
   "source": []
  }
 ],
 "metadata": {
  "kernelspec": {
   "display_name": "Python 3 (ipykernel)",
   "language": "python",
   "name": "python3"
  },
  "language_info": {
   "codemirror_mode": {
    "name": "ipython",
    "version": 3
   },
   "file_extension": ".py",
   "mimetype": "text/x-python",
   "name": "python",
   "nbconvert_exporter": "python",
   "pygments_lexer": "ipython3",
   "version": "3.11.4"
  }
 },
 "nbformat": 4,
 "nbformat_minor": 5
}
