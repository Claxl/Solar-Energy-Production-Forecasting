{
 "cells": [
  {
   "cell_type": "code",
   "execution_count": 1,
   "id": "ae99bf4d",
   "metadata": {},
   "outputs": [],
   "source": [
    "import pandas as pd\n",
    "import numpy as np\n",
    "import matplotlib.pyplot as plt"
   ]
  },
  {
   "cell_type": "code",
   "execution_count": 2,
   "id": "fc3b1064",
   "metadata": {},
   "outputs": [],
   "source": [
    "df_train_est_A = pd.read_csv('train_est_B.csv')\n",
    "df_train_obs_A = pd.read_csv('train_obs_B.csv')\n",
    "df_test_A = pd.read_csv('X_test_B.csv')\n",
    "df_train_est_A = df_train_est_A.rename(columns={'Unnamed: 0': 'date_forecast'})\n",
    "\n",
    "df_train_obs_A = df_train_obs_A.rename(columns={'Unnamed: 0': 'date_forecast'})\n",
    "\n",
    "df_test_A = df_test_A.rename(columns={'Unnamed: 0': 'date_forecast'})\n",
    "\n",
    "df_train_est_A.set_index('date_forecast', inplace=True)\n",
    "df_train_obs_A.set_index('date_forecast', inplace=True)\n",
    "df_test_A.set_index('date_forecast', inplace=True)\n",
    "df_train_obs_A.index = pd.to_datetime(df_train_obs_A.index)\n",
    "df_train_obs_A.index = pd.to_datetime(df_train_obs_A.index)"
   ]
  },
  {
   "cell_type": "code",
   "execution_count": 3,
   "id": "7b0d3a9d",
   "metadata": {},
   "outputs": [],
   "source": [
    "df = pd.concat([df_train_obs_A,df_train_est_A])\n",
    "df = df.drop(columns = 'date_calc', axis = 1)\n",
    "df_test_A = df_test_A.drop(columns = 'date_calc', axis = 1)"
   ]
  },
  {
   "cell_type": "code",
   "execution_count": 4,
   "id": "fc0849d5",
   "metadata": {},
   "outputs": [
    {
     "data": {
      "text/plain": [
       "(absolute_humidity_2m:gm3             24\n",
       " air_density_2m:kgm3                  24\n",
       " ceiling_height_agl:m               5183\n",
       " clear_sky_energy_1h:J                24\n",
       " clear_sky_rad:W                      24\n",
       " cloud_base_agl:m                   2196\n",
       " dew_or_rime:idx                      24\n",
       " dew_point_2m:K                       24\n",
       " diffuse_rad:W                        24\n",
       " diffuse_rad_1h:J                     24\n",
       " direct_rad:W                         24\n",
       " direct_rad_1h:J                      24\n",
       " effective_cloud_cover:p              24\n",
       " elevation:m                          24\n",
       " fresh_snow_12h:cm                    24\n",
       " fresh_snow_1h:cm                     24\n",
       " fresh_snow_24h:cm                    24\n",
       " fresh_snow_3h:cm                     24\n",
       " fresh_snow_6h:cm                     24\n",
       " is_day:idx                           24\n",
       " is_in_shadow:idx                     24\n",
       " msl_pressure:hPa                     24\n",
       " precip_5min:mm                       24\n",
       " precip_type_5min:idx                 24\n",
       " pressure_100m:hPa                    24\n",
       " pressure_50m:hPa                     24\n",
       " prob_rime:p                          24\n",
       " rain_water:kgm2                      24\n",
       " relative_humidity_1000hPa:p          24\n",
       " sfc_pressure:hPa                     24\n",
       " snow_density:kgm3                 31241\n",
       " snow_depth:cm                        24\n",
       " snow_drift:idx                       24\n",
       " snow_melt_10min:mm                   24\n",
       " snow_water:kgm2                      24\n",
       " sun_azimuth:d                        24\n",
       " sun_elevation:d                      24\n",
       " super_cooled_liquid_water:kgm2       24\n",
       " t_1000hPa:K                          24\n",
       " total_cloud_cover:p                  24\n",
       " visibility:m                         24\n",
       " wind_speed_10m:ms                    24\n",
       " wind_speed_u_10m:ms                  24\n",
       " wind_speed_v_10m:ms                  24\n",
       " wind_speed_w_1000hPa:ms              24\n",
       " pv_measurement                        4\n",
       " dtype: int64,\n",
       " (32847, 46))"
      ]
     },
     "execution_count": 4,
     "metadata": {},
     "output_type": "execute_result"
    }
   ],
   "source": [
    "df.isna().sum(), df.shape"
   ]
  },
  {
   "cell_type": "code",
   "execution_count": 5,
   "id": "c9073f1c",
   "metadata": {},
   "outputs": [
    {
     "data": {
      "text/plain": [
       "count    27664.000000\n",
       "mean      2735.589765\n",
       "std       2425.728099\n",
       "min         27.849998\n",
       "25%       1065.837500\n",
       "50%       1806.575000\n",
       "75%       3627.556250\n",
       "max      12285.775000\n",
       "Name: ceiling_height_agl:m, dtype: float64"
      ]
     },
     "execution_count": 5,
     "metadata": {},
     "output_type": "execute_result"
    }
   ],
   "source": [
    "df['ceiling_height_agl:m'].describe()"
   ]
  },
  {
   "cell_type": "code",
   "execution_count": 6,
   "id": "cb562fc8",
   "metadata": {},
   "outputs": [
    {
     "data": {
      "text/plain": [
       "count    30651.000000\n",
       "mean      1728.566279\n",
       "std       1730.413540\n",
       "min         27.975000\n",
       "25%        636.800000\n",
       "50%       1204.000000\n",
       "75%       2075.412500\n",
       "max      11673.725000\n",
       "Name: cloud_base_agl:m, dtype: float64"
      ]
     },
     "execution_count": 6,
     "metadata": {},
     "output_type": "execute_result"
    }
   ],
   "source": [
    "df['cloud_base_agl:m'].describe()"
   ]
  },
  {
   "cell_type": "markdown",
   "id": "7b6174ef",
   "metadata": {},
   "source": [
    "250 means settled snow"
   ]
  },
  {
   "cell_type": "code",
   "execution_count": 7,
   "id": "90f00c68",
   "metadata": {},
   "outputs": [
    {
     "data": {
      "text/plain": [
       "count    1606.0\n",
       "mean      250.0\n",
       "std         0.0\n",
       "min       250.0\n",
       "25%       250.0\n",
       "50%       250.0\n",
       "75%       250.0\n",
       "max       250.0\n",
       "Name: snow_density:kgm3, dtype: float64"
      ]
     },
     "execution_count": 7,
     "metadata": {},
     "output_type": "execute_result"
    }
   ],
   "source": [
    "df['snow_density:kgm3'].describe()"
   ]
  },
  {
   "cell_type": "code",
   "execution_count": 8,
   "id": "594f3ff7",
   "metadata": {},
   "outputs": [],
   "source": [
    "import re\n",
    "df = df.rename(columns = lambda x:re.sub('[^A-Za-z0-9_]+', '', x))"
   ]
  },
  {
   "cell_type": "code",
   "execution_count": 9,
   "id": "08b10b05",
   "metadata": {},
   "outputs": [],
   "source": [
    "df_nandrop = df\n",
    "df_nandrop = df_nandrop.drop(columns= ['snow_densitykgm3'],axis = 1)\n",
    "df_nandrop = df_nandrop.dropna()\n",
    "\n",
    "df_nan0 = df.fillna(0)\n",
    "df_nanmedian = df.fillna(df.median())\n",
    "df_rolling2 = df.fillna(df.rolling(2).mean())\n",
    "df_rolling4 = df.fillna(df.rolling(720).mean())"
   ]
  },
  {
   "cell_type": "code",
   "execution_count": 10,
   "id": "4d093d85",
   "metadata": {},
   "outputs": [],
   "source": [
    "from sklearn.impute import KNNImputer\n",
    "imputer = KNNImputer(n_neighbors=5)\n",
    "# Imputa i valori mancanti\n",
    "df_knn =pd.DataFrame(imputer.fit_transform(df),columns = df.columns, index = df.index)"
   ]
  },
  {
   "cell_type": "code",
   "execution_count": 11,
   "id": "64ca8a20",
   "metadata": {},
   "outputs": [],
   "source": [
    "df_dict = {\n",
    "    'drop' : df_nandrop,\n",
    "    'zero' : df_nan0,\n",
    "    'median' : df_nanmedian,\n",
    "    'knn' : df_knn,\n",
    "    'rolling2' : df_rolling2,\n",
    "    'rolling4' : df_rolling4,\n",
    "}"
   ]
  },
  {
   "cell_type": "code",
   "execution_count": 12,
   "id": "966afb24",
   "metadata": {},
   "outputs": [],
   "source": [
    "from sklearn.model_selection import TimeSeriesSplit, cross_val_score\n",
    "from sklearn.metrics import mean_absolute_error\n",
    "# Define the number of splits (e.g., 5 for 80-20 train-test splits)\n",
    "n_splits = 3\n",
    "# Initialize the TimeSeriesSplit\n",
    "tscv = TimeSeriesSplit(n_splits=n_splits)"
   ]
  },
  {
   "cell_type": "code",
   "execution_count": 13,
   "id": "98133c44",
   "metadata": {},
   "outputs": [],
   "source": [
    "import lightgbm as lgb\n",
    "param = {'verbose' :-1}\n",
    "\n",
    "model = lgb.LGBMRegressor(**param)"
   ]
  },
  {
   "cell_type": "code",
   "execution_count": 14,
   "id": "5f4c36b2",
   "metadata": {},
   "outputs": [],
   "source": [
    "def test(df_dict):\n",
    "    mean_mae_list = []\n",
    "    for key in df_dict:\n",
    "        print(key)\n",
    "        data = df_dict[key]\n",
    "        maelist = []\n",
    "        for train_index, test_index in tscv.split(data):\n",
    "            train_data = data.iloc[train_index]\n",
    "            test_data = data.iloc[test_index]\n",
    "\n",
    "            # Extract target variable for training and testing data\n",
    "            y_train = train_data['pv_measurement']\n",
    "            y_test = test_data['pv_measurement']\n",
    "\n",
    "            # Extract features for training and testing data\n",
    "            X_train = train_data.drop(columns = 'pv_measurement')\n",
    "            X_test = test_data.drop(columns = 'pv_measurement')\n",
    "\n",
    "            # Train the XGBoost model\n",
    "            model.fit(X_train, y_train,eval_set=[(X_test,y_test)])\n",
    "\n",
    "            # Make predictions on the test data\n",
    "            y_pred = model.predict(X_test)\n",
    "\n",
    "            # Evaluate the model using Mean Absolute Error (MAE)\n",
    "            mae = mean_absolute_error(y_test, y_pred)\n",
    "            print(\"Mean Absolute Error:\", mae)\n",
    "            maelist.append(mae)\n",
    "        # Return MAE\n",
    "        mean_mae = np.average(maelist,weights=[1,2,3])\n",
    "        print(\"Mean MAE: \",mean_mae )\n",
    "        mean_mae_list.append(mean_mae)\n",
    "    return mean_mae_list"
   ]
  },
  {
   "cell_type": "code",
   "execution_count": 15,
   "id": "2275de57",
   "metadata": {},
   "outputs": [
    {
     "name": "stdout",
     "output_type": "stream",
     "text": [
      "nan\n"
     ]
    },
    {
     "ename": "ValueError",
     "evalue": "Input contains NaN.",
     "output_type": "error",
     "traceback": [
      "\u001b[1;31m---------------------------------------------------------------------------\u001b[0m",
      "\u001b[1;31mValueError\u001b[0m                                Traceback (most recent call last)",
      "Cell \u001b[1;32mIn[15], line 1\u001b[0m\n\u001b[1;32m----> 1\u001b[0m test(df_dict)\n",
      "Cell \u001b[1;32mIn[14], line 26\u001b[0m, in \u001b[0;36mtest\u001b[1;34m(df_dict)\u001b[0m\n\u001b[0;32m     23\u001b[0m y_pred \u001b[38;5;241m=\u001b[39m model\u001b[38;5;241m.\u001b[39mpredict(X_test)\n\u001b[0;32m     25\u001b[0m \u001b[38;5;66;03m# Evaluate the model using Mean Absolute Error (MAE)\u001b[39;00m\n\u001b[1;32m---> 26\u001b[0m mae \u001b[38;5;241m=\u001b[39m mean_absolute_error(y_test, y_pred)\n\u001b[0;32m     27\u001b[0m \u001b[38;5;28mprint\u001b[39m(\u001b[38;5;124m\"\u001b[39m\u001b[38;5;124mMean Absolute Error:\u001b[39m\u001b[38;5;124m\"\u001b[39m, mae)\n\u001b[0;32m     28\u001b[0m maelist\u001b[38;5;241m.\u001b[39mappend(mae)\n",
      "File \u001b[1;32m~\\anaconda3\\Lib\\site-packages\\sklearn\\utils\\_param_validation.py:211\u001b[0m, in \u001b[0;36mvalidate_params.<locals>.decorator.<locals>.wrapper\u001b[1;34m(*args, **kwargs)\u001b[0m\n\u001b[0;32m    205\u001b[0m \u001b[38;5;28;01mtry\u001b[39;00m:\n\u001b[0;32m    206\u001b[0m     \u001b[38;5;28;01mwith\u001b[39;00m config_context(\n\u001b[0;32m    207\u001b[0m         skip_parameter_validation\u001b[38;5;241m=\u001b[39m(\n\u001b[0;32m    208\u001b[0m             prefer_skip_nested_validation \u001b[38;5;129;01mor\u001b[39;00m global_skip_validation\n\u001b[0;32m    209\u001b[0m         )\n\u001b[0;32m    210\u001b[0m     ):\n\u001b[1;32m--> 211\u001b[0m         \u001b[38;5;28;01mreturn\u001b[39;00m func(\u001b[38;5;241m*\u001b[39margs, \u001b[38;5;241m*\u001b[39m\u001b[38;5;241m*\u001b[39mkwargs)\n\u001b[0;32m    212\u001b[0m \u001b[38;5;28;01mexcept\u001b[39;00m InvalidParameterError \u001b[38;5;28;01mas\u001b[39;00m e:\n\u001b[0;32m    213\u001b[0m     \u001b[38;5;66;03m# When the function is just a wrapper around an estimator, we allow\u001b[39;00m\n\u001b[0;32m    214\u001b[0m     \u001b[38;5;66;03m# the function to delegate validation to the estimator, but we replace\u001b[39;00m\n\u001b[0;32m    215\u001b[0m     \u001b[38;5;66;03m# the name of the estimator by the name of the function in the error\u001b[39;00m\n\u001b[0;32m    216\u001b[0m     \u001b[38;5;66;03m# message to avoid confusion.\u001b[39;00m\n\u001b[0;32m    217\u001b[0m     msg \u001b[38;5;241m=\u001b[39m re\u001b[38;5;241m.\u001b[39msub(\n\u001b[0;32m    218\u001b[0m         \u001b[38;5;124mr\u001b[39m\u001b[38;5;124m\"\u001b[39m\u001b[38;5;124mparameter of \u001b[39m\u001b[38;5;124m\\\u001b[39m\u001b[38;5;124mw+ must be\u001b[39m\u001b[38;5;124m\"\u001b[39m,\n\u001b[0;32m    219\u001b[0m         \u001b[38;5;124mf\u001b[39m\u001b[38;5;124m\"\u001b[39m\u001b[38;5;124mparameter of \u001b[39m\u001b[38;5;132;01m{\u001b[39;00mfunc\u001b[38;5;241m.\u001b[39m\u001b[38;5;18m__qualname__\u001b[39m\u001b[38;5;132;01m}\u001b[39;00m\u001b[38;5;124m must be\u001b[39m\u001b[38;5;124m\"\u001b[39m,\n\u001b[0;32m    220\u001b[0m         \u001b[38;5;28mstr\u001b[39m(e),\n\u001b[0;32m    221\u001b[0m     )\n",
      "File \u001b[1;32m~\\anaconda3\\Lib\\site-packages\\sklearn\\metrics\\_regression.py:204\u001b[0m, in \u001b[0;36mmean_absolute_error\u001b[1;34m(y_true, y_pred, sample_weight, multioutput)\u001b[0m\n\u001b[0;32m    140\u001b[0m \u001b[38;5;129m@validate_params\u001b[39m(\n\u001b[0;32m    141\u001b[0m     {\n\u001b[0;32m    142\u001b[0m         \u001b[38;5;124m\"\u001b[39m\u001b[38;5;124my_true\u001b[39m\u001b[38;5;124m\"\u001b[39m: [\u001b[38;5;124m\"\u001b[39m\u001b[38;5;124marray-like\u001b[39m\u001b[38;5;124m\"\u001b[39m],\n\u001b[1;32m   (...)\u001b[0m\n\u001b[0;32m    150\u001b[0m     y_true, y_pred, \u001b[38;5;241m*\u001b[39m, sample_weight\u001b[38;5;241m=\u001b[39m\u001b[38;5;28;01mNone\u001b[39;00m, multioutput\u001b[38;5;241m=\u001b[39m\u001b[38;5;124m\"\u001b[39m\u001b[38;5;124muniform_average\u001b[39m\u001b[38;5;124m\"\u001b[39m\n\u001b[0;32m    151\u001b[0m ):\n\u001b[0;32m    152\u001b[0m \u001b[38;5;250m    \u001b[39m\u001b[38;5;124;03m\"\"\"Mean absolute error regression loss.\u001b[39;00m\n\u001b[0;32m    153\u001b[0m \n\u001b[0;32m    154\u001b[0m \u001b[38;5;124;03m    Read more in the :ref:`User Guide <mean_absolute_error>`.\u001b[39;00m\n\u001b[1;32m   (...)\u001b[0m\n\u001b[0;32m    202\u001b[0m \u001b[38;5;124;03m    0.85...\u001b[39;00m\n\u001b[0;32m    203\u001b[0m \u001b[38;5;124;03m    \"\"\"\u001b[39;00m\n\u001b[1;32m--> 204\u001b[0m     y_type, y_true, y_pred, multioutput \u001b[38;5;241m=\u001b[39m _check_reg_targets(\n\u001b[0;32m    205\u001b[0m         y_true, y_pred, multioutput\n\u001b[0;32m    206\u001b[0m     )\n\u001b[0;32m    207\u001b[0m     check_consistent_length(y_true, y_pred, sample_weight)\n\u001b[0;32m    208\u001b[0m     output_errors \u001b[38;5;241m=\u001b[39m np\u001b[38;5;241m.\u001b[39maverage(np\u001b[38;5;241m.\u001b[39mabs(y_pred \u001b[38;5;241m-\u001b[39m y_true), weights\u001b[38;5;241m=\u001b[39msample_weight, axis\u001b[38;5;241m=\u001b[39m\u001b[38;5;241m0\u001b[39m)\n",
      "File \u001b[1;32m~\\anaconda3\\Lib\\site-packages\\sklearn\\metrics\\_regression.py:100\u001b[0m, in \u001b[0;36m_check_reg_targets\u001b[1;34m(y_true, y_pred, multioutput, dtype)\u001b[0m\n\u001b[0;32m     66\u001b[0m \u001b[38;5;250m\u001b[39m\u001b[38;5;124;03m\"\"\"Check that y_true and y_pred belong to the same regression task.\u001b[39;00m\n\u001b[0;32m     67\u001b[0m \n\u001b[0;32m     68\u001b[0m \u001b[38;5;124;03mParameters\u001b[39;00m\n\u001b[1;32m   (...)\u001b[0m\n\u001b[0;32m     97\u001b[0m \u001b[38;5;124;03m    correct keyword.\u001b[39;00m\n\u001b[0;32m     98\u001b[0m \u001b[38;5;124;03m\"\"\"\u001b[39;00m\n\u001b[0;32m     99\u001b[0m check_consistent_length(y_true, y_pred)\n\u001b[1;32m--> 100\u001b[0m y_true \u001b[38;5;241m=\u001b[39m check_array(y_true, ensure_2d\u001b[38;5;241m=\u001b[39m\u001b[38;5;28;01mFalse\u001b[39;00m, dtype\u001b[38;5;241m=\u001b[39mdtype)\n\u001b[0;32m    101\u001b[0m y_pred \u001b[38;5;241m=\u001b[39m check_array(y_pred, ensure_2d\u001b[38;5;241m=\u001b[39m\u001b[38;5;28;01mFalse\u001b[39;00m, dtype\u001b[38;5;241m=\u001b[39mdtype)\n\u001b[0;32m    103\u001b[0m \u001b[38;5;28;01mif\u001b[39;00m y_true\u001b[38;5;241m.\u001b[39mndim \u001b[38;5;241m==\u001b[39m \u001b[38;5;241m1\u001b[39m:\n",
      "File \u001b[1;32m~\\anaconda3\\Lib\\site-packages\\sklearn\\utils\\validation.py:959\u001b[0m, in \u001b[0;36mcheck_array\u001b[1;34m(array, accept_sparse, accept_large_sparse, dtype, order, copy, force_all_finite, ensure_2d, allow_nd, ensure_min_samples, ensure_min_features, estimator, input_name)\u001b[0m\n\u001b[0;32m    953\u001b[0m         \u001b[38;5;28;01mraise\u001b[39;00m \u001b[38;5;167;01mValueError\u001b[39;00m(\n\u001b[0;32m    954\u001b[0m             \u001b[38;5;124m\"\u001b[39m\u001b[38;5;124mFound array with dim \u001b[39m\u001b[38;5;132;01m%d\u001b[39;00m\u001b[38;5;124m. \u001b[39m\u001b[38;5;132;01m%s\u001b[39;00m\u001b[38;5;124m expected <= 2.\u001b[39m\u001b[38;5;124m\"\u001b[39m\n\u001b[0;32m    955\u001b[0m             \u001b[38;5;241m%\u001b[39m (array\u001b[38;5;241m.\u001b[39mndim, estimator_name)\n\u001b[0;32m    956\u001b[0m         )\n\u001b[0;32m    958\u001b[0m     \u001b[38;5;28;01mif\u001b[39;00m force_all_finite:\n\u001b[1;32m--> 959\u001b[0m         _assert_all_finite(\n\u001b[0;32m    960\u001b[0m             array,\n\u001b[0;32m    961\u001b[0m             input_name\u001b[38;5;241m=\u001b[39minput_name,\n\u001b[0;32m    962\u001b[0m             estimator_name\u001b[38;5;241m=\u001b[39mestimator_name,\n\u001b[0;32m    963\u001b[0m             allow_nan\u001b[38;5;241m=\u001b[39mforce_all_finite \u001b[38;5;241m==\u001b[39m \u001b[38;5;124m\"\u001b[39m\u001b[38;5;124mallow-nan\u001b[39m\u001b[38;5;124m\"\u001b[39m,\n\u001b[0;32m    964\u001b[0m         )\n\u001b[0;32m    966\u001b[0m \u001b[38;5;28;01mif\u001b[39;00m ensure_min_samples \u001b[38;5;241m>\u001b[39m \u001b[38;5;241m0\u001b[39m:\n\u001b[0;32m    967\u001b[0m     n_samples \u001b[38;5;241m=\u001b[39m _num_samples(array)\n",
      "File \u001b[1;32m~\\anaconda3\\Lib\\site-packages\\sklearn\\utils\\validation.py:124\u001b[0m, in \u001b[0;36m_assert_all_finite\u001b[1;34m(X, allow_nan, msg_dtype, estimator_name, input_name)\u001b[0m\n\u001b[0;32m    121\u001b[0m \u001b[38;5;28;01mif\u001b[39;00m first_pass_isfinite:\n\u001b[0;32m    122\u001b[0m     \u001b[38;5;28;01mreturn\u001b[39;00m\n\u001b[1;32m--> 124\u001b[0m _assert_all_finite_element_wise(\n\u001b[0;32m    125\u001b[0m     X,\n\u001b[0;32m    126\u001b[0m     xp\u001b[38;5;241m=\u001b[39mxp,\n\u001b[0;32m    127\u001b[0m     allow_nan\u001b[38;5;241m=\u001b[39mallow_nan,\n\u001b[0;32m    128\u001b[0m     msg_dtype\u001b[38;5;241m=\u001b[39mmsg_dtype,\n\u001b[0;32m    129\u001b[0m     estimator_name\u001b[38;5;241m=\u001b[39mestimator_name,\n\u001b[0;32m    130\u001b[0m     input_name\u001b[38;5;241m=\u001b[39minput_name,\n\u001b[0;32m    131\u001b[0m )\n",
      "File \u001b[1;32m~\\anaconda3\\Lib\\site-packages\\sklearn\\utils\\validation.py:173\u001b[0m, in \u001b[0;36m_assert_all_finite_element_wise\u001b[1;34m(X, xp, allow_nan, msg_dtype, estimator_name, input_name)\u001b[0m\n\u001b[0;32m    156\u001b[0m \u001b[38;5;28;01mif\u001b[39;00m estimator_name \u001b[38;5;129;01mand\u001b[39;00m input_name \u001b[38;5;241m==\u001b[39m \u001b[38;5;124m\"\u001b[39m\u001b[38;5;124mX\u001b[39m\u001b[38;5;124m\"\u001b[39m \u001b[38;5;129;01mand\u001b[39;00m has_nan_error:\n\u001b[0;32m    157\u001b[0m     \u001b[38;5;66;03m# Improve the error message on how to handle missing values in\u001b[39;00m\n\u001b[0;32m    158\u001b[0m     \u001b[38;5;66;03m# scikit-learn.\u001b[39;00m\n\u001b[0;32m    159\u001b[0m     msg_err \u001b[38;5;241m+\u001b[39m\u001b[38;5;241m=\u001b[39m (\n\u001b[0;32m    160\u001b[0m         \u001b[38;5;124mf\u001b[39m\u001b[38;5;124m\"\u001b[39m\u001b[38;5;130;01m\\n\u001b[39;00m\u001b[38;5;132;01m{\u001b[39;00mestimator_name\u001b[38;5;132;01m}\u001b[39;00m\u001b[38;5;124m does not accept missing values\u001b[39m\u001b[38;5;124m\"\u001b[39m\n\u001b[0;32m    161\u001b[0m         \u001b[38;5;124m\"\u001b[39m\u001b[38;5;124m encoded as NaN natively. For supervised learning, you might want\u001b[39m\u001b[38;5;124m\"\u001b[39m\n\u001b[1;32m   (...)\u001b[0m\n\u001b[0;32m    171\u001b[0m         \u001b[38;5;124m\"\u001b[39m\u001b[38;5;124m#estimators-that-handle-nan-values\u001b[39m\u001b[38;5;124m\"\u001b[39m\n\u001b[0;32m    172\u001b[0m     )\n\u001b[1;32m--> 173\u001b[0m \u001b[38;5;28;01mraise\u001b[39;00m \u001b[38;5;167;01mValueError\u001b[39;00m(msg_err)\n",
      "\u001b[1;31mValueError\u001b[0m: Input contains NaN."
     ]
    }
   ],
   "source": [
    "test(df_dict)"
   ]
  },
  {
   "cell_type": "code",
   "execution_count": null,
   "id": "5107fee9",
   "metadata": {},
   "outputs": [],
   "source": [
    "columns = df_rolling4.drop(columns = 'pv_measurement').columns\n"
   ]
  },
  {
   "cell_type": "code",
   "execution_count": null,
   "id": "90fb19e0",
   "metadata": {},
   "outputs": [],
   "source": [
    "import numpy as np\n",
    "import pandas as pd\n",
    "from sklearn.preprocessing import MinMaxScaler\n",
    "\n",
    "# Crea un oggetto MinMaxScaler\n",
    "scaler = MinMaxScaler()\n",
    "\n",
    "# Normalizza il DataFrame\n",
    "df_normalized = pd.DataFrame(scaler.fit_transform(df_rolling2[columns]),columns = df_rolling2[columns].columns, index = df_rolling2[columns].index)\n",
    "df_normalized['pv_measurement'] = df_rolling4[ 'pv_measurement']"
   ]
  },
  {
   "cell_type": "code",
   "execution_count": null,
   "id": "02dc13c2",
   "metadata": {},
   "outputs": [],
   "source": [
    "import numpy as np\n",
    "import pandas as pd\n",
    "from sklearn.preprocessing import StandardScaler\n",
    "# Crea un oggetto StandardScaler\n",
    "scaler = StandardScaler()\n",
    "\n",
    "# Standardizza il DataFrame\n",
    "df_scaled = pd.DataFrame(scaler.fit_transform(df_rolling2[columns]),columns = df_rolling2[columns].columns, index = df_rolling2[columns].index)\n",
    "df_scaled['pv_measurement'] = df_rolling4[ 'pv_measurement']"
   ]
  },
  {
   "cell_type": "code",
   "execution_count": null,
   "id": "897fd7dc",
   "metadata": {},
   "outputs": [],
   "source": [
    "def z_score_standardization(data):\n",
    "  mean = np.mean(data)\n",
    "  std = np.std(data)\n",
    "  standardized_data = (data - mean) / std\n",
    "  return standardized_data\n",
    "\n",
    "def z_score_standardization_dataframe(df):\n",
    "    standardized_df = pd.DataFrame()\n",
    "    for column in df.columns:\n",
    "        standardized_df[column] = z_score_standardization(df[column])\n",
    "    return standardized_df\n",
    "\n",
    "# Esempio di utilizzo della funzione:\n",
    "\n",
    "df_zscore = df_rolling2[columns]\n",
    "\n",
    "df_zscore = z_score_standardization_dataframe(df_zscore)\n",
    "df_zscore['pv_measurement'] = df_rolling4[ 'pv_measurement']"
   ]
  },
  {
   "cell_type": "code",
   "execution_count": null,
   "id": "cc616f79",
   "metadata": {},
   "outputs": [],
   "source": [
    "df_scaled_norm = {\n",
    "    'norm' : df_normalized,\n",
    "    'scaled' : df_scaled,\n",
    "    'zscore' : df_zscore,\n",
    "}"
   ]
  },
  {
   "cell_type": "code",
   "execution_count": null,
   "id": "25d7d496",
   "metadata": {},
   "outputs": [],
   "source": [
    "test(df_scaled_norm)"
   ]
  },
  {
   "cell_type": "code",
   "execution_count": null,
   "id": "2241d6b3",
   "metadata": {},
   "outputs": [],
   "source": [
    "df_normalized['direct_radW'].plot()"
   ]
  },
  {
   "cell_type": "code",
   "execution_count": null,
   "id": "a9526078",
   "metadata": {},
   "outputs": [],
   "source": [
    "df_scaled['direct_radW'].plot()"
   ]
  },
  {
   "cell_type": "code",
   "execution_count": null,
   "id": "73efdaf7",
   "metadata": {},
   "outputs": [],
   "source": [
    "df_zscore['direct_radW'].plot()"
   ]
  }
 ],
 "metadata": {
  "kernelspec": {
   "display_name": "Python 3 (ipykernel)",
   "language": "python",
   "name": "python3"
  },
  "language_info": {
   "codemirror_mode": {
    "name": "ipython",
    "version": 3
   },
   "file_extension": ".py",
   "mimetype": "text/x-python",
   "name": "python",
   "nbconvert_exporter": "python",
   "pygments_lexer": "ipython3",
   "version": "3.11.4"
  }
 },
 "nbformat": 4,
 "nbformat_minor": 5
}
