{
 "cells": [
  {
   "cell_type": "code",
   "execution_count": 1,
   "id": "ae99bf4d",
   "metadata": {},
   "outputs": [],
   "source": [
    "import pandas as pd\n",
    "import numpy as np\n",
    "import matplotlib.pyplot as plt"
   ]
  },
  {
   "cell_type": "code",
   "execution_count": 2,
   "id": "fc3b1064",
   "metadata": {},
   "outputs": [],
   "source": [
    "df_train_est_A = pd.read_csv('train_est_C.csv')\n",
    "df_train_obs_A = pd.read_csv('train_obs_C.csv')\n",
    "df_test_A = pd.read_csv('X_test_C.csv')\n",
    "df_train_est_A = df_train_est_A.rename(columns={'Unnamed: 0': 'date_forecast'})\n",
    "\n",
    "df_train_obs_A = df_train_obs_A.rename(columns={'Unnamed: 0': 'date_forecast'})\n",
    "\n",
    "df_test_A = df_test_A.rename(columns={'Unnamed: 0': 'date_forecast'})\n",
    "\n",
    "df_train_est_A.set_index('date_forecast', inplace=True)\n",
    "df_train_obs_A.set_index('date_forecast', inplace=True)\n",
    "df_test_A.set_index('date_forecast', inplace=True)\n",
    "df_train_obs_A.index = pd.to_datetime(df_train_obs_A.index)\n",
    "df_train_obs_A.index = pd.to_datetime(df_train_obs_A.index)"
   ]
  },
  {
   "cell_type": "code",
   "execution_count": 3,
   "id": "7b0d3a9d",
   "metadata": {},
   "outputs": [],
   "source": [
    "df = pd.concat([df_train_obs_A,df_train_est_A])\n",
    "df = df.drop(columns = 'date_calc', axis = 1)\n",
    "df_test_A = df_test_A.drop(columns = 'date_calc', axis = 1)"
   ]
  },
  {
   "cell_type": "code",
   "execution_count": 29,
   "id": "594f3ff7",
   "metadata": {},
   "outputs": [],
   "source": [
    "import re\n",
    "df = df.rename(columns = lambda x:re.sub('[^A-Za-z0-9_]+', '', x))"
   ]
  },
  {
   "cell_type": "code",
   "execution_count": 37,
   "id": "08b10b05",
   "metadata": {},
   "outputs": [],
   "source": [
    "df_nandrop = df\n",
    "df_nandrop = df_nandrop.drop(columns= ['snow_densitykgm3'],axis = 1)\n",
    "df_nandrop = df_nandrop.dropna()\n",
    "\n",
    "df_nan0 = df.fillna(0)\n",
    "df_nanmedian = df.fillna(df.median())"
   ]
  },
  {
   "cell_type": "code",
   "execution_count": 38,
   "id": "4d093d85",
   "metadata": {},
   "outputs": [],
   "source": [
    "from sklearn.impute import KNNImputer\n",
    "imputer = KNNImputer(n_neighbors=5)\n",
    "# Imputa i valori mancanti\n",
    "df_knn =pd.DataFrame(imputer.fit_transform(df),columns = df.columns, index = df.index)"
   ]
  },
  {
   "cell_type": "code",
   "execution_count": 39,
   "id": "64ca8a20",
   "metadata": {},
   "outputs": [],
   "source": [
    "df_dict = {\n",
    "    'drop' : df_nandrop,\n",
    "    'zero' : df_nan0,\n",
    "    'median' : df_nanmedian,\n",
    "    'knn' : df_knn,\n",
    "}"
   ]
  },
  {
   "cell_type": "code",
   "execution_count": 40,
   "id": "966afb24",
   "metadata": {},
   "outputs": [],
   "source": [
    "from sklearn.model_selection import TimeSeriesSplit, cross_val_score\n",
    "from sklearn.metrics import mean_absolute_error\n",
    "# Define the number of splits (e.g., 5 for 80-20 train-test splits)\n",
    "n_splits = 3\n",
    "# Initialize the TimeSeriesSplit\n",
    "tscv = TimeSeriesSplit(n_splits=n_splits)"
   ]
  },
  {
   "cell_type": "code",
   "execution_count": 41,
   "id": "98133c44",
   "metadata": {},
   "outputs": [],
   "source": [
    "import lightgbm as lgb\n",
    "param = {'verbose' :-1}\n",
    "\n",
    "model = lgb.LGBMRegressor(**param)"
   ]
  },
  {
   "cell_type": "code",
   "execution_count": 42,
   "id": "5f4c36b2",
   "metadata": {},
   "outputs": [],
   "source": [
    "def test(df_dict):\n",
    "    mean_mae_list = []\n",
    "    for key in df_dict:\n",
    "        print(key)\n",
    "        data = df_dict[key]\n",
    "        maelist = []\n",
    "        for train_index, test_index in tscv.split(data):\n",
    "            train_data = data.iloc[train_index]\n",
    "            test_data = data.iloc[test_index]\n",
    "\n",
    "            # Extract target variable for training and testing data\n",
    "            y_train = train_data['pv_measurement']\n",
    "            y_test = test_data['pv_measurement']\n",
    "\n",
    "            # Extract features for training and testing data\n",
    "            X_train = train_data.drop(columns = 'pv_measurement')\n",
    "            X_test = test_data.drop(columns = 'pv_measurement')\n",
    "\n",
    "            # Train the XGBoost model\n",
    "            model.fit(X_train, y_train,eval_set=[(X_test,y_test)])\n",
    "\n",
    "            # Make predictions on the test data\n",
    "            y_pred = model.predict(X_test)\n",
    "\n",
    "            # Evaluate the model using Mean Absolute Error (MAE)\n",
    "            mae = mean_absolute_error(y_test, y_pred)\n",
    "            print(\"Mean Absolute Error:\", mae)\n",
    "            maelist.append(mae)\n",
    "        # Return MAE\n",
    "        mean_mae = np.average(maelist,weights=[1,2,3])\n",
    "        print(\"Mean MAE: \",mean_mae )\n",
    "        mean_mae_list.append(mean_mae)\n",
    "    return mean_mae_list"
   ]
  },
  {
   "cell_type": "code",
   "execution_count": 43,
   "id": "2275de57",
   "metadata": {},
   "outputs": [
    {
     "name": "stdout",
     "output_type": "stream",
     "text": [
      "drop\n",
      "Mean Absolute Error: 39.24107551252952\n",
      "Mean Absolute Error: 37.346138506512176\n",
      "Mean Absolute Error: 14.490016527606235\n",
      "Mean MAE:  26.23390035139543\n",
      "zero\n",
      "Mean Absolute Error: 98.79672811531096\n",
      "Mean Absolute Error: 34.9474371903615\n",
      "Mean Absolute Error: 18.375115282463135\n",
      "Mean MAE:  37.302824723903896\n",
      "median\n",
      "Mean Absolute Error: 98.85084688972952\n",
      "Mean Absolute Error: 35.39362977321388\n",
      "Mean Absolute Error: 17.903465495469998\n",
      "Mean MAE:  37.224750487094546\n",
      "knn\n",
      "Mean Absolute Error: 34.95919711518043\n",
      "Mean Absolute Error: 29.098108001739494\n",
      "Mean Absolute Error: 16.65688442748432\n",
      "Mean MAE:  23.854344400185397\n"
     ]
    },
    {
     "data": {
      "text/plain": [
       "[26.23390035139543, 37.302824723903896, 37.224750487094546, 23.854344400185397]"
      ]
     },
     "execution_count": 43,
     "metadata": {},
     "output_type": "execute_result"
    }
   ],
   "source": [
    "test(df_dict)"
   ]
  },
  {
   "cell_type": "code",
   "execution_count": 51,
   "id": "5107fee9",
   "metadata": {},
   "outputs": [],
   "source": [
    "columns = df_nandrop.drop(columns = 'pv_measurement').columns\n"
   ]
  },
  {
   "cell_type": "code",
   "execution_count": 52,
   "id": "90fb19e0",
   "metadata": {},
   "outputs": [],
   "source": [
    "import numpy as np\n",
    "import pandas as pd\n",
    "from sklearn.preprocessing import MinMaxScaler\n",
    "\n",
    "# Crea un oggetto MinMaxScaler\n",
    "scaler = MinMaxScaler()\n",
    "\n",
    "# Normalizza il DataFrame\n",
    "df_normalized = pd.DataFrame(scaler.fit_transform(df_knn[columns]),columns = df_knn[columns].columns, index = df_knn[columns].index)\n",
    "df_normalized['pv_measurement'] = df_knn[ 'pv_measurement']"
   ]
  },
  {
   "cell_type": "code",
   "execution_count": 53,
   "id": "02dc13c2",
   "metadata": {},
   "outputs": [],
   "source": [
    "import numpy as np\n",
    "import pandas as pd\n",
    "from sklearn.preprocessing import StandardScaler\n",
    "# Crea un oggetto StandardScaler\n",
    "scaler = StandardScaler()\n",
    "\n",
    "# Standardizza il DataFrame\n",
    "df_scaled = pd.DataFrame(scaler.fit_transform(df_knn[columns]),columns = df_knn[columns].columns, index = df_knn[columns].index)\n",
    "df_scaled['pv_measurement'] = df_knn[ 'pv_measurement']"
   ]
  },
  {
   "cell_type": "code",
   "execution_count": 54,
   "id": "897fd7dc",
   "metadata": {},
   "outputs": [],
   "source": [
    "def z_score_standardization(data):\n",
    "  mean = np.mean(data)\n",
    "  std = np.std(data)\n",
    "  standardized_data = (data - mean) / std\n",
    "  return standardized_data\n",
    "\n",
    "def z_score_standardization_dataframe(df):\n",
    "    standardized_df = pd.DataFrame()\n",
    "    for column in df.columns:\n",
    "        standardized_df[column] = z_score_standardization(df[column])\n",
    "    return standardized_df\n",
    "\n",
    "# Esempio di utilizzo della funzione:\n",
    "\n",
    "df_zscore = df_knn[columns]\n",
    "\n",
    "df_zscore = z_score_standardization_dataframe(df_zscore)\n",
    "df_zscore['pv_measurement'] = df_knn[ 'pv_measurement']"
   ]
  },
  {
   "cell_type": "code",
   "execution_count": 55,
   "id": "cc616f79",
   "metadata": {},
   "outputs": [],
   "source": [
    "df_scaled_norm = {\n",
    "    'norm' : df_normalized,\n",
    "    'scaled' : df_scaled,\n",
    "    'zscore' : df_zscore,\n",
    "}"
   ]
  },
  {
   "cell_type": "code",
   "execution_count": 56,
   "id": "25d7d496",
   "metadata": {},
   "outputs": [
    {
     "name": "stdout",
     "output_type": "stream",
     "text": [
      "norm\n",
      "Mean Absolute Error: 34.90863321039037\n",
      "Mean Absolute Error: 29.122741607412955\n",
      "Mean Absolute Error: 16.46745247464237\n",
      "Mean MAE:  23.759412308190566\n",
      "scaled\n",
      "Mean Absolute Error: 35.15013672830231\n",
      "Mean Absolute Error: 29.132501168081177\n",
      "Mean Absolute Error: 16.5837881034236\n",
      "Mean MAE:  23.86108389578924\n",
      "zscore\n",
      "Mean Absolute Error: 35.15013672830231\n",
      "Mean Absolute Error: 29.132501168081177\n",
      "Mean Absolute Error: 16.5837881034236\n",
      "Mean MAE:  23.86108389578924\n"
     ]
    },
    {
     "data": {
      "text/plain": [
       "[23.759412308190566, 23.86108389578924, 23.86108389578924]"
      ]
     },
     "execution_count": 56,
     "metadata": {},
     "output_type": "execute_result"
    }
   ],
   "source": [
    "test(df_scaled_norm)"
   ]
  },
  {
   "cell_type": "code",
   "execution_count": null,
   "id": "2241d6b3",
   "metadata": {},
   "outputs": [],
   "source": [
    "df_normalized['direct_radW'].plot()"
   ]
  },
  {
   "cell_type": "code",
   "execution_count": null,
   "id": "a9526078",
   "metadata": {},
   "outputs": [],
   "source": [
    "df_scaled['direct_radW'].plot()"
   ]
  },
  {
   "cell_type": "code",
   "execution_count": null,
   "id": "73efdaf7",
   "metadata": {},
   "outputs": [],
   "source": [
    "df_zscore['direct_radW'].plot()"
   ]
  },
  {
   "cell_type": "code",
   "execution_count": null,
   "id": "082a2525",
   "metadata": {},
   "outputs": [],
   "source": []
  }
 ],
 "metadata": {
  "kernelspec": {
   "display_name": "Python 3 (ipykernel)",
   "language": "python",
   "name": "python3"
  },
  "language_info": {
   "codemirror_mode": {
    "name": "ipython",
    "version": 3
   },
   "file_extension": ".py",
   "mimetype": "text/x-python",
   "name": "python",
   "nbconvert_exporter": "python",
   "pygments_lexer": "ipython3",
   "version": "3.11.4"
  }
 },
 "nbformat": 4,
 "nbformat_minor": 5
}
