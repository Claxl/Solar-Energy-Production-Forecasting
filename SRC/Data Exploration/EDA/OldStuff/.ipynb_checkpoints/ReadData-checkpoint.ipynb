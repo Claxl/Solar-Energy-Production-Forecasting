{
 "cells": [
  {
   "cell_type": "code",
   "execution_count": 1,
   "id": "5f939221",
   "metadata": {},
   "outputs": [],
   "source": [
    "import pandas as pd\n",
    "import numpy as np\n",
    "import warnings\n",
    "warnings.filterwarnings(\"ignore\", category=DeprecationWarning)"
   ]
  },
  {
   "cell_type": "code",
   "execution_count": 2,
   "id": "5ddb3613",
   "metadata": {},
   "outputs": [],
   "source": [
    "def readData(location):\n",
    "  if(location == 1):\n",
    "    y_train_obs_A = pd.read_parquet('data/A/train_targets.parquet')\n",
    "    X_test_est_A = pd.read_parquet('data/A/X_test_estimated.parquet')\n",
    "    X_train_est_A = pd.read_parquet('data/A/X_train_estimated.parquet')\n",
    "    X_train_obs_A = pd.read_parquet('data/A/X_train_observed.parquet')\n",
    "    return y_train_obs_A, X_test_est_A, X_train_est_A, X_train_obs_A\n",
    "  elif(location == 2):\n",
    "    y_train_obs_B = pd.read_parquet('data/B/train_targets.parquet')\n",
    "    X_test_est_B = pd.read_parquet('data/B/X_test_estimated.parquet' )\n",
    "    X_train_est_B = pd.read_parquet('data/B/X_train_estimated.parquet')\n",
    "    X_train_obs_B = pd.read_parquet('data/B/X_train_observed.parquet')\n",
    "    return y_train_obs_B, X_test_est_B , X_train_est_B, X_train_obs_B\n",
    "  else:\n",
    "    y_train_obs_C = pd.read_parquet('data/C/train_targets.parquet')\n",
    "    X_test_est_C = pd.read_parquet('data/C/X_test_estimated.parquet')\n",
    "    X_train_est_C = pd.read_parquet('data/C/X_train_estimated.parquet')\n",
    "    X_train_obs_C = pd.read_parquet('data/C/X_train_observed.parquet')\n",
    "    X_c = pd.concat([X_train_est_C, X_train_obs_C])\n",
    "    return y_train_obs_C, X_test_est_C, X_train_est_C, X_train_obs_C"
   ]
  },
  {
   "cell_type": "code",
   "execution_count": 3,
   "id": "f91e1b4d",
   "metadata": {},
   "outputs": [
    {
     "data": {
      "text/plain": [
       "(2880, 47)"
      ]
     },
     "execution_count": 3,
     "metadata": {},
     "output_type": "execute_result"
    }
   ],
   "source": [
    "y_a, X_test_A, X_train_A_est, X_train_A_obs = readData(1)\n",
    "\n",
    "y_b, X_test_B, X_train_B_est, X_train_B_obs = readData(2)\n",
    "y_c, X_test_C, X_train_C_est, X_train_C_obs = readData(3)\n",
    "X_test_A.shape"
   ]
  },
  {
   "cell_type": "code",
   "execution_count": 4,
   "id": "b6a96799",
   "metadata": {},
   "outputs": [],
   "source": [
    "def make(X_train_A_obs,X_train_A_est,X_test_A, y_a):\n",
    "    X_train_A_obs['date_forecast'] = pd.to_datetime(X_train_A_obs['date_forecast'])\n",
    "\n",
    "    X_train_A_obs['minute'] = X_train_A_obs['date_forecast'].dt.minute\n",
    "    X_train_A_obs['hour'] = X_train_A_obs['date_forecast'].dt.hour\n",
    "    X_train_A_obs['month'] = X_train_A_obs['date_forecast'].dt.month\n",
    "    X_train_A_est['minute'] = X_train_A_est['date_forecast'].dt.minute\n",
    "    X_train_A_est['hour'] = X_train_A_est['date_forecast'].dt.hour\n",
    "    X_train_A_est['month'] = X_train_A_est['date_forecast'].dt.month\n",
    "    X_test_A['minute'] = X_test_A['date_forecast'].dt.minute\n",
    "    X_test_A['hour'] = X_test_A['date_forecast'].dt.hour\n",
    "    X_test_A['month'] = X_test_A['date_forecast'].dt.month\n",
    "    X_train_A_obs.set_index('date_forecast', inplace=True)\n",
    "\n",
    "    X_train_A_est.set_index('date_forecast', inplace=True)\n",
    "\n",
    "    X_test_A.set_index('date_forecast', inplace=True)\n",
    "\n",
    "    y_a.set_index('time', inplace=True)\n",
    "    return X_train_A_obs,X_train_A_est,X_test_A, y_a"
   ]
  },
  {
   "cell_type": "code",
   "execution_count": 5,
   "id": "10b5a6ad",
   "metadata": {},
   "outputs": [],
   "source": [
    "X_train_A_obs,X_train_A_est,X_test_A, y_a = make(X_train_A_obs,X_train_A_est,X_test_A, y_a)\n",
    "X_train_B_obs,X_train_B_est,X_test_B, y_b = make(X_train_B_obs,X_train_B_est,X_test_B, y_b)\n",
    "X_train_C_obs,X_train_C_est,X_test_C, y_c = make(X_train_C_obs,X_train_C_est,X_test_C, y_c)"
   ]
  },
  {
   "cell_type": "code",
   "execution_count": 46,
   "id": "0de2290a",
   "metadata": {},
   "outputs": [],
   "source": [
    "def make_hourly(unsampled_df):\n",
    "\n",
    "    df = unsampled_df\n",
    "\n",
    "    # Crea un dizionario di DataFrame basati su 'minutes'\n",
    "    df_dict = {}\n",
    "    unique_minutes = df['minute'].unique()\n",
    "\n",
    "    for minute in unique_minutes:\n",
    "        df_dict[minute] = df[df['minute'] == minute].drop(columns='minute')\n",
    "\n",
    "    # Rinomina le colonne in modo univoco\n",
    "    for minute, df_minute in df_dict.items():\n",
    "        for col in df_minute.columns:\n",
    "            df_minute.rename(columns={col: f'{col}_{minute}'}, inplace=True)\n",
    "    df_dict[0] = df_dict[0].reset_index()\n",
    "    df_dict[15] = df_dict[15].reset_index().drop(columns = 'date_forecast')\n",
    "    df_dict[30] = df_dict[30].reset_index().drop(columns = 'date_forecast')\n",
    "    df_dict[45] = df_dict[45].reset_index().drop(columns = 'date_forecast')\n",
    "\n",
    "    #Unisci i DataFrame in base all'indice\n",
    "    result = pd.concat(df_dict.values(), axis=1)\n",
    "    \n",
    "    # Visualizza il DataFrame risultante senza valori NaN\n",
    "    return result"
   ]
  },
  {
   "cell_type": "markdown",
   "id": "93b2f68f",
   "metadata": {},
   "source": [
    "### A"
   ]
  },
  {
   "cell_type": "code",
   "execution_count": 52,
   "id": "f293d5bd",
   "metadata": {
    "scrolled": false
   },
   "outputs": [],
   "source": [
    "merged_df_train_obs_A = make_hourly(X_train_A_obs)\n",
    "merged_df_train_est_A = make_hourly(X_train_A_est)\n",
    "test_A = make_hourly(X_test_A)\n",
    "merged_df_train_est_A = merged_df_train_est_A.drop(columns = ['date_calc_0','date_calc_15','date_calc_30','date_calc_45'])\n",
    "merged_df_train_obs_A.set_index(merged_df_train_obs_A['date_forecast'],inplace = True)\n",
    "merged_df_train_obs_A=merged_df_train_obs_A.drop(columns = 'date_forecast')\n",
    "merged_df_train_est_A.set_index(merged_df_train_est_A['date_forecast'],inplace = True)\n",
    "merged_df_train_est_A=merged_df_train_est_A.drop(columns = 'date_forecast')\n",
    "test_A.set_index(test_A['date_forecast'],inplace = True)\n",
    "test_A=test_A.drop(columns = ['date_forecast','date_calc_0','date_calc_15','date_calc_30','date_calc_45'])"
   ]
  },
  {
   "cell_type": "code",
   "execution_count": 53,
   "id": "eea5281f",
   "metadata": {},
   "outputs": [],
   "source": [
    "Train_A = pd.concat([merged_df_train_obs_A,merged_df_train_est_A])\n",
    "y_a.index = pd.to_datetime(y_a.index)\n",
    "Train_A = pd.concat([Train_A, y_a], axis = 1)"
   ]
  },
  {
   "cell_type": "markdown",
   "id": "5559f08f",
   "metadata": {},
   "source": [
    "### B"
   ]
  },
  {
   "cell_type": "code",
   "execution_count": 56,
   "id": "39c671de",
   "metadata": {},
   "outputs": [],
   "source": [
    "merged_df_train_obs_B = make_hourly(X_train_B_obs)\n",
    "merged_df_train_est_B = make_hourly(X_train_B_est)\n",
    "test_B = make_hourly(X_test_B)\n",
    "merged_df_train_est_B = merged_df_train_est_B.drop(columns = ['date_calc_0','date_calc_15','date_calc_30','date_calc_45'])\n",
    "merged_df_train_obs_B.set_index(merged_df_train_obs_B['date_forecast'],inplace = True)\n",
    "merged_df_train_obs_B=merged_df_train_obs_B.drop(columns = 'date_forecast')\n",
    "merged_df_train_est_B.set_index(merged_df_train_est_B['date_forecast'],inplace = True)\n",
    "merged_df_train_est_B=merged_df_train_est_B.drop(columns = 'date_forecast')\n",
    "test_B.set_index(test_B['date_forecast'],inplace = True)\n",
    "#test_B=test_A.drop(columns = ['date_forecast','date_calc_0','date_calc_15','date_calc_30','date_calc_45'])"
   ]
  },
  {
   "cell_type": "code",
   "execution_count": 57,
   "id": "9f50898f",
   "metadata": {},
   "outputs": [],
   "source": [
    "Train_B = pd.concat([merged_df_train_obs_B,merged_df_train_est_B])\n",
    "y_b.index = pd.to_datetime(y_b.index)\n",
    "Train_B = pd.concat([Train_B, y_b], axis = 1)"
   ]
  },
  {
   "cell_type": "markdown",
   "id": "37f06c9d",
   "metadata": {},
   "source": [
    "### C"
   ]
  },
  {
   "cell_type": "code",
   "execution_count": 58,
   "id": "2828262c",
   "metadata": {},
   "outputs": [],
   "source": [
    "merged_df_train_obs_C = make_hourly(X_train_C_obs)\n",
    "merged_df_train_est_C = make_hourly(X_train_C_est)\n",
    "test_C = make_hourly(X_test_B)\n",
    "merged_df_train_est_C = merged_df_train_est_C.drop(columns = ['date_calc_0','date_calc_15','date_calc_30','date_calc_45'])\n",
    "merged_df_train_obs_C.set_index(merged_df_train_obs_C['date_forecast'],inplace = True)\n",
    "merged_df_train_obs_C=merged_df_train_obs_C.drop(columns = 'date_forecast')\n",
    "merged_df_train_est_C.set_index(merged_df_train_est_C['date_forecast'],inplace = True)\n",
    "merged_df_train_est_C=merged_df_train_est_C.drop(columns = 'date_forecast')\n",
    "test_C.set_index(test_C['date_forecast'],inplace = True)\n",
    "#test_B=test_A.drop(columns = ['date_forecast','date_calc_0','date_calc_15','date_calc_30','date_calc_45'])"
   ]
  },
  {
   "cell_type": "code",
   "execution_count": 59,
   "id": "3ef0ede7",
   "metadata": {},
   "outputs": [
    {
     "data": {
      "text/plain": [
       "<Axes: >"
      ]
     },
     "execution_count": 59,
     "metadata": {},
     "output_type": "execute_result"
    },
    {
     "data": {
      "image/png": "[encoded data removed]",
      "text/plain": [
       "<Figure size 640x480 with 1 Axes>"
      ]
     },
     "metadata": {},
     "output_type": "display_data"
    }
   ],
   "source": [
    "y_c = y_c.reset_index()\n",
    "y_c.plot()"
   ]
  },
  {
   "cell_type": "code",
   "execution_count": 60,
   "id": "4667d39f",
   "metadata": {},
   "outputs": [
    {
     "data": {
      "text/plain": [
       "absolute_humidity_2m:gm3_0    32155\n",
       "air_density_2m:kgm3_0         32155\n",
       "ceiling_height_agl:m_0        39347\n",
       "clear_sky_energy_1h:J_0       32155\n",
       "clear_sky_rad:W_0             32155\n",
       "                              ...  \n",
       "wind_speed_w_1000hPa:ms_45    32156\n",
       "hour_45                       32156\n",
       "month_45                      32156\n",
       "time                          33601\n",
       "pv_measurement                39661\n",
       "Length: 190, dtype: int64"
      ]
     },
     "execution_count": 60,
     "metadata": {},
     "output_type": "execute_result"
    }
   ],
   "source": [
    "Train_C = pd.concat([merged_df_train_obs_C,merged_df_train_est_C])\n",
    "y_c.index = pd.to_datetime(y_c.index)\n",
    "Train_C = pd.concat([Train_C, y_c], axis = 1)\n",
    "Train_C.isna().sum()"
   ]
  },
  {
   "cell_type": "markdown",
   "id": "02444e75",
   "metadata": {},
   "source": [
    "### SAVE"
   ]
  },
  {
   "cell_type": "code",
   "execution_count": 62,
   "id": "ad284039",
   "metadata": {},
   "outputs": [],
   "source": [
    "base = \"/Users/claxl/Documents/GitHub/MLProject/Data Exploration/EDA/OldStuff/clearData/\""
   ]
  },
  {
   "cell_type": "code",
   "execution_count": 58,
   "id": "44819293",
   "metadata": {},
   "outputs": [],
   "source": [
    "#Train_A.to_csv(base + 'A/train1.csv',index = True)\n",
    "test_A.to_csv(base + 'A/test1.csv',index = True)"
   ]
  },
  {
   "cell_type": "code",
   "execution_count": 63,
   "id": "d5629fde",
   "metadata": {},
   "outputs": [],
   "source": [
    "Train_B.to_csv(base + 'B/train1.csv',index = True)\n",
    "test_B.to_csv(base + 'B/test1.csv',index = True)"
   ]
  },
  {
   "cell_type": "code",
   "execution_count": 64,
   "id": "803665ae",
   "metadata": {},
   "outputs": [],
   "source": [
    "Train_C.to_csv(base + 'C/train1.csv',index = True)\n",
    "test_C.to_csv(base + 'C/test1.csv',index = True)"
   ]
  },
  {
   "cell_type": "code",
   "execution_count": null,
   "id": "c5bea507",
   "metadata": {},
   "outputs": [],
   "source": []
  }
 ],
 "metadata": {
  "kernelspec": {
   "display_name": "Python 3 (ipykernel)",
   "language": "python",
   "name": "python3"
  },
  "language_info": {
   "codemirror_mode": {
    "name": "ipython",
    "version": 3
   },
   "file_extension": ".py",
   "mimetype": "text/x-python",
   "name": "python",
   "nbconvert_exporter": "python",
   "pygments_lexer": "ipython3",
   "version": "3.11.4"
  }
 },
 "nbformat": 4,
 "nbformat_minor": 5
}
