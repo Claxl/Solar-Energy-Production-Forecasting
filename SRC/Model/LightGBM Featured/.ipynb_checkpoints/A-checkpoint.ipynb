{
 "cells": [
  {
   "cell_type": "code",
   "execution_count": 1,
   "id": "e829b2a1",
   "metadata": {},
   "outputs": [],
   "source": [
    "import pandas as pd\n",
    "import numpy as np\n",
    "import matplotlib.pyplot as plt"
   ]
  },
  {
   "cell_type": "code",
   "execution_count": 2,
   "id": "ec4afa2f",
   "metadata": {},
   "outputs": [],
   "source": [
    "df_train_est_A = pd.read_csv('train_est_A.csv')\n",
    "df_train_obs_A = pd.read_csv('train_obs_A.csv')\n",
    "df_test_A = pd.read_csv('X_test_A.csv')\n",
    "df_train_est_A = df_train_est_A.rename(columns={'Unnamed: 0': 'date_forecast'})\n",
    "\n",
    "df_train_obs_A = df_train_obs_A.rename(columns={'Unnamed: 0': 'date_forecast'})\n",
    "\n",
    "df_test_A = df_test_A.rename(columns={'Unnamed: 0': 'date_forecast'})\n",
    "\n",
    "df_train_est_A.set_index('date_forecast', inplace=True)\n",
    "df_train_obs_A.set_index('date_forecast', inplace=True)\n",
    "df_test_A.set_index('date_forecast', inplace=True)\n",
    "df_train_obs_A.index = pd.to_datetime(df_train_obs_A.index)\n",
    "df_train_obs_A.index = pd.to_datetime(df_train_obs_A.index)\n"
   ]
  },
  {
   "cell_type": "code",
   "execution_count": 3,
   "id": "26c3272a",
   "metadata": {},
   "outputs": [],
   "source": [
    "df = pd.concat([df_train_obs_A,df_train_est_A])\n",
    "df = df.drop(columns = 'date_calc', axis = 1)\n",
    "df_test_A = df_test_A.drop(columns = 'date_calc', axis = 1)\n"
   ]
  },
  {
   "cell_type": "code",
   "execution_count": 4,
   "id": "0922e90b",
   "metadata": {},
   "outputs": [],
   "source": [
    "import re\n",
    "df = df.rename(columns = lambda x:re.sub('[^A-Za-z0-9_]+', '', x))\n",
    "df_test_A = df_test_A.rename(columns = lambda x:re.sub('[^A-Za-z0-9_]+', '', x))"
   ]
  },
  {
   "cell_type": "code",
   "execution_count": 5,
   "id": "76904abc",
   "metadata": {},
   "outputs": [],
   "source": [
    "from sklearn.impute import KNNImputer\n",
    "imputer = KNNImputer(n_neighbors=5)\n",
    "# Imputa i valori mancanti\n",
    "df_knn =pd.DataFrame(imputer.fit_transform(df),columns = df.columns, index = df.index)"
   ]
  },
  {
   "cell_type": "code",
   "execution_count": 6,
   "id": "62a95a9b",
   "metadata": {},
   "outputs": [
    {
     "data": {
      "text/plain": [
       "(34085, 46)"
      ]
     },
     "execution_count": 6,
     "metadata": {},
     "output_type": "execute_result"
    }
   ],
   "source": [
    "df_knn.shape"
   ]
  },
  {
   "cell_type": "code",
   "execution_count": 7,
   "id": "22e73083",
   "metadata": {},
   "outputs": [],
   "source": [
    "columns = df.drop(columns = 'pv_measurement').columns"
   ]
  },
  {
   "cell_type": "code",
   "execution_count": 51,
   "id": "3870364b",
   "metadata": {},
   "outputs": [],
   "source": [
    "from sklearn.preprocessing import MinMaxScaler\n",
    "# Crea un oggetto MinMaaxScaler\n",
    "scaler = MinMaxScaler()\n",
    "# Normalizza il DataFrame\n",
    "df_normalized = pd.DataFrame(scaler.fit_transform(df_knn[columns]),columns = df_knn[columns].columns, index = df_knn[columns].index)\n",
    "from scipy import stats\n",
    "\n",
    "# Perform the Box-Cox transformation\n",
    "transformed_data, lambda_value = stats.boxcox(df_knn['pv_measurement']+1)\n",
    "\n",
    "# Update the 'pv_measurement' column with the transformed data\n",
    "df_normalized['pv_measurement'] = transformed_data\n"
   ]
  },
  {
   "cell_type": "code",
   "execution_count": 53,
   "id": "aabb566a",
   "metadata": {},
   "outputs": [],
   "source": [
    "df = df_normalized\n",
    "df = df.fillna(0)"
   ]
  },
  {
   "cell_type": "code",
   "execution_count": 55,
   "id": "043f2294",
   "metadata": {},
   "outputs": [],
   "source": [
    "df.index = pd.to_datetime(df.index)\n",
    "df['hours'] = df.index.hour\n",
    "df['day'] = df.index.day\n",
    "df['month'] = df.index.month\n",
    "df['year'] = df.index.year\n",
    "df_test_A.index = pd.to_datetime(df_test_A.index)\n",
    "df_test_A['hours'] = df_test_A.index.hour\n",
    "df_test_A['day'] = df_test_A.index.day\n",
    "df_test_A['month'] = df_test_A.index.month\n",
    "df_test_A['year'] = df_test_A.index.year\n",
    "df['dayofyear'] = df.index.day_of_year\n",
    "df_test_A['dayofyear'] = df_test_A.index.day_of_year"
   ]
  },
  {
   "cell_type": "code",
   "execution_count": 21,
   "id": "1856dc1e",
   "metadata": {},
   "outputs": [],
   "source": [
    "from sklearn.model_selection import TimeSeriesSplit, cross_val_score\n",
    "from sklearn.metrics import mean_absolute_error\n",
    "data = df\n",
    "n_splits = 3\n",
    "# Initialize the TimeSeriesSplit\n",
    "tscv = TimeSeriesSplit(n_splits=n_splits)"
   ]
  },
  {
   "cell_type": "code",
   "execution_count": 23,
   "id": "4d852c80",
   "metadata": {
    "scrolled": true
   },
   "outputs": [
    {
     "name": "stdout",
     "output_type": "stream",
     "text": [
      "Numero di Feature usate:  1\n",
      "MAE medio :  233.82794062148756\n",
      "Numero di Feature usate:  2\n",
      "MAE medio :  236.46852159559475\n",
      "Numero di Feature usate:  3\n",
      "MAE medio :  216.4627280388595\n",
      "Numero di Feature usate:  4\n",
      "MAE medio :  164.3755632058893\n",
      "Numero di Feature usate:  5\n",
      "MAE medio :  164.97691690618834\n",
      "Numero di Feature usate:  6\n",
      "MAE medio :  164.31540717883607\n",
      "Numero di Feature usate:  7\n",
      "MAE medio :  164.1858503350898\n",
      "Numero di Feature usate:  8\n",
      "MAE medio :  164.53493807466654\n",
      "Numero di Feature usate:  9\n",
      "MAE medio :  165.01749624585563\n",
      "Numero di Feature usate:  10\n",
      "MAE medio :  164.5380469451737\n",
      "Numero di Feature usate:  11\n",
      "MAE medio :  163.7967929012861\n",
      "Numero di Feature usate:  12\n",
      "MAE medio :  164.06399079393168\n",
      "Numero di Feature usate:  13\n",
      "MAE medio :  163.59148933162433\n",
      "Numero di Feature usate:  14\n",
      "MAE medio :  162.83390609425987\n",
      "Numero di Feature usate:  15\n",
      "MAE medio :  163.9341725043249\n",
      "Numero di Feature usate:  16\n",
      "MAE medio :  163.48300808156773\n",
      "Numero di Feature usate:  17\n",
      "MAE medio :  163.01908271079634\n",
      "Numero di Feature usate:  18\n",
      "MAE medio :  164.16917474536095\n",
      "Numero di Feature usate:  19\n",
      "MAE medio :  163.45732665347754\n",
      "Numero di Feature usate:  20\n",
      "MAE medio :  163.37141946123307\n",
      "Numero di Feature usate:  21\n",
      "MAE medio :  163.48647049067043\n",
      "Numero di Feature usate:  22\n",
      "MAE medio :  163.37415572340683\n",
      "Numero di Feature usate:  23\n",
      "MAE medio :  163.47589347556723\n",
      "Numero di Feature usate:  24\n",
      "MAE medio :  162.84891617423582\n",
      "Numero di Feature usate:  25\n",
      "MAE medio :  162.9515612573901\n",
      "Numero di Feature usate:  26\n",
      "MAE medio :  162.04426274809703\n",
      "Numero di Feature usate:  27\n",
      "MAE medio :  162.76545188779124\n",
      "Numero di Feature usate:  28\n",
      "MAE medio :  163.07757034657786\n",
      "Numero di Feature usate:  29\n",
      "MAE medio :  162.6030641516082\n",
      "Numero di Feature usate:  30\n",
      "MAE medio :  164.6487467411457\n",
      "Numero di Feature usate:  31\n",
      "MAE medio :  165.16644649422128\n",
      "Numero di Feature usate:  32\n",
      "MAE medio :  165.6099059171714\n",
      "Numero di Feature usate:  33\n",
      "MAE medio :  165.5941181727638\n",
      "Numero di Feature usate:  34\n",
      "MAE medio :  165.56986575731062\n",
      "Numero di Feature usate:  35\n",
      "MAE medio :  163.71502254492003\n",
      "Numero di Feature usate:  36\n",
      "MAE medio :  164.3730247735776\n",
      "Numero di Feature usate:  37\n",
      "MAE medio :  164.3730247735776\n",
      "Numero di Feature usate:  38\n",
      "MAE medio :  164.3730247735776\n",
      "Numero di Feature usate:  39\n",
      "MAE medio :  164.3730247735776\n",
      "Numero di Feature usate:  40\n",
      "MAE medio :  164.3730247735776\n",
      "Numero di Feature usate:  41\n",
      "MAE medio :  164.3730247735776\n",
      "Numero di Feature usate:  42\n",
      "MAE medio :  164.3730247735776\n",
      "Numero di Feature usate:  43\n",
      "MAE medio :  164.3730247735776\n",
      "Numero di Feature usate:  44\n",
      "MAE medio :  164.3730247735776\n",
      "Numero di Feature usate:  45\n",
      "MAE medio :  164.3730247735776\n",
      "Numero di Feature usate:  46\n",
      "MAE medio :  164.3730247735776\n",
      "Numero di Feature usate:  47\n",
      "MAE medio :  164.3730247735776\n",
      "Numero di Feature usate:  48\n",
      "MAE medio :  164.3730247735776\n",
      "Numero di Feature usate:  49\n",
      "MAE medio :  164.3730247735776\n",
      "Numero di Feature usate:  50\n",
      "MAE medio :  164.3730247735776\n"
     ]
    }
   ],
   "source": [
    "import lightgbm as lgb\n",
    "from sklearn.feature_selection import RFE\n",
    "from sklearn.metrics import mean_absolute_error\n",
    "param = {'verbose' : -1}\n",
    "# Definisci il modello di machine learning\n",
    "model = lgb.LGBMRegressor(**param)\n",
    "\n",
    "# Definisci il selezionatore di feature\n",
    "rfe = RFE(estimator=model, n_features_to_select=None)\n",
    "\n",
    "# Trova il numero migliore di feature in base al MAE\n",
    "errors = []\n",
    "for n_features in range(1, len(df.columns)):\n",
    "    rfe.n_features_to_select = n_features\n",
    "    print(\"Numero di Feature usate: \",n_features)\n",
    "    # Calcola il MAE utilizzando la cross-validation\n",
    "    maelist = []\n",
    "    for train_index, test_index in tscv.split(data):\n",
    "        train_data = data.iloc[train_index]\n",
    "        test_data = data.iloc[test_index]\n",
    "\n",
    "        # Extract target variable for training and testing data\n",
    "        y_train = train_data['pv_measurement']\n",
    "        y_test = test_data['pv_measurement']\n",
    "\n",
    "        # Extract features for training and testing data\n",
    "        X_train = train_data.drop(columns = 'pv_measurement')\n",
    "        X_test = test_data.drop(columns = 'pv_measurement')\n",
    "        \n",
    "        # Train the XGBoost model\n",
    "        rfe.fit(X_train, y_train)\n",
    "\n",
    "        # Make predictions on the test data\n",
    "        y_pred = rfe.predict(X_test)\n",
    "\n",
    "        # Evaluate the model using Mean Absolute Error (MAE)\n",
    "        mae = mean_absolute_error(y_test, y_pred)\n",
    "        maelist.append(mae)\n",
    "    # Calcola il MAE medio\n",
    "    mean_mae = np.mean(maelist)\n",
    "    print(\"MAE medio : \",mae)\n",
    "    errors.append(mae)"
   ]
  },
  {
   "cell_type": "code",
   "execution_count": 24,
   "id": "7c387df1",
   "metadata": {},
   "outputs": [
    {
     "data": {
      "text/plain": [
       "26"
      ]
     },
     "execution_count": 24,
     "metadata": {},
     "output_type": "execute_result"
    }
   ],
   "source": [
    "min_index = errors.index(min(errors))\n",
    "errros_df = pd.DataFrame(errors)\n",
    "n_features = min_index + 1\n",
    "n_features"
   ]
  },
  {
   "cell_type": "code",
   "execution_count": 25,
   "id": "a13f1365",
   "metadata": {},
   "outputs": [
    {
     "data": {
      "text/plain": [
       "array(['absolute_humidity_2mgm3', 'air_density_2mkgm3',\n",
       "       'ceiling_height_aglm', 'clear_sky_energy_1hJ', 'clear_sky_radW',\n",
       "       'cloud_base_aglm', 'dew_or_rimeidx', 'dew_point_2mK',\n",
       "       'diffuse_radW', 'diffuse_rad_1hJ', 'direct_radW', 'direct_rad_1hJ',\n",
       "       'effective_cloud_coverp', 'elevationm', 'fresh_snow_12hcm',\n",
       "       'fresh_snow_1hcm', 'fresh_snow_24hcm', 'fresh_snow_3hcm',\n",
       "       'fresh_snow_6hcm', 'is_dayidx', 'is_in_shadowidx',\n",
       "       'msl_pressurehPa', 'precip_5minmm', 'precip_type_5minidx',\n",
       "       'pressure_100mhPa', 'pressure_50mhPa', 'prob_rimep',\n",
       "       'rain_waterkgm2', 'relative_humidity_1000hPap', 'sfc_pressurehPa',\n",
       "       'snow_densitykgm3', 'snow_depthcm', 'snow_driftidx',\n",
       "       'snow_melt_10minmm', 'snow_waterkgm2', 'sun_azimuthd',\n",
       "       'sun_elevationd', 'super_cooled_liquid_waterkgm2', 't_1000hPaK',\n",
       "       'total_cloud_coverp', 'visibilitym', 'wind_speed_10mms',\n",
       "       'wind_speed_u_10mms', 'wind_speed_v_10mms',\n",
       "       'wind_speed_w_1000hPams', 'hours', 'day', 'month', 'year',\n",
       "       'dayofyear'], dtype=object)"
      ]
     },
     "execution_count": 25,
     "metadata": {},
     "output_type": "execute_result"
    }
   ],
   "source": [
    "selected_features = rfe.get_feature_names_out()\n",
    "selected_features"
   ]
  },
  {
   "cell_type": "code",
   "execution_count": 56,
   "id": "7798ffe0",
   "metadata": {
    "scrolled": true
   },
   "outputs": [],
   "source": [
    "data = df[selected_features]\n",
    "data['pv_measurement'] = df[\"pv_measurement\"]"
   ]
  },
  {
   "cell_type": "code",
   "execution_count": 57,
   "id": "6305aa2e",
   "metadata": {},
   "outputs": [
    {
     "name": "stdout",
     "output_type": "stream",
     "text": [
      "Il numero migliore di feature è: 26\n",
      "Il MAE con il numero di feature ottimale è: 0.14729367503009252\n"
     ]
    }
   ],
   "source": [
    "# Traina il modello sulle feature selezionate\n",
    "model.fit(data[selected_features], df[\"pv_measurement\"])\n",
    "# Calcola il MAE con le feature selezionate\n",
    "y_pred = model.predict(data[selected_features])\n",
    "mae = mean_absolute_error(data[\"pv_measurement\"], y_pred)\n",
    "print(\"Il numero migliore di feature è:\", n_features)\n",
    "print(\"Il MAE con il numero di feature ottimale è:\", mae)"
   ]
  },
  {
   "cell_type": "code",
   "execution_count": 33,
   "id": "7e336764",
   "metadata": {},
   "outputs": [],
   "source": [
    "def objective(trial):\n",
    "    param = {\n",
    "            'metric': 'mae', \n",
    "            'random_state': 42,\n",
    "            'reg_alpha': trial.suggest_loguniform('reg_alpha', 1e-3, 10.0),\n",
    "            'reg_lambda': trial.suggest_loguniform('reg_lambda', 1e-3, 10.0),\n",
    "            'colsample_bytree': trial.suggest_categorical('colsample_bytree', [0.3,0.4,0.5,0.6,0.7,0.8,0.9, 1.0]),\n",
    "            'subsample': trial.suggest_categorical('subsample', [0.4,0.5,0.6,0.7,0.8,1.0]),\n",
    "            'learning_rate': trial.suggest_loguniform('learning_rate', 1e-4,1e-1),\n",
    "            'max_depth': trial.suggest_int('max_depth', 1,50),\n",
    "            'num_leaves' : trial.suggest_int('num_leaves', 1, 1000),\n",
    "            'min_child_samples': trial.suggest_int('min_child_samples', 1, 300),\n",
    "            'cat_smooth' : trial.suggest_int('min_data_per_groups', 1, 100),\n",
    "            'verbosity': -1\n",
    "        }\n",
    "    maelist = []\n",
    "    model = lgb.LGBMRegressor(**param)\n",
    "    for train_index, test_index in tscv.split(data):\n",
    "        train_data = data.iloc[train_index]\n",
    "        test_data = data.iloc[test_index]\n",
    "\n",
    "        # Extract target variable for training and testing data\n",
    "        y_train = train_data['pv_measurement']\n",
    "        y_test = test_data['pv_measurement']\n",
    "\n",
    "        # Extract features for training and testing data\n",
    "        X_train = train_data.drop(columns = 'pv_measurement')\n",
    "        X_test = test_data.drop(columns = 'pv_measurement')\n",
    "        \n",
    "        # Train the XGBoost model\n",
    "        model.fit(X_train, y_train,eval_set=[(X_test,y_test)])\n",
    "        \n",
    "        # Make predictions on the test data\n",
    "        y_pred = model.predict(X_test)\n",
    "        \n",
    "        # Evaluate the model using Mean Absolute Error (MAE)\n",
    "        mae = mean_absolute_error(y_test, y_pred)\n",
    "        print(\"Mean Absolute Error:\", mae)\n",
    "        maelist.append(mae)\n",
    "        # Handle pruning based on the intermediate value.\n",
    "\n",
    "    print(\"Media : \",np.average(maelist,weights=[1,2,3]))\n",
    "    return np.average(maelist,weights=[1,2,3])"
   ]
  },
  {
   "cell_type": "code",
   "execution_count": 34,
   "id": "f17b7fd2-ba56-44d6-a799-b477b9d5ad22",
   "metadata": {},
   "outputs": [
    {
     "name": "stderr",
     "output_type": "stream",
     "text": [
      "[I 2023-10-28 01:08:52,749] A new study created in memory with name: no-name-1d57998b-250c-4603-8098-99f8312953c2\n"
     ]
    }
   ],
   "source": [
    "import optuna\n",
    "import warnings\n",
    "warnings.filterwarnings(\"ignore\")\n",
    "from warnings import simplefilter\n",
    "simplefilter(\"ignore\", category=RuntimeWarning)\n",
    "study = optuna.create_study(direction='minimize')"
   ]
  },
  {
   "cell_type": "code",
   "execution_count": 58,
   "id": "81030038-4079-4a9d-8219-5c9be4b988f4",
   "metadata": {
    "scrolled": true,
    "tags": []
   },
   "outputs": [
    {
     "name": "stdout",
     "output_type": "stream",
     "text": [
      "Mean Absolute Error: 0.5703119860578084\n",
      "Mean Absolute Error: 0.5460641667355961\n"
     ]
    },
    {
     "name": "stderr",
     "output_type": "stream",
     "text": [
      "[I 2023-10-28 01:22:54,658] Trial 50 finished with value: 0.55181083090685 and parameters: {'n_estimators': 341, 'reg_alpha': 0.06688274049589692, 'reg_lambda': 0.27675962997095954, 'colsample_bytree': 0.6, 'subsample': 0.5, 'learning_rate': 0.004709378359130132, 'max_depth': 47, 'num_leaves': 872, 'min_child_samples': 36, 'min_data_per_groups': 78}. Best is trial 50 with value: 0.55181083090685.\n"
     ]
    },
    {
     "name": "stdout",
     "output_type": "stream",
     "text": [
      "Mean Absolute Error: 0.5494748886373664\n",
      "Media :  0.55181083090685\n",
      "Mean Absolute Error: 0.6492412689384045\n",
      "Mean Absolute Error: 0.6245404966945852\n"
     ]
    },
    {
     "name": "stderr",
     "output_type": "stream",
     "text": [
      "[I 2023-10-28 01:23:00,256] Trial 51 finished with value: 0.6309274806420664 and parameters: {'n_estimators': 308, 'reg_alpha': 0.05799224282988586, 'reg_lambda': 0.24696039542436396, 'colsample_bytree': 0.6, 'subsample': 0.5, 'learning_rate': 0.004650483135081677, 'max_depth': 48, 'num_leaves': 865, 'min_child_samples': 38, 'min_data_per_groups': 78}. Best is trial 50 with value: 0.55181083090685.\n"
     ]
    },
    {
     "name": "stdout",
     "output_type": "stream",
     "text": [
      "Mean Absolute Error: 0.6290808738416077\n",
      "Media :  0.6309274806420664\n",
      "Mean Absolute Error: 0.7672578090412843\n",
      "Mean Absolute Error: 0.7431086573272058\n"
     ]
    },
    {
     "name": "stderr",
     "output_type": "stream",
     "text": [
      "[I 2023-10-28 01:23:04,863] Trial 52 finished with value: 0.7492567090548178 and parameters: {'n_estimators': 239, 'reg_alpha': 0.06164247090258034, 'reg_lambda': 0.14681433184314766, 'colsample_bytree': 0.6, 'subsample': 0.5, 'learning_rate': 0.005105527134279426, 'max_depth': 46, 'num_leaves': 866, 'min_child_samples': 32, 'min_data_per_groups': 86}. Best is trial 50 with value: 0.55181083090685.\n"
     ]
    },
    {
     "name": "stdout",
     "output_type": "stream",
     "text": [
      "Mean Absolute Error: 0.7473550435444035\n",
      "Media :  0.7492567090548178\n",
      "Mean Absolute Error: 0.8915755443813819\n",
      "Mean Absolute Error: 0.8667284339544788\n"
     ]
    },
    {
     "name": "stderr",
     "output_type": "stream",
     "text": [
      "[I 2023-10-28 01:23:08,937] Trial 53 finished with value: 0.8732834354766806 and parameters: {'n_estimators': 231, 'reg_alpha': 0.05198839398328808, 'reg_lambda': 0.26354014255308306, 'colsample_bytree': 0.6, 'subsample': 0.5, 'learning_rate': 0.00451253969408401, 'max_depth': 47, 'num_leaves': 962, 'min_child_samples': 36, 'min_data_per_groups': 84}. Best is trial 50 with value: 0.55181083090685.\n"
     ]
    },
    {
     "name": "stdout",
     "output_type": "stream",
     "text": [
      "Mean Absolute Error: 0.8715560668565813\n",
      "Media :  0.8732834354766806\n",
      "Mean Absolute Error: 1.362495307488883\n",
      "Mean Absolute Error: 1.3390019224650007\n"
     ]
    },
    {
     "name": "stderr",
     "output_type": "stream",
     "text": [
      "[I 2023-10-28 01:23:13,012] Trial 54 finished with value: 1.3457252803532385 and parameters: {'n_estimators': 235, 'reg_alpha': 0.05057666693823905, 'reg_lambda': 0.2804824584349386, 'colsample_bytree': 0.6, 'subsample': 0.5, 'learning_rate': 0.0024013268414571215, 'max_depth': 47, 'num_leaves': 999, 'min_child_samples': 36, 'min_data_per_groups': 90}. Best is trial 50 with value: 0.55181083090685.\n"
     ]
    },
    {
     "name": "stdout",
     "output_type": "stream",
     "text": [
      "Mean Absolute Error: 1.3446175099001823\n",
      "Media :  1.3457252803532385\n",
      "Mean Absolute Error: 1.4915649939347273\n",
      "Mean Absolute Error: 1.4685276678498793\n"
     ]
    },
    {
     "name": "stderr",
     "output_type": "stream",
     "text": [
      "[I 2023-10-28 01:23:16,998] Trial 55 finished with value: 1.4752010522051353 and parameters: {'n_estimators': 221, 'reg_alpha': 0.051538708178452936, 'reg_lambda': 0.26129446438923726, 'colsample_bytree': 0.6, 'subsample': 0.5, 'learning_rate': 0.002109065371082205, 'max_depth': 48, 'num_leaves': 993, 'min_child_samples': 35, 'min_data_per_groups': 89}. Best is trial 50 with value: 0.55181083090685.\n"
     ]
    },
    {
     "name": "stdout",
     "output_type": "stream",
     "text": [
      "Mean Absolute Error: 1.474195327865442\n",
      "Media :  1.4752010522051353\n",
      "Mean Absolute Error: 1.4856241559534502\n",
      "Mean Absolute Error: 1.4628272389670192\n"
     ]
    },
    {
     "name": "stderr",
     "output_type": "stream",
     "text": [
      "[I 2023-10-28 01:23:21,186] Trial 56 finished with value: 1.469414482031226 and parameters: {'n_estimators': 229, 'reg_alpha': 0.04651435875783621, 'reg_lambda': 0.30064030100024286, 'colsample_bytree': 0.6, 'subsample': 0.5, 'learning_rate': 0.0020536531297289697, 'max_depth': 48, 'num_leaves': 994, 'min_child_samples': 33, 'min_data_per_groups': 90}. Best is trial 50 with value: 0.55181083090685.\n"
     ]
    },
    {
     "name": "stdout",
     "output_type": "stream",
     "text": [
      "Mean Absolute Error: 1.4684027527666224\n",
      "Media :  1.469414482031226\n",
      "Mean Absolute Error: 1.9674940265400607\n",
      "Mean Absolute Error: 1.9465552855684123\n"
     ]
    },
    {
     "name": "stderr",
     "output_type": "stream",
     "text": [
      "[I 2023-10-28 01:23:22,672] Trial 57 finished with value: 1.9528868980066558 and parameters: {'n_estimators': 99, 'reg_alpha': 0.028046623536560327, 'reg_lambda': 0.9932937880926079, 'colsample_bytree': 0.6, 'subsample': 0.5, 'learning_rate': 0.0017284743646762402, 'max_depth': 46, 'num_leaves': 958, 'min_child_samples': 28, 'min_data_per_groups': 81}. Best is trial 50 with value: 0.55181083090685.\n"
     ]
    },
    {
     "name": "stdout",
     "output_type": "stream",
     "text": [
      "Mean Absolute Error: 1.9522389301210161\n",
      "Media :  1.9528868980066558\n",
      "Mean Absolute Error: 1.0456953393097908\n"
     ]
    },
    {
     "name": "stderr",
     "output_type": "stream",
     "text": [
      "[W 2023-10-28 01:23:27,554] Trial 58 failed with parameters: {'n_estimators': 232, 'reg_alpha': 0.04822149068913272, 'reg_lambda': 0.2630169352826737, 'colsample_bytree': 0.6, 'subsample': 0.5, 'learning_rate': 0.0037172199777432764, 'max_depth': 48, 'num_leaves': 870, 'min_child_samples': 5, 'min_data_per_groups': 91} because of the following error: KeyboardInterrupt().\n",
      "Traceback (most recent call last):\n",
      "  File \"C:\\Users\\claxl\\anaconda3\\Lib\\site-packages\\optuna\\study\\_optimize.py\", line 200, in _run_trial\n",
      "    value_or_values = func(trial)\n",
      "                      ^^^^^^^^^^^\n",
      "  File \"C:\\Users\\claxl\\AppData\\Local\\Temp\\ipykernel_23324\\668555466.py\", line 32, in objective\n",
      "    model.fit(X_train, y_train,eval_set=[(X_test,y_test)])\n",
      "  File \"C:\\Users\\claxl\\anaconda3\\Lib\\site-packages\\lightgbm\\sklearn.py\", line 1049, in fit\n",
      "    super().fit(\n",
      "  File \"C:\\Users\\claxl\\anaconda3\\Lib\\site-packages\\lightgbm\\sklearn.py\", line 842, in fit\n",
      "    self._Booster = train(\n",
      "                    ^^^^^^\n",
      "  File \"C:\\Users\\claxl\\anaconda3\\Lib\\site-packages\\lightgbm\\engine.py\", line 300, in train\n",
      "    booster.model_from_string(booster.model_to_string()).free_dataset()\n",
      "                              ^^^^^^^^^^^^^^^^^^^^^^^^^\n",
      "  File \"C:\\Users\\claxl\\anaconda3\\Lib\\site-packages\\lightgbm\\basic.py\", line 4060, in model_to_string\n",
      "    _safe_call(_LIB.LGBM_BoosterSaveModelToString(\n",
      "               ^^^^^^^^^^^^^^^^^^^^^^^^^^^^^^^^^^^\n",
      "KeyboardInterrupt\n",
      "[W 2023-10-28 01:23:27,557] Trial 58 failed with value None.\n"
     ]
    },
    {
     "ename": "KeyboardInterrupt",
     "evalue": "",
     "output_type": "error",
     "traceback": [
      "\u001b[1;31m---------------------------------------------------------------------------\u001b[0m",
      "\u001b[1;31mKeyboardInterrupt\u001b[0m                         Traceback (most recent call last)",
      "Cell \u001b[1;32mIn[58], line 1\u001b[0m\n\u001b[1;32m----> 1\u001b[0m study\u001b[38;5;241m.\u001b[39moptimize(objective, n_trials\u001b[38;5;241m=\u001b[39m\u001b[38;5;241m50\u001b[39m)\n",
      "File \u001b[1;32m~\\anaconda3\\Lib\\site-packages\\optuna\\study\\study.py:451\u001b[0m, in \u001b[0;36mStudy.optimize\u001b[1;34m(self, func, n_trials, timeout, n_jobs, catch, callbacks, gc_after_trial, show_progress_bar)\u001b[0m\n\u001b[0;32m    348\u001b[0m \u001b[38;5;28;01mdef\u001b[39;00m \u001b[38;5;21moptimize\u001b[39m(\n\u001b[0;32m    349\u001b[0m     \u001b[38;5;28mself\u001b[39m,\n\u001b[0;32m    350\u001b[0m     func: ObjectiveFuncType,\n\u001b[1;32m   (...)\u001b[0m\n\u001b[0;32m    357\u001b[0m     show_progress_bar: \u001b[38;5;28mbool\u001b[39m \u001b[38;5;241m=\u001b[39m \u001b[38;5;28;01mFalse\u001b[39;00m,\n\u001b[0;32m    358\u001b[0m ) \u001b[38;5;241m-\u001b[39m\u001b[38;5;241m>\u001b[39m \u001b[38;5;28;01mNone\u001b[39;00m:\n\u001b[0;32m    359\u001b[0m \u001b[38;5;250m    \u001b[39m\u001b[38;5;124;03m\"\"\"Optimize an objective function.\u001b[39;00m\n\u001b[0;32m    360\u001b[0m \n\u001b[0;32m    361\u001b[0m \u001b[38;5;124;03m    Optimization is done by choosing a suitable set of hyperparameter values from a given\u001b[39;00m\n\u001b[1;32m   (...)\u001b[0m\n\u001b[0;32m    449\u001b[0m \u001b[38;5;124;03m            If nested invocation of this method occurs.\u001b[39;00m\n\u001b[0;32m    450\u001b[0m \u001b[38;5;124;03m    \"\"\"\u001b[39;00m\n\u001b[1;32m--> 451\u001b[0m     _optimize(\n\u001b[0;32m    452\u001b[0m         study\u001b[38;5;241m=\u001b[39m\u001b[38;5;28mself\u001b[39m,\n\u001b[0;32m    453\u001b[0m         func\u001b[38;5;241m=\u001b[39mfunc,\n\u001b[0;32m    454\u001b[0m         n_trials\u001b[38;5;241m=\u001b[39mn_trials,\n\u001b[0;32m    455\u001b[0m         timeout\u001b[38;5;241m=\u001b[39mtimeout,\n\u001b[0;32m    456\u001b[0m         n_jobs\u001b[38;5;241m=\u001b[39mn_jobs,\n\u001b[0;32m    457\u001b[0m         catch\u001b[38;5;241m=\u001b[39m\u001b[38;5;28mtuple\u001b[39m(catch) \u001b[38;5;28;01mif\u001b[39;00m \u001b[38;5;28misinstance\u001b[39m(catch, Iterable) \u001b[38;5;28;01melse\u001b[39;00m (catch,),\n\u001b[0;32m    458\u001b[0m         callbacks\u001b[38;5;241m=\u001b[39mcallbacks,\n\u001b[0;32m    459\u001b[0m         gc_after_trial\u001b[38;5;241m=\u001b[39mgc_after_trial,\n\u001b[0;32m    460\u001b[0m         show_progress_bar\u001b[38;5;241m=\u001b[39mshow_progress_bar,\n\u001b[0;32m    461\u001b[0m     )\n",
      "File \u001b[1;32m~\\anaconda3\\Lib\\site-packages\\optuna\\study\\_optimize.py:66\u001b[0m, in \u001b[0;36m_optimize\u001b[1;34m(study, func, n_trials, timeout, n_jobs, catch, callbacks, gc_after_trial, show_progress_bar)\u001b[0m\n\u001b[0;32m     64\u001b[0m \u001b[38;5;28;01mtry\u001b[39;00m:\n\u001b[0;32m     65\u001b[0m     \u001b[38;5;28;01mif\u001b[39;00m n_jobs \u001b[38;5;241m==\u001b[39m \u001b[38;5;241m1\u001b[39m:\n\u001b[1;32m---> 66\u001b[0m         _optimize_sequential(\n\u001b[0;32m     67\u001b[0m             study,\n\u001b[0;32m     68\u001b[0m             func,\n\u001b[0;32m     69\u001b[0m             n_trials,\n\u001b[0;32m     70\u001b[0m             timeout,\n\u001b[0;32m     71\u001b[0m             catch,\n\u001b[0;32m     72\u001b[0m             callbacks,\n\u001b[0;32m     73\u001b[0m             gc_after_trial,\n\u001b[0;32m     74\u001b[0m             reseed_sampler_rng\u001b[38;5;241m=\u001b[39m\u001b[38;5;28;01mFalse\u001b[39;00m,\n\u001b[0;32m     75\u001b[0m             time_start\u001b[38;5;241m=\u001b[39m\u001b[38;5;28;01mNone\u001b[39;00m,\n\u001b[0;32m     76\u001b[0m             progress_bar\u001b[38;5;241m=\u001b[39mprogress_bar,\n\u001b[0;32m     77\u001b[0m         )\n\u001b[0;32m     78\u001b[0m     \u001b[38;5;28;01melse\u001b[39;00m:\n\u001b[0;32m     79\u001b[0m         \u001b[38;5;28;01mif\u001b[39;00m n_jobs \u001b[38;5;241m==\u001b[39m \u001b[38;5;241m-\u001b[39m\u001b[38;5;241m1\u001b[39m:\n",
      "File \u001b[1;32m~\\anaconda3\\Lib\\site-packages\\optuna\\study\\_optimize.py:163\u001b[0m, in \u001b[0;36m_optimize_sequential\u001b[1;34m(study, func, n_trials, timeout, catch, callbacks, gc_after_trial, reseed_sampler_rng, time_start, progress_bar)\u001b[0m\n\u001b[0;32m    160\u001b[0m         \u001b[38;5;28;01mbreak\u001b[39;00m\n\u001b[0;32m    162\u001b[0m \u001b[38;5;28;01mtry\u001b[39;00m:\n\u001b[1;32m--> 163\u001b[0m     frozen_trial \u001b[38;5;241m=\u001b[39m _run_trial(study, func, catch)\n\u001b[0;32m    164\u001b[0m \u001b[38;5;28;01mfinally\u001b[39;00m:\n\u001b[0;32m    165\u001b[0m     \u001b[38;5;66;03m# The following line mitigates memory problems that can be occurred in some\u001b[39;00m\n\u001b[0;32m    166\u001b[0m     \u001b[38;5;66;03m# environments (e.g., services that use computing containers such as GitHub Actions).\u001b[39;00m\n\u001b[0;32m    167\u001b[0m     \u001b[38;5;66;03m# Please refer to the following PR for further details:\u001b[39;00m\n\u001b[0;32m    168\u001b[0m     \u001b[38;5;66;03m# https://github.com/optuna/optuna/pull/325.\u001b[39;00m\n\u001b[0;32m    169\u001b[0m     \u001b[38;5;28;01mif\u001b[39;00m gc_after_trial:\n",
      "File \u001b[1;32m~\\anaconda3\\Lib\\site-packages\\optuna\\study\\_optimize.py:251\u001b[0m, in \u001b[0;36m_run_trial\u001b[1;34m(study, func, catch)\u001b[0m\n\u001b[0;32m    244\u001b[0m         \u001b[38;5;28;01massert\u001b[39;00m \u001b[38;5;28;01mFalse\u001b[39;00m, \u001b[38;5;124m\"\u001b[39m\u001b[38;5;124mShould not reach.\u001b[39m\u001b[38;5;124m\"\u001b[39m\n\u001b[0;32m    246\u001b[0m \u001b[38;5;28;01mif\u001b[39;00m (\n\u001b[0;32m    247\u001b[0m     frozen_trial\u001b[38;5;241m.\u001b[39mstate \u001b[38;5;241m==\u001b[39m TrialState\u001b[38;5;241m.\u001b[39mFAIL\n\u001b[0;32m    248\u001b[0m     \u001b[38;5;129;01mand\u001b[39;00m func_err \u001b[38;5;129;01mis\u001b[39;00m \u001b[38;5;129;01mnot\u001b[39;00m \u001b[38;5;28;01mNone\u001b[39;00m\n\u001b[0;32m    249\u001b[0m     \u001b[38;5;129;01mand\u001b[39;00m \u001b[38;5;129;01mnot\u001b[39;00m \u001b[38;5;28misinstance\u001b[39m(func_err, catch)\n\u001b[0;32m    250\u001b[0m ):\n\u001b[1;32m--> 251\u001b[0m     \u001b[38;5;28;01mraise\u001b[39;00m func_err\n\u001b[0;32m    252\u001b[0m \u001b[38;5;28;01mreturn\u001b[39;00m frozen_trial\n",
      "File \u001b[1;32m~\\anaconda3\\Lib\\site-packages\\optuna\\study\\_optimize.py:200\u001b[0m, in \u001b[0;36m_run_trial\u001b[1;34m(study, func, catch)\u001b[0m\n\u001b[0;32m    198\u001b[0m \u001b[38;5;28;01mwith\u001b[39;00m get_heartbeat_thread(trial\u001b[38;5;241m.\u001b[39m_trial_id, study\u001b[38;5;241m.\u001b[39m_storage):\n\u001b[0;32m    199\u001b[0m     \u001b[38;5;28;01mtry\u001b[39;00m:\n\u001b[1;32m--> 200\u001b[0m         value_or_values \u001b[38;5;241m=\u001b[39m func(trial)\n\u001b[0;32m    201\u001b[0m     \u001b[38;5;28;01mexcept\u001b[39;00m exceptions\u001b[38;5;241m.\u001b[39mTrialPruned \u001b[38;5;28;01mas\u001b[39;00m e:\n\u001b[0;32m    202\u001b[0m         \u001b[38;5;66;03m# TODO(mamu): Handle multi-objective cases.\u001b[39;00m\n\u001b[0;32m    203\u001b[0m         state \u001b[38;5;241m=\u001b[39m TrialState\u001b[38;5;241m.\u001b[39mPRUNED\n",
      "Cell \u001b[1;32mIn[33], line 32\u001b[0m, in \u001b[0;36mobjective\u001b[1;34m(trial)\u001b[0m\n\u001b[0;32m     29\u001b[0m X_test \u001b[38;5;241m=\u001b[39m test_data\u001b[38;5;241m.\u001b[39mdrop(columns \u001b[38;5;241m=\u001b[39m \u001b[38;5;124m'\u001b[39m\u001b[38;5;124mpv_measurement\u001b[39m\u001b[38;5;124m'\u001b[39m)\n\u001b[0;32m     31\u001b[0m \u001b[38;5;66;03m# Train the XGBoost model\u001b[39;00m\n\u001b[1;32m---> 32\u001b[0m model\u001b[38;5;241m.\u001b[39mfit(X_train, y_train,eval_set\u001b[38;5;241m=\u001b[39m[(X_test,y_test)])\n\u001b[0;32m     34\u001b[0m \u001b[38;5;66;03m# Make predictions on the test data\u001b[39;00m\n\u001b[0;32m     35\u001b[0m y_pred \u001b[38;5;241m=\u001b[39m model\u001b[38;5;241m.\u001b[39mpredict(X_test)\n",
      "File \u001b[1;32m~\\anaconda3\\Lib\\site-packages\\lightgbm\\sklearn.py:1049\u001b[0m, in \u001b[0;36mLGBMRegressor.fit\u001b[1;34m(self, X, y, sample_weight, init_score, eval_set, eval_names, eval_sample_weight, eval_init_score, eval_metric, feature_name, categorical_feature, callbacks, init_model)\u001b[0m\n\u001b[0;32m   1032\u001b[0m \u001b[38;5;28;01mdef\u001b[39;00m \u001b[38;5;21mfit\u001b[39m(  \u001b[38;5;66;03m# type: ignore[override]\u001b[39;00m\n\u001b[0;32m   1033\u001b[0m     \u001b[38;5;28mself\u001b[39m,\n\u001b[0;32m   1034\u001b[0m     X: _LGBM_ScikitMatrixLike,\n\u001b[1;32m   (...)\u001b[0m\n\u001b[0;32m   1046\u001b[0m     init_model: Optional[Union[\u001b[38;5;28mstr\u001b[39m, Path, Booster, LGBMModel]] \u001b[38;5;241m=\u001b[39m \u001b[38;5;28;01mNone\u001b[39;00m\n\u001b[0;32m   1047\u001b[0m ) \u001b[38;5;241m-\u001b[39m\u001b[38;5;241m>\u001b[39m \u001b[38;5;124m\"\u001b[39m\u001b[38;5;124mLGBMRegressor\u001b[39m\u001b[38;5;124m\"\u001b[39m:\n\u001b[0;32m   1048\u001b[0m \u001b[38;5;250m    \u001b[39m\u001b[38;5;124;03m\"\"\"Docstring is inherited from the LGBMModel.\"\"\"\u001b[39;00m\n\u001b[1;32m-> 1049\u001b[0m     \u001b[38;5;28msuper\u001b[39m()\u001b[38;5;241m.\u001b[39mfit(\n\u001b[0;32m   1050\u001b[0m         X,\n\u001b[0;32m   1051\u001b[0m         y,\n\u001b[0;32m   1052\u001b[0m         sample_weight\u001b[38;5;241m=\u001b[39msample_weight,\n\u001b[0;32m   1053\u001b[0m         init_score\u001b[38;5;241m=\u001b[39minit_score,\n\u001b[0;32m   1054\u001b[0m         eval_set\u001b[38;5;241m=\u001b[39meval_set,\n\u001b[0;32m   1055\u001b[0m         eval_names\u001b[38;5;241m=\u001b[39meval_names,\n\u001b[0;32m   1056\u001b[0m         eval_sample_weight\u001b[38;5;241m=\u001b[39meval_sample_weight,\n\u001b[0;32m   1057\u001b[0m         eval_init_score\u001b[38;5;241m=\u001b[39meval_init_score,\n\u001b[0;32m   1058\u001b[0m         eval_metric\u001b[38;5;241m=\u001b[39meval_metric,\n\u001b[0;32m   1059\u001b[0m         feature_name\u001b[38;5;241m=\u001b[39mfeature_name,\n\u001b[0;32m   1060\u001b[0m         categorical_feature\u001b[38;5;241m=\u001b[39mcategorical_feature,\n\u001b[0;32m   1061\u001b[0m         callbacks\u001b[38;5;241m=\u001b[39mcallbacks,\n\u001b[0;32m   1062\u001b[0m         init_model\u001b[38;5;241m=\u001b[39minit_model\n\u001b[0;32m   1063\u001b[0m     )\n\u001b[0;32m   1064\u001b[0m     \u001b[38;5;28;01mreturn\u001b[39;00m \u001b[38;5;28mself\u001b[39m\n",
      "File \u001b[1;32m~\\anaconda3\\Lib\\site-packages\\lightgbm\\sklearn.py:842\u001b[0m, in \u001b[0;36mLGBMModel.fit\u001b[1;34m(self, X, y, sample_weight, init_score, group, eval_set, eval_names, eval_sample_weight, eval_class_weight, eval_init_score, eval_group, eval_metric, feature_name, categorical_feature, callbacks, init_model)\u001b[0m\n\u001b[0;32m    839\u001b[0m evals_result: _EvalResultDict \u001b[38;5;241m=\u001b[39m {}\n\u001b[0;32m    840\u001b[0m callbacks\u001b[38;5;241m.\u001b[39mappend(record_evaluation(evals_result))\n\u001b[1;32m--> 842\u001b[0m \u001b[38;5;28mself\u001b[39m\u001b[38;5;241m.\u001b[39m_Booster \u001b[38;5;241m=\u001b[39m train(\n\u001b[0;32m    843\u001b[0m     params\u001b[38;5;241m=\u001b[39mparams,\n\u001b[0;32m    844\u001b[0m     train_set\u001b[38;5;241m=\u001b[39mtrain_set,\n\u001b[0;32m    845\u001b[0m     num_boost_round\u001b[38;5;241m=\u001b[39m\u001b[38;5;28mself\u001b[39m\u001b[38;5;241m.\u001b[39mn_estimators,\n\u001b[0;32m    846\u001b[0m     valid_sets\u001b[38;5;241m=\u001b[39mvalid_sets,\n\u001b[0;32m    847\u001b[0m     valid_names\u001b[38;5;241m=\u001b[39meval_names,\n\u001b[0;32m    848\u001b[0m     feval\u001b[38;5;241m=\u001b[39meval_metrics_callable,  \u001b[38;5;66;03m# type: ignore[arg-type]\u001b[39;00m\n\u001b[0;32m    849\u001b[0m     init_model\u001b[38;5;241m=\u001b[39minit_model,\n\u001b[0;32m    850\u001b[0m     feature_name\u001b[38;5;241m=\u001b[39mfeature_name,\n\u001b[0;32m    851\u001b[0m     callbacks\u001b[38;5;241m=\u001b[39mcallbacks\n\u001b[0;32m    852\u001b[0m )\n\u001b[0;32m    854\u001b[0m \u001b[38;5;28mself\u001b[39m\u001b[38;5;241m.\u001b[39m_evals_result \u001b[38;5;241m=\u001b[39m evals_result\n\u001b[0;32m    855\u001b[0m \u001b[38;5;28mself\u001b[39m\u001b[38;5;241m.\u001b[39m_best_iteration \u001b[38;5;241m=\u001b[39m \u001b[38;5;28mself\u001b[39m\u001b[38;5;241m.\u001b[39m_Booster\u001b[38;5;241m.\u001b[39mbest_iteration\n",
      "File \u001b[1;32m~\\anaconda3\\Lib\\site-packages\\lightgbm\\engine.py:300\u001b[0m, in \u001b[0;36mtrain\u001b[1;34m(params, train_set, num_boost_round, valid_sets, valid_names, feval, init_model, feature_name, categorical_feature, keep_training_booster, callbacks)\u001b[0m\n\u001b[0;32m    298\u001b[0m     booster\u001b[38;5;241m.\u001b[39mbest_score[dataset_name][eval_name] \u001b[38;5;241m=\u001b[39m score\n\u001b[0;32m    299\u001b[0m \u001b[38;5;28;01mif\u001b[39;00m \u001b[38;5;129;01mnot\u001b[39;00m keep_training_booster:\n\u001b[1;32m--> 300\u001b[0m     booster\u001b[38;5;241m.\u001b[39mmodel_from_string(booster\u001b[38;5;241m.\u001b[39mmodel_to_string())\u001b[38;5;241m.\u001b[39mfree_dataset()\n\u001b[0;32m    301\u001b[0m \u001b[38;5;28;01mreturn\u001b[39;00m booster\n",
      "File \u001b[1;32m~\\anaconda3\\Lib\\site-packages\\lightgbm\\basic.py:4060\u001b[0m, in \u001b[0;36mBooster.model_to_string\u001b[1;34m(self, num_iteration, start_iteration, importance_type)\u001b[0m\n\u001b[0;32m   4058\u001b[0m string_buffer \u001b[38;5;241m=\u001b[39m ctypes\u001b[38;5;241m.\u001b[39mcreate_string_buffer(buffer_len)\n\u001b[0;32m   4059\u001b[0m ptr_string_buffer \u001b[38;5;241m=\u001b[39m ctypes\u001b[38;5;241m.\u001b[39mc_char_p(\u001b[38;5;241m*\u001b[39m[ctypes\u001b[38;5;241m.\u001b[39maddressof(string_buffer)])\n\u001b[1;32m-> 4060\u001b[0m _safe_call(_LIB\u001b[38;5;241m.\u001b[39mLGBM_BoosterSaveModelToString(\n\u001b[0;32m   4061\u001b[0m     \u001b[38;5;28mself\u001b[39m\u001b[38;5;241m.\u001b[39m_handle,\n\u001b[0;32m   4062\u001b[0m     ctypes\u001b[38;5;241m.\u001b[39mc_int(start_iteration),\n\u001b[0;32m   4063\u001b[0m     ctypes\u001b[38;5;241m.\u001b[39mc_int(num_iteration),\n\u001b[0;32m   4064\u001b[0m     ctypes\u001b[38;5;241m.\u001b[39mc_int(importance_type_int),\n\u001b[0;32m   4065\u001b[0m     ctypes\u001b[38;5;241m.\u001b[39mc_int64(buffer_len),\n\u001b[0;32m   4066\u001b[0m     ctypes\u001b[38;5;241m.\u001b[39mbyref(tmp_out_len),\n\u001b[0;32m   4067\u001b[0m     ptr_string_buffer))\n\u001b[0;32m   4068\u001b[0m actual_len \u001b[38;5;241m=\u001b[39m tmp_out_len\u001b[38;5;241m.\u001b[39mvalue\n\u001b[0;32m   4069\u001b[0m \u001b[38;5;66;03m# if buffer length is not long enough, re-allocate a buffer\u001b[39;00m\n",
      "\u001b[1;31mKeyboardInterrupt\u001b[0m: "
     ]
    }
   ],
   "source": [
    "study.optimize(objective, n_trials=50)"
   ]
  },
  {
   "cell_type": "code",
   "execution_count": 59,
   "id": "b87db151-dec5-4b3f-9604-ac46ec2297f4",
   "metadata": {},
   "outputs": [
    {
     "name": "stdout",
     "output_type": "stream",
     "text": [
      "  Value: 0.55181083090685\n",
      "{'n_estimators': 341, 'reg_alpha': 0.06688274049589692, 'reg_lambda': 0.27675962997095954, 'colsample_bytree': 0.6, 'subsample': 0.5, 'learning_rate': 0.004709378359130132, 'max_depth': 47, 'num_leaves': 872, 'min_child_samples': 36, 'min_data_per_groups': 78}\n"
     ]
    }
   ],
   "source": [
    "trial = study.best_trial\n",
    "\n",
    "print(\"  Value: {}\".format(trial.value))\n",
    "print(trial.params)"
   ]
  },
  {
   "cell_type": "code",
   "execution_count": 60,
   "id": "e39e62c4-d842-4e6e-a67f-da452a79e678",
   "metadata": {},
   "outputs": [],
   "source": [
    "param ={'verbose':-1, 'reg_alpha': 0.06688274049589692, 'reg_lambda': 0.27675962997095954, 'colsample_bytree': 0.6, 'subsample': 0.5, 'learning_rate': 0.004709378359130132, 'max_depth': 47, 'num_leaves': 872, 'min_child_samples': 36, 'min_data_per_groups': 78}"
   ]
  },
  {
   "cell_type": "code",
   "execution_count": 61,
   "id": "7a5d7bb0-91cb-4cc5-862d-025e403cf6c9",
   "metadata": {},
   "outputs": [],
   "source": [
    "model_A = lgb.LGBMRegressor(**param)"
   ]
  },
  {
   "cell_type": "code",
   "execution_count": 62,
   "id": "88cb0791-4848-49f6-bbc3-03518bc4f94d",
   "metadata": {},
   "outputs": [],
   "source": [
    "X_train = data.drop(columns = 'pv_measurement')\n",
    "y_train = data['pv_measurement']"
   ]
  },
  {
   "cell_type": "code",
   "execution_count": 65,
   "id": "871b3461-0ce0-4353-bf3f-207d6ed0c79f",
   "metadata": {
    "scrolled": true
   },
   "outputs": [],
   "source": [
    "model_A.fit(X_train,y_train)\n",
    "df_test_A = df_test_A[selected_features]\n",
    "y_pred_A = model_A.predict(df_test_A)\n",
    "y_pred_A =( ((y_pred_A * lambda_value) + 1)   ** (1 / lambda_value)) -1\n"
   ]
  },
  {
   "cell_type": "code",
   "execution_count": 67,
   "id": "9e6ab7b3-fdcb-492b-bac4-890a12480f9d",
   "metadata": {},
   "outputs": [
    {
     "data": {
      "image/png": "[encoded data removed]",
      "text/plain": [
       "<Figure size 640x480 with 1 Axes>"
      ]
     },
     "metadata": {},
     "output_type": "display_data"
    }
   ],
   "source": [
    "plt.plot(range(len(y_pred_A)), y_pred_A, label='Predizione', color='blue', linestyle='-')\n",
    "\n",
    "# Aggiungi una legenda\n",
    "plt.legend()\n",
    "\n",
    "# Aggiungi etichette agli assi\n",
    "plt.ylabel('Valori y')\n",
    "\n",
    "# Titolo del grafico\n",
    "plt.title('Grafico di Predizione')\n",
    "\n",
    "# Mostra il grafico\n",
    "plt.show()"
   ]
  },
  {
   "cell_type": "code",
   "execution_count": 68,
   "id": "006f3c40-6b7b-41a6-bf5d-decb0321db8b",
   "metadata": {},
   "outputs": [],
   "source": [
    "df = pd.DataFrame({'Prediction':y_pred_A})"
   ]
  },
  {
   "cell_type": "code",
   "execution_count": 69,
   "id": "c340aac0-1709-4090-a725-e58f968cff11",
   "metadata": {},
   "outputs": [],
   "source": [
    "threshold = 0.05\n",
    "df['Prediction'] = df['Prediction'].apply(lambda x: 0 if x < threshold else x)"
   ]
  },
  {
   "cell_type": "code",
   "execution_count": 70,
   "id": "33dac465-12c8-4234-9328-0639f338f50e",
   "metadata": {},
   "outputs": [],
   "source": [
    "df.to_csv('A.csv')"
   ]
  },
  {
   "cell_type": "code",
   "execution_count": 71,
   "id": "468cd57d",
   "metadata": {},
   "outputs": [
    {
     "data": {
      "text/html": [
       "<div>\n",
       "<style scoped>\n",
       "    .dataframe tbody tr th:only-of-type {\n",
       "        vertical-align: middle;\n",
       "    }\n",
       "\n",
       "    .dataframe tbody tr th {\n",
       "        vertical-align: top;\n",
       "    }\n",
       "\n",
       "    .dataframe thead th {\n",
       "        text-align: right;\n",
       "    }\n",
       "</style>\n",
       "<table border=\"1\" class=\"dataframe\">\n",
       "  <thead>\n",
       "    <tr style=\"text-align: right;\">\n",
       "      <th></th>\n",
       "      <th>Prediction</th>\n",
       "    </tr>\n",
       "  </thead>\n",
       "  <tbody>\n",
       "    <tr>\n",
       "      <th>0</th>\n",
       "      <td>3.852739</td>\n",
       "    </tr>\n",
       "    <tr>\n",
       "      <th>1</th>\n",
       "      <td>3.852739</td>\n",
       "    </tr>\n",
       "    <tr>\n",
       "      <th>2</th>\n",
       "      <td>3.852739</td>\n",
       "    </tr>\n",
       "    <tr>\n",
       "      <th>3</th>\n",
       "      <td>78.515305</td>\n",
       "    </tr>\n",
       "    <tr>\n",
       "      <th>4</th>\n",
       "      <td>78.515305</td>\n",
       "    </tr>\n",
       "    <tr>\n",
       "      <th>5</th>\n",
       "      <td>78.515305</td>\n",
       "    </tr>\n",
       "    <tr>\n",
       "      <th>6</th>\n",
       "      <td>78.515305</td>\n",
       "    </tr>\n",
       "    <tr>\n",
       "      <th>7</th>\n",
       "      <td>76.918184</td>\n",
       "    </tr>\n",
       "    <tr>\n",
       "      <th>8</th>\n",
       "      <td>78.515305</td>\n",
       "    </tr>\n",
       "    <tr>\n",
       "      <th>9</th>\n",
       "      <td>78.515305</td>\n",
       "    </tr>\n",
       "    <tr>\n",
       "      <th>10</th>\n",
       "      <td>68.295115</td>\n",
       "    </tr>\n",
       "    <tr>\n",
       "      <th>11</th>\n",
       "      <td>68.295115</td>\n",
       "    </tr>\n",
       "    <tr>\n",
       "      <th>12</th>\n",
       "      <td>68.295115</td>\n",
       "    </tr>\n",
       "    <tr>\n",
       "      <th>13</th>\n",
       "      <td>68.295115</td>\n",
       "    </tr>\n",
       "    <tr>\n",
       "      <th>14</th>\n",
       "      <td>68.529239</td>\n",
       "    </tr>\n",
       "    <tr>\n",
       "      <th>15</th>\n",
       "      <td>68.091418</td>\n",
       "    </tr>\n",
       "    <tr>\n",
       "      <th>16</th>\n",
       "      <td>68.091418</td>\n",
       "    </tr>\n",
       "    <tr>\n",
       "      <th>17</th>\n",
       "      <td>66.943292</td>\n",
       "    </tr>\n",
       "    <tr>\n",
       "      <th>18</th>\n",
       "      <td>68.091418</td>\n",
       "    </tr>\n",
       "    <tr>\n",
       "      <th>19</th>\n",
       "      <td>52.898895</td>\n",
       "    </tr>\n",
       "    <tr>\n",
       "      <th>20</th>\n",
       "      <td>4.158820</td>\n",
       "    </tr>\n",
       "    <tr>\n",
       "      <th>21</th>\n",
       "      <td>3.847877</td>\n",
       "    </tr>\n",
       "    <tr>\n",
       "      <th>22</th>\n",
       "      <td>3.847877</td>\n",
       "    </tr>\n",
       "    <tr>\n",
       "      <th>23</th>\n",
       "      <td>3.847877</td>\n",
       "    </tr>\n",
       "    <tr>\n",
       "      <th>24</th>\n",
       "      <td>3.852739</td>\n",
       "    </tr>\n",
       "    <tr>\n",
       "      <th>25</th>\n",
       "      <td>3.852739</td>\n",
       "    </tr>\n",
       "    <tr>\n",
       "      <th>26</th>\n",
       "      <td>3.852739</td>\n",
       "    </tr>\n",
       "    <tr>\n",
       "      <th>27</th>\n",
       "      <td>78.712868</td>\n",
       "    </tr>\n",
       "    <tr>\n",
       "      <th>28</th>\n",
       "      <td>78.712868</td>\n",
       "    </tr>\n",
       "    <tr>\n",
       "      <th>29</th>\n",
       "      <td>78.712868</td>\n",
       "    </tr>\n",
       "    <tr>\n",
       "      <th>30</th>\n",
       "      <td>68.627634</td>\n",
       "    </tr>\n",
       "    <tr>\n",
       "      <th>31</th>\n",
       "      <td>68.681003</td>\n",
       "    </tr>\n",
       "    <tr>\n",
       "      <th>32</th>\n",
       "      <td>68.681003</td>\n",
       "    </tr>\n",
       "    <tr>\n",
       "      <th>33</th>\n",
       "      <td>68.681003</td>\n",
       "    </tr>\n",
       "    <tr>\n",
       "      <th>34</th>\n",
       "      <td>68.681003</td>\n",
       "    </tr>\n",
       "    <tr>\n",
       "      <th>35</th>\n",
       "      <td>68.681003</td>\n",
       "    </tr>\n",
       "    <tr>\n",
       "      <th>36</th>\n",
       "      <td>68.681003</td>\n",
       "    </tr>\n",
       "    <tr>\n",
       "      <th>37</th>\n",
       "      <td>68.681003</td>\n",
       "    </tr>\n",
       "    <tr>\n",
       "      <th>38</th>\n",
       "      <td>68.613161</td>\n",
       "    </tr>\n",
       "    <tr>\n",
       "      <th>39</th>\n",
       "      <td>68.091418</td>\n",
       "    </tr>\n",
       "    <tr>\n",
       "      <th>40</th>\n",
       "      <td>67.310260</td>\n",
       "    </tr>\n",
       "    <tr>\n",
       "      <th>41</th>\n",
       "      <td>67.310260</td>\n",
       "    </tr>\n",
       "    <tr>\n",
       "      <th>42</th>\n",
       "      <td>68.091418</td>\n",
       "    </tr>\n",
       "    <tr>\n",
       "      <th>43</th>\n",
       "      <td>68.091418</td>\n",
       "    </tr>\n",
       "    <tr>\n",
       "      <th>44</th>\n",
       "      <td>4.158820</td>\n",
       "    </tr>\n",
       "    <tr>\n",
       "      <th>45</th>\n",
       "      <td>3.847877</td>\n",
       "    </tr>\n",
       "    <tr>\n",
       "      <th>46</th>\n",
       "      <td>3.847877</td>\n",
       "    </tr>\n",
       "    <tr>\n",
       "      <th>47</th>\n",
       "      <td>3.847877</td>\n",
       "    </tr>\n",
       "    <tr>\n",
       "      <th>48</th>\n",
       "      <td>3.852739</td>\n",
       "    </tr>\n",
       "    <tr>\n",
       "      <th>49</th>\n",
       "      <td>3.852739</td>\n",
       "    </tr>\n",
       "  </tbody>\n",
       "</table>\n",
       "</div>"
      ],
      "text/plain": [
       "    Prediction\n",
       "0     3.852739\n",
       "1     3.852739\n",
       "2     3.852739\n",
       "3    78.515305\n",
       "4    78.515305\n",
       "5    78.515305\n",
       "6    78.515305\n",
       "7    76.918184\n",
       "8    78.515305\n",
       "9    78.515305\n",
       "10   68.295115\n",
       "11   68.295115\n",
       "12   68.295115\n",
       "13   68.295115\n",
       "14   68.529239\n",
       "15   68.091418\n",
       "16   68.091418\n",
       "17   66.943292\n",
       "18   68.091418\n",
       "19   52.898895\n",
       "20    4.158820\n",
       "21    3.847877\n",
       "22    3.847877\n",
       "23    3.847877\n",
       "24    3.852739\n",
       "25    3.852739\n",
       "26    3.852739\n",
       "27   78.712868\n",
       "28   78.712868\n",
       "29   78.712868\n",
       "30   68.627634\n",
       "31   68.681003\n",
       "32   68.681003\n",
       "33   68.681003\n",
       "34   68.681003\n",
       "35   68.681003\n",
       "36   68.681003\n",
       "37   68.681003\n",
       "38   68.613161\n",
       "39   68.091418\n",
       "40   67.310260\n",
       "41   67.310260\n",
       "42   68.091418\n",
       "43   68.091418\n",
       "44    4.158820\n",
       "45    3.847877\n",
       "46    3.847877\n",
       "47    3.847877\n",
       "48    3.852739\n",
       "49    3.852739"
      ]
     },
     "execution_count": 71,
     "metadata": {},
     "output_type": "execute_result"
    }
   ],
   "source": [
    "df.head(50)"
   ]
  },
  {
   "cell_type": "code",
   "execution_count": 134,
   "id": "847af1d3",
   "metadata": {},
   "outputs": [
    {
     "data": {
      "text/plain": [
       "<Axes: xlabel='date_forecast'>"
      ]
     },
     "execution_count": 134,
     "metadata": {},
     "output_type": "execute_result"
    },
    {
     "data": {
      "image/png": "[encoded data removed]",
      "text/plain": [
       "<Figure size 640x480 with 1 Axes>"
      ]
     },
     "metadata": {},
     "output_type": "display_data"
    }
   ],
   "source": [
    "data['pv_measurement'][0:720].plot()"
   ]
  },
  {
   "cell_type": "code",
   "execution_count": 49,
   "id": "c67cfd21",
   "metadata": {},
   "outputs": [
    {
     "data": {
      "text/plain": [
       "date_forecast\n",
       "2019-06-02 22:00:00     0.00\n",
       "2019-06-02 23:00:00     0.00\n",
       "2019-06-03 00:00:00     0.00\n",
       "2019-06-03 01:00:00     0.00\n",
       "2019-06-03 02:00:00    19.36\n",
       "                       ...  \n",
       "2023-04-30 19:00:00     9.02\n",
       "2023-04-30 20:00:00     0.00\n",
       "2023-04-30 21:00:00     0.00\n",
       "2023-04-30 22:00:00     0.00\n",
       "2023-04-30 23:00:00     0.00\n",
       "Name: pv_measurement, Length: 34085, dtype: float64"
      ]
     },
     "execution_count": 49,
     "metadata": {},
     "output_type": "execute_result"
    }
   ],
   "source": [
    "df_normalized['pv_measurement'] =( ((df_normalized['pv_measurement'] * lambda_value) + 1)   ** (1 / lambda_value)) -1\n",
    "df_normalized['pv_measurement']"
   ]
  },
  {
   "cell_type": "code",
   "execution_count": 50,
   "id": "1f723791",
   "metadata": {},
   "outputs": [
    {
     "data": {
      "text/plain": [
       "date_forecast\n",
       "2019-06-02 22:00:00     0.00\n",
       "2019-06-02 23:00:00     0.00\n",
       "2019-06-03 00:00:00     0.00\n",
       "2019-06-03 01:00:00     0.00\n",
       "2019-06-03 02:00:00    19.36\n",
       "                       ...  \n",
       "2023-04-30 19:00:00     9.02\n",
       "2023-04-30 20:00:00     0.00\n",
       "2023-04-30 21:00:00     0.00\n",
       "2023-04-30 22:00:00     0.00\n",
       "2023-04-30 23:00:00     0.00\n",
       "Name: pv_measurement, Length: 34085, dtype: float64"
      ]
     },
     "execution_count": 50,
     "metadata": {},
     "output_type": "execute_result"
    }
   ],
   "source": [
    "df_knn['pv_measurement']"
   ]
  },
  {
   "cell_type": "code",
   "execution_count": null,
   "id": "592e0993",
   "metadata": {},
   "outputs": [],
   "source": []
  }
 ],
 "metadata": {
  "environment": {
   "kernel": "python3",
   "name": "common-cpu.m112",
   "type": "gcloud",
   "uri": "gcr.io/deeplearning-platform-release/base-cpu:m112"
  },
  "kernelspec": {
   "display_name": "Python 3 (ipykernel)",
   "language": "python",
   "name": "python3"
  },
  "language_info": {
   "codemirror_mode": {
    "name": "ipython",
    "version": 3
   },
   "file_extension": ".py",
   "mimetype": "text/x-python",
   "name": "python",
   "nbconvert_exporter": "python",
   "pygments_lexer": "ipython3",
   "version": "3.11.4"
  }
 },
 "nbformat": 4,
 "nbformat_minor": 5
}
