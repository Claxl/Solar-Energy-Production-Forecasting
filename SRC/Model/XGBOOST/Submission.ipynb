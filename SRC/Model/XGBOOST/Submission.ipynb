{
 "cells": [
  {
   "cell_type": "code",
   "execution_count": 16,
   "id": "184073e6-7627-41d0-9f33-d0e37d1be30f",
   "metadata": {},
   "outputs": [],
   "source": [
    "import pandas as pd\n",
    "A = pd.read_csv('A.csv')\n",
    "B = pd.read_csv('B.csv')\n",
    "C = pd.read_csv('C.csv')"
   ]
  },
  {
   "cell_type": "code",
   "execution_count": 17,
   "id": "4af8826c-0d70-42c8-875b-c44d59c78dcf",
   "metadata": {},
   "outputs": [],
   "source": [
    "pred = pd.concat([A,B,C], ignore_index = True)"
   ]
  },
  {
   "cell_type": "code",
   "execution_count": 18,
   "id": "c0065dd4-88f4-4c63-8f45-17713d7d0903",
   "metadata": {},
   "outputs": [],
   "source": [
    "pred = pred.drop(columns = 'Unnamed: 0')"
   ]
  },
  {
   "cell_type": "code",
   "execution_count": 20,
   "id": "f46d78f5-a43d-4757-921b-941c61f41013",
   "metadata": {},
   "outputs": [],
   "source": [
    "pred['id'] = range(2160)"
   ]
  },
  {
   "cell_type": "code",
   "execution_count": 22,
   "id": "9ffeec4c-1d9e-43ae-8c7e-f838a09e09b4",
   "metadata": {},
   "outputs": [
    {
     "data": {
      "text/html": [
       "<div>\n",
       "<style scoped>\n",
       "    .dataframe tbody tr th:only-of-type {\n",
       "        vertical-align: middle;\n",
       "    }\n",
       "\n",
       "    .dataframe tbody tr th {\n",
       "        vertical-align: top;\n",
       "    }\n",
       "\n",
       "    .dataframe thead th {\n",
       "        text-align: right;\n",
       "    }\n",
       "</style>\n",
       "<table border=\"1\" class=\"dataframe\">\n",
       "  <thead>\n",
       "    <tr style=\"text-align: right;\">\n",
       "      <th></th>\n",
       "      <th>Prediction</th>\n",
       "    </tr>\n",
       "    <tr>\n",
       "      <th>id</th>\n",
       "      <th></th>\n",
       "    </tr>\n",
       "  </thead>\n",
       "  <tbody>\n",
       "    <tr>\n",
       "      <th>0</th>\n",
       "      <td>0.000000</td>\n",
       "    </tr>\n",
       "    <tr>\n",
       "      <th>1</th>\n",
       "      <td>0.649513</td>\n",
       "    </tr>\n",
       "    <tr>\n",
       "      <th>2</th>\n",
       "      <td>10.814259</td>\n",
       "    </tr>\n",
       "    <tr>\n",
       "      <th>3</th>\n",
       "      <td>93.085640</td>\n",
       "    </tr>\n",
       "    <tr>\n",
       "      <th>4</th>\n",
       "      <td>86.828934</td>\n",
       "    </tr>\n",
       "    <tr>\n",
       "      <th>...</th>\n",
       "      <td>...</td>\n",
       "    </tr>\n",
       "    <tr>\n",
       "      <th>2155</th>\n",
       "      <td>49.528183</td>\n",
       "    </tr>\n",
       "    <tr>\n",
       "      <th>2156</th>\n",
       "      <td>26.765522</td>\n",
       "    </tr>\n",
       "    <tr>\n",
       "      <th>2157</th>\n",
       "      <td>23.700548</td>\n",
       "    </tr>\n",
       "    <tr>\n",
       "      <th>2158</th>\n",
       "      <td>13.070587</td>\n",
       "    </tr>\n",
       "    <tr>\n",
       "      <th>2159</th>\n",
       "      <td>8.056074</td>\n",
       "    </tr>\n",
       "  </tbody>\n",
       "</table>\n",
       "<p>2160 rows × 1 columns</p>\n",
       "</div>"
      ],
      "text/plain": [
       "      Prediction\n",
       "id              \n",
       "0       0.000000\n",
       "1       0.649513\n",
       "2      10.814259\n",
       "3      93.085640\n",
       "4      86.828934\n",
       "...          ...\n",
       "2155   49.528183\n",
       "2156   26.765522\n",
       "2157   23.700548\n",
       "2158   13.070587\n",
       "2159    8.056074\n",
       "\n",
       "[2160 rows x 1 columns]"
      ]
     },
     "execution_count": 22,
     "metadata": {},
     "output_type": "execute_result"
    }
   ],
   "source": [
    "pred = pred.set_index(pred['id'])\n",
    "pred = pred.drop(columns = 'id', axis = 1)\n",
    "pred"
   ]
  },
  {
   "cell_type": "code",
   "execution_count": 23,
   "id": "67b79af1-03bc-40d6-af90-d386699587da",
   "metadata": {},
   "outputs": [],
   "source": [
    "pred.to_csv('timeseries.csv')"
   ]
  },
  {
   "cell_type": "code",
   "execution_count": null,
   "id": "fab324bd-ac9d-429c-93af-c741821f18b3",
   "metadata": {},
   "outputs": [],
   "source": []
  }
 ],
 "metadata": {
  "environment": {
   "kernel": "python3",
   "name": "common-cpu.m112",
   "type": "gcloud",
   "uri": "gcr.io/deeplearning-platform-release/base-cpu:m112"
  },
  "kernelspec": {
   "display_name": "Python 3 (ipykernel)",
   "language": "python",
   "name": "python3"
  },
  "language_info": {
   "codemirror_mode": {
    "name": "ipython",
    "version": 3
   },
   "file_extension": ".py",
   "mimetype": "text/x-python",
   "name": "python",
   "nbconvert_exporter": "python",
   "pygments_lexer": "ipython3",
   "version": "3.11.4"
  }
 },
 "nbformat": 4,
 "nbformat_minor": 5
}
