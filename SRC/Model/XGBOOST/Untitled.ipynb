{
 "cells": [
  {
   "cell_type": "code",
   "execution_count": 1,
   "id": "df6ee033",
   "metadata": {},
   "outputs": [],
   "source": [
    "import pandas as pd\n",
    "import numpy as np\n",
    "import matplotlib.pyplot as plt"
   ]
  },
  {
   "cell_type": "code",
   "execution_count": 2,
   "id": "56f9e0b8",
   "metadata": {},
   "outputs": [],
   "source": [
    "base = \"/Users/claxl/Documents/GitHub/MLProject/Data Exploration/EDA/clearData/\""
   ]
  },
  {
   "cell_type": "code",
   "execution_count": 6,
   "id": "260d4f20",
   "metadata": {},
   "outputs": [],
   "source": [
    "df_train_est_A = pd.read_csv('train_est_A.csv')\n",
    "df_train_obs_A = pd.read_csv('train_obs_A.csv')\n",
    "df_test_A = pd.read_csv('X_test_A.csv')\n",
    "df_train_est_A = df_train_est_A.rename(columns={'Unnamed: 0': 'date_forecast'})\n",
    "\n",
    "df_train_obs_A = df_train_obs_A.rename(columns={'Unnamed: 0': 'date_forecast'})\n",
    "\n",
    "df_test_A = df_test_A.rename(columns={'Unnamed: 0': 'date_forecast'})\n",
    "\n",
    "df_train_est_A.set_index('date_forecast', inplace=True)\n",
    "df_train_obs_A.set_index('date_forecast', inplace=True)\n",
    "df_test_A.set_index('date_forecast', inplace=True)\n",
    "df_train_obs_A.index = pd.to_datetime(df_train_obs_A.index)\n",
    "df_train_obs_A.index = pd.to_datetime(df_train_obs_A.index)"
   ]
  },
  {
   "cell_type": "code",
   "execution_count": 7,
   "id": "6cf1a5f6",
   "metadata": {},
   "outputs": [],
   "source": [
    "df_train_obs_A=df_train_obs_A.drop(columns=['snow_density:kgm3'])\n",
    "df_train_est_A=df_train_est_A.drop(columns=['snow_density:kgm3'])\n"
   ]
  },
  {
   "cell_type": "code",
   "execution_count": 8,
   "id": "1689ac1b",
   "metadata": {},
   "outputs": [
    {
     "data": {
      "text/plain": [
       "absolute_humidity_2m:gm3          0.000000\n",
       "air_density_2m:kgm3               0.000000\n",
       "ceiling_height_agl:m              0.000000\n",
       "clear_sky_energy_1h:J             0.000000\n",
       "clear_sky_rad:W                   0.000000\n",
       "cloud_base_agl:m                  0.000000\n",
       "dew_or_rime:idx                   0.000000\n",
       "dew_point_2m:K                    0.000000\n",
       "diffuse_rad:W                     0.000000\n",
       "diffuse_rad_1h:J                  0.000000\n",
       "direct_rad:W                      0.000000\n",
       "direct_rad_1h:J                   0.000000\n",
       "effective_cloud_cover:p           0.000000\n",
       "elevation:m                       0.000000\n",
       "fresh_snow_12h:cm                 0.000000\n",
       "fresh_snow_1h:cm                  0.000000\n",
       "fresh_snow_24h:cm                 0.000000\n",
       "fresh_snow_3h:cm                  0.000000\n",
       "fresh_snow_6h:cm                  0.000000\n",
       "is_day:idx                        0.000000\n",
       "is_in_shadow:idx                  0.000000\n",
       "msl_pressure:hPa                  0.000000\n",
       "precip_5min:mm                    0.000000\n",
       "precip_type_5min:idx              0.000000\n",
       "pressure_100m:hPa                 0.000000\n",
       "pressure_50m:hPa                  0.000000\n",
       "prob_rime:p                       0.000000\n",
       "rain_water:kgm2                   0.000000\n",
       "relative_humidity_1000hPa:p       0.000000\n",
       "sfc_pressure:hPa                  0.000000\n",
       "snow_depth:cm                     0.000000\n",
       "snow_drift:idx                    0.000000\n",
       "snow_melt_10min:mm                0.000000\n",
       "snow_water:kgm2                   0.000000\n",
       "sun_azimuth:d                     0.000000\n",
       "sun_elevation:d                   0.000000\n",
       "super_cooled_liquid_water:kgm2    0.000000\n",
       "t_1000hPa:K                       0.000000\n",
       "total_cloud_cover:p               0.000000\n",
       "visibility:m                      0.000000\n",
       "wind_speed_10m:ms                 0.000000\n",
       "wind_speed_u_10m:ms               0.000000\n",
       "wind_speed_v_10m:ms               0.000000\n",
       "wind_speed_w_1000hPa:ms           0.000000\n",
       "pv_measurement                    0.000000\n",
       "date_calc                         0.870383\n",
       "hours                             0.000000\n",
       "day                               0.000000\n",
       "month                             0.000000\n",
       "year                              0.000000\n",
       "dtype: float64"
      ]
     },
     "execution_count": 8,
     "metadata": {},
     "output_type": "execute_result"
    }
   ],
   "source": [
    "df_train_obs_A = df_train_obs_A.fillna(0)\n",
    "df_train_est_A = df_train_est_A.fillna(0)\n",
    "df = pd.concat([df_train_obs_A,df_train_est_A])\n",
    "df.index = pd.to_datetime(df.index)\n",
    "df['hours'] = df.index.hour\n",
    "df['day'] = df.index.day\n",
    "df['month'] = df.index.month\n",
    "df['year'] = df.index.year\n",
    "\n",
    "df.isna().mean()\n"
   ]
  },
  {
   "cell_type": "code",
   "execution_count": 9,
   "id": "4c80ed42",
   "metadata": {},
   "outputs": [
    {
     "data": {
      "text/plain": [
       "absolute_humidity_2m:gm3          0.000000\n",
       "air_density_2m:kgm3               0.000000\n",
       "ceiling_height_agl:m              0.000000\n",
       "clear_sky_energy_1h:J             0.000000\n",
       "clear_sky_rad:W                   0.000000\n",
       "cloud_base_agl:m                  0.000000\n",
       "dew_or_rime:idx                   0.000000\n",
       "dew_point_2m:K                    0.000000\n",
       "diffuse_rad:W                     0.000000\n",
       "diffuse_rad_1h:J                  0.000000\n",
       "direct_rad:W                      0.000000\n",
       "direct_rad_1h:J                   0.000000\n",
       "effective_cloud_cover:p           0.000000\n",
       "elevation:m                       0.000000\n",
       "fresh_snow_12h:cm                 0.000000\n",
       "fresh_snow_1h:cm                  0.000000\n",
       "fresh_snow_24h:cm                 0.000000\n",
       "fresh_snow_3h:cm                  0.000000\n",
       "fresh_snow_6h:cm                  0.000000\n",
       "is_day:idx                        0.000000\n",
       "is_in_shadow:idx                  0.000000\n",
       "msl_pressure:hPa                  0.000000\n",
       "precip_5min:mm                    0.000000\n",
       "precip_type_5min:idx              0.000000\n",
       "pressure_100m:hPa                 0.000000\n",
       "pressure_50m:hPa                  0.000000\n",
       "prob_rime:p                       0.000000\n",
       "rain_water:kgm2                   0.000000\n",
       "relative_humidity_1000hPa:p       0.000000\n",
       "sfc_pressure:hPa                  0.000000\n",
       "snow_depth:cm                     0.000000\n",
       "snow_drift:idx                    0.000000\n",
       "snow_melt_10min:mm                0.000000\n",
       "snow_water:kgm2                   0.000000\n",
       "sun_azimuth:d                     0.000000\n",
       "sun_elevation:d                   0.000000\n",
       "super_cooled_liquid_water:kgm2    0.000000\n",
       "t_1000hPa:K                       0.000000\n",
       "total_cloud_cover:p               0.000000\n",
       "visibility:m                      0.000000\n",
       "wind_speed_10m:ms                 0.000000\n",
       "wind_speed_u_10m:ms               0.000000\n",
       "wind_speed_v_10m:ms               0.000000\n",
       "wind_speed_w_1000hPa:ms           0.000000\n",
       "pv_measurement                    0.000000\n",
       "date_calc                         0.870383\n",
       "hours                             0.000000\n",
       "day                               0.000000\n",
       "month                             0.000000\n",
       "year                              0.000000\n",
       "dtype: float64"
      ]
     },
     "execution_count": 9,
     "metadata": {},
     "output_type": "execute_result"
    }
   ],
   "source": [
    "import pandas as pd\n",
    "from sklearn.model_selection import TimeSeriesSplit, cross_val_score\n",
    "import xgboost as xgb\n",
    "from sklearn.metrics import mean_absolute_error\n",
    "\n",
    "# Sample DataFrame (replace this with your own dataset)\n",
    "data = df\n",
    "\n",
    "# Define the number of splits (e.g., 5 for 80-20 train-test splits)\n",
    "n_splits = 5\n",
    "\n",
    "\n",
    "# Initialize the TimeSeriesSplit\n",
    "tscv = TimeSeriesSplit(n_splits=n_splits)\n",
    "\n",
    "data.isna().mean()"
   ]
  },
  {
   "cell_type": "code",
   "execution_count": 10,
   "id": "4be8129f",
   "metadata": {},
   "outputs": [],
   "source": [
    "param_grid = [\n",
    "    {\n",
    "        'learning_rate': [0.1, 0.01, 0.001],\n",
    "        'n_estimators': [100, 200, 300],\n",
    "        'max_depth': [3, 4, 5],\n",
    "        'min_child_weight': [1, 2, 3],\n",
    "        'subsample': [0.8, 0.9, 1.0],\n",
    "        'colsample_bytree': [0.8, 0.9, 1.0],\n",
    "        'gamma': [0, 0.1, 0.2],\n",
    "        'reg_alpha': [0, 0.1, 0.2],\n",
    "        'reg_lambda': [1, 2, 3],\n",
    "        'objective': ['reg:squarederror'],\n",
    "        'eval_metric': ['mae']\n",
    "    }\n",
    "]\n",
    "\n",
    "# You can use this param_grid in grid search or random search\n"
   ]
  },
  {
   "cell_type": "code",
   "execution_count": 11,
   "id": "b61fc0a1",
   "metadata": {},
   "outputs": [],
   "source": [
    "from sklearn.model_selection import GridSearchCV\n",
    "\n",
    "\n"
   ]
  },
  {
   "cell_type": "code",
   "execution_count": 12,
   "id": "40682e02",
   "metadata": {},
   "outputs": [
    {
     "ename": "ValueError",
     "evalue": "\nAll the 98415 fits failed.\nIt is very likely that your model is misconfigured.\nYou can try to debug the error by setting error_score='raise'.\n\nBelow are more details about the failures:\n--------------------------------------------------------------------------------\n98415 fits failed with the following error:\nTraceback (most recent call last):\n  File \"/opt/conda/lib/python3.10/site-packages/sklearn/model_selection/_validation.py\", line 729, in _fit_and_score\n    estimator.fit(X_train, y_train, **fit_params)\n  File \"/opt/conda/lib/python3.10/site-packages/xgboost/core.py\", line 729, in inner_f\n    return func(**kwargs)\n  File \"/opt/conda/lib/python3.10/site-packages/xgboost/sklearn.py\", line 1051, in fit\n    train_dmatrix, evals = _wrap_evaluation_matrices(\n  File \"/opt/conda/lib/python3.10/site-packages/xgboost/sklearn.py\", line 534, in _wrap_evaluation_matrices\n    train_dmatrix = create_dmatrix(\n  File \"/opt/conda/lib/python3.10/site-packages/xgboost/sklearn.py\", line 954, in _create_dmatrix\n    return QuantileDMatrix(\n  File \"/opt/conda/lib/python3.10/site-packages/xgboost/core.py\", line 729, in inner_f\n    return func(**kwargs)\n  File \"/opt/conda/lib/python3.10/site-packages/xgboost/core.py\", line 1528, in __init__\n    self._init(\n  File \"/opt/conda/lib/python3.10/site-packages/xgboost/core.py\", line 1587, in _init\n    it.reraise()\n  File \"/opt/conda/lib/python3.10/site-packages/xgboost/core.py\", line 575, in reraise\n    raise exc  # pylint: disable=raising-bad-type\n  File \"/opt/conda/lib/python3.10/site-packages/xgboost/core.py\", line 556, in _handle_exception\n    return fn()\n  File \"/opt/conda/lib/python3.10/site-packages/xgboost/core.py\", line 640, in <lambda>\n    return self._handle_exception(lambda: self.next(input_data), 0)\n  File \"/opt/conda/lib/python3.10/site-packages/xgboost/data.py\", line 1280, in next\n    input_data(**self.kwargs)\n  File \"/opt/conda/lib/python3.10/site-packages/xgboost/core.py\", line 729, in inner_f\n    return func(**kwargs)\n  File \"/opt/conda/lib/python3.10/site-packages/xgboost/core.py\", line 623, in input_data\n    new, cat_codes, feature_names, feature_types = _proxy_transform(\n  File \"/opt/conda/lib/python3.10/site-packages/xgboost/data.py\", line 1315, in _proxy_transform\n    arr, feature_names, feature_types = _transform_pandas_df(\n  File \"/opt/conda/lib/python3.10/site-packages/xgboost/data.py\", line 490, in _transform_pandas_df\n    _invalid_dataframe_dtype(data)\n  File \"/opt/conda/lib/python3.10/site-packages/xgboost/data.py\", line 308, in _invalid_dataframe_dtype\n    raise ValueError(msg)\nValueError: DataFrame.dtypes for data must be int, float, bool or category. When categorical type is supplied, The experimental DMatrix parameter`enable_categorical` must be set to `True`.  Invalid columns:date_calc: object\n",
     "output_type": "error",
     "traceback": [
      "\u001b[0;31m---------------------------------------------------------------------------\u001b[0m",
      "\u001b[0;31mValueError\u001b[0m                                Traceback (most recent call last)",
      "Cell \u001b[0;32mIn[12], line 33\u001b[0m\n\u001b[1;32m     30\u001b[0m     \u001b[38;5;66;03m# Create an XGBoost DMatrix for training and testing data\u001b[39;00m\n\u001b[1;32m     32\u001b[0m grid_search \u001b[38;5;241m=\u001b[39m GridSearchCV(estimator\u001b[38;5;241m=\u001b[39mxgb\u001b[38;5;241m.\u001b[39mXGBRegressor(), param_grid\u001b[38;5;241m=\u001b[39mparam_grid, scoring\u001b[38;5;241m=\u001b[39m\u001b[38;5;124m'\u001b[39m\u001b[38;5;124mneg_mean_absolute_error\u001b[39m\u001b[38;5;124m'\u001b[39m, cv\u001b[38;5;241m=\u001b[39m\u001b[38;5;241m5\u001b[39m)\n\u001b[0;32m---> 33\u001b[0m \u001b[43mgrid_search\u001b[49m\u001b[38;5;241;43m.\u001b[39;49m\u001b[43mfit\u001b[49m\u001b[43m(\u001b[49m\u001b[43mX_train\u001b[49m\u001b[43m,\u001b[49m\u001b[43m \u001b[49m\u001b[43my_train\u001b[49m\u001b[43m)\u001b[49m\n\u001b[1;32m     35\u001b[0m best_params \u001b[38;5;241m=\u001b[39m grid_search\u001b[38;5;241m.\u001b[39mbest_params_\n\u001b[1;32m     37\u001b[0m \u001b[38;5;66;03m# Evaluate the model using Mean Absolute Error (MAE)\u001b[39;00m\n",
      "File \u001b[0;32m/opt/conda/lib/python3.10/site-packages/sklearn/base.py:1152\u001b[0m, in \u001b[0;36m_fit_context.<locals>.decorator.<locals>.wrapper\u001b[0;34m(estimator, *args, **kwargs)\u001b[0m\n\u001b[1;32m   1145\u001b[0m     estimator\u001b[38;5;241m.\u001b[39m_validate_params()\n\u001b[1;32m   1147\u001b[0m \u001b[38;5;28;01mwith\u001b[39;00m config_context(\n\u001b[1;32m   1148\u001b[0m     skip_parameter_validation\u001b[38;5;241m=\u001b[39m(\n\u001b[1;32m   1149\u001b[0m         prefer_skip_nested_validation \u001b[38;5;129;01mor\u001b[39;00m global_skip_validation\n\u001b[1;32m   1150\u001b[0m     )\n\u001b[1;32m   1151\u001b[0m ):\n\u001b[0;32m-> 1152\u001b[0m     \u001b[38;5;28;01mreturn\u001b[39;00m \u001b[43mfit_method\u001b[49m\u001b[43m(\u001b[49m\u001b[43mestimator\u001b[49m\u001b[43m,\u001b[49m\u001b[43m \u001b[49m\u001b[38;5;241;43m*\u001b[39;49m\u001b[43margs\u001b[49m\u001b[43m,\u001b[49m\u001b[43m \u001b[49m\u001b[38;5;241;43m*\u001b[39;49m\u001b[38;5;241;43m*\u001b[39;49m\u001b[43mkwargs\u001b[49m\u001b[43m)\u001b[49m\n",
      "File \u001b[0;32m/opt/conda/lib/python3.10/site-packages/sklearn/model_selection/_search.py:898\u001b[0m, in \u001b[0;36mBaseSearchCV.fit\u001b[0;34m(self, X, y, groups, **fit_params)\u001b[0m\n\u001b[1;32m    892\u001b[0m     results \u001b[38;5;241m=\u001b[39m \u001b[38;5;28mself\u001b[39m\u001b[38;5;241m.\u001b[39m_format_results(\n\u001b[1;32m    893\u001b[0m         all_candidate_params, n_splits, all_out, all_more_results\n\u001b[1;32m    894\u001b[0m     )\n\u001b[1;32m    896\u001b[0m     \u001b[38;5;28;01mreturn\u001b[39;00m results\n\u001b[0;32m--> 898\u001b[0m \u001b[38;5;28;43mself\u001b[39;49m\u001b[38;5;241;43m.\u001b[39;49m\u001b[43m_run_search\u001b[49m\u001b[43m(\u001b[49m\u001b[43mevaluate_candidates\u001b[49m\u001b[43m)\u001b[49m\n\u001b[1;32m    900\u001b[0m \u001b[38;5;66;03m# multimetric is determined here because in the case of a callable\u001b[39;00m\n\u001b[1;32m    901\u001b[0m \u001b[38;5;66;03m# self.scoring the return type is only known after calling\u001b[39;00m\n\u001b[1;32m    902\u001b[0m first_test_score \u001b[38;5;241m=\u001b[39m all_out[\u001b[38;5;241m0\u001b[39m][\u001b[38;5;124m\"\u001b[39m\u001b[38;5;124mtest_scores\u001b[39m\u001b[38;5;124m\"\u001b[39m]\n",
      "File \u001b[0;32m/opt/conda/lib/python3.10/site-packages/sklearn/model_selection/_search.py:1422\u001b[0m, in \u001b[0;36mGridSearchCV._run_search\u001b[0;34m(self, evaluate_candidates)\u001b[0m\n\u001b[1;32m   1420\u001b[0m \u001b[38;5;28;01mdef\u001b[39;00m \u001b[38;5;21m_run_search\u001b[39m(\u001b[38;5;28mself\u001b[39m, evaluate_candidates):\n\u001b[1;32m   1421\u001b[0m \u001b[38;5;250m    \u001b[39m\u001b[38;5;124;03m\"\"\"Search all candidates in param_grid\"\"\"\u001b[39;00m\n\u001b[0;32m-> 1422\u001b[0m     \u001b[43mevaluate_candidates\u001b[49m\u001b[43m(\u001b[49m\u001b[43mParameterGrid\u001b[49m\u001b[43m(\u001b[49m\u001b[38;5;28;43mself\u001b[39;49m\u001b[38;5;241;43m.\u001b[39;49m\u001b[43mparam_grid\u001b[49m\u001b[43m)\u001b[49m\u001b[43m)\u001b[49m\n",
      "File \u001b[0;32m/opt/conda/lib/python3.10/site-packages/sklearn/model_selection/_search.py:875\u001b[0m, in \u001b[0;36mBaseSearchCV.fit.<locals>.evaluate_candidates\u001b[0;34m(candidate_params, cv, more_results)\u001b[0m\n\u001b[1;32m    868\u001b[0m \u001b[38;5;28;01melif\u001b[39;00m \u001b[38;5;28mlen\u001b[39m(out) \u001b[38;5;241m!=\u001b[39m n_candidates \u001b[38;5;241m*\u001b[39m n_splits:\n\u001b[1;32m    869\u001b[0m     \u001b[38;5;28;01mraise\u001b[39;00m \u001b[38;5;167;01mValueError\u001b[39;00m(\n\u001b[1;32m    870\u001b[0m         \u001b[38;5;124m\"\u001b[39m\u001b[38;5;124mcv.split and cv.get_n_splits returned \u001b[39m\u001b[38;5;124m\"\u001b[39m\n\u001b[1;32m    871\u001b[0m         \u001b[38;5;124m\"\u001b[39m\u001b[38;5;124minconsistent results. Expected \u001b[39m\u001b[38;5;132;01m{}\u001b[39;00m\u001b[38;5;124m \u001b[39m\u001b[38;5;124m\"\u001b[39m\n\u001b[1;32m    872\u001b[0m         \u001b[38;5;124m\"\u001b[39m\u001b[38;5;124msplits, got \u001b[39m\u001b[38;5;132;01m{}\u001b[39;00m\u001b[38;5;124m\"\u001b[39m\u001b[38;5;241m.\u001b[39mformat(n_splits, \u001b[38;5;28mlen\u001b[39m(out) \u001b[38;5;241m/\u001b[39m\u001b[38;5;241m/\u001b[39m n_candidates)\n\u001b[1;32m    873\u001b[0m     )\n\u001b[0;32m--> 875\u001b[0m \u001b[43m_warn_or_raise_about_fit_failures\u001b[49m\u001b[43m(\u001b[49m\u001b[43mout\u001b[49m\u001b[43m,\u001b[49m\u001b[43m \u001b[49m\u001b[38;5;28;43mself\u001b[39;49m\u001b[38;5;241;43m.\u001b[39;49m\u001b[43merror_score\u001b[49m\u001b[43m)\u001b[49m\n\u001b[1;32m    877\u001b[0m \u001b[38;5;66;03m# For callable self.scoring, the return type is only know after\u001b[39;00m\n\u001b[1;32m    878\u001b[0m \u001b[38;5;66;03m# calling. If the return type is a dictionary, the error scores\u001b[39;00m\n\u001b[1;32m    879\u001b[0m \u001b[38;5;66;03m# can now be inserted with the correct key. The type checking\u001b[39;00m\n\u001b[1;32m    880\u001b[0m \u001b[38;5;66;03m# of out will be done in `_insert_error_scores`.\u001b[39;00m\n\u001b[1;32m    881\u001b[0m \u001b[38;5;28;01mif\u001b[39;00m \u001b[38;5;28mcallable\u001b[39m(\u001b[38;5;28mself\u001b[39m\u001b[38;5;241m.\u001b[39mscoring):\n",
      "File \u001b[0;32m/opt/conda/lib/python3.10/site-packages/sklearn/model_selection/_validation.py:414\u001b[0m, in \u001b[0;36m_warn_or_raise_about_fit_failures\u001b[0;34m(results, error_score)\u001b[0m\n\u001b[1;32m    407\u001b[0m \u001b[38;5;28;01mif\u001b[39;00m num_failed_fits \u001b[38;5;241m==\u001b[39m num_fits:\n\u001b[1;32m    408\u001b[0m     all_fits_failed_message \u001b[38;5;241m=\u001b[39m (\n\u001b[1;32m    409\u001b[0m         \u001b[38;5;124mf\u001b[39m\u001b[38;5;124m\"\u001b[39m\u001b[38;5;130;01m\\n\u001b[39;00m\u001b[38;5;124mAll the \u001b[39m\u001b[38;5;132;01m{\u001b[39;00mnum_fits\u001b[38;5;132;01m}\u001b[39;00m\u001b[38;5;124m fits failed.\u001b[39m\u001b[38;5;130;01m\\n\u001b[39;00m\u001b[38;5;124m\"\u001b[39m\n\u001b[1;32m    410\u001b[0m         \u001b[38;5;124m\"\u001b[39m\u001b[38;5;124mIt is very likely that your model is misconfigured.\u001b[39m\u001b[38;5;130;01m\\n\u001b[39;00m\u001b[38;5;124m\"\u001b[39m\n\u001b[1;32m    411\u001b[0m         \u001b[38;5;124m\"\u001b[39m\u001b[38;5;124mYou can try to debug the error by setting error_score=\u001b[39m\u001b[38;5;124m'\u001b[39m\u001b[38;5;124mraise\u001b[39m\u001b[38;5;124m'\u001b[39m\u001b[38;5;124m.\u001b[39m\u001b[38;5;130;01m\\n\u001b[39;00m\u001b[38;5;130;01m\\n\u001b[39;00m\u001b[38;5;124m\"\u001b[39m\n\u001b[1;32m    412\u001b[0m         \u001b[38;5;124mf\u001b[39m\u001b[38;5;124m\"\u001b[39m\u001b[38;5;124mBelow are more details about the failures:\u001b[39m\u001b[38;5;130;01m\\n\u001b[39;00m\u001b[38;5;132;01m{\u001b[39;00mfit_errors_summary\u001b[38;5;132;01m}\u001b[39;00m\u001b[38;5;124m\"\u001b[39m\n\u001b[1;32m    413\u001b[0m     )\n\u001b[0;32m--> 414\u001b[0m     \u001b[38;5;28;01mraise\u001b[39;00m \u001b[38;5;167;01mValueError\u001b[39;00m(all_fits_failed_message)\n\u001b[1;32m    416\u001b[0m \u001b[38;5;28;01melse\u001b[39;00m:\n\u001b[1;32m    417\u001b[0m     some_fits_failed_message \u001b[38;5;241m=\u001b[39m (\n\u001b[1;32m    418\u001b[0m         \u001b[38;5;124mf\u001b[39m\u001b[38;5;124m\"\u001b[39m\u001b[38;5;130;01m\\n\u001b[39;00m\u001b[38;5;132;01m{\u001b[39;00mnum_failed_fits\u001b[38;5;132;01m}\u001b[39;00m\u001b[38;5;124m fits failed out of a total of \u001b[39m\u001b[38;5;132;01m{\u001b[39;00mnum_fits\u001b[38;5;132;01m}\u001b[39;00m\u001b[38;5;124m.\u001b[39m\u001b[38;5;130;01m\\n\u001b[39;00m\u001b[38;5;124m\"\u001b[39m\n\u001b[1;32m    419\u001b[0m         \u001b[38;5;124m\"\u001b[39m\u001b[38;5;124mThe score on these train-test partitions for these parameters\u001b[39m\u001b[38;5;124m\"\u001b[39m\n\u001b[0;32m   (...)\u001b[0m\n\u001b[1;32m    423\u001b[0m         \u001b[38;5;124mf\u001b[39m\u001b[38;5;124m\"\u001b[39m\u001b[38;5;124mBelow are more details about the failures:\u001b[39m\u001b[38;5;130;01m\\n\u001b[39;00m\u001b[38;5;132;01m{\u001b[39;00mfit_errors_summary\u001b[38;5;132;01m}\u001b[39;00m\u001b[38;5;124m\"\u001b[39m\n\u001b[1;32m    424\u001b[0m     )\n",
      "\u001b[0;31mValueError\u001b[0m: \nAll the 98415 fits failed.\nIt is very likely that your model is misconfigured.\nYou can try to debug the error by setting error_score='raise'.\n\nBelow are more details about the failures:\n--------------------------------------------------------------------------------\n98415 fits failed with the following error:\nTraceback (most recent call last):\n  File \"/opt/conda/lib/python3.10/site-packages/sklearn/model_selection/_validation.py\", line 729, in _fit_and_score\n    estimator.fit(X_train, y_train, **fit_params)\n  File \"/opt/conda/lib/python3.10/site-packages/xgboost/core.py\", line 729, in inner_f\n    return func(**kwargs)\n  File \"/opt/conda/lib/python3.10/site-packages/xgboost/sklearn.py\", line 1051, in fit\n    train_dmatrix, evals = _wrap_evaluation_matrices(\n  File \"/opt/conda/lib/python3.10/site-packages/xgboost/sklearn.py\", line 534, in _wrap_evaluation_matrices\n    train_dmatrix = create_dmatrix(\n  File \"/opt/conda/lib/python3.10/site-packages/xgboost/sklearn.py\", line 954, in _create_dmatrix\n    return QuantileDMatrix(\n  File \"/opt/conda/lib/python3.10/site-packages/xgboost/core.py\", line 729, in inner_f\n    return func(**kwargs)\n  File \"/opt/conda/lib/python3.10/site-packages/xgboost/core.py\", line 1528, in __init__\n    self._init(\n  File \"/opt/conda/lib/python3.10/site-packages/xgboost/core.py\", line 1587, in _init\n    it.reraise()\n  File \"/opt/conda/lib/python3.10/site-packages/xgboost/core.py\", line 575, in reraise\n    raise exc  # pylint: disable=raising-bad-type\n  File \"/opt/conda/lib/python3.10/site-packages/xgboost/core.py\", line 556, in _handle_exception\n    return fn()\n  File \"/opt/conda/lib/python3.10/site-packages/xgboost/core.py\", line 640, in <lambda>\n    return self._handle_exception(lambda: self.next(input_data), 0)\n  File \"/opt/conda/lib/python3.10/site-packages/xgboost/data.py\", line 1280, in next\n    input_data(**self.kwargs)\n  File \"/opt/conda/lib/python3.10/site-packages/xgboost/core.py\", line 729, in inner_f\n    return func(**kwargs)\n  File \"/opt/conda/lib/python3.10/site-packages/xgboost/core.py\", line 623, in input_data\n    new, cat_codes, feature_names, feature_types = _proxy_transform(\n  File \"/opt/conda/lib/python3.10/site-packages/xgboost/data.py\", line 1315, in _proxy_transform\n    arr, feature_names, feature_types = _transform_pandas_df(\n  File \"/opt/conda/lib/python3.10/site-packages/xgboost/data.py\", line 490, in _transform_pandas_df\n    _invalid_dataframe_dtype(data)\n  File \"/opt/conda/lib/python3.10/site-packages/xgboost/data.py\", line 308, in _invalid_dataframe_dtype\n    raise ValueError(msg)\nValueError: DataFrame.dtypes for data must be int, float, bool or category. When categorical type is supplied, The experimental DMatrix parameter`enable_categorical` must be set to `True`.  Invalid columns:date_calc: object\n"
     ]
    }
   ],
   "source": [
    "#def objective(trial):\n",
    "param_grid = [\n",
    "    {\n",
    "        'learning_rate': [0.1, 0.01, 0.001],\n",
    "        'n_estimators': [100, 200, 300],\n",
    "        'max_depth': [3, 4, 5],\n",
    "        'min_child_weight': [1, 2, 3],\n",
    "        'subsample': [0.8, 0.9, 1.0],\n",
    "        'colsample_bytree': [0.8, 0.9, 1.0],\n",
    "        'gamma': [0, 0.1, 0.2],\n",
    "        'reg_alpha': [0, 0.1, 0.2],\n",
    "        'reg_lambda': [1, 2, 3],\n",
    "        'objective': ['reg:squarederror'],\n",
    "        'eval_metric': ['mae']\n",
    "    }\n",
    "]\n",
    "\n",
    "maelist = []\n",
    "for train_index, test_index in tscv.split(data):\n",
    "        train_data = data.iloc[train_index]\n",
    "        test_data = data.iloc[test_index]\n",
    "\n",
    "        # Extract target variable for training and testing data\n",
    "        y_train = train_data['pv_measurement']\n",
    "        y_test = test_data['pv_measurement']\n",
    "\n",
    "        # Extract features for training and testing data\n",
    "        X_train = train_data.drop(columns = 'pv_measurement')\n",
    "        X_test = test_data.drop(columns = 'pv_measurement')\n",
    "            # Create an XGBoost DMatrix for training and testing data\n",
    "\n",
    "        grid_search = GridSearchCV(estimator=xgb.XGBRegressor(), param_grid=param_grid, scoring='neg_mean_absolute_error', cv=5)\n",
    "        grid_search.fit(X_train, y_train)\n",
    "\n",
    "        best_params = grid_search.best_params_\n",
    "\n",
    "        # Evaluate the model using Mean Absolute Error (MAE)\n",
    "        mae = mean_absolute_error(y_test, y_pred)\n",
    "        print(\"Mean Absolute Error:\", mae)\n",
    "    # Return MAE\n",
    "    #return 0"
   ]
  },
  {
   "cell_type": "code",
   "execution_count": null,
   "id": "2f3060c3",
   "metadata": {},
   "outputs": [],
   "source": [
    "import optuna\n",
    "import warnings\n",
    "warnings.filterwarnings(\"ignore\")\n",
    "\n",
    "study = optuna.create_study(direction='minimize')\n",
    "study.optimize(objective, n_trials=50)"
   ]
  },
  {
   "cell_type": "code",
   "execution_count": null,
   "id": "cfffef82",
   "metadata": {},
   "outputs": [],
   "source": []
  }
 ],
 "metadata": {
  "environment": {
   "kernel": "python3",
   "name": "common-cpu.m112",
   "type": "gcloud",
   "uri": "gcr.io/deeplearning-platform-release/base-cpu:m112"
  },
  "kernelspec": {
   "display_name": "Python 3",
   "language": "python",
   "name": "python3"
  },
  "language_info": {
   "codemirror_mode": {
    "name": "ipython",
    "version": 3
   },
   "file_extension": ".py",
   "mimetype": "text/x-python",
   "name": "python",
   "nbconvert_exporter": "python",
   "pygments_lexer": "ipython3",
   "version": "3.10.12"
  }
 },
 "nbformat": 4,
 "nbformat_minor": 5
}
