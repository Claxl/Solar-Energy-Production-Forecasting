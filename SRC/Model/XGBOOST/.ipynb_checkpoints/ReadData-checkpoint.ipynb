{
 "cells": [
  {
   "cell_type": "code",
   "execution_count": 11,
   "id": "5f939221",
   "metadata": {},
   "outputs": [],
   "source": [
    "import pandas as pd\n",
    "import numpy as np\n",
    "import warnings\n",
    "warnings.filterwarnings(\"ignore\", category=DeprecationWarning)"
   ]
  },
  {
   "cell_type": "code",
   "execution_count": 30,
   "id": "5ddb3613",
   "metadata": {},
   "outputs": [],
   "source": [
    "def readData(location):\n",
    "  if(location == 1):\n",
    "    y_train_obs_A = pd.read_parquet('data/A/train_targets.parquet')\n",
    "    X_test_est_A = pd.read_parquet('data/A/X_test_estimated.parquet')\n",
    "    X_train_est_A = pd.read_parquet('data/A/X_train_estimated.parquet')\n",
    "    X_train_obs_A = pd.read_parquet('data/A/X_train_observed.parquet')\n",
    "    return y_train_obs_A, X_test_est_A, X_train_est_A, X_train_obs_A\n",
    "  elif(location == 2):\n",
    "    y_train_obs_B = pd.read_parquet('data/B/train_targets.parquet')\n",
    "    X_test_est_B = pd.read_parquet('data/B/X_test_estimated.parquet' )\n",
    "    X_train_est_B = pd.read_parquet('data/B/X_train_estimated.parquet')\n",
    "    X_train_obs_B = pd.read_parquet('data/B/X_train_observed.parquet')\n",
    "    return y_train_obs_B, X_test_est_B , X_train_est_B, X_train_obs_B\n",
    "  else:\n",
    "    y_train_obs_C = pd.read_parquet('data/C/train_targets.parquet')\n",
    "    X_test_est_C = pd.read_parquet('data/C/X_test_estimated.parquet')\n",
    "    X_train_est_C = pd.read_parquet('data/C/X_train_estimated.parquet')\n",
    "    X_train_obs_C = pd.read_parquet('data/C/X_train_observed.parquet')\n",
    "    X_c = pd.concat([X_train_est_C, X_train_obs_C])\n",
    "    return y_train_obs_C, X_test_est_C, X_train_est_C, X_train_obs_C"
   ]
  },
  {
   "cell_type": "code",
   "execution_count": 31,
   "id": "f91e1b4d",
   "metadata": {},
   "outputs": [],
   "source": [
    "y_a, X_test_A, X_train_A_est, X_train_A_obs = readData(1)\n",
    "\n",
    "y_b, X_test_B, X_train_B_est, X_train_B_obs = readData(2)\n",
    "y_c, X_test_C, X_train_C_est, X_train_C_obs = readData(3)"
   ]
  },
  {
   "cell_type": "code",
   "execution_count": 32,
   "id": "b6a96799",
   "metadata": {},
   "outputs": [
    {
     "data": {
      "text/plain": [
       "(2880, 46)"
      ]
     },
     "execution_count": 32,
     "metadata": {},
     "output_type": "execute_result"
    }
   ],
   "source": [
    "X_train_A_obs.set_index('date_forecast', inplace=True)\n",
    "\n",
    "X_train_A_est.set_index('date_forecast', inplace=True)\n",
    "\n",
    "X_test_A.set_index('date_forecast', inplace=True)\n",
    "\n",
    "y_a.set_index('time', inplace=True)\n",
    "X_test_A.shape"
   ]
  },
  {
   "cell_type": "code",
   "execution_count": 33,
   "id": "10b5a6ad",
   "metadata": {},
   "outputs": [
    {
     "data": {
      "text/plain": [
       "(2880, 46)"
      ]
     },
     "execution_count": 33,
     "metadata": {},
     "output_type": "execute_result"
    }
   ],
   "source": [
    "X_train_B_obs.set_index('date_forecast', inplace=True)\n",
    "\n",
    "X_train_B_est.set_index('date_forecast', inplace=True)\n",
    "\n",
    "X_test_B.set_index('date_forecast', inplace=True)\n",
    "\n",
    "y_b.set_index('time', inplace=True)\n",
    "X_test_B.shape"
   ]
  },
  {
   "cell_type": "code",
   "execution_count": 34,
   "id": "91dbc33d",
   "metadata": {},
   "outputs": [
    {
     "data": {
      "text/plain": [
       "(2880, 46)"
      ]
     },
     "execution_count": 34,
     "metadata": {},
     "output_type": "execute_result"
    }
   ],
   "source": [
    "X_train_C_obs.set_index('date_forecast', inplace=True)\n",
    "\n",
    "X_train_C_est.set_index('date_forecast', inplace=True)\n",
    "\n",
    "X_test_C.set_index('date_forecast', inplace=True)\n",
    "\n",
    "y_c.set_index('time', inplace=True)\n",
    "X_test_C.shape"
   ]
  },
  {
   "cell_type": "code",
   "execution_count": 35,
   "id": "4a042f9b",
   "metadata": {},
   "outputs": [
    {
     "data": {
      "text/plain": [
       "date_calc                         0.000000\n",
       "absolute_humidity_2m:gm3          0.000000\n",
       "air_density_2m:kgm3               0.000000\n",
       "ceiling_height_agl:m              0.275347\n",
       "clear_sky_energy_1h:J             0.000000\n",
       "clear_sky_rad:W                   0.000000\n",
       "cloud_base_agl:m                  0.103472\n",
       "dew_or_rime:idx                   0.000000\n",
       "dew_point_2m:K                    0.000000\n",
       "diffuse_rad:W                     0.000000\n",
       "diffuse_rad_1h:J                  0.000000\n",
       "direct_rad:W                      0.000000\n",
       "direct_rad_1h:J                   0.000000\n",
       "effective_cloud_cover:p           0.000000\n",
       "elevation:m                       0.000000\n",
       "fresh_snow_12h:cm                 0.000000\n",
       "fresh_snow_1h:cm                  0.000000\n",
       "fresh_snow_24h:cm                 0.000000\n",
       "fresh_snow_3h:cm                  0.000000\n",
       "fresh_snow_6h:cm                  0.000000\n",
       "is_day:idx                        0.000000\n",
       "is_in_shadow:idx                  0.000000\n",
       "msl_pressure:hPa                  0.000000\n",
       "precip_5min:mm                    0.000000\n",
       "precip_type_5min:idx              0.000000\n",
       "pressure_100m:hPa                 0.000000\n",
       "pressure_50m:hPa                  0.000000\n",
       "prob_rime:p                       0.000000\n",
       "rain_water:kgm2                   0.000000\n",
       "relative_humidity_1000hPa:p       0.000000\n",
       "sfc_pressure:hPa                  0.000000\n",
       "snow_density:kgm3                 1.000000\n",
       "snow_depth:cm                     0.000000\n",
       "snow_drift:idx                    0.000000\n",
       "snow_melt_10min:mm                0.000000\n",
       "snow_water:kgm2                   0.000000\n",
       "sun_azimuth:d                     0.000000\n",
       "sun_elevation:d                   0.000000\n",
       "super_cooled_liquid_water:kgm2    0.000000\n",
       "t_1000hPa:K                       0.000000\n",
       "total_cloud_cover:p               0.000000\n",
       "visibility:m                      0.000000\n",
       "wind_speed_10m:ms                 0.000000\n",
       "wind_speed_u_10m:ms               0.000000\n",
       "wind_speed_v_10m:ms               0.000000\n",
       "wind_speed_w_1000hPa:ms           0.000000\n",
       "dtype: float64"
      ]
     },
     "execution_count": 35,
     "metadata": {},
     "output_type": "execute_result"
    }
   ],
   "source": [
    "X_test_A.isnull().mean()"
   ]
  },
  {
   "cell_type": "code",
   "execution_count": 36,
   "id": "0de2290a",
   "metadata": {},
   "outputs": [],
   "source": [
    "def make_hourly(unsampled_df, target_df):\n",
    "    sampled_df = unsampled_df.resample('H').mean()\n",
    "    sampled_df.index = sampled_df.index.floor('H')\n",
    "    merged_df = sampled_df.merge(target_df, left_index=True, right_index=True, how='inner')\n",
    "    return merged_df"
   ]
  },
  {
   "cell_type": "markdown",
   "id": "93b2f68f",
   "metadata": {},
   "source": [
    "### A"
   ]
  },
  {
   "cell_type": "code",
   "execution_count": 37,
   "id": "f293d5bd",
   "metadata": {},
   "outputs": [
    {
     "name": "stdout",
     "output_type": "stream",
     "text": [
      "(29667, 46)\n",
      "(4418, 46)\n"
     ]
    },
    {
     "name": "stderr",
     "output_type": "stream",
     "text": [
      "C:\\Users\\claxl\\AppData\\Local\\Temp\\ipykernel_26728\\3041205111.py:2: FutureWarning: The default value of numeric_only in DataFrameGroupBy.mean is deprecated. In a future version, numeric_only will default to False. Either specify numeric_only or select only columns which should be valid for the function.\n",
      "  sampled_df = unsampled_df.resample('H').mean()\n"
     ]
    }
   ],
   "source": [
    "merged_df_train_obs_A = make_hourly(X_train_A_obs, y_a)\n",
    "# Reimposta l'indice se lo desideri\n",
    "merged_df_train_est_A = make_hourly(X_train_A_est, y_a)\n",
    "print(merged_df_train_obs_A.shape)\n",
    "print(merged_df_train_est_A.shape)\n"
   ]
  },
  {
   "cell_type": "code",
   "execution_count": 38,
   "id": "d52291f9",
   "metadata": {},
   "outputs": [
    {
     "name": "stderr",
     "output_type": "stream",
     "text": [
      "C:\\Users\\claxl\\AppData\\Local\\Temp\\ipykernel_26728\\1718057266.py:3: FutureWarning: The default value of numeric_only in DataFrameGroupBy.mean is deprecated. In a future version, numeric_only will default to False. Either specify numeric_only or select only columns which should be valid for the function.\n",
      "  X_test_A = X_test_A.resample('H').mean()\n"
     ]
    },
    {
     "data": {
      "text/html": [
       "<div>\n",
       "<style scoped>\n",
       "    .dataframe tbody tr th:only-of-type {\n",
       "        vertical-align: middle;\n",
       "    }\n",
       "\n",
       "    .dataframe tbody tr th {\n",
       "        vertical-align: top;\n",
       "    }\n",
       "\n",
       "    .dataframe thead th {\n",
       "        text-align: right;\n",
       "    }\n",
       "</style>\n",
       "<table border=\"1\" class=\"dataframe\">\n",
       "  <thead>\n",
       "    <tr style=\"text-align: right;\">\n",
       "      <th></th>\n",
       "      <th>absolute_humidity_2m:gm3</th>\n",
       "      <th>air_density_2m:kgm3</th>\n",
       "      <th>ceiling_height_agl:m</th>\n",
       "      <th>clear_sky_energy_1h:J</th>\n",
       "      <th>clear_sky_rad:W</th>\n",
       "      <th>cloud_base_agl:m</th>\n",
       "      <th>dew_or_rime:idx</th>\n",
       "      <th>dew_point_2m:K</th>\n",
       "      <th>diffuse_rad:W</th>\n",
       "      <th>diffuse_rad_1h:J</th>\n",
       "      <th>...</th>\n",
       "      <th>sun_azimuth:d</th>\n",
       "      <th>sun_elevation:d</th>\n",
       "      <th>super_cooled_liquid_water:kgm2</th>\n",
       "      <th>t_1000hPa:K</th>\n",
       "      <th>total_cloud_cover:p</th>\n",
       "      <th>visibility:m</th>\n",
       "      <th>wind_speed_10m:ms</th>\n",
       "      <th>wind_speed_u_10m:ms</th>\n",
       "      <th>wind_speed_v_10m:ms</th>\n",
       "      <th>wind_speed_w_1000hPa:ms</th>\n",
       "    </tr>\n",
       "    <tr>\n",
       "      <th>date_forecast</th>\n",
       "      <th></th>\n",
       "      <th></th>\n",
       "      <th></th>\n",
       "      <th></th>\n",
       "      <th></th>\n",
       "      <th></th>\n",
       "      <th></th>\n",
       "      <th></th>\n",
       "      <th></th>\n",
       "      <th></th>\n",
       "      <th></th>\n",
       "      <th></th>\n",
       "      <th></th>\n",
       "      <th></th>\n",
       "      <th></th>\n",
       "      <th></th>\n",
       "      <th></th>\n",
       "      <th></th>\n",
       "      <th></th>\n",
       "      <th></th>\n",
       "      <th></th>\n",
       "    </tr>\n",
       "  </thead>\n",
       "  <tbody>\n",
       "    <tr>\n",
       "      <th>2023-05-01 00:00:00</th>\n",
       "      <td>4.325</td>\n",
       "      <td>1.28675</td>\n",
       "      <td>912.700012</td>\n",
       "      <td>0.000000</td>\n",
       "      <td>0.000000</td>\n",
       "      <td>1061.550049</td>\n",
       "      <td>0.0</td>\n",
       "      <td>271.650024</td>\n",
       "      <td>0.000000</td>\n",
       "      <td>0.000000</td>\n",
       "      <td>...</td>\n",
       "      <td>16.026501</td>\n",
       "      <td>-10.54100</td>\n",
       "      <td>0.000</td>\n",
       "      <td>273.799988</td>\n",
       "      <td>74.949997</td>\n",
       "      <td>29907.500000</td>\n",
       "      <td>3.950</td>\n",
       "      <td>2.100</td>\n",
       "      <td>3.350</td>\n",
       "      <td>0.0</td>\n",
       "    </tr>\n",
       "    <tr>\n",
       "      <th>2023-05-01 01:00:00</th>\n",
       "      <td>4.275</td>\n",
       "      <td>1.28600</td>\n",
       "      <td>1111.574951</td>\n",
       "      <td>0.000000</td>\n",
       "      <td>0.000000</td>\n",
       "      <td>1075.100098</td>\n",
       "      <td>0.0</td>\n",
       "      <td>271.450012</td>\n",
       "      <td>0.000000</td>\n",
       "      <td>0.000000</td>\n",
       "      <td>...</td>\n",
       "      <td>30.497250</td>\n",
       "      <td>-7.89450</td>\n",
       "      <td>0.000</td>\n",
       "      <td>273.799988</td>\n",
       "      <td>77.474998</td>\n",
       "      <td>29519.074219</td>\n",
       "      <td>3.825</td>\n",
       "      <td>1.925</td>\n",
       "      <td>3.300</td>\n",
       "      <td>0.0</td>\n",
       "    </tr>\n",
       "    <tr>\n",
       "      <th>2023-05-01 02:00:00</th>\n",
       "      <td>4.150</td>\n",
       "      <td>1.28375</td>\n",
       "      <td>1791.300049</td>\n",
       "      <td>0.000000</td>\n",
       "      <td>0.000000</td>\n",
       "      <td>1200.400024</td>\n",
       "      <td>0.0</td>\n",
       "      <td>271.049988</td>\n",
       "      <td>0.000000</td>\n",
       "      <td>0.000000</td>\n",
       "      <td>...</td>\n",
       "      <td>44.517250</td>\n",
       "      <td>-3.81550</td>\n",
       "      <td>0.000</td>\n",
       "      <td>273.849976</td>\n",
       "      <td>88.099998</td>\n",
       "      <td>31009.125000</td>\n",
       "      <td>3.650</td>\n",
       "      <td>1.750</td>\n",
       "      <td>3.200</td>\n",
       "      <td>0.0</td>\n",
       "    </tr>\n",
       "    <tr>\n",
       "      <th>2023-05-01 03:00:00</th>\n",
       "      <td>4.025</td>\n",
       "      <td>1.28200</td>\n",
       "      <td>2312.875000</td>\n",
       "      <td>10124.424805</td>\n",
       "      <td>11.675000</td>\n",
       "      <td>1179.849976</td>\n",
       "      <td>0.0</td>\n",
       "      <td>270.649994</td>\n",
       "      <td>9.375000</td>\n",
       "      <td>16845.226562</td>\n",
       "      <td>...</td>\n",
       "      <td>58.083000</td>\n",
       "      <td>1.41250</td>\n",
       "      <td>0.000</td>\n",
       "      <td>273.899994</td>\n",
       "      <td>68.599998</td>\n",
       "      <td>34552.500000</td>\n",
       "      <td>3.500</td>\n",
       "      <td>1.450</td>\n",
       "      <td>3.150</td>\n",
       "      <td>0.0</td>\n",
       "    </tr>\n",
       "    <tr>\n",
       "      <th>2023-05-01 04:00:00</th>\n",
       "      <td>3.900</td>\n",
       "      <td>1.28100</td>\n",
       "      <td>2198.299805</td>\n",
       "      <td>141748.593750</td>\n",
       "      <td>76.875000</td>\n",
       "      <td>920.049988</td>\n",
       "      <td>0.0</td>\n",
       "      <td>270.375000</td>\n",
       "      <td>47.400002</td>\n",
       "      <td>102209.703125</td>\n",
       "      <td>...</td>\n",
       "      <td>71.341003</td>\n",
       "      <td>7.46850</td>\n",
       "      <td>0.000</td>\n",
       "      <td>273.924988</td>\n",
       "      <td>66.300003</td>\n",
       "      <td>35483.875000</td>\n",
       "      <td>3.325</td>\n",
       "      <td>1.300</td>\n",
       "      <td>3.050</td>\n",
       "      <td>0.0</td>\n",
       "    </tr>\n",
       "    <tr>\n",
       "      <th>...</th>\n",
       "      <td>...</td>\n",
       "      <td>...</td>\n",
       "      <td>...</td>\n",
       "      <td>...</td>\n",
       "      <td>...</td>\n",
       "      <td>...</td>\n",
       "      <td>...</td>\n",
       "      <td>...</td>\n",
       "      <td>...</td>\n",
       "      <td>...</td>\n",
       "      <td>...</td>\n",
       "      <td>...</td>\n",
       "      <td>...</td>\n",
       "      <td>...</td>\n",
       "      <td>...</td>\n",
       "      <td>...</td>\n",
       "      <td>...</td>\n",
       "      <td>...</td>\n",
       "      <td>...</td>\n",
       "      <td>...</td>\n",
       "      <td>...</td>\n",
       "    </tr>\n",
       "    <tr>\n",
       "      <th>2023-07-03 19:00:00</th>\n",
       "      <td>8.350</td>\n",
       "      <td>1.19725</td>\n",
       "      <td>3638.899902</td>\n",
       "      <td>477093.187500</td>\n",
       "      <td>85.099998</td>\n",
       "      <td>2013.750000</td>\n",
       "      <td>0.0</td>\n",
       "      <td>281.575012</td>\n",
       "      <td>33.625000</td>\n",
       "      <td>168774.546875</td>\n",
       "      <td>...</td>\n",
       "      <td>306.687012</td>\n",
       "      <td>8.15300</td>\n",
       "      <td>0.100</td>\n",
       "      <td>287.024994</td>\n",
       "      <td>86.150002</td>\n",
       "      <td>44056.375000</td>\n",
       "      <td>2.450</td>\n",
       "      <td>2.075</td>\n",
       "      <td>-1.350</td>\n",
       "      <td>0.0</td>\n",
       "    </tr>\n",
       "    <tr>\n",
       "      <th>2023-07-03 20:00:00</th>\n",
       "      <td>8.525</td>\n",
       "      <td>1.20050</td>\n",
       "      <td>3552.100098</td>\n",
       "      <td>184335.671875</td>\n",
       "      <td>24.799999</td>\n",
       "      <td>1610.900024</td>\n",
       "      <td>0.0</td>\n",
       "      <td>281.850006</td>\n",
       "      <td>14.325000</td>\n",
       "      <td>86321.125000</td>\n",
       "      <td>...</td>\n",
       "      <td>319.704010</td>\n",
       "      <td>3.26800</td>\n",
       "      <td>0.000</td>\n",
       "      <td>286.600006</td>\n",
       "      <td>75.324997</td>\n",
       "      <td>44017.175781</td>\n",
       "      <td>2.450</td>\n",
       "      <td>2.100</td>\n",
       "      <td>-1.250</td>\n",
       "      <td>0.0</td>\n",
       "    </tr>\n",
       "    <tr>\n",
       "      <th>2023-07-03 21:00:00</th>\n",
       "      <td>8.825</td>\n",
       "      <td>1.20450</td>\n",
       "      <td>1736.250000</td>\n",
       "      <td>37429.328125</td>\n",
       "      <td>1.275000</td>\n",
       "      <td>1622.800049</td>\n",
       "      <td>0.0</td>\n",
       "      <td>282.325012</td>\n",
       "      <td>1.300000</td>\n",
       "      <td>28169.150391</td>\n",
       "      <td>...</td>\n",
       "      <td>333.040009</td>\n",
       "      <td>-0.44325</td>\n",
       "      <td>0.000</td>\n",
       "      <td>286.100006</td>\n",
       "      <td>76.849998</td>\n",
       "      <td>43302.050781</td>\n",
       "      <td>2.575</td>\n",
       "      <td>2.150</td>\n",
       "      <td>-1.400</td>\n",
       "      <td>0.0</td>\n",
       "    </tr>\n",
       "    <tr>\n",
       "      <th>2023-07-03 22:00:00</th>\n",
       "      <td>9.025</td>\n",
       "      <td>1.20700</td>\n",
       "      <td>2202.800049</td>\n",
       "      <td>360.049988</td>\n",
       "      <td>0.000000</td>\n",
       "      <td>1767.550049</td>\n",
       "      <td>0.0</td>\n",
       "      <td>282.675018</td>\n",
       "      <td>0.000000</td>\n",
       "      <td>2350.725098</td>\n",
       "      <td>...</td>\n",
       "      <td>346.686005</td>\n",
       "      <td>-2.75050</td>\n",
       "      <td>0.075</td>\n",
       "      <td>285.549988</td>\n",
       "      <td>98.324997</td>\n",
       "      <td>40505.851562</td>\n",
       "      <td>2.250</td>\n",
       "      <td>1.800</td>\n",
       "      <td>-1.350</td>\n",
       "      <td>0.0</td>\n",
       "    </tr>\n",
       "    <tr>\n",
       "      <th>2023-07-03 23:00:00</th>\n",
       "      <td>9.050</td>\n",
       "      <td>1.20775</td>\n",
       "      <td>2015.675049</td>\n",
       "      <td>0.000000</td>\n",
       "      <td>0.000000</td>\n",
       "      <td>1438.449951</td>\n",
       "      <td>0.0</td>\n",
       "      <td>282.675018</td>\n",
       "      <td>0.000000</td>\n",
       "      <td>0.000000</td>\n",
       "      <td>...</td>\n",
       "      <td>180.518494</td>\n",
       "      <td>-3.49750</td>\n",
       "      <td>0.125</td>\n",
       "      <td>285.250000</td>\n",
       "      <td>100.000000</td>\n",
       "      <td>39665.523438</td>\n",
       "      <td>1.975</td>\n",
       "      <td>1.600</td>\n",
       "      <td>-1.175</td>\n",
       "      <td>0.0</td>\n",
       "    </tr>\n",
       "  </tbody>\n",
       "</table>\n",
       "<p>720 rows × 45 columns</p>\n",
       "</div>"
      ],
      "text/plain": [
       "                     absolute_humidity_2m:gm3  air_density_2m:kgm3  \\\n",
       "date_forecast                                                        \n",
       "2023-05-01 00:00:00                     4.325              1.28675   \n",
       "2023-05-01 01:00:00                     4.275              1.28600   \n",
       "2023-05-01 02:00:00                     4.150              1.28375   \n",
       "2023-05-01 03:00:00                     4.025              1.28200   \n",
       "2023-05-01 04:00:00                     3.900              1.28100   \n",
       "...                                       ...                  ...   \n",
       "2023-07-03 19:00:00                     8.350              1.19725   \n",
       "2023-07-03 20:00:00                     8.525              1.20050   \n",
       "2023-07-03 21:00:00                     8.825              1.20450   \n",
       "2023-07-03 22:00:00                     9.025              1.20700   \n",
       "2023-07-03 23:00:00                     9.050              1.20775   \n",
       "\n",
       "                     ceiling_height_agl:m  clear_sky_energy_1h:J  \\\n",
       "date_forecast                                                      \n",
       "2023-05-01 00:00:00            912.700012               0.000000   \n",
       "2023-05-01 01:00:00           1111.574951               0.000000   \n",
       "2023-05-01 02:00:00           1791.300049               0.000000   \n",
       "2023-05-01 03:00:00           2312.875000           10124.424805   \n",
       "2023-05-01 04:00:00           2198.299805          141748.593750   \n",
       "...                                   ...                    ...   \n",
       "2023-07-03 19:00:00           3638.899902          477093.187500   \n",
       "2023-07-03 20:00:00           3552.100098          184335.671875   \n",
       "2023-07-03 21:00:00           1736.250000           37429.328125   \n",
       "2023-07-03 22:00:00           2202.800049             360.049988   \n",
       "2023-07-03 23:00:00           2015.675049               0.000000   \n",
       "\n",
       "                     clear_sky_rad:W  cloud_base_agl:m  dew_or_rime:idx  \\\n",
       "date_forecast                                                             \n",
       "2023-05-01 00:00:00         0.000000       1061.550049              0.0   \n",
       "2023-05-01 01:00:00         0.000000       1075.100098              0.0   \n",
       "2023-05-01 02:00:00         0.000000       1200.400024              0.0   \n",
       "2023-05-01 03:00:00        11.675000       1179.849976              0.0   \n",
       "2023-05-01 04:00:00        76.875000        920.049988              0.0   \n",
       "...                              ...               ...              ...   \n",
       "2023-07-03 19:00:00        85.099998       2013.750000              0.0   \n",
       "2023-07-03 20:00:00        24.799999       1610.900024              0.0   \n",
       "2023-07-03 21:00:00         1.275000       1622.800049              0.0   \n",
       "2023-07-03 22:00:00         0.000000       1767.550049              0.0   \n",
       "2023-07-03 23:00:00         0.000000       1438.449951              0.0   \n",
       "\n",
       "                     dew_point_2m:K  diffuse_rad:W  diffuse_rad_1h:J  ...  \\\n",
       "date_forecast                                                         ...   \n",
       "2023-05-01 00:00:00      271.650024       0.000000          0.000000  ...   \n",
       "2023-05-01 01:00:00      271.450012       0.000000          0.000000  ...   \n",
       "2023-05-01 02:00:00      271.049988       0.000000          0.000000  ...   \n",
       "2023-05-01 03:00:00      270.649994       9.375000      16845.226562  ...   \n",
       "2023-05-01 04:00:00      270.375000      47.400002     102209.703125  ...   \n",
       "...                             ...            ...               ...  ...   \n",
       "2023-07-03 19:00:00      281.575012      33.625000     168774.546875  ...   \n",
       "2023-07-03 20:00:00      281.850006      14.325000      86321.125000  ...   \n",
       "2023-07-03 21:00:00      282.325012       1.300000      28169.150391  ...   \n",
       "2023-07-03 22:00:00      282.675018       0.000000       2350.725098  ...   \n",
       "2023-07-03 23:00:00      282.675018       0.000000          0.000000  ...   \n",
       "\n",
       "                     sun_azimuth:d  sun_elevation:d  \\\n",
       "date_forecast                                         \n",
       "2023-05-01 00:00:00      16.026501        -10.54100   \n",
       "2023-05-01 01:00:00      30.497250         -7.89450   \n",
       "2023-05-01 02:00:00      44.517250         -3.81550   \n",
       "2023-05-01 03:00:00      58.083000          1.41250   \n",
       "2023-05-01 04:00:00      71.341003          7.46850   \n",
       "...                            ...              ...   \n",
       "2023-07-03 19:00:00     306.687012          8.15300   \n",
       "2023-07-03 20:00:00     319.704010          3.26800   \n",
       "2023-07-03 21:00:00     333.040009         -0.44325   \n",
       "2023-07-03 22:00:00     346.686005         -2.75050   \n",
       "2023-07-03 23:00:00     180.518494         -3.49750   \n",
       "\n",
       "                     super_cooled_liquid_water:kgm2  t_1000hPa:K  \\\n",
       "date_forecast                                                      \n",
       "2023-05-01 00:00:00                           0.000   273.799988   \n",
       "2023-05-01 01:00:00                           0.000   273.799988   \n",
       "2023-05-01 02:00:00                           0.000   273.849976   \n",
       "2023-05-01 03:00:00                           0.000   273.899994   \n",
       "2023-05-01 04:00:00                           0.000   273.924988   \n",
       "...                                             ...          ...   \n",
       "2023-07-03 19:00:00                           0.100   287.024994   \n",
       "2023-07-03 20:00:00                           0.000   286.600006   \n",
       "2023-07-03 21:00:00                           0.000   286.100006   \n",
       "2023-07-03 22:00:00                           0.075   285.549988   \n",
       "2023-07-03 23:00:00                           0.125   285.250000   \n",
       "\n",
       "                     total_cloud_cover:p  visibility:m  wind_speed_10m:ms  \\\n",
       "date_forecast                                                               \n",
       "2023-05-01 00:00:00            74.949997  29907.500000              3.950   \n",
       "2023-05-01 01:00:00            77.474998  29519.074219              3.825   \n",
       "2023-05-01 02:00:00            88.099998  31009.125000              3.650   \n",
       "2023-05-01 03:00:00            68.599998  34552.500000              3.500   \n",
       "2023-05-01 04:00:00            66.300003  35483.875000              3.325   \n",
       "...                                  ...           ...                ...   \n",
       "2023-07-03 19:00:00            86.150002  44056.375000              2.450   \n",
       "2023-07-03 20:00:00            75.324997  44017.175781              2.450   \n",
       "2023-07-03 21:00:00            76.849998  43302.050781              2.575   \n",
       "2023-07-03 22:00:00            98.324997  40505.851562              2.250   \n",
       "2023-07-03 23:00:00           100.000000  39665.523438              1.975   \n",
       "\n",
       "                     wind_speed_u_10m:ms  wind_speed_v_10m:ms  \\\n",
       "date_forecast                                                   \n",
       "2023-05-01 00:00:00                2.100                3.350   \n",
       "2023-05-01 01:00:00                1.925                3.300   \n",
       "2023-05-01 02:00:00                1.750                3.200   \n",
       "2023-05-01 03:00:00                1.450                3.150   \n",
       "2023-05-01 04:00:00                1.300                3.050   \n",
       "...                                  ...                  ...   \n",
       "2023-07-03 19:00:00                2.075               -1.350   \n",
       "2023-07-03 20:00:00                2.100               -1.250   \n",
       "2023-07-03 21:00:00                2.150               -1.400   \n",
       "2023-07-03 22:00:00                1.800               -1.350   \n",
       "2023-07-03 23:00:00                1.600               -1.175   \n",
       "\n",
       "                     wind_speed_w_1000hPa:ms  \n",
       "date_forecast                                 \n",
       "2023-05-01 00:00:00                      0.0  \n",
       "2023-05-01 01:00:00                      0.0  \n",
       "2023-05-01 02:00:00                      0.0  \n",
       "2023-05-01 03:00:00                      0.0  \n",
       "2023-05-01 04:00:00                      0.0  \n",
       "...                                      ...  \n",
       "2023-07-03 19:00:00                      0.0  \n",
       "2023-07-03 20:00:00                      0.0  \n",
       "2023-07-03 21:00:00                      0.0  \n",
       "2023-07-03 22:00:00                      0.0  \n",
       "2023-07-03 23:00:00                      0.0  \n",
       "\n",
       "[720 rows x 45 columns]"
      ]
     },
     "execution_count": 38,
     "metadata": {},
     "output_type": "execute_result"
    }
   ],
   "source": [
    "X_test_A = X_test_A.fillna(0)\n",
    "\n",
    "X_test_A = X_test_A.resample('H').mean()\n",
    "X_test_A.index = X_test_A.index.floor('H')\n",
    "\n",
    "X_test_A = X_test_A.dropna()\n",
    "X_test_A"
   ]
  },
  {
   "cell_type": "markdown",
   "id": "5559f08f",
   "metadata": {},
   "source": [
    "### B"
   ]
  },
  {
   "cell_type": "code",
   "execution_count": 11,
   "id": "39c671de",
   "metadata": {},
   "outputs": [
    {
     "name": "stdout",
     "output_type": "stream",
     "text": [
      "(29222, 46)\n",
      "(3625, 46)\n"
     ]
    },
    {
     "name": "stderr",
     "output_type": "stream",
     "text": [
      "C:\\Users\\claxl\\AppData\\Local\\Temp\\ipykernel_12432\\3041205111.py:2: FutureWarning: The default value of numeric_only in DataFrameGroupBy.mean is deprecated. In a future version, numeric_only will default to False. Either specify numeric_only or select only columns which should be valid for the function.\n",
      "  sampled_df = unsampled_df.resample('H').mean()\n"
     ]
    }
   ],
   "source": [
    "merged_df_train_obs_B = make_hourly(X_train_B_obs, y_b)\n",
    "merged_df_train_est_B = make_hourly(X_train_B_est, y_b)\n",
    "print(merged_df_train_obs_B.shape)\n",
    "print(merged_df_train_est_B.shape)\n"
   ]
  },
  {
   "cell_type": "code",
   "execution_count": 39,
   "id": "0272b711",
   "metadata": {},
   "outputs": [
    {
     "name": "stderr",
     "output_type": "stream",
     "text": [
      "C:\\Users\\claxl\\AppData\\Local\\Temp\\ipykernel_26728\\1178095122.py:3: FutureWarning: The default value of numeric_only in DataFrameGroupBy.mean is deprecated. In a future version, numeric_only will default to False. Either specify numeric_only or select only columns which should be valid for the function.\n",
      "  X_test_B = X_test_B.resample('H').mean()\n"
     ]
    },
    {
     "data": {
      "text/plain": [
       "(720, 45)"
      ]
     },
     "execution_count": 39,
     "metadata": {},
     "output_type": "execute_result"
    }
   ],
   "source": [
    "X_test_B = X_test_B.fillna(0)\n",
    "\n",
    "X_test_B = X_test_B.resample('H').mean()\n",
    "X_test_B.index = X_test_B.index.floor('H')\n",
    "X_test_B = X_test_B.dropna()\n",
    "\n",
    "X_test_B.shape"
   ]
  },
  {
   "cell_type": "markdown",
   "id": "37f06c9d",
   "metadata": {},
   "source": [
    "### C"
   ]
  },
  {
   "cell_type": "code",
   "execution_count": 13,
   "id": "2828262c",
   "metadata": {},
   "outputs": [
    {
     "name": "stdout",
     "output_type": "stream",
     "text": [
      "(29200, 46)\n",
      "(2954, 46)\n"
     ]
    },
    {
     "name": "stderr",
     "output_type": "stream",
     "text": [
      "C:\\Users\\claxl\\AppData\\Local\\Temp\\ipykernel_12432\\3041205111.py:2: FutureWarning: The default value of numeric_only in DataFrameGroupBy.mean is deprecated. In a future version, numeric_only will default to False. Either specify numeric_only or select only columns which should be valid for the function.\n",
      "  sampled_df = unsampled_df.resample('H').mean()\n"
     ]
    }
   ],
   "source": [
    "merged_df_train_obs_C = make_hourly(X_train_C_obs, y_c)\n",
    "merged_df_train_est_C = make_hourly(X_train_C_est, y_c)\n",
    "print(merged_df_train_obs_C.shape)\n",
    "print(merged_df_train_est_C.shape)\n"
   ]
  },
  {
   "cell_type": "code",
   "execution_count": 40,
   "id": "691813e7",
   "metadata": {},
   "outputs": [
    {
     "name": "stderr",
     "output_type": "stream",
     "text": [
      "C:\\Users\\claxl\\AppData\\Local\\Temp\\ipykernel_26728\\3087904568.py:3: FutureWarning: The default value of numeric_only in DataFrameGroupBy.mean is deprecated. In a future version, numeric_only will default to False. Either specify numeric_only or select only columns which should be valid for the function.\n",
      "  X_test_C = X_test_C.resample('H').mean()\n"
     ]
    },
    {
     "data": {
      "text/plain": [
       "(720, 45)"
      ]
     },
     "execution_count": 40,
     "metadata": {},
     "output_type": "execute_result"
    }
   ],
   "source": [
    "X_test_C = X_test_C.fillna(0)\n",
    "\n",
    "X_test_C = X_test_C.resample('H').mean()\n",
    "X_test_C.index = X_test_C.index.floor('H')\n",
    "X_test_C = X_test_C.dropna()\n",
    "\n",
    "X_test_C.shape"
   ]
  },
  {
   "cell_type": "markdown",
   "id": "02444e75",
   "metadata": {},
   "source": [
    "### SAVE"
   ]
  },
  {
   "cell_type": "code",
   "execution_count": 43,
   "id": "ad284039",
   "metadata": {},
   "outputs": [],
   "source": [
    "base = \"/Users/claxl/Documents/GitHub/MLProject/Data Exploration/EDA/clearData/\""
   ]
  },
  {
   "cell_type": "code",
   "execution_count": 44,
   "id": "44819293",
   "metadata": {},
   "outputs": [],
   "source": [
    "#merged_df_train_obs_A.to_csv(base + 'A/train_obs_A.csv',index = True)\n",
    "#merged_df_train_est_A.to_csv(base + 'A/train_est_A.csv',index = True)\n",
    "X_test_A.to_csv(base + 'X_test_A.csv',index = True)"
   ]
  },
  {
   "cell_type": "code",
   "execution_count": 45,
   "id": "d5629fde",
   "metadata": {},
   "outputs": [],
   "source": [
    "#merged_df_train_obs_B.to_csv(base + 'B/train_obs_B.csv',index = True)\n",
    "#merged_df_train_est_B.to_csv(base + 'B/train_est_B.csv',index = True)\n",
    "X_test_B.to_csv(base + 'B/X_test_B.csv',index = True)"
   ]
  },
  {
   "cell_type": "code",
   "execution_count": 46,
   "id": "803665ae",
   "metadata": {},
   "outputs": [],
   "source": [
    "#merged_df_train_obs_C.to_csv(base + 'C/train_obs_C.csv',index = True)\n",
    "#merged_df_train_est_C.to_csv(base + 'C/train_est_C.csv',index = True)\n",
    "X_test_C.to_csv(base + 'C/X_test_C.csv',index = True)"
   ]
  },
  {
   "cell_type": "code",
   "execution_count": null,
   "id": "c5bea507",
   "metadata": {},
   "outputs": [],
   "source": []
  }
 ],
 "metadata": {
  "kernelspec": {
   "display_name": "Python 3 (ipykernel)",
   "language": "python",
   "name": "python3"
  },
  "language_info": {
   "codemirror_mode": {
    "name": "ipython",
    "version": 3
   },
   "file_extension": ".py",
   "mimetype": "text/x-python",
   "name": "python",
   "nbconvert_exporter": "python",
   "pygments_lexer": "ipython3",
   "version": "3.11.4"
  }
 },
 "nbformat": 4,
 "nbformat_minor": 5
}
