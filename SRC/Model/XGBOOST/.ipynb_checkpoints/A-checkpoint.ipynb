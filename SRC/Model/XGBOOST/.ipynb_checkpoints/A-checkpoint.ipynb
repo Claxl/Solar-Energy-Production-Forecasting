{
 "cells": [
  {
   "cell_type": "code",
   "execution_count": 221,
   "id": "e829b2a1",
   "metadata": {},
   "outputs": [],
   "source": [
    "import pandas as pd\n",
    "import numpy as np\n",
    "import matplotlib.pyplot as plt"
   ]
  },
  {
   "cell_type": "code",
   "execution_count": 222,
   "id": "9bdcb575",
   "metadata": {},
   "outputs": [],
   "source": [
    "base = \"/Users/claxl/Documents/GitHub/MLProject/Data Exploration/EDA/clearData/\""
   ]
  },
  {
   "cell_type": "code",
   "execution_count": 235,
   "id": "ec4afa2f",
   "metadata": {},
   "outputs": [
    {
     "data": {
      "text/html": [
       "<div>\n",
       "<style scoped>\n",
       "    .dataframe tbody tr th:only-of-type {\n",
       "        vertical-align: middle;\n",
       "    }\n",
       "\n",
       "    .dataframe tbody tr th {\n",
       "        vertical-align: top;\n",
       "    }\n",
       "\n",
       "    .dataframe thead th {\n",
       "        text-align: right;\n",
       "    }\n",
       "</style>\n",
       "<table border=\"1\" class=\"dataframe\">\n",
       "  <thead>\n",
       "    <tr style=\"text-align: right;\">\n",
       "      <th></th>\n",
       "      <th>absolute_humidity_2m:gm3</th>\n",
       "      <th>air_density_2m:kgm3</th>\n",
       "      <th>ceiling_height_agl:m</th>\n",
       "      <th>clear_sky_energy_1h:J</th>\n",
       "      <th>clear_sky_rad:W</th>\n",
       "      <th>cloud_base_agl:m</th>\n",
       "      <th>dew_or_rime:idx</th>\n",
       "      <th>dew_point_2m:K</th>\n",
       "      <th>diffuse_rad:W</th>\n",
       "      <th>diffuse_rad_1h:J</th>\n",
       "      <th>...</th>\n",
       "      <th>sun_elevation:d</th>\n",
       "      <th>super_cooled_liquid_water:kgm2</th>\n",
       "      <th>t_1000hPa:K</th>\n",
       "      <th>total_cloud_cover:p</th>\n",
       "      <th>visibility:m</th>\n",
       "      <th>wind_speed_10m:ms</th>\n",
       "      <th>wind_speed_u_10m:ms</th>\n",
       "      <th>wind_speed_v_10m:ms</th>\n",
       "      <th>wind_speed_w_1000hPa:ms</th>\n",
       "      <th>pv_measurement</th>\n",
       "    </tr>\n",
       "    <tr>\n",
       "      <th>date_forecast</th>\n",
       "      <th></th>\n",
       "      <th></th>\n",
       "      <th></th>\n",
       "      <th></th>\n",
       "      <th></th>\n",
       "      <th></th>\n",
       "      <th></th>\n",
       "      <th></th>\n",
       "      <th></th>\n",
       "      <th></th>\n",
       "      <th></th>\n",
       "      <th></th>\n",
       "      <th></th>\n",
       "      <th></th>\n",
       "      <th></th>\n",
       "      <th></th>\n",
       "      <th></th>\n",
       "      <th></th>\n",
       "      <th></th>\n",
       "      <th></th>\n",
       "      <th></th>\n",
       "    </tr>\n",
       "  </thead>\n",
       "  <tbody>\n",
       "    <tr>\n",
       "      <th>2019-06-02 22:00:00</th>\n",
       "      <td>7.700</td>\n",
       "      <td>1.22825</td>\n",
       "      <td>1728.950</td>\n",
       "      <td>0.00</td>\n",
       "      <td>0.00</td>\n",
       "      <td>1728.950</td>\n",
       "      <td>0.0</td>\n",
       "      <td>280.30000</td>\n",
       "      <td>0.000</td>\n",
       "      <td>0.000</td>\n",
       "      <td>...</td>\n",
       "      <td>-3.774250</td>\n",
       "      <td>0.0</td>\n",
       "      <td>286.225</td>\n",
       "      <td>100.000000</td>\n",
       "      <td>40386.477</td>\n",
       "      <td>3.600</td>\n",
       "      <td>-3.575</td>\n",
       "      <td>-0.500</td>\n",
       "      <td>0.0</td>\n",
       "      <td>0.00</td>\n",
       "    </tr>\n",
       "    <tr>\n",
       "      <th>2019-06-02 23:00:00</th>\n",
       "      <td>7.700</td>\n",
       "      <td>1.22350</td>\n",
       "      <td>1689.825</td>\n",
       "      <td>0.00</td>\n",
       "      <td>0.00</td>\n",
       "      <td>1689.825</td>\n",
       "      <td>0.0</td>\n",
       "      <td>280.30000</td>\n",
       "      <td>0.000</td>\n",
       "      <td>0.000</td>\n",
       "      <td>...</td>\n",
       "      <td>-4.357250</td>\n",
       "      <td>0.0</td>\n",
       "      <td>286.900</td>\n",
       "      <td>100.000000</td>\n",
       "      <td>33770.650</td>\n",
       "      <td>3.350</td>\n",
       "      <td>-3.350</td>\n",
       "      <td>0.275</td>\n",
       "      <td>0.0</td>\n",
       "      <td>0.00</td>\n",
       "    </tr>\n",
       "    <tr>\n",
       "      <th>2019-06-03 00:00:00</th>\n",
       "      <td>7.875</td>\n",
       "      <td>1.21975</td>\n",
       "      <td>1563.225</td>\n",
       "      <td>0.00</td>\n",
       "      <td>0.00</td>\n",
       "      <td>1563.225</td>\n",
       "      <td>0.0</td>\n",
       "      <td>280.65000</td>\n",
       "      <td>0.000</td>\n",
       "      <td>0.000</td>\n",
       "      <td>...</td>\n",
       "      <td>-3.309500</td>\n",
       "      <td>0.0</td>\n",
       "      <td>286.950</td>\n",
       "      <td>100.000000</td>\n",
       "      <td>13595.500</td>\n",
       "      <td>3.050</td>\n",
       "      <td>-2.950</td>\n",
       "      <td>0.750</td>\n",
       "      <td>0.0</td>\n",
       "      <td>0.00</td>\n",
       "    </tr>\n",
       "    <tr>\n",
       "      <th>2019-06-03 01:00:00</th>\n",
       "      <td>8.425</td>\n",
       "      <td>1.21800</td>\n",
       "      <td>1283.425</td>\n",
       "      <td>208.65</td>\n",
       "      <td>0.75</td>\n",
       "      <td>1283.425</td>\n",
       "      <td>0.0</td>\n",
       "      <td>281.67500</td>\n",
       "      <td>0.300</td>\n",
       "      <td>526.775</td>\n",
       "      <td>...</td>\n",
       "      <td>-0.822500</td>\n",
       "      <td>0.0</td>\n",
       "      <td>286.750</td>\n",
       "      <td>100.000000</td>\n",
       "      <td>2321.850</td>\n",
       "      <td>2.725</td>\n",
       "      <td>-2.600</td>\n",
       "      <td>0.875</td>\n",
       "      <td>0.0</td>\n",
       "      <td>0.00</td>\n",
       "    </tr>\n",
       "    <tr>\n",
       "      <th>2019-06-03 02:00:00</th>\n",
       "      <td>8.950</td>\n",
       "      <td>1.21800</td>\n",
       "      <td>1003.500</td>\n",
       "      <td>32468.15</td>\n",
       "      <td>23.10</td>\n",
       "      <td>1003.500</td>\n",
       "      <td>0.0</td>\n",
       "      <td>282.50000</td>\n",
       "      <td>11.975</td>\n",
       "      <td>22068.950</td>\n",
       "      <td>...</td>\n",
       "      <td>3.051250</td>\n",
       "      <td>0.0</td>\n",
       "      <td>286.450</td>\n",
       "      <td>99.225000</td>\n",
       "      <td>11634.800</td>\n",
       "      <td>2.550</td>\n",
       "      <td>-2.350</td>\n",
       "      <td>0.925</td>\n",
       "      <td>0.0</td>\n",
       "      <td>19.36</td>\n",
       "    </tr>\n",
       "    <tr>\n",
       "      <th>...</th>\n",
       "      <td>...</td>\n",
       "      <td>...</td>\n",
       "      <td>...</td>\n",
       "      <td>...</td>\n",
       "      <td>...</td>\n",
       "      <td>...</td>\n",
       "      <td>...</td>\n",
       "      <td>...</td>\n",
       "      <td>...</td>\n",
       "      <td>...</td>\n",
       "      <td>...</td>\n",
       "      <td>...</td>\n",
       "      <td>...</td>\n",
       "      <td>...</td>\n",
       "      <td>...</td>\n",
       "      <td>...</td>\n",
       "      <td>...</td>\n",
       "      <td>...</td>\n",
       "      <td>...</td>\n",
       "      <td>...</td>\n",
       "      <td>...</td>\n",
       "    </tr>\n",
       "    <tr>\n",
       "      <th>2022-10-20 20:00:00</th>\n",
       "      <td>5.800</td>\n",
       "      <td>1.28050</td>\n",
       "      <td>1291.500</td>\n",
       "      <td>0.00</td>\n",
       "      <td>0.00</td>\n",
       "      <td>1192.550</td>\n",
       "      <td>0.0</td>\n",
       "      <td>275.80000</td>\n",
       "      <td>0.000</td>\n",
       "      <td>0.000</td>\n",
       "      <td>...</td>\n",
       "      <td>-29.704250</td>\n",
       "      <td>0.0</td>\n",
       "      <td>278.250</td>\n",
       "      <td>47.050003</td>\n",
       "      <td>40105.473</td>\n",
       "      <td>1.925</td>\n",
       "      <td>0.475</td>\n",
       "      <td>1.850</td>\n",
       "      <td>0.0</td>\n",
       "      <td>0.00</td>\n",
       "    </tr>\n",
       "    <tr>\n",
       "      <th>2022-10-20 21:00:00</th>\n",
       "      <td>5.575</td>\n",
       "      <td>1.28400</td>\n",
       "      <td>NaN</td>\n",
       "      <td>0.00</td>\n",
       "      <td>0.00</td>\n",
       "      <td>686.900</td>\n",
       "      <td>0.0</td>\n",
       "      <td>275.20000</td>\n",
       "      <td>0.000</td>\n",
       "      <td>0.000</td>\n",
       "      <td>...</td>\n",
       "      <td>-33.860750</td>\n",
       "      <td>0.0</td>\n",
       "      <td>277.850</td>\n",
       "      <td>19.500000</td>\n",
       "      <td>39001.400</td>\n",
       "      <td>1.675</td>\n",
       "      <td>0.250</td>\n",
       "      <td>1.675</td>\n",
       "      <td>0.0</td>\n",
       "      <td>0.00</td>\n",
       "    </tr>\n",
       "    <tr>\n",
       "      <th>2022-10-20 22:00:00</th>\n",
       "      <td>5.350</td>\n",
       "      <td>1.28700</td>\n",
       "      <td>NaN</td>\n",
       "      <td>0.00</td>\n",
       "      <td>0.00</td>\n",
       "      <td>149.500</td>\n",
       "      <td>0.0</td>\n",
       "      <td>274.60000</td>\n",
       "      <td>0.000</td>\n",
       "      <td>0.000</td>\n",
       "      <td>...</td>\n",
       "      <td>-36.270000</td>\n",
       "      <td>0.0</td>\n",
       "      <td>277.475</td>\n",
       "      <td>9.700000</td>\n",
       "      <td>35336.727</td>\n",
       "      <td>1.400</td>\n",
       "      <td>0.050</td>\n",
       "      <td>1.400</td>\n",
       "      <td>0.0</td>\n",
       "      <td>0.00</td>\n",
       "    </tr>\n",
       "    <tr>\n",
       "      <th>2022-10-20 23:00:00</th>\n",
       "      <td>5.200</td>\n",
       "      <td>1.29050</td>\n",
       "      <td>NaN</td>\n",
       "      <td>0.00</td>\n",
       "      <td>0.00</td>\n",
       "      <td>NaN</td>\n",
       "      <td>0.0</td>\n",
       "      <td>274.17500</td>\n",
       "      <td>0.000</td>\n",
       "      <td>0.000</td>\n",
       "      <td>...</td>\n",
       "      <td>-36.614998</td>\n",
       "      <td>0.0</td>\n",
       "      <td>277.150</td>\n",
       "      <td>4.525000</td>\n",
       "      <td>27164.625</td>\n",
       "      <td>1.300</td>\n",
       "      <td>-0.175</td>\n",
       "      <td>1.300</td>\n",
       "      <td>0.0</td>\n",
       "      <td>0.00</td>\n",
       "    </tr>\n",
       "    <tr>\n",
       "      <th>2022-10-21 00:00:00</th>\n",
       "      <td>5.000</td>\n",
       "      <td>1.29200</td>\n",
       "      <td>NaN</td>\n",
       "      <td>0.00</td>\n",
       "      <td>0.00</td>\n",
       "      <td>NaN</td>\n",
       "      <td>0.0</td>\n",
       "      <td>273.67502</td>\n",
       "      <td>0.000</td>\n",
       "      <td>0.000</td>\n",
       "      <td>...</td>\n",
       "      <td>-35.368500</td>\n",
       "      <td>0.0</td>\n",
       "      <td>276.700</td>\n",
       "      <td>1.975000</td>\n",
       "      <td>29933.000</td>\n",
       "      <td>1.400</td>\n",
       "      <td>-0.700</td>\n",
       "      <td>1.175</td>\n",
       "      <td>0.0</td>\n",
       "      <td>0.00</td>\n",
       "    </tr>\n",
       "  </tbody>\n",
       "</table>\n",
       "<p>29667 rows × 46 columns</p>\n",
       "</div>"
      ],
      "text/plain": [
       "                     absolute_humidity_2m:gm3  air_density_2m:kgm3  \\\n",
       "date_forecast                                                        \n",
       "2019-06-02 22:00:00                     7.700              1.22825   \n",
       "2019-06-02 23:00:00                     7.700              1.22350   \n",
       "2019-06-03 00:00:00                     7.875              1.21975   \n",
       "2019-06-03 01:00:00                     8.425              1.21800   \n",
       "2019-06-03 02:00:00                     8.950              1.21800   \n",
       "...                                       ...                  ...   \n",
       "2022-10-20 20:00:00                     5.800              1.28050   \n",
       "2022-10-20 21:00:00                     5.575              1.28400   \n",
       "2022-10-20 22:00:00                     5.350              1.28700   \n",
       "2022-10-20 23:00:00                     5.200              1.29050   \n",
       "2022-10-21 00:00:00                     5.000              1.29200   \n",
       "\n",
       "                     ceiling_height_agl:m  clear_sky_energy_1h:J  \\\n",
       "date_forecast                                                      \n",
       "2019-06-02 22:00:00              1728.950                   0.00   \n",
       "2019-06-02 23:00:00              1689.825                   0.00   \n",
       "2019-06-03 00:00:00              1563.225                   0.00   \n",
       "2019-06-03 01:00:00              1283.425                 208.65   \n",
       "2019-06-03 02:00:00              1003.500               32468.15   \n",
       "...                                   ...                    ...   \n",
       "2022-10-20 20:00:00              1291.500                   0.00   \n",
       "2022-10-20 21:00:00                   NaN                   0.00   \n",
       "2022-10-20 22:00:00                   NaN                   0.00   \n",
       "2022-10-20 23:00:00                   NaN                   0.00   \n",
       "2022-10-21 00:00:00                   NaN                   0.00   \n",
       "\n",
       "                     clear_sky_rad:W  cloud_base_agl:m  dew_or_rime:idx  \\\n",
       "date_forecast                                                             \n",
       "2019-06-02 22:00:00             0.00          1728.950              0.0   \n",
       "2019-06-02 23:00:00             0.00          1689.825              0.0   \n",
       "2019-06-03 00:00:00             0.00          1563.225              0.0   \n",
       "2019-06-03 01:00:00             0.75          1283.425              0.0   \n",
       "2019-06-03 02:00:00            23.10          1003.500              0.0   \n",
       "...                              ...               ...              ...   \n",
       "2022-10-20 20:00:00             0.00          1192.550              0.0   \n",
       "2022-10-20 21:00:00             0.00           686.900              0.0   \n",
       "2022-10-20 22:00:00             0.00           149.500              0.0   \n",
       "2022-10-20 23:00:00             0.00               NaN              0.0   \n",
       "2022-10-21 00:00:00             0.00               NaN              0.0   \n",
       "\n",
       "                     dew_point_2m:K  diffuse_rad:W  diffuse_rad_1h:J  ...  \\\n",
       "date_forecast                                                         ...   \n",
       "2019-06-02 22:00:00       280.30000          0.000             0.000  ...   \n",
       "2019-06-02 23:00:00       280.30000          0.000             0.000  ...   \n",
       "2019-06-03 00:00:00       280.65000          0.000             0.000  ...   \n",
       "2019-06-03 01:00:00       281.67500          0.300           526.775  ...   \n",
       "2019-06-03 02:00:00       282.50000         11.975         22068.950  ...   \n",
       "...                             ...            ...               ...  ...   \n",
       "2022-10-20 20:00:00       275.80000          0.000             0.000  ...   \n",
       "2022-10-20 21:00:00       275.20000          0.000             0.000  ...   \n",
       "2022-10-20 22:00:00       274.60000          0.000             0.000  ...   \n",
       "2022-10-20 23:00:00       274.17500          0.000             0.000  ...   \n",
       "2022-10-21 00:00:00       273.67502          0.000             0.000  ...   \n",
       "\n",
       "                     sun_elevation:d  super_cooled_liquid_water:kgm2  \\\n",
       "date_forecast                                                          \n",
       "2019-06-02 22:00:00        -3.774250                             0.0   \n",
       "2019-06-02 23:00:00        -4.357250                             0.0   \n",
       "2019-06-03 00:00:00        -3.309500                             0.0   \n",
       "2019-06-03 01:00:00        -0.822500                             0.0   \n",
       "2019-06-03 02:00:00         3.051250                             0.0   \n",
       "...                              ...                             ...   \n",
       "2022-10-20 20:00:00       -29.704250                             0.0   \n",
       "2022-10-20 21:00:00       -33.860750                             0.0   \n",
       "2022-10-20 22:00:00       -36.270000                             0.0   \n",
       "2022-10-20 23:00:00       -36.614998                             0.0   \n",
       "2022-10-21 00:00:00       -35.368500                             0.0   \n",
       "\n",
       "                     t_1000hPa:K  total_cloud_cover:p  visibility:m  \\\n",
       "date_forecast                                                         \n",
       "2019-06-02 22:00:00      286.225           100.000000     40386.477   \n",
       "2019-06-02 23:00:00      286.900           100.000000     33770.650   \n",
       "2019-06-03 00:00:00      286.950           100.000000     13595.500   \n",
       "2019-06-03 01:00:00      286.750           100.000000      2321.850   \n",
       "2019-06-03 02:00:00      286.450            99.225000     11634.800   \n",
       "...                          ...                  ...           ...   \n",
       "2022-10-20 20:00:00      278.250            47.050003     40105.473   \n",
       "2022-10-20 21:00:00      277.850            19.500000     39001.400   \n",
       "2022-10-20 22:00:00      277.475             9.700000     35336.727   \n",
       "2022-10-20 23:00:00      277.150             4.525000     27164.625   \n",
       "2022-10-21 00:00:00      276.700             1.975000     29933.000   \n",
       "\n",
       "                     wind_speed_10m:ms  wind_speed_u_10m:ms  \\\n",
       "date_forecast                                                 \n",
       "2019-06-02 22:00:00              3.600               -3.575   \n",
       "2019-06-02 23:00:00              3.350               -3.350   \n",
       "2019-06-03 00:00:00              3.050               -2.950   \n",
       "2019-06-03 01:00:00              2.725               -2.600   \n",
       "2019-06-03 02:00:00              2.550               -2.350   \n",
       "...                                ...                  ...   \n",
       "2022-10-20 20:00:00              1.925                0.475   \n",
       "2022-10-20 21:00:00              1.675                0.250   \n",
       "2022-10-20 22:00:00              1.400                0.050   \n",
       "2022-10-20 23:00:00              1.300               -0.175   \n",
       "2022-10-21 00:00:00              1.400               -0.700   \n",
       "\n",
       "                     wind_speed_v_10m:ms  wind_speed_w_1000hPa:ms  \\\n",
       "date_forecast                                                       \n",
       "2019-06-02 22:00:00               -0.500                      0.0   \n",
       "2019-06-02 23:00:00                0.275                      0.0   \n",
       "2019-06-03 00:00:00                0.750                      0.0   \n",
       "2019-06-03 01:00:00                0.875                      0.0   \n",
       "2019-06-03 02:00:00                0.925                      0.0   \n",
       "...                                  ...                      ...   \n",
       "2022-10-20 20:00:00                1.850                      0.0   \n",
       "2022-10-20 21:00:00                1.675                      0.0   \n",
       "2022-10-20 22:00:00                1.400                      0.0   \n",
       "2022-10-20 23:00:00                1.300                      0.0   \n",
       "2022-10-21 00:00:00                1.175                      0.0   \n",
       "\n",
       "                     pv_measurement  \n",
       "date_forecast                        \n",
       "2019-06-02 22:00:00            0.00  \n",
       "2019-06-02 23:00:00            0.00  \n",
       "2019-06-03 00:00:00            0.00  \n",
       "2019-06-03 01:00:00            0.00  \n",
       "2019-06-03 02:00:00           19.36  \n",
       "...                             ...  \n",
       "2022-10-20 20:00:00            0.00  \n",
       "2022-10-20 21:00:00            0.00  \n",
       "2022-10-20 22:00:00            0.00  \n",
       "2022-10-20 23:00:00            0.00  \n",
       "2022-10-21 00:00:00            0.00  \n",
       "\n",
       "[29667 rows x 46 columns]"
      ]
     },
     "execution_count": 235,
     "metadata": {},
     "output_type": "execute_result"
    }
   ],
   "source": [
    "df_train_est_A = pd.read_csv('train_est_A.csv')\n",
    "df_train_obs_A = pd.read_csv('train_obs_A.csv')\n",
    "df_test_A = pd.read_csv('X_test_A.csv')\n",
    "df_train_est_A = df_train_est_A.rename(columns={'Unnamed: 0': 'date_forecast'})\n",
    "\n",
    "df_train_obs_A = df_train_obs_A.rename(columns={'Unnamed: 0': 'date_forecast'})\n",
    "\n",
    "df_test_A = df_test_A.rename(columns={'Unnamed: 0': 'date_forecast'})\n",
    "\n",
    "df_train_est_A.set_index('date_forecast', inplace=True)\n",
    "df_train_obs_A.set_index('date_forecast', inplace=True)\n",
    "df_test_A.set_index('date_forecast', inplace=True)\n",
    "df_train_obs_A.index = pd.to_datetime(df_train_obs_A.index)\n",
    "df_train_obs_A.index = pd.to_datetime(df_train_obs_A.index)\n",
    "df_train_obs_A"
   ]
  },
  {
   "cell_type": "code",
   "execution_count": 224,
   "id": "6ace265e",
   "metadata": {},
   "outputs": [],
   "source": [
    "df_train_obs_A=df_train_obs_A.drop(columns=['snow_density:kgm3'])\n",
    "df_train_est_A=df_train_est_A.drop(columns=['snow_density:kgm3','date_calc'])\n"
   ]
  },
  {
   "cell_type": "code",
   "execution_count": 225,
   "id": "043f2294",
   "metadata": {},
   "outputs": [],
   "source": [
    "df_train_obs_A = df_train_obs_A.fillna(0)\n",
    "df_train_est_A = df_train_est_A.fillna(0)\n",
    "df = pd.concat([df_train_obs_A,df_train_est_A])\n",
    "df.index = pd.to_datetime(df.index)\n",
    "df['hours'] = df.index.hour\n",
    "df['day'] = df.index.day\n",
    "df['month'] = df.index.month\n",
    "df['year'] = df.index.year\n",
    "df_test_A.index = pd.to_datetime(df_test_A.index)\n",
    "df_test_A['hours'] = df_test_A.index.hour\n",
    "df_test_A['day'] = df_test_A.index.day\n",
    "df_test_A['month'] = df_test_A.index.month\n",
    "df_test_A['year'] = df_test_A.index.year\n",
    "df_test_A = df_test_A.drop(columns = 'date_calc', axis = 1)"
   ]
  },
  {
   "cell_type": "code",
   "execution_count": 231,
   "id": "1856dc1e",
   "metadata": {},
   "outputs": [],
   "source": [
    "import pandas as pd\n",
    "from sklearn.model_selection import TimeSeriesSplit, cross_val_score\n",
    "import xgboost as xgb\n",
    "from sklearn.metrics import mean_absolute_error\n",
    "\n",
    "# Sample DataFrame (replace this with your own dataset)\n",
    "\n",
    "# Define the number of splits (e.g., 5 for 80-20 train-test splits)\n",
    "n_splits = 3\n",
    "\n",
    "\n",
    "# Initialize the TimeSeriesSplit\n",
    "tscv = TimeSeriesSplit(n_splits=n_splits)\n"
   ]
  },
  {
   "cell_type": "code",
   "execution_count": 232,
   "id": "7e336764",
   "metadata": {},
   "outputs": [],
   "source": [
    "def objective(trial):\n",
    "    param = {\n",
    "        'lambda': trial.suggest_loguniform('lambda', 1e-3, 10.0),\n",
    "        'alpha': trial.suggest_loguniform('alpha', 1e-3, 10.0),\n",
    "        'colsample_bytree': trial.suggest_categorical('colsample_bytree', [0.3,0.4,0.5,0.6,0.7,0.8,0.9, 1.0]),\n",
    "        'subsample': trial.suggest_categorical('subsample', [0.4,0.5,0.6,0.7,0.8,1.0]),\n",
    "        'learning_rate': trial.suggest_loguniform('learning_rate', 1e-4,1e-0),\n",
    "        'n_estimators': trial.suggest_int('n_estimators',10,1000),\n",
    "        'max_depth': trial.suggest_categorical('max_depth', [5,7,9,11,13,15,17]),\n",
    "        'random_state': trial.suggest_int('random_state', 1,1000),\n",
    "        'min_child_weight': trial.suggest_int('min_child_weight', 1, 300),\n",
    "    }\n",
    "    model = xgb.XGBRegressor(**param)\n",
    "    maelist = []\n",
    "    for train_index, test_index in tscv.split(data):\n",
    "        train_data = data.iloc[train_index]\n",
    "        test_data = data.iloc[test_index]\n",
    "\n",
    "        # Extract target variable for training and testing data\n",
    "        y_train = train_data['pv_measurement']\n",
    "        y_test = test_data['pv_measurement']\n",
    "\n",
    "        # Extract features for training and testing data\n",
    "        X_train = train_data.drop(columns = 'pv_measurement')\n",
    "        X_test = test_data.drop(columns = 'pv_measurement')\n",
    "            # Create an XGBoost DMatrix for training and testing data\n",
    "        dtrain = xgb.DMatrix(X_train, label=y_train)\n",
    "        dtest = xgb.DMatrix(X_test, label=y_test)\n",
    "\n",
    "        # Train the XGBoost model\n",
    "        model = xgb.train(param, dtrain)\n",
    "\n",
    "        # Make predictions on the test data\n",
    "        y_pred = model.predict(dtest)\n",
    "\n",
    "        # Evaluate the model using Mean Absolute Error (MAE)\n",
    "        mae = mean_absolute_error(y_test, y_pred)\n",
    "        print(\"Mean Absolute Error:\", mae)\n",
    "        maelist.append(mae)\n",
    "    # Return MAE\n",
    "    mean_mae = np.mean(maelist)\n",
    "\n",
    "    return mean_mae"
   ]
  },
  {
   "cell_type": "code",
   "execution_count": 233,
   "id": "f17b7fd2-ba56-44d6-a799-b477b9d5ad22",
   "metadata": {},
   "outputs": [
    {
     "name": "stderr",
     "output_type": "stream",
     "text": [
      "[I 2023-10-25 15:08:28,005] A new study created in memory with name: no-name-af2764cb-4d5d-4293-9f44-f311d0c64621\n"
     ]
    }
   ],
   "source": [
    "import optuna\n",
    "import warnings\n",
    "warnings.filterwarnings(\"ignore\")\n",
    "\n",
    "study = optuna.create_study(direction='minimize')"
   ]
  },
  {
   "cell_type": "code",
   "execution_count": 234,
   "id": "81030038-4079-4a9d-8219-5c9be4b988f4",
   "metadata": {
    "tags": []
   },
   "outputs": [
    {
     "name": "stdout",
     "output_type": "stream",
     "text": [
      "Mean Absolute Error: 108.12143308417653\n",
      "Mean Absolute Error: 122.3658256566947\n"
     ]
    },
    {
     "name": "stderr",
     "output_type": "stream",
     "text": [
      "[I 2023-10-25 15:08:30,440] Trial 0 finished with value: 108.86786277103238 and parameters: {'lambda': 3.213453921211706, 'alpha': 2.239788855634238, 'colsample_bytree': 0.6, 'subsample': 0.8, 'learning_rate': 0.029546566140442803, 'n_estimators': 84, 'max_depth': 13, 'random_state': 775, 'min_child_weight': 233}. Best is trial 0 with value: 108.86786277103238.\n"
     ]
    },
    {
     "name": "stdout",
     "output_type": "stream",
     "text": [
      "Mean Absolute Error: 96.11632957222592\n",
      "Mean Absolute Error: 136.3235081608392\n",
      "Mean Absolute Error: 148.18798074860365\n"
     ]
    },
    {
     "name": "stderr",
     "output_type": "stream",
     "text": [
      "[I 2023-10-25 15:08:30,713] Trial 1 finished with value: 135.46573926932177 and parameters: {'lambda': 3.1623920178684815, 'alpha': 0.003816632556607448, 'colsample_bytree': 0.9, 'subsample': 0.6, 'learning_rate': 0.0005396409299003359, 'n_estimators': 254, 'max_depth': 7, 'random_state': 861, 'min_child_weight': 266}. Best is trial 0 with value: 108.86786277103238.\n"
     ]
    },
    {
     "name": "stdout",
     "output_type": "stream",
     "text": [
      "Mean Absolute Error: 121.88572889852249\n",
      "Mean Absolute Error: 113.55171925796608\n",
      "Mean Absolute Error: 128.39811321797518\n"
     ]
    },
    {
     "name": "stderr",
     "output_type": "stream",
     "text": [
      "[I 2023-10-25 15:08:31,001] Trial 2 finished with value: 114.71287245692166 and parameters: {'lambda': 0.0013941408918224563, 'alpha': 3.1330461685880544, 'colsample_bytree': 0.4, 'subsample': 0.7, 'learning_rate': 0.022284866878605158, 'n_estimators': 918, 'max_depth': 9, 'random_state': 40, 'min_child_weight': 164}. Best is trial 0 with value: 108.86786277103238.\n"
     ]
    },
    {
     "name": "stdout",
     "output_type": "stream",
     "text": [
      "Mean Absolute Error: 102.18878489482368\n",
      "Mean Absolute Error: 69.44105482634698\n",
      "Mean Absolute Error: 78.07891399485435\n"
     ]
    },
    {
     "name": "stderr",
     "output_type": "stream",
     "text": [
      "[I 2023-10-25 15:08:31,249] Trial 3 finished with value: 64.77629732190756 and parameters: {'lambda': 0.004248270899350286, 'alpha': 7.418193726068188, 'colsample_bytree': 0.3, 'subsample': 1.0, 'learning_rate': 0.1471667244464005, 'n_estimators': 979, 'max_depth': 15, 'random_state': 661, 'min_child_weight': 238}. Best is trial 3 with value: 64.77629732190756.\n"
     ]
    },
    {
     "name": "stdout",
     "output_type": "stream",
     "text": [
      "Mean Absolute Error: 46.80892314452134\n",
      "Mean Absolute Error: 134.57130921621416\n",
      "Mean Absolute Error: 146.8149344356192\n"
     ]
    },
    {
     "name": "stderr",
     "output_type": "stream",
     "text": [
      "[I 2023-10-25 15:08:31,509] Trial 4 finished with value: 133.98758562252604 and parameters: {'lambda': 4.395307007866273, 'alpha': 0.6152186329504375, 'colsample_bytree': 0.7, 'subsample': 0.7, 'learning_rate': 0.0018559468079178112, 'n_estimators': 859, 'max_depth': 13, 'random_state': 35, 'min_child_weight': 105}. Best is trial 3 with value: 64.77629732190756.\n"
     ]
    },
    {
     "name": "stdout",
     "output_type": "stream",
     "text": [
      "Mean Absolute Error: 120.57651321574478\n",
      "Mean Absolute Error: 65.87161234663772\n",
      "Mean Absolute Error: 71.78634345594104\n"
     ]
    },
    {
     "name": "stderr",
     "output_type": "stream",
     "text": [
      "[I 2023-10-25 15:08:32,315] Trial 5 finished with value: 57.85815750469103 and parameters: {'lambda': 0.002075044916669027, 'alpha': 0.6586457844180177, 'colsample_bytree': 0.3, 'subsample': 1.0, 'learning_rate': 0.4219312840335275, 'n_estimators': 140, 'max_depth': 17, 'random_state': 532, 'min_child_weight': 19}. Best is trial 5 with value: 57.85815750469103.\n"
     ]
    },
    {
     "name": "stdout",
     "output_type": "stream",
     "text": [
      "Mean Absolute Error: 35.916516711494324\n",
      "Mean Absolute Error: 132.6579204846904\n",
      "Mean Absolute Error: 145.4748703894232\n"
     ]
    },
    {
     "name": "stderr",
     "output_type": "stream",
     "text": [
      "[I 2023-10-25 15:08:32,575] Trial 6 finished with value: 132.43145740784067 and parameters: {'lambda': 2.3273574864233217, 'alpha': 0.0017011030116215549, 'colsample_bytree': 1.0, 'subsample': 0.6, 'learning_rate': 0.003283529897632642, 'n_estimators': 166, 'max_depth': 7, 'random_state': 772, 'min_child_weight': 118}. Best is trial 5 with value: 57.85815750469103.\n"
     ]
    },
    {
     "name": "stdout",
     "output_type": "stream",
     "text": [
      "Mean Absolute Error: 119.16158134940842\n",
      "Mean Absolute Error: 136.6034861994575\n",
      "Mean Absolute Error: 148.42237063163648\n"
     ]
    },
    {
     "name": "stderr",
     "output_type": "stream",
     "text": [
      "[I 2023-10-25 15:08:33,137] Trial 7 finished with value: 135.7175003636422 and parameters: {'lambda': 0.003420725420944517, 'alpha': 0.6016065270189938, 'colsample_bytree': 0.3, 'subsample': 0.8, 'learning_rate': 0.0003152639536878827, 'n_estimators': 954, 'max_depth': 13, 'random_state': 231, 'min_child_weight': 22}. Best is trial 5 with value: 57.85815750469103.\n"
     ]
    },
    {
     "name": "stdout",
     "output_type": "stream",
     "text": [
      "Mean Absolute Error: 122.12664425983264\n",
      "Mean Absolute Error: 62.67250493688995\n",
      "Mean Absolute Error: 67.3310862282969\n"
     ]
    },
    {
     "name": "stderr",
     "output_type": "stream",
     "text": [
      "[I 2023-10-25 15:08:33,463] Trial 8 finished with value: 54.73803431236437 and parameters: {'lambda': 0.6958032302763615, 'alpha': 1.4707297640966823, 'colsample_bytree': 0.6, 'subsample': 0.8, 'learning_rate': 0.2828155948628219, 'n_estimators': 169, 'max_depth': 13, 'random_state': 625, 'min_child_weight': 125}. Best is trial 8 with value: 54.73803431236437.\n"
     ]
    },
    {
     "name": "stdout",
     "output_type": "stream",
     "text": [
      "Mean Absolute Error: 34.21051177190628\n",
      "Mean Absolute Error: 135.19627300991874\n",
      "Mean Absolute Error: 147.38692755792005\n"
     ]
    },
    {
     "name": "stderr",
     "output_type": "stream",
     "text": [
      "[I 2023-10-25 15:08:33,717] Trial 9 finished with value: 134.55137664772224 and parameters: {'lambda': 0.6204236751644755, 'alpha': 0.14794647244767142, 'colsample_bytree': 0.9, 'subsample': 0.5, 'learning_rate': 0.0013622432489260917, 'n_estimators': 284, 'max_depth': 7, 'random_state': 996, 'min_child_weight': 103}. Best is trial 8 with value: 54.73803431236437.\n"
     ]
    },
    {
     "name": "stdout",
     "output_type": "stream",
     "text": [
      "Mean Absolute Error: 121.0709293753279\n",
      "Mean Absolute Error: 68.75989071440084\n",
      "Mean Absolute Error: 74.38499310293452\n"
     ]
    },
    {
     "name": "stderr",
     "output_type": "stream",
     "text": [
      "[I 2023-10-25 15:08:34,001] Trial 10 finished with value: 60.67248671664252 and parameters: {'lambda': 0.1244432416451062, 'alpha': 0.03556168151370231, 'colsample_bytree': 0.6, 'subsample': 0.4, 'learning_rate': 0.9990549954025542, 'n_estimators': 540, 'max_depth': 11, 'random_state': 292, 'min_child_weight': 168}. Best is trial 8 with value: 54.73803431236437.\n"
     ]
    },
    {
     "name": "stdout",
     "output_type": "stream",
     "text": [
      "Mean Absolute Error: 38.87257633259219\n",
      "Mean Absolute Error: 65.49022504797041\n",
      "Mean Absolute Error: 71.6287063924725\n"
     ]
    },
    {
     "name": "stderr",
     "output_type": "stream",
     "text": [
      "[I 2023-10-25 15:08:35,725] Trial 11 finished with value: 59.546267195961 and parameters: {'lambda': 0.019893200532570994, 'alpha': 0.6856969528980392, 'colsample_bytree': 0.8, 'subsample': 1.0, 'learning_rate': 0.4572909055864356, 'n_estimators': 464, 'max_depth': 17, 'random_state': 525, 'min_child_weight': 6}. Best is trial 8 with value: 54.73803431236437.\n"
     ]
    },
    {
     "name": "stdout",
     "output_type": "stream",
     "text": [
      "Mean Absolute Error: 41.51987014744007\n",
      "Mean Absolute Error: 67.55591028582974\n",
      "Mean Absolute Error: 77.86155917857565\n"
     ]
    },
    {
     "name": "stderr",
     "output_type": "stream",
     "text": [
      "[I 2023-10-25 15:08:35,971] Trial 12 finished with value: 63.91883236930022 and parameters: {'lambda': 0.10422072041764685, 'alpha': 0.12634093275514321, 'colsample_bytree': 0.5, 'subsample': 1.0, 'learning_rate': 0.1459013444773275, 'n_estimators': 18, 'max_depth': 5, 'random_state': 490, 'min_child_weight': 58}. Best is trial 8 with value: 54.73803431236437.\n"
     ]
    },
    {
     "name": "stdout",
     "output_type": "stream",
     "text": [
      "Mean Absolute Error: 46.3390276434953\n",
      "Mean Absolute Error: 67.63722491938057\n"
     ]
    },
    {
     "name": "stderr",
     "output_type": "stream",
     "text": [
      "[I 2023-10-25 15:08:36,388] Trial 13 finished with value: 64.09959733720767 and parameters: {'lambda': 0.3844632039557205, 'alpha': 8.287394494995581, 'colsample_bytree': 0.6, 'subsample': 0.8, 'learning_rate': 0.14076392032542137, 'n_estimators': 407, 'max_depth': 17, 'random_state': 504, 'min_child_weight': 58}. Best is trial 8 with value: 54.73803431236437.\n"
     ]
    },
    {
     "name": "stdout",
     "output_type": "stream",
     "text": [
      "Mean Absolute Error: 77.81628645926907\n",
      "Mean Absolute Error: 46.845280632973385\n",
      "Mean Absolute Error: 83.37968893703689\n",
      "Mean Absolute Error: 83.63429758914755\n"
     ]
    },
    {
     "name": "stderr",
     "output_type": "stream",
     "text": [
      "[I 2023-10-25 15:08:36,749] Trial 14 finished with value: 72.63794095104689 and parameters: {'lambda': 0.020963611997923973, 'alpha': 1.4339671279974129, 'colsample_bytree': 0.3, 'subsample': 0.5, 'learning_rate': 0.9929343328215622, 'n_estimators': 665, 'max_depth': 17, 'random_state': 371, 'min_child_weight': 68}. Best is trial 8 with value: 54.73803431236437.\n"
     ]
    },
    {
     "name": "stdout",
     "output_type": "stream",
     "text": [
      "Mean Absolute Error: 50.899836326956205\n",
      "Mean Absolute Error: 104.10626210704542\n",
      "Mean Absolute Error: 116.94100442677811\n"
     ]
    },
    {
     "name": "stderr",
     "output_type": "stream",
     "text": [
      "[I 2023-10-25 15:08:37,008] Trial 15 finished with value: 104.07411587147435 and parameters: {'lambda': 0.01747090393366788, 'alpha': 0.27513810579638226, 'colsample_bytree': 0.4, 'subsample': 0.4, 'learning_rate': 0.036839534800165254, 'n_estimators': 295, 'max_depth': 9, 'random_state': 624, 'min_child_weight': 197}. Best is trial 8 with value: 54.73803431236437.\n"
     ]
    },
    {
     "name": "stdout",
     "output_type": "stream",
     "text": [
      "Mean Absolute Error: 91.17508108059954\n",
      "Mean Absolute Error: 127.42617689885917\n",
      "Mean Absolute Error: 141.1116604079857\n"
     ]
    },
    {
     "name": "stderr",
     "output_type": "stream",
     "text": [
      "[I 2023-10-25 15:08:37,250] Trial 16 finished with value: 127.83887438549307 and parameters: {'lambda': 0.6050144276191016, 'alpha': 0.06644393829808205, 'colsample_bytree': 0.8, 'subsample': 0.8, 'learning_rate': 0.0075252616158598155, 'n_estimators': 165, 'max_depth': 5, 'random_state': 637, 'min_child_weight': 298}. Best is trial 8 with value: 54.73803431236437.\n"
     ]
    },
    {
     "name": "stdout",
     "output_type": "stream",
     "text": [
      "Mean Absolute Error: 114.97878584963433\n",
      "Mean Absolute Error: 62.46813146913285\n"
     ]
    },
    {
     "name": "stderr",
     "output_type": "stream",
     "text": [
      "[I 2023-10-25 15:08:37,638] Trial 17 finished with value: 56.695497907431665 and parameters: {'lambda': 0.042398448691335584, 'alpha': 2.0779005900858953, 'colsample_bytree': 0.7, 'subsample': 1.0, 'learning_rate': 0.2334257550159307, 'n_estimators': 578, 'max_depth': 15, 'random_state': 332, 'min_child_weight': 132}. Best is trial 8 with value: 54.73803431236437.\n"
     ]
    },
    {
     "name": "stdout",
     "output_type": "stream",
     "text": [
      "Mean Absolute Error: 69.23614074507178\n",
      "Mean Absolute Error: 38.38222150809036\n",
      "Mean Absolute Error: 80.5886437785072\n",
      "Mean Absolute Error: 94.92650442023427\n"
     ]
    },
    {
     "name": "stderr",
     "output_type": "stream",
     "text": [
      "[I 2023-10-25 15:08:37,979] Trial 18 finished with value: 80.67655211251672 and parameters: {'lambda': 0.2601108109686235, 'alpha': 4.061669022675357, 'colsample_bytree': 0.7, 'subsample': 1.0, 'learning_rate': 0.0835121701216212, 'n_estimators': 732, 'max_depth': 15, 'random_state': 383, 'min_child_weight': 136}. Best is trial 8 with value: 54.73803431236437.\n"
     ]
    },
    {
     "name": "stdout",
     "output_type": "stream",
     "text": [
      "Mean Absolute Error: 66.51450813880864\n",
      "Mean Absolute Error: 121.78040969570577\n",
      "Mean Absolute Error: 136.56114813204235\n"
     ]
    },
    {
     "name": "stderr",
     "output_type": "stream",
     "text": [
      "[I 2023-10-25 15:08:38,264] Trial 19 finished with value: 122.99880052826602 and parameters: {'lambda': 1.0998903176733665, 'alpha': 9.867670658327484, 'colsample_bytree': 0.7, 'subsample': 0.8, 'learning_rate': 0.012430851535335864, 'n_estimators': 726, 'max_depth': 15, 'random_state': 145, 'min_child_weight': 186}. Best is trial 8 with value: 54.73803431236437.\n"
     ]
    },
    {
     "name": "stdout",
     "output_type": "stream",
     "text": [
      "Mean Absolute Error: 110.65484375704986\n",
      "Mean Absolute Error: 136.8389248924617\n",
      "Mean Absolute Error: 148.598454638713\n"
     ]
    },
    {
     "name": "stderr",
     "output_type": "stream",
     "text": [
      "[I 2023-10-25 15:08:38,517] Trial 20 finished with value: 135.90879645846584 and parameters: {'lambda': 9.568079553808607, 'alpha': 1.461886811749074, 'colsample_bytree': 0.5, 'subsample': 0.6, 'learning_rate': 0.0001476289961085888, 'n_estimators': 401, 'max_depth': 11, 'random_state': 367, 'min_child_weight': 134}. Best is trial 8 with value: 54.73803431236437.\n"
     ]
    },
    {
     "name": "stdout",
     "output_type": "stream",
     "text": [
      "Mean Absolute Error: 122.28900984422278\n",
      "Mean Absolute Error: 62.76238517431255\n"
     ]
    },
    {
     "name": "stderr",
     "output_type": "stream",
     "text": [
      "[I 2023-10-25 15:08:38,942] Trial 21 finished with value: 54.63111817658844 and parameters: {'lambda': 0.038495474231227796, 'alpha': 1.2835619971079821, 'colsample_bytree': 0.6, 'subsample': 1.0, 'learning_rate': 0.3731415453696659, 'n_estimators': 533, 'max_depth': 17, 'random_state': 459, 'min_child_weight': 82}. Best is trial 21 with value: 54.63111817658844.\n"
     ]
    },
    {
     "name": "stdout",
     "output_type": "stream",
     "text": [
      "Mean Absolute Error: 66.66307498753606\n",
      "Mean Absolute Error: 34.46789436791671\n",
      "Mean Absolute Error: 61.63582592372947\n",
      "Mean Absolute Error: 67.00467407699084\n"
     ]
    },
    {
     "name": "stderr",
     "output_type": "stream",
     "text": [
      "[I 2023-10-25 15:08:39,353] Trial 22 finished with value: 53.254831375632165 and parameters: {'lambda': 0.04375141752855047, 'alpha': 3.2011872250948983, 'colsample_bytree': 0.6, 'subsample': 1.0, 'learning_rate': 0.28706796977694976, 'n_estimators': 582, 'max_depth': 13, 'random_state': 224, 'min_child_weight': 78}. Best is trial 22 with value: 53.254831375632165.\n"
     ]
    },
    {
     "name": "stdout",
     "output_type": "stream",
     "text": [
      "Mean Absolute Error: 31.123994126176203\n",
      "Mean Absolute Error: 88.50833229335379\n"
     ]
    },
    {
     "name": "stderr",
     "output_type": "stream",
     "text": [
      "[I 2023-10-25 15:08:39,740] Trial 23 finished with value: 89.52675770857832 and parameters: {'lambda': 0.16011147799537406, 'alpha': 4.281363927066859, 'colsample_bytree': 0.6, 'subsample': 1.0, 'learning_rate': 0.06297558003803712, 'n_estimators': 570, 'max_depth': 13, 'random_state': 179, 'min_child_weight': 86}. Best is trial 22 with value: 53.254831375632165.\n"
     ]
    },
    {
     "name": "stdout",
     "output_type": "stream",
     "text": [
      "Mean Absolute Error: 103.66233420560079\n",
      "Mean Absolute Error: 76.40960662678035\n",
      "Mean Absolute Error: 61.94765873382345\n",
      "Mean Absolute Error: 67.1418733601057\n"
     ]
    },
    {
     "name": "stderr",
     "output_type": "stream",
     "text": [
      "[I 2023-10-25 15:08:40,151] Trial 24 finished with value: 54.457782397670336 and parameters: {'lambda': 0.05000558552813721, 'alpha': 1.3419462870862546, 'colsample_bytree': 0.6, 'subsample': 1.0, 'learning_rate': 0.31092685396369835, 'n_estimators': 660, 'max_depth': 13, 'random_state': 446, 'min_child_weight': 81}. Best is trial 22 with value: 53.254831375632165.\n"
     ]
    },
    {
     "name": "stdout",
     "output_type": "stream",
     "text": [
      "Mean Absolute Error: 34.28381509908184\n",
      "Mean Absolute Error: 65.67670135181928\n"
     ]
    },
    {
     "name": "stderr",
     "output_type": "stream",
     "text": [
      "[I 2023-10-25 15:08:40,601] Trial 25 finished with value: 57.83934212391248 and parameters: {'lambda': 0.06342630617653036, 'alpha': 4.133649805395587, 'colsample_bytree': 0.6, 'subsample': 1.0, 'learning_rate': 0.5372634637297249, 'n_estimators': 798, 'max_depth': 13, 'random_state': 439, 'min_child_weight': 48}. Best is trial 22 with value: 53.254831375632165.\n"
     ]
    },
    {
     "name": "stdout",
     "output_type": "stream",
     "text": [
      "Mean Absolute Error: 70.83142568901873\n",
      "Mean Absolute Error: 37.00989933089944\n",
      "Mean Absolute Error: 83.7934715684271\n",
      "Mean Absolute Error: 98.68847818122288\n"
     ]
    },
    {
     "name": "stderr",
     "output_type": "stream",
     "text": [
      "[I 2023-10-25 15:08:41,006] Trial 26 finished with value: 84.47637653423341 and parameters: {'lambda': 0.04277481433561467, 'alpha': 0.2763267840516872, 'colsample_bytree': 0.6, 'subsample': 1.0, 'learning_rate': 0.07396600307362991, 'n_estimators': 633, 'max_depth': 13, 'random_state': 260, 'min_child_weight': 83}. Best is trial 22 with value: 53.254831375632165.\n"
     ]
    },
    {
     "name": "stdout",
     "output_type": "stream",
     "text": [
      "Mean Absolute Error: 70.94717985305026\n",
      "Mean Absolute Error: 63.60752691944063\n",
      "Mean Absolute Error: 70.72258651851863\n"
     ]
    },
    {
     "name": "stderr",
     "output_type": "stream",
     "text": [
      "[I 2023-10-25 15:08:41,734] Trial 27 finished with value: 57.4138646456517 and parameters: {'lambda': 0.010596963576248586, 'alpha': 1.1255953756410548, 'colsample_bytree': 1.0, 'subsample': 1.0, 'learning_rate': 0.25305473534624146, 'n_estimators': 479, 'max_depth': 17, 'random_state': 131, 'min_child_weight': 38}. Best is trial 22 with value: 53.254831375632165.\n"
     ]
    },
    {
     "name": "stdout",
     "output_type": "stream",
     "text": [
      "Mean Absolute Error: 37.911480498995836\n",
      "Mean Absolute Error: 68.50785444701351\n"
     ]
    },
    {
     "name": "stderr",
     "output_type": "stream",
     "text": [
      "[I 2023-10-25 15:08:42,114] Trial 28 finished with value: 57.59955627044144 and parameters: {'lambda': 0.06595590723564107, 'alpha': 4.539322815311119, 'colsample_bytree': 0.6, 'subsample': 1.0, 'learning_rate': 0.5979597969038126, 'n_estimators': 649, 'max_depth': 13, 'random_state': 443, 'min_child_weight': 84}. Best is trial 22 with value: 53.254831375632165.\n"
     ]
    },
    {
     "name": "stdout",
     "output_type": "stream",
     "text": [
      "Mean Absolute Error: 67.43189160796297\n",
      "Mean Absolute Error: 36.858922756347845\n",
      "Mean Absolute Error: 109.15606681968471\n",
      "Mean Absolute Error: 124.15161492704333\n"
     ]
    },
    {
     "name": "stderr",
     "output_type": "stream",
     "text": [
      "[I 2023-10-25 15:08:42,512] Trial 29 finished with value: 110.48404847992602 and parameters: {'lambda': 0.008389632344607448, 'alpha': 2.3545663786013993, 'colsample_bytree': 0.6, 'subsample': 0.4, 'learning_rate': 0.027202271744598494, 'n_estimators': 369, 'max_depth': 13, 'random_state': 713, 'min_child_weight': 33}. Best is trial 22 with value: 53.254831375632165.\n"
     ]
    },
    {
     "name": "stdout",
     "output_type": "stream",
     "text": [
      "Mean Absolute Error: 98.14446369305001\n",
      "Mean Absolute Error: 98.33039106025258\n",
      "Mean Absolute Error: 112.71533627979052\n"
     ]
    },
    {
     "name": "stderr",
     "output_type": "stream",
     "text": [
      "[I 2023-10-25 15:08:42,754] Trial 30 finished with value: 99.10248868602359 and parameters: {'lambda': 0.20793260504218702, 'alpha': 1.8925699222798733, 'colsample_bytree': 0.6, 'subsample': 0.7, 'learning_rate': 0.04374487546910952, 'n_estimators': 803, 'max_depth': 5, 'random_state': 570, 'min_child_weight': 99}. Best is trial 22 with value: 53.254831375632165.\n"
     ]
    },
    {
     "name": "stdout",
     "output_type": "stream",
     "text": [
      "Mean Absolute Error: 86.26173871802764\n",
      "Mean Absolute Error: 62.76355234837449\n"
     ]
    },
    {
     "name": "stderr",
     "output_type": "stream",
     "text": [
      "[I 2023-10-25 15:08:43,159] Trial 31 finished with value: 56.03032158602716 and parameters: {'lambda': 0.08246454073360597, 'alpha': 1.2720666380653363, 'colsample_bytree': 0.6, 'subsample': 0.8, 'learning_rate': 0.23213120677217577, 'n_estimators': 501, 'max_depth': 13, 'random_state': 433, 'min_child_weight': 72}. Best is trial 22 with value: 53.254831375632165.\n"
     ]
    },
    {
     "name": "stdout",
     "output_type": "stream",
     "text": [
      "Mean Absolute Error: 69.3657434277947\n",
      "Mean Absolute Error: 35.961668981912325\n",
      "Mean Absolute Error: 62.60696780003135\n",
      "Mean Absolute Error: 65.47641991727309\n"
     ]
    },
    {
     "name": "stderr",
     "output_type": "stream",
     "text": [
      "[I 2023-10-25 15:08:43,471] Trial 32 finished with value: 53.38395277929116 and parameters: {'lambda': 0.04942714691904227, 'alpha': 2.5855828397225373, 'colsample_bytree': 0.6, 'subsample': 0.5, 'learning_rate': 0.3127246077312023, 'n_estimators': 602, 'max_depth': 13, 'random_state': 899, 'min_child_weight': 116}. Best is trial 22 with value: 53.254831375632165.\n"
     ]
    },
    {
     "name": "stdout",
     "output_type": "stream",
     "text": [
      "Mean Absolute Error: 32.06847062056902\n",
      "Mean Absolute Error: 71.56263524054054\n",
      "Mean Absolute Error: 84.08024638247858\n"
     ]
    },
    {
     "name": "stderr",
     "output_type": "stream",
     "text": [
      "[I 2023-10-25 15:08:43,787] Trial 33 finished with value: 69.56429819671371 and parameters: {'lambda': 0.03468440880258534, 'alpha': 2.3555243518679867, 'colsample_bytree': 0.9, 'subsample': 0.5, 'learning_rate': 0.12007615577411217, 'n_estimators': 609, 'max_depth': 9, 'random_state': 893, 'min_child_weight': 99}. Best is trial 22 with value: 53.254831375632165.\n"
     ]
    },
    {
     "name": "stdout",
     "output_type": "stream",
     "text": [
      "Mean Absolute Error: 53.050012967121994\n",
      "Mean Absolute Error: 63.23614019638842\n",
      "Mean Absolute Error: 66.28789675748324\n"
     ]
    },
    {
     "name": "stderr",
     "output_type": "stream",
     "text": [
      "[I 2023-10-25 15:08:44,087] Trial 34 finished with value: 53.14139687721405 and parameters: {'lambda': 0.030184116185042655, 'alpha': 5.08630665637691, 'colsample_bytree': 0.6, 'subsample': 0.5, 'learning_rate': 0.33789572330214535, 'n_estimators': 693, 'max_depth': 13, 'random_state': 846, 'min_child_weight': 168}. Best is trial 34 with value: 53.14139687721405.\n"
     ]
    },
    {
     "name": "stdout",
     "output_type": "stream",
     "text": [
      "Mean Absolute Error: 29.90015367777052\n",
      "Mean Absolute Error: 66.14108380202467\n",
      "Mean Absolute Error: 72.13326805317574\n"
     ]
    },
    {
     "name": "stderr",
     "output_type": "stream",
     "text": [
      "[I 2023-10-25 15:08:44,377] Trial 35 finished with value: 58.83023183986045 and parameters: {'lambda': 0.10939297985997774, 'alpha': 6.756428752068536, 'colsample_bytree': 0.4, 'subsample': 0.5, 'learning_rate': 0.1808509379357754, 'n_estimators': 718, 'max_depth': 13, 'random_state': 863, 'min_child_weight': 150}. Best is trial 34 with value: 53.14139687721405.\n"
     ]
    },
    {
     "name": "stdout",
     "output_type": "stream",
     "text": [
      "Mean Absolute Error: 38.21634366438095\n",
      "Mean Absolute Error: 76.62105381766142\n",
      "Mean Absolute Error: 86.40369175174388\n"
     ]
    },
    {
     "name": "stderr",
     "output_type": "stream",
     "text": [
      "[I 2023-10-25 15:08:44,661] Trial 36 finished with value: 73.34563925278368 and parameters: {'lambda': 0.025662769255723337, 'alpha': 4.9936346711503905, 'colsample_bytree': 0.6, 'subsample': 0.5, 'learning_rate': 0.10589647906712296, 'n_estimators': 835, 'max_depth': 13, 'random_state': 972, 'min_child_weight': 222}. Best is trial 34 with value: 53.14139687721405.\n"
     ]
    },
    {
     "name": "stdout",
     "output_type": "stream",
     "text": [
      "Mean Absolute Error: 57.01217218894575\n",
      "Mean Absolute Error: 67.3026927023399\n",
      "Mean Absolute Error: 68.00731194745629\n"
     ]
    },
    {
     "name": "stderr",
     "output_type": "stream",
     "text": [
      "[I 2023-10-25 15:08:44,961] Trial 37 finished with value: 56.79808509256162 and parameters: {'lambda': 0.01190051018493352, 'alpha': 3.24894835891709, 'colsample_bytree': 0.6, 'subsample': 0.5, 'learning_rate': 0.6920143841024002, 'n_estimators': 717, 'max_depth': 13, 'random_state': 832, 'min_child_weight': 156}. Best is trial 34 with value: 53.14139687721405.\n"
     ]
    },
    {
     "name": "stdout",
     "output_type": "stream",
     "text": [
      "Mean Absolute Error: 35.08425062788869\n",
      "Mean Absolute Error: 63.734252445299326\n",
      "Mean Absolute Error: 65.13795900534963\n"
     ]
    },
    {
     "name": "stderr",
     "output_type": "stream",
     "text": [
      "[I 2023-10-25 15:08:45,275] Trial 38 finished with value: 54.31286245722285 and parameters: {'lambda': 0.06071783278422499, 'alpha': 6.7606370419384385, 'colsample_bytree': 1.0, 'subsample': 0.5, 'learning_rate': 0.3066779243980947, 'n_estimators': 908, 'max_depth': 13, 'random_state': 743, 'min_child_weight': 198}. Best is trial 34 with value: 53.14139687721405.\n"
     ]
    },
    {
     "name": "stdout",
     "output_type": "stream",
     "text": [
      "Mean Absolute Error: 34.06637592101959\n",
      "Mean Absolute Error: 64.74677785777534\n",
      "Mean Absolute Error: 64.76134339705355\n"
     ]
    },
    {
     "name": "stderr",
     "output_type": "stream",
     "text": [
      "[I 2023-10-25 15:08:45,549] Trial 39 finished with value: 53.46030754636271 and parameters: {'lambda': 0.08338435234509838, 'alpha': 9.741442778955964, 'colsample_bytree': 1.0, 'subsample': 0.5, 'learning_rate': 0.35422300348247326, 'n_estimators': 915, 'max_depth': 7, 'random_state': 759, 'min_child_weight': 226}. Best is trial 34 with value: 53.14139687721405.\n"
     ]
    },
    {
     "name": "stdout",
     "output_type": "stream",
     "text": [
      "Mean Absolute Error: 30.872801384259258\n",
      "Mean Absolute Error: 92.97217612092756\n",
      "Mean Absolute Error: 105.5631586271944\n"
     ]
    },
    {
     "name": "stderr",
     "output_type": "stream",
     "text": [
      "[I 2023-10-25 15:08:45,811] Trial 40 finished with value: 92.43227338579437 and parameters: {'lambda': 0.007185878648339402, 'alpha': 9.352462468560542, 'colsample_bytree': 1.0, 'subsample': 0.5, 'learning_rate': 0.05642072387938877, 'n_estimators': 993, 'max_depth': 7, 'random_state': 807, 'min_child_weight': 239}. Best is trial 34 with value: 53.14139687721405.\n"
     ]
    },
    {
     "name": "stdout",
     "output_type": "stream",
     "text": [
      "Mean Absolute Error: 78.76148540926118\n",
      "Mean Absolute Error: 66.34065967506162\n",
      "Mean Absolute Error: 63.685760895913646\n"
     ]
    },
    {
     "name": "stderr",
     "output_type": "stream",
     "text": [
      "[I 2023-10-25 15:08:46,098] Trial 41 finished with value: 54.195653478029165 and parameters: {'lambda': 0.08083689500460198, 'alpha': 6.59156624487581, 'colsample_bytree': 1.0, 'subsample': 0.5, 'learning_rate': 0.4264744137405745, 'n_estimators': 905, 'max_depth': 7, 'random_state': 735, 'min_child_weight': 214}. Best is trial 34 with value: 53.14139687721405.\n"
     ]
    },
    {
     "name": "stdout",
     "output_type": "stream",
     "text": [
      "Mean Absolute Error: 32.56053986311223\n",
      "Mean Absolute Error: 65.17238055178436\n",
      "Mean Absolute Error: 64.6911242940235\n"
     ]
    },
    {
     "name": "stderr",
     "output_type": "stream",
     "text": [
      "[I 2023-10-25 15:08:46,368] Trial 42 finished with value: 53.88225918441818 and parameters: {'lambda': 0.08631114829235736, 'alpha': 2.9955974160379717, 'colsample_bytree': 1.0, 'subsample': 0.5, 'learning_rate': 0.4090305823684142, 'n_estimators': 929, 'max_depth': 7, 'random_state': 918, 'min_child_weight': 217}. Best is trial 34 with value: 53.14139687721405.\n"
     ]
    },
    {
     "name": "stdout",
     "output_type": "stream",
     "text": [
      "Mean Absolute Error: 31.783272707446674\n",
      "Mean Absolute Error: 67.64237666295146\n",
      "Mean Absolute Error: 67.39836406520588\n"
     ]
    },
    {
     "name": "stderr",
     "output_type": "stream",
     "text": [
      "[I 2023-10-25 15:08:46,637] Trial 43 finished with value: 56.10493118912595 and parameters: {'lambda': 0.1598826803764855, 'alpha': 2.738153454258219, 'colsample_bytree': 1.0, 'subsample': 0.5, 'learning_rate': 0.6721410768668883, 'n_estimators': 885, 'max_depth': 7, 'random_state': 885, 'min_child_weight': 247}. Best is trial 34 with value: 53.14139687721405.\n"
     ]
    },
    {
     "name": "stdout",
     "output_type": "stream",
     "text": [
      "Mean Absolute Error: 33.2740528392205\n",
      "Mean Absolute Error: 67.54871760500234\n",
      "Mean Absolute Error: 73.12576111133136\n"
     ]
    },
    {
     "name": "stderr",
     "output_type": "stream",
     "text": [
      "[I 2023-10-25 15:08:46,916] Trial 44 finished with value: 60.60525411477752 and parameters: {'lambda': 0.02428672141175605, 'alpha': 5.831955316292044, 'colsample_bytree': 1.0, 'subsample': 0.5, 'learning_rate': 0.17642815243449056, 'n_estimators': 866, 'max_depth': 7, 'random_state': 967, 'min_child_weight': 261}. Best is trial 34 with value: 53.14139687721405.\n"
     ]
    },
    {
     "name": "stdout",
     "output_type": "stream",
     "text": [
      "Mean Absolute Error: 41.14128362799889\n",
      "Mean Absolute Error: 62.71335233104747\n",
      "Mean Absolute Error: 64.24179382051341\n"
     ]
    },
    {
     "name": "stderr",
     "output_type": "stream",
     "text": [
      "[I 2023-10-25 15:08:47,219] Trial 45 finished with value: 53.26755703191878 and parameters: {'lambda': 0.09400255627557147, 'alpha': 2.784788658989703, 'colsample_bytree': 1.0, 'subsample': 0.7, 'learning_rate': 0.37523053062178024, 'n_estimators': 781, 'max_depth': 7, 'random_state': 921, 'min_child_weight': 179}. Best is trial 34 with value: 53.14139687721405.\n"
     ]
    },
    {
     "name": "stdout",
     "output_type": "stream",
     "text": [
      "Mean Absolute Error: 32.84752494419545\n",
      "Mean Absolute Error: 77.41209463985099\n",
      "Mean Absolute Error: 90.61358376977685\n"
     ]
    },
    {
     "name": "stderr",
     "output_type": "stream",
     "text": [
      "[I 2023-10-25 15:08:47,515] Trial 46 finished with value: 76.19175716844741 and parameters: {'lambda': 0.030911655720303764, 'alpha': 9.624230345905344, 'colsample_bytree': 0.9, 'subsample': 0.7, 'learning_rate': 0.0955074827470235, 'n_estimators': 782, 'max_depth': 7, 'random_state': 933, 'min_child_weight': 178}. Best is trial 34 with value: 53.14139687721405.\n"
     ]
    },
    {
     "name": "stdout",
     "output_type": "stream",
     "text": [
      "Mean Absolute Error: 60.54959309571438\n",
      "Mean Absolute Error: 64.19667985328601\n"
     ]
    },
    {
     "name": "stderr",
     "output_type": "stream",
     "text": [
      "[I 2023-10-25 15:08:47,857] Trial 47 finished with value: 59.41296329657141 and parameters: {'lambda': 0.015302277724208098, 'alpha': 3.2159328410604546, 'colsample_bytree': 0.8, 'subsample': 0.7, 'learning_rate': 0.18409775973187917, 'n_estimators': 755, 'max_depth': 11, 'random_state': 799, 'min_child_weight': 116}. Best is trial 34 with value: 53.14139687721405.\n"
     ]
    },
    {
     "name": "stdout",
     "output_type": "stream",
     "text": [
      "Mean Absolute Error: 73.41460547191288\n",
      "Mean Absolute Error: 40.627604564515366\n"
     ]
    },
    {
     "name": "stderr",
     "output_type": "stream",
     "text": [
      "[I 2023-10-25 15:08:48,126] Trial 48 finished with value: 58.526468678631744 and parameters: {'lambda': 0.05288420376544231, 'alpha': 0.9108412699534083, 'colsample_bytree': 0.5, 'subsample': 0.7, 'learning_rate': 0.990767553369081, 'n_estimators': 678, 'max_depth': 7, 'random_state': 683, 'min_child_weight': 174}. Best is trial 34 with value: 53.14139687721405.\n"
     ]
    },
    {
     "name": "stdout",
     "output_type": "stream",
     "text": [
      "Mean Absolute Error: 71.22226744398617\n",
      "Mean Absolute Error: 70.96124409668936\n",
      "Mean Absolute Error: 33.39589449521973\n"
     ]
    },
    {
     "name": "stderr",
     "output_type": "stream",
     "text": [
      "[I 2023-10-25 15:08:48,405] Trial 49 finished with value: 68.83505589737054 and parameters: {'lambda': 0.1236883294652022, 'alpha': 5.6906119744201025, 'colsample_bytree': 0.3, 'subsample': 0.6, 'learning_rate': 0.1277173857064586, 'n_estimators': 830, 'max_depth': 9, 'random_state': 830, 'min_child_weight': 149}. Best is trial 34 with value: 53.14139687721405.\n"
     ]
    },
    {
     "name": "stdout",
     "output_type": "stream",
     "text": [
      "Mean Absolute Error: 73.08593944029634\n",
      "Mean Absolute Error: 82.13151287920641\n",
      "Mean Absolute Error: 51.287715372608886\n"
     ]
    },
    {
     "name": "stderr",
     "output_type": "stream",
     "text": [
      "[I 2023-10-25 15:08:48,668] Trial 50 finished with value: 51.11573111570533 and parameters: {'lambda': 0.02701009016362066, 'alpha': 2.0319403972633174, 'colsample_bytree': 0.4, 'subsample': 0.7, 'learning_rate': 0.3155918773171042, 'n_estimators': 594, 'max_depth': 7, 'random_state': 771, 'min_child_weight': 199}. Best is trial 50 with value: 51.11573111570533.\n"
     ]
    },
    {
     "name": "stdout",
     "output_type": "stream",
     "text": [
      "Mean Absolute Error: 61.75593152746105\n",
      "Mean Absolute Error: 63.19719106903895\n",
      "Mean Absolute Error: 28.394070750615988\n"
     ]
    },
    {
     "name": "stderr",
     "output_type": "stream",
     "text": [
      "[I 2023-10-25 15:08:48,933] Trial 51 finished with value: 52.37167325597387 and parameters: {'lambda': 0.03464449710946646, 'alpha': 1.8805558428484144, 'colsample_bytree': 0.4, 'subsample': 0.7, 'learning_rate': 0.317471365766054, 'n_estimators': 596, 'max_depth': 7, 'random_state': 934, 'min_child_weight': 205}. Best is trial 50 with value: 51.11573111570533.\n"
     ]
    },
    {
     "name": "stdout",
     "output_type": "stream",
     "text": [
      "Mean Absolute Error: 63.11537404608352\n",
      "Mean Absolute Error: 64.83754579932523\n",
      "Mean Absolute Error: 29.16209992251287\n"
     ]
    },
    {
     "name": "stderr",
     "output_type": "stream",
     "text": [
      "[I 2023-10-25 15:08:49,199] Trial 52 finished with value: 54.05074032421418 and parameters: {'lambda': 0.026641113276812643, 'alpha': 1.9708248449265038, 'colsample_bytree': 0.4, 'subsample': 0.7, 'learning_rate': 0.23633972593014457, 'n_estimators': 600, 'max_depth': 7, 'random_state': 930, 'min_child_weight': 202}. Best is trial 50 with value: 51.11573111570533.\n"
     ]
    },
    {
     "name": "stdout",
     "output_type": "stream",
     "text": [
      "Mean Absolute Error: 62.7461081855784\n",
      "Mean Absolute Error: 67.05176884494777\n",
      "Mean Absolute Error: 32.35434394211638\n"
     ]
    },
    {
     "name": "stderr",
     "output_type": "stream",
     "text": [
      "[I 2023-10-25 15:08:49,460] Trial 53 finished with value: 53.729638526367786 and parameters: {'lambda': 0.018320879207714608, 'alpha': 0.8927842953950269, 'colsample_bytree': 0.4, 'subsample': 0.7, 'learning_rate': 0.49479352008449223, 'n_estimators': 686, 'max_depth': 7, 'random_state': 980, 'min_child_weight': 161}. Best is trial 50 with value: 51.11573111570533.\n"
     ]
    },
    {
     "name": "stdout",
     "output_type": "stream",
     "text": [
      "Mean Absolute Error: 63.72659332258027\n",
      "Mean Absolute Error: 67.4228573980313\n",
      "Mean Absolute Error: 30.039464858491773\n"
     ]
    },
    {
     "name": "stderr",
     "output_type": "stream",
     "text": [
      "[I 2023-10-25 15:08:49,731] Trial 54 finished with value: 65.21298936403271 and parameters: {'lambda': 0.030825113045795667, 'alpha': 0.5190495409193581, 'colsample_bytree': 0.4, 'subsample': 0.7, 'learning_rate': 0.15015105773191373, 'n_estimators': 576, 'max_depth': 7, 'random_state': 855, 'min_child_weight': 193}. Best is trial 50 with value: 51.11573111570533.\n"
     ]
    },
    {
     "name": "stdout",
     "output_type": "stream",
     "text": [
      "Mean Absolute Error: 71.39182608295427\n",
      "Mean Absolute Error: 77.71257609149782\n",
      "Mean Absolute Error: 46.53456591764604\n",
      "Mean Absolute Error: 68.6629615431046\n",
      "Mean Absolute Error: 68.35159036249772\n"
     ]
    },
    {
     "name": "stderr",
     "output_type": "stream",
     "text": [
      "[I 2023-10-25 15:08:50,075] Trial 55 finished with value: 57.751589063715926 and parameters: {'lambda': 0.04300573667510179, 'alpha': 3.574945425075503, 'colsample_bytree': 0.4, 'subsample': 0.7, 'learning_rate': 0.7195102393814016, 'n_estimators': 543, 'max_depth': 11, 'random_state': 905, 'min_child_weight': 209}. Best is trial 50 with value: 51.11573111570533.\n"
     ]
    },
    {
     "name": "stdout",
     "output_type": "stream",
     "text": [
      "Mean Absolute Error: 36.24021528554544\n",
      "Mean Absolute Error: 61.91045735827459\n"
     ]
    },
    {
     "name": "stderr",
     "output_type": "stream",
     "text": [
      "[I 2023-10-25 15:08:50,438] Trial 56 finished with value: 52.12265037927914 and parameters: {'lambda': 0.016719266247757273, 'alpha': 1.811376128667552, 'colsample_bytree': 0.4, 'subsample': 0.7, 'learning_rate': 0.2878859398872349, 'n_estimators': 441, 'max_depth': 5, 'random_state': 591, 'min_child_weight': 188}. Best is trial 50 with value: 51.11573111570533.\n"
     ]
    },
    {
     "name": "stdout",
     "output_type": "stream",
     "text": [
      "Mean Absolute Error: 66.41060914130908\n",
      "Mean Absolute Error: 28.04688463825374\n"
     ]
    },
    {
     "name": "stderr",
     "output_type": "stream",
     "text": [
      "[I 2023-10-25 15:08:50,704] Trial 57 finished with value: 56.62280906543551 and parameters: {'lambda': 0.017158407504461633, 'alpha': 1.8868621826027343, 'colsample_bytree': 0.4, 'subsample': 0.7, 'learning_rate': 0.2079374137830968, 'n_estimators': 429, 'max_depth': 5, 'random_state': 20, 'min_child_weight': 186}. Best is trial 50 with value: 51.11573111570533.\n"
     ]
    },
    {
     "name": "stdout",
     "output_type": "stream",
     "text": [
      "Mean Absolute Error: 64.16552423107225\n",
      "Mean Absolute Error: 70.30942202180965\n",
      "Mean Absolute Error: 35.393480943424606\n"
     ]
    },
    {
     "name": "stderr",
     "output_type": "stream",
     "text": [
      "[I 2023-10-25 15:08:50,951] Trial 58 finished with value: 73.95799592376862 and parameters: {'lambda': 0.005788466942300921, 'alpha': 1.738378110869674, 'colsample_bytree': 0.4, 'subsample': 0.7, 'learning_rate': 0.09978105069569485, 'n_estimators': 318, 'max_depth': 5, 'random_state': 577, 'min_child_weight': 165}. Best is trial 50 with value: 51.11573111570533.\n"
     ]
    },
    {
     "name": "stdout",
     "output_type": "stream",
     "text": [
      "Mean Absolute Error: 76.77805956184893\n",
      "Mean Absolute Error: 86.58237051390078\n",
      "Mean Absolute Error: 58.51355769555616\n"
     ]
    },
    {
     "name": "stderr",
     "output_type": "stream",
     "text": [
      "[I 2023-10-25 15:08:51,206] Trial 59 finished with value: 51.57794521096387 and parameters: {'lambda': 0.013383114660536863, 'alpha': 5.037712685594086, 'colsample_bytree': 0.4, 'subsample': 0.7, 'learning_rate': 0.45269575070808127, 'n_estimators': 459, 'max_depth': 5, 'random_state': 795, 'min_child_weight': 185}. Best is trial 50 with value: 51.11573111570533.\n"
     ]
    },
    {
     "name": "stdout",
     "output_type": "stream",
     "text": [
      "Mean Absolute Error: 62.7317649858516\n",
      "Mean Absolute Error: 64.6088554649816\n",
      "Mean Absolute Error: 27.39321518205841\n"
     ]
    },
    {
     "name": "stderr",
     "output_type": "stream",
     "text": [
      "[I 2023-10-25 15:08:51,468] Trial 60 finished with value: 52.52281094691735 and parameters: {'lambda': 0.012828637815343366, 'alpha': 4.370607218591742, 'colsample_bytree': 0.4, 'subsample': 0.7, 'learning_rate': 0.5066666178057571, 'n_estimators': 440, 'max_depth': 5, 'random_state': 678, 'min_child_weight': 140}. Best is trial 50 with value: 51.11573111570533.\n"
     ]
    },
    {
     "name": "stdout",
     "output_type": "stream",
     "text": [
      "Mean Absolute Error: 62.88729284212256\n",
      "Mean Absolute Error: 63.619393209299176\n",
      "Mean Absolute Error: 31.061746789330307\n"
     ]
    },
    {
     "name": "stderr",
     "output_type": "stream",
     "text": [
      "[I 2023-10-25 15:08:51,720] Trial 61 finished with value: 51.703493400958486 and parameters: {'lambda': 0.012821227519656198, 'alpha': 4.726578420923803, 'colsample_bytree': 0.4, 'subsample': 0.7, 'learning_rate': 0.5099665265317177, 'n_estimators': 444, 'max_depth': 5, 'random_state': 677, 'min_child_weight': 188}. Best is trial 50 with value: 51.11573111570533.\n"
     ]
    },
    {
     "name": "stdout",
     "output_type": "stream",
     "text": [
      "Mean Absolute Error: 63.56881451052514\n",
      "Mean Absolute Error: 64.05164146562345\n",
      "Mean Absolute Error: 27.49002422672689\n"
     ]
    },
    {
     "name": "stderr",
     "output_type": "stream",
     "text": [
      "[I 2023-10-25 15:08:51,976] Trial 62 finished with value: 53.62728760241354 and parameters: {'lambda': 0.014153722709762439, 'alpha': 5.3071265426032594, 'colsample_bytree': 0.4, 'subsample': 0.7, 'learning_rate': 0.5266877946934237, 'n_estimators': 464, 'max_depth': 5, 'random_state': 693, 'min_child_weight': 170}. Best is trial 50 with value: 51.11573111570533.\n"
     ]
    },
    {
     "name": "stdout",
     "output_type": "stream",
     "text": [
      "Mean Absolute Error: 63.951704010066855\n",
      "Mean Absolute Error: 65.47656703682999\n",
      "Mean Absolute Error: 31.45359176034378\n"
     ]
    },
    {
     "name": "stderr",
     "output_type": "stream",
     "text": [
      "[I 2023-10-25 15:08:52,221] Trial 63 finished with value: 56.85939427323397 and parameters: {'lambda': 0.009650904366710358, 'alpha': 4.15719370308519, 'colsample_bytree': 0.4, 'subsample': 0.7, 'learning_rate': 0.886480757614846, 'n_estimators': 363, 'max_depth': 5, 'random_state': 640, 'min_child_weight': 146}. Best is trial 50 with value: 51.11573111570533.\n"
     ]
    },
    {
     "name": "stdout",
     "output_type": "stream",
     "text": [
      "Mean Absolute Error: 68.30407373299451\n",
      "Mean Absolute Error: 69.52785303886427\n",
      "Mean Absolute Error: 32.74625604784314\n"
     ]
    },
    {
     "name": "stderr",
     "output_type": "stream",
     "text": [
      "[I 2023-10-25 15:08:52,477] Trial 64 finished with value: 52.599498270938284 and parameters: {'lambda': 0.012734939802491192, 'alpha': 7.31118854410809, 'colsample_bytree': 0.4, 'subsample': 0.7, 'learning_rate': 0.515463448206777, 'n_estimators': 436, 'max_depth': 5, 'random_state': 782, 'min_child_weight': 204}. Best is trial 50 with value: 51.11573111570533.\n"
     ]
    },
    {
     "name": "stdout",
     "output_type": "stream",
     "text": [
      "Mean Absolute Error: 65.09879127566555\n",
      "Mean Absolute Error: 64.20573705039097\n",
      "Mean Absolute Error: 28.49396648675832\n"
     ]
    },
    {
     "name": "stderr",
     "output_type": "stream",
     "text": [
      "[I 2023-10-25 15:08:52,728] Trial 65 finished with value: 51.87178106086014 and parameters: {'lambda': 0.0044259833399239844, 'alpha': 3.9708306090721948, 'colsample_bytree': 0.4, 'subsample': 0.7, 'learning_rate': 0.5756832544186294, 'n_estimators': 434, 'max_depth': 5, 'random_state': 586, 'min_child_weight': 205}. Best is trial 50 with value: 51.11573111570533.\n"
     ]
    },
    {
     "name": "stdout",
     "output_type": "stream",
     "text": [
      "Mean Absolute Error: 64.48847760718076\n",
      "Mean Absolute Error: 63.43192725590005\n",
      "Mean Absolute Error: 27.694938319499595\n"
     ]
    },
    {
     "name": "stderr",
     "output_type": "stream",
     "text": [
      "[I 2023-10-25 15:08:52,978] Trial 66 finished with value: 55.67670654803927 and parameters: {'lambda': 0.0039392586750818534, 'alpha': 3.8587703182713944, 'colsample_bytree': 0.4, 'subsample': 0.7, 'learning_rate': 0.7129715294926265, 'n_estimators': 507, 'max_depth': 5, 'random_state': 570, 'min_child_weight': 188}. Best is trial 50 with value: 51.11573111570533.\n"
     ]
    },
    {
     "name": "stdout",
     "output_type": "stream",
     "text": [
      "Mean Absolute Error: 65.99655795277533\n",
      "Mean Absolute Error: 65.71245757527221\n",
      "Mean Absolute Error: 35.32110411607028\n"
     ]
    },
    {
     "name": "stderr",
     "output_type": "stream",
     "text": [
      "[I 2023-10-25 15:08:53,231] Trial 67 finished with value: 51.66639810771209 and parameters: {'lambda': 0.005330876774756003, 'alpha': 1.830540686669711, 'colsample_bytree': 0.4, 'subsample': 0.7, 'learning_rate': 0.4568344141252127, 'n_estimators': 363, 'max_depth': 5, 'random_state': 616, 'min_child_weight': 233}. Best is trial 50 with value: 51.11573111570533.\n"
     ]
    },
    {
     "name": "stdout",
     "output_type": "stream",
     "text": [
      "Mean Absolute Error: 64.02992697796388\n",
      "Mean Absolute Error: 64.16209754979482\n",
      "Mean Absolute Error: 26.80716979537758\n"
     ]
    },
    {
     "name": "stderr",
     "output_type": "stream",
     "text": [
      "[I 2023-10-25 15:08:53,482] Trial 68 finished with value: 53.31955546464843 and parameters: {'lambda': 0.0024924799764370472, 'alpha': 1.5975688469558933, 'colsample_bytree': 0.4, 'subsample': 0.7, 'learning_rate': 0.26920846915430796, 'n_estimators': 203, 'max_depth': 5, 'random_state': 603, 'min_child_weight': 232}. Best is trial 50 with value: 51.11573111570533.\n"
     ]
    },
    {
     "name": "stdout",
     "output_type": "stream",
     "text": [
      "Mean Absolute Error: 64.77989384766762\n",
      "Mean Absolute Error: 66.15425534631036\n",
      "Mean Absolute Error: 29.024517199967317\n"
     ]
    },
    {
     "name": "stderr",
     "output_type": "stream",
     "text": [
      "[I 2023-10-25 15:08:53,723] Trial 69 finished with value: 58.62861131751458 and parameters: {'lambda': 0.006627082392592082, 'alpha': 2.1495686808576453, 'colsample_bytree': 0.4, 'subsample': 0.4, 'learning_rate': 0.8799834163236504, 'n_estimators': 361, 'max_depth': 5, 'random_state': 538, 'min_child_weight': 296}. Best is trial 50 with value: 51.11573111570533.\n"
     ]
    },
    {
     "name": "stdout",
     "output_type": "stream",
     "text": [
      "Mean Absolute Error: 74.24111678914775\n",
      "Mean Absolute Error: 65.71456475575685\n",
      "Mean Absolute Error: 35.93015240763913\n"
     ]
    },
    {
     "name": "stderr",
     "output_type": "stream",
     "text": [
      "[I 2023-10-25 15:08:53,971] Trial 70 finished with value: 52.31420137496198 and parameters: {'lambda': 0.005752127532190685, 'alpha': 0.8912613313597294, 'colsample_bytree': 0.4, 'subsample': 0.7, 'learning_rate': 0.4283261801977484, 'n_estimators': 243, 'max_depth': 5, 'random_state': 656, 'min_child_weight': 257}. Best is trial 50 with value: 51.11573111570533.\n"
     ]
    },
    {
     "name": "stdout",
     "output_type": "stream",
     "text": [
      "Mean Absolute Error: 63.85539123945188\n",
      "Mean Absolute Error: 64.3815357603419\n",
      "Mean Absolute Error: 28.70567712509216\n"
     ]
    },
    {
     "name": "stderr",
     "output_type": "stream",
     "text": [
      "[I 2023-10-25 15:08:54,226] Trial 71 finished with value: 52.09440118861568 and parameters: {'lambda': 0.005046477721387624, 'alpha': 2.3734871973695038, 'colsample_bytree': 0.4, 'subsample': 0.7, 'learning_rate': 0.4324232269653505, 'n_estimators': 223, 'max_depth': 5, 'random_state': 650, 'min_child_weight': 268}. Best is trial 50 with value: 51.11573111570533.\n"
     ]
    },
    {
     "name": "stdout",
     "output_type": "stream",
     "text": [
      "Mean Absolute Error: 64.01298038878487\n",
      "Mean Absolute Error: 63.45387797200019\n",
      "Mean Absolute Error: 28.81634520506195\n"
     ]
    },
    {
     "name": "stderr",
     "output_type": "stream",
     "text": [
      "[I 2023-10-25 15:08:54,477] Trial 72 finished with value: 52.67590417252601 and parameters: {'lambda': 0.0047751941325975085, 'alpha': 2.5276723334461195, 'colsample_bytree': 0.4, 'subsample': 0.7, 'learning_rate': 0.6496821706240685, 'n_estimators': 223, 'max_depth': 5, 'random_state': 647, 'min_child_weight': 288}. Best is trial 50 with value: 51.11573111570533.\n"
     ]
    },
    {
     "name": "stdout",
     "output_type": "stream",
     "text": [
      "Mean Absolute Error: 64.2467841297909\n",
      "Mean Absolute Error: 64.6840448320522\n",
      "Mean Absolute Error: 29.096883555734955\n"
     ]
    },
    {
     "name": "stderr",
     "output_type": "stream",
     "text": [
      "[I 2023-10-25 15:08:54,735] Trial 73 finished with value: 53.25266368882959 and parameters: {'lambda': 0.00308334240942434, 'alpha': 1.269769202145352, 'colsample_bytree': 0.4, 'subsample': 0.7, 'learning_rate': 0.483745727330181, 'n_estimators': 112, 'max_depth': 5, 'random_state': 607, 'min_child_weight': 271}. Best is trial 50 with value: 51.11573111570533.\n"
     ]
    },
    {
     "name": "stdout",
     "output_type": "stream",
     "text": [
      "Mean Absolute Error: 65.81647753262008\n",
      "Mean Absolute Error: 65.20395651950845\n",
      "Mean Absolute Error: 28.73755701436024\n"
     ]
    },
    {
     "name": "stderr",
     "output_type": "stream",
     "text": [
      "[I 2023-10-25 15:08:55,006] Trial 74 finished with value: 53.45246405622248 and parameters: {'lambda': 0.008280918156821002, 'alpha': 0.9946168359621427, 'colsample_bytree': 0.4, 'subsample': 0.6, 'learning_rate': 0.41312449177053584, 'n_estimators': 277, 'max_depth': 5, 'random_state': 715, 'min_child_weight': 255}. Best is trial 50 with value: 51.11573111570533.\n"
     ]
    },
    {
     "name": "stdout",
     "output_type": "stream",
     "text": [
      "Mean Absolute Error: 64.68254580958987\n",
      "Mean Absolute Error: 67.24518165148115\n",
      "Mean Absolute Error: 28.429664707596427\n"
     ]
    },
    {
     "name": "stderr",
     "output_type": "stream",
     "text": [
      "[I 2023-10-25 15:08:55,276] Trial 75 finished with value: 53.941746399452455 and parameters: {'lambda': 0.005241877346635168, 'alpha': 3.2985382423248013, 'colsample_bytree': 0.4, 'subsample': 0.7, 'learning_rate': 0.2441424431156427, 'n_estimators': 324, 'max_depth': 5, 'random_state': 517, 'min_child_weight': 281}. Best is trial 50 with value: 51.11573111570533.\n"
     ]
    },
    {
     "name": "stdout",
     "output_type": "stream",
     "text": [
      "Mean Absolute Error: 64.71469578434692\n",
      "Mean Absolute Error: 65.49721106722303\n",
      "Mean Absolute Error: 31.613332346787427\n"
     ]
    },
    {
     "name": "stderr",
     "output_type": "stream",
     "text": [
      "[I 2023-10-25 15:08:55,531] Trial 76 finished with value: 62.22881658876404 and parameters: {'lambda': 0.0016129334983016768, 'alpha': 1.5200403414561456, 'colsample_bytree': 0.7, 'subsample': 0.7, 'learning_rate': 0.15424757328265282, 'n_estimators': 398, 'max_depth': 5, 'random_state': 654, 'min_child_weight': 239}. Best is trial 50 with value: 51.11573111570533.\n"
     ]
    },
    {
     "name": "stdout",
     "output_type": "stream",
     "text": [
      "Mean Absolute Error: 68.47389748826124\n",
      "Mean Absolute Error: 74.66402491637605\n",
      "Mean Absolute Error: 43.54852736165482\n"
     ]
    },
    {
     "name": "stderr",
     "output_type": "stream",
     "text": [
      "[I 2023-10-25 15:08:55,858] Trial 77 finished with value: 57.89583625991114 and parameters: {'lambda': 0.003926481320388635, 'alpha': 2.3496515016514548, 'colsample_bytree': 0.8, 'subsample': 0.7, 'learning_rate': 0.8279513583926015, 'n_estimators': 67, 'max_depth': 15, 'random_state': 552, 'min_child_weight': 271}. Best is trial 50 with value: 51.11573111570533.\n"
     ]
    },
    {
     "name": "stdout",
     "output_type": "stream",
     "text": [
      "Mean Absolute Error: 68.51777498642885\n",
      "Mean Absolute Error: 70.78712495196642\n",
      "Mean Absolute Error: 34.38260884133816\n"
     ]
    },
    {
     "name": "stderr",
     "output_type": "stream",
     "text": [
      "[I 2023-10-25 15:08:56,111] Trial 78 finished with value: 56.796248250719565 and parameters: {'lambda': 0.009923059549696436, 'alpha': 0.7535888471022733, 'colsample_bytree': 0.4, 'subsample': 0.7, 'learning_rate': 0.5982002175752051, 'n_estimators': 228, 'max_depth': 5, 'random_state': 605, 'min_child_weight': 225}. Best is trial 50 with value: 51.11573111570533.\n"
     ]
    },
    {
     "name": "stdout",
     "output_type": "stream",
     "text": [
      "Mean Absolute Error: 68.50575222475858\n",
      "Mean Absolute Error: 69.87498959163896\n",
      "Mean Absolute Error: 32.008002935761155\n"
     ]
    },
    {
     "name": "stderr",
     "output_type": "stream",
     "text": [
      "[I 2023-10-25 15:08:56,367] Trial 79 finished with value: 59.944564024782345 and parameters: {'lambda': 0.0063526670261640885, 'alpha': 7.570581547735068, 'colsample_bytree': 0.3, 'subsample': 0.8, 'learning_rate': 0.3973855654592396, 'n_estimators': 333, 'max_depth': 5, 'random_state': 487, 'min_child_weight': 246}. Best is trial 50 with value: 51.11573111570533.\n"
     ]
    },
    {
     "name": "stdout",
     "output_type": "stream",
     "text": [
      "Mean Absolute Error: 76.1752270932666\n",
      "Mean Absolute Error: 73.20198805268205\n",
      "Mean Absolute Error: 30.456476928398377\n"
     ]
    },
    {
     "name": "stderr",
     "output_type": "stream",
     "text": [
      "[I 2023-10-25 15:08:56,620] Trial 80 finished with value: 60.231078847220296 and parameters: {'lambda': 0.008257842498970706, 'alpha': 1.2894046917341861, 'colsample_bytree': 0.4, 'subsample': 0.7, 'learning_rate': 0.21738751865786995, 'n_estimators': 500, 'max_depth': 5, 'random_state': 726, 'min_child_weight': 216}. Best is trial 50 with value: 51.11573111570533.\n"
     ]
    },
    {
     "name": "stdout",
     "output_type": "stream",
     "text": [
      "Mean Absolute Error: 68.64930439777393\n",
      "Mean Absolute Error: 73.49128803728344\n",
      "Mean Absolute Error: 38.55264410660352\n"
     ]
    },
    {
     "name": "stderr",
     "output_type": "stream",
     "text": [
      "[I 2023-10-25 15:08:56,890] Trial 81 finished with value: 53.68191985079856 and parameters: {'lambda': 0.020213836500766538, 'alpha': 1.8442018882089763, 'colsample_bytree': 0.4, 'subsample': 0.7, 'learning_rate': 0.29718706427060587, 'n_estimators': 391, 'max_depth': 5, 'random_state': 672, 'min_child_weight': 193}. Best is trial 50 with value: 51.11573111570533.\n"
     ]
    },
    {
     "name": "stdout",
     "output_type": "stream",
     "text": [
      "Mean Absolute Error: 62.76626618078097\n",
      "Mean Absolute Error: 66.01415741129541\n",
      "Mean Absolute Error: 32.26533596031931\n"
     ]
    },
    {
     "name": "stderr",
     "output_type": "stream",
     "text": [
      "[I 2023-10-25 15:08:57,193] Trial 82 finished with value: 52.57491869722978 and parameters: {'lambda': 0.004521631736576564, 'alpha': 3.633281474985091, 'colsample_bytree': 0.4, 'subsample': 0.7, 'learning_rate': 0.3420143691787908, 'n_estimators': 526, 'max_depth': 17, 'random_state': 698, 'min_child_weight': 233}. Best is trial 50 with value: 51.11573111570533.\n"
     ]
    },
    {
     "name": "stdout",
     "output_type": "stream",
     "text": [
      "Mean Absolute Error: 63.014841100387564\n",
      "Mean Absolute Error: 64.79638665990251\n",
      "Mean Absolute Error: 29.913528331399284\n"
     ]
    },
    {
     "name": "stderr",
     "output_type": "stream",
     "text": [
      "[I 2023-10-25 15:08:57,455] Trial 83 finished with value: 57.661881498771244 and parameters: {'lambda': 0.003149802599744125, 'alpha': 2.378770678889619, 'colsample_bytree': 0.4, 'subsample': 0.4, 'learning_rate': 0.7284208894580199, 'n_estimators': 477, 'max_depth': 5, 'random_state': 752, 'min_child_weight': 251}. Best is trial 50 with value: 51.11573111570533.\n"
     ]
    },
    {
     "name": "stdout",
     "output_type": "stream",
     "text": [
      "Mean Absolute Error: 71.24419165626801\n",
      "Mean Absolute Error: 68.15363853634356\n",
      "Mean Absolute Error: 33.587814303702146\n"
     ]
    },
    {
     "name": "stderr",
     "output_type": "stream",
     "text": [
      "[I 2023-10-25 15:08:57,737] Trial 84 finished with value: 52.227344378326045 and parameters: {'lambda': 0.011565036344602625, 'alpha': 5.0763267005579795, 'colsample_bytree': 0.5, 'subsample': 0.7, 'learning_rate': 0.32299996901416517, 'n_estimators': 293, 'max_depth': 5, 'random_state': 622, 'min_child_weight': 210}. Best is trial 50 with value: 51.11573111570533.\n"
     ]
    },
    {
     "name": "stdout",
     "output_type": "stream",
     "text": [
      "Mean Absolute Error: 62.49884064085949\n",
      "Mean Absolute Error: 64.7362535037342\n",
      "Mean Absolute Error: 29.446938990384435\n"
     ]
    },
    {
     "name": "stderr",
     "output_type": "stream",
     "text": [
      "[I 2023-10-25 15:08:57,988] Trial 85 finished with value: 53.25844983960685 and parameters: {'lambda': 0.005433452841070604, 'alpha': 5.1136873306830095, 'colsample_bytree': 0.5, 'subsample': 0.7, 'learning_rate': 0.6075209177943853, 'n_estimators': 294, 'max_depth': 5, 'random_state': 586, 'min_child_weight': 261}. Best is trial 50 with value: 51.11573111570533.\n"
     ]
    },
    {
     "name": "stdout",
     "output_type": "stream",
     "text": [
      "Mean Absolute Error: 65.82060352776105\n",
      "Mean Absolute Error: 66.20046727880202\n",
      "Mean Absolute Error: 27.75427871225747\n"
     ]
    },
    {
     "name": "stderr",
     "output_type": "stream",
     "text": [
      "[I 2023-10-25 15:08:58,242] Trial 86 finished with value: 53.27282477340869 and parameters: {'lambda': 0.010845976789256615, 'alpha': 5.929837933068737, 'colsample_bytree': 0.5, 'subsample': 0.7, 'learning_rate': 0.43652063833498556, 'n_estimators': 187, 'max_depth': 5, 'random_state': 631, 'min_child_weight': 212}. Best is trial 50 with value: 51.11573111570533.\n"
     ]
    },
    {
     "name": "stdout",
     "output_type": "stream",
     "text": [
      "Mean Absolute Error: 65.05141508089592\n",
      "Mean Absolute Error: 64.94338274399489\n",
      "Mean Absolute Error: 29.82367649533525\n"
     ]
    },
    {
     "name": "stderr",
     "output_type": "stream",
     "text": [
      "[I 2023-10-25 15:08:58,547] Trial 87 finished with value: 54.1693741351689 and parameters: {'lambda': 0.00740453639373821, 'alpha': 8.106052300340375, 'colsample_bytree': 0.5, 'subsample': 0.7, 'learning_rate': 0.25502527325057, 'n_estimators': 253, 'max_depth': 9, 'random_state': 476, 'min_child_weight': 184}. Best is trial 50 with value: 51.11573111570533.\n"
     ]
    },
    {
     "name": "stdout",
     "output_type": "stream",
     "text": [
      "Mean Absolute Error: 62.29741025188835\n",
      "Mean Absolute Error: 67.34098890853178\n",
      "Mean Absolute Error: 32.86972324508656\n"
     ]
    },
    {
     "name": "stderr",
     "output_type": "stream",
     "text": [
      "[I 2023-10-25 15:08:58,817] Trial 88 finished with value: 58.35961138808753 and parameters: {'lambda': 0.01387249306469241, 'alpha': 4.5002242652157705, 'colsample_bytree': 0.9, 'subsample': 0.6, 'learning_rate': 0.19173949783275027, 'n_estimators': 347, 'max_depth': 5, 'random_state': 782, 'min_child_weight': 198}. Best is trial 50 with value: 51.11573111570533.\n"
     ]
    },
    {
     "name": "stdout",
     "output_type": "stream",
     "text": [
      "Mean Absolute Error: 65.13476827341024\n",
      "Mean Absolute Error: 71.48003910650804\n",
      "Mean Absolute Error: 38.464026784344306\n"
     ]
    },
    {
     "name": "stderr",
     "output_type": "stream",
     "text": [
      "[I 2023-10-25 15:08:59,142] Trial 89 finished with value: 52.80974260676487 and parameters: {'lambda': 0.009813696664848687, 'alpha': 2.777962934639687, 'colsample_bytree': 0.5, 'subsample': 0.7, 'learning_rate': 0.3615904970400955, 'n_estimators': 260, 'max_depth': 15, 'random_state': 549, 'min_child_weight': 223}. Best is trial 50 with value: 51.11573111570533.\n"
     ]
    },
    {
     "name": "stdout",
     "output_type": "stream",
     "text": [
      "Mean Absolute Error: 63.078819811597086\n",
      "Mean Absolute Error: 64.44350661959088\n",
      "Mean Absolute Error: 30.906901389106643\n"
     ]
    },
    {
     "name": "stderr",
     "output_type": "stream",
     "text": [
      "[I 2023-10-25 15:08:59,392] Trial 90 finished with value: 52.00135203137069 and parameters: {'lambda': 0.022724254712658577, 'alpha': 2.942303095736079, 'colsample_bytree': 0.4, 'subsample': 0.7, 'learning_rate': 0.5845343145662794, 'n_estimators': 421, 'max_depth': 5, 'random_state': 653, 'min_child_weight': 242}. Best is trial 50 with value: 51.11573111570533.\n"
     ]
    },
    {
     "name": "stdout",
     "output_type": "stream",
     "text": [
      "Mean Absolute Error: 62.32533868174745\n",
      "Mean Absolute Error: 64.4018973869246\n",
      "Mean Absolute Error: 29.27682002544004\n"
     ]
    },
    {
     "name": "stderr",
     "output_type": "stream",
     "text": [
      "[I 2023-10-25 15:08:59,636] Trial 91 finished with value: 58.547114855797396 and parameters: {'lambda': 0.021821347030871872, 'alpha': 3.348729834884663, 'colsample_bytree': 0.4, 'subsample': 0.7, 'learning_rate': 0.9704227040208204, 'n_estimators': 388, 'max_depth': 5, 'random_state': 621, 'min_child_weight': 240}. Best is trial 50 with value: 51.11573111570533.\n"
     ]
    },
    {
     "name": "stdout",
     "output_type": "stream",
     "text": [
      "Mean Absolute Error: 68.56562548995137\n",
      "Mean Absolute Error: 70.9389776314043\n",
      "Mean Absolute Error: 36.13674144603653\n"
     ]
    },
    {
     "name": "stderr",
     "output_type": "stream",
     "text": [
      "[I 2023-10-25 15:08:59,899] Trial 92 finished with value: 51.37453756525891 and parameters: {'lambda': 0.006768513809946185, 'alpha': 2.926606279061873, 'colsample_bytree': 0.4, 'subsample': 0.7, 'learning_rate': 0.484361880803609, 'n_estimators': 449, 'max_depth': 5, 'random_state': 665, 'min_child_weight': 230}. Best is trial 50 with value: 51.11573111570533.\n"
     ]
    },
    {
     "name": "stdout",
     "output_type": "stream",
     "text": [
      "Mean Absolute Error: 64.49582086045834\n",
      "Mean Absolute Error: 62.41948097005553\n",
      "Mean Absolute Error: 27.208310865262856\n"
     ]
    },
    {
     "name": "stderr",
     "output_type": "stream",
     "text": [
      "[I 2023-10-25 15:09:00,160] Trial 93 finished with value: 52.90376463976864 and parameters: {'lambda': 0.019989241662334317, 'alpha': 5.8371455496662445, 'colsample_bytree': 0.7, 'subsample': 0.7, 'learning_rate': 0.6091314957070768, 'n_estimators': 415, 'max_depth': 5, 'random_state': 715, 'min_child_weight': 231}. Best is trial 50 with value: 51.11573111570533.\n"
     ]
    },
    {
     "name": "stdout",
     "output_type": "stream",
     "text": [
      "Mean Absolute Error: 63.168088187057116\n",
      "Mean Absolute Error: 65.4306124778789\n",
      "Mean Absolute Error: 30.112593254369905\n"
     ]
    },
    {
     "name": "stderr",
     "output_type": "stream",
     "text": [
      "[I 2023-10-25 15:09:00,422] Trial 94 finished with value: 55.34503558308743 and parameters: {'lambda': 0.01573979334296683, 'alpha': 3.885132734891408, 'colsample_bytree': 0.4, 'subsample': 0.7, 'learning_rate': 0.7856881431312586, 'n_estimators': 454, 'max_depth': 5, 'random_state': 595, 'min_child_weight': 208}. Best is trial 50 with value: 51.11573111570533.\n"
     ]
    },
    {
     "name": "stdout",
     "output_type": "stream",
     "text": [
      "Mean Absolute Error: 67.12959344497008\n",
      "Mean Absolute Error: 66.35294495042538\n",
      "Mean Absolute Error: 32.55256835386683\n"
     ]
    },
    {
     "name": "stderr",
     "output_type": "stream",
     "text": [
      "[I 2023-10-25 15:09:00,722] Trial 95 finished with value: 53.84017173368929 and parameters: {'lambda': 0.007771118344679489, 'alpha': 2.651091134059316, 'colsample_bytree': 0.4, 'subsample': 0.7, 'learning_rate': 0.29858930537412814, 'n_estimators': 415, 'max_depth': 11, 'random_state': 667, 'min_child_weight': 218}. Best is trial 50 with value: 51.11573111570533.\n"
     ]
    },
    {
     "name": "stdout",
     "output_type": "stream",
     "text": [
      "Mean Absolute Error: 63.97931220386247\n",
      "Mean Absolute Error: 66.10185704392995\n",
      "Mean Absolute Error: 31.439345953275453\n"
     ]
    },
    {
     "name": "stderr",
     "output_type": "stream",
     "text": [
      "[I 2023-10-25 15:09:00,970] Trial 96 finished with value: 52.445301128891366 and parameters: {'lambda': 0.012103933750717694, 'alpha': 4.8054706109053775, 'colsample_bytree': 0.4, 'subsample': 0.8, 'learning_rate': 0.4980229337344868, 'n_estimators': 484, 'max_depth': 5, 'random_state': 702, 'min_child_weight': 192}. Best is trial 50 with value: 51.11573111570533.\n"
     ]
    },
    {
     "name": "stdout",
     "output_type": "stream",
     "text": [
      "Mean Absolute Error: 63.364764487093176\n",
      "Mean Absolute Error: 64.66632348069962\n",
      "Mean Absolute Error: 29.3048154188813\n",
      "Mean Absolute Error: 65.14577360596736\n",
      "Mean Absolute Error: 66.26057970772163\n"
     ]
    },
    {
     "name": "stderr",
     "output_type": "stream",
     "text": [
      "[I 2023-10-25 15:09:01,874] Trial 97 finished with value: 54.414244922730575 and parameters: {'lambda': 0.015974817848397348, 'alpha': 6.886722523662919, 'colsample_bytree': 0.8, 'subsample': 0.7, 'learning_rate': 0.5779799112311006, 'n_estimators': 548, 'max_depth': 5, 'random_state': 560, 'min_child_weight': 179}. Best is trial 50 with value: 51.11573111570533.\n"
     ]
    },
    {
     "name": "stdout",
     "output_type": "stream",
     "text": [
      "Mean Absolute Error: 31.836381454502703\n",
      "Mean Absolute Error: 63.577945443411664\n"
     ]
    },
    {
     "name": "stderr",
     "output_type": "stream",
     "text": [
      "[I 2023-10-25 15:09:04,187] Trial 98 finished with value: 52.548398096414076 and parameters: {'lambda': 0.006345226151192014, 'alpha': 1.605906264712225, 'colsample_bytree': 0.3, 'subsample': 0.7, 'learning_rate': 0.3669511889678933, 'n_estimators': 375, 'max_depth': 5, 'random_state': 507, 'min_child_weight': 201}. Best is trial 50 with value: 51.11573111570533.\n"
     ]
    },
    {
     "name": "stdout",
     "output_type": "stream",
     "text": [
      "Mean Absolute Error: 64.64101190228746\n",
      "Mean Absolute Error: 29.42623694354309\n"
     ]
    },
    {
     "name": "stderr",
     "output_type": "stream",
     "text": [
      "[I 2023-10-25 15:09:04,509] Trial 99 finished with value: 53.58466711770064 and parameters: {'lambda': 0.010370446361436827, 'alpha': 2.9385753747061725, 'colsample_bytree': 0.4, 'subsample': 0.7, 'learning_rate': 0.2692598886950198, 'n_estimators': 307, 'max_depth': 17, 'random_state': 812, 'min_child_weight': 244}. Best is trial 50 with value: 51.11573111570533.\n"
     ]
    },
    {
     "name": "stdout",
     "output_type": "stream",
     "text": [
      "Mean Absolute Error: 63.79688576521186\n",
      "Mean Absolute Error: 65.22655774251378\n",
      "Mean Absolute Error: 31.730557845376286\n"
     ]
    },
    {
     "name": "stderr",
     "output_type": "stream",
     "text": [
      "[I 2023-10-25 15:09:04,819] Trial 100 finished with value: 58.01862070368963 and parameters: {'lambda': 0.00891572963908683, 'alpha': 2.068180467762308, 'colsample_bytree': 0.9, 'subsample': 0.7, 'learning_rate': 0.7846991728506371, 'n_estimators': 454, 'max_depth': 9, 'random_state': 765, 'min_child_weight': 158}. Best is trial 50 with value: 51.11573111570533.\n"
     ]
    },
    {
     "name": "stdout",
     "output_type": "stream",
     "text": [
      "Mean Absolute Error: 67.260913778572\n",
      "Mean Absolute Error: 69.60898212518727\n",
      "Mean Absolute Error: 37.18596620730961\n"
     ]
    },
    {
     "name": "stderr",
     "output_type": "stream",
     "text": [
      "[I 2023-10-25 15:09:05,077] Trial 101 finished with value: 51.65602348512036 and parameters: {'lambda': 0.004751002755857845, 'alpha': 1.1299157969318037, 'colsample_bytree': 0.4, 'subsample': 0.7, 'learning_rate': 0.44649852207668017, 'n_estimators': 430, 'max_depth': 5, 'random_state': 655, 'min_child_weight': 256}. Best is trial 50 with value: 51.11573111570533.\n"
     ]
    },
    {
     "name": "stdout",
     "output_type": "stream",
     "text": [
      "Mean Absolute Error: 64.46163835010408\n",
      "Mean Absolute Error: 63.69946020533903\n",
      "Mean Absolute Error: 26.806971899917958\n"
     ]
    },
    {
     "name": "stderr",
     "output_type": "stream",
     "text": [
      "[I 2023-10-25 15:09:05,347] Trial 102 finished with value: 51.45698486171715 and parameters: {'lambda': 0.004242572820387502, 'alpha': 3.651384168004771, 'colsample_bytree': 0.4, 'subsample': 0.7, 'learning_rate': 0.4478075257398557, 'n_estimators': 422, 'max_depth': 5, 'random_state': 615, 'min_child_weight': 278}. Best is trial 50 with value: 51.11573111570533.\n"
     ]
    },
    {
     "name": "stdout",
     "output_type": "stream",
     "text": [
      "Mean Absolute Error: 64.61479135687448\n",
      "Mean Absolute Error: 62.41649766582744\n",
      "Mean Absolute Error: 27.339665562449543\n"
     ]
    },
    {
     "name": "stderr",
     "output_type": "stream",
     "text": [
      "[I 2023-10-25 15:09:05,607] Trial 103 finished with value: 53.48180386010642 and parameters: {'lambda': 0.00380112783795511, 'alpha': 2.198730755083488, 'colsample_bytree': 0.4, 'subsample': 0.4, 'learning_rate': 0.4434001822947958, 'n_estimators': 430, 'max_depth': 5, 'random_state': 685, 'min_child_weight': 277}. Best is trial 50 with value: 51.11573111570533.\n"
     ]
    },
    {
     "name": "stdout",
     "output_type": "stream",
     "text": [
      "Mean Absolute Error: 66.82108319260243\n",
      "Mean Absolute Error: 64.01571386869526\n",
      "Mean Absolute Error: 29.60861451902155\n"
     ]
    },
    {
     "name": "stderr",
     "output_type": "stream",
     "text": [
      "[I 2023-10-25 15:09:05,878] Trial 104 finished with value: 52.10094993194168 and parameters: {'lambda': 0.004702570317360636, 'alpha': 3.386534084394114, 'colsample_bytree': 0.4, 'subsample': 0.7, 'learning_rate': 0.57523506234789, 'n_estimators': 506, 'max_depth': 5, 'random_state': 637, 'min_child_weight': 269}. Best is trial 50 with value: 51.11573111570533.\n"
     ]
    },
    {
     "name": "stdout",
     "output_type": "stream",
     "text": [
      "Mean Absolute Error: 64.25009852406595\n",
      "Mean Absolute Error: 63.57577318251058\n",
      "Mean Absolute Error: 28.476978089248508\n"
     ]
    },
    {
     "name": "stderr",
     "output_type": "stream",
     "text": [
      "[I 2023-10-25 15:09:06,139] Trial 105 finished with value: 55.307169604141905 and parameters: {'lambda': 0.004791426160904544, 'alpha': 3.5732035061643863, 'colsample_bytree': 0.4, 'subsample': 0.7, 'learning_rate': 0.6321555820095501, 'n_estimators': 524, 'max_depth': 5, 'random_state': 733, 'min_child_weight': 267}. Best is trial 50 with value: 51.11573111570533.\n"
     ]
    },
    {
     "name": "stdout",
     "output_type": "stream",
     "text": [
      "Mean Absolute Error: 65.47674052971367\n",
      "Mean Absolute Error: 66.82438818511669\n",
      "Mean Absolute Error: 33.62038009759537\n"
     ]
    },
    {
     "name": "stderr",
     "output_type": "stream",
     "text": [
      "[I 2023-10-25 15:09:06,389] Trial 106 finished with value: 52.64494018076521 and parameters: {'lambda': 0.0029176186355794956, 'alpha': 2.902555830556561, 'colsample_bytree': 0.4, 'subsample': 0.7, 'learning_rate': 0.5331669562283899, 'n_estimators': 502, 'max_depth': 5, 'random_state': 647, 'min_child_weight': 281}. Best is trial 50 with value: 51.11573111570533.\n"
     ]
    },
    {
     "name": "stdout",
     "output_type": "stream",
     "text": [
      "Mean Absolute Error: 63.68011671954908\n",
      "Mean Absolute Error: 64.73938830006334\n",
      "Mean Absolute Error: 29.515315522683206\n"
     ]
    },
    {
     "name": "stderr",
     "output_type": "stream",
     "text": [
      "[I 2023-10-25 15:09:06,653] Trial 107 finished with value: 56.628713421539736 and parameters: {'lambda': 0.0020988192158431715, 'alpha': 4.316954533173351, 'colsample_bytree': 0.4, 'subsample': 0.7, 'learning_rate': 0.8247601111923516, 'n_estimators': 481, 'max_depth': 5, 'random_state': 622, 'min_child_weight': 288}. Best is trial 50 with value: 51.11573111570533.\n"
     ]
    },
    {
     "name": "stdout",
     "output_type": "stream",
     "text": [
      "Mean Absolute Error: 67.96931708593608\n",
      "Mean Absolute Error: 66.33462948914296\n",
      "Mean Absolute Error: 35.582193689540176\n"
     ]
    },
    {
     "name": "stderr",
     "output_type": "stream",
     "text": [
      "[I 2023-10-25 15:09:06,913] Trial 108 finished with value: 59.44997092114414 and parameters: {'lambda': 0.004188296939342827, 'alpha': 1.1338208786829995, 'colsample_bytree': 0.4, 'subsample': 0.6, 'learning_rate': 0.9949219739361971, 'n_estimators': 558, 'max_depth': 5, 'random_state': 663, 'min_child_weight': 254}. Best is trial 50 with value: 51.11573111570533.\n"
     ]
    },
    {
     "name": "stdout",
     "output_type": "stream",
     "text": [
      "Mean Absolute Error: 70.25803879108568\n",
      "Mean Absolute Error: 73.23736460685313\n",
      "Mean Absolute Error: 34.85450936549361\n"
     ]
    },
    {
     "name": "stderr",
     "output_type": "stream",
     "text": [
      "[I 2023-10-25 15:09:07,228] Trial 109 finished with value: 54.043686899142074 and parameters: {'lambda': 0.0035554978498518767, 'alpha': 3.219253427691708, 'colsample_bytree': 0.4, 'subsample': 0.7, 'learning_rate': 0.4701174271146613, 'n_estimators': 622, 'max_depth': 15, 'random_state': 532, 'min_child_weight': 263}. Best is trial 50 with value: 51.11573111570533.\n"
     ]
    },
    {
     "name": "stdout",
     "output_type": "stream",
     "text": [
      "Mean Absolute Error: 64.58729119025305\n",
      "Mean Absolute Error: 66.66816152006209\n",
      "Mean Absolute Error: 30.87560798711111\n"
     ]
    },
    {
     "name": "stderr",
     "output_type": "stream",
     "text": [
      "[I 2023-10-25 15:09:07,547] Trial 110 finished with value: 57.5411286455332 and parameters: {'lambda': 0.007124990534429367, 'alpha': 8.35225372646331, 'colsample_bytree': 0.4, 'subsample': 0.7, 'learning_rate': 0.7147567099177744, 'n_estimators': 464, 'max_depth': 11, 'random_state': 745, 'min_child_weight': 250}. Best is trial 50 with value: 51.11573111570533.\n"
     ]
    },
    {
     "name": "stdout",
     "output_type": "stream",
     "text": [
      "Mean Absolute Error: 66.61370281986112\n",
      "Mean Absolute Error: 69.33937595074795\n",
      "Mean Absolute Error: 36.67030716599053\n"
     ]
    },
    {
     "name": "stderr",
     "output_type": "stream",
     "text": [
      "[I 2023-10-25 15:09:07,801] Trial 111 finished with value: 51.36978601611299 and parameters: {'lambda': 0.00499555408410725, 'alpha': 1.6541006114770527, 'colsample_bytree': 0.4, 'subsample': 0.7, 'learning_rate': 0.37618896405818286, 'n_estimators': 418, 'max_depth': 5, 'random_state': 589, 'min_child_weight': 274}. Best is trial 50 with value: 51.11573111570533.\n"
     ]
    },
    {
     "name": "stdout",
     "output_type": "stream",
     "text": [
      "Mean Absolute Error: 62.86005741163635\n",
      "Mean Absolute Error: 63.963653784655534\n",
      "Mean Absolute Error: 27.285646852047105\n"
     ]
    },
    {
     "name": "stderr",
     "output_type": "stream",
     "text": [
      "[I 2023-10-25 15:09:08,053] Trial 112 finished with value: 53.16694601232931 and parameters: {'lambda': 0.0051927770861100505, 'alpha': 1.5235252146817182, 'colsample_bytree': 0.4, 'subsample': 0.7, 'learning_rate': 0.37725751404628854, 'n_estimators': 424, 'max_depth': 5, 'random_state': 573, 'min_child_weight': 270}. Best is trial 50 with value: 51.11573111570533.\n"
     ]
    },
    {
     "name": "stdout",
     "output_type": "stream",
     "text": [
      "Mean Absolute Error: 64.69918034531165\n",
      "Mean Absolute Error: 64.42274583845035\n",
      "Mean Absolute Error: 30.37891185322593\n"
     ]
    },
    {
     "name": "stderr",
     "output_type": "stream",
     "text": [
      "[I 2023-10-25 15:09:08,319] Trial 113 finished with value: 53.2929572540425 and parameters: {'lambda': 0.0044392570208205825, 'alpha': 2.2453556073792376, 'colsample_bytree': 0.4, 'subsample': 0.7, 'learning_rate': 0.5706175379283329, 'n_estimators': 347, 'max_depth': 5, 'random_state': 624, 'min_child_weight': 275}. Best is trial 50 with value: 51.11573111570533.\n"
     ]
    },
    {
     "name": "stdout",
     "output_type": "stream",
     "text": [
      "Mean Absolute Error: 66.12578690921329\n",
      "Mean Absolute Error: 63.70602997156661\n",
      "Mean Absolute Error: 30.04705488134757\n"
     ]
    },
    {
     "name": "stderr",
     "output_type": "stream",
     "text": [
      "[I 2023-10-25 15:09:08,580] Trial 114 finished with value: 55.85772765515145 and parameters: {'lambda': 0.0062545578903834284, 'alpha': 3.9334002129944308, 'colsample_bytree': 0.4, 'subsample': 0.7, 'learning_rate': 0.22541176155912418, 'n_estimators': 386, 'max_depth': 5, 'random_state': 683, 'min_child_weight': 289}. Best is trial 50 with value: 51.11573111570533.\n"
     ]
    },
    {
     "name": "stdout",
     "output_type": "stream",
     "text": [
      "Mean Absolute Error: 64.69677412638471\n",
      "Mean Absolute Error: 68.97463957537309\n",
      "Mean Absolute Error: 33.90176926369655\n"
     ]
    },
    {
     "name": "stderr",
     "output_type": "stream",
     "text": [
      "[I 2023-10-25 15:09:08,842] Trial 115 finished with value: 52.25561905661638 and parameters: {'lambda': 0.0025364119128665876, 'alpha': 6.071338820894022, 'colsample_bytree': 0.4, 'subsample': 0.7, 'learning_rate': 0.4314593987548633, 'n_estimators': 411, 'max_depth': 5, 'random_state': 643, 'min_child_weight': 260}. Best is trial 50 with value: 51.11573111570533.\n"
     ]
    },
    {
     "name": "stdout",
     "output_type": "stream",
     "text": [
      "Mean Absolute Error: 64.14251336323369\n",
      "Mean Absolute Error: 64.17241542207053\n",
      "Mean Absolute Error: 28.451928384544924\n"
     ]
    },
    {
     "name": "stderr",
     "output_type": "stream",
     "text": [
      "[I 2023-10-25 15:09:09,119] Trial 116 finished with value: 54.04289965852758 and parameters: {'lambda': 0.003261389687058184, 'alpha': 2.7020363233728237, 'colsample_bytree': 0.4, 'subsample': 0.7, 'learning_rate': 0.6838942572644442, 'n_estimators': 448, 'max_depth': 5, 'random_state': 599, 'min_child_weight': 294}. Best is trial 50 with value: 51.11573111570533.\n"
     ]
    },
    {
     "name": "stdout",
     "output_type": "stream",
     "text": [
      "Mean Absolute Error: 66.02185986020599\n",
      "Mean Absolute Error: 66.03782864387964\n",
      "Mean Absolute Error: 30.069010471497126\n"
     ]
    },
    {
     "name": "stderr",
     "output_type": "stream",
     "text": [
      "[I 2023-10-25 15:09:09,383] Trial 117 finished with value: 51.76694963530505 and parameters: {'lambda': 0.008443100779206236, 'alpha': 1.8228838137765835, 'colsample_bytree': 0.4, 'subsample': 0.8, 'learning_rate': 0.34152077781285817, 'n_estimators': 515, 'max_depth': 5, 'random_state': 704, 'min_child_weight': 229}. Best is trial 50 with value: 51.11573111570533.\n"
     ]
    },
    {
     "name": "stdout",
     "output_type": "stream",
     "text": [
      "Mean Absolute Error: 63.119386749253366\n",
      "Mean Absolute Error: 63.636761055553485\n",
      "Mean Absolute Error: 28.544701101108295\n"
     ]
    },
    {
     "name": "stderr",
     "output_type": "stream",
     "text": [
      "[I 2023-10-25 15:09:09,656] Trial 118 finished with value: 63.199122313559435 and parameters: {'lambda': 0.008309662573925018, 'alpha': 1.7310770336062842, 'colsample_bytree': 0.4, 'subsample': 0.8, 'learning_rate': 0.17256707719361777, 'n_estimators': 477, 'max_depth': 5, 'random_state': 710, 'min_child_weight': 243}. Best is trial 50 with value: 51.11573111570533.\n"
     ]
    },
    {
     "name": "stdout",
     "output_type": "stream",
     "text": [
      "Mean Absolute Error: 70.99931552281572\n",
      "Mean Absolute Error: 76.01138283338656\n",
      "Mean Absolute Error: 42.58666858447602\n"
     ]
    },
    {
     "name": "stderr",
     "output_type": "stream",
     "text": [
      "[I 2023-10-25 15:09:09,923] Trial 119 finished with value: 52.37927332999575 and parameters: {'lambda': 0.006737395212003248, 'alpha': 1.3857939405888655, 'colsample_bytree': 0.7, 'subsample': 0.8, 'learning_rate': 0.3365920214825171, 'n_estimators': 404, 'max_depth': 5, 'random_state': 796, 'min_child_weight': 229}. Best is trial 50 with value: 51.11573111570533.\n"
     ]
    },
    {
     "name": "stdout",
     "output_type": "stream",
     "text": [
      "Mean Absolute Error: 62.96470091336678\n",
      "Mean Absolute Error: 64.10821762570606\n",
      "Mean Absolute Error: 30.064901450914377\n"
     ]
    },
    {
     "name": "stderr",
     "output_type": "stream",
     "text": [
      "[I 2023-10-25 15:09:10,241] Trial 120 finished with value: 57.076139429206535 and parameters: {'lambda': 0.005606262924209183, 'alpha': 1.0676050056567705, 'colsample_bytree': 0.4, 'subsample': 0.8, 'learning_rate': 0.20125011930660314, 'n_estimators': 361, 'max_depth': 17, 'random_state': 663, 'min_child_weight': 219}. Best is trial 50 with value: 51.11573111570533.\n"
     ]
    },
    {
     "name": "stdout",
     "output_type": "stream",
     "text": [
      "Mean Absolute Error: 64.51409489619273\n",
      "Mean Absolute Error: 69.66038771204155\n",
      "Mean Absolute Error: 37.05393567938532\n",
      "Mean Absolute Error: 64.50240951203818\n",
      "Mean Absolute Error: 65.19504067324515\n"
     ]
    },
    {
     "name": "stderr",
     "output_type": "stream",
     "text": [
      "[I 2023-10-25 15:09:10,585] Trial 121 finished with value: 52.65395512843173 and parameters: {'lambda': 0.004551965429534203, 'alpha': 2.1992942198418075, 'colsample_bytree': 0.4, 'subsample': 0.8, 'learning_rate': 0.5103026720360202, 'n_estimators': 496, 'max_depth': 5, 'random_state': 731, 'min_child_weight': 238}. Best is trial 50 with value: 51.11573111570533.\n"
     ]
    },
    {
     "name": "stdout",
     "output_type": "stream",
     "text": [
      "Mean Absolute Error: 28.26441520001185\n",
      "Mean Absolute Error: 62.8940796250962\n",
      "Mean Absolute Error: 63.40493747568017\n"
     ]
    },
    {
     "name": "stderr",
     "output_type": "stream",
     "text": [
      "[I 2023-10-25 15:09:10,866] Trial 122 finished with value: 51.26811710168437 and parameters: {'lambda': 0.003902897204644893, 'alpha': 3.574791022282252, 'colsample_bytree': 0.4, 'subsample': 0.7, 'learning_rate': 0.3973014510145645, 'n_estimators': 508, 'max_depth': 5, 'random_state': 695, 'min_child_weight': 279}. Best is trial 50 with value: 51.11573111570533.\n"
     ]
    },
    {
     "name": "stdout",
     "output_type": "stream",
     "text": [
      "Mean Absolute Error: 27.505334204276732\n",
      "Mean Absolute Error: 63.60158918687122\n",
      "Mean Absolute Error: 66.1683296925118\n"
     ]
    },
    {
     "name": "stderr",
     "output_type": "stream",
     "text": [
      "[I 2023-10-25 15:09:11,132] Trial 123 finished with value: 53.367188460371715 and parameters: {'lambda': 0.0037421489928738754, 'alpha': 4.6452761398959135, 'colsample_bytree': 0.4, 'subsample': 0.7, 'learning_rate': 0.25834047387715386, 'n_estimators': 522, 'max_depth': 5, 'random_state': 689, 'min_child_weight': 283}. Best is trial 50 with value: 51.11573111570533.\n"
     ]
    },
    {
     "name": "stdout",
     "output_type": "stream",
     "text": [
      "Mean Absolute Error: 30.33164650173211\n",
      "Mean Absolute Error: 61.95235061975074\n",
      "Mean Absolute Error: 62.830658815990105\n"
     ]
    },
    {
     "name": "stderr",
     "output_type": "stream",
     "text": [
      "[I 2023-10-25 15:09:11,414] Trial 124 finished with value: 50.7251444885347 and parameters: {'lambda': 0.009233382069554898, 'alpha': 1.9414732014337417, 'colsample_bytree': 0.4, 'subsample': 1.0, 'learning_rate': 0.3878750368172043, 'n_estimators': 440, 'max_depth': 5, 'random_state': 65, 'min_child_weight': 300}. Best is trial 124 with value: 50.7251444885347.\n"
     ]
    },
    {
     "name": "stdout",
     "output_type": "stream",
     "text": [
      "Mean Absolute Error: 27.39242402986326\n",
      "Mean Absolute Error: 62.4311059360631\n",
      "Mean Absolute Error: 65.0858079296102\n"
     ]
    },
    {
     "name": "stderr",
     "output_type": "stream",
     "text": [
      "[I 2023-10-25 15:09:11,678] Trial 125 finished with value: 51.415688821122124 and parameters: {'lambda': 0.009420083973193726, 'alpha': 1.2083973411112616, 'colsample_bytree': 0.4, 'subsample': 1.0, 'learning_rate': 0.36795945140474057, 'n_estimators': 457, 'max_depth': 5, 'random_state': 57, 'min_child_weight': 278}. Best is trial 124 with value: 50.7251444885347.\n"
     ]
    },
    {
     "name": "stdout",
     "output_type": "stream",
     "text": [
      "Mean Absolute Error: 26.730152597693053\n",
      "Mean Absolute Error: 62.859321716906905\n",
      "Mean Absolute Error: 63.03817853813938\n"
     ]
    },
    {
     "name": "stderr",
     "output_type": "stream",
     "text": [
      "[I 2023-10-25 15:09:11,948] Trial 126 finished with value: 51.9108372448436 and parameters: {'lambda': 0.007447990112298797, 'alpha': 1.1667364646099476, 'colsample_bytree': 0.8, 'subsample': 1.0, 'learning_rate': 0.36956127505249325, 'n_estimators': 451, 'max_depth': 5, 'random_state': 87, 'min_child_weight': 297}. Best is trial 124 with value: 50.7251444885347.\n"
     ]
    },
    {
     "name": "stdout",
     "output_type": "stream",
     "text": [
      "Mean Absolute Error: 29.8350114794845\n",
      "Mean Absolute Error: 64.04651166796387\n"
     ]
    },
    {
     "name": "stderr",
     "output_type": "stream",
     "text": [
      "[I 2023-10-25 15:09:12,262] Trial 127 finished with value: 56.209848574792055 and parameters: {'lambda': 0.009623710132685455, 'alpha': 1.4757899731858595, 'colsample_bytree': 0.4, 'subsample': 1.0, 'learning_rate': 0.21708047499896116, 'n_estimators': 560, 'max_depth': 9, 'random_state': 64, 'min_child_weight': 299}. Best is trial 124 with value: 50.7251444885347.\n"
     ]
    },
    {
     "name": "stdout",
     "output_type": "stream",
     "text": [
      "Mean Absolute Error: 69.53783298876664\n",
      "Mean Absolute Error: 35.04520106764566\n"
     ]
    },
    {
     "name": "stderr",
     "output_type": "stream",
     "text": [
      "[I 2023-10-25 15:09:12,548] Trial 128 finished with value: 52.960165404303176 and parameters: {'lambda': 0.011512938189612118, 'alpha': 0.8265335917222673, 'colsample_bytree': 0.4, 'subsample': 1.0, 'learning_rate': 0.29532969712256985, 'n_estimators': 439, 'max_depth': 5, 'random_state': 117, 'min_child_weight': 278}. Best is trial 124 with value: 50.7251444885347.\n"
     ]
    },
    {
     "name": "stdout",
     "output_type": "stream",
     "text": [
      "Mean Absolute Error: 63.898296872026854\n",
      "Mean Absolute Error: 65.16499775822497\n",
      "Mean Absolute Error: 29.81720158265771\n"
     ]
    },
    {
     "name": "stderr",
     "output_type": "stream",
     "text": [
      "[I 2023-10-25 15:09:12,807] Trial 129 finished with value: 68.43042991324256 and parameters: {'lambda': 0.013634262233776007, 'alpha': 1.824847659511499, 'colsample_bytree': 0.3, 'subsample': 1.0, 'learning_rate': 0.13194646348712252, 'n_estimators': 474, 'max_depth': 5, 'random_state': 1, 'min_child_weight': 282}. Best is trial 124 with value: 50.7251444885347.\n"
     ]
    },
    {
     "name": "stdout",
     "output_type": "stream",
     "text": [
      "Mean Absolute Error: 73.52783333896936\n",
      "Mean Absolute Error: 80.72053729517722\n",
      "Mean Absolute Error: 51.04291910558113\n"
     ]
    },
    {
     "name": "stderr",
     "output_type": "stream",
     "text": [
      "[I 2023-10-25 15:09:13,075] Trial 130 finished with value: 52.273347356670335 and parameters: {'lambda': 0.008885387323231747, 'alpha': 1.3325624617191019, 'colsample_bytree': 0.4, 'subsample': 1.0, 'learning_rate': 0.3987152577343551, 'n_estimators': 379, 'max_depth': 5, 'random_state': 245, 'min_child_weight': 291}. Best is trial 124 with value: 50.7251444885347.\n"
     ]
    },
    {
     "name": "stdout",
     "output_type": "stream",
     "text": [
      "Mean Absolute Error: 63.474028836706246\n",
      "Mean Absolute Error: 65.40177037084452\n",
      "Mean Absolute Error: 27.94424286246024\n",
      "Mean Absolute Error: 62.97922523386974\n",
      "Mean Absolute Error: 65.30086612272608\n"
     ]
    },
    {
     "name": "stderr",
     "output_type": "stream",
     "text": [
      "[I 2023-10-25 15:09:13,464] Trial 131 finished with value: 52.409911445822296 and parameters: {'lambda': 0.00738821178112682, 'alpha': 0.6326169970617449, 'colsample_bytree': 0.8, 'subsample': 1.0, 'learning_rate': 0.3643305483984041, 'n_estimators': 455, 'max_depth': 5, 'random_state': 69, 'min_child_weight': 285}. Best is trial 124 with value: 50.7251444885347.\n"
     ]
    },
    {
     "name": "stdout",
     "output_type": "stream",
     "text": [
      "Mean Absolute Error: 28.949642980871058\n",
      "Mean Absolute Error: 67.05239692726734\n",
      "Mean Absolute Error: 63.946733923185725\n"
     ]
    },
    {
     "name": "stderr",
     "output_type": "stream",
     "text": [
      "[I 2023-10-25 15:09:13,729] Trial 132 finished with value: 53.12795141602654 and parameters: {'lambda': 0.006583481221521121, 'alpha': 1.0370806665950114, 'colsample_bytree': 0.8, 'subsample': 0.4, 'learning_rate': 0.33406245602383705, 'n_estimators': 518, 'max_depth': 5, 'random_state': 102, 'min_child_weight': 300}. Best is trial 124 with value: 50.7251444885347.\n"
     ]
    },
    {
     "name": "stdout",
     "output_type": "stream",
     "text": [
      "Mean Absolute Error: 28.38472339762653\n",
      "Mean Absolute Error: 63.90085845239836\n",
      "Mean Absolute Error: 65.10146060195555\n"
     ]
    },
    {
     "name": "stderr",
     "output_type": "stream",
     "text": [
      "[I 2023-10-25 15:09:13,998] Trial 133 finished with value: 52.81398083053051 and parameters: {'lambda': 0.005941821375984042, 'alpha': 1.8978794608603105, 'colsample_bytree': 0.8, 'subsample': 1.0, 'learning_rate': 0.47340309910884515, 'n_estimators': 402, 'max_depth': 5, 'random_state': 170, 'min_child_weight': 293}. Best is trial 124 with value: 50.7251444885347.\n"
     ]
    },
    {
     "name": "stdout",
     "output_type": "stream",
     "text": [
      "Mean Absolute Error: 29.439623437237618\n",
      "Mean Absolute Error: 62.236607240722954\n",
      "Mean Absolute Error: 65.02105223126134\n"
     ]
    },
    {
     "name": "stderr",
     "output_type": "stream",
     "text": [
      "[I 2023-10-25 15:09:14,269] Trial 134 finished with value: 52.95391498032583 and parameters: {'lambda': 0.007763364927456781, 'alpha': 0.7552380875654384, 'colsample_bytree': 0.8, 'subsample': 1.0, 'learning_rate': 0.28167347136044846, 'n_estimators': 488, 'max_depth': 5, 'random_state': 407, 'min_child_weight': 274}. Best is trial 124 with value: 50.7251444885347.\n"
     ]
    },
    {
     "name": "stdout",
     "output_type": "stream",
     "text": [
      "Mean Absolute Error: 31.6040854689932\n",
      "Mean Absolute Error: 66.90966958475897\n",
      "Mean Absolute Error: 73.26783546813417\n"
     ]
    },
    {
     "name": "stderr",
     "output_type": "stream",
     "text": [
      "[I 2023-10-25 15:09:14,553] Trial 135 finished with value: 60.58710585991768 and parameters: {'lambda': 0.010424148322254556, 'alpha': 1.1457591425459817, 'colsample_bytree': 0.4, 'subsample': 1.0, 'learning_rate': 0.16618764848619183, 'n_estimators': 460, 'max_depth': 7, 'random_state': 21, 'min_child_weight': 300}. Best is trial 124 with value: 50.7251444885347.\n"
     ]
    },
    {
     "name": "stdout",
     "output_type": "stream",
     "text": [
      "Mean Absolute Error: 41.5838125268599\n",
      "Mean Absolute Error: 62.04238102853343\n",
      "Mean Absolute Error: 63.80876119039354\n"
     ]
    },
    {
     "name": "stderr",
     "output_type": "stream",
     "text": [
      "[I 2023-10-25 15:09:14,829] Trial 136 finished with value: 51.584769520364055 and parameters: {'lambda': 0.005492531956303957, 'alpha': 1.2817750504964045, 'colsample_bytree': 0.9, 'subsample': 1.0, 'learning_rate': 0.4063350000327644, 'n_estimators': 536, 'max_depth': 5, 'random_state': 51, 'min_child_weight': 234}. Best is trial 124 with value: 50.7251444885347.\n"
     ]
    },
    {
     "name": "stdout",
     "output_type": "stream",
     "text": [
      "Mean Absolute Error: 28.9031663421652\n",
      "Mean Absolute Error: 62.8332998229573\n"
     ]
    },
    {
     "name": "stderr",
     "output_type": "stream",
     "text": [
      "[I 2023-10-25 15:09:15,134] Trial 137 finished with value: 56.60827919840262 and parameters: {'lambda': 0.003746933275563624, 'alpha': 0.5144703316927409, 'colsample_bytree': 0.9, 'subsample': 1.0, 'learning_rate': 0.23707474474056522, 'n_estimators': 535, 'max_depth': 5, 'random_state': 313, 'min_child_weight': 4}. Best is trial 124 with value: 50.7251444885347.\n"
     ]
    },
    {
     "name": "stdout",
     "output_type": "stream",
     "text": [
      "Mean Absolute Error: 70.71199402590128\n",
      "Mean Absolute Error: 36.27954374634928\n",
      "Mean Absolute Error: 63.077828756087484\n",
      "Mean Absolute Error: 65.8095611073326\n"
     ]
    },
    {
     "name": "stderr",
     "output_type": "stream",
     "text": [
      "[I 2023-10-25 15:09:15,513] Trial 138 finished with value: 53.18101564340535 and parameters: {'lambda': 0.002730448945501196, 'alpha': 1.7348185801924652, 'colsample_bytree': 0.9, 'subsample': 1.0, 'learning_rate': 0.442647647468709, 'n_estimators': 578, 'max_depth': 15, 'random_state': 41, 'min_child_weight': 250}. Best is trial 124 with value: 50.7251444885347.\n"
     ]
    },
    {
     "name": "stdout",
     "output_type": "stream",
     "text": [
      "Mean Absolute Error: 30.655657066795968\n",
      "Mean Absolute Error: 68.1306874750155\n"
     ]
    },
    {
     "name": "stderr",
     "output_type": "stream",
     "text": [
      "[I 2023-10-25 15:09:15,841] Trial 139 finished with value: 57.16638917147579 and parameters: {'lambda': 0.005050453661458198, 'alpha': 2.5206073897109844, 'colsample_bytree': 0.9, 'subsample': 0.8, 'learning_rate': 0.6796268151273709, 'n_estimators': 433, 'max_depth': 11, 'random_state': 759, 'min_child_weight': 236}. Best is trial 124 with value: 50.7251444885347.\n"
     ]
    },
    {
     "name": "stdout",
     "output_type": "stream",
     "text": [
      "Mean Absolute Error: 68.72796020029509\n",
      "Mean Absolute Error: 34.6405198391168\n"
     ]
    },
    {
     "name": "stderr",
     "output_type": "stream",
     "text": [
      "[I 2023-10-25 15:09:16,140] Trial 140 finished with value: 52.724966480474215 and parameters: {'lambda': 0.013768928284030852, 'alpha': 3.8228366159292584, 'colsample_bytree': 0.9, 'subsample': 1.0, 'learning_rate': 0.3087526016704643, 'n_estimators': 545, 'max_depth': 5, 'random_state': 54, 'min_child_weight': 221}. Best is trial 124 with value: 50.7251444885347.\n"
     ]
    },
    {
     "name": "stdout",
     "output_type": "stream",
     "text": [
      "Mean Absolute Error: 62.37034835497618\n",
      "Mean Absolute Error: 65.93480806140619\n",
      "Mean Absolute Error: 29.869743025040258\n"
     ]
    },
    {
     "name": "stderr",
     "output_type": "stream",
     "text": [
      "[I 2023-10-25 15:09:16,417] Trial 141 finished with value: 51.500558833648064 and parameters: {'lambda': 0.0057461535995636005, 'alpha': 1.1657387485158979, 'colsample_bytree': 0.4, 'subsample': 1.0, 'learning_rate': 0.38006192878067513, 'n_estimators': 466, 'max_depth': 5, 'random_state': 87, 'min_child_weight': 229}. Best is trial 124 with value: 50.7251444885347.\n"
     ]
    },
    {
     "name": "stdout",
     "output_type": "stream",
     "text": [
      "Mean Absolute Error: 62.9948843173865\n",
      "Mean Absolute Error: 63.39101691398987\n",
      "Mean Absolute Error: 28.115775269567827\n"
     ]
    },
    {
     "name": "stderr",
     "output_type": "stream",
     "text": [
      "[I 2023-10-25 15:09:16,687] Trial 142 finished with value: 52.72848018381097 and parameters: {'lambda': 0.005904467515189663, 'alpha': 1.351293600289186, 'colsample_bytree': 0.4, 'subsample': 1.0, 'learning_rate': 0.515802980645666, 'n_estimators': 491, 'max_depth': 5, 'random_state': 147, 'min_child_weight': 232}. Best is trial 124 with value: 50.7251444885347.\n"
     ]
    },
    {
     "name": "stdout",
     "output_type": "stream",
     "text": [
      "Mean Absolute Error: 63.74410822512921\n",
      "Mean Absolute Error: 63.50887221676286\n",
      "Mean Absolute Error: 30.93246010954084\n"
     ]
    },
    {
     "name": "stderr",
     "output_type": "stream",
     "text": [
      "[I 2023-10-25 15:09:16,957] Trial 143 finished with value: 52.156443985151924 and parameters: {'lambda': 0.003246418799367518, 'alpha': 0.8933712847828528, 'colsample_bytree': 0.4, 'subsample': 1.0, 'learning_rate': 0.40833216053176263, 'n_estimators': 467, 'max_depth': 5, 'random_state': 81, 'min_child_weight': 257}. Best is trial 124 with value: 50.7251444885347.\n"
     ]
    },
    {
     "name": "stdout",
     "output_type": "stream",
     "text": [
      "Mean Absolute Error: 63.36974471760761\n",
      "Mean Absolute Error: 63.934081423053485\n",
      "Mean Absolute Error: 29.16550581479468\n"
     ]
    },
    {
     "name": "stderr",
     "output_type": "stream",
     "text": [
      "[I 2023-10-25 15:09:17,229] Trial 144 finished with value: 53.942156107454814 and parameters: {'lambda': 0.004196336388936597, 'alpha': 2.1646076062229094, 'colsample_bytree': 0.4, 'subsample': 1.0, 'learning_rate': 0.2636922190274775, 'n_estimators': 512, 'max_depth': 5, 'random_state': 43, 'min_child_weight': 227}. Best is trial 124 with value: 50.7251444885347.\n"
     ]
    },
    {
     "name": "stdout",
     "output_type": "stream",
     "text": [
      "Mean Absolute Error: 62.08160822893225\n",
      "Mean Absolute Error: 67.59460044065476\n",
      "Mean Absolute Error: 32.150259652777436\n"
     ]
    },
    {
     "name": "stderr",
     "output_type": "stream",
     "text": [
      "[I 2023-10-25 15:09:17,491] Trial 145 finished with value: 54.997194624555654 and parameters: {'lambda': 0.008915185755752765, 'alpha': 1.6293527308581863, 'colsample_bytree': 0.4, 'subsample': 0.6, 'learning_rate': 0.8387080561694652, 'n_estimators': 589, 'max_depth': 5, 'random_state': 105, 'min_child_weight': 211}. Best is trial 124 with value: 50.7251444885347.\n"
     ]
    },
    {
     "name": "stdout",
     "output_type": "stream",
     "text": [
      "Mean Absolute Error: 65.94102814621588\n",
      "Mean Absolute Error: 66.82648676677282\n",
      "Mean Absolute Error: 32.224068960678274\n"
     ]
    },
    {
     "name": "stderr",
     "output_type": "stream",
     "text": [
      "[I 2023-10-25 15:09:17,751] Trial 146 finished with value: 52.50643509792689 and parameters: {'lambda': 0.0022681028807066835, 'alpha': 3.0015993557662464, 'colsample_bytree': 0.4, 'subsample': 1.0, 'learning_rate': 0.4902043298268068, 'n_estimators': 422, 'max_depth': 5, 'random_state': 834, 'min_child_weight': 206}. Best is trial 124 with value: 50.7251444885347.\n"
     ]
    },
    {
     "name": "stdout",
     "output_type": "stream",
     "text": [
      "Mean Absolute Error: 63.638306922747155\n",
      "Mean Absolute Error: 64.59907823415976\n",
      "Mean Absolute Error: 29.28192013687374\n"
     ]
    },
    {
     "name": "stderr",
     "output_type": "stream",
     "text": [
      "[I 2023-10-25 15:09:18,021] Trial 147 finished with value: 51.58340794869631 and parameters: {'lambda': 0.005570932001186156, 'alpha': 5.294677705167802, 'colsample_bytree': 0.4, 'subsample': 0.7, 'learning_rate': 0.3438256586768907, 'n_estimators': 380, 'max_depth': 5, 'random_state': 18, 'min_child_weight': 265}. Best is trial 124 with value: 50.7251444885347.\n"
     ]
    },
    {
     "name": "stdout",
     "output_type": "stream",
     "text": [
      "Mean Absolute Error: 63.20148466623431\n",
      "Mean Absolute Error: 63.84555415464412\n",
      "Mean Absolute Error: 27.70318502521052\n"
     ]
    },
    {
     "name": "stderr",
     "output_type": "stream",
     "text": [
      "[I 2023-10-25 15:09:18,302] Trial 148 finished with value: 57.15550029177632 and parameters: {'lambda': 0.005515778442148015, 'alpha': 5.205922382081447, 'colsample_bytree': 0.4, 'subsample': 0.7, 'learning_rate': 0.19940573061241434, 'n_estimators': 371, 'max_depth': 7, 'random_state': 36, 'min_child_weight': 265}. Best is trial 124 with value: 50.7251444885347.\n"
     ]
    },
    {
     "name": "stdout",
     "output_type": "stream",
     "text": [
      "Mean Absolute Error: 65.11628804468715\n",
      "Mean Absolute Error: 69.84673282870398\n",
      "Mean Absolute Error: 36.503480001937824\n"
     ]
    },
    {
     "name": "stderr",
     "output_type": "stream",
     "text": [
      "[I 2023-10-25 15:09:18,563] Trial 149 finished with value: 52.02522695269089 and parameters: {'lambda': 0.016646800965768097, 'alpha': 2.007698926989001, 'colsample_bytree': 0.4, 'subsample': 1.0, 'learning_rate': 0.342496664422654, 'n_estimators': 400, 'max_depth': 5, 'random_state': 91, 'min_child_weight': 277}. Best is trial 124 with value: 50.7251444885347.\n"
     ]
    },
    {
     "name": "stdout",
     "output_type": "stream",
     "text": [
      "Mean Absolute Error: 62.99572390985084\n",
      "Mean Absolute Error: 63.99503783500022\n",
      "Mean Absolute Error: 29.084919113221623\n"
     ]
    },
    {
     "name": "stderr",
     "output_type": "stream",
     "text": [
      "[I 2023-10-25 15:09:18,824] Trial 150 finished with value: 52.19588520407944 and parameters: {'lambda': 0.011601482068635337, 'alpha': 1.1904623665424559, 'colsample_bytree': 0.4, 'subsample': 0.7, 'learning_rate': 0.298791583748605, 'n_estimators': 642, 'max_depth': 5, 'random_state': 26, 'min_child_weight': 262}. Best is trial 124 with value: 50.7251444885347.\n"
     ]
    },
    {
     "name": "stdout",
     "output_type": "stream",
     "text": [
      "Mean Absolute Error: 63.22215736999669\n",
      "Mean Absolute Error: 65.0158429571586\n",
      "Mean Absolute Error: 28.349655285083035\n"
     ]
    },
    {
     "name": "stderr",
     "output_type": "stream",
     "text": [
      "[I 2023-10-25 15:09:19,087] Trial 151 finished with value: 56.90283156516373 and parameters: {'lambda': 0.0041451800356858874, 'alpha': 6.954871759657839, 'colsample_bytree': 0.4, 'subsample': 0.7, 'learning_rate': 0.5694018821071457, 'n_estimators': 416, 'max_depth': 5, 'random_state': 9, 'min_child_weight': 226}. Best is trial 124 with value: 50.7251444885347.\n"
     ]
    },
    {
     "name": "stdout",
     "output_type": "stream",
     "text": [
      "Mean Absolute Error: 69.51348562618821\n",
      "Mean Absolute Error: 69.34739837581911\n",
      "Mean Absolute Error: 31.847610693483897\n"
     ]
    },
    {
     "name": "stderr",
     "output_type": "stream",
     "text": [
      "[I 2023-10-25 15:09:19,356] Trial 152 finished with value: 51.558529759855524 and parameters: {'lambda': 0.006813205735157664, 'alpha': 4.127966185763493, 'colsample_bytree': 0.4, 'subsample': 0.7, 'learning_rate': 0.4070605597275798, 'n_estimators': 342, 'max_depth': 5, 'random_state': 61, 'min_child_weight': 196}. Best is trial 124 with value: 50.7251444885347.\n"
     ]
    },
    {
     "name": "stdout",
     "output_type": "stream",
     "text": [
      "Mean Absolute Error: 62.699349659511796\n",
      "Mean Absolute Error: 63.33710592040942\n",
      "Mean Absolute Error: 28.63913369964537\n"
     ]
    },
    {
     "name": "stderr",
     "output_type": "stream",
     "text": [
      "[I 2023-10-25 15:09:19,619] Trial 153 finished with value: 54.164056503197656 and parameters: {'lambda': 0.007115615815577037, 'alpha': 5.79716347241834, 'colsample_bytree': 0.4, 'subsample': 0.7, 'learning_rate': 0.39703575587796375, 'n_estimators': 333, 'max_depth': 5, 'random_state': 66, 'min_child_weight': 194}. Best is trial 124 with value: 50.7251444885347.\n"
     ]
    },
    {
     "name": "stdout",
     "output_type": "stream",
     "text": [
      "Mean Absolute Error: 66.65465427380329\n",
      "Mean Absolute Error: 66.3320504565906\n",
      "Mean Absolute Error: 29.505464779199077\n"
     ]
    },
    {
     "name": "stderr",
     "output_type": "stream",
     "text": [
      "[I 2023-10-25 15:09:19,902] Trial 154 finished with value: 52.76018814728909 and parameters: {'lambda': 0.009319342148384804, 'alpha': 3.4077613048753896, 'colsample_bytree': 0.4, 'subsample': 0.7, 'learning_rate': 0.451753998768341, 'n_estimators': 342, 'max_depth': 5, 'random_state': 132, 'min_child_weight': 182}. Best is trial 124 with value: 50.7251444885347.\n"
     ]
    },
    {
     "name": "stdout",
     "output_type": "stream",
     "text": [
      "Mean Absolute Error: 64.78085883055486\n",
      "Mean Absolute Error: 63.59410831493642\n",
      "Mean Absolute Error: 29.90559729637601\n"
     ]
    },
    {
     "name": "stderr",
     "output_type": "stream",
     "text": [
      "[I 2023-10-25 15:09:20,192] Trial 155 finished with value: 51.23598513139434 and parameters: {'lambda': 0.0054834560986461445, 'alpha': 2.5685518210245646, 'colsample_bytree': 0.4, 'subsample': 0.7, 'learning_rate': 0.3444747447544651, 'n_estimators': 381, 'max_depth': 5, 'random_state': 53, 'min_child_weight': 169}. Best is trial 124 with value: 50.7251444885347.\n"
     ]
    },
    {
     "name": "stdout",
     "output_type": "stream",
     "text": [
      "Mean Absolute Error: 62.168553089524174\n",
      "Mean Absolute Error: 62.7008686724788\n",
      "Mean Absolute Error: 28.838533632180052\n",
      "Mean Absolute Error: 109.69276861856414\n",
      "Mean Absolute Error: 124.62179902924694\n"
     ]
    },
    {
     "name": "stderr",
     "output_type": "stream",
     "text": [
      "[I 2023-10-25 15:09:20,526] Trial 156 finished with value: 110.96323920660787 and parameters: {'lambda': 0.005372592564963756, 'alpha': 4.508202672406008, 'colsample_bytree': 0.7, 'subsample': 0.7, 'learning_rate': 0.026842110607875135, 'n_estimators': 362, 'max_depth': 17, 'random_state': 52, 'min_child_weight': 174}. Best is trial 124 with value: 50.7251444885347.\n"
     ]
    },
    {
     "name": "stdout",
     "output_type": "stream",
     "text": [
      "Mean Absolute Error: 98.57514997201253\n",
      "Mean Absolute Error: 63.19423201850695\n",
      "Mean Absolute Error: 66.04924715620484\n"
     ]
    },
    {
     "name": "stderr",
     "output_type": "stream",
     "text": [
      "[I 2023-10-25 15:09:20,794] Trial 157 finished with value: 53.645811531329095 and parameters: {'lambda': 0.0032176668577093047, 'alpha': 2.417862744748437, 'colsample_bytree': 0.4, 'subsample': 0.7, 'learning_rate': 0.2555123310630464, 'n_estimators': 386, 'max_depth': 5, 'random_state': 74, 'min_child_weight': 173}. Best is trial 124 with value: 50.7251444885347.\n"
     ]
    },
    {
     "name": "stdout",
     "output_type": "stream",
     "text": [
      "Mean Absolute Error: 31.69395541927548\n",
      "Mean Absolute Error: 85.13477367109736\n",
      "Mean Absolute Error: 95.94707510886762\n"
     ]
    },
    {
     "name": "stderr",
     "output_type": "stream",
     "text": [
      "[I 2023-10-25 15:09:21,075] Trial 158 finished with value: 83.01209479232595 and parameters: {'lambda': 0.006309040052345336, 'alpha': 3.025657731123319, 'colsample_bytree': 0.4, 'subsample': 0.7, 'learning_rate': 0.07783856871385077, 'n_estimators': 317, 'max_depth': 5, 'random_state': 19, 'min_child_weight': 198}. Best is trial 124 with value: 50.7251444885347.\n"
     ]
    },
    {
     "name": "stdout",
     "output_type": "stream",
     "text": [
      "Mean Absolute Error: 67.95443559701289\n",
      "Mean Absolute Error: 65.77524214149577\n"
     ]
    },
    {
     "name": "stderr",
     "output_type": "stream",
     "text": [
      "[I 2023-10-25 15:09:21,383] Trial 159 finished with value: 56.14723220590861 and parameters: {'lambda': 0.0027348565693602004, 'alpha': 3.79441859514019, 'colsample_bytree': 0.4, 'subsample': 0.7, 'learning_rate': 0.7267145400390249, 'n_estimators': 439, 'max_depth': 9, 'random_state': 119, 'min_child_weight': 164}. Best is trial 124 with value: 50.7251444885347.\n"
     ]
    },
    {
     "name": "stdout",
     "output_type": "stream",
     "text": [
      "Mean Absolute Error: 67.64074631165666\n",
      "Mean Absolute Error: 35.025708164573416\n"
     ]
    },
    {
     "name": "stderr",
     "output_type": "stream",
     "text": [
      "[I 2023-10-25 15:09:21,700] Trial 160 finished with value: 97.12990400612851 and parameters: {'lambda': 0.004491106341859639, 'alpha': 1.5194403616199792, 'colsample_bytree': 0.9, 'subsample': 0.7, 'learning_rate': 0.04723918609263265, 'n_estimators': 399, 'max_depth': 5, 'random_state': 42, 'min_child_weight': 188}. Best is trial 124 with value: 50.7251444885347.\n"
     ]
    },
    {
     "name": "stdout",
     "output_type": "stream",
     "text": [
      "Mean Absolute Error: 96.75128940767011\n",
      "Mean Absolute Error: 110.92895526057534\n",
      "Mean Absolute Error: 83.70946735014009\n",
      "Mean Absolute Error: 62.75078523498339\n",
      "Mean Absolute Error: 61.64104490926786\n"
     ]
    },
    {
     "name": "stderr",
     "output_type": "stream",
     "text": [
      "[I 2023-10-25 15:09:22,911] Trial 161 finished with value: 50.485781188147676 and parameters: {'lambda': 0.007582219330911645, 'alpha': 2.5856627597289537, 'colsample_bytree': 0.4, 'subsample': 0.8, 'learning_rate': 0.38167601618173996, 'n_estimators': 468, 'max_depth': 5, 'random_state': 780, 'min_child_weight': 266}. Best is trial 161 with value: 50.485781188147676.\n"
     ]
    },
    {
     "name": "stdout",
     "output_type": "stream",
     "text": [
      "Mean Absolute Error: 27.065513420191753\n"
     ]
    },
    {
     "name": "stderr",
     "output_type": "stream",
     "text": [
      "[I 2023-10-25 15:09:23,501] Trial 162 finished with value: 51.238436400406776 and parameters: {'lambda': 0.006458822170021221, 'alpha': 2.4954059077704063, 'colsample_bytree': 0.4, 'subsample': 0.7, 'learning_rate': 0.42506691185322015, 'n_estimators': 468, 'max_depth': 5, 'random_state': 876, 'min_child_weight': 267}. Best is trial 161 with value: 50.485781188147676.\n"
     ]
    },
    {
     "name": "stdout",
     "output_type": "stream",
     "text": [
      "Mean Absolute Error: 63.41249630936477\n",
      "Mean Absolute Error: 63.47076751847849\n",
      "Mean Absolute Error: 26.832045373377067\n"
     ]
    },
    {
     "name": "stderr",
     "output_type": "stream",
     "text": [
      "[I 2023-10-25 15:09:23,773] Trial 163 finished with value: 51.69236566403945 and parameters: {'lambda': 0.006405319301029189, 'alpha': 2.567274561977879, 'colsample_bytree': 0.4, 'subsample': 0.7, 'learning_rate': 0.373582732860151, 'n_estimators': 470, 'max_depth': 5, 'random_state': 810, 'min_child_weight': 267}. Best is trial 161 with value: 50.485781188147676.\n"
     ]
    },
    {
     "name": "stdout",
     "output_type": "stream",
     "text": [
      "Mean Absolute Error: 63.471584400785716\n",
      "Mean Absolute Error: 63.88690331669611\n",
      "Mean Absolute Error: 27.718609274636535\n"
     ]
    },
    {
     "name": "stderr",
     "output_type": "stream",
     "text": [
      "[I 2023-10-25 15:09:24,048] Trial 164 finished with value: 53.73639363215853 and parameters: {'lambda': 0.005114372610690637, 'alpha': 2.264692221556987, 'colsample_bytree': 0.4, 'subsample': 0.4, 'learning_rate': 0.4333732712511438, 'n_estimators': 492, 'max_depth': 5, 'random_state': 860, 'min_child_weight': 254}. Best is trial 161 with value: 50.485781188147676.\n"
     ]
    },
    {
     "name": "stdout",
     "output_type": "stream",
     "text": [
      "Mean Absolute Error: 67.02202984265837\n",
      "Mean Absolute Error: 64.60056482050577\n",
      "Mean Absolute Error: 29.58658623331146\n"
     ]
    },
    {
     "name": "stderr",
     "output_type": "stream",
     "text": [
      "[I 2023-10-25 15:09:24,316] Trial 165 finished with value: 53.19363222496455 and parameters: {'lambda': 0.0035968695113056653, 'alpha': 2.797849259086934, 'colsample_bytree': 0.4, 'subsample': 0.7, 'learning_rate': 0.2962230501744136, 'n_estimators': 418, 'max_depth': 5, 'random_state': 879, 'min_child_weight': 260}. Best is trial 161 with value: 50.485781188147676.\n"
     ]
    },
    {
     "name": "stdout",
     "output_type": "stream",
     "text": [
      "Mean Absolute Error: 64.35635381662364\n",
      "Mean Absolute Error: 65.951821011287\n",
      "Mean Absolute Error: 29.272721846983025\n"
     ]
    },
    {
     "name": "stderr",
     "output_type": "stream",
     "text": [
      "[I 2023-10-25 15:09:24,578] Trial 166 finished with value: 54.8790923126561 and parameters: {'lambda': 0.008138611577693928, 'alpha': 1.4676752914961755, 'colsample_bytree': 0.4, 'subsample': 0.7, 'learning_rate': 0.2337981911822066, 'n_estimators': 350, 'max_depth': 5, 'random_state': 2, 'min_child_weight': 273}. Best is trial 161 with value: 50.485781188147676.\n"
     ]
    },
    {
     "name": "stdout",
     "output_type": "stream",
     "text": [
      "Mean Absolute Error: 63.075626189507545\n",
      "Mean Absolute Error: 68.1323172457029\n",
      "Mean Absolute Error: 33.42933350275786\n"
     ]
    },
    {
     "name": "stderr",
     "output_type": "stream",
     "text": [
      "[I 2023-10-25 15:09:24,953] Trial 167 finished with value: 55.27969993180068 and parameters: {'lambda': 0.005844800741539664, 'alpha': 1.0218467987661148, 'colsample_bytree': 0.4, 'subsample': 0.7, 'learning_rate': 0.6043379376197351, 'n_estimators': 380, 'max_depth': 7, 'random_state': 786, 'min_child_weight': 274}. Best is trial 161 with value: 50.485781188147676.\n"
     ]
    },
    {
     "name": "stdout",
     "output_type": "stream",
     "text": [
      "Mean Absolute Error: 66.26215799779177\n",
      "Mean Absolute Error: 67.18194009184528\n",
      "Mean Absolute Error: 32.395001705764955\n"
     ]
    },
    {
     "name": "stderr",
     "output_type": "stream",
     "text": [
      "[I 2023-10-25 15:09:25,261] Trial 168 finished with value: 52.39489773011122 and parameters: {'lambda': 0.007260598798701794, 'alpha': 2.026335941430266, 'colsample_bytree': 1.0, 'subsample': 1.0, 'learning_rate': 0.3450586622444794, 'n_estimators': 462, 'max_depth': 5, 'random_state': 92, 'min_child_weight': 249}. Best is trial 161 with value: 50.485781188147676.\n"
     ]
    },
    {
     "name": "stdout",
     "output_type": "stream",
     "text": [
      "Mean Absolute Error: 62.343162702773135\n",
      "Mean Absolute Error: 64.71290405050135\n",
      "Mean Absolute Error: 30.12862643705917\n"
     ]
    },
    {
     "name": "stderr",
     "output_type": "stream",
     "text": [
      "[I 2023-10-25 15:09:25,590] Trial 169 finished with value: 53.95900124729417 and parameters: {'lambda': 0.004930666905254774, 'alpha': 3.6242791077055005, 'colsample_bytree': 0.3, 'subsample': 0.7, 'learning_rate': 0.4879248873322687, 'n_estimators': 450, 'max_depth': 5, 'random_state': 822, 'min_child_weight': 286}. Best is trial 161 with value: 50.485781188147676.\n"
     ]
    },
    {
     "name": "stdout",
     "output_type": "stream",
     "text": [
      "Mean Absolute Error: 65.25491058194542\n",
      "Mean Absolute Error: 66.09329947028317\n",
      "Mean Absolute Error: 30.52879368965393\n"
     ]
    },
    {
     "name": "stderr",
     "output_type": "stream",
     "text": [
      "[I 2023-10-25 15:09:25,872] Trial 170 finished with value: 130.64281131196816 and parameters: {'lambda': 0.010380928770475688, 'alpha': 0.11295285993616114, 'colsample_bytree': 0.4, 'subsample': 0.8, 'learning_rate': 0.004956854445473587, 'n_estimators': 612, 'max_depth': 5, 'random_state': 54, 'min_child_weight': 280}. Best is trial 161 with value: 50.485781188147676.\n"
     ]
    },
    {
     "name": "stdout",
     "output_type": "stream",
     "text": [
      "Mean Absolute Error: 130.76628844422575\n",
      "Mean Absolute Error: 143.60864632883133\n",
      "Mean Absolute Error: 117.55349916284739\n"
     ]
    },
    {
     "name": "stderr",
     "output_type": "stream",
     "text": [
      "[I 2023-10-25 15:09:26,145] Trial 171 finished with value: 51.84973421866206 and parameters: {'lambda': 0.006448038510268615, 'alpha': 2.4637114918289673, 'colsample_bytree': 0.4, 'subsample': 0.7, 'learning_rate': 0.38200452453332995, 'n_estimators': 472, 'max_depth': 5, 'random_state': 772, 'min_child_weight': 268}. Best is trial 161 with value: 50.485781188147676.\n"
     ]
    },
    {
     "name": "stdout",
     "output_type": "stream",
     "text": [
      "Mean Absolute Error: 63.34727401675669\n",
      "Mean Absolute Error: 64.61675162167472\n",
      "Mean Absolute Error: 27.585177017554727\n"
     ]
    },
    {
     "name": "stderr",
     "output_type": "stream",
     "text": [
      "[I 2023-10-25 15:09:26,416] Trial 172 finished with value: 52.164134579164454 and parameters: {'lambda': 0.004027137573661054, 'alpha': 2.639961710613809, 'colsample_bytree': 0.4, 'subsample': 0.7, 'learning_rate': 0.38883757706598926, 'n_estimators': 438, 'max_depth': 5, 'random_state': 853, 'min_child_weight': 265}. Best is trial 161 with value: 50.485781188147676.\n"
     ]
    },
    {
     "name": "stdout",
     "output_type": "stream",
     "text": [
      "Mean Absolute Error: 63.200861964458475\n",
      "Mean Absolute Error: 64.84613616631232\n",
      "Mean Absolute Error: 28.445405606722563\n"
     ]
    },
    {
     "name": "stderr",
     "output_type": "stream",
     "text": [
      "[I 2023-10-25 15:09:26,674] Trial 173 finished with value: 52.96214149316811 and parameters: {'lambda': 0.006113363622829087, 'alpha': 3.2743441143200847, 'colsample_bytree': 0.4, 'subsample': 0.7, 'learning_rate': 0.29889137036664126, 'n_estimators': 476, 'max_depth': 5, 'random_state': 813, 'min_child_weight': 268}. Best is trial 161 with value: 50.485781188147676.\n"
     ]
    },
    {
     "name": "stdout",
     "output_type": "stream",
     "text": [
      "Mean Absolute Error: 64.29910574110816\n",
      "Mean Absolute Error: 65.63779228260918\n",
      "Mean Absolute Error: 28.94952645578702\n"
     ]
    },
    {
     "name": "stderr",
     "output_type": "stream",
     "text": [
      "[I 2023-10-25 15:09:26,941] Trial 174 finished with value: 52.58077681198487 and parameters: {'lambda': 0.0073541215533001955, 'alpha': 0.07271793225301794, 'colsample_bytree': 0.4, 'subsample': 0.7, 'learning_rate': 0.5035239990117726, 'n_estimators': 404, 'max_depth': 5, 'random_state': 789, 'min_child_weight': 256}. Best is trial 161 with value: 50.485781188147676.\n"
     ]
    },
    {
     "name": "stdout",
     "output_type": "stream",
     "text": [
      "Mean Absolute Error: 64.4495685261604\n",
      "Mean Absolute Error: 65.0661707617986\n",
      "Mean Absolute Error: 28.22659114799562\n"
     ]
    },
    {
     "name": "stderr",
     "output_type": "stream",
     "text": [
      "[I 2023-10-25 15:09:27,214] Trial 175 finished with value: 51.31650974688355 and parameters: {'lambda': 0.005260857679079626, 'alpha': 4.305504533247647, 'colsample_bytree': 0.4, 'subsample': 0.6, 'learning_rate': 0.33321324332997515, 'n_estimators': 426, 'max_depth': 5, 'random_state': 75, 'min_child_weight': 246}. Best is trial 161 with value: 50.485781188147676.\n"
     ]
    },
    {
     "name": "stdout",
     "output_type": "stream",
     "text": [
      "Mean Absolute Error: 64.43513968420243\n",
      "Mean Absolute Error: 61.29312127059958\n",
      "Mean Absolute Error: 28.221268285848634\n"
     ]
    },
    {
     "name": "stderr",
     "output_type": "stream",
     "text": [
      "[I 2023-10-25 15:09:27,542] Trial 176 finished with value: 63.7415721958533 and parameters: {'lambda': 0.005140082095387492, 'alpha': 4.374202279001276, 'colsample_bytree': 0.4, 'subsample': 1.0, 'learning_rate': 0.1443311649149637, 'n_estimators': 420, 'max_depth': 15, 'random_state': 76, 'min_child_weight': 242}. Best is trial 161 with value: 50.485781188147676.\n"
     ]
    },
    {
     "name": "stdout",
     "output_type": "stream",
     "text": [
      "Mean Absolute Error: 68.25730353077827\n",
      "Mean Absolute Error: 76.91328325333502\n",
      "Mean Absolute Error: 46.054129803446585\n"
     ]
    },
    {
     "name": "stderr",
     "output_type": "stream",
     "text": [
      "[I 2023-10-25 15:09:27,810] Trial 177 finished with value: 56.04335023084511 and parameters: {'lambda': 0.003431877015120029, 'alpha': 5.357945075307795, 'colsample_bytree': 0.4, 'subsample': 0.6, 'learning_rate': 0.2123000581588702, 'n_estimators': 370, 'max_depth': 5, 'random_state': 36, 'min_child_weight': 248}. Best is trial 161 with value: 50.485781188147676.\n"
     ]
    },
    {
     "name": "stdout",
     "output_type": "stream",
     "text": [
      "Mean Absolute Error: 65.44193474397741\n",
      "Mean Absolute Error: 68.83964470529102\n",
      "Mean Absolute Error: 33.84847124326688\n"
     ]
    },
    {
     "name": "stderr",
     "output_type": "stream",
     "text": [
      "[I 2023-10-25 15:09:28,073] Trial 178 finished with value: 53.263993740749676 and parameters: {'lambda': 0.008341907175163088, 'alpha': 6.183124636836189, 'colsample_bytree': 0.4, 'subsample': 0.6, 'learning_rate': 0.6205350759294093, 'n_estimators': 392, 'max_depth': 5, 'random_state': 956, 'min_child_weight': 255}. Best is trial 161 with value: 50.485781188147676.\n"
     ]
    },
    {
     "name": "stdout",
     "output_type": "stream",
     "text": [
      "Mean Absolute Error: 64.46707290486431\n",
      "Mean Absolute Error: 65.66794178551633\n",
      "Mean Absolute Error: 29.656966531868406\n"
     ]
    },
    {
     "name": "stderr",
     "output_type": "stream",
     "text": [
      "[I 2023-10-25 15:09:28,411] Trial 179 finished with value: 53.76886683872735 and parameters: {'lambda': 0.004484029228720054, 'alpha': 1.999762366896014, 'colsample_bytree': 0.4, 'subsample': 1.0, 'learning_rate': 0.2681126928202526, 'n_estimators': 440, 'max_depth': 13, 'random_state': 157, 'min_child_weight': 238}. Best is trial 161 with value: 50.485781188147676.\n"
     ]
    },
    {
     "name": "stdout",
     "output_type": "stream",
     "text": [
      "Mean Absolute Error: 63.897760182449474\n",
      "Mean Absolute Error: 65.96278080049895\n",
      "Mean Absolute Error: 31.446059533233626\n"
     ]
    },
    {
     "name": "stderr",
     "output_type": "stream",
     "text": [
      "[I 2023-10-25 15:09:28,725] Trial 180 finished with value: 53.339696096521 and parameters: {'lambda': 0.010402145069385848, 'alpha': 1.599104285263638, 'colsample_bytree': 0.6, 'subsample': 0.6, 'learning_rate': 0.4451539148072056, 'n_estimators': 499, 'max_depth': 11, 'random_state': 100, 'min_child_weight': 284}. Best is trial 161 with value: 50.485781188147676.\n"
     ]
    },
    {
     "name": "stdout",
     "output_type": "stream",
     "text": [
      "Mean Absolute Error: 65.60727115825073\n",
      "Mean Absolute Error: 65.61870430020716\n",
      "Mean Absolute Error: 28.793112831105123\n"
     ]
    },
    {
     "name": "stderr",
     "output_type": "stream",
     "text": [
      "[I 2023-10-25 15:09:28,992] Trial 181 finished with value: 51.49150119150997 and parameters: {'lambda': 0.006250506058518203, 'alpha': 2.614264974663898, 'colsample_bytree': 0.4, 'subsample': 0.6, 'learning_rate': 0.3413239474875836, 'n_estimators': 465, 'max_depth': 5, 'random_state': 196, 'min_child_weight': 265}. Best is trial 161 with value: 50.485781188147676.\n"
     ]
    },
    {
     "name": "stdout",
     "output_type": "stream",
     "text": [
      "Mean Absolute Error: 63.53486539008794\n",
      "Mean Absolute Error: 62.76017835296753\n",
      "Mean Absolute Error: 28.179459831474436\n"
     ]
    },
    {
     "name": "stderr",
     "output_type": "stream",
     "text": [
      "[I 2023-10-25 15:09:29,261] Trial 182 finished with value: 52.72987219585968 and parameters: {'lambda': 0.00546492662202066, 'alpha': 3.1323476794040346, 'colsample_bytree': 0.4, 'subsample': 0.6, 'learning_rate': 0.3429527206238551, 'n_estimators': 457, 'max_depth': 5, 'random_state': 62, 'min_child_weight': 262}. Best is trial 161 with value: 50.485781188147676.\n"
     ]
    },
    {
     "name": "stdout",
     "output_type": "stream",
     "text": [
      "Mean Absolute Error: 65.30772265618555\n",
      "Mean Absolute Error: 64.63911922525092\n",
      "Mean Absolute Error: 28.24277470614258\n"
     ]
    },
    {
     "name": "stderr",
     "output_type": "stream",
     "text": [
      "[I 2023-10-25 15:09:29,538] Trial 183 finished with value: 52.790066773292246 and parameters: {'lambda': 0.00705331066527667, 'alpha': 4.277168489334217, 'colsample_bytree': 0.4, 'subsample': 0.6, 'learning_rate': 0.3084666871622613, 'n_estimators': 534, 'max_depth': 5, 'random_state': 125, 'min_child_weight': 274}. Best is trial 161 with value: 50.485781188147676.\n"
     ]
    },
    {
     "name": "stdout",
     "output_type": "stream",
     "text": [
      "Mean Absolute Error: 64.78117649745062\n",
      "Mean Absolute Error: 64.6956202784569\n",
      "Mean Absolute Error: 28.89340354396922\n"
     ]
    },
    {
     "name": "stderr",
     "output_type": "stream",
     "text": [
      "[I 2023-10-25 15:09:29,809] Trial 184 finished with value: 121.71045571371046 and parameters: {'lambda': 0.0038302084210209745, 'alpha': 8.090775749705001, 'colsample_bytree': 0.4, 'subsample': 0.6, 'learning_rate': 0.013810300914689927, 'n_estimators': 428, 'max_depth': 5, 'random_state': 34, 'min_child_weight': 235}. Best is trial 161 with value: 50.485781188147676.\n"
     ]
    },
    {
     "name": "stdout",
     "output_type": "stream",
     "text": [
      "Mean Absolute Error: 120.80649019794586\n",
      "Mean Absolute Error: 135.05565788070976\n",
      "Mean Absolute Error: 109.26921906247574\n"
     ]
    },
    {
     "name": "stderr",
     "output_type": "stream",
     "text": [
      "[I 2023-10-25 15:09:30,080] Trial 185 finished with value: 52.543524523579116 and parameters: {'lambda': 0.008557913491214592, 'alpha': 1.3097665402270946, 'colsample_bytree': 0.4, 'subsample': 0.6, 'learning_rate': 0.42497518289476416, 'n_estimators': 491, 'max_depth': 5, 'random_state': 80, 'min_child_weight': 247}. Best is trial 161 with value: 50.485781188147676.\n"
     ]
    },
    {
     "name": "stdout",
     "output_type": "stream",
     "text": [
      "Mean Absolute Error: 64.943612152036\n",
      "Mean Absolute Error: 65.14648699718032\n",
      "Mean Absolute Error: 27.540474421521015\n"
     ]
    },
    {
     "name": "stderr",
     "output_type": "stream",
     "text": [
      "[I 2023-10-25 15:09:30,364] Trial 186 finished with value: 53.31242520767 and parameters: {'lambda': 0.004513996427943428, 'alpha': 3.6494852599483325, 'colsample_bytree': 0.9, 'subsample': 0.6, 'learning_rate': 0.545389343309953, 'n_estimators': 409, 'max_depth': 5, 'random_state': 199, 'min_child_weight': 290}. Best is trial 161 with value: 50.485781188147676.\n"
     ]
    },
    {
     "name": "stdout",
     "output_type": "stream",
     "text": [
      "Mean Absolute Error: 65.00538215500768\n",
      "Mean Absolute Error: 64.92377063788238\n",
      "Mean Absolute Error: 30.00812283011992\n",
      "Mean Absolute Error: 65.38693338455823\n",
      "Mean Absolute Error: 69.01690374317612\n"
     ]
    },
    {
     "name": "stderr",
     "output_type": "stream",
     "text": [
      "[I 2023-10-25 15:09:32,055] Trial 187 finished with value: 55.95590236642018 and parameters: {'lambda': 0.005760922943314984, 'alpha': 1.7471525551968488, 'colsample_bytree': 0.4, 'subsample': 0.6, 'learning_rate': 0.25113657634106884, 'n_estimators': 440, 'max_depth': 5, 'random_state': 605, 'min_child_weight': 279}. Best is trial 161 with value: 50.485781188147676.\n"
     ]
    },
    {
     "name": "stdout",
     "output_type": "stream",
     "text": [
      "Mean Absolute Error: 33.463869971526194\n",
      "Mean Absolute Error: 62.08501795547282\n"
     ]
    },
    {
     "name": "stderr",
     "output_type": "stream",
     "text": [
      "[I 2023-10-25 15:09:32,385] Trial 188 finished with value: 53.40778688426807 and parameters: {'lambda': 0.025838730225731812, 'alpha': 0.02485620078063574, 'colsample_bytree': 0.4, 'subsample': 0.5, 'learning_rate': 0.3388120270820833, 'n_estimators': 469, 'max_depth': 7, 'random_state': 59, 'min_child_weight': 15}. Best is trial 161 with value: 50.485781188147676.\n"
     ]
    },
    {
     "name": "stdout",
     "output_type": "stream",
     "text": [
      "Mean Absolute Error: 65.47661557251135\n",
      "Mean Absolute Error: 32.66172712482006\n"
     ]
    },
    {
     "name": "stderr",
     "output_type": "stream",
     "text": [
      "[I 2023-10-25 15:09:32,665] Trial 189 finished with value: 69.46720042089957 and parameters: {'lambda': 0.012258447113188214, 'alpha': 2.868002264235145, 'colsample_bytree': 0.4, 'subsample': 0.7, 'learning_rate': 0.11779902459136, 'n_estimators': 387, 'max_depth': 5, 'random_state': 21, 'min_child_weight': 261}. Best is trial 161 with value: 50.485781188147676.\n"
     ]
    },
    {
     "name": "stdout",
     "output_type": "stream",
     "text": [
      "Mean Absolute Error: 73.59509711529813\n",
      "Mean Absolute Error: 81.71523493301612\n",
      "Mean Absolute Error: 53.09126921438449\n"
     ]
    },
    {
     "name": "stderr",
     "output_type": "stream",
     "text": [
      "[I 2023-10-25 15:09:32,947] Trial 190 finished with value: 58.64985455311582 and parameters: {'lambda': 0.0028403326274624267, 'alpha': 2.200187242582557, 'colsample_bytree': 0.7, 'subsample': 0.8, 'learning_rate': 0.19013070887732364, 'n_estimators': 353, 'max_depth': 5, 'random_state': 111, 'min_child_weight': 272}. Best is trial 161 with value: 50.485781188147676.\n"
     ]
    },
    {
     "name": "stdout",
     "output_type": "stream",
     "text": [
      "Mean Absolute Error: 65.6546450242363\n",
      "Mean Absolute Error: 71.7801446586148\n",
      "Mean Absolute Error: 38.514773976496386\n"
     ]
    },
    {
     "name": "stderr",
     "output_type": "stream",
     "text": [
      "[I 2023-10-25 15:09:33,219] Trial 191 finished with value: 50.76176471251825 and parameters: {'lambda': 0.006736607028796707, 'alpha': 2.6560436642852783, 'colsample_bytree': 0.4, 'subsample': 0.7, 'learning_rate': 0.42005873888555684, 'n_estimators': 479, 'max_depth': 5, 'random_state': 769, 'min_child_weight': 265}. Best is trial 161 with value: 50.485781188147676.\n"
     ]
    },
    {
     "name": "stdout",
     "output_type": "stream",
     "text": [
      "Mean Absolute Error: 62.81693177784435\n",
      "Mean Absolute Error: 63.27739033251407\n",
      "Mean Absolute Error: 26.190972027196327\n"
     ]
    },
    {
     "name": "stderr",
     "output_type": "stream",
     "text": [
      "[I 2023-10-25 15:09:33,495] Trial 192 finished with value: 52.464339746731895 and parameters: {'lambda': 0.0074376663194726834, 'alpha': 4.972801222430073, 'colsample_bytree': 0.4, 'subsample': 0.7, 'learning_rate': 0.4228308737747647, 'n_estimators': 516, 'max_depth': 5, 'random_state': 741, 'min_child_weight': 257}. Best is trial 161 with value: 50.485781188147676.\n"
     ]
    },
    {
     "name": "stdout",
     "output_type": "stream",
     "text": [
      "Mean Absolute Error: 64.76255899552281\n",
      "Mean Absolute Error: 64.46687768275179\n",
      "Mean Absolute Error: 28.163582561921082\n"
     ]
    },
    {
     "name": "stderr",
     "output_type": "stream",
     "text": [
      "[I 2023-10-25 15:09:33,762] Trial 193 finished with value: 51.50134100840419 and parameters: {'lambda': 0.005126365214953984, 'alpha': 2.6666932970984716, 'colsample_bytree': 0.4, 'subsample': 0.7, 'learning_rate': 0.5083124344645925, 'n_estimators': 452, 'max_depth': 5, 'random_state': 757, 'min_child_weight': 252}. Best is trial 161 with value: 50.485781188147676.\n"
     ]
    },
    {
     "name": "stdout",
     "output_type": "stream",
     "text": [
      "Mean Absolute Error: 63.28806862937201\n",
      "Mean Absolute Error: 63.33948546192733\n",
      "Mean Absolute Error: 27.876468933913234\n"
     ]
    },
    {
     "name": "stderr",
     "output_type": "stream",
     "text": [
      "[I 2023-10-25 15:09:34,033] Trial 194 finished with value: 54.26153713234737 and parameters: {'lambda': 0.0064550010960276495, 'alpha': 3.646108575222979, 'colsample_bytree': 0.4, 'subsample': 0.7, 'learning_rate': 0.5186150167269304, 'n_estimators': 483, 'max_depth': 5, 'random_state': 745, 'min_child_weight': 251}. Best is trial 161 with value: 50.485781188147676.\n"
     ]
    },
    {
     "name": "stdout",
     "output_type": "stream",
     "text": [
      "Mean Absolute Error: 65.21894053887024\n",
      "Mean Absolute Error: 66.896159159054\n",
      "Mean Absolute Error: 30.669511699117894\n"
     ]
    },
    {
     "name": "stderr",
     "output_type": "stream",
     "text": [
      "[I 2023-10-25 15:09:34,307] Trial 195 finished with value: 52.43810269080521 and parameters: {'lambda': 0.008885959871765006, 'alpha': 2.750597802727442, 'colsample_bytree': 0.4, 'subsample': 0.7, 'learning_rate': 0.6517581232458058, 'n_estimators': 451, 'max_depth': 5, 'random_state': 780, 'min_child_weight': 264}. Best is trial 161 with value: 50.485781188147676.\n"
     ]
    },
    {
     "name": "stdout",
     "output_type": "stream",
     "text": [
      "Mean Absolute Error: 63.45691872739563\n",
      "Mean Absolute Error: 66.6307971364221\n",
      "Mean Absolute Error: 27.226592208597918\n"
     ]
    },
    {
     "name": "stderr",
     "output_type": "stream",
     "text": [
      "[I 2023-10-25 15:09:34,581] Trial 196 finished with value: 87.12676330756979 and parameters: {'lambda': 0.004474467855041714, 'alpha': 3.18231777419493, 'colsample_bytree': 0.4, 'subsample': 0.7, 'learning_rate': 0.06728289191959688, 'n_estimators': 504, 'max_depth': 5, 'random_state': 724, 'min_child_weight': 270}. Best is trial 161 with value: 50.485781188147676.\n"
     ]
    },
    {
     "name": "stdout",
     "output_type": "stream",
     "text": [
      "Mean Absolute Error: 88.83317982887425\n",
      "Mean Absolute Error: 99.86876255631508\n",
      "Mean Absolute Error: 72.67834753752003\n"
     ]
    },
    {
     "name": "stderr",
     "output_type": "stream",
     "text": [
      "[I 2023-10-25 15:09:34,854] Trial 197 finished with value: 51.99131222538554 and parameters: {'lambda': 0.005278862260973195, 'alpha': 4.435938648390785, 'colsample_bytree': 0.4, 'subsample': 1.0, 'learning_rate': 0.3367845239861924, 'n_estimators': 464, 'max_depth': 5, 'random_state': 274, 'min_child_weight': 278}. Best is trial 161 with value: 50.485781188147676.\n"
     ]
    },
    {
     "name": "stdout",
     "output_type": "stream",
     "text": [
      "Mean Absolute Error: 62.92788251200603\n",
      "Mean Absolute Error: 63.929330103109024\n",
      "Mean Absolute Error: 29.116724061041563\n"
     ]
    },
    {
     "name": "stderr",
     "output_type": "stream",
     "text": [
      "[I 2023-10-25 15:09:35,187] Trial 198 finished with value: 51.38602828573922 and parameters: {'lambda': 0.003653608594618898, 'alpha': 2.219315413022767, 'colsample_bytree': 0.4, 'subsample': 0.7, 'learning_rate': 0.37769868547050073, 'n_estimators': 423, 'max_depth': 17, 'random_state': 203, 'min_child_weight': 258}. Best is trial 161 with value: 50.485781188147676.\n"
     ]
    },
    {
     "name": "stdout",
     "output_type": "stream",
     "text": [
      "Mean Absolute Error: 62.8772707026636\n",
      "Mean Absolute Error: 63.07999840199443\n",
      "Mean Absolute Error: 28.20081575255965\n",
      "Mean Absolute Error: 134.4274276874331\n",
      "Mean Absolute Error: 146.6924464000563\n"
     ]
    },
    {
     "name": "stderr",
     "output_type": "stream",
     "text": [
      "[I 2023-10-25 15:09:35,552] Trial 199 finished with value: 133.87321178825286 and parameters: {'lambda': 0.0035157755894226696, 'alpha': 2.3355332477135327, 'colsample_bytree': 0.5, 'subsample': 0.7, 'learning_rate': 0.0019316724894834032, 'n_estimators': 422, 'max_depth': 17, 'random_state': 763, 'min_child_weight': 126}. Best is trial 161 with value: 50.485781188147676.\n"
     ]
    },
    {
     "name": "stdout",
     "output_type": "stream",
     "text": [
      "Mean Absolute Error: 120.49976127726913\n",
      "Mean Absolute Error: 63.68778411464221\n"
     ]
    },
    {
     "name": "stderr",
     "output_type": "stream",
     "text": [
      "[I 2023-10-25 15:09:35,888] Trial 200 finished with value: 52.59533238659768 and parameters: {'lambda': 0.009701167808406115, 'alpha': 2.559046194814253, 'colsample_bytree': 0.4, 'subsample': 0.7, 'learning_rate': 0.2818236005632864, 'n_estimators': 453, 'max_depth': 17, 'random_state': 230, 'min_child_weight': 245}. Best is trial 161 with value: 50.485781188147676.\n"
     ]
    },
    {
     "name": "stdout",
     "output_type": "stream",
     "text": [
      "Mean Absolute Error: 64.62900087817037\n",
      "Mean Absolute Error: 29.469212166980473\n"
     ]
    },
    {
     "name": "stderr",
     "output_type": "stream",
     "text": [
      "[I 2023-10-25 15:09:36,225] Trial 201 finished with value: 52.14371187547983 and parameters: {'lambda': 0.006473798772490687, 'alpha': 2.104041776925859, 'colsample_bytree': 0.4, 'subsample': 0.7, 'learning_rate': 0.3937626794824429, 'n_estimators': 431, 'max_depth': 17, 'random_state': 53, 'min_child_weight': 253}. Best is trial 161 with value: 50.485781188147676.\n"
     ]
    },
    {
     "name": "stdout",
     "output_type": "stream",
     "text": [
      "Mean Absolute Error: 63.89751885477239\n",
      "Mean Absolute Error: 64.58376460370464\n",
      "Mean Absolute Error: 27.94985216796246\n"
     ]
    },
    {
     "name": "stderr",
     "output_type": "stream",
     "text": [
      "[I 2023-10-25 15:09:36,552] Trial 202 finished with value: 52.92867610139254 and parameters: {'lambda': 0.00405155192523393, 'alpha': 1.6333374039465138, 'colsample_bytree': 0.4, 'subsample': 0.7, 'learning_rate': 0.47345410295194434, 'n_estimators': 483, 'max_depth': 17, 'random_state': 84, 'min_child_weight': 259}. Best is trial 161 with value: 50.485781188147676.\n"
     ]
    },
    {
     "name": "stdout",
     "output_type": "stream",
     "text": [
      "Mean Absolute Error: 64.50435157491752\n",
      "Mean Absolute Error: 63.48407754999953\n",
      "Mean Absolute Error: 30.79759917926057\n"
     ]
    },
    {
     "name": "stderr",
     "output_type": "stream",
     "text": [
      "[I 2023-10-25 15:09:36,823] Trial 203 finished with value: 51.597929412045865 and parameters: {'lambda': 0.0049656099985952796, 'alpha': 3.8962098259188296, 'colsample_bytree': 0.4, 'subsample': 0.7, 'learning_rate': 0.3921519584658056, 'n_estimators': 415, 'max_depth': 5, 'random_state': 378, 'min_child_weight': 264}. Best is trial 161 with value: 50.485781188147676.\n"
     ]
    },
    {
     "name": "stdout",
     "output_type": "stream",
     "text": [
      "Mean Absolute Error: 63.90463996406067\n",
      "Mean Absolute Error: 62.83245787964841\n",
      "Mean Absolute Error: 28.05669039242852\n"
     ]
    },
    {
     "name": "stderr",
     "output_type": "stream",
     "text": [
      "[I 2023-10-25 15:09:37,134] Trial 204 finished with value: 52.63708984117533 and parameters: {'lambda': 0.005587394645011203, 'alpha': 3.9984368285063177, 'colsample_bytree': 0.4, 'subsample': 0.7, 'learning_rate': 0.37138305542201333, 'n_estimators': 406, 'max_depth': 9, 'random_state': 417, 'min_child_weight': 267}. Best is trial 161 with value: 50.485781188147676.\n"
     ]
    },
    {
     "name": "stdout",
     "output_type": "stream",
     "text": [
      "Mean Absolute Error: 63.56426578861026\n",
      "Mean Absolute Error: 64.65759047789726\n",
      "Mean Absolute Error: 29.68941325701847\n"
     ]
    },
    {
     "name": "stderr",
     "output_type": "stream",
     "text": [
      "[I 2023-10-25 15:09:37,416] Trial 205 finished with value: 53.282666841018624 and parameters: {'lambda': 0.0018534755034874844, 'alpha': 3.217076181497457, 'colsample_bytree': 0.4, 'subsample': 0.7, 'learning_rate': 0.2960066132226865, 'n_estimators': 446, 'max_depth': 5, 'random_state': 293, 'min_child_weight': 275}. Best is trial 161 with value: 50.485781188147676.\n"
     ]
    },
    {
     "name": "stdout",
     "output_type": "stream",
     "text": [
      "Mean Absolute Error: 63.39026626996023\n",
      "Mean Absolute Error: 66.5589502299421\n",
      "Mean Absolute Error: 29.898784023153564\n"
     ]
    },
    {
     "name": "stderr",
     "output_type": "stream",
     "text": [
      "[I 2023-10-25 15:09:37,701] Trial 206 finished with value: 52.592241671908376 and parameters: {'lambda': 0.0073731204903235035, 'alpha': 5.697511231727504, 'colsample_bytree': 1.0, 'subsample': 0.4, 'learning_rate': 0.5628457008265046, 'n_estimators': 561, 'max_depth': 5, 'random_state': 357, 'min_child_weight': 264}. Best is trial 161 with value: 50.485781188147676.\n"
     ]
    },
    {
     "name": "stdout",
     "output_type": "stream",
     "text": [
      "Mean Absolute Error: 67.42724748475146\n",
      "Mean Absolute Error: 62.67847001934968\n",
      "Mean Absolute Error: 27.671007511623987\n",
      "Mean Absolute Error: 63.717899029182306\n",
      "Mean Absolute Error: 68.05339630359539\n"
     ]
    },
    {
     "name": "stderr",
     "output_type": "stream",
     "text": [
      "[I 2023-10-25 15:09:38,065] Trial 207 finished with value: 55.29568650799086 and parameters: {'lambda': 0.003068785340246443, 'alpha': 3.9744802525960505, 'colsample_bytree': 0.4, 'subsample': 1.0, 'learning_rate': 0.23560864634252068, 'n_estimators': 473, 'max_depth': 17, 'random_state': 335, 'min_child_weight': 284}. Best is trial 161 with value: 50.485781188147676.\n"
     ]
    },
    {
     "name": "stdout",
     "output_type": "stream",
     "text": [
      "Mean Absolute Error: 34.11576419119488\n",
      "Mean Absolute Error: 62.98294490098179\n"
     ]
    },
    {
     "name": "stderr",
     "output_type": "stream",
     "text": [
      "[I 2023-10-25 15:09:38,366] Trial 208 finished with value: 51.965550002235595 and parameters: {'lambda': 0.004961518297807924, 'alpha': 2.9321260804964506, 'colsample_bytree': 0.9, 'subsample': 0.7, 'learning_rate': 0.35046343607117364, 'n_estimators': 412, 'max_depth': 5, 'random_state': 766, 'min_child_weight': 271}. Best is trial 161 with value: 50.485781188147676.\n"
     ]
    },
    {
     "name": "stdout",
     "output_type": "stream",
     "text": [
      "Mean Absolute Error: 63.993021250895964\n",
      "Mean Absolute Error: 28.920683854829022\n"
     ]
    },
    {
     "name": "stderr",
     "output_type": "stream",
     "text": [
      "[I 2023-10-25 15:09:38,645] Trial 209 finished with value: 54.459576092303 and parameters: {'lambda': 0.006301228026851544, 'alpha': 4.894992436945018, 'colsample_bytree': 0.3, 'subsample': 0.7, 'learning_rate': 0.4189822194688009, 'n_estimators': 494, 'max_depth': 5, 'random_state': 142, 'min_child_weight': 260}. Best is trial 161 with value: 50.485781188147676.\n"
     ]
    },
    {
     "name": "stdout",
     "output_type": "stream",
     "text": [
      "Mean Absolute Error: 65.33047494804687\n",
      "Mean Absolute Error: 67.50143521116843\n",
      "Mean Absolute Error: 30.54681811769374\n"
     ]
    },
    {
     "name": "stderr",
     "output_type": "stream",
     "text": [
      "[I 2023-10-25 15:09:38,938] Trial 210 finished with value: 54.45506123866758 and parameters: {'lambda': 0.017888488632231615, 'alpha': 1.9770083109206538, 'colsample_bytree': 0.4, 'subsample': 0.7, 'learning_rate': 0.7140555136563986, 'n_estimators': 452, 'max_depth': 7, 'random_state': 189, 'min_child_weight': 246}. Best is trial 161 with value: 50.485781188147676.\n"
     ]
    },
    {
     "name": "stdout",
     "output_type": "stream",
     "text": [
      "Mean Absolute Error: 64.4783298523893\n",
      "Mean Absolute Error: 67.37888475003179\n",
      "Mean Absolute Error: 31.50796911358165\n"
     ]
    },
    {
     "name": "stderr",
     "output_type": "stream",
     "text": [
      "[I 2023-10-25 15:09:39,211] Trial 211 finished with value: 53.7986688801759 and parameters: {'lambda': 0.004287966399006701, 'alpha': 2.4773169116624865, 'colsample_bytree': 0.4, 'subsample': 0.7, 'learning_rate': 0.4718859698375645, 'n_estimators': 442, 'max_depth': 5, 'random_state': 24, 'min_child_weight': 265}. Best is trial 161 with value: 50.485781188147676.\n"
     ]
    },
    {
     "name": "stdout",
     "output_type": "stream",
     "text": [
      "Mean Absolute Error: 63.657911132249275\n",
      "Mean Absolute Error: 66.49489151780391\n",
      "Mean Absolute Error: 31.243203990474512\n"
     ]
    },
    {
     "name": "stderr",
     "output_type": "stream",
     "text": [
      "[I 2023-10-25 15:09:39,478] Trial 212 finished with value: 51.75505035407229 and parameters: {'lambda': 0.004705735119221174, 'alpha': 1.3388163342384922, 'colsample_bytree': 0.4, 'subsample': 0.7, 'learning_rate': 0.3861099969026025, 'n_estimators': 391, 'max_depth': 5, 'random_state': 795, 'min_child_weight': 258}. Best is trial 161 with value: 50.485781188147676.\n"
     ]
    },
    {
     "name": "stdout",
     "output_type": "stream",
     "text": [
      "Mean Absolute Error: 63.0808948475795\n",
      "Mean Absolute Error: 64.67095200010183\n",
      "Mean Absolute Error: 27.513304214535516\n"
     ]
    },
    {
     "name": "stderr",
     "output_type": "stream",
     "text": [
      "[I 2023-10-25 15:09:39,740] Trial 213 finished with value: 52.782948579341515 and parameters: {'lambda': 0.0036989404171995106, 'alpha': 3.3295988133025802, 'colsample_bytree': 0.4, 'subsample': 0.7, 'learning_rate': 0.5338687251316981, 'n_estimators': 431, 'max_depth': 5, 'random_state': 704, 'min_child_weight': 254}. Best is trial 161 with value: 50.485781188147676.\n"
     ]
    },
    {
     "name": "stdout",
     "output_type": "stream",
     "text": [
      "Mean Absolute Error: 63.80606957595578\n",
      "Mean Absolute Error: 65.43386750944364\n",
      "Mean Absolute Error: 29.108908652625125\n"
     ]
    },
    {
     "name": "stderr",
     "output_type": "stream",
     "text": [
      "[I 2023-10-25 15:09:40,006] Trial 214 finished with value: 51.824231680544266 and parameters: {'lambda': 0.03686059165782265, 'alpha': 0.937459734996307, 'colsample_bytree': 0.4, 'subsample': 0.7, 'learning_rate': 0.3074437058470816, 'n_estimators': 460, 'max_depth': 5, 'random_state': 71, 'min_child_weight': 280}. Best is trial 161 with value: 50.485781188147676.\n"
     ]
    },
    {
     "name": "stdout",
     "output_type": "stream",
     "text": [
      "Mean Absolute Error: 62.63116803414157\n",
      "Mean Absolute Error: 64.41646283170579\n",
      "Mean Absolute Error: 28.425064175785433\n"
     ]
    },
    {
     "name": "stderr",
     "output_type": "stream",
     "text": [
      "[I 2023-10-25 15:09:40,277] Trial 215 finished with value: 52.77439345721274 and parameters: {'lambda': 0.00805498779719388, 'alpha': 1.975790020341853, 'colsample_bytree': 0.4, 'subsample': 1.0, 'learning_rate': 0.3693800062549911, 'n_estimators': 420, 'max_depth': 5, 'random_state': 837, 'min_child_weight': 251}. Best is trial 161 with value: 50.485781188147676.\n"
     ]
    },
    {
     "name": "stdout",
     "output_type": "stream",
     "text": [
      "Mean Absolute Error: 62.286952995022\n",
      "Mean Absolute Error: 65.94574352729725\n",
      "Mean Absolute Error: 30.090483849318968\n"
     ]
    },
    {
     "name": "stderr",
     "output_type": "stream",
     "text": [
      "[I 2023-10-25 15:09:40,548] Trial 216 finished with value: 60.419661483975325 and parameters: {'lambda': 0.006025427241195394, 'alpha': 2.470335219093789, 'colsample_bytree': 0.4, 'subsample': 0.7, 'learning_rate': 0.4396033844716188, 'n_estimators': 374, 'max_depth': 5, 'random_state': 202, 'min_child_weight': 153}. Best is trial 161 with value: 50.485781188147676.\n"
     ]
    },
    {
     "name": "stdout",
     "output_type": "stream",
     "text": [
      "Mean Absolute Error: 77.25644070047233\n",
      "Mean Absolute Error: 70.40420797175459\n",
      "Mean Absolute Error: 33.59833577969909\n"
     ]
    },
    {
     "name": "stderr",
     "output_type": "stream",
     "text": [
      "[I 2023-10-25 15:09:40,823] Trial 217 finished with value: 52.77897456979476 and parameters: {'lambda': 0.005022766402477594, 'alpha': 6.706546079270749, 'colsample_bytree': 0.4, 'subsample': 0.8, 'learning_rate': 0.268518694879554, 'n_estimators': 487, 'max_depth': 5, 'random_state': 46, 'min_child_weight': 168}. Best is trial 161 with value: 50.485781188147676.\n"
     ]
    },
    {
     "name": "stdout",
     "output_type": "stream",
     "text": [
      "Mean Absolute Error: 62.25516667696934\n",
      "Mean Absolute Error: 66.319682792027\n",
      "Mean Absolute Error: 29.762074240387975\n"
     ]
    },
    {
     "name": "stderr",
     "output_type": "stream",
     "text": [
      "[I 2023-10-25 15:09:41,149] Trial 218 finished with value: 55.13997871516216 and parameters: {'lambda': 0.07135614848295914, 'alpha': 3.787972227280035, 'colsample_bytree': 0.4, 'subsample': 0.6, 'learning_rate': 0.600435279686243, 'n_estimators': 527, 'max_depth': 13, 'random_state': 671, 'min_child_weight': 178}. Best is trial 161 with value: 50.485781188147676.\n"
     ]
    },
    {
     "name": "stdout",
     "output_type": "stream",
     "text": [
      "Mean Absolute Error: 64.93330095812448\n",
      "Mean Absolute Error: 67.45216206190544\n",
      "Mean Absolute Error: 33.03447312545653\n"
     ]
    },
    {
     "name": "stderr",
     "output_type": "stream",
     "text": [
      "[I 2023-10-25 15:09:41,455] Trial 219 finished with value: 104.87434196619908 and parameters: {'lambda': 0.007225400021428787, 'alpha': 1.1348567133800522, 'colsample_bytree': 0.4, 'subsample': 0.7, 'learning_rate': 0.035381114128300375, 'n_estimators': 428, 'max_depth': 15, 'random_state': 254, 'min_child_weight': 242}. Best is trial 161 with value: 50.485781188147676.\n"
     ]
    },
    {
     "name": "stdout",
     "output_type": "stream",
     "text": [
      "Mean Absolute Error: 104.81614934451808\n",
      "Mean Absolute Error: 117.7935436050712\n",
      "Mean Absolute Error: 92.01333294900795\n"
     ]
    },
    {
     "name": "stderr",
     "output_type": "stream",
     "text": [
      "[I 2023-10-25 15:09:41,727] Trial 220 finished with value: 52.92994583034175 and parameters: {'lambda': 0.010860085383986546, 'alpha': 1.7694667201540177, 'colsample_bytree': 0.4, 'subsample': 0.7, 'learning_rate': 0.45629559813445364, 'n_estimators': 407, 'max_depth': 5, 'random_state': 752, 'min_child_weight': 270}. Best is trial 161 with value: 50.485781188147676.\n"
     ]
    },
    {
     "name": "stdout",
     "output_type": "stream",
     "text": [
      "Mean Absolute Error: 64.77038081616564\n",
      "Mean Absolute Error: 65.19980526876431\n",
      "Mean Absolute Error: 28.81965140609531\n"
     ]
    },
    {
     "name": "stderr",
     "output_type": "stream",
     "text": [
      "[I 2023-10-25 15:09:42,001] Trial 221 finished with value: 52.45668857151407 and parameters: {'lambda': 0.005367348415593437, 'alpha': 2.9839930130826025, 'colsample_bytree': 0.4, 'subsample': 0.7, 'learning_rate': 0.3220626009583229, 'n_estimators': 322, 'max_depth': 5, 'random_state': 90, 'min_child_weight': 238}. Best is trial 161 with value: 50.485781188147676.\n"
     ]
    },
    {
     "name": "stdout",
     "output_type": "stream",
     "text": [
      "Mean Absolute Error: 62.44738221575008\n",
      "Mean Absolute Error: 65.40124844513235\n",
      "Mean Absolute Error: 29.521435053659793\n"
     ]
    },
    {
     "name": "stderr",
     "output_type": "stream",
     "text": [
      "[I 2023-10-25 15:09:42,273] Trial 222 finished with value: 51.31912454365169 and parameters: {'lambda': 0.004237366988219195, 'alpha': 0.7162825521196037, 'colsample_bytree': 0.4, 'subsample': 0.7, 'learning_rate': 0.5015213194523533, 'n_estimators': 372, 'max_depth': 5, 'random_state': 637, 'min_child_weight': 232}. Best is trial 161 with value: 50.485781188147676.\n"
     ]
    },
    {
     "name": "stdout",
     "output_type": "stream",
     "text": [
      "Mean Absolute Error: 62.90221299204531\n",
      "Mean Absolute Error: 63.74490757693113\n",
      "Mean Absolute Error: 27.310253061978607\n"
     ]
    },
    {
     "name": "stderr",
     "output_type": "stream",
     "text": [
      "[I 2023-10-25 15:09:42,541] Trial 223 finished with value: 53.58173142261165 and parameters: {'lambda': 0.003936287838306729, 'alpha': 0.8344929387222995, 'colsample_bytree': 0.4, 'subsample': 0.7, 'learning_rate': 0.5161433297858525, 'n_estimators': 465, 'max_depth': 5, 'random_state': 622, 'min_child_weight': 215}. Best is trial 161 with value: 50.485781188147676.\n"
     ]
    },
    {
     "name": "stdout",
     "output_type": "stream",
     "text": [
      "Mean Absolute Error: 64.34416076293958\n",
      "Mean Absolute Error: 65.2131888610992\n",
      "Mean Absolute Error: 31.18784464379616\n"
     ]
    },
    {
     "name": "stderr",
     "output_type": "stream",
     "text": [
      "[I 2023-10-25 15:09:42,833] Trial 224 finished with value: 80.60431682051336 and parameters: {'lambda': 0.0035009472865843157, 'alpha': 1.385584080439791, 'colsample_bytree': 0.4, 'subsample': 0.7, 'learning_rate': 0.08108789331509524, 'n_estimators': 389, 'max_depth': 5, 'random_state': 689, 'min_child_weight': 228}. Best is trial 161 with value: 50.485781188147676.\n"
     ]
    },
    {
     "name": "stdout",
     "output_type": "stream",
     "text": [
      "Mean Absolute Error: 82.72865401118979\n",
      "Mean Absolute Error: 93.10312027495561\n",
      "Mean Absolute Error: 65.98117617539471\n"
     ]
    },
    {
     "name": "stderr",
     "output_type": "stream",
     "text": [
      "[I 2023-10-25 15:09:43,111] Trial 225 finished with value: 51.812120044428944 and parameters: {'lambda': 0.006218481665286744, 'alpha': 1.027085992354117, 'colsample_bytree': 0.4, 'subsample': 0.7, 'learning_rate': 0.3932557182781661, 'n_estimators': 432, 'max_depth': 5, 'random_state': 642, 'min_child_weight': 222}. Best is trial 161 with value: 50.485781188147676.\n"
     ]
    },
    {
     "name": "stdout",
     "output_type": "stream",
     "text": [
      "Mean Absolute Error: 63.37001141178173\n",
      "Mean Absolute Error: 63.76128448347225\n",
      "Mean Absolute Error: 28.305064238032855\n"
     ]
    },
    {
     "name": "stderr",
     "output_type": "stream",
     "text": [
      "[I 2023-10-25 15:09:43,398] Trial 226 finished with value: 54.72260958711067 and parameters: {'lambda': 0.004520387485183378, 'alpha': 0.6545193886620285, 'colsample_bytree': 0.4, 'subsample': 1.0, 'learning_rate': 0.6534400053781533, 'n_estimators': 402, 'max_depth': 5, 'random_state': 3, 'min_child_weight': 264}. Best is trial 161 with value: 50.485781188147676.\n"
     ]
    },
    {
     "name": "stdout",
     "output_type": "stream",
     "text": [
      "Mean Absolute Error: 63.98613827235093\n",
      "Mean Absolute Error: 67.78762226843098\n",
      "Mean Absolute Error: 32.39406822055012\n"
     ]
    },
    {
     "name": "stderr",
     "output_type": "stream",
     "text": [
      "[I 2023-10-25 15:09:43,688] Trial 227 finished with value: 116.52366296175359 and parameters: {'lambda': 0.002696349944292266, 'alpha': 0.24213365719281374, 'colsample_bytree': 0.4, 'subsample': 0.7, 'learning_rate': 0.019618451739343616, 'n_estimators': 374, 'max_depth': 5, 'random_state': 34, 'min_child_weight': 143}. Best is trial 161 with value: 50.485781188147676.\n"
     ]
    },
    {
     "name": "stdout",
     "output_type": "stream",
     "text": [
      "Mean Absolute Error: 115.44907137794132\n",
      "Mean Absolute Error: 129.82067885244126\n",
      "Mean Absolute Error: 104.30123865487816\n"
     ]
    },
    {
     "name": "stderr",
     "output_type": "stream",
     "text": [
      "[I 2023-10-25 15:09:44,046] Trial 228 finished with value: 54.67594267840102 and parameters: {'lambda': 0.008316225184199324, 'alpha': 2.288053041272359, 'colsample_bytree': 0.6, 'subsample': 0.7, 'learning_rate': 0.4643962410617555, 'n_estimators': 450, 'max_depth': 11, 'random_state': 658, 'min_child_weight': 257}. Best is trial 161 with value: 50.485781188147676.\n"
     ]
    },
    {
     "name": "stdout",
     "output_type": "stream",
     "text": [
      "Mean Absolute Error: 65.52509347303578\n",
      "Mean Absolute Error: 65.77761298465025\n",
      "Mean Absolute Error: 32.72512157751704\n"
     ]
    },
    {
     "name": "stderr",
     "output_type": "stream",
     "text": [
      "[I 2023-10-25 15:09:44,336] Trial 229 finished with value: 135.35105096889197 and parameters: {'lambda': 0.04386322763717219, 'alpha': 1.2150404262674315, 'colsample_bytree': 0.4, 'subsample': 0.6, 'learning_rate': 0.0006525129137491726, 'n_estimators': 508, 'max_depth': 5, 'random_state': 55, 'min_child_weight': 234}. Best is trial 161 with value: 50.485781188147676.\n"
     ]
    },
    {
     "name": "stdout",
     "output_type": "stream",
     "text": [
      "Mean Absolute Error: 136.20298827957407\n",
      "Mean Absolute Error: 148.06370902706612\n",
      "Mean Absolute Error: 121.78645560003568\n"
     ]
    },
    {
     "name": "stderr",
     "output_type": "stream",
     "text": [
      "[I 2023-10-25 15:09:44,622] Trial 230 finished with value: 52.40630160456931 and parameters: {'lambda': 0.0010418447413358886, 'alpha': 1.630161626470071, 'colsample_bytree': 0.9, 'subsample': 0.7, 'learning_rate': 0.3315113311022849, 'n_estimators': 477, 'max_depth': 5, 'random_state': 385, 'min_child_weight': 277}. Best is trial 161 with value: 50.485781188147676.\n"
     ]
    },
    {
     "name": "stdout",
     "output_type": "stream",
     "text": [
      "Mean Absolute Error: 63.31701951910126\n",
      "Mean Absolute Error: 64.45847833865413\n",
      "Mean Absolute Error: 29.44340695595251\n"
     ]
    },
    {
     "name": "stderr",
     "output_type": "stream",
     "text": [
      "[I 2023-10-25 15:09:44,902] Trial 231 finished with value: 53.222485470982214 and parameters: {'lambda': 0.005420481232504579, 'alpha': 1.8780695434646122, 'colsample_bytree': 0.4, 'subsample': 0.7, 'learning_rate': 0.4138789356963659, 'n_estimators': 356, 'max_depth': 5, 'random_state': 610, 'min_child_weight': 233}. Best is trial 161 with value: 50.485781188147676.\n"
     ]
    },
    {
     "name": "stdout",
     "output_type": "stream",
     "text": [
      "Mean Absolute Error: 64.03930395138872\n",
      "Mean Absolute Error: 65.43043298778895\n",
      "Mean Absolute Error: 30.197719473768974\n"
     ]
    },
    {
     "name": "stderr",
     "output_type": "stream",
     "text": [
      "[I 2023-10-25 15:09:45,186] Trial 232 finished with value: 52.1792578679976 and parameters: {'lambda': 0.006937412918238654, 'alpha': 1.5037109673799869, 'colsample_bytree': 0.4, 'subsample': 0.7, 'learning_rate': 0.5156643673513114, 'n_estimators': 337, 'max_depth': 5, 'random_state': 634, 'min_child_weight': 244}. Best is trial 161 with value: 50.485781188147676.\n"
     ]
    },
    {
     "name": "stdout",
     "output_type": "stream",
     "text": [
      "Mean Absolute Error: 65.24995141223825\n",
      "Mean Absolute Error: 62.798867184571996\n",
      "Mean Absolute Error: 28.488955007182565\n"
     ]
    },
    {
     "name": "stderr",
     "output_type": "stream",
     "text": [
      "[I 2023-10-25 15:09:45,496] Trial 233 finished with value: 52.130062981146985 and parameters: {'lambda': 0.05477562009670108, 'alpha': 2.865118115449153, 'colsample_bytree': 0.4, 'subsample': 0.7, 'learning_rate': 0.3720516120257212, 'n_estimators': 366, 'max_depth': 5, 'random_state': 581, 'min_child_weight': 225}. Best is trial 161 with value: 50.485781188147676.\n"
     ]
    },
    {
     "name": "stdout",
     "output_type": "stream",
     "text": [
      "Mean Absolute Error: 62.823214232828605\n",
      "Mean Absolute Error: 65.0597549734439\n",
      "Mean Absolute Error: 28.507219737168445\n"
     ]
    },
    {
     "name": "stderr",
     "output_type": "stream",
     "text": [
      "[I 2023-10-25 15:09:45,774] Trial 234 finished with value: 127.93902563707569 and parameters: {'lambda': 0.0049042218543186526, 'alpha': 2.1036643866311246, 'colsample_bytree': 0.4, 'subsample': 0.7, 'learning_rate': 0.008012517805319048, 'n_estimators': 417, 'max_depth': 5, 'random_state': 632, 'min_child_weight': 271}. Best is trial 161 with value: 50.485781188147676.\n"
     ]
    },
    {
     "name": "stdout",
     "output_type": "stream",
     "text": [
      "Mean Absolute Error: 127.57329207185619\n",
      "Mean Absolute Error: 141.17259004091065\n",
      "Mean Absolute Error: 115.07119479846024\n"
     ]
    },
    {
     "name": "stderr",
     "output_type": "stream",
     "text": [
      "[I 2023-10-25 15:09:46,064] Trial 235 finished with value: 54.828403433160474 and parameters: {'lambda': 0.005786006119146405, 'alpha': 4.3413586361753564, 'colsample_bytree': 0.4, 'subsample': 1.0, 'learning_rate': 0.8078360231150211, 'n_estimators': 12, 'max_depth': 5, 'random_state': 997, 'min_child_weight': 251}. Best is trial 161 with value: 50.485781188147676.\n"
     ]
    },
    {
     "name": "stdout",
     "output_type": "stream",
     "text": [
      "Mean Absolute Error: 66.27963417159785\n",
      "Mean Absolute Error: 66.61528751402274\n",
      "Mean Absolute Error: 31.59028861386081\n"
     ]
    },
    {
     "name": "stderr",
     "output_type": "stream",
     "text": [
      "[I 2023-10-25 15:09:46,348] Trial 236 finished with value: 53.46265130395826 and parameters: {'lambda': 0.004199827242535738, 'alpha': 2.4919107213311458, 'colsample_bytree': 0.4, 'subsample': 0.5, 'learning_rate': 0.4501469975429747, 'n_estimators': 441, 'max_depth': 5, 'random_state': 668, 'min_child_weight': 201}. Best is trial 161 with value: 50.485781188147676.\n"
     ]
    },
    {
     "name": "stdout",
     "output_type": "stream",
     "text": [
      "Mean Absolute Error: 63.8611976864286\n",
      "Mean Absolute Error: 65.44088883756088\n",
      "Mean Absolute Error: 31.085867387885298\n"
     ]
    },
    {
     "name": "stderr",
     "output_type": "stream",
     "text": [
      "[I 2023-10-25 15:09:46,630] Trial 237 finished with value: 94.35433851691177 and parameters: {'lambda': 0.003240696922829461, 'alpha': 3.6019914919815106, 'colsample_bytree': 0.4, 'subsample': 0.7, 'learning_rate': 0.05258224580758728, 'n_estimators': 390, 'max_depth': 5, 'random_state': 803, 'min_child_weight': 193}. Best is trial 161 with value: 50.485781188147676.\n"
     ]
    },
    {
     "name": "stdout",
     "output_type": "stream",
     "text": [
      "Mean Absolute Error: 94.67884099658464\n",
      "Mean Absolute Error: 107.72109837201138\n",
      "Mean Absolute Error: 80.6630761821393\n"
     ]
    },
    {
     "name": "stderr",
     "output_type": "stream",
     "text": [
      "[I 2023-10-25 15:09:46,925] Trial 238 finished with value: 52.968668174012286 and parameters: {'lambda': 0.10209317374745522, 'alpha': 5.173320528307027, 'colsample_bytree': 0.7, 'subsample': 0.7, 'learning_rate': 0.283818114298892, 'n_estimators': 465, 'max_depth': 5, 'random_state': 217, 'min_child_weight': 260}. Best is trial 161 with value: 50.485781188147676.\n"
     ]
    },
    {
     "name": "stdout",
     "output_type": "stream",
     "text": [
      "Mean Absolute Error: 62.9344918012991\n",
      "Mean Absolute Error: 66.29230702837526\n",
      "Mean Absolute Error: 29.679205692362512\n"
     ]
    },
    {
     "name": "stderr",
     "output_type": "stream",
     "text": [
      "[I 2023-10-25 15:09:47,218] Trial 239 finished with value: 52.69947068211048 and parameters: {'lambda': 0.008810747361084744, 'alpha': 0.7830954675757852, 'colsample_bytree': 0.4, 'subsample': 0.8, 'learning_rate': 0.600437105385578, 'n_estimators': 420, 'max_depth': 7, 'random_state': 876, 'min_child_weight': 288}. Best is trial 161 with value: 50.485781188147676.\n"
     ]
    },
    {
     "name": "stdout",
     "output_type": "stream",
     "text": [
      "Mean Absolute Error: 63.54606722178635\n",
      "Mean Absolute Error: 65.56829499431322\n",
      "Mean Absolute Error: 28.98404983023188\n"
     ]
    },
    {
     "name": "stderr",
     "output_type": "stream",
     "text": [
      "[I 2023-10-25 15:09:47,558] Trial 240 finished with value: 51.65985235295605 and parameters: {'lambda': 0.007023858913111838, 'alpha': 1.7136468277121215, 'colsample_bytree': 0.4, 'subsample': 0.7, 'learning_rate': 0.3451887224852161, 'n_estimators': 493, 'max_depth': 17, 'random_state': 612, 'min_child_weight': 239}. Best is trial 161 with value: 50.485781188147676.\n"
     ]
    },
    {
     "name": "stdout",
     "output_type": "stream",
     "text": [
      "Mean Absolute Error: 62.674907589607464\n",
      "Mean Absolute Error: 63.095778545205356\n",
      "Mean Absolute Error: 29.20887092405534\n"
     ]
    },
    {
     "name": "stderr",
     "output_type": "stream",
     "text": [
      "[I 2023-10-25 15:09:47,910] Trial 241 finished with value: 52.52992870764056 and parameters: {'lambda': 0.006806528346095742, 'alpha': 1.6890955787526514, 'colsample_bytree': 0.4, 'subsample': 0.7, 'learning_rate': 0.33531565113761075, 'n_estimators': 486, 'max_depth': 17, 'random_state': 611, 'min_child_weight': 237}. Best is trial 161 with value: 50.485781188147676.\n"
     ]
    },
    {
     "name": "stdout",
     "output_type": "stream",
     "text": [
      "Mean Absolute Error: 63.56264876169647\n",
      "Mean Absolute Error: 64.24176779189335\n",
      "Mean Absolute Error: 29.785369569331877\n"
     ]
    },
    {
     "name": "stderr",
     "output_type": "stream",
     "text": [
      "[I 2023-10-25 15:09:48,189] Trial 242 finished with value: 53.23780245493392 and parameters: {'lambda': 0.005331412317583994, 'alpha': 1.1483955385717577, 'colsample_bytree': 0.4, 'subsample': 0.7, 'learning_rate': 0.36951043092755126, 'n_estimators': 454, 'max_depth': 5, 'random_state': 568, 'min_child_weight': 240}. Best is trial 161 with value: 50.485781188147676.\n"
     ]
    },
    {
     "name": "stdout",
     "output_type": "stream",
     "text": [
      "Mean Absolute Error: 62.587973402612775\n",
      "Mean Absolute Error: 65.52961818827758\n",
      "Mean Absolute Error: 31.595815773911394\n"
     ]
    },
    {
     "name": "stderr",
     "output_type": "stream",
     "text": [
      "[I 2023-10-25 15:09:48,523] Trial 243 finished with value: 54.2042473928069 and parameters: {'lambda': 0.2993413425918342, 'alpha': 1.4931258019656528, 'colsample_bytree': 0.4, 'subsample': 0.7, 'learning_rate': 0.4428637905380185, 'n_estimators': 512, 'max_depth': 17, 'random_state': 645, 'min_child_weight': 233}. Best is trial 161 with value: 50.485781188147676.\n"
     ]
    },
    {
     "name": "stdout",
     "output_type": "stream",
     "text": [
      "Mean Absolute Error: 66.04448666239787\n",
      "Mean Absolute Error: 67.76319020863248\n",
      "Mean Absolute Error: 28.80506530739032\n"
     ]
    },
    {
     "name": "stderr",
     "output_type": "stream",
     "text": [
      "[I 2023-10-25 15:09:48,849] Trial 244 finished with value: 54.74766779699461 and parameters: {'lambda': 0.007311436257770539, 'alpha': 2.109975475336209, 'colsample_bytree': 0.4, 'subsample': 0.7, 'learning_rate': 0.2473008600482264, 'n_estimators': 469, 'max_depth': 17, 'random_state': 457, 'min_child_weight': 245}. Best is trial 161 with value: 50.485781188147676.\n"
     ]
    },
    {
     "name": "stdout",
     "output_type": "stream",
     "text": [
      "Mean Absolute Error: 63.5237245784601\n",
      "Mean Absolute Error: 67.09018170034295\n",
      "Mean Absolute Error: 33.629097112180766\n"
     ]
    },
    {
     "name": "stderr",
     "output_type": "stream",
     "text": [
      "[I 2023-10-25 15:09:49,185] Trial 245 finished with value: 54.15043830535188 and parameters: {'lambda': 0.006205709569335586, 'alpha': 2.7932138129480673, 'colsample_bytree': 0.4, 'subsample': 0.7, 'learning_rate': 0.5170519337314511, 'n_estimators': 435, 'max_depth': 17, 'random_state': 589, 'min_child_weight': 270}. Best is trial 161 with value: 50.485781188147676.\n"
     ]
    },
    {
     "name": "stdout",
     "output_type": "stream",
     "text": [
      "Mean Absolute Error: 64.87535940489276\n",
      "Mean Absolute Error: 66.94962967771235\n",
      "Mean Absolute Error: 30.62632583345053\n",
      "Mean Absolute Error: 62.483199673605405\n",
      "Mean Absolute Error: 64.8770781152951\n"
     ]
    },
    {
     "name": "stderr",
     "output_type": "stream",
     "text": [
      "[I 2023-10-25 15:09:49,559] Trial 246 finished with value: 52.7778764799778 and parameters: {'lambda': 0.014305188906008444, 'alpha': 1.8010929038530719, 'colsample_bytree': 0.5, 'subsample': 1.0, 'learning_rate': 0.32527659211966925, 'n_estimators': 494, 'max_depth': 17, 'random_state': 725, 'min_child_weight': 229}. Best is trial 161 with value: 50.485781188147676.\n"
     ]
    },
    {
     "name": "stdout",
     "output_type": "stream",
     "text": [
      "Mean Absolute Error: 30.97335165103289\n",
      "Mean Absolute Error: 63.85883687769496\n",
      "Mean Absolute Error: 63.871605934678044\n"
     ]
    },
    {
     "name": "stderr",
     "output_type": "stream",
     "text": [
      "[I 2023-10-25 15:09:49,836] Trial 247 finished with value: 52.80452140825105 and parameters: {'lambda': 0.004585109943473006, 'alpha': 3.2845203780733114, 'colsample_bytree': 0.4, 'subsample': 0.7, 'learning_rate': 0.40223088120316136, 'n_estimators': 399, 'max_depth': 5, 'random_state': 619, 'min_child_weight': 253}. Best is trial 161 with value: 50.485781188147676.\n"
     ]
    },
    {
     "name": "stdout",
     "output_type": "stream",
     "text": [
      "Mean Absolute Error: 30.683121412380128\n",
      "Mean Absolute Error: 102.07904957748923\n",
      "Mean Absolute Error: 114.81163612818992\n"
     ]
    },
    {
     "name": "stderr",
     "output_type": "stream",
     "text": [
      "[I 2023-10-25 15:09:50,119] Trial 248 finished with value: 101.72164523838255 and parameters: {'lambda': 0.009474447771329633, 'alpha': 0.531671389320643, 'colsample_bytree': 0.4, 'subsample': 0.7, 'learning_rate': 0.04070146813356215, 'n_estimators': 337, 'max_depth': 5, 'random_state': 74, 'min_child_weight': 265}. Best is trial 161 with value: 50.485781188147676.\n"
     ]
    },
    {
     "name": "stdout",
     "output_type": "stream",
     "text": [
      "Mean Absolute Error: 88.27425000946847\n",
      "Mean Absolute Error: 65.5824435125804\n"
     ]
    },
    {
     "name": "stderr",
     "output_type": "stream",
     "text": [
      "[I 2023-10-25 15:09:50,423] Trial 249 finished with value: 53.077747893024195 and parameters: {'lambda': 0.00407922887184089, 'alpha': 2.3220295619742664, 'colsample_bytree': 0.4, 'subsample': 0.6, 'learning_rate': 0.5125374004832897, 'n_estimators': 537, 'max_depth': 9, 'random_state': 598, 'min_child_weight': 278}. Best is trial 161 with value: 50.485781188147676.\n"
     ]
    },
    {
     "name": "stdout",
     "output_type": "stream",
     "text": [
      "Mean Absolute Error: 63.961039987159225\n",
      "Mean Absolute Error: 29.689760179332936\n"
     ]
    },
    {
     "name": "stderr",
     "output_type": "stream",
     "text": [
      "[I 2023-10-25 15:09:50,697] Trial 250 finished with value: 53.919632657637855 and parameters: {'lambda': 0.1351233430983604, 'alpha': 1.2887100311286765, 'colsample_bytree': 0.4, 'subsample': 0.4, 'learning_rate': 0.28933177224716605, 'n_estimators': 448, 'max_depth': 5, 'random_state': 165, 'min_child_weight': 249}. Best is trial 161 with value: 50.485781188147676.\n"
     ]
    },
    {
     "name": "stdout",
     "output_type": "stream",
     "text": [
      "Mean Absolute Error: 66.20939160849949\n",
      "Mean Absolute Error: 65.90139257393655\n",
      "Mean Absolute Error: 29.648113790477538\n"
     ]
    },
    {
     "name": "stderr",
     "output_type": "stream",
     "text": [
      "[I 2023-10-25 15:09:50,968] Trial 251 finished with value: 53.99725300574686 and parameters: {'lambda': 0.02516630423672908, 'alpha': 2.71070799333349, 'colsample_bytree': 0.3, 'subsample': 0.7, 'learning_rate': 0.4026332995084538, 'n_estimators': 376, 'max_depth': 5, 'random_state': 104, 'min_child_weight': 263}. Best is trial 161 with value: 50.485781188147676.\n"
     ]
    },
    {
     "name": "stdout",
     "output_type": "stream",
     "text": [
      "Mean Absolute Error: 68.05416633563075\n",
      "Mean Absolute Error: 65.03838939717932\n",
      "Mean Absolute Error: 28.899203284430506\n"
     ]
    },
    {
     "name": "stderr",
     "output_type": "stream",
     "text": [
      "[I 2023-10-25 15:09:51,280] Trial 252 finished with value: 56.206487884881994 and parameters: {'lambda': 0.005636441975488264, 'alpha': 0.4052510702336277, 'colsample_bytree': 1.0, 'subsample': 0.7, 'learning_rate': 0.21785356225160102, 'n_estimators': 477, 'max_depth': 5, 'random_state': 775, 'min_child_weight': 218}. Best is trial 161 with value: 50.485781188147676.\n"
     ]
    },
    {
     "name": "stdout",
     "output_type": "stream",
     "text": [
      "Mean Absolute Error: 64.17292273417154\n",
      "Mean Absolute Error: 68.50437468715864\n",
      "Mean Absolute Error: 35.9421662333158\n"
     ]
    },
    {
     "name": "stderr",
     "output_type": "stream",
     "text": [
      "[I 2023-10-25 15:09:51,554] Trial 253 finished with value: 51.901673742686874 and parameters: {'lambda': 0.0078693248747005, 'alpha': 4.194050679263065, 'colsample_bytree': 0.4, 'subsample': 1.0, 'learning_rate': 0.338328891568782, 'n_estimators': 424, 'max_depth': 5, 'random_state': 47, 'min_child_weight': 239}. Best is trial 161 with value: 50.485781188147676.\n"
     ]
    },
    {
     "name": "stdout",
     "output_type": "stream",
     "text": [
      "Mean Absolute Error: 61.46849483261689\n",
      "Mean Absolute Error: 64.54375351939687\n",
      "Mean Absolute Error: 29.692772876046856\n"
     ]
    },
    {
     "name": "stderr",
     "output_type": "stream",
     "text": [
      "[I 2023-10-25 15:09:51,838] Trial 254 finished with value: 88.03404260756967 and parameters: {'lambda': 0.01174711717801837, 'alpha': 1.433543896725623, 'colsample_bytree': 0.9, 'subsample': 0.7, 'learning_rate': 0.06483913247533238, 'n_estimators': 351, 'max_depth': 5, 'random_state': 20, 'min_child_weight': 274}. Best is trial 161 with value: 50.485781188147676.\n"
     ]
    },
    {
     "name": "stdout",
     "output_type": "stream",
     "text": [
      "Mean Absolute Error: 89.10574701873887\n",
      "Mean Absolute Error: 101.60739759072861\n",
      "Mean Absolute Error: 73.38898321324154\n"
     ]
    },
    {
     "name": "stderr",
     "output_type": "stream",
     "text": [
      "[I 2023-10-25 15:09:52,139] Trial 255 finished with value: 54.89927759891436 and parameters: {'lambda': 0.020906450718275276, 'alpha': 2.054294456883722, 'colsample_bytree': 0.4, 'subsample': 0.7, 'learning_rate': 0.5938137516514239, 'n_estimators': 407, 'max_depth': 7, 'random_state': 68, 'min_child_weight': 186}. Best is trial 161 with value: 50.485781188147676.\n"
     ]
    },
    {
     "name": "stdout",
     "output_type": "stream",
     "text": [
      "Mean Absolute Error: 65.77674649007238\n",
      "Mean Absolute Error: 67.66011318173398\n",
      "Mean Absolute Error: 31.260973124936733\n"
     ]
    },
    {
     "name": "stderr",
     "output_type": "stream",
     "text": [
      "[I 2023-10-25 15:09:52,423] Trial 256 finished with value: 50.931879529325556 and parameters: {'lambda': 0.005018516906803223, 'alpha': 0.0011961690073313336, 'colsample_bytree': 0.4, 'subsample': 0.7, 'learning_rate': 0.4637107414777838, 'n_estimators': 503, 'max_depth': 5, 'random_state': 551, 'min_child_weight': 255}. Best is trial 161 with value: 50.485781188147676.\n"
     ]
    },
    {
     "name": "stdout",
     "output_type": "stream",
     "text": [
      "Mean Absolute Error: 64.0428291927268\n",
      "Mean Absolute Error: 62.57101319284364\n",
      "Mean Absolute Error: 26.18179620240622\n"
     ]
    },
    {
     "name": "stderr",
     "output_type": "stream",
     "text": [
      "[I 2023-10-25 15:09:52,709] Trial 257 finished with value: 51.85926115775607 and parameters: {'lambda': 0.0035618357618016033, 'alpha': 0.006746330162410326, 'colsample_bytree': 0.4, 'subsample': 0.7, 'learning_rate': 0.45111743096210144, 'n_estimators': 659, 'max_depth': 5, 'random_state': 563, 'min_child_weight': 258}. Best is trial 161 with value: 50.485781188147676.\n"
     ]
    },
    {
     "name": "stdout",
     "output_type": "stream",
     "text": [
      "Mean Absolute Error: 62.186378476864334\n",
      "Mean Absolute Error: 64.09948122238166\n",
      "Mean Absolute Error: 29.291923774022248\n",
      "Mean Absolute Error: 62.94054881224945\n",
      "Mean Absolute Error: 66.62464912174882\n"
     ]
    },
    {
     "name": "stderr",
     "output_type": "stream",
     "text": [
      "[I 2023-10-25 15:09:53,082] Trial 258 finished with value: 53.663455573888804 and parameters: {'lambda': 0.004816283575710226, 'alpha': 0.05455606289452507, 'colsample_bytree': 0.4, 'subsample': 0.8, 'learning_rate': 0.2832956536790175, 'n_estimators': 504, 'max_depth': 17, 'random_state': 752, 'min_child_weight': 160}. Best is trial 161 with value: 50.485781188147676.\n"
     ]
    },
    {
     "name": "stdout",
     "output_type": "stream",
     "text": [
      "Mean Absolute Error: 31.425168787668163\n",
      "Mean Absolute Error: 62.55682426003133\n",
      "Mean Absolute Error: 64.14058017662046\n"
     ]
    },
    {
     "name": "stderr",
     "output_type": "stream",
     "text": [
      "[I 2023-10-25 15:09:53,356] Trial 259 finished with value: 52.453129831205764 and parameters: {'lambda': 0.030157017678254513, 'alpha': 0.0014334247355734882, 'colsample_bytree': 0.4, 'subsample': 1.0, 'learning_rate': 0.37789470448567747, 'n_estimators': 549, 'max_depth': 5, 'random_state': 488, 'min_child_weight': 267}. Best is trial 161 with value: 50.485781188147676.\n"
     ]
    },
    {
     "name": "stdout",
     "output_type": "stream",
     "text": [
      "Mean Absolute Error: 30.661985056965516\n",
      "Mean Absolute Error: 65.2371308596086\n"
     ]
    },
    {
     "name": "stderr",
     "output_type": "stream",
     "text": [
      "[I 2023-10-25 15:09:53,726] Trial 260 finished with value: 54.64723383698956 and parameters: {'lambda': 1.11578403428969, 'alpha': 0.002002697618049252, 'colsample_bytree': 0.4, 'subsample': 0.6, 'learning_rate': 0.5133729925622076, 'n_estimators': 485, 'max_depth': 13, 'random_state': 912, 'min_child_weight': 254}. Best is trial 161 with value: 50.485781188147676.\n"
     ]
    },
    {
     "name": "stdout",
     "output_type": "stream",
     "text": [
      "Mean Absolute Error: 65.59717638654243\n",
      "Mean Absolute Error: 33.107394264817664\n",
      "Mean Absolute Error: 66.27775777463935\n",
      "Mean Absolute Error: 66.86530045973127\n"
     ]
    },
    {
     "name": "stderr",
     "output_type": "stream",
     "text": [
      "[I 2023-10-25 15:09:54,086] Trial 261 finished with value: 56.11877065854164 and parameters: {'lambda': 0.006392991382188185, 'alpha': 0.008916568934725888, 'colsample_bytree': 0.4, 'subsample': 0.7, 'learning_rate': 0.7187394724996586, 'n_estimators': 524, 'max_depth': 15, 'random_state': 510, 'min_child_weight': 283}. Best is trial 161 with value: 50.485781188147676.\n"
     ]
    },
    {
     "name": "stdout",
     "output_type": "stream",
     "text": [
      "Mean Absolute Error: 35.21325374125427\n",
      "Mean Absolute Error: 73.44052274649701\n",
      "Mean Absolute Error: 81.42223037047441\n"
     ]
    },
    {
     "name": "stderr",
     "output_type": "stream",
     "text": [
      "[I 2023-10-25 15:09:54,366] Trial 262 finished with value: 68.72487125967803 and parameters: {'lambda': 0.009573839610263606, 'alpha': 0.1257228602911111, 'colsample_bytree': 0.4, 'subsample': 0.7, 'learning_rate': 0.12152608528854071, 'n_estimators': 458, 'max_depth': 5, 'random_state': 547, 'min_child_weight': 259}. Best is trial 161 with value: 50.485781188147676.\n"
     ]
    },
    {
     "name": "stdout",
     "output_type": "stream",
     "text": [
      "Mean Absolute Error: 51.31186066206266\n",
      "Mean Absolute Error: 62.50773049838473\n",
      "Mean Absolute Error: 62.104326079258364\n"
     ]
    },
    {
     "name": "stderr",
     "output_type": "stream",
     "text": [
      "[I 2023-10-25 15:09:54,650] Trial 263 finished with value: 50.27787337985148 and parameters: {'lambda': 0.007054847197356342, 'alpha': 0.0018983582679185027, 'colsample_bytree': 0.4, 'subsample': 0.7, 'learning_rate': 0.3265940170630029, 'n_estimators': 502, 'max_depth': 5, 'random_state': 784, 'min_child_weight': 249}. Best is trial 263 with value: 50.27787337985148.\n"
     ]
    },
    {
     "name": "stdout",
     "output_type": "stream",
     "text": [
      "Mean Absolute Error: 26.221563561911324\n",
      "Mean Absolute Error: 63.12679071694806\n"
     ]
    },
    {
     "name": "stderr",
     "output_type": "stream",
     "text": [
      "[I 2023-10-25 15:09:54,934] Trial 264 finished with value: 53.551427670122145 and parameters: {'lambda': 0.004055236533174003, 'alpha': 0.020888967218670076, 'colsample_bytree': 0.4, 'subsample': 0.7, 'learning_rate': 0.2545674776208154, 'n_estimators': 438, 'max_depth': 5, 'random_state': 825, 'min_child_weight': 247}. Best is trial 263 with value: 50.27787337985148.\n"
     ]
    },
    {
     "name": "stdout",
     "output_type": "stream",
     "text": [
      "Mean Absolute Error: 66.29925729945131\n",
      "Mean Absolute Error: 31.228234993967067\n"
     ]
    },
    {
     "name": "stderr",
     "output_type": "stream",
     "text": [
      "[I 2023-10-25 15:09:55,222] Trial 265 finished with value: 51.65633858460572 and parameters: {'lambda': 0.005168604722192278, 'alpha': 0.9284630166592507, 'colsample_bytree': 0.6, 'subsample': 1.0, 'learning_rate': 0.42072428820582997, 'n_estimators': 585, 'max_depth': 5, 'random_state': 777, 'min_child_weight': 263}. Best is trial 263 with value: 50.27787337985148.\n"
     ]
    },
    {
     "name": "stdout",
     "output_type": "stream",
     "text": [
      "Mean Absolute Error: 62.95583757852695\n",
      "Mean Absolute Error: 62.934967598294506\n",
      "Mean Absolute Error: 29.07821057699569\n"
     ]
    },
    {
     "name": "stderr",
     "output_type": "stream",
     "text": [
      "[I 2023-10-25 15:09:55,500] Trial 266 finished with value: 53.29349628180611 and parameters: {'lambda': 0.0025227182599963987, 'alpha': 0.0013984727396008428, 'colsample_bytree': 0.4, 'subsample': 0.7, 'learning_rate': 0.5784786916846643, 'n_estimators': 467, 'max_depth': 5, 'random_state': 57, 'min_child_weight': 254}. Best is trial 263 with value: 50.27787337985148.\n"
     ]
    },
    {
     "name": "stdout",
     "output_type": "stream",
     "text": [
      "Mean Absolute Error: 64.16010271351053\n",
      "Mean Absolute Error: 65.47772343527717\n",
      "Mean Absolute Error: 30.24266269663063\n"
     ]
    },
    {
     "name": "stderr",
     "output_type": "stream",
     "text": [
      "[I 2023-10-25 15:09:55,794] Trial 267 finished with value: 59.15900496945085 and parameters: {'lambda': 0.008057938438319891, 'alpha': 0.0010751946431864156, 'colsample_bytree': 0.4, 'subsample': 0.7, 'learning_rate': 0.18039091110646369, 'n_estimators': 508, 'max_depth': 5, 'random_state': 793, 'min_child_weight': 292}. Best is trial 263 with value: 50.27787337985148.\n"
     ]
    },
    {
     "name": "stdout",
     "output_type": "stream",
     "text": [
      "Mean Absolute Error: 67.57897581218542\n",
      "Mean Absolute Error: 72.21854449018383\n",
      "Mean Absolute Error: 37.67949460598327\n"
     ]
    },
    {
     "name": "stderr",
     "output_type": "stream",
     "text": [
      "[I 2023-10-25 15:09:56,080] Trial 268 finished with value: 52.45567863976641 and parameters: {'lambda': 0.0031803110767167795, 'alpha': 0.002341584967296539, 'colsample_bytree': 0.9, 'subsample': 0.5, 'learning_rate': 0.3166221813906251, 'n_estimators': 451, 'max_depth': 5, 'random_state': 761, 'min_child_weight': 273}. Best is trial 263 with value: 50.27787337985148.\n"
     ]
    },
    {
     "name": "stdout",
     "output_type": "stream",
     "text": [
      "Mean Absolute Error: 65.54567276748253\n",
      "Mean Absolute Error: 63.73986236830682\n",
      "Mean Absolute Error: 28.081500783509874\n"
     ]
    },
    {
     "name": "stderr",
     "output_type": "stream",
     "text": [
      "[I 2023-10-25 15:09:56,410] Trial 269 finished with value: 61.97227674796912 and parameters: {'lambda': 0.0060292925078095985, 'alpha': 0.19484847365707567, 'colsample_bytree': 0.4, 'subsample': 0.6, 'learning_rate': 0.8679207731147319, 'n_estimators': 424, 'max_depth': 11, 'random_state': 806, 'min_child_weight': 267}. Best is trial 263 with value: 50.27787337985148.\n"
     ]
    },
    {
     "name": "stdout",
     "output_type": "stream",
     "text": [
      "Mean Absolute Error: 72.64610637880442\n",
      "Mean Absolute Error: 73.75289654323474\n",
      "Mean Absolute Error: 39.51782732186819\n"
     ]
    },
    {
     "name": "stderr",
     "output_type": "stream",
     "text": [
      "[I 2023-10-25 15:09:56,690] Trial 270 finished with value: 51.82595679384114 and parameters: {'lambda': 0.004780819901730216, 'alpha': 0.06978641416874781, 'colsample_bytree': 0.4, 'subsample': 0.7, 'learning_rate': 0.4645463102975302, 'n_estimators': 475, 'max_depth': 5, 'random_state': 527, 'min_child_weight': 258}. Best is trial 263 with value: 50.27787337985148.\n"
     ]
    },
    {
     "name": "stdout",
     "output_type": "stream",
     "text": [
      "Mean Absolute Error: 63.29676163433584\n",
      "Mean Absolute Error: 63.33662155993651\n",
      "Mean Absolute Error: 28.84448718725109\n"
     ]
    },
    {
     "name": "stderr",
     "output_type": "stream",
     "text": [
      "[W 2023-10-25 15:09:56,779] Trial 271 failed with parameters: {'lambda': 0.012824691339752583, 'alpha': 0.0011570335433913346, 'colsample_bytree': 0.4, 'subsample': 1.0, 'learning_rate': 0.380113597447431, 'n_estimators': 527, 'max_depth': 5, 'random_state': 89} because of the following error: KeyboardInterrupt().\n",
      "Traceback (most recent call last):\n",
      "  File \"/opt/conda/lib/python3.10/site-packages/optuna/study/_optimize.py\", line 200, in _run_trial\n",
      "    value_or_values = func(trial)\n",
      "  File \"/var/tmp/ipykernel_281609/4117320872.py\", line 11, in objective\n",
      "    'min_child_weight': trial.suggest_int('min_child_weight', 1, 300),\n",
      "  File \"/opt/conda/lib/python3.10/site-packages/optuna/trial/_trial.py\", line 321, in suggest_int\n",
      "    suggested_value = int(self._suggest(name, distribution))\n",
      "  File \"/opt/conda/lib/python3.10/site-packages/optuna/trial/_trial.py\", line 630, in _suggest\n",
      "    param_value = self.study.sampler.sample_independent(\n",
      "  File \"/opt/conda/lib/python3.10/site-packages/optuna/samplers/_tpe/sampler.py\", line 423, in sample_independent\n",
      "    return self._sample(study, trial, {param_name: param_distribution})[param_name]\n",
      "  File \"/opt/conda/lib/python3.10/site-packages/optuna/samplers/_tpe/sampler.py\", line 477, in _sample\n",
      "    log_likelihoods_above = mpe_above.log_pdf(samples_below)\n",
      "  File \"/opt/conda/lib/python3.10/site-packages/optuna/samplers/_tpe/parzen_estimator.py\", line 92, in log_pdf\n",
      "    return self._mixture_distribution.log_pdf(transformed_samples)\n",
      "  File \"/opt/conda/lib/python3.10/site-packages/optuna/samplers/_tpe/probability_distributions.py\", line 104, in log_pdf\n",
      "    log_gauss_mass = _truncnorm._log_gauss_mass(\n",
      "  File \"/opt/conda/lib/python3.10/site-packages/optuna/samplers/_tpe/_truncnorm.py\", line 143, in _log_gauss_mass\n",
      "    out[case_left] = mass_case_left(a[case_left], b[case_left])\n",
      "  File \"/opt/conda/lib/python3.10/site-packages/optuna/samplers/_tpe/_truncnorm.py\", line 122, in mass_case_left\n",
      "    return _log_diff(_log_ndtr(b), _log_ndtr(a))\n",
      "  File \"/opt/conda/lib/python3.10/site-packages/optuna/samplers/_tpe/_truncnorm.py\", line 105, in _log_ndtr\n",
      "    return np.frompyfunc(_log_ndtr_single, 1, 1)(a).astype(float)\n",
      "  File \"/opt/conda/lib/python3.10/site-packages/optuna/samplers/_tpe/_truncnorm.py\", line 77, in _log_ndtr_single\n",
      "    @functools.lru_cache(1000)\n",
      "KeyboardInterrupt\n",
      "[W 2023-10-25 15:09:56,813] Trial 271 failed with value None.\n"
     ]
    },
    {
     "ename": "KeyboardInterrupt",
     "evalue": "",
     "output_type": "error",
     "traceback": [
      "\u001b[0;31m---------------------------------------------------------------------------\u001b[0m",
      "\u001b[0;31mKeyboardInterrupt\u001b[0m                         Traceback (most recent call last)",
      "Cell \u001b[0;32mIn[234], line 1\u001b[0m\n\u001b[0;32m----> 1\u001b[0m \u001b[43mstudy\u001b[49m\u001b[38;5;241;43m.\u001b[39;49m\u001b[43moptimize\u001b[49m\u001b[43m(\u001b[49m\u001b[43mobjective\u001b[49m\u001b[43m,\u001b[49m\u001b[43m \u001b[49m\u001b[43mn_trials\u001b[49m\u001b[38;5;241;43m=\u001b[39;49m\u001b[38;5;241;43m500\u001b[39;49m\u001b[43m)\u001b[49m\n",
      "File \u001b[0;32m/opt/conda/lib/python3.10/site-packages/optuna/study/study.py:451\u001b[0m, in \u001b[0;36mStudy.optimize\u001b[0;34m(self, func, n_trials, timeout, n_jobs, catch, callbacks, gc_after_trial, show_progress_bar)\u001b[0m\n\u001b[1;32m    348\u001b[0m \u001b[38;5;28;01mdef\u001b[39;00m \u001b[38;5;21moptimize\u001b[39m(\n\u001b[1;32m    349\u001b[0m     \u001b[38;5;28mself\u001b[39m,\n\u001b[1;32m    350\u001b[0m     func: ObjectiveFuncType,\n\u001b[0;32m   (...)\u001b[0m\n\u001b[1;32m    357\u001b[0m     show_progress_bar: \u001b[38;5;28mbool\u001b[39m \u001b[38;5;241m=\u001b[39m \u001b[38;5;28;01mFalse\u001b[39;00m,\n\u001b[1;32m    358\u001b[0m ) \u001b[38;5;241m-\u001b[39m\u001b[38;5;241m>\u001b[39m \u001b[38;5;28;01mNone\u001b[39;00m:\n\u001b[1;32m    359\u001b[0m \u001b[38;5;250m    \u001b[39m\u001b[38;5;124;03m\"\"\"Optimize an objective function.\u001b[39;00m\n\u001b[1;32m    360\u001b[0m \n\u001b[1;32m    361\u001b[0m \u001b[38;5;124;03m    Optimization is done by choosing a suitable set of hyperparameter values from a given\u001b[39;00m\n\u001b[0;32m   (...)\u001b[0m\n\u001b[1;32m    449\u001b[0m \u001b[38;5;124;03m            If nested invocation of this method occurs.\u001b[39;00m\n\u001b[1;32m    450\u001b[0m \u001b[38;5;124;03m    \"\"\"\u001b[39;00m\n\u001b[0;32m--> 451\u001b[0m     \u001b[43m_optimize\u001b[49m\u001b[43m(\u001b[49m\n\u001b[1;32m    452\u001b[0m \u001b[43m        \u001b[49m\u001b[43mstudy\u001b[49m\u001b[38;5;241;43m=\u001b[39;49m\u001b[38;5;28;43mself\u001b[39;49m\u001b[43m,\u001b[49m\n\u001b[1;32m    453\u001b[0m \u001b[43m        \u001b[49m\u001b[43mfunc\u001b[49m\u001b[38;5;241;43m=\u001b[39;49m\u001b[43mfunc\u001b[49m\u001b[43m,\u001b[49m\n\u001b[1;32m    454\u001b[0m \u001b[43m        \u001b[49m\u001b[43mn_trials\u001b[49m\u001b[38;5;241;43m=\u001b[39;49m\u001b[43mn_trials\u001b[49m\u001b[43m,\u001b[49m\n\u001b[1;32m    455\u001b[0m \u001b[43m        \u001b[49m\u001b[43mtimeout\u001b[49m\u001b[38;5;241;43m=\u001b[39;49m\u001b[43mtimeout\u001b[49m\u001b[43m,\u001b[49m\n\u001b[1;32m    456\u001b[0m \u001b[43m        \u001b[49m\u001b[43mn_jobs\u001b[49m\u001b[38;5;241;43m=\u001b[39;49m\u001b[43mn_jobs\u001b[49m\u001b[43m,\u001b[49m\n\u001b[1;32m    457\u001b[0m \u001b[43m        \u001b[49m\u001b[43mcatch\u001b[49m\u001b[38;5;241;43m=\u001b[39;49m\u001b[38;5;28;43mtuple\u001b[39;49m\u001b[43m(\u001b[49m\u001b[43mcatch\u001b[49m\u001b[43m)\u001b[49m\u001b[43m \u001b[49m\u001b[38;5;28;43;01mif\u001b[39;49;00m\u001b[43m \u001b[49m\u001b[38;5;28;43misinstance\u001b[39;49m\u001b[43m(\u001b[49m\u001b[43mcatch\u001b[49m\u001b[43m,\u001b[49m\u001b[43m \u001b[49m\u001b[43mIterable\u001b[49m\u001b[43m)\u001b[49m\u001b[43m \u001b[49m\u001b[38;5;28;43;01melse\u001b[39;49;00m\u001b[43m \u001b[49m\u001b[43m(\u001b[49m\u001b[43mcatch\u001b[49m\u001b[43m,\u001b[49m\u001b[43m)\u001b[49m\u001b[43m,\u001b[49m\n\u001b[1;32m    458\u001b[0m \u001b[43m        \u001b[49m\u001b[43mcallbacks\u001b[49m\u001b[38;5;241;43m=\u001b[39;49m\u001b[43mcallbacks\u001b[49m\u001b[43m,\u001b[49m\n\u001b[1;32m    459\u001b[0m \u001b[43m        \u001b[49m\u001b[43mgc_after_trial\u001b[49m\u001b[38;5;241;43m=\u001b[39;49m\u001b[43mgc_after_trial\u001b[49m\u001b[43m,\u001b[49m\n\u001b[1;32m    460\u001b[0m \u001b[43m        \u001b[49m\u001b[43mshow_progress_bar\u001b[49m\u001b[38;5;241;43m=\u001b[39;49m\u001b[43mshow_progress_bar\u001b[49m\u001b[43m,\u001b[49m\n\u001b[1;32m    461\u001b[0m \u001b[43m    \u001b[49m\u001b[43m)\u001b[49m\n",
      "File \u001b[0;32m/opt/conda/lib/python3.10/site-packages/optuna/study/_optimize.py:66\u001b[0m, in \u001b[0;36m_optimize\u001b[0;34m(study, func, n_trials, timeout, n_jobs, catch, callbacks, gc_after_trial, show_progress_bar)\u001b[0m\n\u001b[1;32m     64\u001b[0m \u001b[38;5;28;01mtry\u001b[39;00m:\n\u001b[1;32m     65\u001b[0m     \u001b[38;5;28;01mif\u001b[39;00m n_jobs \u001b[38;5;241m==\u001b[39m \u001b[38;5;241m1\u001b[39m:\n\u001b[0;32m---> 66\u001b[0m         \u001b[43m_optimize_sequential\u001b[49m\u001b[43m(\u001b[49m\n\u001b[1;32m     67\u001b[0m \u001b[43m            \u001b[49m\u001b[43mstudy\u001b[49m\u001b[43m,\u001b[49m\n\u001b[1;32m     68\u001b[0m \u001b[43m            \u001b[49m\u001b[43mfunc\u001b[49m\u001b[43m,\u001b[49m\n\u001b[1;32m     69\u001b[0m \u001b[43m            \u001b[49m\u001b[43mn_trials\u001b[49m\u001b[43m,\u001b[49m\n\u001b[1;32m     70\u001b[0m \u001b[43m            \u001b[49m\u001b[43mtimeout\u001b[49m\u001b[43m,\u001b[49m\n\u001b[1;32m     71\u001b[0m \u001b[43m            \u001b[49m\u001b[43mcatch\u001b[49m\u001b[43m,\u001b[49m\n\u001b[1;32m     72\u001b[0m \u001b[43m            \u001b[49m\u001b[43mcallbacks\u001b[49m\u001b[43m,\u001b[49m\n\u001b[1;32m     73\u001b[0m \u001b[43m            \u001b[49m\u001b[43mgc_after_trial\u001b[49m\u001b[43m,\u001b[49m\n\u001b[1;32m     74\u001b[0m \u001b[43m            \u001b[49m\u001b[43mreseed_sampler_rng\u001b[49m\u001b[38;5;241;43m=\u001b[39;49m\u001b[38;5;28;43;01mFalse\u001b[39;49;00m\u001b[43m,\u001b[49m\n\u001b[1;32m     75\u001b[0m \u001b[43m            \u001b[49m\u001b[43mtime_start\u001b[49m\u001b[38;5;241;43m=\u001b[39;49m\u001b[38;5;28;43;01mNone\u001b[39;49;00m\u001b[43m,\u001b[49m\n\u001b[1;32m     76\u001b[0m \u001b[43m            \u001b[49m\u001b[43mprogress_bar\u001b[49m\u001b[38;5;241;43m=\u001b[39;49m\u001b[43mprogress_bar\u001b[49m\u001b[43m,\u001b[49m\n\u001b[1;32m     77\u001b[0m \u001b[43m        \u001b[49m\u001b[43m)\u001b[49m\n\u001b[1;32m     78\u001b[0m     \u001b[38;5;28;01melse\u001b[39;00m:\n\u001b[1;32m     79\u001b[0m         \u001b[38;5;28;01mif\u001b[39;00m n_jobs \u001b[38;5;241m==\u001b[39m \u001b[38;5;241m-\u001b[39m\u001b[38;5;241m1\u001b[39m:\n",
      "File \u001b[0;32m/opt/conda/lib/python3.10/site-packages/optuna/study/_optimize.py:163\u001b[0m, in \u001b[0;36m_optimize_sequential\u001b[0;34m(study, func, n_trials, timeout, catch, callbacks, gc_after_trial, reseed_sampler_rng, time_start, progress_bar)\u001b[0m\n\u001b[1;32m    160\u001b[0m         \u001b[38;5;28;01mbreak\u001b[39;00m\n\u001b[1;32m    162\u001b[0m \u001b[38;5;28;01mtry\u001b[39;00m:\n\u001b[0;32m--> 163\u001b[0m     frozen_trial \u001b[38;5;241m=\u001b[39m \u001b[43m_run_trial\u001b[49m\u001b[43m(\u001b[49m\u001b[43mstudy\u001b[49m\u001b[43m,\u001b[49m\u001b[43m \u001b[49m\u001b[43mfunc\u001b[49m\u001b[43m,\u001b[49m\u001b[43m \u001b[49m\u001b[43mcatch\u001b[49m\u001b[43m)\u001b[49m\n\u001b[1;32m    164\u001b[0m \u001b[38;5;28;01mfinally\u001b[39;00m:\n\u001b[1;32m    165\u001b[0m     \u001b[38;5;66;03m# The following line mitigates memory problems that can be occurred in some\u001b[39;00m\n\u001b[1;32m    166\u001b[0m     \u001b[38;5;66;03m# environments (e.g., services that use computing containers such as GitHub Actions).\u001b[39;00m\n\u001b[1;32m    167\u001b[0m     \u001b[38;5;66;03m# Please refer to the following PR for further details:\u001b[39;00m\n\u001b[1;32m    168\u001b[0m     \u001b[38;5;66;03m# https://github.com/optuna/optuna/pull/325.\u001b[39;00m\n\u001b[1;32m    169\u001b[0m     \u001b[38;5;28;01mif\u001b[39;00m gc_after_trial:\n",
      "File \u001b[0;32m/opt/conda/lib/python3.10/site-packages/optuna/study/_optimize.py:251\u001b[0m, in \u001b[0;36m_run_trial\u001b[0;34m(study, func, catch)\u001b[0m\n\u001b[1;32m    244\u001b[0m         \u001b[38;5;28;01massert\u001b[39;00m \u001b[38;5;28;01mFalse\u001b[39;00m, \u001b[38;5;124m\"\u001b[39m\u001b[38;5;124mShould not reach.\u001b[39m\u001b[38;5;124m\"\u001b[39m\n\u001b[1;32m    246\u001b[0m \u001b[38;5;28;01mif\u001b[39;00m (\n\u001b[1;32m    247\u001b[0m     frozen_trial\u001b[38;5;241m.\u001b[39mstate \u001b[38;5;241m==\u001b[39m TrialState\u001b[38;5;241m.\u001b[39mFAIL\n\u001b[1;32m    248\u001b[0m     \u001b[38;5;129;01mand\u001b[39;00m func_err \u001b[38;5;129;01mis\u001b[39;00m \u001b[38;5;129;01mnot\u001b[39;00m \u001b[38;5;28;01mNone\u001b[39;00m\n\u001b[1;32m    249\u001b[0m     \u001b[38;5;129;01mand\u001b[39;00m \u001b[38;5;129;01mnot\u001b[39;00m \u001b[38;5;28misinstance\u001b[39m(func_err, catch)\n\u001b[1;32m    250\u001b[0m ):\n\u001b[0;32m--> 251\u001b[0m     \u001b[38;5;28;01mraise\u001b[39;00m func_err\n\u001b[1;32m    252\u001b[0m \u001b[38;5;28;01mreturn\u001b[39;00m frozen_trial\n",
      "File \u001b[0;32m/opt/conda/lib/python3.10/site-packages/optuna/study/_optimize.py:200\u001b[0m, in \u001b[0;36m_run_trial\u001b[0;34m(study, func, catch)\u001b[0m\n\u001b[1;32m    198\u001b[0m \u001b[38;5;28;01mwith\u001b[39;00m get_heartbeat_thread(trial\u001b[38;5;241m.\u001b[39m_trial_id, study\u001b[38;5;241m.\u001b[39m_storage):\n\u001b[1;32m    199\u001b[0m     \u001b[38;5;28;01mtry\u001b[39;00m:\n\u001b[0;32m--> 200\u001b[0m         value_or_values \u001b[38;5;241m=\u001b[39m \u001b[43mfunc\u001b[49m\u001b[43m(\u001b[49m\u001b[43mtrial\u001b[49m\u001b[43m)\u001b[49m\n\u001b[1;32m    201\u001b[0m     \u001b[38;5;28;01mexcept\u001b[39;00m exceptions\u001b[38;5;241m.\u001b[39mTrialPruned \u001b[38;5;28;01mas\u001b[39;00m e:\n\u001b[1;32m    202\u001b[0m         \u001b[38;5;66;03m# TODO(mamu): Handle multi-objective cases.\u001b[39;00m\n\u001b[1;32m    203\u001b[0m         state \u001b[38;5;241m=\u001b[39m TrialState\u001b[38;5;241m.\u001b[39mPRUNED\n",
      "Cell \u001b[0;32mIn[232], line 11\u001b[0m, in \u001b[0;36mobjective\u001b[0;34m(trial)\u001b[0m\n\u001b[1;32m      1\u001b[0m \u001b[38;5;28;01mdef\u001b[39;00m \u001b[38;5;21mobjective\u001b[39m(trial):\n\u001b[1;32m      2\u001b[0m     param \u001b[38;5;241m=\u001b[39m {\n\u001b[1;32m      3\u001b[0m         \u001b[38;5;124m'\u001b[39m\u001b[38;5;124mlambda\u001b[39m\u001b[38;5;124m'\u001b[39m: trial\u001b[38;5;241m.\u001b[39msuggest_loguniform(\u001b[38;5;124m'\u001b[39m\u001b[38;5;124mlambda\u001b[39m\u001b[38;5;124m'\u001b[39m, \u001b[38;5;241m1e-3\u001b[39m, \u001b[38;5;241m10.0\u001b[39m),\n\u001b[1;32m      4\u001b[0m         \u001b[38;5;124m'\u001b[39m\u001b[38;5;124malpha\u001b[39m\u001b[38;5;124m'\u001b[39m: trial\u001b[38;5;241m.\u001b[39msuggest_loguniform(\u001b[38;5;124m'\u001b[39m\u001b[38;5;124malpha\u001b[39m\u001b[38;5;124m'\u001b[39m, \u001b[38;5;241m1e-3\u001b[39m, \u001b[38;5;241m10.0\u001b[39m),\n\u001b[1;32m      5\u001b[0m         \u001b[38;5;124m'\u001b[39m\u001b[38;5;124mcolsample_bytree\u001b[39m\u001b[38;5;124m'\u001b[39m: trial\u001b[38;5;241m.\u001b[39msuggest_categorical(\u001b[38;5;124m'\u001b[39m\u001b[38;5;124mcolsample_bytree\u001b[39m\u001b[38;5;124m'\u001b[39m, [\u001b[38;5;241m0.3\u001b[39m,\u001b[38;5;241m0.4\u001b[39m,\u001b[38;5;241m0.5\u001b[39m,\u001b[38;5;241m0.6\u001b[39m,\u001b[38;5;241m0.7\u001b[39m,\u001b[38;5;241m0.8\u001b[39m,\u001b[38;5;241m0.9\u001b[39m, \u001b[38;5;241m1.0\u001b[39m]),\n\u001b[1;32m      6\u001b[0m         \u001b[38;5;124m'\u001b[39m\u001b[38;5;124msubsample\u001b[39m\u001b[38;5;124m'\u001b[39m: trial\u001b[38;5;241m.\u001b[39msuggest_categorical(\u001b[38;5;124m'\u001b[39m\u001b[38;5;124msubsample\u001b[39m\u001b[38;5;124m'\u001b[39m, [\u001b[38;5;241m0.4\u001b[39m,\u001b[38;5;241m0.5\u001b[39m,\u001b[38;5;241m0.6\u001b[39m,\u001b[38;5;241m0.7\u001b[39m,\u001b[38;5;241m0.8\u001b[39m,\u001b[38;5;241m1.0\u001b[39m]),\n\u001b[1;32m      7\u001b[0m         \u001b[38;5;124m'\u001b[39m\u001b[38;5;124mlearning_rate\u001b[39m\u001b[38;5;124m'\u001b[39m: trial\u001b[38;5;241m.\u001b[39msuggest_loguniform(\u001b[38;5;124m'\u001b[39m\u001b[38;5;124mlearning_rate\u001b[39m\u001b[38;5;124m'\u001b[39m, \u001b[38;5;241m1e-4\u001b[39m,\u001b[38;5;241m1e-0\u001b[39m),\n\u001b[1;32m      8\u001b[0m         \u001b[38;5;124m'\u001b[39m\u001b[38;5;124mn_estimators\u001b[39m\u001b[38;5;124m'\u001b[39m: trial\u001b[38;5;241m.\u001b[39msuggest_int(\u001b[38;5;124m'\u001b[39m\u001b[38;5;124mn_estimators\u001b[39m\u001b[38;5;124m'\u001b[39m,\u001b[38;5;241m10\u001b[39m,\u001b[38;5;241m1000\u001b[39m),\n\u001b[1;32m      9\u001b[0m         \u001b[38;5;124m'\u001b[39m\u001b[38;5;124mmax_depth\u001b[39m\u001b[38;5;124m'\u001b[39m: trial\u001b[38;5;241m.\u001b[39msuggest_categorical(\u001b[38;5;124m'\u001b[39m\u001b[38;5;124mmax_depth\u001b[39m\u001b[38;5;124m'\u001b[39m, [\u001b[38;5;241m5\u001b[39m,\u001b[38;5;241m7\u001b[39m,\u001b[38;5;241m9\u001b[39m,\u001b[38;5;241m11\u001b[39m,\u001b[38;5;241m13\u001b[39m,\u001b[38;5;241m15\u001b[39m,\u001b[38;5;241m17\u001b[39m]),\n\u001b[1;32m     10\u001b[0m         \u001b[38;5;124m'\u001b[39m\u001b[38;5;124mrandom_state\u001b[39m\u001b[38;5;124m'\u001b[39m: trial\u001b[38;5;241m.\u001b[39msuggest_int(\u001b[38;5;124m'\u001b[39m\u001b[38;5;124mrandom_state\u001b[39m\u001b[38;5;124m'\u001b[39m, \u001b[38;5;241m1\u001b[39m,\u001b[38;5;241m1000\u001b[39m),\n\u001b[0;32m---> 11\u001b[0m         \u001b[38;5;124m'\u001b[39m\u001b[38;5;124mmin_child_weight\u001b[39m\u001b[38;5;124m'\u001b[39m: \u001b[43mtrial\u001b[49m\u001b[38;5;241;43m.\u001b[39;49m\u001b[43msuggest_int\u001b[49m\u001b[43m(\u001b[49m\u001b[38;5;124;43m'\u001b[39;49m\u001b[38;5;124;43mmin_child_weight\u001b[39;49m\u001b[38;5;124;43m'\u001b[39;49m\u001b[43m,\u001b[49m\u001b[43m \u001b[49m\u001b[38;5;241;43m1\u001b[39;49m\u001b[43m,\u001b[49m\u001b[43m \u001b[49m\u001b[38;5;241;43m300\u001b[39;49m\u001b[43m)\u001b[49m,\n\u001b[1;32m     12\u001b[0m     }\n\u001b[1;32m     13\u001b[0m     model \u001b[38;5;241m=\u001b[39m xgb\u001b[38;5;241m.\u001b[39mXGBRegressor(\u001b[38;5;241m*\u001b[39m\u001b[38;5;241m*\u001b[39mparam)\n\u001b[1;32m     14\u001b[0m     maelist \u001b[38;5;241m=\u001b[39m []\n",
      "File \u001b[0;32m/opt/conda/lib/python3.10/site-packages/optuna/trial/_trial.py:321\u001b[0m, in \u001b[0;36mTrial.suggest_int\u001b[0;34m(self, name, low, high, step, log)\u001b[0m\n\u001b[1;32m    239\u001b[0m \u001b[38;5;250m\u001b[39m\u001b[38;5;124;03m\"\"\"Suggest a value for the integer parameter.\u001b[39;00m\n\u001b[1;32m    240\u001b[0m \n\u001b[1;32m    241\u001b[0m \u001b[38;5;124;03mThe value is sampled from the integers in :math:`[\\\\mathsf{low}, \\\\mathsf{high}]`.\u001b[39;00m\n\u001b[0;32m   (...)\u001b[0m\n\u001b[1;32m    317\u001b[0m \u001b[38;5;124;03m    :ref:`configurations` tutorial describes more details and flexible usages.\u001b[39;00m\n\u001b[1;32m    318\u001b[0m \u001b[38;5;124;03m\"\"\"\u001b[39;00m\n\u001b[1;32m    320\u001b[0m distribution \u001b[38;5;241m=\u001b[39m IntDistribution(low\u001b[38;5;241m=\u001b[39mlow, high\u001b[38;5;241m=\u001b[39mhigh, log\u001b[38;5;241m=\u001b[39mlog, step\u001b[38;5;241m=\u001b[39mstep)\n\u001b[0;32m--> 321\u001b[0m suggested_value \u001b[38;5;241m=\u001b[39m \u001b[38;5;28mint\u001b[39m(\u001b[38;5;28;43mself\u001b[39;49m\u001b[38;5;241;43m.\u001b[39;49m\u001b[43m_suggest\u001b[49m\u001b[43m(\u001b[49m\u001b[43mname\u001b[49m\u001b[43m,\u001b[49m\u001b[43m \u001b[49m\u001b[43mdistribution\u001b[49m\u001b[43m)\u001b[49m)\n\u001b[1;32m    322\u001b[0m \u001b[38;5;28mself\u001b[39m\u001b[38;5;241m.\u001b[39m_check_distribution(name, distribution)\n\u001b[1;32m    323\u001b[0m \u001b[38;5;28;01mreturn\u001b[39;00m suggested_value\n",
      "File \u001b[0;32m/opt/conda/lib/python3.10/site-packages/optuna/trial/_trial.py:630\u001b[0m, in \u001b[0;36mTrial._suggest\u001b[0;34m(self, name, distribution)\u001b[0m\n\u001b[1;32m    628\u001b[0m \u001b[38;5;28;01melse\u001b[39;00m:\n\u001b[1;32m    629\u001b[0m     study \u001b[38;5;241m=\u001b[39m pruners\u001b[38;5;241m.\u001b[39m_filter_study(\u001b[38;5;28mself\u001b[39m\u001b[38;5;241m.\u001b[39mstudy, trial)\n\u001b[0;32m--> 630\u001b[0m     param_value \u001b[38;5;241m=\u001b[39m \u001b[38;5;28;43mself\u001b[39;49m\u001b[38;5;241;43m.\u001b[39;49m\u001b[43mstudy\u001b[49m\u001b[38;5;241;43m.\u001b[39;49m\u001b[43msampler\u001b[49m\u001b[38;5;241;43m.\u001b[39;49m\u001b[43msample_independent\u001b[49m\u001b[43m(\u001b[49m\n\u001b[1;32m    631\u001b[0m \u001b[43m        \u001b[49m\u001b[43mstudy\u001b[49m\u001b[43m,\u001b[49m\u001b[43m \u001b[49m\u001b[43mtrial\u001b[49m\u001b[43m,\u001b[49m\u001b[43m \u001b[49m\u001b[43mname\u001b[49m\u001b[43m,\u001b[49m\u001b[43m \u001b[49m\u001b[43mdistribution\u001b[49m\n\u001b[1;32m    632\u001b[0m \u001b[43m    \u001b[49m\u001b[43m)\u001b[49m\n\u001b[1;32m    634\u001b[0m \u001b[38;5;66;03m# `param_value` is validated here (invalid value like `np.nan` raises ValueError).\u001b[39;00m\n\u001b[1;32m    635\u001b[0m param_value_in_internal_repr \u001b[38;5;241m=\u001b[39m distribution\u001b[38;5;241m.\u001b[39mto_internal_repr(param_value)\n",
      "File \u001b[0;32m/opt/conda/lib/python3.10/site-packages/optuna/samplers/_tpe/sampler.py:423\u001b[0m, in \u001b[0;36mTPESampler.sample_independent\u001b[0;34m(self, study, trial, param_name, param_distribution)\u001b[0m\n\u001b[1;32m    413\u001b[0m     \u001b[38;5;28;01mif\u001b[39;00m \u001b[38;5;28many\u001b[39m(param_name \u001b[38;5;129;01min\u001b[39;00m trial\u001b[38;5;241m.\u001b[39mparams \u001b[38;5;28;01mfor\u001b[39;00m trial \u001b[38;5;129;01min\u001b[39;00m trials):\n\u001b[1;32m    414\u001b[0m         _logger\u001b[38;5;241m.\u001b[39mwarning(\n\u001b[1;32m    415\u001b[0m             \u001b[38;5;124mf\u001b[39m\u001b[38;5;124m\"\u001b[39m\u001b[38;5;124mThe parameter \u001b[39m\u001b[38;5;124m'\u001b[39m\u001b[38;5;132;01m{\u001b[39;00mparam_name\u001b[38;5;132;01m}\u001b[39;00m\u001b[38;5;124m'\u001b[39m\u001b[38;5;124m in trial#\u001b[39m\u001b[38;5;132;01m{\u001b[39;00mtrial\u001b[38;5;241m.\u001b[39mnumber\u001b[38;5;132;01m}\u001b[39;00m\u001b[38;5;124m is sampled \u001b[39m\u001b[38;5;124m\"\u001b[39m\n\u001b[1;32m    416\u001b[0m             \u001b[38;5;124m\"\u001b[39m\u001b[38;5;124mindependently instead of being sampled by multivariate TPE sampler. \u001b[39m\u001b[38;5;124m\"\u001b[39m\n\u001b[0;32m   (...)\u001b[0m\n\u001b[1;32m    420\u001b[0m             \u001b[38;5;124m\"\u001b[39m\u001b[38;5;124mif this independent sampling is intended behavior.\u001b[39m\u001b[38;5;124m\"\u001b[39m\n\u001b[1;32m    421\u001b[0m         )\n\u001b[0;32m--> 423\u001b[0m \u001b[38;5;28;01mreturn\u001b[39;00m \u001b[38;5;28;43mself\u001b[39;49m\u001b[38;5;241;43m.\u001b[39;49m\u001b[43m_sample\u001b[49m\u001b[43m(\u001b[49m\u001b[43mstudy\u001b[49m\u001b[43m,\u001b[49m\u001b[43m \u001b[49m\u001b[43mtrial\u001b[49m\u001b[43m,\u001b[49m\u001b[43m \u001b[49m\u001b[43m{\u001b[49m\u001b[43mparam_name\u001b[49m\u001b[43m:\u001b[49m\u001b[43m \u001b[49m\u001b[43mparam_distribution\u001b[49m\u001b[43m}\u001b[49m\u001b[43m)\u001b[49m[param_name]\n",
      "File \u001b[0;32m/opt/conda/lib/python3.10/site-packages/optuna/samplers/_tpe/sampler.py:477\u001b[0m, in \u001b[0;36mTPESampler._sample\u001b[0;34m(self, study, trial, search_space)\u001b[0m\n\u001b[1;32m    475\u001b[0m samples_below \u001b[38;5;241m=\u001b[39m mpe_below\u001b[38;5;241m.\u001b[39msample(\u001b[38;5;28mself\u001b[39m\u001b[38;5;241m.\u001b[39m_rng\u001b[38;5;241m.\u001b[39mrng, \u001b[38;5;28mself\u001b[39m\u001b[38;5;241m.\u001b[39m_n_ei_candidates)\n\u001b[1;32m    476\u001b[0m log_likelihoods_below \u001b[38;5;241m=\u001b[39m mpe_below\u001b[38;5;241m.\u001b[39mlog_pdf(samples_below)\n\u001b[0;32m--> 477\u001b[0m log_likelihoods_above \u001b[38;5;241m=\u001b[39m \u001b[43mmpe_above\u001b[49m\u001b[38;5;241;43m.\u001b[39;49m\u001b[43mlog_pdf\u001b[49m\u001b[43m(\u001b[49m\u001b[43msamples_below\u001b[49m\u001b[43m)\u001b[49m\n\u001b[1;32m    478\u001b[0m ret \u001b[38;5;241m=\u001b[39m TPESampler\u001b[38;5;241m.\u001b[39m_compare(samples_below, log_likelihoods_below, log_likelihoods_above)\n\u001b[1;32m    480\u001b[0m \u001b[38;5;28;01mfor\u001b[39;00m param_name, dist \u001b[38;5;129;01min\u001b[39;00m search_space\u001b[38;5;241m.\u001b[39mitems():\n",
      "File \u001b[0;32m/opt/conda/lib/python3.10/site-packages/optuna/samplers/_tpe/parzen_estimator.py:92\u001b[0m, in \u001b[0;36m_ParzenEstimator.log_pdf\u001b[0;34m(self, samples_dict)\u001b[0m\n\u001b[1;32m     90\u001b[0m \u001b[38;5;28;01mdef\u001b[39;00m \u001b[38;5;21mlog_pdf\u001b[39m(\u001b[38;5;28mself\u001b[39m, samples_dict: Dict[\u001b[38;5;28mstr\u001b[39m, np\u001b[38;5;241m.\u001b[39mndarray]) \u001b[38;5;241m-\u001b[39m\u001b[38;5;241m>\u001b[39m np\u001b[38;5;241m.\u001b[39mndarray:\n\u001b[1;32m     91\u001b[0m     transformed_samples \u001b[38;5;241m=\u001b[39m \u001b[38;5;28mself\u001b[39m\u001b[38;5;241m.\u001b[39m_transform(samples_dict)\n\u001b[0;32m---> 92\u001b[0m     \u001b[38;5;28;01mreturn\u001b[39;00m \u001b[38;5;28;43mself\u001b[39;49m\u001b[38;5;241;43m.\u001b[39;49m\u001b[43m_mixture_distribution\u001b[49m\u001b[38;5;241;43m.\u001b[39;49m\u001b[43mlog_pdf\u001b[49m\u001b[43m(\u001b[49m\u001b[43mtransformed_samples\u001b[49m\u001b[43m)\u001b[49m\n",
      "File \u001b[0;32m/opt/conda/lib/python3.10/site-packages/optuna/samplers/_tpe/probability_distributions.py:104\u001b[0m, in \u001b[0;36m_MixtureOfProductDistribution.log_pdf\u001b[0;34m(self, x)\u001b[0m\n\u001b[1;32m    102\u001b[0m x_lower \u001b[38;5;241m=\u001b[39m np\u001b[38;5;241m.\u001b[39mmaximum(xi \u001b[38;5;241m-\u001b[39m d\u001b[38;5;241m.\u001b[39mstep \u001b[38;5;241m/\u001b[39m \u001b[38;5;241m2\u001b[39m, lower_limit)\n\u001b[1;32m    103\u001b[0m x_upper \u001b[38;5;241m=\u001b[39m np\u001b[38;5;241m.\u001b[39mminimum(xi \u001b[38;5;241m+\u001b[39m d\u001b[38;5;241m.\u001b[39mstep \u001b[38;5;241m/\u001b[39m \u001b[38;5;241m2\u001b[39m, upper_limit)\n\u001b[0;32m--> 104\u001b[0m log_gauss_mass \u001b[38;5;241m=\u001b[39m \u001b[43m_truncnorm\u001b[49m\u001b[38;5;241;43m.\u001b[39;49m\u001b[43m_log_gauss_mass\u001b[49m\u001b[43m(\u001b[49m\n\u001b[1;32m    105\u001b[0m \u001b[43m    \u001b[49m\u001b[43m(\u001b[49m\u001b[43mx_lower\u001b[49m\u001b[43m[\u001b[49m\u001b[43m:\u001b[49m\u001b[43m,\u001b[49m\u001b[43m \u001b[49m\u001b[38;5;28;43;01mNone\u001b[39;49;00m\u001b[43m]\u001b[49m\u001b[43m \u001b[49m\u001b[38;5;241;43m-\u001b[39;49m\u001b[43m \u001b[49m\u001b[43md\u001b[49m\u001b[38;5;241;43m.\u001b[39;49m\u001b[43mmu\u001b[49m\u001b[43m[\u001b[49m\u001b[38;5;28;43;01mNone\u001b[39;49;00m\u001b[43m,\u001b[49m\u001b[43m \u001b[49m\u001b[43m:\u001b[49m\u001b[43m]\u001b[49m\u001b[43m)\u001b[49m\u001b[43m \u001b[49m\u001b[38;5;241;43m/\u001b[39;49m\u001b[43m \u001b[49m\u001b[43md\u001b[49m\u001b[38;5;241;43m.\u001b[39;49m\u001b[43msigma\u001b[49m\u001b[43m[\u001b[49m\u001b[38;5;28;43;01mNone\u001b[39;49;00m\u001b[43m,\u001b[49m\u001b[43m \u001b[49m\u001b[43m:\u001b[49m\u001b[43m]\u001b[49m\u001b[43m,\u001b[49m\n\u001b[1;32m    106\u001b[0m \u001b[43m    \u001b[49m\u001b[43m(\u001b[49m\u001b[43mx_upper\u001b[49m\u001b[43m[\u001b[49m\u001b[43m:\u001b[49m\u001b[43m,\u001b[49m\u001b[43m \u001b[49m\u001b[38;5;28;43;01mNone\u001b[39;49;00m\u001b[43m]\u001b[49m\u001b[43m \u001b[49m\u001b[38;5;241;43m-\u001b[39;49m\u001b[43m \u001b[49m\u001b[43md\u001b[49m\u001b[38;5;241;43m.\u001b[39;49m\u001b[43mmu\u001b[49m\u001b[43m[\u001b[49m\u001b[38;5;28;43;01mNone\u001b[39;49;00m\u001b[43m,\u001b[49m\u001b[43m \u001b[49m\u001b[43m:\u001b[49m\u001b[43m]\u001b[49m\u001b[43m)\u001b[49m\u001b[43m \u001b[49m\u001b[38;5;241;43m/\u001b[39;49m\u001b[43m \u001b[49m\u001b[43md\u001b[49m\u001b[38;5;241;43m.\u001b[39;49m\u001b[43msigma\u001b[49m\u001b[43m[\u001b[49m\u001b[38;5;28;43;01mNone\u001b[39;49;00m\u001b[43m,\u001b[49m\u001b[43m \u001b[49m\u001b[43m:\u001b[49m\u001b[43m]\u001b[49m\u001b[43m,\u001b[49m\n\u001b[1;32m    107\u001b[0m \u001b[43m\u001b[49m\u001b[43m)\u001b[49m\n\u001b[1;32m    108\u001b[0m log_p_accept \u001b[38;5;241m=\u001b[39m _truncnorm\u001b[38;5;241m.\u001b[39m_log_gauss_mass(\n\u001b[1;32m    109\u001b[0m     (d\u001b[38;5;241m.\u001b[39mlow \u001b[38;5;241m-\u001b[39m d\u001b[38;5;241m.\u001b[39mstep \u001b[38;5;241m/\u001b[39m \u001b[38;5;241m2\u001b[39m \u001b[38;5;241m-\u001b[39m d\u001b[38;5;241m.\u001b[39mmu[\u001b[38;5;28;01mNone\u001b[39;00m, :]) \u001b[38;5;241m/\u001b[39m d\u001b[38;5;241m.\u001b[39msigma[\u001b[38;5;28;01mNone\u001b[39;00m, :],\n\u001b[1;32m    110\u001b[0m     (d\u001b[38;5;241m.\u001b[39mhigh \u001b[38;5;241m+\u001b[39m d\u001b[38;5;241m.\u001b[39mstep \u001b[38;5;241m/\u001b[39m \u001b[38;5;241m2\u001b[39m \u001b[38;5;241m-\u001b[39m d\u001b[38;5;241m.\u001b[39mmu[\u001b[38;5;28;01mNone\u001b[39;00m, :]) \u001b[38;5;241m/\u001b[39m d\u001b[38;5;241m.\u001b[39msigma[\u001b[38;5;28;01mNone\u001b[39;00m, :],\n\u001b[1;32m    111\u001b[0m )\n\u001b[1;32m    112\u001b[0m log_pdfs[:, :, i] \u001b[38;5;241m=\u001b[39m log_gauss_mass \u001b[38;5;241m-\u001b[39m log_p_accept\n",
      "File \u001b[0;32m/opt/conda/lib/python3.10/site-packages/optuna/samplers/_tpe/_truncnorm.py:143\u001b[0m, in \u001b[0;36m_log_gauss_mass\u001b[0;34m(a, b)\u001b[0m\n\u001b[1;32m    141\u001b[0m out \u001b[38;5;241m=\u001b[39m np\u001b[38;5;241m.\u001b[39mfull_like(a, fill_value\u001b[38;5;241m=\u001b[39mnp\u001b[38;5;241m.\u001b[39mnan, dtype\u001b[38;5;241m=\u001b[39mnp\u001b[38;5;241m.\u001b[39mcomplex128)\n\u001b[1;32m    142\u001b[0m \u001b[38;5;28;01mif\u001b[39;00m a[case_left]\u001b[38;5;241m.\u001b[39msize:\n\u001b[0;32m--> 143\u001b[0m     out[case_left] \u001b[38;5;241m=\u001b[39m \u001b[43mmass_case_left\u001b[49m\u001b[43m(\u001b[49m\u001b[43ma\u001b[49m\u001b[43m[\u001b[49m\u001b[43mcase_left\u001b[49m\u001b[43m]\u001b[49m\u001b[43m,\u001b[49m\u001b[43m \u001b[49m\u001b[43mb\u001b[49m\u001b[43m[\u001b[49m\u001b[43mcase_left\u001b[49m\u001b[43m]\u001b[49m\u001b[43m)\u001b[49m\n\u001b[1;32m    144\u001b[0m \u001b[38;5;28;01mif\u001b[39;00m a[case_right]\u001b[38;5;241m.\u001b[39msize:\n\u001b[1;32m    145\u001b[0m     out[case_right] \u001b[38;5;241m=\u001b[39m mass_case_right(a[case_right], b[case_right])\n",
      "File \u001b[0;32m/opt/conda/lib/python3.10/site-packages/optuna/samplers/_tpe/_truncnorm.py:122\u001b[0m, in \u001b[0;36m_log_gauss_mass.<locals>.mass_case_left\u001b[0;34m(a, b)\u001b[0m\n\u001b[1;32m    121\u001b[0m \u001b[38;5;28;01mdef\u001b[39;00m \u001b[38;5;21mmass_case_left\u001b[39m(a: np\u001b[38;5;241m.\u001b[39mndarray, b: np\u001b[38;5;241m.\u001b[39mndarray) \u001b[38;5;241m-\u001b[39m\u001b[38;5;241m>\u001b[39m np\u001b[38;5;241m.\u001b[39mndarray:\n\u001b[0;32m--> 122\u001b[0m     \u001b[38;5;28;01mreturn\u001b[39;00m _log_diff(_log_ndtr(b), \u001b[43m_log_ndtr\u001b[49m\u001b[43m(\u001b[49m\u001b[43ma\u001b[49m\u001b[43m)\u001b[49m)\n",
      "File \u001b[0;32m/opt/conda/lib/python3.10/site-packages/optuna/samplers/_tpe/_truncnorm.py:105\u001b[0m, in \u001b[0;36m_log_ndtr\u001b[0;34m(a)\u001b[0m\n\u001b[1;32m    104\u001b[0m \u001b[38;5;28;01mdef\u001b[39;00m \u001b[38;5;21m_log_ndtr\u001b[39m(a: np\u001b[38;5;241m.\u001b[39mndarray) \u001b[38;5;241m-\u001b[39m\u001b[38;5;241m>\u001b[39m np\u001b[38;5;241m.\u001b[39mndarray:\n\u001b[0;32m--> 105\u001b[0m     \u001b[38;5;28;01mreturn\u001b[39;00m \u001b[43mnp\u001b[49m\u001b[38;5;241;43m.\u001b[39;49m\u001b[43mfrompyfunc\u001b[49m\u001b[43m(\u001b[49m\u001b[43m_log_ndtr_single\u001b[49m\u001b[43m,\u001b[49m\u001b[43m \u001b[49m\u001b[38;5;241;43m1\u001b[39;49m\u001b[43m,\u001b[49m\u001b[43m \u001b[49m\u001b[38;5;241;43m1\u001b[39;49m\u001b[43m)\u001b[49m\u001b[43m(\u001b[49m\u001b[43ma\u001b[49m\u001b[43m)\u001b[49m\u001b[38;5;241m.\u001b[39mastype(\u001b[38;5;28mfloat\u001b[39m)\n",
      "File \u001b[0;32m/opt/conda/lib/python3.10/site-packages/optuna/samplers/_tpe/_truncnorm.py:77\u001b[0m, in \u001b[0;36m_log_ndtr_single\u001b[0;34m(a)\u001b[0m\n\u001b[1;32m     72\u001b[0m \u001b[38;5;28;01mdef\u001b[39;00m \u001b[38;5;21m_ndtr\u001b[39m(a: np\u001b[38;5;241m.\u001b[39mndarray) \u001b[38;5;241m-\u001b[39m\u001b[38;5;241m>\u001b[39m np\u001b[38;5;241m.\u001b[39mndarray:\n\u001b[1;32m     73\u001b[0m     \u001b[38;5;66;03m# todo(amylase): implement erfc in _erf.py and use it for big |a| inputs.\u001b[39;00m\n\u001b[1;32m     74\u001b[0m     \u001b[38;5;28;01mreturn\u001b[39;00m \u001b[38;5;241m0.5\u001b[39m \u001b[38;5;241m+\u001b[39m \u001b[38;5;241m0.5\u001b[39m \u001b[38;5;241m*\u001b[39m erf(a \u001b[38;5;241m/\u001b[39m \u001b[38;5;241m2\u001b[39m\u001b[38;5;241m*\u001b[39m\u001b[38;5;241m*\u001b[39m\u001b[38;5;241m0.5\u001b[39m)\n\u001b[0;32m---> 77\u001b[0m \u001b[38;5;129m@functools\u001b[39m\u001b[38;5;241m.\u001b[39mlru_cache(\u001b[38;5;241m1000\u001b[39m)\n\u001b[1;32m     78\u001b[0m \u001b[38;5;28;01mdef\u001b[39;00m \u001b[38;5;21m_log_ndtr_single\u001b[39m(a: \u001b[38;5;28mfloat\u001b[39m) \u001b[38;5;241m-\u001b[39m\u001b[38;5;241m>\u001b[39m \u001b[38;5;28mfloat\u001b[39m:\n\u001b[1;32m     79\u001b[0m     \u001b[38;5;28;01mif\u001b[39;00m a \u001b[38;5;241m>\u001b[39m \u001b[38;5;241m6\u001b[39m:\n\u001b[1;32m     80\u001b[0m         \u001b[38;5;28;01mreturn\u001b[39;00m \u001b[38;5;241m-\u001b[39m_ndtr_single(\u001b[38;5;241m-\u001b[39ma)\n",
      "\u001b[0;31mKeyboardInterrupt\u001b[0m: "
     ]
    }
   ],
   "source": [
    "study.optimize(objective, n_trials=500)"
   ]
  },
  {
   "cell_type": "code",
   "execution_count": 220,
   "id": "b87db151-dec5-4b3f-9604-ac46ec2297f4",
   "metadata": {},
   "outputs": [
    {
     "name": "stdout",
     "output_type": "stream",
     "text": [
      "  Value: 50.086116731917\n",
      "{'lambda': 4.169003395365912, 'alpha': 0.0053875898843634, 'colsample_bytree': 0.6, 'subsample': 0.5, 'learning_rate': 0.40051800889404, 'n_estimators': 918, 'max_depth': 5, 'random_state': 605, 'min_child_weight': 130}\n"
     ]
    }
   ],
   "source": [
    "trial = study.best_trial\n",
    "\n",
    "print(\"  Value: {}\".format(trial.value))\n",
    "print(trial.params)"
   ]
  },
  {
   "cell_type": "code",
   "execution_count": 226,
   "id": "bc59abc9-2568-418c-abc8-077814c3f5b9",
   "metadata": {},
   "outputs": [],
   "source": [
    "model = xgb.XGBRegressor()"
   ]
  },
  {
   "cell_type": "code",
   "execution_count": 227,
   "id": "3686b0a9-8b38-440c-b17c-57a1230718a7",
   "metadata": {},
   "outputs": [],
   "source": [
    "X_train = data.drop(columns = 'pv_measurement')\n",
    "y_train = data['pv_measurement']"
   ]
  },
  {
   "cell_type": "code",
   "execution_count": 228,
   "id": "1cc57365-a844-427a-8658-674c589480d7",
   "metadata": {},
   "outputs": [
    {
     "data": {
      "text/html": [
       "<style>#sk-container-id-6 {color: black;}#sk-container-id-6 pre{padding: 0;}#sk-container-id-6 div.sk-toggleable {background-color: white;}#sk-container-id-6 label.sk-toggleable__label {cursor: pointer;display: block;width: 100%;margin-bottom: 0;padding: 0.3em;box-sizing: border-box;text-align: center;}#sk-container-id-6 label.sk-toggleable__label-arrow:before {content: \"▸\";float: left;margin-right: 0.25em;color: #696969;}#sk-container-id-6 label.sk-toggleable__label-arrow:hover:before {color: black;}#sk-container-id-6 div.sk-estimator:hover label.sk-toggleable__label-arrow:before {color: black;}#sk-container-id-6 div.sk-toggleable__content {max-height: 0;max-width: 0;overflow: hidden;text-align: left;background-color: #f0f8ff;}#sk-container-id-6 div.sk-toggleable__content pre {margin: 0.2em;color: black;border-radius: 0.25em;background-color: #f0f8ff;}#sk-container-id-6 input.sk-toggleable__control:checked~div.sk-toggleable__content {max-height: 200px;max-width: 100%;overflow: auto;}#sk-container-id-6 input.sk-toggleable__control:checked~label.sk-toggleable__label-arrow:before {content: \"▾\";}#sk-container-id-6 div.sk-estimator input.sk-toggleable__control:checked~label.sk-toggleable__label {background-color: #d4ebff;}#sk-container-id-6 div.sk-label input.sk-toggleable__control:checked~label.sk-toggleable__label {background-color: #d4ebff;}#sk-container-id-6 input.sk-hidden--visually {border: 0;clip: rect(1px 1px 1px 1px);clip: rect(1px, 1px, 1px, 1px);height: 1px;margin: -1px;overflow: hidden;padding: 0;position: absolute;width: 1px;}#sk-container-id-6 div.sk-estimator {font-family: monospace;background-color: #f0f8ff;border: 1px dotted black;border-radius: 0.25em;box-sizing: border-box;margin-bottom: 0.5em;}#sk-container-id-6 div.sk-estimator:hover {background-color: #d4ebff;}#sk-container-id-6 div.sk-parallel-item::after {content: \"\";width: 100%;border-bottom: 1px solid gray;flex-grow: 1;}#sk-container-id-6 div.sk-label:hover label.sk-toggleable__label {background-color: #d4ebff;}#sk-container-id-6 div.sk-serial::before {content: \"\";position: absolute;border-left: 1px solid gray;box-sizing: border-box;top: 0;bottom: 0;left: 50%;z-index: 0;}#sk-container-id-6 div.sk-serial {display: flex;flex-direction: column;align-items: center;background-color: white;padding-right: 0.2em;padding-left: 0.2em;position: relative;}#sk-container-id-6 div.sk-item {position: relative;z-index: 1;}#sk-container-id-6 div.sk-parallel {display: flex;align-items: stretch;justify-content: center;background-color: white;position: relative;}#sk-container-id-6 div.sk-item::before, #sk-container-id-6 div.sk-parallel-item::before {content: \"\";position: absolute;border-left: 1px solid gray;box-sizing: border-box;top: 0;bottom: 0;left: 50%;z-index: -1;}#sk-container-id-6 div.sk-parallel-item {display: flex;flex-direction: column;z-index: 1;position: relative;background-color: white;}#sk-container-id-6 div.sk-parallel-item:first-child::after {align-self: flex-end;width: 50%;}#sk-container-id-6 div.sk-parallel-item:last-child::after {align-self: flex-start;width: 50%;}#sk-container-id-6 div.sk-parallel-item:only-child::after {width: 0;}#sk-container-id-6 div.sk-dashed-wrapped {border: 1px dashed gray;margin: 0 0.4em 0.5em 0.4em;box-sizing: border-box;padding-bottom: 0.4em;background-color: white;}#sk-container-id-6 div.sk-label label {font-family: monospace;font-weight: bold;display: inline-block;line-height: 1.2em;}#sk-container-id-6 div.sk-label-container {text-align: center;}#sk-container-id-6 div.sk-container {/* jupyter's `normalize.less` sets `[hidden] { display: none; }` but bootstrap.min.css set `[hidden] { display: none !important; }` so we also need the `!important` here to be able to override the default hidden behavior on the sphinx rendered scikit-learn.org. See: https://github.com/scikit-learn/scikit-learn/issues/21755 */display: inline-block !important;position: relative;}#sk-container-id-6 div.sk-text-repr-fallback {display: none;}</style><div id=\"sk-container-id-6\" class=\"sk-top-container\"><div class=\"sk-text-repr-fallback\"><pre>XGBRegressor(base_score=None, booster=None, callbacks=None,\n",
       "             colsample_bylevel=None, colsample_bynode=None,\n",
       "             colsample_bytree=None, device=None, early_stopping_rounds=None,\n",
       "             enable_categorical=False, eval_metric=None, feature_types=None,\n",
       "             gamma=None, grow_policy=None, importance_type=None,\n",
       "             interaction_constraints=None, learning_rate=None, max_bin=None,\n",
       "             max_cat_threshold=None, max_cat_to_onehot=None,\n",
       "             max_delta_step=None, max_depth=None, max_leaves=None,\n",
       "             min_child_weight=None, missing=nan, monotone_constraints=None,\n",
       "             multi_strategy=None, n_estimators=None, n_jobs=None,\n",
       "             num_parallel_tree=None, random_state=None, ...)</pre><b>In a Jupyter environment, please rerun this cell to show the HTML representation or trust the notebook. <br />On GitHub, the HTML representation is unable to render, please try loading this page with nbviewer.org.</b></div><div class=\"sk-container\" hidden><div class=\"sk-item\"><div class=\"sk-estimator sk-toggleable\"><input class=\"sk-toggleable__control sk-hidden--visually\" id=\"sk-estimator-id-6\" type=\"checkbox\" checked><label for=\"sk-estimator-id-6\" class=\"sk-toggleable__label sk-toggleable__label-arrow\">XGBRegressor</label><div class=\"sk-toggleable__content\"><pre>XGBRegressor(base_score=None, booster=None, callbacks=None,\n",
       "             colsample_bylevel=None, colsample_bynode=None,\n",
       "             colsample_bytree=None, device=None, early_stopping_rounds=None,\n",
       "             enable_categorical=False, eval_metric=None, feature_types=None,\n",
       "             gamma=None, grow_policy=None, importance_type=None,\n",
       "             interaction_constraints=None, learning_rate=None, max_bin=None,\n",
       "             max_cat_threshold=None, max_cat_to_onehot=None,\n",
       "             max_delta_step=None, max_depth=None, max_leaves=None,\n",
       "             min_child_weight=None, missing=nan, monotone_constraints=None,\n",
       "             multi_strategy=None, n_estimators=None, n_jobs=None,\n",
       "             num_parallel_tree=None, random_state=None, ...)</pre></div></div></div></div></div>"
      ],
      "text/plain": [
       "XGBRegressor(base_score=None, booster=None, callbacks=None,\n",
       "             colsample_bylevel=None, colsample_bynode=None,\n",
       "             colsample_bytree=None, device=None, early_stopping_rounds=None,\n",
       "             enable_categorical=False, eval_metric=None, feature_types=None,\n",
       "             gamma=None, grow_policy=None, importance_type=None,\n",
       "             interaction_constraints=None, learning_rate=None, max_bin=None,\n",
       "             max_cat_threshold=None, max_cat_to_onehot=None,\n",
       "             max_delta_step=None, max_depth=None, max_leaves=None,\n",
       "             min_child_weight=None, missing=nan, monotone_constraints=None,\n",
       "             multi_strategy=None, n_estimators=None, n_jobs=None,\n",
       "             num_parallel_tree=None, random_state=None, ...)"
      ]
     },
     "execution_count": 228,
     "metadata": {},
     "output_type": "execute_result"
    }
   ],
   "source": [
    "model.fit(X_train,y_train)"
   ]
  },
  {
   "cell_type": "code",
   "execution_count": 229,
   "id": "d3e23b31-17c0-4740-a8f7-83929b92e87b",
   "metadata": {},
   "outputs": [
    {
     "data": {
      "text/plain": [
       "0           absolute_humidity_2m:gm3\n",
       "1                air_density_2m:kgm3\n",
       "2               ceiling_height_agl:m\n",
       "3              clear_sky_energy_1h:J\n",
       "4                    clear_sky_rad:W\n",
       "5                   cloud_base_agl:m\n",
       "6                     dew_point_2m:K\n",
       "7                      diffuse_rad:W\n",
       "8                   diffuse_rad_1h:J\n",
       "9                       direct_rad:W\n",
       "10                   direct_rad_1h:J\n",
       "11           effective_cloud_cover:p\n",
       "12                 fresh_snow_12h:cm\n",
       "13                 fresh_snow_24h:cm\n",
       "15                  msl_pressure:hPa\n",
       "16                    precip_5min:mm\n",
       "17              precip_type_5min:idx\n",
       "18                 pressure_100m:hPa\n",
       "19                  pressure_50m:hPa\n",
       "20                   rain_water:kgm2\n",
       "21       relative_humidity_1000hPa:p\n",
       "22                  sfc_pressure:hPa\n",
       "23                     snow_depth:cm\n",
       "24                snow_melt_10min:mm\n",
       "25                   snow_water:kgm2\n",
       "26                     sun_azimuth:d\n",
       "27                   sun_elevation:d\n",
       "28    super_cooled_liquid_water:kgm2\n",
       "29                       t_1000hPa:K\n",
       "30               total_cloud_cover:p\n",
       "31                      visibility:m\n",
       "32                 wind_speed_10m:ms\n",
       "33               wind_speed_u_10m:ms\n",
       "34               wind_speed_v_10m:ms\n",
       "35                             hours\n",
       "36                               day\n",
       "37                             month\n",
       "38                              year\n",
       "Name: Feature, dtype: object"
      ]
     },
     "execution_count": 229,
     "metadata": {},
     "output_type": "execute_result"
    }
   ],
   "source": [
    "feature_importance = model.feature_importances_\n",
    "# Define a threshold for feature importance\n",
    "threshold = 0.0005  # Adjust this value as needed\n",
    "\n",
    "# Create a DataFrame to store feature importance\n",
    "feature_importance_df = pd.DataFrame({'Feature': X_train.columns, 'Importance': feature_importance})\n",
    "# Filter features above the threshold\n",
    "selected_features = feature_importance_df[feature_importance_df['Importance'] >= threshold]['Feature']\n",
    "\n",
    "# Create a new DataFrame with the selected features\n",
    "X_selected = X_train[selected_features]\n",
    "X_selected['pv_measurement'] = data['pv_measurement']\n",
    "selected_features"
   ]
  },
  {
   "cell_type": "code",
   "execution_count": 230,
   "id": "1573e419-6bd9-4d33-b578-002ffc47bf10",
   "metadata": {},
   "outputs": [
    {
     "data": {
      "text/html": [
       "<div>\n",
       "<style scoped>\n",
       "    .dataframe tbody tr th:only-of-type {\n",
       "        vertical-align: middle;\n",
       "    }\n",
       "\n",
       "    .dataframe tbody tr th {\n",
       "        vertical-align: top;\n",
       "    }\n",
       "\n",
       "    .dataframe thead th {\n",
       "        text-align: right;\n",
       "    }\n",
       "</style>\n",
       "<table border=\"1\" class=\"dataframe\">\n",
       "  <thead>\n",
       "    <tr style=\"text-align: right;\">\n",
       "      <th></th>\n",
       "      <th>absolute_humidity_2m:gm3</th>\n",
       "      <th>air_density_2m:kgm3</th>\n",
       "      <th>ceiling_height_agl:m</th>\n",
       "      <th>clear_sky_energy_1h:J</th>\n",
       "      <th>clear_sky_rad:W</th>\n",
       "      <th>cloud_base_agl:m</th>\n",
       "      <th>dew_point_2m:K</th>\n",
       "      <th>diffuse_rad:W</th>\n",
       "      <th>diffuse_rad_1h:J</th>\n",
       "      <th>direct_rad:W</th>\n",
       "      <th>...</th>\n",
       "      <th>total_cloud_cover:p</th>\n",
       "      <th>visibility:m</th>\n",
       "      <th>wind_speed_10m:ms</th>\n",
       "      <th>wind_speed_u_10m:ms</th>\n",
       "      <th>wind_speed_v_10m:ms</th>\n",
       "      <th>hours</th>\n",
       "      <th>day</th>\n",
       "      <th>month</th>\n",
       "      <th>year</th>\n",
       "      <th>pv_measurement</th>\n",
       "    </tr>\n",
       "    <tr>\n",
       "      <th>date_forecast</th>\n",
       "      <th></th>\n",
       "      <th></th>\n",
       "      <th></th>\n",
       "      <th></th>\n",
       "      <th></th>\n",
       "      <th></th>\n",
       "      <th></th>\n",
       "      <th></th>\n",
       "      <th></th>\n",
       "      <th></th>\n",
       "      <th></th>\n",
       "      <th></th>\n",
       "      <th></th>\n",
       "      <th></th>\n",
       "      <th></th>\n",
       "      <th></th>\n",
       "      <th></th>\n",
       "      <th></th>\n",
       "      <th></th>\n",
       "      <th></th>\n",
       "      <th></th>\n",
       "    </tr>\n",
       "  </thead>\n",
       "  <tbody>\n",
       "    <tr>\n",
       "      <th>2019-01-01 00:00:00</th>\n",
       "      <td>5.525</td>\n",
       "      <td>1.23975</td>\n",
       "      <td>1200.6750</td>\n",
       "      <td>0.000</td>\n",
       "      <td>0.000</td>\n",
       "      <td>1200.6750</td>\n",
       "      <td>275.150</td>\n",
       "      <td>0.000</td>\n",
       "      <td>0.000</td>\n",
       "      <td>0.0</td>\n",
       "      <td>...</td>\n",
       "      <td>86.325</td>\n",
       "      <td>16827.800</td>\n",
       "      <td>2.800</td>\n",
       "      <td>1.175</td>\n",
       "      <td>2.550</td>\n",
       "      <td>0</td>\n",
       "      <td>1</td>\n",
       "      <td>1</td>\n",
       "      <td>2019</td>\n",
       "      <td>0.000000</td>\n",
       "    </tr>\n",
       "    <tr>\n",
       "      <th>2019-01-01 01:00:00</th>\n",
       "      <td>5.425</td>\n",
       "      <td>1.23975</td>\n",
       "      <td>1131.4249</td>\n",
       "      <td>0.000</td>\n",
       "      <td>0.000</td>\n",
       "      <td>1131.4249</td>\n",
       "      <td>274.825</td>\n",
       "      <td>0.000</td>\n",
       "      <td>0.000</td>\n",
       "      <td>0.0</td>\n",
       "      <td>...</td>\n",
       "      <td>99.075</td>\n",
       "      <td>12777.449</td>\n",
       "      <td>3.550</td>\n",
       "      <td>1.525</td>\n",
       "      <td>3.200</td>\n",
       "      <td>1</td>\n",
       "      <td>1</td>\n",
       "      <td>1</td>\n",
       "      <td>2019</td>\n",
       "      <td>0.000000</td>\n",
       "    </tr>\n",
       "    <tr>\n",
       "      <th>2019-01-01 02:00:00</th>\n",
       "      <td>5.400</td>\n",
       "      <td>1.23850</td>\n",
       "      <td>1061.0000</td>\n",
       "      <td>0.000</td>\n",
       "      <td>0.000</td>\n",
       "      <td>1061.0000</td>\n",
       "      <td>274.800</td>\n",
       "      <td>0.000</td>\n",
       "      <td>0.000</td>\n",
       "      <td>0.0</td>\n",
       "      <td>...</td>\n",
       "      <td>97.925</td>\n",
       "      <td>11140.500</td>\n",
       "      <td>4.025</td>\n",
       "      <td>2.150</td>\n",
       "      <td>3.425</td>\n",
       "      <td>2</td>\n",
       "      <td>1</td>\n",
       "      <td>1</td>\n",
       "      <td>2019</td>\n",
       "      <td>0.000000</td>\n",
       "    </tr>\n",
       "    <tr>\n",
       "      <th>2019-01-01 03:00:00</th>\n",
       "      <td>5.350</td>\n",
       "      <td>1.23975</td>\n",
       "      <td>1021.1500</td>\n",
       "      <td>0.000</td>\n",
       "      <td>0.000</td>\n",
       "      <td>1021.1500</td>\n",
       "      <td>274.675</td>\n",
       "      <td>0.000</td>\n",
       "      <td>0.000</td>\n",
       "      <td>0.0</td>\n",
       "      <td>...</td>\n",
       "      <td>97.225</td>\n",
       "      <td>6799.200</td>\n",
       "      <td>4.900</td>\n",
       "      <td>3.425</td>\n",
       "      <td>3.500</td>\n",
       "      <td>3</td>\n",
       "      <td>1</td>\n",
       "      <td>1</td>\n",
       "      <td>2019</td>\n",
       "      <td>0.000000</td>\n",
       "    </tr>\n",
       "    <tr>\n",
       "      <th>2019-01-01 04:00:00</th>\n",
       "      <td>5.675</td>\n",
       "      <td>1.23750</td>\n",
       "      <td>1033.7000</td>\n",
       "      <td>0.000</td>\n",
       "      <td>0.000</td>\n",
       "      <td>1033.7000</td>\n",
       "      <td>275.500</td>\n",
       "      <td>0.000</td>\n",
       "      <td>0.000</td>\n",
       "      <td>0.0</td>\n",
       "      <td>...</td>\n",
       "      <td>96.825</td>\n",
       "      <td>5580.475</td>\n",
       "      <td>6.050</td>\n",
       "      <td>5.575</td>\n",
       "      <td>2.200</td>\n",
       "      <td>4</td>\n",
       "      <td>1</td>\n",
       "      <td>1</td>\n",
       "      <td>2019</td>\n",
       "      <td>0.000000</td>\n",
       "    </tr>\n",
       "    <tr>\n",
       "      <th>...</th>\n",
       "      <td>...</td>\n",
       "      <td>...</td>\n",
       "      <td>...</td>\n",
       "      <td>...</td>\n",
       "      <td>...</td>\n",
       "      <td>...</td>\n",
       "      <td>...</td>\n",
       "      <td>...</td>\n",
       "      <td>...</td>\n",
       "      <td>...</td>\n",
       "      <td>...</td>\n",
       "      <td>...</td>\n",
       "      <td>...</td>\n",
       "      <td>...</td>\n",
       "      <td>...</td>\n",
       "      <td>...</td>\n",
       "      <td>...</td>\n",
       "      <td>...</td>\n",
       "      <td>...</td>\n",
       "      <td>...</td>\n",
       "      <td>...</td>\n",
       "    </tr>\n",
       "    <tr>\n",
       "      <th>2023-04-30 19:00:00</th>\n",
       "      <td>4.550</td>\n",
       "      <td>1.27650</td>\n",
       "      <td>1677.9500</td>\n",
       "      <td>84462.520</td>\n",
       "      <td>4.225</td>\n",
       "      <td>542.8500</td>\n",
       "      <td>272.425</td>\n",
       "      <td>2.825</td>\n",
       "      <td>56433.973</td>\n",
       "      <td>0.1</td>\n",
       "      <td>...</td>\n",
       "      <td>96.725</td>\n",
       "      <td>23434.074</td>\n",
       "      <td>5.175</td>\n",
       "      <td>4.800</td>\n",
       "      <td>1.925</td>\n",
       "      <td>19</td>\n",
       "      <td>30</td>\n",
       "      <td>4</td>\n",
       "      <td>2023</td>\n",
       "      <td>0.828587</td>\n",
       "    </tr>\n",
       "    <tr>\n",
       "      <th>2023-04-30 20:00:00</th>\n",
       "      <td>4.500</td>\n",
       "      <td>1.27875</td>\n",
       "      <td>1766.5000</td>\n",
       "      <td>2270.775</td>\n",
       "      <td>0.000</td>\n",
       "      <td>546.3500</td>\n",
       "      <td>272.300</td>\n",
       "      <td>0.000</td>\n",
       "      <td>5067.025</td>\n",
       "      <td>0.0</td>\n",
       "      <td>...</td>\n",
       "      <td>94.525</td>\n",
       "      <td>21307.725</td>\n",
       "      <td>4.650</td>\n",
       "      <td>4.025</td>\n",
       "      <td>2.300</td>\n",
       "      <td>20</td>\n",
       "      <td>30</td>\n",
       "      <td>4</td>\n",
       "      <td>2023</td>\n",
       "      <td>-0.000000</td>\n",
       "    </tr>\n",
       "    <tr>\n",
       "      <th>2023-04-30 21:00:00</th>\n",
       "      <td>4.500</td>\n",
       "      <td>1.27900</td>\n",
       "      <td>1698.9250</td>\n",
       "      <td>0.000</td>\n",
       "      <td>0.000</td>\n",
       "      <td>548.0500</td>\n",
       "      <td>272.300</td>\n",
       "      <td>0.000</td>\n",
       "      <td>0.000</td>\n",
       "      <td>0.0</td>\n",
       "      <td>...</td>\n",
       "      <td>95.650</td>\n",
       "      <td>21159.225</td>\n",
       "      <td>4.450</td>\n",
       "      <td>3.600</td>\n",
       "      <td>2.600</td>\n",
       "      <td>21</td>\n",
       "      <td>30</td>\n",
       "      <td>4</td>\n",
       "      <td>2023</td>\n",
       "      <td>-0.000000</td>\n",
       "    </tr>\n",
       "    <tr>\n",
       "      <th>2023-04-30 22:00:00</th>\n",
       "      <td>4.500</td>\n",
       "      <td>1.27975</td>\n",
       "      <td>1354.8250</td>\n",
       "      <td>0.000</td>\n",
       "      <td>0.000</td>\n",
       "      <td>527.6000</td>\n",
       "      <td>272.275</td>\n",
       "      <td>0.000</td>\n",
       "      <td>0.000</td>\n",
       "      <td>0.0</td>\n",
       "      <td>...</td>\n",
       "      <td>98.875</td>\n",
       "      <td>14371.775</td>\n",
       "      <td>4.100</td>\n",
       "      <td>3.200</td>\n",
       "      <td>2.550</td>\n",
       "      <td>22</td>\n",
       "      <td>30</td>\n",
       "      <td>4</td>\n",
       "      <td>2023</td>\n",
       "      <td>-0.000000</td>\n",
       "    </tr>\n",
       "    <tr>\n",
       "      <th>2023-04-30 23:00:00</th>\n",
       "      <td>4.500</td>\n",
       "      <td>1.28025</td>\n",
       "      <td>1627.9751</td>\n",
       "      <td>0.000</td>\n",
       "      <td>0.000</td>\n",
       "      <td>526.2000</td>\n",
       "      <td>272.250</td>\n",
       "      <td>0.000</td>\n",
       "      <td>0.000</td>\n",
       "      <td>0.0</td>\n",
       "      <td>...</td>\n",
       "      <td>99.700</td>\n",
       "      <td>12009.100</td>\n",
       "      <td>3.750</td>\n",
       "      <td>2.750</td>\n",
       "      <td>2.575</td>\n",
       "      <td>23</td>\n",
       "      <td>30</td>\n",
       "      <td>4</td>\n",
       "      <td>2023</td>\n",
       "      <td>-0.000000</td>\n",
       "    </tr>\n",
       "  </tbody>\n",
       "</table>\n",
       "<p>32048 rows × 39 columns</p>\n",
       "</div>"
      ],
      "text/plain": [
       "                     absolute_humidity_2m:gm3  air_density_2m:kgm3  \\\n",
       "date_forecast                                                        \n",
       "2019-01-01 00:00:00                     5.525              1.23975   \n",
       "2019-01-01 01:00:00                     5.425              1.23975   \n",
       "2019-01-01 02:00:00                     5.400              1.23850   \n",
       "2019-01-01 03:00:00                     5.350              1.23975   \n",
       "2019-01-01 04:00:00                     5.675              1.23750   \n",
       "...                                       ...                  ...   \n",
       "2023-04-30 19:00:00                     4.550              1.27650   \n",
       "2023-04-30 20:00:00                     4.500              1.27875   \n",
       "2023-04-30 21:00:00                     4.500              1.27900   \n",
       "2023-04-30 22:00:00                     4.500              1.27975   \n",
       "2023-04-30 23:00:00                     4.500              1.28025   \n",
       "\n",
       "                     ceiling_height_agl:m  clear_sky_energy_1h:J  \\\n",
       "date_forecast                                                      \n",
       "2019-01-01 00:00:00             1200.6750                  0.000   \n",
       "2019-01-01 01:00:00             1131.4249                  0.000   \n",
       "2019-01-01 02:00:00             1061.0000                  0.000   \n",
       "2019-01-01 03:00:00             1021.1500                  0.000   \n",
       "2019-01-01 04:00:00             1033.7000                  0.000   \n",
       "...                                   ...                    ...   \n",
       "2023-04-30 19:00:00             1677.9500              84462.520   \n",
       "2023-04-30 20:00:00             1766.5000               2270.775   \n",
       "2023-04-30 21:00:00             1698.9250                  0.000   \n",
       "2023-04-30 22:00:00             1354.8250                  0.000   \n",
       "2023-04-30 23:00:00             1627.9751                  0.000   \n",
       "\n",
       "                     clear_sky_rad:W  cloud_base_agl:m  dew_point_2m:K  \\\n",
       "date_forecast                                                            \n",
       "2019-01-01 00:00:00            0.000         1200.6750         275.150   \n",
       "2019-01-01 01:00:00            0.000         1131.4249         274.825   \n",
       "2019-01-01 02:00:00            0.000         1061.0000         274.800   \n",
       "2019-01-01 03:00:00            0.000         1021.1500         274.675   \n",
       "2019-01-01 04:00:00            0.000         1033.7000         275.500   \n",
       "...                              ...               ...             ...   \n",
       "2023-04-30 19:00:00            4.225          542.8500         272.425   \n",
       "2023-04-30 20:00:00            0.000          546.3500         272.300   \n",
       "2023-04-30 21:00:00            0.000          548.0500         272.300   \n",
       "2023-04-30 22:00:00            0.000          527.6000         272.275   \n",
       "2023-04-30 23:00:00            0.000          526.2000         272.250   \n",
       "\n",
       "                     diffuse_rad:W  diffuse_rad_1h:J  direct_rad:W  ...  \\\n",
       "date_forecast                                                       ...   \n",
       "2019-01-01 00:00:00          0.000             0.000           0.0  ...   \n",
       "2019-01-01 01:00:00          0.000             0.000           0.0  ...   \n",
       "2019-01-01 02:00:00          0.000             0.000           0.0  ...   \n",
       "2019-01-01 03:00:00          0.000             0.000           0.0  ...   \n",
       "2019-01-01 04:00:00          0.000             0.000           0.0  ...   \n",
       "...                            ...               ...           ...  ...   \n",
       "2023-04-30 19:00:00          2.825         56433.973           0.1  ...   \n",
       "2023-04-30 20:00:00          0.000          5067.025           0.0  ...   \n",
       "2023-04-30 21:00:00          0.000             0.000           0.0  ...   \n",
       "2023-04-30 22:00:00          0.000             0.000           0.0  ...   \n",
       "2023-04-30 23:00:00          0.000             0.000           0.0  ...   \n",
       "\n",
       "                     total_cloud_cover:p  visibility:m  wind_speed_10m:ms  \\\n",
       "date_forecast                                                               \n",
       "2019-01-01 00:00:00               86.325     16827.800              2.800   \n",
       "2019-01-01 01:00:00               99.075     12777.449              3.550   \n",
       "2019-01-01 02:00:00               97.925     11140.500              4.025   \n",
       "2019-01-01 03:00:00               97.225      6799.200              4.900   \n",
       "2019-01-01 04:00:00               96.825      5580.475              6.050   \n",
       "...                                  ...           ...                ...   \n",
       "2023-04-30 19:00:00               96.725     23434.074              5.175   \n",
       "2023-04-30 20:00:00               94.525     21307.725              4.650   \n",
       "2023-04-30 21:00:00               95.650     21159.225              4.450   \n",
       "2023-04-30 22:00:00               98.875     14371.775              4.100   \n",
       "2023-04-30 23:00:00               99.700     12009.100              3.750   \n",
       "\n",
       "                     wind_speed_u_10m:ms  wind_speed_v_10m:ms  hours  day  \\\n",
       "date_forecast                                                               \n",
       "2019-01-01 00:00:00                1.175                2.550      0    1   \n",
       "2019-01-01 01:00:00                1.525                3.200      1    1   \n",
       "2019-01-01 02:00:00                2.150                3.425      2    1   \n",
       "2019-01-01 03:00:00                3.425                3.500      3    1   \n",
       "2019-01-01 04:00:00                5.575                2.200      4    1   \n",
       "...                                  ...                  ...    ...  ...   \n",
       "2023-04-30 19:00:00                4.800                1.925     19   30   \n",
       "2023-04-30 20:00:00                4.025                2.300     20   30   \n",
       "2023-04-30 21:00:00                3.600                2.600     21   30   \n",
       "2023-04-30 22:00:00                3.200                2.550     22   30   \n",
       "2023-04-30 23:00:00                2.750                2.575     23   30   \n",
       "\n",
       "                     month  year  pv_measurement  \n",
       "date_forecast                                     \n",
       "2019-01-01 00:00:00      1  2019        0.000000  \n",
       "2019-01-01 01:00:00      1  2019        0.000000  \n",
       "2019-01-01 02:00:00      1  2019        0.000000  \n",
       "2019-01-01 03:00:00      1  2019        0.000000  \n",
       "2019-01-01 04:00:00      1  2019        0.000000  \n",
       "...                    ...   ...             ...  \n",
       "2023-04-30 19:00:00      4  2023        0.828587  \n",
       "2023-04-30 20:00:00      4  2023       -0.000000  \n",
       "2023-04-30 21:00:00      4  2023       -0.000000  \n",
       "2023-04-30 22:00:00      4  2023       -0.000000  \n",
       "2023-04-30 23:00:00      4  2023       -0.000000  \n",
       "\n",
       "[32048 rows x 39 columns]"
      ]
     },
     "execution_count": 230,
     "metadata": {},
     "output_type": "execute_result"
    }
   ],
   "source": [
    "from sklearn.neighbors import LocalOutlierFactor\n",
    "df = X_selected\n",
    "# Crea un modello di rilevamento delle anomalie\n",
    "clf = LocalOutlierFactor(n_neighbors=20)\n",
    "\n",
    "# Identifica i dati anomali\n",
    "anomalies = clf.fit_predict(df)\n",
    "df[anomalies == -1]\n",
    "# Stampa i dati anomali\n",
    "df = df[anomalies != -1]\n",
    "data = df\n",
    "data"
   ]
  },
  {
   "cell_type": "code",
   "execution_count": 180,
   "id": "e39e62c4-d842-4e6e-a67f-da452a79e678",
   "metadata": {},
   "outputs": [],
   "source": [
    "param = {'lambda': 0.0014379830852848591, 'alpha': 0.0011776334600574765, 'colsample_bytree': 0.9, 'subsample': 0.8, 'learning_rate': 0.3920948018175181, 'n_estimators': 530, 'max_depth': 13, 'random_state': 594, 'min_child_weight': 113}"
   ]
  },
  {
   "cell_type": "code",
   "execution_count": 181,
   "id": "7a5d7bb0-91cb-4cc5-862d-025e403cf6c9",
   "metadata": {},
   "outputs": [],
   "source": [
    "model_A = xgb.XGBRegressor(**param)"
   ]
  },
  {
   "cell_type": "code",
   "execution_count": 182,
   "id": "88cb0791-4848-49f6-bbc3-03518bc4f94d",
   "metadata": {},
   "outputs": [],
   "source": [
    "X_train = data.drop(columns = 'pv_measurement')\n",
    "y_train = data['pv_measurement']"
   ]
  },
  {
   "cell_type": "code",
   "execution_count": 183,
   "id": "871b3461-0ce0-4353-bf3f-207d6ed0c79f",
   "metadata": {},
   "outputs": [],
   "source": [
    "model_A.fit(X_train,y_train)\n",
    "df_test_A = df_test_A[selected_features]\n",
    "y_pred_A = model_A.predict(df_test_A)"
   ]
  },
  {
   "cell_type": "code",
   "execution_count": 187,
   "id": "9e6ab7b3-fdcb-492b-bac4-890a12480f9d",
   "metadata": {},
   "outputs": [
    {
     "data": {
      "image/png": "[encoded data removed]",
      "text/plain": [
       "<Figure size 640x480 with 1 Axes>"
      ]
     },
     "metadata": {},
     "output_type": "display_data"
    }
   ],
   "source": [
    "plt.plot(range(len(y_pred_A)), y_pred_A, label='Predizione', color='red', linestyle='-')\n",
    "\n",
    "# Aggiungi una legenda\n",
    "plt.legend()\n",
    "\n",
    "# Aggiungi etichette agli assi\n",
    "plt.ylabel('Valori y')\n",
    "\n",
    "# Titolo del grafico\n",
    "plt.title('Grafico di Predizione')\n",
    "\n",
    "# Mostra il grafico\n",
    "plt.show()"
   ]
  },
  {
   "cell_type": "code",
   "execution_count": 198,
   "id": "006f3c40-6b7b-41a6-bf5d-decb0321db8b",
   "metadata": {},
   "outputs": [],
   "source": [
    "df = pd.DataFrame({'Prediction':y_pred_A})"
   ]
  },
  {
   "cell_type": "code",
   "execution_count": 200,
   "id": "c340aac0-1709-4090-a725-e58f968cff11",
   "metadata": {},
   "outputs": [],
   "source": [
    "threshold = 0.05\n",
    "df['Prediction'] = df['Prediction'].apply(lambda x: 0 if x < threshold else x)"
   ]
  },
  {
   "cell_type": "code",
   "execution_count": 202,
   "id": "33dac465-12c8-4234-9328-0639f338f50e",
   "metadata": {},
   "outputs": [],
   "source": [
    "df.to_csv('A.csv')"
   ]
  },
  {
   "cell_type": "code",
   "execution_count": null,
   "id": "9ebad8e5-6ecb-4225-a64b-637db86272cf",
   "metadata": {},
   "outputs": [],
   "source": []
  }
 ],
 "metadata": {
  "environment": {
   "kernel": "python3",
   "name": "common-cpu.m112",
   "type": "gcloud",
   "uri": "gcr.io/deeplearning-platform-release/base-cpu:m112"
  },
  "kernelspec": {
   "display_name": "Python 3",
   "language": "python",
   "name": "python3"
  },
  "language_info": {
   "codemirror_mode": {
    "name": "ipython",
    "version": 3
   },
   "file_extension": ".py",
   "mimetype": "text/x-python",
   "name": "python",
   "nbconvert_exporter": "python",
   "pygments_lexer": "ipython3",
   "version": "3.10.12"
  }
 },
 "nbformat": 4,
 "nbformat_minor": 5
}
