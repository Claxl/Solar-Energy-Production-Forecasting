{
 "cells": [
  {
   "cell_type": "code",
   "execution_count": 1,
   "id": "df6ee033",
   "metadata": {},
   "outputs": [],
   "source": [
    "import pandas as pd\n",
    "import numpy as np\n",
    "from utility import *\n",
    "import matplotlib.pyplot as plt"
   ]
  },
  {
   "cell_type": "code",
   "execution_count": 3,
   "id": "56f9e0b8",
   "metadata": {},
   "outputs": [],
   "source": [
    "base = \"/Users/claxl/Documents/GitHub/MLProject/Data Exploration/EDA/clearData/\""
   ]
  },
  {
   "cell_type": "code",
   "execution_count": 87,
   "id": "260d4f20",
   "metadata": {},
   "outputs": [],
   "source": [
    "df_train_est_A, df_train_obs_A, df_test_A = readData(base,1)\n",
    "df_train_est_A.set_index('date_forecast', inplace=True)\n",
    "df_train_obs_A.set_index('date_forecast', inplace=True)\n",
    "df_test_A.set_index('date_forecast', inplace=True)\n",
    "df_train_obs_A.index = pd.to_datetime(df_train_obs_A.index)\n",
    "df_train_obs_A.index = pd.to_datetime(df_train_obs_A.index)"
   ]
  },
  {
   "cell_type": "code",
   "execution_count": 88,
   "id": "6cf1a5f6",
   "metadata": {},
   "outputs": [],
   "source": [
    "df_train_obs_A=df_train_obs_A.drop(columns=['snow_density:kgm3'])\n",
    "df_train_est_A=df_train_est_A.drop(columns=['snow_density:kgm3'])\n"
   ]
  },
  {
   "cell_type": "code",
   "execution_count": 93,
   "id": "1689ac1b",
   "metadata": {},
   "outputs": [
    {
     "data": {
      "text/plain": [
       "absolute_humidity_2m:gm3          0.0\n",
       "air_density_2m:kgm3               0.0\n",
       "ceiling_height_agl:m              0.0\n",
       "clear_sky_energy_1h:J             0.0\n",
       "clear_sky_rad:W                   0.0\n",
       "cloud_base_agl:m                  0.0\n",
       "dew_or_rime:idx                   0.0\n",
       "dew_point_2m:K                    0.0\n",
       "diffuse_rad:W                     0.0\n",
       "diffuse_rad_1h:J                  0.0\n",
       "direct_rad:W                      0.0\n",
       "direct_rad_1h:J                   0.0\n",
       "effective_cloud_cover:p           0.0\n",
       "elevation:m                       0.0\n",
       "fresh_snow_12h:cm                 0.0\n",
       "fresh_snow_1h:cm                  0.0\n",
       "fresh_snow_24h:cm                 0.0\n",
       "fresh_snow_3h:cm                  0.0\n",
       "fresh_snow_6h:cm                  0.0\n",
       "is_day:idx                        0.0\n",
       "is_in_shadow:idx                  0.0\n",
       "msl_pressure:hPa                  0.0\n",
       "precip_5min:mm                    0.0\n",
       "precip_type_5min:idx              0.0\n",
       "pressure_100m:hPa                 0.0\n",
       "pressure_50m:hPa                  0.0\n",
       "prob_rime:p                       0.0\n",
       "rain_water:kgm2                   0.0\n",
       "relative_humidity_1000hPa:p       0.0\n",
       "sfc_pressure:hPa                  0.0\n",
       "snow_depth:cm                     0.0\n",
       "snow_drift:idx                    0.0\n",
       "snow_melt_10min:mm                0.0\n",
       "snow_water:kgm2                   0.0\n",
       "sun_azimuth:d                     0.0\n",
       "sun_elevation:d                   0.0\n",
       "super_cooled_liquid_water:kgm2    0.0\n",
       "t_1000hPa:K                       0.0\n",
       "total_cloud_cover:p               0.0\n",
       "visibility:m                      0.0\n",
       "wind_speed_10m:ms                 0.0\n",
       "wind_speed_u_10m:ms               0.0\n",
       "wind_speed_v_10m:ms               0.0\n",
       "wind_speed_w_1000hPa:ms           0.0\n",
       "pv_measurement                    0.0\n",
       "hours                             0.0\n",
       "day                               0.0\n",
       "month                             0.0\n",
       "year                              0.0\n",
       "dtype: float64"
      ]
     },
     "execution_count": 93,
     "metadata": {},
     "output_type": "execute_result"
    }
   ],
   "source": [
    "df_train_obs_A = df_train_obs_A.fillna(0)\n",
    "df_train_est_A = df_train_est_A.fillna(0)\n",
    "df = pd.concat([df_train_obs_A,df_train_est_A])\n",
    "df.index = pd.to_datetime(df.index)\n",
    "df['hours'] = df.index.hour\n",
    "df['day'] = df.index.day\n",
    "df['month'] = df.index.month\n",
    "df['year'] = df.index.year\n",
    "\n",
    "df.isna().mean()\n"
   ]
  },
  {
   "cell_type": "code",
   "execution_count": 94,
   "id": "4c80ed42",
   "metadata": {},
   "outputs": [
    {
     "data": {
      "text/plain": [
       "absolute_humidity_2m:gm3          0.0\n",
       "air_density_2m:kgm3               0.0\n",
       "ceiling_height_agl:m              0.0\n",
       "clear_sky_energy_1h:J             0.0\n",
       "clear_sky_rad:W                   0.0\n",
       "cloud_base_agl:m                  0.0\n",
       "dew_or_rime:idx                   0.0\n",
       "dew_point_2m:K                    0.0\n",
       "diffuse_rad:W                     0.0\n",
       "diffuse_rad_1h:J                  0.0\n",
       "direct_rad:W                      0.0\n",
       "direct_rad_1h:J                   0.0\n",
       "effective_cloud_cover:p           0.0\n",
       "elevation:m                       0.0\n",
       "fresh_snow_12h:cm                 0.0\n",
       "fresh_snow_1h:cm                  0.0\n",
       "fresh_snow_24h:cm                 0.0\n",
       "fresh_snow_3h:cm                  0.0\n",
       "fresh_snow_6h:cm                  0.0\n",
       "is_day:idx                        0.0\n",
       "is_in_shadow:idx                  0.0\n",
       "msl_pressure:hPa                  0.0\n",
       "precip_5min:mm                    0.0\n",
       "precip_type_5min:idx              0.0\n",
       "pressure_100m:hPa                 0.0\n",
       "pressure_50m:hPa                  0.0\n",
       "prob_rime:p                       0.0\n",
       "rain_water:kgm2                   0.0\n",
       "relative_humidity_1000hPa:p       0.0\n",
       "sfc_pressure:hPa                  0.0\n",
       "snow_depth:cm                     0.0\n",
       "snow_drift:idx                    0.0\n",
       "snow_melt_10min:mm                0.0\n",
       "snow_water:kgm2                   0.0\n",
       "sun_azimuth:d                     0.0\n",
       "sun_elevation:d                   0.0\n",
       "super_cooled_liquid_water:kgm2    0.0\n",
       "t_1000hPa:K                       0.0\n",
       "total_cloud_cover:p               0.0\n",
       "visibility:m                      0.0\n",
       "wind_speed_10m:ms                 0.0\n",
       "wind_speed_u_10m:ms               0.0\n",
       "wind_speed_v_10m:ms               0.0\n",
       "wind_speed_w_1000hPa:ms           0.0\n",
       "pv_measurement                    0.0\n",
       "hours                             0.0\n",
       "day                               0.0\n",
       "month                             0.0\n",
       "year                              0.0\n",
       "dtype: float64"
      ]
     },
     "execution_count": 94,
     "metadata": {},
     "output_type": "execute_result"
    }
   ],
   "source": [
    "import pandas as pd\n",
    "from sklearn.model_selection import TimeSeriesSplit, cross_val_score\n",
    "import xgboost as xgb\n",
    "from sklearn.metrics import mean_absolute_error\n",
    "\n",
    "# Sample DataFrame (replace this with your own dataset)\n",
    "data = df\n",
    "\n",
    "# Define the number of splits (e.g., 5 for 80-20 train-test splits)\n",
    "n_splits = 5\n",
    "\n",
    "\n",
    "# Initialize the TimeSeriesSplit\n",
    "tscv = TimeSeriesSplit(n_splits=n_splits)\n",
    "\n",
    "data.isna().mean()"
   ]
  },
  {
   "cell_type": "code",
   "execution_count": null,
   "id": "4be8129f",
   "metadata": {},
   "outputs": [],
   "source": [
    "param_grid = [\n",
    "    {\n",
    "        'learning_rate': [0.1, 0.01, 0.001],\n",
    "        'n_estimators': [100, 200, 300],\n",
    "        'max_depth': [3, 4, 5],\n",
    "        'min_child_weight': [1, 2, 3],\n",
    "        'subsample': [0.8, 0.9, 1.0],\n",
    "        'colsample_bytree': [0.8, 0.9, 1.0],\n",
    "        'gamma': [0, 0.1, 0.2],\n",
    "        'reg_alpha': [0, 0.1, 0.2],\n",
    "        'reg_lambda': [1, 2, 3],\n",
    "        'objective': ['reg:squarederror'],\n",
    "        'eval_metric': ['mae']\n",
    "    }\n",
    "]\n",
    "\n",
    "# You can use this param_grid in grid search or random search\n"
   ]
  },
  {
   "cell_type": "code",
   "execution_count": 101,
   "id": "b61fc0a1",
   "metadata": {},
   "outputs": [],
   "source": [
    "from sklearn.model_selection import GridSearchCV\n",
    "\n",
    "\n"
   ]
  },
  {
   "cell_type": "code",
   "execution_count": null,
   "id": "40682e02",
   "metadata": {},
   "outputs": [],
   "source": [
    "#def objective(trial):\n",
    "param_grid = [\n",
    "    {\n",
    "        'learning_rate': [0.1, 0.01, 0.001],\n",
    "        'n_estimators': [100, 200, 300],\n",
    "        'max_depth': [3, 4, 5],\n",
    "        'min_child_weight': [1, 2, 3],\n",
    "        'subsample': [0.8, 0.9, 1.0],\n",
    "        'colsample_bytree': [0.8, 0.9, 1.0],\n",
    "        'gamma': [0, 0.1, 0.2],\n",
    "        'reg_alpha': [0, 0.1, 0.2],\n",
    "        'reg_lambda': [1, 2, 3],\n",
    "        'objective': ['reg:squarederror'],\n",
    "        'eval_metric': ['mae']\n",
    "    }\n",
    "]\n",
    "\n",
    "maelist = []\n",
    "for train_index, test_index in tscv.split(data):\n",
    "        train_data = data.iloc[train_index]\n",
    "        test_data = data.iloc[test_index]\n",
    "\n",
    "        # Extract target variable for training and testing data\n",
    "        y_train = train_data['pv_measurement']\n",
    "        y_test = test_data['pv_measurement']\n",
    "\n",
    "        # Extract features for training and testing data\n",
    "        X_train = train_data.drop(columns = 'pv_measurement')\n",
    "        X_test = test_data.drop(columns = 'pv_measurement')\n",
    "            # Create an XGBoost DMatrix for training and testing data\n",
    "\n",
    "        grid_search = GridSearchCV(estimator=xgb.XGBRegressor(), param_grid=param_grid, scoring='neg_mean_absolute_error', cv=5)\n",
    "        grid_search.fit(X_train, y_train)\n",
    "\n",
    "        best_params = grid_search.best_params_\n",
    "\n",
    "        # Evaluate the model using Mean Absolute Error (MAE)\n",
    "        mae = mean_absolute_error(y_test, y_pred)\n",
    "        print(\"Mean Absolute Error:\", mae)\n",
    "    # Return MAE\n",
    "    #return 0"
   ]
  },
  {
   "cell_type": "code",
   "execution_count": null,
   "id": "2f3060c3",
   "metadata": {
    "scrolled": false
   },
   "outputs": [],
   "source": [
    "import optuna\n",
    "import warnings\n",
    "warnings.filterwarnings(\"ignore\")\n",
    "\n",
    "study = optuna.create_study(direction='minimize')\n",
    "study.optimize(objective, n_trials=50)"
   ]
  },
  {
   "cell_type": "code",
   "execution_count": null,
   "id": "cfffef82",
   "metadata": {},
   "outputs": [],
   "source": []
  }
 ],
 "metadata": {
  "kernelspec": {
   "display_name": "Python 3 (ipykernel)",
   "language": "python",
   "name": "python3"
  },
  "language_info": {
   "codemirror_mode": {
    "name": "ipython",
    "version": 3
   },
   "file_extension": ".py",
   "mimetype": "text/x-python",
   "name": "python",
   "nbconvert_exporter": "python",
   "pygments_lexer": "ipython3",
   "version": "3.11.4"
  }
 },
 "nbformat": 4,
 "nbformat_minor": 5
}
