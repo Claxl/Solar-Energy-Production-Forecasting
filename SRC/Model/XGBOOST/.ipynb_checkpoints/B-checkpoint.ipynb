{
 "cells": [
  {
   "cell_type": "code",
   "execution_count": 3,
   "id": "e829b2a1",
   "metadata": {},
   "outputs": [],
   "source": [
    "import pandas as pd\n",
    "import numpy as np\n",
    "import matplotlib.pyplot as plt"
   ]
  },
  {
   "cell_type": "code",
   "execution_count": 4,
   "id": "9bdcb575",
   "metadata": {},
   "outputs": [],
   "source": [
    "base = \"/Users/claxl/Documents/GitHub/MLProject/Data Exploration/EDA/clearData/\""
   ]
  },
  {
   "cell_type": "code",
   "execution_count": 152,
   "id": "ec4afa2f",
   "metadata": {},
   "outputs": [],
   "source": [
    "df_train_est_A = pd.read_csv('train_est_A.csv')\n",
    "df_train_obs_A = pd.read_csv('train_obs_A.csv')\n",
    "df_test_A = pd.read_csv('X_test_A.csv')\n",
    "df_train_est_A = df_train_est_A.rename(columns={'Unnamed: 0': 'date_forecast'})\n",
    "\n",
    "df_train_obs_A = df_train_obs_A.rename(columns={'Unnamed: 0': 'date_forecast'})\n",
    "\n",
    "df_test_A = df_test_A.rename(columns={'Unnamed: 0': 'date_forecast'})\n",
    "\n",
    "df_train_est_A.set_index('date_forecast', inplace=True)\n",
    "df_train_obs_A.set_index('date_forecast', inplace=True)\n",
    "df_test_A.set_index('date_forecast', inplace=True)\n",
    "df_train_obs_A.index = pd.to_datetime(df_train_obs_A.index)\n",
    "df_train_obs_A.index = pd.to_datetime(df_train_obs_A.index)"
   ]
  },
  {
   "cell_type": "code",
   "execution_count": 19,
   "id": "6ace265e",
   "metadata": {},
   "outputs": [],
   "source": [
    "#df_train_obs_A=df_train_obs_A.drop(columns=['snow_density:kgm3'])\n",
    "df_train_est_A=df_train_est_A.drop(columns=['date_calc'])\n"
   ]
  },
  {
   "cell_type": "code",
   "execution_count": 161,
   "id": "043f2294",
   "metadata": {},
   "outputs": [],
   "source": [
    "df_train_obs_A = df_train_obs_A.fillna(0)\n",
    "df_train_est_A = df_train_est_A.fillna(0)\n",
    "df = pd.concat([df_train_obs_A,df_train_est_A])\n",
    "df.index = pd.to_datetime(df.index)\n",
    "df['hours'] = df.index.hour\n",
    "df['day'] = df.index.day\n",
    "df['month'] = df.index.month\n",
    "df['year'] = df.index.year\n",
    "df_test_A.index = pd.to_datetime(df_test_A.index)\n",
    "df_test_A['hours'] = df_test_A.index.hour\n",
    "df_test_A['day'] = df_test_A.index.day\n",
    "df_test_A['month'] = df_test_A.index.month\n",
    "df_test_A['year'] = df_test_A.index.year\n",
    "df_test_A = df_test_A.drop(columns = 'date_calc', axis = 1)"
   ]
  },
  {
   "cell_type": "code",
   "execution_count": 97,
   "id": "1856dc1e",
   "metadata": {},
   "outputs": [],
   "source": [
    "import pandas as pd\n",
    "from sklearn.model_selection import TimeSeriesSplit, cross_val_score\n",
    "import xgboost as xgb\n",
    "from sklearn.metrics import mean_absolute_error\n",
    "\n",
    "# Sample DataFrame (replace this with your own dataset)\n",
    "data = df\n",
    "\n",
    "# Define the number of splits (e.g., 5 for 80-20 train-test splits)\n",
    "n_splits = 3\n",
    "\n",
    "\n",
    "# Initialize the TimeSeriesSplit\n",
    "tscv = TimeSeriesSplit(n_splits=n_splits)\n"
   ]
  },
  {
   "cell_type": "code",
   "execution_count": 108,
   "id": "7e336764",
   "metadata": {},
   "outputs": [],
   "source": [
    "def objective(trial):\n",
    "    param = {\n",
    "        'lambda': trial.suggest_loguniform('lambda', 1e-3, 10.0),\n",
    "        'alpha': trial.suggest_loguniform('alpha', 1e-3, 10.0),\n",
    "        'colsample_bytree': trial.suggest_categorical('colsample_bytree', [0.3,0.4,0.5,0.6,0.7,0.8,0.9, 1.0]),\n",
    "        'subsample': trial.suggest_categorical('subsample', [0.4,0.5,0.6,0.7,0.8,1.0]),\n",
    "        'learning_rate': trial.suggest_loguniform('learning_rate', 1e-4,1e-0),\n",
    "        'n_estimators': trial.suggest_int('n_estimators',10,1000),\n",
    "        'max_depth': trial.suggest_categorical('max_depth', [5,7,9,11,13,15,17]),\n",
    "        'random_state': trial.suggest_int('random_state', 1,1000),\n",
    "        'min_child_weight': trial.suggest_int('min_child_weight', 1, 300),\n",
    "    }\n",
    "    model = xgb.XGBRegressor(**param)\n",
    "    maelist = []\n",
    "    for train_index, test_index in tscv.split(data):\n",
    "        train_data = data.iloc[train_index]\n",
    "        test_data = data.iloc[test_index]\n",
    "\n",
    "        # Extract target variable for training and testing data\n",
    "        y_train = train_data['pv_measurement']\n",
    "        y_test = test_data['pv_measurement']\n",
    "\n",
    "        # Extract features for training and testing data\n",
    "        X_train = train_data.drop(columns = 'pv_measurement')\n",
    "        X_test = test_data.drop(columns = 'pv_measurement')\n",
    "            # Create an XGBoost DMatrix for training and testing data\n",
    "        dtrain = xgb.DMatrix(X_train, label=y_train)\n",
    "        dtest = xgb.DMatrix(X_test, label=y_test)\n",
    "\n",
    "        # Train the XGBoost model\n",
    "        model = xgb.train(param, dtrain)\n",
    "\n",
    "        # Make predictions on the test data\n",
    "        y_pred = model.predict(dtest)\n",
    "\n",
    "        # Evaluate the model using Mean Absolute Error (MAE)\n",
    "        mae = mean_absolute_error(y_test, y_pred)\n",
    "        print(\"Mean Absolute Error:\", mae)\n",
    "        maelist.append(mae)\n",
    "    # Return MAE\n",
    "    mean_mae = np.mean(maelist)\n",
    "\n",
    "    return mean_mae"
   ]
  },
  {
   "cell_type": "code",
   "execution_count": 142,
   "id": "f17b7fd2-ba56-44d6-a799-b477b9d5ad22",
   "metadata": {},
   "outputs": [
    {
     "name": "stderr",
     "output_type": "stream",
     "text": [
      "[I 2023-10-25 14:29:22,207] A new study created in memory with name: no-name-a694b4f4-b66c-4d1d-9009-9e33b6389ffc\n"
     ]
    }
   ],
   "source": [
    "import optuna\n",
    "import warnings\n",
    "warnings.filterwarnings(\"ignore\")\n",
    "\n",
    "study = optuna.create_study(direction='minimize')"
   ]
  },
  {
   "cell_type": "code",
   "execution_count": 143,
   "id": "81030038-4079-4a9d-8219-5c9be4b988f4",
   "metadata": {
    "collapsed": true,
    "jupyter": {
     "outputs_hidden": true
    },
    "tags": []
   },
   "outputs": [
    {
     "name": "stdout",
     "output_type": "stream",
     "text": [
      "Mean Absolute Error: 830.7210668183195\n",
      "Mean Absolute Error: 858.7180029115834\n"
     ]
    },
    {
     "name": "stderr",
     "output_type": "stream",
     "text": [
      "[I 2023-10-25 14:29:23,296] Trial 0 finished with value: 840.0621521843378 and parameters: {'lambda': 0.28004613521687755, 'alpha': 0.0014389699440285387, 'colsample_bytree': 0.5, 'subsample': 0.7, 'learning_rate': 0.0001858072681026797, 'n_estimators': 20, 'max_depth': 13, 'random_state': 636, 'min_child_weight': 26}. Best is trial 0 with value: 840.0621521843378.\n"
     ]
    },
    {
     "name": "stdout",
     "output_type": "stream",
     "text": [
      "Mean Absolute Error: 830.7473868231106\n",
      "Mean Absolute Error: 753.5381974932093\n",
      "Mean Absolute Error: 778.1347794754033\n"
     ]
    },
    {
     "name": "stderr",
     "output_type": "stream",
     "text": [
      "[I 2023-10-25 14:29:23,561] Trial 1 finished with value: 761.5823859396179 and parameters: {'lambda': 0.7605795844703882, 'alpha': 0.018668605558445215, 'colsample_bytree': 0.4, 'subsample': 1.0, 'learning_rate': 0.01225839884921197, 'n_estimators': 32, 'max_depth': 5, 'random_state': 167, 'min_child_weight': 52}. Best is trial 1 with value: 761.5823859396179.\n"
     ]
    },
    {
     "name": "stdout",
     "output_type": "stream",
     "text": [
      "Mean Absolute Error: 753.0741808502412\n",
      "Mean Absolute Error: 233.6549764811481\n",
      "Mean Absolute Error: 217.9723153662023\n"
     ]
    },
    {
     "name": "stderr",
     "output_type": "stream",
     "text": [
      "[I 2023-10-25 14:29:23,840] Trial 2 finished with value: 222.50359085902357 and parameters: {'lambda': 2.6869106194441317, 'alpha': 0.007946060018817444, 'colsample_bytree': 0.4, 'subsample': 0.5, 'learning_rate': 0.31350533027739297, 'n_estimators': 798, 'max_depth': 13, 'random_state': 235, 'min_child_weight': 49}. Best is trial 2 with value: 222.50359085902357.\n"
     ]
    },
    {
     "name": "stdout",
     "output_type": "stream",
     "text": [
      "Mean Absolute Error: 215.8834807297203\n",
      "Mean Absolute Error: 618.8376204719084\n",
      "Mean Absolute Error: 634.8639571295662\n"
     ]
    },
    {
     "name": "stderr",
     "output_type": "stream",
     "text": [
      "[I 2023-10-25 14:29:24,049] Trial 3 finished with value: 622.2314997421453 and parameters: {'lambda': 0.5941477144906846, 'alpha': 0.07253966492508086, 'colsample_bytree': 0.7, 'subsample': 0.7, 'learning_rate': 0.03696034538834441, 'n_estimators': 47, 'max_depth': 5, 'random_state': 604, 'min_child_weight': 296}. Best is trial 2 with value: 222.50359085902357.\n",
      "[I 2023-10-25 14:29:24,245] Trial 4 finished with value: 497.64920917960086 and parameters: {'lambda': 0.003727981490443821, 'alpha': 3.312443046215539, 'colsample_bytree': 0.3, 'subsample': 0.5, 'learning_rate': 0.07792534255153599, 'n_estimators': 618, 'max_depth': 5, 'random_state': 782, 'min_child_weight': 252}. Best is trial 2 with value: 222.50359085902357.\n"
     ]
    },
    {
     "name": "stdout",
     "output_type": "stream",
     "text": [
      "Mean Absolute Error: 612.992921624961\n",
      "Mean Absolute Error: 507.78019805181856\n",
      "Mean Absolute Error: 504.0623860030305\n",
      "Mean Absolute Error: 481.1050434839536\n"
     ]
    },
    {
     "name": "stderr",
     "output_type": "stream",
     "text": [
      "[I 2023-10-25 14:29:24,475] Trial 5 finished with value: 771.0396086877308 and parameters: {'lambda': 0.003491083741732677, 'alpha': 0.04346873553602944, 'colsample_bytree': 0.6, 'subsample': 0.6, 'learning_rate': 0.01022910060967232, 'n_estimators': 298, 'max_depth': 11, 'random_state': 180, 'min_child_weight': 223}. Best is trial 2 with value: 222.50359085902357.\n"
     ]
    },
    {
     "name": "stdout",
     "output_type": "stream",
     "text": [
      "Mean Absolute Error: 763.5236848739335\n",
      "Mean Absolute Error: 787.9290788262654\n",
      "Mean Absolute Error: 761.6660623629939\n"
     ]
    },
    {
     "name": "stderr",
     "output_type": "stream",
     "text": [
      "[I 2023-10-25 14:29:24,688] Trial 6 finished with value: 836.570716572347 and parameters: {'lambda': 0.33713280656192346, 'alpha': 0.0011816575339273535, 'colsample_bytree': 0.6, 'subsample': 0.5, 'learning_rate': 0.0006680277285838566, 'n_estimators': 767, 'max_depth': 13, 'random_state': 196, 'min_child_weight': 177}. Best is trial 2 with value: 222.50359085902357.\n"
     ]
    },
    {
     "name": "stdout",
     "output_type": "stream",
     "text": [
      "Mean Absolute Error: 827.2952146942463\n",
      "Mean Absolute Error: 855.1489160541689\n",
      "Mean Absolute Error: 827.2680189686258\n"
     ]
    },
    {
     "name": "stderr",
     "output_type": "stream",
     "text": [
      "[I 2023-10-25 14:29:24,928] Trial 7 finished with value: 473.0806737164353 and parameters: {'lambda': 0.00744018513080264, 'alpha': 0.025631536741901238, 'colsample_bytree': 0.5, 'subsample': 0.5, 'learning_rate': 0.07426012314257875, 'n_estimators': 168, 'max_depth': 13, 'random_state': 595, 'min_child_weight': 115}. Best is trial 2 with value: 222.50359085902357.\n"
     ]
    },
    {
     "name": "stdout",
     "output_type": "stream",
     "text": [
      "Mean Absolute Error: 472.84766524576884\n",
      "Mean Absolute Error: 480.52464714175306\n",
      "Mean Absolute Error: 465.86970876178395\n"
     ]
    },
    {
     "name": "stderr",
     "output_type": "stream",
     "text": [
      "[I 2023-10-25 14:29:25,143] Trial 8 finished with value: 793.0202700290893 and parameters: {'lambda': 0.0227619773658035, 'alpha': 0.0075027034582889705, 'colsample_bytree': 0.8, 'subsample': 1.0, 'learning_rate': 0.006830007486482337, 'n_estimators': 750, 'max_depth': 5, 'random_state': 82, 'min_child_weight': 184}. Best is trial 2 with value: 222.50359085902357.\n"
     ]
    },
    {
     "name": "stdout",
     "output_type": "stream",
     "text": [
      "Mean Absolute Error: 784.4480480529252\n",
      "Mean Absolute Error: 810.5239849925784\n",
      "Mean Absolute Error: 784.0887770417644\n",
      "Mean Absolute Error: 818.0106920439181\n",
      "Mean Absolute Error: 845.342114869259\n"
     ]
    },
    {
     "name": "stderr",
     "output_type": "stream",
     "text": [
      "[I 2023-10-25 14:29:25,466] Trial 9 finished with value: 827.0554635723655 and parameters: {'lambda': 0.02408798505726013, 'alpha': 0.012170297691098774, 'colsample_bytree': 0.9, 'subsample': 0.8, 'learning_rate': 0.0019454286152606997, 'n_estimators': 999, 'max_depth': 7, 'random_state': 238, 'min_child_weight': 20}. Best is trial 2 with value: 222.50359085902357.\n"
     ]
    },
    {
     "name": "stdout",
     "output_type": "stream",
     "text": [
      "Mean Absolute Error: 817.8135838039194\n",
      "Mean Absolute Error: 294.96064653549405\n",
      "Mean Absolute Error: 276.0653859915134\n"
     ]
    },
    {
     "name": "stderr",
     "output_type": "stream",
     "text": [
      "[I 2023-10-25 14:29:25,746] Trial 10 finished with value: 277.88841064126296 and parameters: {'lambda': 9.849812681929187, 'alpha': 0.4948578493617611, 'colsample_bytree': 0.4, 'subsample': 0.4, 'learning_rate': 0.8590810497305073, 'n_estimators': 997, 'max_depth': 15, 'random_state': 1000, 'min_child_weight': 100}. Best is trial 2 with value: 222.50359085902357.\n"
     ]
    },
    {
     "name": "stdout",
     "output_type": "stream",
     "text": [
      "Mean Absolute Error: 262.63919939678146\n",
      "Mean Absolute Error: 451.3866313470834\n",
      "Mean Absolute Error: 386.50605421821376\n"
     ]
    },
    {
     "name": "stderr",
     "output_type": "stream",
     "text": [
      "[I 2023-10-25 14:29:26,044] Trial 11 finished with value: 404.81430942325363 and parameters: {'lambda': 9.09882224417583, 'alpha': 0.41978095530607384, 'colsample_bytree': 0.4, 'subsample': 0.4, 'learning_rate': 0.9345894297400689, 'n_estimators': 982, 'max_depth': 15, 'random_state': 365, 'min_child_weight': 97}. Best is trial 2 with value: 222.50359085902357.\n"
     ]
    },
    {
     "name": "stdout",
     "output_type": "stream",
     "text": [
      "Mean Absolute Error: 376.55024270446376\n",
      "Mean Absolute Error: 281.1845173864076\n",
      "Mean Absolute Error: 253.66333671039604\n"
     ]
    },
    {
     "name": "stderr",
     "output_type": "stream",
     "text": [
      "[I 2023-10-25 14:29:26,296] Trial 12 finished with value: 258.23645241513196 and parameters: {'lambda': 7.409885380071803, 'alpha': 0.4107715224789796, 'colsample_bytree': 0.4, 'subsample': 0.4, 'learning_rate': 0.7955799903600035, 'n_estimators': 846, 'max_depth': 9, 'random_state': 992, 'min_child_weight': 90}. Best is trial 2 with value: 222.50359085902357.\n"
     ]
    },
    {
     "name": "stdout",
     "output_type": "stream",
     "text": [
      "Mean Absolute Error: 239.86150314859222\n",
      "Mean Absolute Error: 246.6179243615238\n",
      "Mean Absolute Error: 237.06366441224583\n"
     ]
    },
    {
     "name": "stderr",
     "output_type": "stream",
     "text": [
      "[I 2023-10-25 14:29:26,580] Trial 13 finished with value: 237.48731120915252 and parameters: {'lambda': 2.431904369503461, 'alpha': 0.2061026768973897, 'colsample_bytree': 1.0, 'subsample': 0.4, 'learning_rate': 0.2536446349967583, 'n_estimators': 793, 'max_depth': 9, 'random_state': 401, 'min_child_weight': 67}. Best is trial 2 with value: 222.50359085902357.\n"
     ]
    },
    {
     "name": "stdout",
     "output_type": "stream",
     "text": [
      "Mean Absolute Error: 228.78034485368804\n",
      "Mean Absolute Error: 292.35481218062205\n",
      "Mean Absolute Error: 272.8328311311256\n"
     ]
    },
    {
     "name": "stderr",
     "output_type": "stream",
     "text": [
      "[I 2023-10-25 14:29:29,704] Trial 14 finished with value: 277.16094695445713 and parameters: {'lambda': 1.9873912718991136, 'alpha': 0.1411664534224943, 'colsample_bytree': 1.0, 'subsample': 0.8, 'learning_rate': 0.2026825866422902, 'n_estimators': 506, 'max_depth': 17, 'random_state': 388, 'min_child_weight': 1}. Best is trial 2 with value: 222.50359085902357.\n"
     ]
    },
    {
     "name": "stdout",
     "output_type": "stream",
     "text": [
      "Mean Absolute Error: 266.29519755162374\n",
      "Mean Absolute Error: 253.93855060657236\n"
     ]
    },
    {
     "name": "stderr",
     "output_type": "stream",
     "text": [
      "[I 2023-10-25 14:29:30,039] Trial 15 finished with value: 244.0062908018061 and parameters: {'lambda': 2.0711720253282158, 'alpha': 0.004007922938567549, 'colsample_bytree': 1.0, 'subsample': 0.6, 'learning_rate': 0.22996680388942592, 'n_estimators': 598, 'max_depth': 9, 'random_state': 379, 'min_child_weight': 65}. Best is trial 2 with value: 222.50359085902357.\n"
     ]
    },
    {
     "name": "stdout",
     "output_type": "stream",
     "text": [
      "Mean Absolute Error: 241.0021292872726\n",
      "Mean Absolute Error: 237.07819251157326\n",
      "Mean Absolute Error: 242.28057984934173\n",
      "Mean Absolute Error: 228.55071571159385\n"
     ]
    },
    {
     "name": "stderr",
     "output_type": "stream",
     "text": [
      "[I 2023-10-25 14:29:30,357] Trial 16 finished with value: 229.99744863554008 and parameters: {'lambda': 0.10793631668679798, 'alpha': 0.004237117668864667, 'colsample_bytree': 1.0, 'subsample': 0.4, 'learning_rate': 0.26970287379263025, 'n_estimators': 377, 'max_depth': 9, 'random_state': 8, 'min_child_weight': 58}. Best is trial 2 with value: 222.50359085902357.\n"
     ]
    },
    {
     "name": "stdout",
     "output_type": "stream",
     "text": [
      "Mean Absolute Error: 219.16105034568466\n",
      "Mean Absolute Error: 622.7541402927048\n",
      "Mean Absolute Error: 640.7635590464657\n"
     ]
    },
    {
     "name": "stderr",
     "output_type": "stream",
     "text": [
      "[I 2023-10-25 14:29:30,613] Trial 17 finished with value: 627.3004835049686 and parameters: {'lambda': 0.09971420027284204, 'alpha': 0.0036920608126898785, 'colsample_bytree': 0.8, 'subsample': 0.5, 'learning_rate': 0.03524714496986264, 'n_estimators': 352, 'max_depth': 7, 'random_state': 36, 'min_child_weight': 140}. Best is trial 2 with value: 222.50359085902357.\n"
     ]
    },
    {
     "name": "stdout",
     "output_type": "stream",
     "text": [
      "Mean Absolute Error: 618.3837511757353\n",
      "Mean Absolute Error: 240.68783175228688\n",
      "Mean Absolute Error: 228.00516121980237\n"
     ]
    },
    {
     "name": "stderr",
     "output_type": "stream",
     "text": [
      "[I 2023-10-25 14:29:30,880] Trial 18 finished with value: 229.14533530929904 and parameters: {'lambda': 0.10325679007546912, 'alpha': 0.0058270856075688, 'colsample_bytree': 0.7, 'subsample': 0.4, 'learning_rate': 0.2875234066579861, 'n_estimators': 369, 'max_depth': 11, 'random_state': 3, 'min_child_weight': 145}. Best is trial 2 with value: 222.50359085902357.\n"
     ]
    },
    {
     "name": "stdout",
     "output_type": "stream",
     "text": [
      "Mean Absolute Error: 218.7430129558078\n",
      "Mean Absolute Error: 446.4726553688921\n",
      "Mean Absolute Error: 453.12663168733906\n"
     ]
    },
    {
     "name": "stderr",
     "output_type": "stream",
     "text": [
      "[I 2023-10-25 14:29:31,147] Trial 19 finished with value: 445.35661444356293 and parameters: {'lambda': 0.08260046485073395, 'alpha': 0.017149189556794547, 'colsample_bytree': 0.7, 'subsample': 0.5, 'learning_rate': 0.08438671080583712, 'n_estimators': 474, 'max_depth': 11, 'random_state': 272, 'min_child_weight': 140}. Best is trial 2 with value: 222.50359085902357.\n"
     ]
    },
    {
     "name": "stdout",
     "output_type": "stream",
     "text": [
      "Mean Absolute Error: 436.47055627445786\n",
      "Mean Absolute Error: 241.09347501692585\n",
      "Mean Absolute Error: 215.14940822992264\n"
     ]
    },
    {
     "name": "stderr",
     "output_type": "stream",
     "text": [
      "[I 2023-10-25 14:29:31,432] Trial 20 finished with value: 221.4217123679649 and parameters: {'lambda': 0.0011852718723673389, 'alpha': 0.008409432859347246, 'colsample_bytree': 0.7, 'subsample': 0.8, 'learning_rate': 0.4428490389016888, 'n_estimators': 206, 'max_depth': 11, 'random_state': 106, 'min_child_weight': 189}. Best is trial 20 with value: 221.4217123679649.\n"
     ]
    },
    {
     "name": "stdout",
     "output_type": "stream",
     "text": [
      "Mean Absolute Error: 208.0222538570462\n",
      "Mean Absolute Error: 230.3340493083494\n",
      "Mean Absolute Error: 209.55318827731062\n"
     ]
    },
    {
     "name": "stderr",
     "output_type": "stream",
     "text": [
      "[I 2023-10-25 14:29:31,710] Trial 21 finished with value: 214.51265322062883 and parameters: {'lambda': 0.0018054491771128797, 'alpha': 0.009802977547192615, 'colsample_bytree': 0.7, 'subsample': 0.8, 'learning_rate': 0.40698773427323104, 'n_estimators': 230, 'max_depth': 11, 'random_state': 120, 'min_child_weight': 198}. Best is trial 21 with value: 214.51265322062883.\n"
     ]
    },
    {
     "name": "stdout",
     "output_type": "stream",
     "text": [
      "Mean Absolute Error: 203.65072207622646\n",
      "Mean Absolute Error: 250.17830827956877\n",
      "Mean Absolute Error: 225.46920664104803\n"
     ]
    },
    {
     "name": "stderr",
     "output_type": "stream",
     "text": [
      "[I 2023-10-25 14:29:31,995] Trial 22 finished with value: 230.03706703941353 and parameters: {'lambda': 0.0011036365883506693, 'alpha': 0.03730409498725763, 'colsample_bytree': 0.7, 'subsample': 0.8, 'learning_rate': 0.6885753668909826, 'n_estimators': 177, 'max_depth': 11, 'random_state': 118, 'min_child_weight': 209}. Best is trial 21 with value: 214.51265322062883.\n"
     ]
    },
    {
     "name": "stdout",
     "output_type": "stream",
     "text": [
      "Mean Absolute Error: 214.46368619762387\n",
      "Mean Absolute Error: 240.84420197025213\n",
      "Mean Absolute Error: 218.14397900310237\n"
     ]
    },
    {
     "name": "stderr",
     "output_type": "stream",
     "text": [
      "[I 2023-10-25 14:29:32,300] Trial 23 finished with value: 222.6643646229929 and parameters: {'lambda': 0.0013253349335843102, 'alpha': 0.010713063400220648, 'colsample_bytree': 0.7, 'subsample': 0.8, 'learning_rate': 0.41668077585052743, 'n_estimators': 205, 'max_depth': 11, 'random_state': 287, 'min_child_weight': 246}. Best is trial 21 with value: 214.51265322062883.\n"
     ]
    },
    {
     "name": "stdout",
     "output_type": "stream",
     "text": [
      "Mean Absolute Error: 209.00491289562422\n",
      "Mean Absolute Error: 430.26832781513036\n",
      "Mean Absolute Error: 420.9171425897028\n"
     ]
    },
    {
     "name": "stderr",
     "output_type": "stream",
     "text": [
      "[I 2023-10-25 14:29:32,583] Trial 24 finished with value: 418.78991619142806 and parameters: {'lambda': 0.001146598535244713, 'alpha': 0.0019551352732558886, 'colsample_bytree': 0.3, 'subsample': 0.8, 'learning_rate': 0.10377924316631243, 'n_estimators': 279, 'max_depth': 17, 'random_state': 97, 'min_child_weight': 187}. Best is trial 21 with value: 214.51265322062883.\n"
     ]
    },
    {
     "name": "stdout",
     "output_type": "stream",
     "text": [
      "Mean Absolute Error: 405.18427816945103\n",
      "Mean Absolute Error: 237.2949058504884\n"
     ]
    },
    {
     "name": "stderr",
     "output_type": "stream",
     "text": [
      "[I 2023-10-25 14:29:32,905] Trial 25 finished with value: 221.01114702100824 and parameters: {'lambda': 0.002938866074000336, 'alpha': 0.009260735653593134, 'colsample_bytree': 0.9, 'subsample': 0.8, 'learning_rate': 0.4894318065703767, 'n_estimators': 659, 'max_depth': 13, 'random_state': 520, 'min_child_weight': 174}. Best is trial 21 with value: 214.51265322062883.\n"
     ]
    },
    {
     "name": "stdout",
     "output_type": "stream",
     "text": [
      "Mean Absolute Error: 214.68369121527786\n",
      "Mean Absolute Error: 211.05484399725842\n"
     ]
    },
    {
     "name": "stderr",
     "output_type": "stream",
     "text": [
      "[I 2023-10-25 14:29:33,185] Trial 26 finished with value: 304.746621099152 and parameters: {'lambda': 0.002353562383132959, 'alpha': 0.0023678623439489384, 'colsample_bytree': 0.9, 'subsample': 0.8, 'learning_rate': 0.16027976994204013, 'n_estimators': 627, 'max_depth': 11, 'random_state': 484, 'min_child_weight': 228}. Best is trial 21 with value: 214.51265322062883.\n"
     ]
    },
    {
     "name": "stdout",
     "output_type": "stream",
     "text": [
      "Mean Absolute Error: 313.6785479377534\n",
      "Mean Absolute Error: 304.8821702302481\n",
      "Mean Absolute Error: 295.67914512945435\n",
      "Mean Absolute Error: 241.56677079543675\n",
      "Mean Absolute Error: 215.9312437050948\n"
     ]
    },
    {
     "name": "stderr",
     "output_type": "stream",
     "text": [
      "[I 2023-10-25 14:29:33,502] Trial 27 finished with value: 220.99549401208972 and parameters: {'lambda': 0.007936681821406189, 'alpha': 0.013650468389182711, 'colsample_bytree': 0.9, 'subsample': 0.8, 'learning_rate': 0.4998238484031189, 'n_estimators': 465, 'max_depth': 11, 'random_state': 495, 'min_child_weight': 173}. Best is trial 21 with value: 214.51265322062883.\n"
     ]
    },
    {
     "name": "stdout",
     "output_type": "stream",
     "text": [
      "Mean Absolute Error: 205.48846753573764\n",
      "Mean Absolute Error: 245.5738270616584\n",
      "Mean Absolute Error: 214.88236372052606\n"
     ]
    },
    {
     "name": "stderr",
     "output_type": "stream",
     "text": [
      "[I 2023-10-25 14:29:33,803] Trial 28 finished with value: 225.0174783546498 and parameters: {'lambda': 0.008425158800799375, 'alpha': 0.018223701851052748, 'colsample_bytree': 0.9, 'subsample': 0.8, 'learning_rate': 0.5813042991781041, 'n_estimators': 469, 'max_depth': 13, 'random_state': 773, 'min_child_weight': 173}. Best is trial 21 with value: 214.51265322062883.\n"
     ]
    },
    {
     "name": "stdout",
     "output_type": "stream",
     "text": [
      "Mean Absolute Error: 214.5962442817649\n",
      "Mean Absolute Error: 289.9874325969193\n",
      "Mean Absolute Error: 245.11729889429927\n"
     ]
    },
    {
     "name": "stderr",
     "output_type": "stream",
     "text": [
      "[I 2023-10-25 14:29:34,091] Trial 29 finished with value: 255.3100203262802 and parameters: {'lambda': 0.006575995270273074, 'alpha': 0.046923370912793146, 'colsample_bytree': 0.9, 'subsample': 0.7, 'learning_rate': 0.9536714111623473, 'n_estimators': 692, 'max_depth': 13, 'random_state': 687, 'min_child_weight': 268}. Best is trial 21 with value: 214.51265322062883.\n"
     ]
    },
    {
     "name": "stdout",
     "output_type": "stream",
     "text": [
      "Mean Absolute Error: 230.82532948762207\n",
      "Mean Absolute Error: 236.95053502573646\n",
      "Mean Absolute Error: 214.13256341016063\n"
     ]
    },
    {
     "name": "stderr",
     "output_type": "stream",
     "text": [
      "[I 2023-10-25 14:29:34,394] Trial 30 finished with value: 219.35115486272923 and parameters: {'lambda': 0.002609898527426337, 'alpha': 0.001306063117674723, 'colsample_bytree': 0.9, 'subsample': 0.8, 'learning_rate': 0.4557936472370895, 'n_estimators': 544, 'max_depth': 11, 'random_state': 497, 'min_child_weight': 164}. Best is trial 21 with value: 214.51265322062883.\n"
     ]
    },
    {
     "name": "stdout",
     "output_type": "stream",
     "text": [
      "Mean Absolute Error: 206.97036615229058\n",
      "Mean Absolute Error: 230.7956442693359\n",
      "Mean Absolute Error: 212.4578757789447\n"
     ]
    },
    {
     "name": "stderr",
     "output_type": "stream",
     "text": [
      "[I 2023-10-25 14:29:34,697] Trial 31 finished with value: 216.88962178093774 and parameters: {'lambda': 0.002386203292116767, 'alpha': 0.0010280797647750557, 'colsample_bytree': 0.9, 'subsample': 0.8, 'learning_rate': 0.4545916444087229, 'n_estimators': 559, 'max_depth': 11, 'random_state': 501, 'min_child_weight': 162}. Best is trial 21 with value: 214.51265322062883.\n"
     ]
    },
    {
     "name": "stdout",
     "output_type": "stream",
     "text": [
      "Mean Absolute Error: 207.4153452945326\n",
      "Mean Absolute Error: 322.9509194116281\n",
      "Mean Absolute Error: 318.7548682348724\n"
     ]
    },
    {
     "name": "stderr",
     "output_type": "stream",
     "text": [
      "[I 2023-10-25 14:29:35,001] Trial 32 finished with value: 316.49583093240557 and parameters: {'lambda': 0.00264247434610896, 'alpha': 0.0010799257662426455, 'colsample_bytree': 0.9, 'subsample': 0.8, 'learning_rate': 0.1469362476155198, 'n_estimators': 546, 'max_depth': 11, 'random_state': 488, 'min_child_weight': 157}. Best is trial 21 with value: 214.51265322062883.\n"
     ]
    },
    {
     "name": "stdout",
     "output_type": "stream",
     "text": [
      "Mean Absolute Error: 307.78170515071605\n",
      "Mean Absolute Error: 245.00087297060838\n",
      "Mean Absolute Error: 211.43202250626828\n"
     ]
    },
    {
     "name": "stderr",
     "output_type": "stream",
     "text": [
      "[I 2023-10-25 14:29:35,306] Trial 33 finished with value: 221.19420195506837 and parameters: {'lambda': 0.001974274161842571, 'alpha': 0.0017689805157339203, 'colsample_bytree': 0.9, 'subsample': 1.0, 'learning_rate': 0.48672248667924184, 'n_estimators': 449, 'max_depth': 11, 'random_state': 547, 'min_child_weight': 202}. Best is trial 21 with value: 214.51265322062883.\n"
     ]
    },
    {
     "name": "stdout",
     "output_type": "stream",
     "text": [
      "Mean Absolute Error: 207.14971038832846\n",
      "Mean Absolute Error: 229.21868900428305\n",
      "Mean Absolute Error: 214.87332410409394\n"
     ]
    },
    {
     "name": "stderr",
     "output_type": "stream",
     "text": [
      "[I 2023-10-25 14:29:35,606] Trial 34 finished with value: 217.45552176878883 and parameters: {'lambda': 0.0050964100910565165, 'alpha': 0.0010789433353804957, 'colsample_bytree': 0.5, 'subsample': 0.8, 'learning_rate': 0.3452359680826073, 'n_estimators': 64, 'max_depth': 11, 'random_state': 641, 'min_child_weight': 116}. Best is trial 21 with value: 214.51265322062883.\n"
     ]
    },
    {
     "name": "stdout",
     "output_type": "stream",
     "text": [
      "Mean Absolute Error: 208.27455219798958\n",
      "Mean Absolute Error: 313.7144749026372\n",
      "Mean Absolute Error: 308.4781457663706\n"
     ]
    },
    {
     "name": "stderr",
     "output_type": "stream",
     "text": [
      "[I 2023-10-25 14:29:35,894] Trial 35 finished with value: 306.48524129646654 and parameters: {'lambda': 0.0018034945346095375, 'alpha': 0.0010469574251737465, 'colsample_bytree': 0.5, 'subsample': 0.7, 'learning_rate': 0.15612966517757176, 'n_estimators': 73, 'max_depth': 11, 'random_state': 750, 'min_child_weight': 125}. Best is trial 21 with value: 214.51265322062883.\n"
     ]
    },
    {
     "name": "stdout",
     "output_type": "stream",
     "text": [
      "Mean Absolute Error: 297.2631032203918\n",
      "Mean Absolute Error: 606.5338144210342\n",
      "Mean Absolute Error: 622.5607224016265\n"
     ]
    },
    {
     "name": "stderr",
     "output_type": "stream",
     "text": [
      "[I 2023-10-25 14:29:36,181] Trial 36 finished with value: 609.9356321623537 and parameters: {'lambda': 0.005325189901835189, 'alpha': 0.0024493764733115957, 'colsample_bytree': 0.5, 'subsample': 0.8, 'learning_rate': 0.03870624561318113, 'n_estimators': 19, 'max_depth': 11, 'random_state': 682, 'min_child_weight': 159}. Best is trial 21 with value: 214.51265322062883.\n"
     ]
    },
    {
     "name": "stdout",
     "output_type": "stream",
     "text": [
      "Mean Absolute Error: 600.7123596644005\n",
      "Mean Absolute Error: 241.4720199124024\n",
      "Mean Absolute Error: 213.86570865819195\n"
     ]
    },
    {
     "name": "stderr",
     "output_type": "stream",
     "text": [
      "[I 2023-10-25 14:29:36,463] Trial 37 finished with value: 222.28325330261086 and parameters: {'lambda': 0.004050473880536419, 'alpha': 0.0015893092017503576, 'colsample_bytree': 0.5, 'subsample': 0.6, 'learning_rate': 0.35838235429901083, 'n_estimators': 106, 'max_depth': 11, 'random_state': 862, 'min_child_weight': 131}. Best is trial 21 with value: 214.51265322062883.\n"
     ]
    },
    {
     "name": "stdout",
     "output_type": "stream",
     "text": [
      "Mean Absolute Error: 211.51203133723823\n",
      "Mean Absolute Error: 376.30296264122836\n",
      "Mean Absolute Error: 377.2710529292262\n"
     ]
    },
    {
     "name": "stderr",
     "output_type": "stream",
     "text": [
      "[I 2023-10-25 14:29:36,755] Trial 38 finished with value: 372.60097360418195 and parameters: {'lambda': 0.0018527443447522351, 'alpha': 0.003015060162333493, 'colsample_bytree': 0.5, 'subsample': 0.8, 'learning_rate': 0.1128042694589207, 'n_estimators': 117, 'max_depth': 17, 'random_state': 592, 'min_child_weight': 116}. Best is trial 21 with value: 214.51265322062883.\n"
     ]
    },
    {
     "name": "stdout",
     "output_type": "stream",
     "text": [
      "Mean Absolute Error: 364.2289052420914\n",
      "Mean Absolute Error: 234.00147584218473\n",
      "Mean Absolute Error: 214.424280085035\n"
     ]
    },
    {
     "name": "stderr",
     "output_type": "stream",
     "text": [
      "[I 2023-10-25 14:29:37,009] Trial 39 finished with value: 221.09600532126515 and parameters: {'lambda': 0.004491564545890599, 'alpha': 0.001005128571357546, 'colsample_bytree': 0.8, 'subsample': 1.0, 'learning_rate': 0.3374685950794362, 'n_estimators': 268, 'max_depth': 5, 'random_state': 440, 'min_child_weight': 207}. Best is trial 21 with value: 214.51265322062883.\n"
     ]
    },
    {
     "name": "stdout",
     "output_type": "stream",
     "text": [
      "Mean Absolute Error: 214.86226003657575\n",
      "Mean Absolute Error: 516.8410880728034\n",
      "Mean Absolute Error: 530.152348494113\n"
     ]
    },
    {
     "name": "stderr",
     "output_type": "stream",
     "text": [
      "[I 2023-10-25 14:29:37,299] Trial 40 finished with value: 519.2231675757871 and parameters: {'lambda': 0.011457192227519092, 'alpha': 0.0016451777754825899, 'colsample_bytree': 0.6, 'subsample': 0.8, 'learning_rate': 0.059548781221922274, 'n_estimators': 557, 'max_depth': 7, 'random_state': 878, 'min_child_weight': 81}. Best is trial 21 with value: 214.51265322062883.\n"
     ]
    },
    {
     "name": "stdout",
     "output_type": "stream",
     "text": [
      "Mean Absolute Error: 510.676066160445\n",
      "Mean Absolute Error: 239.95661345944478\n",
      "Mean Absolute Error: 219.28666376563783\n"
     ]
    },
    {
     "name": "stderr",
     "output_type": "stream",
     "text": [
      "[I 2023-10-25 14:29:37,602] Trial 41 finished with value: 223.67487664348667 and parameters: {'lambda': 0.003311227883208679, 'alpha': 0.005221681148590367, 'colsample_bytree': 0.9, 'subsample': 0.8, 'learning_rate': 0.5798886759052103, 'n_estimators': 422, 'max_depth': 11, 'random_state': 661, 'min_child_weight': 159}. Best is trial 21 with value: 214.51265322062883.\n"
     ]
    },
    {
     "name": "stdout",
     "output_type": "stream",
     "text": [
      "Mean Absolute Error: 211.7813527053775\n",
      "Mean Absolute Error: 289.15980355731665\n",
      "Mean Absolute Error: 283.88407924324054\n"
     ]
    },
    {
     "name": "stderr",
     "output_type": "stream",
     "text": [
      "[I 2023-10-25 14:29:37,902] Trial 42 finished with value: 282.4993513394904 and parameters: {'lambda': 0.010765046010961723, 'alpha': 0.0034187060927971915, 'colsample_bytree': 0.9, 'subsample': 0.8, 'learning_rate': 0.1765110399772663, 'n_estimators': 536, 'max_depth': 11, 'random_state': 553, 'min_child_weight': 164}. Best is trial 21 with value: 214.51265322062883.\n"
     ]
    },
    {
     "name": "stdout",
     "output_type": "stream",
     "text": [
      "Mean Absolute Error: 274.4541712179139\n",
      "Mean Absolute Error: 241.232860519532\n",
      "Mean Absolute Error: 219.32663563208553\n"
     ]
    },
    {
     "name": "stderr",
     "output_type": "stream",
     "text": [
      "[I 2023-10-25 14:29:38,180] Trial 43 finished with value: 224.7062595923952 and parameters: {'lambda': 0.00477305907975195, 'alpha': 0.002500742076455697, 'colsample_bytree': 0.3, 'subsample': 0.8, 'learning_rate': 0.366329299695847, 'n_estimators': 707, 'max_depth': 11, 'random_state': 311, 'min_child_weight': 233}. Best is trial 21 with value: 214.51265322062883.\n"
     ]
    },
    {
     "name": "stdout",
     "output_type": "stream",
     "text": [
      "Mean Absolute Error: 213.55928262556816\n",
      "Mean Absolute Error: 244.8205781957503\n",
      "Mean Absolute Error: 223.54051014718766\n"
     ]
    },
    {
     "name": "stderr",
     "output_type": "stream",
     "text": [
      "[I 2023-10-25 14:29:38,486] Trial 44 finished with value: 227.6169855962978 and parameters: {'lambda': 0.0024580414998622295, 'alpha': 0.005531807388137905, 'colsample_bytree': 0.9, 'subsample': 0.8, 'learning_rate': 0.6686089435845238, 'n_estimators': 327, 'max_depth': 15, 'random_state': 615, 'min_child_weight': 198}. Best is trial 21 with value: 214.51265322062883.\n"
     ]
    },
    {
     "name": "stdout",
     "output_type": "stream",
     "text": [
      "Mean Absolute Error: 214.48986844595544\n",
      "Mean Absolute Error: 301.95258131908696\n",
      "Mean Absolute Error: 256.2550270174833\n"
     ]
    },
    {
     "name": "stderr",
     "output_type": "stream",
     "text": [
      "[I 2023-10-25 14:29:38,781] Trial 45 finished with value: 264.306550901817 and parameters: {'lambda': 0.014503659150478397, 'alpha': 0.0015493229445491643, 'colsample_bytree': 0.6, 'subsample': 0.7, 'learning_rate': 0.9452491875228617, 'n_estimators': 402, 'max_depth': 11, 'random_state': 453, 'min_child_weight': 108}. Best is trial 21 with value: 214.51265322062883.\n"
     ]
    },
    {
     "name": "stdout",
     "output_type": "stream",
     "text": [
      "Mean Absolute Error: 234.71204436888067\n",
      "Mean Absolute Error: 259.1091708367271\n",
      "Mean Absolute Error: 247.1393472661973\n"
     ]
    },
    {
     "name": "stderr",
     "output_type": "stream",
     "text": [
      "[I 2023-10-25 14:29:39,067] Trial 46 finished with value: 248.04484964673145 and parameters: {'lambda': 0.005294500964104863, 'alpha': 0.0026984712530762098, 'colsample_bytree': 0.9, 'subsample': 0.8, 'learning_rate': 0.2351248260958229, 'n_estimators': 227, 'max_depth': 11, 'random_state': 725, 'min_child_weight': 220}. Best is trial 21 with value: 214.51265322062883.\n"
     ]
    },
    {
     "name": "stdout",
     "output_type": "stream",
     "text": [
      "Mean Absolute Error: 237.88603083726994\n",
      "Mean Absolute Error: 255.1779897034555\n",
      "Mean Absolute Error: 234.6739154975769\n"
     ]
    },
    {
     "name": "stderr",
     "output_type": "stream",
     "text": [
      "[I 2023-10-25 14:29:39,307] Trial 47 finished with value: 237.9068369875076 and parameters: {'lambda': 0.0017563746169639437, 'alpha': 0.01268992323935691, 'colsample_bytree': 0.5, 'subsample': 0.6, 'learning_rate': 0.57795979061521, 'n_estimators': 591, 'max_depth': 5, 'random_state': 828, 'min_child_weight': 127}. Best is trial 21 with value: 214.51265322062883.\n"
     ]
    },
    {
     "name": "stdout",
     "output_type": "stream",
     "text": [
      "Mean Absolute Error: 223.8686057614904\n",
      "Mean Absolute Error: 237.6711599827769\n",
      "Mean Absolute Error: 222.63698144678665\n"
     ]
    },
    {
     "name": "stderr",
     "output_type": "stream",
     "text": [
      "[I 2023-10-25 14:29:39,596] Trial 48 finished with value: 226.2814317761703 and parameters: {'lambda': 0.0035410414324170765, 'alpha': 0.0062953575517739465, 'colsample_bytree': 0.4, 'subsample': 0.8, 'learning_rate': 0.2978058950933029, 'n_estimators': 118, 'max_depth': 15, 'random_state': 328, 'min_child_weight': 170}. Best is trial 21 with value: 214.51265322062883.\n"
     ]
    },
    {
     "name": "stdout",
     "output_type": "stream",
     "text": [
      "Mean Absolute Error: 218.53615389894745\n",
      "Mean Absolute Error: 345.59894322222294\n",
      "Mean Absolute Error: 343.8798726052991\n"
     ]
    },
    {
     "name": "stderr",
     "output_type": "stream",
     "text": [
      "[I 2023-10-25 14:29:40,606] Trial 49 finished with value: 339.81954631782156 and parameters: {'lambda': 0.006988190976671998, 'alpha': 0.0013829548312158711, 'colsample_bytree': 0.9, 'subsample': 1.0, 'learning_rate': 0.12542475044242193, 'n_estimators': 73, 'max_depth': 11, 'random_state': 435, 'min_child_weight': 39}. Best is trial 21 with value: 214.51265322062883.\n"
     ]
    },
    {
     "name": "stdout",
     "output_type": "stream",
     "text": [
      "Mean Absolute Error: 329.9798231259426\n",
      "Mean Absolute Error: 324.31534182401725\n",
      "Mean Absolute Error: 286.7659771063076\n"
     ]
    },
    {
     "name": "stderr",
     "output_type": "stream",
     "text": [
      "[I 2023-10-25 14:29:40,886] Trial 50 finished with value: 296.08248449121385 and parameters: {'lambda': 0.0014801775788889915, 'alpha': 0.025740885688775014, 'colsample_bytree': 0.3, 'subsample': 0.8, 'learning_rate': 0.2094719292785296, 'n_estimators': 896, 'max_depth': 7, 'random_state': 568, 'min_child_weight': 276}. Best is trial 21 with value: 214.51265322062883.\n"
     ]
    },
    {
     "name": "stdout",
     "output_type": "stream",
     "text": [
      "Mean Absolute Error: 277.1661345433168\n",
      "Mean Absolute Error: 227.52641577020142\n"
     ]
    },
    {
     "name": "stderr",
     "output_type": "stream",
     "text": [
      "[I 2023-10-25 14:29:41,233] Trial 51 finished with value: 214.78625105767708 and parameters: {'lambda': 0.0026659390769979627, 'alpha': 0.008081595237121094, 'colsample_bytree': 0.9, 'subsample': 0.8, 'learning_rate': 0.4410552490899804, 'n_estimators': 629, 'max_depth': 13, 'random_state': 524, 'min_child_weight': 178}. Best is trial 21 with value: 214.51265322062883.\n"
     ]
    },
    {
     "name": "stdout",
     "output_type": "stream",
     "text": [
      "Mean Absolute Error: 211.03852240428245\n",
      "Mean Absolute Error: 205.79381499854733\n",
      "Mean Absolute Error: 230.61764077610914\n",
      "Mean Absolute Error: 210.21261568403733\n"
     ]
    },
    {
     "name": "stderr",
     "output_type": "stream",
     "text": [
      "[I 2023-10-25 14:29:41,579] Trial 52 finished with value: 216.1870178308052 and parameters: {'lambda': 0.0031195132602306417, 'alpha': 0.004312979493054201, 'colsample_bytree': 0.9, 'subsample': 0.8, 'learning_rate': 0.41738218628723, 'n_estimators': 521, 'max_depth': 13, 'random_state': 644, 'min_child_weight': 150}. Best is trial 21 with value: 214.51265322062883.\n"
     ]
    },
    {
     "name": "stdout",
     "output_type": "stream",
     "text": [
      "Mean Absolute Error: 207.73079703226912\n",
      "Mean Absolute Error: 227.9314577462995\n"
     ]
    },
    {
     "name": "stderr",
     "output_type": "stream",
     "text": [
      "[I 2023-10-25 14:29:41,913] Trial 53 finished with value: 215.68087301387837 and parameters: {'lambda': 0.0025507328120519908, 'alpha': 0.004397217208348416, 'colsample_bytree': 0.9, 'subsample': 0.8, 'learning_rate': 0.33274205259549566, 'n_estimators': 576, 'max_depth': 13, 'random_state': 641, 'min_child_weight': 147}. Best is trial 21 with value: 214.51265322062883.\n"
     ]
    },
    {
     "name": "stdout",
     "output_type": "stream",
     "text": [
      "Mean Absolute Error: 209.49408176121455\n",
      "Mean Absolute Error: 209.61707953412116\n"
     ]
    },
    {
     "name": "stderr",
     "output_type": "stream",
     "text": [
      "[I 2023-10-25 14:29:42,214] Trial 54 finished with value: 241.75904457625487 and parameters: {'lambda': 0.0010203213306107589, 'alpha': 0.004346848623356989, 'colsample_bytree': 0.7, 'subsample': 0.5, 'learning_rate': 0.2501396239744403, 'n_estimators': 630, 'max_depth': 13, 'random_state': 637, 'min_child_weight': 146}. Best is trial 21 with value: 214.51265322062883.\n"
     ]
    },
    {
     "name": "stdout",
     "output_type": "stream",
     "text": [
      "Mean Absolute Error: 251.7319610614957\n",
      "Mean Absolute Error: 239.30758622448604\n",
      "Mean Absolute Error: 234.2375864427829\n",
      "Mean Absolute Error: 259.06672866452357\n",
      "Mean Absolute Error: 226.90792536813868\n"
     ]
    },
    {
     "name": "stderr",
     "output_type": "stream",
     "text": [
      "[I 2023-10-25 14:29:42,543] Trial 55 finished with value: 236.77649962787018 and parameters: {'lambda': 0.003366114288317097, 'alpha': 0.008749259796387139, 'colsample_bytree': 0.8, 'subsample': 0.8, 'learning_rate': 0.7451264242174119, 'n_estimators': 509, 'max_depth': 13, 'random_state': 723, 'min_child_weight': 136}. Best is trial 21 with value: 214.51265322062883.\n"
     ]
    },
    {
     "name": "stdout",
     "output_type": "stream",
     "text": [
      "Mean Absolute Error: 224.35484485094838\n",
      "Mean Absolute Error: 236.4826451656833\n"
     ]
    },
    {
     "name": "stderr",
     "output_type": "stream",
     "text": [
      "[I 2023-10-25 14:29:42,872] Trial 56 finished with value: 224.82157697134903 and parameters: {'lambda': 0.0017181027710263675, 'alpha': 0.00785068326991411, 'colsample_bytree': 0.9, 'subsample': 0.8, 'learning_rate': 0.2993418385535262, 'n_estimators': 724, 'max_depth': 13, 'random_state': 636, 'min_child_weight': 191}. Best is trial 21 with value: 214.51265322062883.\n"
     ]
    },
    {
     "name": "stdout",
     "output_type": "stream",
     "text": [
      "Mean Absolute Error: 221.32653646070585\n",
      "Mean Absolute Error: 216.655549287658\n",
      "Mean Absolute Error: 289.1472375770425\n",
      "Mean Absolute Error: 278.7982504150552\n"
     ]
    },
    {
     "name": "stderr",
     "output_type": "stream",
     "text": [
      "[I 2023-10-25 14:29:43,233] Trial 57 finished with value: 278.6118445994284 and parameters: {'lambda': 0.0023261730587711533, 'alpha': 0.003717225895398184, 'colsample_bytree': 0.7, 'subsample': 0.8, 'learning_rate': 0.17701950886756215, 'n_estimators': 586, 'max_depth': 13, 'random_state': 585, 'min_child_weight': 83}. Best is trial 21 with value: 214.51265322062883.\n"
     ]
    },
    {
     "name": "stdout",
     "output_type": "stream",
     "text": [
      "Mean Absolute Error: 267.8900458061876\n",
      "Mean Absolute Error: 294.02761575272456\n"
     ]
    },
    {
     "name": "stderr",
     "output_type": "stream",
     "text": [
      "[I 2023-10-25 14:29:43,570] Trial 58 finished with value: 257.272282593014 and parameters: {'lambda': 0.0013131893927534044, 'alpha': 0.002336898347803499, 'colsample_bytree': 1.0, 'subsample': 0.6, 'learning_rate': 0.9661869947964195, 'n_estimators': 686, 'max_depth': 13, 'random_state': 224, 'min_child_weight': 149}. Best is trial 21 with value: 214.51265322062883.\n"
     ]
    },
    {
     "name": "stdout",
     "output_type": "stream",
     "text": [
      "Mean Absolute Error: 245.71394385411628\n",
      "Mean Absolute Error: 232.07528817220108\n",
      "Mean Absolute Error: 234.84307349305988\n",
      "Mean Absolute Error: 211.97031819025105\n"
     ]
    },
    {
     "name": "stderr",
     "output_type": "stream",
     "text": [
      "[I 2023-10-25 14:29:43,915] Trial 59 finished with value: 219.52224261125335 and parameters: {'lambda': 0.004139208953951651, 'alpha': 0.005112096393178728, 'colsample_bytree': 0.5, 'subsample': 0.8, 'learning_rate': 0.37878366585061024, 'n_estimators': 655, 'max_depth': 13, 'random_state': 521, 'min_child_weight': 109}. Best is trial 21 with value: 214.51265322062883.\n"
     ]
    },
    {
     "name": "stdout",
     "output_type": "stream",
     "text": [
      "Mean Absolute Error: 211.7533361504492\n",
      "Mean Absolute Error: 422.2807960067693\n",
      "Mean Absolute Error: 425.404427233129\n"
     ]
    },
    {
     "name": "stderr",
     "output_type": "stream",
     "text": [
      "[I 2023-10-25 14:29:44,175] Trial 60 finished with value: 419.55177397750896 and parameters: {'lambda': 0.0058089501817592355, 'alpha': 0.006893270437185773, 'colsample_bytree': 0.4, 'subsample': 0.4, 'learning_rate': 0.09723396854405425, 'n_estimators': 499, 'max_depth': 13, 'random_state': 707, 'min_child_weight': 183}. Best is trial 21 with value: 214.51265322062883.\n"
     ]
    },
    {
     "name": "stdout",
     "output_type": "stream",
     "text": [
      "Mean Absolute Error: 410.9700986926286\n",
      "Mean Absolute Error: 229.87997444484446\n",
      "Mean Absolute Error: 208.10241401801997\n"
     ]
    },
    {
     "name": "stderr",
     "output_type": "stream",
     "text": [
      "[I 2023-10-25 14:29:44,479] Trial 61 finished with value: 214.60330191978073 and parameters: {'lambda': 0.0027211613653099647, 'alpha': 0.0013628272927579054, 'colsample_bytree': 0.9, 'subsample': 0.8, 'learning_rate': 0.43098231327234565, 'n_estimators': 563, 'max_depth': 9, 'random_state': 640, 'min_child_weight': 152}. Best is trial 21 with value: 214.51265322062883.\n"
     ]
    },
    {
     "name": "stdout",
     "output_type": "stream",
     "text": [
      "Mean Absolute Error: 205.82751729647774\n",
      "Mean Absolute Error: 256.1701445713827\n",
      "Mean Absolute Error: 223.77407630073245\n"
     ]
    },
    {
     "name": "stderr",
     "output_type": "stream",
     "text": [
      "[I 2023-10-25 14:29:44,795] Trial 62 finished with value: 231.58716862028635 and parameters: {'lambda': 0.0031160893200403153, 'alpha': 0.002088168271888909, 'colsample_bytree': 0.9, 'subsample': 0.8, 'learning_rate': 0.709203008387434, 'n_estimators': 593, 'max_depth': 9, 'random_state': 643, 'min_child_weight': 121}. Best is trial 21 with value: 214.51265322062883.\n"
     ]
    },
    {
     "name": "stdout",
     "output_type": "stream",
     "text": [
      "Mean Absolute Error: 214.81728498874395\n",
      "Mean Absolute Error: 248.90606681386643\n",
      "Mean Absolute Error: 238.51597854568632\n"
     ]
    },
    {
     "name": "stderr",
     "output_type": "stream",
     "text": [
      "[I 2023-10-25 14:29:45,118] Trial 63 finished with value: 238.14567424797744 and parameters: {'lambda': 0.0010078465714319547, 'alpha': 0.003109726173425448, 'colsample_bytree': 0.9, 'subsample': 0.8, 'learning_rate': 0.2449747068339235, 'n_estimators': 745, 'max_depth': 9, 'random_state': 546, 'min_child_weight': 151}. Best is trial 21 with value: 214.51265322062883.\n"
     ]
    },
    {
     "name": "stdout",
     "output_type": "stream",
     "text": [
      "Mean Absolute Error: 227.01497738437953\n",
      "Mean Absolute Error: 230.97777807368885\n"
     ]
    },
    {
     "name": "stderr",
     "output_type": "stream",
     "text": [
      "[I 2023-10-25 14:29:45,445] Trial 64 finished with value: 216.54486092845812 and parameters: {'lambda': 0.002182868681668753, 'alpha': 0.0018843498934556708, 'colsample_bytree': 0.9, 'subsample': 0.8, 'learning_rate': 0.40105895583525014, 'n_estimators': 655, 'max_depth': 9, 'random_state': 610, 'min_child_weight': 134}. Best is trial 21 with value: 214.51265322062883.\n"
     ]
    },
    {
     "name": "stdout",
     "output_type": "stream",
     "text": [
      "Mean Absolute Error: 213.06506440006623\n",
      "Mean Absolute Error: 205.59174031161933\n"
     ]
    },
    {
     "name": "stderr",
     "output_type": "stream",
     "text": [
      "[I 2023-10-25 14:29:45,737] Trial 65 finished with value: 231.5149101275956 and parameters: {'lambda': 0.00139373886877415, 'alpha': 0.003978037258378211, 'colsample_bytree': 0.9, 'subsample': 0.5, 'learning_rate': 0.47316345497226053, 'n_estimators': 794, 'max_depth': 9, 'random_state': 418, 'min_child_weight': 215}. Best is trial 21 with value: 214.51265322062883.\n"
     ]
    },
    {
     "name": "stdout",
     "output_type": "stream",
     "text": [
      "Mean Absolute Error: 255.2343918352848\n",
      "Mean Absolute Error: 227.71653873836775\n",
      "Mean Absolute Error: 211.59379980913434\n",
      "Mean Absolute Error: 256.41654357109553\n",
      "Mean Absolute Error: 218.19834539045274\n"
     ]
    },
    {
     "name": "stderr",
     "output_type": "stream",
     "text": [
      "[I 2023-10-25 14:29:46,100] Trial 66 finished with value: 228.56316433650852 and parameters: {'lambda': 0.0021847336198990873, 'alpha': 0.0019243713079240125, 'colsample_bytree': 0.9, 'subsample': 0.8, 'learning_rate': 0.5840563085211906, 'n_estimators': 665, 'max_depth': 9, 'random_state': 597, 'min_child_weight': 138}. Best is trial 21 with value: 214.51265322062883.\n"
     ]
    },
    {
     "name": "stdout",
     "output_type": "stream",
     "text": [
      "Mean Absolute Error: 211.0746040479773\n",
      "Mean Absolute Error: 283.8295375248097\n"
     ]
    },
    {
     "name": "stderr",
     "output_type": "stream",
     "text": [
      "[I 2023-10-25 14:29:46,413] Trial 67 finished with value: 275.1474580699086 and parameters: {'lambda': 0.0016066226691711526, 'alpha': 0.0013844223569397958, 'colsample_bytree': 0.9, 'subsample': 0.7, 'learning_rate': 0.1874008596938555, 'n_estimators': 627, 'max_depth': 9, 'random_state': 358, 'min_child_weight': 182}. Best is trial 21 with value: 214.51265322062883.\n"
     ]
    },
    {
     "name": "stdout",
     "output_type": "stream",
     "text": [
      "Mean Absolute Error: 275.9793870291672\n",
      "Mean Absolute Error: 265.63344965574885\n"
     ]
    },
    {
     "name": "stderr",
     "output_type": "stream",
     "text": [
      "[I 2023-10-25 14:29:46,717] Trial 68 finished with value: 233.46841111205768 and parameters: {'lambda': 0.0028355237033177434, 'alpha': 0.01024127826335534, 'colsample_bytree': 0.9, 'subsample': 0.8, 'learning_rate': 0.7632239762933013, 'n_estimators': 571, 'max_depth': 9, 'random_state': 153, 'min_child_weight': 195}. Best is trial 21 with value: 214.51265322062883.\n"
     ]
    },
    {
     "name": "stdout",
     "output_type": "stream",
     "text": [
      "Mean Absolute Error: 251.29155267866474\n",
      "Mean Absolute Error: 232.07031125858717\n",
      "Mean Absolute Error: 217.04336939892124\n",
      "Mean Absolute Error: 230.30749980659152\n",
      "Mean Absolute Error: 208.86541729075677\n"
     ]
    },
    {
     "name": "stderr",
     "output_type": "stream",
     "text": [
      "[I 2023-10-25 14:29:47,120] Trial 69 finished with value: 214.72383012474543 and parameters: {'lambda': 0.0020826821910842155, 'alpha': 0.0045452587656681104, 'colsample_bytree': 0.9, 'subsample': 0.8, 'learning_rate': 0.41027639858484966, 'n_estimators': 518, 'max_depth': 17, 'random_state': 517, 'min_child_weight': 154}. Best is trial 21 with value: 214.51265322062883.\n"
     ]
    },
    {
     "name": "stdout",
     "output_type": "stream",
     "text": [
      "Mean Absolute Error: 204.99857327688798\n",
      "Mean Absolute Error: 237.30210655284492\n"
     ]
    },
    {
     "name": "stderr",
     "output_type": "stream",
     "text": [
      "[I 2023-10-25 14:29:47,479] Trial 70 finished with value: 226.90469733056443 and parameters: {'lambda': 0.0035239952571571513, 'alpha': 0.006991565711289588, 'colsample_bytree': 0.7, 'subsample': 0.8, 'learning_rate': 0.27142536587941807, 'n_estimators': 522, 'max_depth': 17, 'random_state': 673, 'min_child_weight': 98}. Best is trial 21 with value: 214.51265322062883.\n"
     ]
    },
    {
     "name": "stdout",
     "output_type": "stream",
     "text": [
      "Mean Absolute Error: 224.66182899118314\n",
      "Mean Absolute Error: 218.7501564476653\n",
      "Mean Absolute Error: 237.21374003813693\n",
      "Mean Absolute Error: 210.90787346582115\n"
     ]
    },
    {
     "name": "stderr",
     "output_type": "stream",
     "text": [
      "[I 2023-10-25 14:29:47,846] Trial 71 finished with value: 217.5194984240727 and parameters: {'lambda': 0.0020378220291673017, 'alpha': 0.0046823616193039435, 'colsample_bytree': 0.9, 'subsample': 0.8, 'learning_rate': 0.4503396125256351, 'n_estimators': 436, 'max_depth': 17, 'random_state': 514, 'min_child_weight': 155}. Best is trial 21 with value: 214.51265322062883.\n"
     ]
    },
    {
     "name": "stdout",
     "output_type": "stream",
     "text": [
      "Mean Absolute Error: 204.43688176826006\n",
      "Mean Absolute Error: 232.37471678789947\n"
     ]
    },
    {
     "name": "stderr",
     "output_type": "stream",
     "text": [
      "[I 2023-10-25 14:29:48,206] Trial 72 finished with value: 215.7089511892665 and parameters: {'lambda': 0.0024081054054598777, 'alpha': 0.003110741730205045, 'colsample_bytree': 0.9, 'subsample': 0.8, 'learning_rate': 0.4011824663621823, 'n_estimators': 476, 'max_depth': 17, 'random_state': 453, 'min_child_weight': 164}. Best is trial 21 with value: 214.51265322062883.\n"
     ]
    },
    {
     "name": "stdout",
     "output_type": "stream",
     "text": [
      "Mean Absolute Error: 207.44206607783332\n",
      "Mean Absolute Error: 207.31007070206667\n",
      "Mean Absolute Error: 235.5069065078322\n",
      "Mean Absolute Error: 212.6672321218213\n"
     ]
    },
    {
     "name": "stderr",
     "output_type": "stream",
     "text": [
      "[I 2023-10-25 14:29:48,583] Trial 73 finished with value: 218.78233231520542 and parameters: {'lambda': 0.0013965446136149755, 'alpha': 0.004056382330058178, 'colsample_bytree': 0.9, 'subsample': 0.8, 'learning_rate': 0.3361934735813007, 'n_estimators': 494, 'max_depth': 17, 'random_state': 466, 'min_child_weight': 169}. Best is trial 21 with value: 214.51265322062883.\n"
     ]
    },
    {
     "name": "stdout",
     "output_type": "stream",
     "text": [
      "Mean Absolute Error: 208.17285831596277\n",
      "Mean Absolute Error: 329.40669615815926\n"
     ]
    },
    {
     "name": "stderr",
     "output_type": "stream",
     "text": [
      "[I 2023-10-25 14:29:48,923] Trial 74 finished with value: 324.46397434319334 and parameters: {'lambda': 0.004408916440964436, 'alpha': 0.0034654431184406613, 'colsample_bytree': 0.9, 'subsample': 0.8, 'learning_rate': 0.14125137014880024, 'n_estimators': 611, 'max_depth': 17, 'random_state': 569, 'min_child_weight': 144}. Best is trial 21 with value: 214.51265322062883.\n"
     ]
    },
    {
     "name": "stdout",
     "output_type": "stream",
     "text": [
      "Mean Absolute Error: 326.8108782123137\n",
      "Mean Absolute Error: 317.17434865910707\n",
      "Mean Absolute Error: 259.0426989211188\n",
      "Mean Absolute Error: 246.01807598364496\n"
     ]
    },
    {
     "name": "stderr",
     "output_type": "stream",
     "text": [
      "[I 2023-10-25 14:29:49,296] Trial 75 finished with value: 247.79228667403206 and parameters: {'lambda': 0.0028033948274956196, 'alpha': 0.0027994695077127227, 'colsample_bytree': 0.9, 'subsample': 1.0, 'learning_rate': 0.21775628410967615, 'n_estimators': 408, 'max_depth': 17, 'random_state': 757, 'min_child_weight': 133}. Best is trial 21 with value: 214.51265322062883.\n"
     ]
    },
    {
     "name": "stdout",
     "output_type": "stream",
     "text": [
      "Mean Absolute Error: 238.31608511733236\n",
      "Mean Absolute Error: 253.7705108598405\n",
      "Mean Absolute Error: 230.1439933638999\n"
     ]
    },
    {
     "name": "stderr",
     "output_type": "stream",
     "text": [
      "[I 2023-10-25 14:29:49,604] Trial 76 finished with value: 235.1717338166109 and parameters: {'lambda': 0.0018214169245252306, 'alpha': 0.014806584243947872, 'colsample_bytree': 0.6, 'subsample': 0.4, 'learning_rate': 0.6189499662490274, 'n_estimators': 481, 'max_depth': 17, 'random_state': 616, 'min_child_weight': 178}. Best is trial 21 with value: 214.51265322062883.\n"
     ]
    },
    {
     "name": "stdout",
     "output_type": "stream",
     "text": [
      "Mean Absolute Error: 221.6006972260923\n",
      "Mean Absolute Error: 239.0223416023977\n"
     ]
    },
    {
     "name": "stderr",
     "output_type": "stream",
     "text": [
      "[I 2023-10-25 14:29:49,962] Trial 77 finished with value: 218.27189074215616 and parameters: {'lambda': 0.0064950115266250675, 'alpha': 0.006193216393689206, 'colsample_bytree': 0.9, 'subsample': 0.8, 'learning_rate': 0.4062062235078276, 'n_estimators': 658, 'max_depth': 13, 'random_state': 700, 'min_child_weight': 151}. Best is trial 21 with value: 214.51265322062883.\n"
     ]
    },
    {
     "name": "stdout",
     "output_type": "stream",
     "text": [
      "Mean Absolute Error: 212.16952351955143\n",
      "Mean Absolute Error: 203.6238071045193\n"
     ]
    },
    {
     "name": "stderr",
     "output_type": "stream",
     "text": [
      "[I 2023-10-25 14:29:50,287] Trial 78 finished with value: 239.36972109532596 and parameters: {'lambda': 0.0012347228950441286, 'alpha': 0.009927349169386096, 'colsample_bytree': 1.0, 'subsample': 0.8, 'learning_rate': 0.8027564583544676, 'n_estimators': 837, 'max_depth': 9, 'random_state': 533, 'min_child_weight': 167}. Best is trial 21 with value: 214.51265322062883.\n"
     ]
    },
    {
     "name": "stdout",
     "output_type": "stream",
     "text": [
      "Mean Absolute Error: 261.7586103843992\n",
      "Mean Absolute Error: 233.20835123107418\n",
      "Mean Absolute Error: 223.14220167050442\n"
     ]
    },
    {
     "name": "stderr",
     "output_type": "stream",
     "text": [
      "[I 2023-10-25 14:29:50,608] Trial 79 finished with value: 226.15669116338776 and parameters: {'lambda': 0.002274759309049458, 'alpha': 0.002230537941299214, 'colsample_bytree': 0.8, 'subsample': 0.8, 'learning_rate': 0.2917110754782448, 'n_estimators': 531, 'max_depth': 13, 'random_state': 656, 'min_child_weight': 177}. Best is trial 21 with value: 214.51265322062883.\n"
     ]
    },
    {
     "name": "stdout",
     "output_type": "stream",
     "text": [
      "Mean Absolute Error: 239.6659090829919\n",
      "Mean Absolute Error: 222.05510875399867\n",
      "Mean Absolute Error: 216.74905565317277\n"
     ]
    },
    {
     "name": "stderr",
     "output_type": "stream",
     "text": [
      "[I 2023-10-25 14:29:50,877] Trial 80 finished with value: 226.0674432732267 and parameters: {'lambda': 0.003914085927526338, 'alpha': 0.005099525951323586, 'colsample_bytree': 0.9, 'subsample': 0.8, 'learning_rate': 0.5604086709748435, 'n_estimators': 572, 'max_depth': 5, 'random_state': 816, 'min_child_weight': 204}. Best is trial 21 with value: 214.51265322062883.\n"
     ]
    },
    {
     "name": "stdout",
     "output_type": "stream",
     "text": [
      "Mean Absolute Error: 247.8903607158475\n",
      "Mean Absolute Error: 222.4149329903283\n",
      "Mean Absolute Error: 207.8970361135043\n",
      "Mean Absolute Error: 231.42191433811544\n",
      "Mean Absolute Error: 210.2114295136337\n"
     ]
    },
    {
     "name": "stderr",
     "output_type": "stream",
     "text": [
      "[I 2023-10-25 14:29:51,255] Trial 81 finished with value: 215.82109168697033 and parameters: {'lambda': 0.0025540212076018303, 'alpha': 0.0018408134997801807, 'colsample_bytree': 0.9, 'subsample': 0.8, 'learning_rate': 0.4052187761430094, 'n_estimators': 552, 'max_depth': 17, 'random_state': 482, 'min_child_weight': 159}. Best is trial 21 with value: 214.51265322062883.\n"
     ]
    },
    {
     "name": "stdout",
     "output_type": "stream",
     "text": [
      "Mean Absolute Error: 205.82993120916183\n",
      "Mean Absolute Error: 239.66359222890486\n"
     ]
    },
    {
     "name": "stderr",
     "output_type": "stream",
     "text": [
      "[I 2023-10-25 14:29:51,630] Trial 82 finished with value: 218.52120090057306 and parameters: {'lambda': 0.0028324693838785997, 'alpha': 0.0019459673156113813, 'colsample_bytree': 0.9, 'subsample': 0.8, 'learning_rate': 0.40797041476780294, 'n_estimators': 454, 'max_depth': 17, 'random_state': 949, 'min_child_weight': 140}. Best is trial 21 with value: 214.51265322062883.\n"
     ]
    },
    {
     "name": "stdout",
     "output_type": "stream",
     "text": [
      "Mean Absolute Error: 212.29805816858325\n",
      "Mean Absolute Error: 203.60195230423102\n",
      "Mean Absolute Error: 275.0524313002086\n",
      "Mean Absolute Error: 265.4941357929954\n"
     ]
    },
    {
     "name": "stderr",
     "output_type": "stream",
     "text": [
      "[I 2023-10-25 14:29:51,975] Trial 83 finished with value: 265.4112580632507 and parameters: {'lambda': 0.0015467585339006215, 'alpha': 0.0032176501412140767, 'colsample_bytree': 0.9, 'subsample': 0.8, 'learning_rate': 0.1970706864743478, 'n_estimators': 629, 'max_depth': 17, 'random_state': 472, 'min_child_weight': 155}. Best is trial 21 with value: 214.51265322062883.\n"
     ]
    },
    {
     "name": "stdout",
     "output_type": "stream",
     "text": [
      "Mean Absolute Error: 255.68720709654832\n",
      "Mean Absolute Error: 228.8162511508162\n"
     ]
    },
    {
     "name": "stderr",
     "output_type": "stream",
     "text": [
      "[I 2023-10-25 14:29:52,347] Trial 84 finished with value: 215.55660040244763 and parameters: {'lambda': 0.002150748718990796, 'alpha': 0.0016734431120668965, 'colsample_bytree': 0.9, 'subsample': 0.8, 'learning_rate': 0.3641467710715963, 'n_estimators': 382, 'max_depth': 17, 'random_state': 617, 'min_child_weight': 127}. Best is trial 21 with value: 214.51265322062883.\n"
     ]
    },
    {
     "name": "stdout",
     "output_type": "stream",
     "text": [
      "Mean Absolute Error: 211.17435176798952\n",
      "Mean Absolute Error: 206.67919828853715\n"
     ]
    },
    {
     "name": "stderr",
     "output_type": "stream",
     "text": [
      "[I 2023-10-25 14:29:52,674] Trial 85 finished with value: 233.60261165848752 and parameters: {'lambda': 0.0034032036163870716, 'alpha': 0.001390936175238199, 'colsample_bytree': 0.3, 'subsample': 0.5, 'learning_rate': 0.32023647044712084, 'n_estimators': 358, 'max_depth': 17, 'random_state': 569, 'min_child_weight': 126}. Best is trial 21 with value: 214.51265322062883.\n"
     ]
    },
    {
     "name": "stdout",
     "output_type": "stream",
     "text": [
      "Mean Absolute Error: 242.28103563910568\n",
      "Mean Absolute Error: 233.2067791945614\n",
      "Mean Absolute Error: 225.32002014179548\n",
      "Mean Absolute Error: 262.0249856130096\n",
      "Mean Absolute Error: 221.16015270221942\n"
     ]
    },
    {
     "name": "stderr",
     "output_type": "stream",
     "text": [
      "[I 2023-10-25 14:29:53,011] Trial 86 finished with value: 232.53183172270576 and parameters: {'lambda': 0.00464350368680076, 'alpha': 0.003010326537785336, 'colsample_bytree': 0.7, 'subsample': 0.6, 'learning_rate': 0.5538527196871597, 'n_estimators': 392, 'max_depth': 17, 'random_state': 403, 'min_child_weight': 187}. Best is trial 21 with value: 214.51265322062883.\n"
     ]
    },
    {
     "name": "stdout",
     "output_type": "stream",
     "text": [
      "Mean Absolute Error: 214.41035685288824\n",
      "Mean Absolute Error: 328.3325057957484\n"
     ]
    },
    {
     "name": "stderr",
     "output_type": "stream",
     "text": [
      "[I 2023-10-25 14:29:53,335] Trial 87 finished with value: 321.87980966530966 and parameters: {'lambda': 0.0010111715068606831, 'alpha': 0.0012437923617972522, 'colsample_bytree': 0.9, 'subsample': 0.8, 'learning_rate': 0.1447571531620572, 'n_estimators': 318, 'max_depth': 17, 'random_state': 361, 'min_child_weight': 164}. Best is trial 21 with value: 214.51265322062883.\n"
     ]
    },
    {
     "name": "stdout",
     "output_type": "stream",
     "text": [
      "Mean Absolute Error: 324.1991153937044\n",
      "Mean Absolute Error: 313.1078078064761\n",
      "Mean Absolute Error: 275.8265977693639\n",
      "Mean Absolute Error: 229.0664284549845\n"
     ]
    },
    {
     "name": "stderr",
     "output_type": "stream",
     "text": [
      "[I 2023-10-25 14:29:53,699] Trial 88 finished with value: 243.34032858469436 and parameters: {'lambda': 0.0018554508088591908, 'alpha': 0.0017379090941629187, 'colsample_bytree': 0.9, 'subsample': 0.7, 'learning_rate': 0.7806263497341173, 'n_estimators': 432, 'max_depth': 15, 'random_state': 543, 'min_child_weight': 146}. Best is trial 21 with value: 214.51265322062883.\n"
     ]
    },
    {
     "name": "stdout",
     "output_type": "stream",
     "text": [
      "Mean Absolute Error: 225.12795952973462\n",
      "Mean Absolute Error: 251.4183669770378\n"
     ]
    },
    {
     "name": "stderr",
     "output_type": "stream",
     "text": [
      "[I 2023-10-25 14:29:54,029] Trial 89 finished with value: 242.40389404278622 and parameters: {'lambda': 0.0026948282309773577, 'alpha': 0.0024089141254826623, 'colsample_bytree': 0.4, 'subsample': 0.8, 'learning_rate': 0.24333584628408647, 'n_estimators': 244, 'max_depth': 17, 'random_state': 42, 'min_child_weight': 160}. Best is trial 21 with value: 214.51265322062883.\n"
     ]
    },
    {
     "name": "stdout",
     "output_type": "stream",
     "text": [
      "Mean Absolute Error: 241.27906795925566\n",
      "Mean Absolute Error: 234.51424719206526\n",
      "Mean Absolute Error: 238.47943728355767\n",
      "Mean Absolute Error: 214.79202606025765\n"
     ]
    },
    {
     "name": "stderr",
     "output_type": "stream",
     "text": [
      "[I 2023-10-25 14:29:54,403] Trial 90 finished with value: 220.55351603032912 and parameters: {'lambda': 0.0013837154751543182, 'alpha': 0.004474435964795184, 'colsample_bytree': 0.9, 'subsample': 0.8, 'learning_rate': 0.511689824621115, 'n_estimators': 524, 'max_depth': 13, 'random_state': 624, 'min_child_weight': 118}. Best is trial 21 with value: 214.51265322062883.\n"
     ]
    },
    {
     "name": "stdout",
     "output_type": "stream",
     "text": [
      "Mean Absolute Error: 208.3890847471721\n",
      "Mean Absolute Error: 231.1276181932021\n"
     ]
    },
    {
     "name": "stderr",
     "output_type": "stream",
     "text": [
      "[I 2023-10-25 14:29:54,791] Trial 91 finished with value: 216.46578587389487 and parameters: {'lambda': 0.0020450685429474367, 'alpha': 0.0018508955838113857, 'colsample_bytree': 0.9, 'subsample': 0.8, 'learning_rate': 0.4041439133808534, 'n_estimators': 558, 'max_depth': 17, 'random_state': 601, 'min_child_weight': 108}. Best is trial 21 with value: 214.51265322062883.\n"
     ]
    },
    {
     "name": "stdout",
     "output_type": "stream",
     "text": [
      "Mean Absolute Error: 210.06726188529524\n",
      "Mean Absolute Error: 208.20247754318723\n",
      "Mean Absolute Error: 228.95882697538502\n",
      "Mean Absolute Error: 213.4879003951487\n"
     ]
    },
    {
     "name": "stderr",
     "output_type": "stream",
     "text": [
      "[I 2023-10-25 14:29:55,186] Trial 92 finished with value: 215.8070495314283 and parameters: {'lambda': 0.0022090890578140908, 'alpha': 0.002625845362319336, 'colsample_bytree': 0.9, 'subsample': 0.8, 'learning_rate': 0.33508305149268114, 'n_estimators': 555, 'max_depth': 17, 'random_state': 593, 'min_child_weight': 108}. Best is trial 21 with value: 214.51265322062883.\n"
     ]
    },
    {
     "name": "stdout",
     "output_type": "stream",
     "text": [
      "Mean Absolute Error: 204.9744212237512\n",
      "Mean Absolute Error: 232.36449501819155\n"
     ]
    },
    {
     "name": "stderr",
     "output_type": "stream",
     "text": [
      "[I 2023-10-25 14:29:55,551] Trial 93 finished with value: 218.28750623981622 and parameters: {'lambda': 0.005676243812219842, 'alpha': 0.00778991659556093, 'colsample_bytree': 0.9, 'subsample': 0.8, 'learning_rate': 0.31563285249803813, 'n_estimators': 471, 'max_depth': 17, 'random_state': 577, 'min_child_weight': 129}. Best is trial 21 with value: 214.51265322062883.\n"
     ]
    },
    {
     "name": "stdout",
     "output_type": "stream",
     "text": [
      "Mean Absolute Error: 214.5680076183547\n",
      "Mean Absolute Error: 207.93001608290237\n"
     ]
    },
    {
     "name": "stderr",
     "output_type": "stream",
     "text": [
      "[I 2023-10-25 14:29:55,848] Trial 94 finished with value: 231.56650355656868 and parameters: {'lambda': 0.0035731237375294968, 'alpha': 0.0027961959910445568, 'colsample_bytree': 0.9, 'subsample': 0.8, 'learning_rate': 0.6996068592104269, 'n_estimators': 607, 'max_depth': 7, 'random_state': 670, 'min_child_weight': 174}. Best is trial 21 with value: 214.51265322062883.\n"
     ]
    },
    {
     "name": "stdout",
     "output_type": "stream",
     "text": [
      "Mean Absolute Error: 258.2901355755647\n",
      "Mean Absolute Error: 221.44684762818665\n",
      "Mean Absolute Error: 214.96252746595465\n",
      "Mean Absolute Error: 290.5786964771118\n",
      "Mean Absolute Error: 247.6340156095014\n"
     ]
    },
    {
     "name": "stderr",
     "output_type": "stream",
     "text": [
      "[I 2023-10-25 14:29:56,233] Trial 95 finished with value: 257.5213607775217 and parameters: {'lambda': 0.001634008556436918, 'alpha': 0.006051169985290947, 'colsample_bytree': 0.7, 'subsample': 0.8, 'learning_rate': 0.9616560253208292, 'n_estimators': 504, 'max_depth': 17, 'random_state': 508, 'min_child_weight': 105}. Best is trial 21 with value: 214.51265322062883.\n"
     ]
    },
    {
     "name": "stdout",
     "output_type": "stream",
     "text": [
      "Mean Absolute Error: 234.35137024595187\n",
      "Mean Absolute Error: 266.2521143985744\n"
     ]
    },
    {
     "name": "stderr",
     "output_type": "stream",
     "text": [
      "[I 2023-10-25 14:29:56,631] Trial 96 finished with value: 256.3359539288121 and parameters: {'lambda': 0.0026627051291793847, 'alpha': 0.0037459185477767376, 'colsample_bytree': 0.6, 'subsample': 1.0, 'learning_rate': 0.2063267073011676, 'n_estimators': 157, 'max_depth': 17, 'random_state': 454, 'min_child_weight': 90}. Best is trial 21 with value: 214.51265322062883.\n"
     ]
    },
    {
     "name": "stdout",
     "output_type": "stream",
     "text": [
      "Mean Absolute Error: 255.93526511050086\n",
      "Mean Absolute Error: 246.82048227736092\n",
      "Mean Absolute Error: 245.59140682168902\n",
      "Mean Absolute Error: 233.841539106831\n"
     ]
    },
    {
     "name": "stderr",
     "output_type": "stream",
     "text": [
      "[I 2023-10-25 14:29:56,971] Trial 97 finished with value: 234.86334449439263 and parameters: {'lambda': 0.004104971860742397, 'alpha': 0.0015122756942774012, 'colsample_bytree': 0.9, 'subsample': 0.8, 'learning_rate': 0.2573267520087457, 'n_estimators': 544, 'max_depth': 13, 'random_state': 700, 'min_child_weight': 195}. Best is trial 21 with value: 214.51265322062883.\n"
     ]
    },
    {
     "name": "stdout",
     "output_type": "stream",
     "text": [
      "Mean Absolute Error: 225.1570875546579\n",
      "Mean Absolute Error: 245.02472199775232\n"
     ]
    },
    {
     "name": "stderr",
     "output_type": "stream",
     "text": [
      "[I 2023-10-25 14:29:57,326] Trial 98 finished with value: 227.36203254911845 and parameters: {'lambda': 0.0012966819636101188, 'alpha': 0.011748119262208822, 'colsample_bytree': 0.9, 'subsample': 0.4, 'learning_rate': 0.5181622832771258, 'n_estimators': 570, 'max_depth': 17, 'random_state': 483, 'min_child_weight': 142}. Best is trial 21 with value: 214.51265322062883.\n"
     ]
    },
    {
     "name": "stdout",
     "output_type": "stream",
     "text": [
      "Mean Absolute Error: 221.59271489418805\n",
      "Mean Absolute Error: 215.46866075541496\n"
     ]
    },
    {
     "name": "stderr",
     "output_type": "stream",
     "text": [
      "[I 2023-10-25 14:29:57,653] Trial 99 finished with value: 287.80884695734966 and parameters: {'lambda': 0.008147271418042647, 'alpha': 0.0012165997779545925, 'colsample_bytree': 0.9, 'subsample': 0.8, 'learning_rate': 0.17096658542255563, 'n_estimators': 485, 'max_depth': 13, 'random_state': 559, 'min_child_weight': 154}. Best is trial 21 with value: 214.51265322062883.\n"
     ]
    },
    {
     "name": "stdout",
     "output_type": "stream",
     "text": [
      "Mean Absolute Error: 295.1510118657643\n",
      "Mean Absolute Error: 289.90725278082624\n",
      "Mean Absolute Error: 278.3682762254584\n"
     ]
    },
    {
     "name": "stderr",
     "output_type": "stream",
     "text": [
      "[I 2023-10-25 14:29:57,928] Trial 100 finished with value: 218.56617158787336 and parameters: {'lambda': 0.0023135734591110085, 'alpha': 0.0025118085478488083, 'colsample_bytree': 1.0, 'subsample': 0.8, 'learning_rate': 0.3658484355582709, 'n_estimators': 332, 'max_depth': 5, 'random_state': 737, 'min_child_weight': 181}. Best is trial 21 with value: 214.51265322062883.\n"
     ]
    },
    {
     "name": "stdout",
     "output_type": "stream",
     "text": [
      "Mean Absolute Error: 231.39118646918268\n",
      "Mean Absolute Error: 212.23348742520724\n",
      "Mean Absolute Error: 212.07384086923017\n",
      "Mean Absolute Error: 237.88006555385533\n",
      "Mean Absolute Error: 211.1121005816529\n"
     ]
    },
    {
     "name": "stderr",
     "output_type": "stream",
     "text": [
      "[I 2023-10-25 14:29:58,331] Trial 101 finished with value: 216.3659720616304 and parameters: {'lambda': 0.0020127822118736474, 'alpha': 0.0020084447449359778, 'colsample_bytree': 0.9, 'subsample': 0.8, 'learning_rate': 0.4225480012698192, 'n_estimators': 552, 'max_depth': 17, 'random_state': 597, 'min_child_weight': 109}. Best is trial 21 with value: 214.51265322062883.\n"
     ]
    },
    {
     "name": "stdout",
     "output_type": "stream",
     "text": [
      "Mean Absolute Error: 200.10575004938303\n",
      "Mean Absolute Error: 247.53794731208606\n"
     ]
    },
    {
     "name": "stderr",
     "output_type": "stream",
     "text": [
      "[I 2023-10-25 14:29:58,731] Trial 102 finished with value: 230.55495614623 and parameters: {'lambda': 0.001708609607945873, 'alpha': 0.004997830678042292, 'colsample_bytree': 0.9, 'subsample': 0.8, 'learning_rate': 0.6285812848538899, 'n_estimators': 518, 'max_depth': 17, 'random_state': 529, 'min_child_weight': 92}. Best is trial 21 with value: 214.51265322062883.\n"
     ]
    },
    {
     "name": "stdout",
     "output_type": "stream",
     "text": [
      "Mean Absolute Error: 230.2826761590354\n",
      "Mean Absolute Error: 213.8442449675686\n",
      "Mean Absolute Error: 239.0330073478652\n",
      "Mean Absolute Error: 211.37229369372417\n"
     ]
    },
    {
     "name": "stderr",
     "output_type": "stream",
     "text": [
      "[I 2023-10-25 14:29:59,172] Trial 103 finished with value: 219.2900853497945 and parameters: {'lambda': 0.00325710680532857, 'alpha': 0.003259571540665583, 'colsample_bytree': 0.9, 'subsample': 0.8, 'learning_rate': 0.4599018232236591, 'n_estimators': 586, 'max_depth': 17, 'random_state': 657, 'min_child_weight': 69}. Best is trial 21 with value: 214.51265322062883.\n"
     ]
    },
    {
     "name": "stdout",
     "output_type": "stream",
     "text": [
      "Mean Absolute Error: 207.46495500779415\n",
      "Mean Absolute Error: 234.91191136021973\n"
     ]
    },
    {
     "name": "stderr",
     "output_type": "stream",
     "text": [
      "[I 2023-10-25 14:29:59,552] Trial 104 finished with value: 222.44135175891947 and parameters: {'lambda': 0.001964332972301009, 'alpha': 0.0022554832977163364, 'colsample_bytree': 0.9, 'subsample': 0.8, 'learning_rate': 0.29441300863629416, 'n_estimators': 547, 'max_depth': 17, 'random_state': 592, 'min_child_weight': 112}. Best is trial 21 with value: 214.51265322062883.\n"
     ]
    },
    {
     "name": "stdout",
     "output_type": "stream",
     "text": [
      "Mean Absolute Error: 219.12735292241015\n",
      "Mean Absolute Error: 213.2847909941284\n",
      "Mean Absolute Error: 228.7500441743266\n",
      "Mean Absolute Error: 211.21059612129537\n"
     ]
    },
    {
     "name": "stderr",
     "output_type": "stream",
     "text": [
      "[I 2023-10-25 14:29:59,964] Trial 105 finished with value: 215.71837056325094 and parameters: {'lambda': 0.0012109128835439452, 'alpha': 0.0016435038367664846, 'colsample_bytree': 0.8, 'subsample': 0.8, 'learning_rate': 0.3570975763589223, 'n_estimators': 452, 'max_depth': 17, 'random_state': 633, 'min_child_weight': 102}. Best is trial 21 with value: 214.51265322062883.\n"
     ]
    },
    {
     "name": "stdout",
     "output_type": "stream",
     "text": [
      "Mean Absolute Error: 207.1944713941309\n",
      "Mean Absolute Error: 228.47806938578816\n"
     ]
    },
    {
     "name": "stderr",
     "output_type": "stream",
     "text": [
      "[I 2023-10-25 14:30:00,339] Trial 106 finished with value: 215.56862423586313 and parameters: {'lambda': 0.0011267969265600568, 'alpha': 0.001460923376899598, 'colsample_bytree': 0.8, 'subsample': 0.8, 'learning_rate': 0.34869000654767857, 'n_estimators': 460, 'max_depth': 15, 'random_state': 630, 'min_child_weight': 121}. Best is trial 21 with value: 214.51265322062883.\n"
     ]
    },
    {
     "name": "stdout",
     "output_type": "stream",
     "text": [
      "Mean Absolute Error: 214.1174488058844\n",
      "Mean Absolute Error: 204.11035451591675\n"
     ]
    },
    {
     "name": "stderr",
     "output_type": "stream",
     "text": [
      "[I 2023-10-25 14:30:00,689] Trial 107 finished with value: 252.15117022592173 and parameters: {'lambda': 0.001250454844462951, 'alpha': 0.0011853541088501806, 'colsample_bytree': 0.8, 'subsample': 0.6, 'learning_rate': 0.22304374145914427, 'n_estimators': 451, 'max_depth': 15, 'random_state': 190, 'min_child_weight': 121}. Best is trial 21 with value: 214.51265322062883.\n"
     ]
    },
    {
     "name": "stdout",
     "output_type": "stream",
     "text": [
      "Mean Absolute Error: 260.5710972240071\n",
      "Mean Absolute Error: 252.0933856560331\n",
      "Mean Absolute Error: 243.78902779772497\n",
      "Mean Absolute Error: 236.42828035368532\n",
      "Mean Absolute Error: 214.97631608763803\n"
     ]
    },
    {
     "name": "stderr",
     "output_type": "stream",
     "text": [
      "[I 2023-10-25 14:30:01,093] Trial 108 finished with value: 218.72312039403118 and parameters: {'lambda': 0.0011867263051240215, 'alpha': 0.0013815445293863375, 'colsample_bytree': 0.8, 'subsample': 0.8, 'learning_rate': 0.32960861609166775, 'n_estimators': 381, 'max_depth': 15, 'random_state': 683, 'min_child_weight': 83}. Best is trial 21 with value: 214.51265322062883.\n"
     ]
    },
    {
     "name": "stdout",
     "output_type": "stream",
     "text": [
      "Mean Absolute Error: 204.7647647407702\n",
      "Mean Absolute Error: 257.2315213002564\n"
     ]
    },
    {
     "name": "stderr",
     "output_type": "stream",
     "text": [
      "[I 2023-10-25 14:30:01,468] Trial 109 finished with value: 236.68020343302155 and parameters: {'lambda': 0.001000885087715387, 'alpha': 0.0016692001570274284, 'colsample_bytree': 0.8, 'subsample': 0.5, 'learning_rate': 0.6672424674197547, 'n_estimators': 415, 'max_depth': 15, 'random_state': 629, 'min_child_weight': 102}. Best is trial 21 with value: 214.51265322062883.\n"
     ]
    },
    {
     "name": "stdout",
     "output_type": "stream",
     "text": [
      "Mean Absolute Error: 226.98970453808786\n",
      "Mean Absolute Error: 225.8193844607203\n",
      "Mean Absolute Error: 355.97892122525775\n",
      "Mean Absolute Error: 355.2658087083744\n"
     ]
    },
    {
     "name": "stderr",
     "output_type": "stream",
     "text": [
      "[I 2023-10-25 14:30:02,437] Trial 110 finished with value: 351.45309186958775 and parameters: {'lambda': 0.0015202995380346454, 'alpha': 0.0010201310956461475, 'colsample_bytree': 0.8, 'subsample': 0.8, 'learning_rate': 0.12433529506074197, 'n_estimators': 445, 'max_depth': 7, 'random_state': 130, 'min_child_weight': 135}. Best is trial 21 with value: 214.51265322062883.\n"
     ]
    },
    {
     "name": "stdout",
     "output_type": "stream",
     "text": [
      "Mean Absolute Error: 343.11454567513107\n",
      "Mean Absolute Error: 235.52213658352463\n",
      "Mean Absolute Error: 212.42963550268897\n"
     ]
    },
    {
     "name": "stderr",
     "output_type": "stream",
     "text": [
      "[I 2023-10-25 14:30:04,878] Trial 111 finished with value: 217.22118294638744 and parameters: {'lambda': 0.002476478445148927, 'alpha': 0.004009819728087643, 'colsample_bytree': 0.8, 'subsample': 0.8, 'learning_rate': 0.3609334012953727, 'n_estimators': 466, 'max_depth': 13, 'random_state': 647, 'min_child_weight': 124}. Best is trial 21 with value: 214.51265322062883.\n"
     ]
    },
    {
     "name": "stdout",
     "output_type": "stream",
     "text": [
      "Mean Absolute Error: 203.71177675294874\n",
      "Mean Absolute Error: 240.0185269795133\n"
     ]
    },
    {
     "name": "stderr",
     "output_type": "stream",
     "text": [
      "[I 2023-10-25 14:30:05,242] Trial 112 finished with value: 218.84904992115972 and parameters: {'lambda': 0.0029788769359240636, 'alpha': 0.0025753177191134087, 'colsample_bytree': 0.8, 'subsample': 0.8, 'learning_rate': 0.4905760120234143, 'n_estimators': 492, 'max_depth': 15, 'random_state': 612, 'min_child_weight': 149}. Best is trial 21 with value: 214.51265322062883.\n"
     ]
    },
    {
     "name": "stdout",
     "output_type": "stream",
     "text": [
      "Mean Absolute Error: 215.5272493807219\n",
      "Mean Absolute Error: 201.00137340324403\n",
      "Mean Absolute Error: 235.9689999846171\n",
      "Mean Absolute Error: 223.35706730937832\n"
     ]
    },
    {
     "name": "stderr",
     "output_type": "stream",
     "text": [
      "[I 2023-10-25 14:30:05,606] Trial 113 finished with value: 225.42712971336195 and parameters: {'lambda': 0.0016717288285707974, 'alpha': 0.0016281524670237189, 'colsample_bytree': 0.8, 'subsample': 0.8, 'learning_rate': 0.2945471656470554, 'n_estimators': 506, 'max_depth': 17, 'random_state': 716, 'min_child_weight': 170}. Best is trial 21 with value: 214.51265322062883.\n"
     ]
    },
    {
     "name": "stdout",
     "output_type": "stream",
     "text": [
      "Mean Absolute Error: 216.95532184609044\n",
      "Mean Absolute Error: 257.61024136842\n"
     ]
    },
    {
     "name": "stderr",
     "output_type": "stream",
     "text": [
      "[I 2023-10-25 14:30:05,948] Trial 114 finished with value: 245.78583516527237 and parameters: {'lambda': 0.0023226541665945905, 'alpha': 0.005579801862697024, 'colsample_bytree': 0.3, 'subsample': 0.8, 'learning_rate': 0.25708463362036416, 'n_estimators': 605, 'max_depth': 13, 'random_state': 548, 'min_child_weight': 161}. Best is trial 21 with value: 214.51265322062883.\n"
     ]
    },
    {
     "name": "stdout",
     "output_type": "stream",
     "text": [
      "Mean Absolute Error: 242.29419684529748\n",
      "Mean Absolute Error: 237.45306728209965\n",
      "Mean Absolute Error: 249.00963002654186\n",
      "Mean Absolute Error: 221.86228890094443\n"
     ]
    },
    {
     "name": "stderr",
     "output_type": "stream",
     "text": [
      "[I 2023-10-25 14:30:06,310] Trial 115 finished with value: 226.58571761784012 and parameters: {'lambda': 0.001169556639414185, 'alpha': 0.0029768867563061954, 'colsample_bytree': 0.7, 'subsample': 0.7, 'learning_rate': 0.5196593527889951, 'n_estimators': 526, 'max_depth': 17, 'random_state': 423, 'min_child_weight': 212}. Best is trial 21 with value: 214.51265322062883.\n"
     ]
    },
    {
     "name": "stdout",
     "output_type": "stream",
     "text": [
      "Mean Absolute Error: 208.88523392603403\n",
      "Mean Absolute Error: 272.30299065151024\n"
     ]
    },
    {
     "name": "stderr",
     "output_type": "stream",
     "text": [
      "[I 2023-10-25 14:30:06,684] Trial 116 finished with value: 248.42018735962824 and parameters: {'lambda': 0.00144302582787082, 'alpha': 0.007148533387759582, 'colsample_bytree': 0.8, 'subsample': 0.8, 'learning_rate': 0.8607639161247703, 'n_estimators': 644, 'max_depth': 13, 'random_state': 626, 'min_child_weight': 116}. Best is trial 21 with value: 214.51265322062883.\n"
     ]
    },
    {
     "name": "stdout",
     "output_type": "stream",
     "text": [
      "Mean Absolute Error: 242.51940270385566\n",
      "Mean Absolute Error: 230.4381687235188\n",
      "Mean Absolute Error: 238.92290482009662\n",
      "Mean Absolute Error: 213.54384544604446\n"
     ]
    },
    {
     "name": "stderr",
     "output_type": "stream",
     "text": [
      "[I 2023-10-25 14:30:07,043] Trial 117 finished with value: 219.97987704993673 and parameters: {'lambda': 0.003970883208112216, 'alpha': 0.002145711662221936, 'colsample_bytree': 0.4, 'subsample': 0.8, 'learning_rate': 0.37128358911237663, 'n_estimators': 679, 'max_depth': 17, 'random_state': 574, 'min_child_weight': 129}. Best is trial 21 with value: 214.51265322062883.\n"
     ]
    },
    {
     "name": "stdout",
     "output_type": "stream",
     "text": [
      "Mean Absolute Error: 207.47288088366915\n",
      "Mean Absolute Error: 288.33221374916866\n"
     ]
    },
    {
     "name": "stderr",
     "output_type": "stream",
     "text": [
      "[I 2023-10-25 14:30:07,388] Trial 118 finished with value: 280.8729538378871 and parameters: {'lambda': 0.0029536525275892203, 'alpha': 0.0036011696134792695, 'colsample_bytree': 0.9, 'subsample': 0.8, 'learning_rate': 0.17654748777698745, 'n_estimators': 284, 'max_depth': 15, 'random_state': 687, 'min_child_weight': 137}. Best is trial 21 with value: 214.51265322062883.\n"
     ]
    },
    {
     "name": "stdout",
     "output_type": "stream",
     "text": [
      "Mean Absolute Error: 281.6947999766751\n",
      "Mean Absolute Error: 272.5918477878176\n",
      "Mean Absolute Error: 263.6232006544931\n",
      "Mean Absolute Error: 225.3062536424345\n"
     ]
    },
    {
     "name": "stderr",
     "output_type": "stream",
     "text": [
      "[I 2023-10-25 14:30:07,833] Trial 119 finished with value: 236.47786125159118 and parameters: {'lambda': 0.0020756811382558944, 'alpha': 0.00451337888342352, 'colsample_bytree': 0.9, 'subsample': 1.0, 'learning_rate': 0.658419473852973, 'n_estimators': 582, 'max_depth': 17, 'random_state': 260, 'min_child_weight': 75}. Best is trial 21 with value: 214.51265322062883.\n"
     ]
    },
    {
     "name": "stdout",
     "output_type": "stream",
     "text": [
      "Mean Absolute Error: 220.50412945784598\n",
      "Mean Absolute Error: 258.4080572226892\n",
      "Mean Absolute Error: 247.2162787069999\n"
     ]
    },
    {
     "name": "stderr",
     "output_type": "stream",
     "text": [
      "[I 2023-10-25 14:30:08,112] Trial 120 finished with value: 249.85021432154576 and parameters: {'lambda': 0.001606965197278947, 'alpha': 0.0012401672786353337, 'colsample_bytree': 0.7, 'subsample': 0.8, 'learning_rate': 0.2271967036853238, 'n_estimators': 476, 'max_depth': 5, 'random_state': 664, 'min_child_weight': 96}. Best is trial 21 with value: 214.51265322062883.\n"
     ]
    },
    {
     "name": "stdout",
     "output_type": "stream",
     "text": [
      "Mean Absolute Error: 243.92630703494817\n",
      "Mean Absolute Error: 227.7477257874425\n"
     ]
    },
    {
     "name": "stderr",
     "output_type": "stream",
     "text": [
      "[I 2023-10-25 14:30:08,503] Trial 121 finished with value: 214.56944795496386 and parameters: {'lambda': 0.0019084360398161366, 'alpha': 0.0020390626582062277, 'colsample_bytree': 0.9, 'subsample': 0.8, 'learning_rate': 0.43056460724767853, 'n_estimators': 552, 'max_depth': 17, 'random_state': 596, 'min_child_weight': 112}. Best is trial 21 with value: 214.51265322062883.\n"
     ]
    },
    {
     "name": "stdout",
     "output_type": "stream",
     "text": [
      "Mean Absolute Error: 212.83999567900787\n",
      "Mean Absolute Error: 203.12062239844127\n",
      "Mean Absolute Error: 234.71720376204453\n",
      "Mean Absolute Error: 214.03636880466863\n"
     ]
    },
    {
     "name": "stderr",
     "output_type": "stream",
     "text": [
      "[I 2023-10-25 14:30:08,873] Trial 122 finished with value: 217.69373765497878 and parameters: {'lambda': 0.0025444356800554623, 'alpha': 0.0015693286839958917, 'colsample_bytree': 0.9, 'subsample': 0.8, 'learning_rate': 0.4249300655234336, 'n_estimators': 539, 'max_depth': 17, 'random_state': 520, 'min_child_weight': 143}. Best is trial 21 with value: 214.51265322062883.\n"
     ]
    },
    {
     "name": "stdout",
     "output_type": "stream",
     "text": [
      "Mean Absolute Error: 204.32764039822317\n",
      "Mean Absolute Error: 234.9740748352714\n"
     ]
    },
    {
     "name": "stderr",
     "output_type": "stream",
     "text": [
      "[I 2023-10-25 14:30:09,254] Trial 123 finished with value: 222.73138158873803 and parameters: {'lambda': 0.005036440801629847, 'alpha': 0.0027520746811442193, 'colsample_bytree': 0.9, 'subsample': 0.8, 'learning_rate': 0.28733670977733317, 'n_estimators': 419, 'max_depth': 17, 'random_state': 499, 'min_child_weight': 115}. Best is trial 21 with value: 214.51265322062883.\n"
     ]
    },
    {
     "name": "stdout",
     "output_type": "stream",
     "text": [
      "Mean Absolute Error: 218.93465955498147\n",
      "Mean Absolute Error: 214.28541037596125\n",
      "Mean Absolute Error: 240.97456540558431\n",
      "Mean Absolute Error: 214.3497015494338\n"
     ]
    },
    {
     "name": "stderr",
     "output_type": "stream",
     "text": [
      "[I 2023-10-25 14:30:09,638] Trial 124 finished with value: 226.67276797083142 and parameters: {'lambda': 0.0033067512891404942, 'alpha': 0.002180098237024121, 'colsample_bytree': 0.9, 'subsample': 0.8, 'learning_rate': 0.5881363862375479, 'n_estimators': 562, 'max_depth': 17, 'random_state': 646, 'min_child_weight': 156}. Best is trial 21 with value: 214.51265322062883.\n"
     ]
    },
    {
     "name": "stdout",
     "output_type": "stream",
     "text": [
      "Mean Absolute Error: 224.6940369574761\n",
      "Mean Absolute Error: 232.30740464220148\n"
     ]
    },
    {
     "name": "stderr",
     "output_type": "stream",
     "text": [
      "[I 2023-10-25 14:30:09,994] Trial 125 finished with value: 217.36850296043596 and parameters: {'lambda': 0.0019136219211197832, 'alpha': 0.008445454993429089, 'colsample_bytree': 0.9, 'subsample': 0.8, 'learning_rate': 0.36489748082143036, 'n_estimators': 512, 'max_depth': 13, 'random_state': 607, 'min_child_weight': 164}. Best is trial 21 with value: 214.51265322062883.\n"
     ]
    },
    {
     "name": "stdout",
     "output_type": "stream",
     "text": [
      "Mean Absolute Error: 213.11373959682274\n",
      "Mean Absolute Error: 206.68436464228367\n",
      "Mean Absolute Error: 307.26993875026477\n",
      "Mean Absolute Error: 271.8777624132445\n"
     ]
    },
    {
     "name": "stderr",
     "output_type": "stream",
     "text": [
      "[I 2023-10-25 14:30:10,917] Trial 126 finished with value: 282.7627049664771 and parameters: {'lambda': 0.0012030285964789566, 'alpha': 0.00181378761752862, 'colsample_bytree': 0.6, 'subsample': 0.4, 'learning_rate': 0.48366418448408566, 'n_estimators': 612, 'max_depth': 17, 'random_state': 580, 'min_child_weight': 5}. Best is trial 21 with value: 214.51265322062883.\n"
     ]
    },
    {
     "name": "stdout",
     "output_type": "stream",
     "text": [
      "Mean Absolute Error: 269.14041373592204\n",
      "Mean Absolute Error: 270.1790885479846\n"
     ]
    },
    {
     "name": "stderr",
     "output_type": "stream",
     "text": [
      "[I 2023-10-25 14:30:11,259] Trial 127 finished with value: 240.4221636272141 and parameters: {'lambda': 0.00236013069863904, 'alpha': 0.003382744191532717, 'colsample_bytree': 0.9, 'subsample': 0.8, 'learning_rate': 0.764237448976068, 'n_estimators': 487, 'max_depth': 9, 'random_state': 216, 'min_child_weight': 102}. Best is trial 21 with value: 214.51265322062883.\n"
     ]
    },
    {
     "name": "stdout",
     "output_type": "stream",
     "text": [
      "Mean Absolute Error: 228.39498218080928\n",
      "Mean Absolute Error: 222.6924201528485\n",
      "Mean Absolute Error: 273.37714631862525\n",
      "Mean Absolute Error: 265.39378119355655\n"
     ]
    },
    {
     "name": "stderr",
     "output_type": "stream",
     "text": [
      "[I 2023-10-25 14:30:11,598] Trial 128 finished with value: 264.63559723544614 and parameters: {'lambda': 0.0015035673173141942, 'alpha': 0.0013664947059784454, 'colsample_bytree': 0.9, 'subsample': 0.8, 'learning_rate': 0.20126403691111694, 'n_estimators': 596, 'max_depth': 17, 'random_state': 534, 'min_child_weight': 189}. Best is trial 21 with value: 214.51265322062883.\n"
     ]
    },
    {
     "name": "stdout",
     "output_type": "stream",
     "text": [
      "Mean Absolute Error: 255.13586419415665\n",
      "Mean Absolute Error: 241.5003206716008\n"
     ]
    },
    {
     "name": "stderr",
     "output_type": "stream",
     "text": [
      "[I 2023-10-25 14:30:11,980] Trial 129 finished with value: 229.76827621410084 and parameters: {'lambda': 0.003991050485340688, 'alpha': 0.006008258719734938, 'colsample_bytree': 1.0, 'subsample': 0.8, 'learning_rate': 0.26453479061788227, 'n_estimators': 532, 'max_depth': 13, 'random_state': 557, 'min_child_weight': 131}. Best is trial 21 with value: 214.51265322062883.\n"
     ]
    },
    {
     "name": "stdout",
     "output_type": "stream",
     "text": [
      "Mean Absolute Error: 225.80404186324975\n",
      "Mean Absolute Error: 222.00046610745187\n"
     ]
    },
    {
     "name": "stderr",
     "output_type": "stream",
     "text": [
      "[I 2023-10-25 14:30:12,297] Trial 130 finished with value: 218.42322410191503 and parameters: {'lambda': 0.0018959781178494943, 'alpha': 0.00437251193084563, 'colsample_bytree': 0.9, 'subsample': 0.8, 'learning_rate': 0.3195964538847534, 'n_estimators': 570, 'max_depth': 7, 'random_state': 74, 'min_child_weight': 122}. Best is trial 21 with value: 214.51265322062883.\n"
     ]
    },
    {
     "name": "stdout",
     "output_type": "stream",
     "text": [
      "Mean Absolute Error: 231.76985509003967\n",
      "Mean Absolute Error: 214.3022778634189\n",
      "Mean Absolute Error: 209.1975393522865\n",
      "Mean Absolute Error: 230.97715090580726\n",
      "Mean Absolute Error: 212.61321264619133\n"
     ]
    },
    {
     "name": "stderr",
     "output_type": "stream",
     "text": [
      "[I 2023-10-25 14:30:12,687] Trial 131 finished with value: 216.62107004260284 and parameters: {'lambda': 0.0030386520891092653, 'alpha': 0.0018474366891930163, 'colsample_bytree': 0.9, 'subsample': 0.8, 'learning_rate': 0.42786916019287863, 'n_estimators': 555, 'max_depth': 17, 'random_state': 585, 'min_child_weight': 109}. Best is trial 21 with value: 214.51265322062883.\n"
     ]
    },
    {
     "name": "stdout",
     "output_type": "stream",
     "text": [
      "Mean Absolute Error: 206.2728465758099\n",
      "Mean Absolute Error: 232.17902234293203\n"
     ]
    },
    {
     "name": "stderr",
     "output_type": "stream",
     "text": [
      "[I 2023-10-25 14:30:13,082] Trial 132 finished with value: 215.47028487336414 and parameters: {'lambda': 0.0020728017691232625, 'alpha': 0.002119943490949531, 'colsample_bytree': 0.9, 'subsample': 0.8, 'learning_rate': 0.4338816445175984, 'n_estimators': 461, 'max_depth': 17, 'random_state': 621, 'min_child_weight': 98}. Best is trial 21 with value: 214.51265322062883.\n"
     ]
    },
    {
     "name": "stdout",
     "output_type": "stream",
     "text": [
      "Mean Absolute Error: 211.32330696345548\n",
      "Mean Absolute Error: 202.9085253137049\n",
      "Mean Absolute Error: 248.31010779806135\n",
      "Mean Absolute Error: 217.92990504985048\n"
     ]
    },
    {
     "name": "stderr",
     "output_type": "stream",
     "text": [
      "[I 2023-10-25 14:30:13,473] Trial 133 finished with value: 225.4947030453916 and parameters: {'lambda': 0.002494129730883656, 'alpha': 0.002606466256553358, 'colsample_bytree': 0.9, 'subsample': 0.8, 'learning_rate': 0.5677813322131545, 'n_estimators': 457, 'max_depth': 17, 'random_state': 617, 'min_child_weight': 97}. Best is trial 21 with value: 214.51265322062883.\n"
     ]
    },
    {
     "name": "stdout",
     "output_type": "stream",
     "text": [
      "Mean Absolute Error: 210.244096288263\n",
      "Mean Absolute Error: 230.44166945910402\n"
     ]
    },
    {
     "name": "stderr",
     "output_type": "stream",
     "text": [
      "[I 2023-10-25 14:30:13,879] Trial 134 finished with value: 214.40944629059663 and parameters: {'lambda': 0.0013739848797811455, 'alpha': 0.0022503781162910197, 'colsample_bytree': 0.9, 'subsample': 0.8, 'learning_rate': 0.39342787494457765, 'n_estimators': 370, 'max_depth': 17, 'random_state': 629, 'min_child_weight': 89}. Best is trial 134 with value: 214.40944629059663.\n"
     ]
    },
    {
     "name": "stdout",
     "output_type": "stream",
     "text": [
      "Mean Absolute Error: 212.1969020513296\n",
      "Mean Absolute Error: 200.58976736135625\n",
      "Mean Absolute Error: 233.25640523999488\n",
      "Mean Absolute Error: 211.9933693044229\n"
     ]
    },
    {
     "name": "stderr",
     "output_type": "stream",
     "text": [
      "[I 2023-10-25 14:30:14,296] Trial 135 finished with value: 217.3685158111199 and parameters: {'lambda': 0.0013683897520155074, 'alpha': 0.002259948769965883, 'colsample_bytree': 0.9, 'subsample': 0.8, 'learning_rate': 0.3294549860753017, 'n_estimators': 345, 'max_depth': 17, 'random_state': 677, 'min_child_weight': 86}. Best is trial 134 with value: 214.40944629059663.\n"
     ]
    },
    {
     "name": "stdout",
     "output_type": "stream",
     "text": [
      "Mean Absolute Error: 206.85577288894189\n",
      "Mean Absolute Error: 291.7146144469904\n"
     ]
    },
    {
     "name": "stderr",
     "output_type": "stream",
     "text": [
      "[I 2023-10-25 14:30:14,697] Trial 136 finished with value: 269.66413203317285 and parameters: {'lambda': 0.0011363743188069634, 'alpha': 0.0015718039263069056, 'colsample_bytree': 0.3, 'subsample': 0.6, 'learning_rate': 0.5257197640013161, 'n_estimators': 399, 'max_depth': 17, 'random_state': 630, 'min_child_weight': 91}. Best is trial 134 with value: 214.40944629059663.\n"
     ]
    },
    {
     "name": "stdout",
     "output_type": "stream",
     "text": [
      "Mean Absolute Error: 265.22358526446715\n",
      "Mean Absolute Error: 252.05419638806092\n",
      "Mean Absolute Error: 239.82655869649196\n",
      "Mean Absolute Error: 212.19169927900796\n"
     ]
    },
    {
     "name": "stderr",
     "output_type": "stream",
     "text": [
      "[I 2023-10-25 14:30:15,115] Trial 137 finished with value: 220.12274387232847 and parameters: {'lambda': 0.0017456683919881376, 'alpha': 0.0031505583190498897, 'colsample_bytree': 0.5, 'subsample': 0.8, 'learning_rate': 0.39994225453961657, 'n_estimators': 312, 'max_depth': 17, 'random_state': 477, 'min_child_weight': 75}. Best is trial 134 with value: 214.40944629059663.\n"
     ]
    },
    {
     "name": "stdout",
     "output_type": "stream",
     "text": [
      "Mean Absolute Error: 208.34997364148555\n",
      "Mean Absolute Error: 275.1369752148025\n"
     ]
    },
    {
     "name": "stderr",
     "output_type": "stream",
     "text": [
      "[I 2023-10-25 14:30:15,515] Trial 138 finished with value: 245.29114031332338 and parameters: {'lambda': 0.002014002768853198, 'alpha': 0.00105257313199569, 'colsample_bytree': 0.9, 'subsample': 0.5, 'learning_rate': 0.6789905356241857, 'n_estimators': 433, 'max_depth': 17, 'random_state': 655, 'min_child_weight': 77}. Best is trial 134 with value: 214.40944629059663.\n"
     ]
    },
    {
     "name": "stdout",
     "output_type": "stream",
     "text": [
      "Mean Absolute Error: 236.55156661799853\n",
      "Mean Absolute Error: 224.18487910716917\n",
      "Mean Absolute Error: 242.59181046933824\n",
      "Mean Absolute Error: 230.78313555316544\n"
     ]
    },
    {
     "name": "stderr",
     "output_type": "stream",
     "text": [
      "[I 2023-10-25 14:30:15,907] Trial 139 finished with value: 232.79924177014297 and parameters: {'lambda': 0.0013504697150278414, 'alpha': 0.00205128572504371, 'colsample_bytree': 0.7, 'subsample': 0.8, 'learning_rate': 0.25228065964391583, 'n_estimators': 373, 'max_depth': 17, 'random_state': 598, 'min_child_weight': 103}. Best is trial 134 with value: 214.40944629059663.\n"
     ]
    },
    {
     "name": "stdout",
     "output_type": "stream",
     "text": [
      "Mean Absolute Error: 225.0227792879252\n",
      "Mean Absolute Error: 311.84853495926\n"
     ]
    },
    {
     "name": "stderr",
     "output_type": "stream",
     "text": [
      "[I 2023-10-25 14:30:16,357] Trial 140 finished with value: 306.60899615013994 and parameters: {'lambda': 0.0016524181042258913, 'alpha': 0.0014073948809042863, 'colsample_bytree': 0.8, 'subsample': 0.8, 'learning_rate': 0.15033627362074845, 'n_estimators': 501, 'max_depth': 17, 'random_state': 445, 'min_child_weight': 55}. Best is trial 134 with value: 214.40944629059663.\n"
     ]
    },
    {
     "name": "stdout",
     "output_type": "stream",
     "text": [
      "Mean Absolute Error: 310.30279251472757\n",
      "Mean Absolute Error: 297.6756609764323\n"
     ]
    },
    {
     "name": "stderr",
     "output_type": "stream",
     "text": [
      "[I 2023-10-25 14:30:16,688] Trial 141 finished with value: 219.34499152138062 and parameters: {'lambda': 0.002622028078759175, 'alpha': 0.0026907172843164324, 'colsample_bytree': 0.9, 'subsample': 0.8, 'learning_rate': 0.44634244796068656, 'n_estimators': 471, 'max_depth': 9, 'random_state': 636, 'min_child_weight': 150}. Best is trial 134 with value: 214.40944629059663.\n"
     ]
    },
    {
     "name": "stdout",
     "output_type": "stream",
     "text": [
      "Mean Absolute Error: 239.74296580291286\n",
      "Mean Absolute Error: 211.38904619790424\n",
      "Mean Absolute Error: 206.90296256332476\n",
      "Mean Absolute Error: 230.541628291273\n",
      "Mean Absolute Error: 211.95555119285885\n"
     ]
    },
    {
     "name": "stderr",
     "output_type": "stream",
     "text": [
      "[I 2023-10-25 14:30:17,776] Trial 142 finished with value: 216.7290776119465 and parameters: {'lambda': 0.0010313957758974546, 'alpha': 0.003707105484208861, 'colsample_bytree': 0.9, 'subsample': 0.8, 'learning_rate': 0.35425317731124617, 'n_estimators': 437, 'max_depth': 17, 'random_state': 700, 'min_child_weight': 172}. Best is trial 134 with value: 214.40944629059663.\n"
     ]
    },
    {
     "name": "stdout",
     "output_type": "stream",
     "text": [
      "Mean Absolute Error: 207.69005335170763\n",
      "Mean Absolute Error: 243.30915883938826\n",
      "Mean Absolute Error: 217.4118295639161\n"
     ]
    },
    {
     "name": "stderr",
     "output_type": "stream",
     "text": [
      "[I 2023-10-25 14:30:18,815] Trial 143 finished with value: 221.1389602371565 and parameters: {'lambda': 0.003398640944767931, 'alpha': 0.0017113336886265828, 'colsample_bytree': 0.9, 'subsample': 0.8, 'learning_rate': 0.47600696373160667, 'n_estimators': 191, 'max_depth': 13, 'random_state': 568, 'min_child_weight': 97}. Best is trial 134 with value: 214.40944629059663.\n"
     ]
    },
    {
     "name": "stdout",
     "output_type": "stream",
     "text": [
      "Mean Absolute Error: 202.69589230816524\n",
      "Mean Absolute Error: 746.0012295445721\n"
     ]
    },
    {
     "name": "stderr",
     "output_type": "stream",
     "text": [
      "[I 2023-10-25 14:30:19,162] Trial 144 finished with value: 753.7874401595103 and parameters: {'lambda': 0.001974249594954756, 'alpha': 0.004753596151470769, 'colsample_bytree': 0.9, 'subsample': 0.8, 'learning_rate': 0.012696786735544611, 'n_estimators': 637, 'max_depth': 15, 'random_state': 666, 'min_child_weight': 146}. Best is trial 134 with value: 214.40944629059663.\n"
     ]
    },
    {
     "name": "stdout",
     "output_type": "stream",
     "text": [
      "Mean Absolute Error: 770.4200956037869\n",
      "Mean Absolute Error: 744.9409953301717\n"
     ]
    },
    {
     "name": "stderr",
     "output_type": "stream",
     "text": [
      "[I 2023-10-25 14:30:19,494] Trial 145 finished with value: 242.12820287622324 and parameters: {'lambda': 0.002258000808561253, 'alpha': 0.0022816852213987534, 'colsample_bytree': 0.9, 'subsample': 0.7, 'learning_rate': 0.831067704210304, 'n_estimators': 506, 'max_depth': 11, 'random_state': 613, 'min_child_weight': 159}. Best is trial 134 with value: 214.40944629059663.\n"
     ]
    },
    {
     "name": "stdout",
     "output_type": "stream",
     "text": [
      "Mean Absolute Error: 262.18941655128424\n",
      "Mean Absolute Error: 241.1250097058866\n",
      "Mean Absolute Error: 223.07018237149887\n",
      "Mean Absolute Error: 230.8260374975461\n",
      "Mean Absolute Error: 223.37137261230427\n"
     ]
    },
    {
     "name": "stderr",
     "output_type": "stream",
     "text": [
      "[I 2023-10-25 14:30:19,873] Trial 146 finished with value: 222.0231027962354 and parameters: {'lambda': 0.0029830737634584277, 'alpha': 0.009906111585135368, 'colsample_bytree': 0.9, 'subsample': 0.8, 'learning_rate': 0.30838681452936045, 'n_estimators': 386, 'max_depth': 17, 'random_state': 643, 'min_child_weight': 118}. Best is trial 134 with value: 214.40944629059663.\n"
     ]
    },
    {
     "name": "stdout",
     "output_type": "stream",
     "text": [
      "Mean Absolute Error: 211.87189827885587\n",
      "Mean Absolute Error: 245.75702953164995\n"
     ]
    },
    {
     "name": "stderr",
     "output_type": "stream",
     "text": [
      "[I 2023-10-25 14:30:20,237] Trial 147 finished with value: 228.29733130464547 and parameters: {'lambda': 0.004528763675698349, 'alpha': 0.0028951401471360365, 'colsample_bytree': 0.4, 'subsample': 0.8, 'learning_rate': 0.6103626810087021, 'n_estimators': 255, 'max_depth': 17, 'random_state': 508, 'min_child_weight': 139}. Best is trial 134 with value: 214.40944629059663.\n"
     ]
    },
    {
     "name": "stdout",
     "output_type": "stream",
     "text": [
      "Mean Absolute Error: 223.1016266449342\n",
      "Mean Absolute Error: 216.0333377373522\n",
      "Mean Absolute Error: 227.61103721502425\n",
      "Mean Absolute Error: 208.3910007823191\n"
     ]
    },
    {
     "name": "stderr",
     "output_type": "stream",
     "text": [
      "[I 2023-10-25 14:30:20,615] Trial 148 finished with value: 212.95961399599673 and parameters: {'lambda': 0.0014379830852848591, 'alpha': 0.0011776334600574765, 'colsample_bytree': 0.9, 'subsample': 0.8, 'learning_rate': 0.3920948018175181, 'n_estimators': 530, 'max_depth': 13, 'random_state': 594, 'min_child_weight': 113}. Best is trial 148 with value: 212.95961399599673.\n"
     ]
    },
    {
     "name": "stdout",
     "output_type": "stream",
     "text": [
      "Mean Absolute Error: 202.87680399064686\n",
      "Mean Absolute Error: 259.8616295245367\n"
     ]
    },
    {
     "name": "stderr",
     "output_type": "stream",
     "text": [
      "[I 2023-10-25 14:30:20,991] Trial 149 finished with value: 250.0058819343437 and parameters: {'lambda': 0.0014148164344986217, 'alpha': 0.0011837421392775784, 'colsample_bytree': 0.9, 'subsample': 0.8, 'learning_rate': 0.2173651839355967, 'n_estimators': 585, 'max_depth': 17, 'random_state': 548, 'min_child_weight': 111}. Best is trial 148 with value: 212.95961399599673.\n"
     ]
    },
    {
     "name": "stdout",
     "output_type": "stream",
     "text": [
      "Mean Absolute Error: 247.79697956332947\n",
      "Mean Absolute Error: 242.359036715165\n",
      "Mean Absolute Error: 230.72719697360407\n",
      "Mean Absolute Error: 208.77931684954945\n"
     ]
    },
    {
     "name": "stderr",
     "output_type": "stream",
     "text": [
      "[I 2023-10-25 14:30:21,378] Trial 150 finished with value: 215.37703103664168 and parameters: {'lambda': 0.0016133008723488958, 'alpha': 0.0014174080487230904, 'colsample_bytree': 0.8, 'subsample': 1.0, 'learning_rate': 0.3738794054009502, 'n_estimators': 460, 'max_depth': 13, 'random_state': 593, 'min_child_weight': 104}. Best is trial 148 with value: 212.95961399599673.\n"
     ]
    },
    {
     "name": "stdout",
     "output_type": "stream",
     "text": [
      "Mean Absolute Error: 206.62457928677154\n",
      "Mean Absolute Error: 233.28781907612566\n"
     ]
    },
    {
     "name": "stderr",
     "output_type": "stream",
     "text": [
      "[I 2023-10-25 14:30:21,746] Trial 151 finished with value: 216.15324377898332 and parameters: {'lambda': 0.0016392044170424397, 'alpha': 0.0014952866938929173, 'colsample_bytree': 0.8, 'subsample': 1.0, 'learning_rate': 0.37923307397452233, 'n_estimators': 482, 'max_depth': 13, 'random_state': 588, 'min_child_weight': 104}. Best is trial 148 with value: 212.95961399599673.\n"
     ]
    },
    {
     "name": "stdout",
     "output_type": "stream",
     "text": [
      "Mean Absolute Error: 209.7536158786067\n",
      "Mean Absolute Error: 205.41829638221762\n",
      "Mean Absolute Error: 238.90889997277216\n",
      "Mean Absolute Error: 222.27477282068432\n"
     ]
    },
    {
     "name": "stderr",
     "output_type": "stream",
     "text": [
      "[I 2023-10-25 14:30:22,168] Trial 152 finished with value: 224.27899958561224 and parameters: {'lambda': 0.0012313448330168429, 'alpha': 0.0018733708083682982, 'colsample_bytree': 0.8, 'subsample': 1.0, 'learning_rate': 0.2866744099425309, 'n_estimators': 458, 'max_depth': 13, 'random_state': 617, 'min_child_weight': 85}. Best is trial 148 with value: 212.95961399599673.\n"
     ]
    },
    {
     "name": "stdout",
     "output_type": "stream",
     "text": [
      "Mean Absolute Error: 211.6533259633802\n",
      "Mean Absolute Error: 247.47926178397822\n"
     ]
    },
    {
     "name": "stderr",
     "output_type": "stream",
     "text": [
      "[I 2023-10-25 14:30:22,560] Trial 153 finished with value: 221.42401234537434 and parameters: {'lambda': 0.001007306977429779, 'alpha': 0.0012945455132503155, 'colsample_bytree': 0.8, 'subsample': 1.0, 'learning_rate': 0.5091248727262834, 'n_estimators': 413, 'max_depth': 13, 'random_state': 583, 'min_child_weight': 93}. Best is trial 148 with value: 212.95961399599673.\n"
     ]
    },
    {
     "name": "stdout",
     "output_type": "stream",
     "text": [
      "Mean Absolute Error: 212.6706731064236\n",
      "Mean Absolute Error: 204.12210214572124\n",
      "Mean Absolute Error: 225.5423605973611\n",
      "Mean Absolute Error: 215.73210182946173\n"
     ]
    },
    {
     "name": "stderr",
     "output_type": "stream",
     "text": [
      "[I 2023-10-25 14:30:22,919] Trial 154 finished with value: 215.95639371418056 and parameters: {'lambda': 0.0021803133992572546, 'alpha': 0.0010798706668017253, 'colsample_bytree': 0.8, 'subsample': 0.8, 'learning_rate': 0.3486255594654794, 'n_estimators': 517, 'max_depth': 13, 'random_state': 568, 'min_child_weight': 125}. Best is trial 148 with value: 212.95961399599673.\n"
     ]
    },
    {
     "name": "stdout",
     "output_type": "stream",
     "text": [
      "Mean Absolute Error: 206.59471871571884\n",
      "Mean Absolute Error: 230.72169923283568\n"
     ]
    },
    {
     "name": "stderr",
     "output_type": "stream",
     "text": [
      "[I 2023-10-25 14:30:23,204] Trial 155 finished with value: 214.9558065688766 and parameters: {'lambda': 0.0017061579769903315, 'alpha': 0.0017148910859462797, 'colsample_bytree': 0.9, 'subsample': 1.0, 'learning_rate': 0.4319201748561794, 'n_estimators': 553, 'max_depth': 5, 'random_state': 524, 'min_child_weight': 114}. Best is trial 148 with value: 212.95961399599673.\n"
     ]
    },
    {
     "name": "stdout",
     "output_type": "stream",
     "text": [
      "Mean Absolute Error: 205.99923430158796\n",
      "Mean Absolute Error: 208.14648617220612\n",
      "Mean Absolute Error: 238.82885069307022\n",
      "Mean Absolute Error: 226.53550992797116\n"
     ]
    },
    {
     "name": "stderr",
     "output_type": "stream",
     "text": [
      "[I 2023-10-25 14:30:23,567] Trial 156 finished with value: 227.92517720224643 and parameters: {'lambda': 0.0015007977881900869, 'alpha': 0.001515399213429401, 'colsample_bytree': 0.9, 'subsample': 1.0, 'learning_rate': 0.25708133880314754, 'n_estimators': 536, 'max_depth': 9, 'random_state': 537, 'min_child_weight': 114}. Best is trial 148 with value: 212.95961399599673.\n"
     ]
    },
    {
     "name": "stdout",
     "output_type": "stream",
     "text": [
      "Mean Absolute Error: 218.41117098569785\n",
      "Mean Absolute Error: 253.04898333512256\n",
      "Mean Absolute Error: 219.25575369906875\n"
     ]
    },
    {
     "name": "stderr",
     "output_type": "stream",
     "text": [
      "[I 2023-10-25 14:30:23,849] Trial 157 finished with value: 227.74218769020885 and parameters: {'lambda': 0.0018806437056466006, 'alpha': 0.0010151118771217999, 'colsample_bytree': 0.8, 'subsample': 1.0, 'learning_rate': 0.6029785980389736, 'n_estimators': 442, 'max_depth': 5, 'random_state': 595, 'min_child_weight': 101}. Best is trial 148 with value: 212.95961399599673.\n"
     ]
    },
    {
     "name": "stdout",
     "output_type": "stream",
     "text": [
      "Mean Absolute Error: 210.92182603643525\n",
      "Mean Absolute Error: 240.47975034294797\n",
      "Mean Absolute Error: 209.27684508123323\n"
     ]
    },
    {
     "name": "stderr",
     "output_type": "stream",
     "text": [
      "[I 2023-10-25 14:30:24,119] Trial 158 finished with value: 217.5328922993292 and parameters: {'lambda': 0.04770900737882168, 'alpha': 0.0022777488720423142, 'colsample_bytree': 0.6, 'subsample': 1.0, 'learning_rate': 0.4470234252134651, 'n_estimators': 149, 'max_depth': 5, 'random_state': 633, 'min_child_weight': 119}. Best is trial 148 with value: 212.95961399599673.\n"
     ]
    },
    {
     "name": "stdout",
     "output_type": "stream",
     "text": [
      "Mean Absolute Error: 202.84208147380645\n",
      "Mean Absolute Error: 232.51307112934344\n",
      "Mean Absolute Error: 219.24667971888994\n"
     ]
    },
    {
     "name": "stderr",
     "output_type": "stream",
     "text": [
      "[I 2023-10-25 14:30:24,402] Trial 159 finished with value: 222.46157006829517 and parameters: {'lambda': 0.0012006012005931655, 'alpha': 0.0012717642795998581, 'colsample_bytree': 0.7, 'subsample': 1.0, 'learning_rate': 0.304621359791361, 'n_estimators': 575, 'max_depth': 5, 'random_state': 557, 'min_child_weight': 106}. Best is trial 148 with value: 212.95961399599673.\n"
     ]
    },
    {
     "name": "stdout",
     "output_type": "stream",
     "text": [
      "Mean Absolute Error: 215.62495935665225\n",
      "Mean Absolute Error: 282.7792420907826\n",
      "Mean Absolute Error: 281.1927061921754\n"
     ]
    },
    {
     "name": "stderr",
     "output_type": "stream",
     "text": [
      "[I 2023-10-25 14:30:24,692] Trial 160 finished with value: 279.5549711500665 and parameters: {'lambda': 0.0017279215562255573, 'alpha': 0.015419160548197686, 'colsample_bytree': 0.9, 'subsample': 1.0, 'learning_rate': 0.18016378343477, 'n_estimators': 483, 'max_depth': 5, 'random_state': 612, 'min_child_weight': 111}. Best is trial 148 with value: 212.95961399599673.\n"
     ]
    },
    {
     "name": "stdout",
     "output_type": "stream",
     "text": [
      "Mean Absolute Error: 274.6929651672414\n",
      "Mean Absolute Error: 226.37794460276214\n"
     ]
    },
    {
     "name": "stderr",
     "output_type": "stream",
     "text": [
      "[I 2023-10-25 14:30:25,076] Trial 161 finished with value: 213.66033234831298 and parameters: {'lambda': 0.0025998748952273127, 'alpha': 0.0017649328375126242, 'colsample_bytree': 0.9, 'subsample': 0.8, 'learning_rate': 0.3878452915400536, 'n_estimators': 551, 'max_depth': 11, 'random_state': 473, 'min_child_weight': 91}. Best is trial 148 with value: 212.95961399599673.\n"
     ]
    },
    {
     "name": "stdout",
     "output_type": "stream",
     "text": [
      "Mean Absolute Error: 211.04658265917627\n",
      "Mean Absolute Error: 203.5564697830005\n",
      "Mean Absolute Error: 232.42624133829895\n",
      "Mean Absolute Error: 208.37521847738716\n"
     ]
    },
    {
     "name": "stderr",
     "output_type": "stream",
     "text": [
      "[I 2023-10-25 14:30:25,469] Trial 162 finished with value: 215.52673742996217 and parameters: {'lambda': 0.002220229626503125, 'alpha': 0.001794198818317491, 'colsample_bytree': 0.9, 'subsample': 0.8, 'learning_rate': 0.3818191650183232, 'n_estimators': 622, 'max_depth': 11, 'random_state': 497, 'min_child_weight': 93}. Best is trial 148 with value: 212.95961399599673.\n"
     ]
    },
    {
     "name": "stdout",
     "output_type": "stream",
     "text": [
      "Mean Absolute Error: 205.7787524742003\n",
      "Mean Absolute Error: 244.32166379507075\n"
     ]
    },
    {
     "name": "stderr",
     "output_type": "stream",
     "text": [
      "[I 2023-10-25 14:30:25,812] Trial 163 finished with value: 225.96243409899193 and parameters: {'lambda': 0.001382630789899442, 'alpha': 0.001627112207452735, 'colsample_bytree': 0.9, 'subsample': 0.4, 'learning_rate': 0.5220203808049285, 'n_estimators': 604, 'max_depth': 11, 'random_state': 464, 'min_child_weight': 89}. Best is trial 148 with value: 212.95961399599673.\n"
     ]
    },
    {
     "name": "stdout",
     "output_type": "stream",
     "text": [
      "Mean Absolute Error: 216.66345981512154\n",
      "Mean Absolute Error: 216.90217868678351\n",
      "Mean Absolute Error: 232.25393721171477\n",
      "Mean Absolute Error: 208.93211648724326\n"
     ]
    },
    {
     "name": "stderr",
     "output_type": "stream",
     "text": [
      "[I 2023-10-25 14:30:26,221] Trial 164 finished with value: 214.92709678512384 and parameters: {'lambda': 0.0027009984146211165, 'alpha': 0.002069431509851212, 'colsample_bytree': 0.9, 'subsample': 0.8, 'learning_rate': 0.3906078884552418, 'n_estimators': 498, 'max_depth': 11, 'random_state': 491, 'min_child_weight': 67}. Best is trial 148 with value: 212.95961399599673.\n"
     ]
    },
    {
     "name": "stdout",
     "output_type": "stream",
     "text": [
      "Mean Absolute Error: 203.59523665641348\n",
      "Mean Absolute Error: 234.8065122996476\n"
     ]
    },
    {
     "name": "stderr",
     "output_type": "stream",
     "text": [
      "[I 2023-10-25 14:30:26,620] Trial 165 finished with value: 218.22639783071597 and parameters: {'lambda': 0.002612421320730028, 'alpha': 0.0019607393035797685, 'colsample_bytree': 0.9, 'subsample': 0.8, 'learning_rate': 0.4295280693305914, 'n_estimators': 615, 'max_depth': 11, 'random_state': 511, 'min_child_weight': 71}. Best is trial 148 with value: 212.95961399599673.\n"
     ]
    },
    {
     "name": "stdout",
     "output_type": "stream",
     "text": [
      "Mean Absolute Error: 212.67019271760137\n",
      "Mean Absolute Error: 207.20248847489896\n"
     ]
    },
    {
     "name": "stderr",
     "output_type": "stream",
     "text": [
      "[I 2023-10-25 14:30:26,944] Trial 166 finished with value: 235.63430435679038 and parameters: {'lambda': 0.0036672416931437246, 'alpha': 0.0012669524406878105, 'colsample_bytree': 0.9, 'subsample': 0.8, 'learning_rate': 0.683409775868855, 'n_estimators': 528, 'max_depth': 11, 'random_state': 493, 'min_child_weight': 300}. Best is trial 148 with value: 212.95961399599673.\n"
     ]
    },
    {
     "name": "stdout",
     "output_type": "stream",
     "text": [
      "Mean Absolute Error: 257.8429189476592\n",
      "Mean Absolute Error: 231.1473294672603\n",
      "Mean Absolute Error: 217.9126646554517\n",
      "Mean Absolute Error: 244.00594028602706\n",
      "Mean Absolute Error: 218.31841365915838\n"
     ]
    },
    {
     "name": "stderr",
     "output_type": "stream",
     "text": [
      "[I 2023-10-25 14:30:27,292] Trial 167 finished with value: 224.03432241647738 and parameters: {'lambda': 0.00231301813304352, 'alpha': 0.0021146150259585836, 'colsample_bytree': 0.9, 'subsample': 1.0, 'learning_rate': 0.5406338002483508, 'n_estimators': 496, 'max_depth': 11, 'random_state': 429, 'min_child_weight': 232}. Best is trial 148 with value: 212.95961399599673.\n"
     ]
    },
    {
     "name": "stdout",
     "output_type": "stream",
     "text": [
      "Mean Absolute Error: 209.77861330424673\n",
      "Mean Absolute Error: 243.40208448158413\n"
     ]
    },
    {
     "name": "stderr",
     "output_type": "stream",
     "text": [
      "[I 2023-10-25 14:30:27,691] Trial 168 finished with value: 233.73833073784272 and parameters: {'lambda': 0.006393151805979911, 'alpha': 0.0031141857341940903, 'colsample_bytree': 0.9, 'subsample': 0.8, 'learning_rate': 0.24253067833811268, 'n_estimators': 222, 'max_depth': 11, 'random_state': 529, 'min_child_weight': 80}. Best is trial 148 with value: 212.95961399599673.\n"
     ]
    },
    {
     "name": "stdout",
     "output_type": "stream",
     "text": [
      "Mean Absolute Error: 232.48046680157987\n",
      "Mean Absolute Error: 225.33244093036413\n",
      "Mean Absolute Error: 240.02090976087746\n",
      "Mean Absolute Error: 213.25764550277825\n"
     ]
    },
    {
     "name": "stderr",
     "output_type": "stream",
     "text": [
      "[I 2023-10-25 14:30:28,078] Trial 169 finished with value: 220.92189525464332 and parameters: {'lambda': 0.002880012287363516, 'alpha': 0.061162506418696784, 'colsample_bytree': 0.9, 'subsample': 0.6, 'learning_rate': 0.40609284122775835, 'n_estimators': 628, 'max_depth': 11, 'random_state': 384, 'min_child_weight': 58}. Best is trial 148 with value: 212.95961399599673.\n"
     ]
    },
    {
     "name": "stdout",
     "output_type": "stream",
     "text": [
      "Mean Absolute Error: 209.48713050027428\n",
      "Mean Absolute Error: 260.77860519357057\n"
     ]
    },
    {
     "name": "stderr",
     "output_type": "stream",
     "text": [
      "[I 2023-10-25 14:30:28,443] Trial 170 finished with value: 235.82268016572934 and parameters: {'lambda': 0.001871063845418115, 'alpha': 0.002416185327694342, 'colsample_bytree': 0.9, 'subsample': 0.8, 'learning_rate': 0.7510225698138823, 'n_estimators': 539, 'max_depth': 11, 'random_state': 464, 'min_child_weight': 96}. Best is trial 148 with value: 212.95961399599673.\n"
     ]
    },
    {
     "name": "stdout",
     "output_type": "stream",
     "text": [
      "Mean Absolute Error: 229.87674064923482\n",
      "Mean Absolute Error: 216.8126946543826\n",
      "Mean Absolute Error: 233.8939164622927\n",
      "Mean Absolute Error: 216.51448377852208\n"
     ]
    },
    {
     "name": "stderr",
     "output_type": "stream",
     "text": [
      "[I 2023-10-25 14:30:28,913] Trial 171 finished with value: 220.2283556823463 and parameters: {'lambda': 0.0015754811194224868, 'alpha': 0.0016190519128946779, 'colsample_bytree': 0.9, 'subsample': 0.8, 'learning_rate': 0.34261779698984585, 'n_estimators': 465, 'max_depth': 11, 'random_state': 502, 'min_child_weight': 36}. Best is trial 148 with value: 212.95961399599673.\n"
     ]
    },
    {
     "name": "stdout",
     "output_type": "stream",
     "text": [
      "Mean Absolute Error: 210.27666680622409\n",
      "Mean Absolute Error: 233.62044009113208\n"
     ]
    },
    {
     "name": "stderr",
     "output_type": "stream",
     "text": [
      "[I 2023-10-25 14:30:29,358] Trial 172 finished with value: 218.61644787734136 and parameters: {'lambda': 0.27186182809248954, 'alpha': 0.0017712305937792178, 'colsample_bytree': 0.9, 'subsample': 0.8, 'learning_rate': 0.3767943484187943, 'n_estimators': 360, 'max_depth': 11, 'random_state': 330, 'min_child_weight': 48}. Best is trial 148 with value: 212.95961399599673.\n"
     ]
    },
    {
     "name": "stdout",
     "output_type": "stream",
     "text": [
      "Mean Absolute Error: 216.38626321942255\n",
      "Mean Absolute Error: 205.84264032146947\n",
      "Mean Absolute Error: 239.6243148064545\n",
      "Mean Absolute Error: 216.3097805961698\n"
     ]
    },
    {
     "name": "stderr",
     "output_type": "stream",
     "text": [
      "[I 2023-10-25 14:30:29,757] Trial 173 finished with value: 220.66703987124265 and parameters: {'lambda': 0.0021642663330676973, 'alpha': 0.001427821645285587, 'colsample_bytree': 1.0, 'subsample': 0.8, 'learning_rate': 0.464347692764422, 'n_estimators': 560, 'max_depth': 11, 'random_state': 407, 'min_child_weight': 100}. Best is trial 148 with value: 212.95961399599673.\n"
     ]
    },
    {
     "name": "stdout",
     "output_type": "stream",
     "text": [
      "Mean Absolute Error: 206.06702421110364\n",
      "Mean Absolute Error: 234.35749435917552\n"
     ]
    },
    {
     "name": "stderr",
     "output_type": "stream",
     "text": [
      "[I 2023-10-25 14:30:30,209] Trial 174 finished with value: 222.4760720482324 and parameters: {'lambda': 0.001173473760651652, 'alpha': 0.0012056738832060554, 'colsample_bytree': 0.9, 'subsample': 0.8, 'learning_rate': 0.2880303403682923, 'n_estimators': 519, 'max_depth': 11, 'random_state': 491, 'min_child_weight': 64}. Best is trial 148 with value: 212.95961399599673.\n"
     ]
    },
    {
     "name": "stdout",
     "output_type": "stream",
     "text": [
      "Mean Absolute Error: 218.3992949477042\n",
      "Mean Absolute Error: 214.6714268378176\n",
      "Mean Absolute Error: 274.01618960756844\n",
      "Mean Absolute Error: 231.06368959534174\n"
     ]
    },
    {
     "name": "stderr",
     "output_type": "stream",
     "text": [
      "[I 2023-10-25 14:30:30,594] Trial 175 finished with value: 247.4715877176501 and parameters: {'lambda': 0.001691154876901792, 'alpha': 0.002023746764160592, 'colsample_bytree': 0.8, 'subsample': 0.8, 'learning_rate': 0.9785134177365237, 'n_estimators': 586, 'max_depth': 15, 'random_state': 657, 'min_child_weight': 200}. Best is trial 148 with value: 212.95961399599673.\n"
     ]
    },
    {
     "name": "stdout",
     "output_type": "stream",
     "text": [
      "Mean Absolute Error: 237.33488395004008\n",
      "Mean Absolute Error: 240.0816912430085\n"
     ]
    },
    {
     "name": "stderr",
     "output_type": "stream",
     "text": [
      "[I 2023-10-25 14:30:30,943] Trial 176 finished with value: 225.36158241457716 and parameters: {'lambda': 0.0028477438432586793, 'alpha': 0.0015041802505907612, 'colsample_bytree': 0.5, 'subsample': 0.5, 'learning_rate': 0.5559527597334311, 'n_estimators': 426, 'max_depth': 13, 'random_state': 519, 'min_child_weight': 94}. Best is trial 148 with value: 212.95961399599673.\n"
     ]
    },
    {
     "name": "stdout",
     "output_type": "stream",
     "text": [
      "Mean Absolute Error: 221.01047410368164\n",
      "Mean Absolute Error: 214.9925818970414\n"
     ]
    },
    {
     "name": "stderr",
     "output_type": "stream",
     "text": [
      "[I 2023-10-25 14:30:31,248] Trial 177 finished with value: 524.5466551208193 and parameters: {'lambda': 0.0013499461292493763, 'alpha': 0.030704434775251248, 'colsample_bytree': 0.3, 'subsample': 0.8, 'learning_rate': 0.0615970634966104, 'n_estimators': 495, 'max_depth': 7, 'random_state': 686, 'min_child_weight': 129}. Best is trial 148 with value: 212.95961399599673.\n"
     ]
    },
    {
     "name": "stdout",
     "output_type": "stream",
     "text": [
      "Mean Absolute Error: 525.7457567705297\n",
      "Mean Absolute Error: 533.3563755112325\n",
      "Mean Absolute Error: 514.5378330806956\n",
      "Mean Absolute Error: 230.83982115573542\n",
      "Mean Absolute Error: 211.2423403532309\n"
     ]
    },
    {
     "name": "stderr",
     "output_type": "stream",
     "text": [
      "[I 2023-10-25 14:30:31,634] Trial 178 finished with value: 215.76894420357885 and parameters: {'lambda': 0.018738385627700457, 'alpha': 0.0025400874139272452, 'colsample_bytree': 0.9, 'subsample': 0.8, 'learning_rate': 0.3634145003111731, 'n_estimators': 465, 'max_depth': 13, 'random_state': 549, 'min_child_weight': 87}. Best is trial 148 with value: 212.95961399599673.\n"
     ]
    },
    {
     "name": "stdout",
     "output_type": "stream",
     "text": [
      "Mean Absolute Error: 205.2246711017703\n",
      "Mean Absolute Error: 255.70143578525597\n"
     ]
    },
    {
     "name": "stderr",
     "output_type": "stream",
     "text": [
      "[I 2023-10-25 14:30:31,998] Trial 179 finished with value: 247.350703971871 and parameters: {'lambda': 0.0020886542126631377, 'alpha': 0.0037984139955806826, 'colsample_bytree': 0.9, 'subsample': 0.7, 'learning_rate': 0.22165576162047881, 'n_estimators': 566, 'max_depth': 11, 'random_state': 443, 'min_child_weight': 114}. Best is trial 148 with value: 212.95961399599673.\n"
     ]
    },
    {
     "name": "stdout",
     "output_type": "stream",
     "text": [
      "Mean Absolute Error: 248.01982368946477\n",
      "Mean Absolute Error: 238.33085244089236\n"
     ]
    },
    {
     "name": "stderr",
     "output_type": "stream",
     "text": [
      "[I 2023-10-25 14:30:32,282] Trial 180 finished with value: 222.62611102373907 and parameters: {'lambda': 0.0036075998218707485, 'alpha': 0.0174002705088542, 'colsample_bytree': 0.7, 'subsample': 0.8, 'learning_rate': 0.4402372603491229, 'n_estimators': 666, 'max_depth': 5, 'random_state': 630, 'min_child_weight': 119}. Best is trial 148 with value: 212.95961399599673.\n"
     ]
    },
    {
     "name": "stdout",
     "output_type": "stream",
     "text": [
      "Mean Absolute Error: 240.88319934892652\n",
      "Mean Absolute Error: 216.75395796095663\n",
      "Mean Absolute Error: 210.24117576133406\n",
      "Mean Absolute Error: 228.43678909620445\n",
      "Mean Absolute Error: 210.7116981950004\n"
     ]
    },
    {
     "name": "stderr",
     "output_type": "stream",
     "text": [
      "[I 2023-10-25 14:30:32,674] Trial 181 finished with value: 215.59025419207242 and parameters: {'lambda': 0.002476975149488989, 'alpha': 0.00239022194826472, 'colsample_bytree': 0.9, 'subsample': 0.8, 'learning_rate': 0.35836079555342154, 'n_estimators': 464, 'max_depth': 13, 'random_state': 539, 'min_child_weight': 86}. Best is trial 148 with value: 212.95961399599673.\n"
     ]
    },
    {
     "name": "stdout",
     "output_type": "stream",
     "text": [
      "Mean Absolute Error: 207.6222752850125\n",
      "Mean Absolute Error: 238.04641484417735\n"
     ]
    },
    {
     "name": "stderr",
     "output_type": "stream",
     "text": [
      "[I 2023-10-25 14:30:33,120] Trial 182 finished with value: 226.1767201534852 and parameters: {'lambda': 0.0026082561783077607, 'alpha': 0.011809673076748302, 'colsample_bytree': 0.9, 'subsample': 0.8, 'learning_rate': 0.27047683933498856, 'n_estimators': 447, 'max_depth': 13, 'random_state': 533, 'min_child_weight': 64}. Best is trial 148 with value: 212.95961399599673.\n"
     ]
    },
    {
     "name": "stdout",
     "output_type": "stream",
     "text": [
      "Mean Absolute Error: 225.12884161354324\n",
      "Mean Absolute Error: 215.35490400273497\n",
      "Mean Absolute Error: 228.67706961144387\n",
      "Mean Absolute Error: 217.8631565365417\n"
     ]
    },
    {
     "name": "stderr",
     "output_type": "stream",
     "text": [
      "[I 2023-10-25 14:30:33,534] Trial 183 finished with value: 217.82231805325372 and parameters: {'lambda': 0.0018190650358082278, 'alpha': 0.001894566221008343, 'colsample_bytree': 0.9, 'subsample': 0.8, 'learning_rate': 0.31674878874598816, 'n_estimators': 499, 'max_depth': 13, 'random_state': 483, 'min_child_weight': 85}. Best is trial 148 with value: 212.95961399599673.\n"
     ]
    },
    {
     "name": "stdout",
     "output_type": "stream",
     "text": [
      "Mean Absolute Error: 206.92672801177562\n",
      "Mean Absolute Error: 242.27843591237408\n"
     ]
    },
    {
     "name": "stderr",
     "output_type": "stream",
     "text": [
      "[I 2023-10-25 14:30:33,944] Trial 184 finished with value: 222.58722398917607 and parameters: {'lambda': 0.0015257384166646388, 'alpha': 0.003094417169682863, 'colsample_bytree': 0.9, 'subsample': 0.8, 'learning_rate': 0.4855800411606516, 'n_estimators': 411, 'max_depth': 13, 'random_state': 568, 'min_child_weight': 80}. Best is trial 148 with value: 212.95961399599673.\n"
     ]
    },
    {
     "name": "stdout",
     "output_type": "stream",
     "text": [
      "Mean Absolute Error: 219.49085647648226\n",
      "Mean Absolute Error: 205.9923795786718\n",
      "Mean Absolute Error: 228.16513777873146\n",
      "Mean Absolute Error: 210.8408133987285\n"
     ]
    },
    {
     "name": "stderr",
     "output_type": "stream",
     "text": [
      "[I 2023-10-25 14:30:34,335] Trial 185 finished with value: 213.7205775172337 and parameters: {'lambda': 0.0023867086615021725, 'alpha': 0.0021731255171511207, 'colsample_bytree': 0.9, 'subsample': 0.8, 'learning_rate': 0.37715045714242884, 'n_estimators': 481, 'max_depth': 13, 'random_state': 603, 'min_child_weight': 103}. Best is trial 148 with value: 212.95961399599673.\n"
     ]
    },
    {
     "name": "stdout",
     "output_type": "stream",
     "text": [
      "Mean Absolute Error: 202.15578137424117\n",
      "Mean Absolute Error: 257.31089527098686\n"
     ]
    },
    {
     "name": "stderr",
     "output_type": "stream",
     "text": [
      "[I 2023-10-25 14:30:34,720] Trial 186 finished with value: 226.9944142733261 and parameters: {'lambda': 0.0031878894264001523, 'alpha': 0.02096422701647825, 'colsample_bytree': 0.9, 'subsample': 0.8, 'learning_rate': 0.6135452692492606, 'n_estimators': 538, 'max_depth': 13, 'random_state': 512, 'min_child_weight': 91}. Best is trial 148 with value: 212.95961399599673.\n"
     ]
    },
    {
     "name": "stdout",
     "output_type": "stream",
     "text": [
      "Mean Absolute Error: 216.7648220990226\n",
      "Mean Absolute Error: 206.90752544996886\n",
      "Mean Absolute Error: 230.95686114167862\n",
      "Mean Absolute Error: 210.64754161477134\n"
     ]
    },
    {
     "name": "stderr",
     "output_type": "stream",
     "text": [
      "[I 2023-10-25 14:30:35,107] Trial 187 finished with value: 216.0374635863243 and parameters: {'lambda': 0.002372574437970502, 'alpha': 0.002373782307343646, 'colsample_bytree': 0.9, 'subsample': 0.8, 'learning_rate': 0.39385241175240304, 'n_estimators': 515, 'max_depth': 13, 'random_state': 595, 'min_child_weight': 107}. Best is trial 148 with value: 212.95961399599673.\n"
     ]
    },
    {
     "name": "stdout",
     "output_type": "stream",
     "text": [
      "Mean Absolute Error: 206.50798800252295\n",
      "Mean Absolute Error: 235.63506759118386\n"
     ]
    },
    {
     "name": "stderr",
     "output_type": "stream",
     "text": [
      "[I 2023-10-25 14:30:35,453] Trial 188 finished with value: 224.1143361990739 and parameters: {'lambda': 0.004807938061779162, 'alpha': 0.0035743842787046244, 'colsample_bytree': 0.9, 'subsample': 0.8, 'learning_rate': 0.3106061082524354, 'n_estimators': 476, 'max_depth': 13, 'random_state': 558, 'min_child_weight': 221}. Best is trial 148 with value: 212.95961399599673.\n"
     ]
    },
    {
     "name": "stdout",
     "output_type": "stream",
     "text": [
      "Mean Absolute Error: 218.31133989804846\n",
      "Mean Absolute Error: 218.39660110798937\n",
      "Mean Absolute Error: 236.7458622708986\n",
      "Mean Absolute Error: 212.6555159347717\n"
     ]
    },
    {
     "name": "stderr",
     "output_type": "stream",
     "text": [
      "[I 2023-10-25 14:30:35,836] Trial 189 finished with value: 217.8507155840263 and parameters: {'lambda': 0.004144002986307868, 'alpha': 0.007408728688883688, 'colsample_bytree': 0.9, 'subsample': 0.8, 'learning_rate': 0.4802521643905716, 'n_estimators': 597, 'max_depth': 13, 'random_state': 607, 'min_child_weight': 100}. Best is trial 148 with value: 212.95961399599673.\n"
     ]
    },
    {
     "name": "stdout",
     "output_type": "stream",
     "text": [
      "Mean Absolute Error: 204.15076854640853\n",
      "Mean Absolute Error: 230.62628631988733\n"
     ]
    },
    {
     "name": "stderr",
     "output_type": "stream",
     "text": [
      "[I 2023-10-25 14:30:36,175] Trial 190 finished with value: 217.55933975739433 and parameters: {'lambda': 0.002141799073802038, 'alpha': 0.0020990783842667034, 'colsample_bytree': 0.9, 'subsample': 0.8, 'learning_rate': 0.38893185786914586, 'n_estimators': 551, 'max_depth': 9, 'random_state': 530, 'min_child_weight': 167}. Best is trial 148 with value: 212.95961399599673.\n"
     ]
    },
    {
     "name": "stdout",
     "output_type": "stream",
     "text": [
      "Mean Absolute Error: 213.47981201548623\n",
      "Mean Absolute Error: 208.57192093680942\n",
      "Mean Absolute Error: 228.01503077173274\n",
      "Mean Absolute Error: 210.85028123586176\n"
     ]
    },
    {
     "name": "stderr",
     "output_type": "stream",
     "text": [
      "[I 2023-10-25 14:30:36,550] Trial 191 finished with value: 215.88787091486586 and parameters: {'lambda': 0.0019164742922563975, 'alpha': 0.0016784267560056927, 'colsample_bytree': 0.8, 'subsample': 0.8, 'learning_rate': 0.3607038857591722, 'n_estimators': 452, 'max_depth': 13, 'random_state': 643, 'min_child_weight': 102}. Best is trial 148 with value: 212.95961399599673.\n"
     ]
    },
    {
     "name": "stdout",
     "output_type": "stream",
     "text": [
      "Mean Absolute Error: 208.79830073700302\n",
      "Mean Absolute Error: 238.93424501242728\n"
     ]
    },
    {
     "name": "stderr",
     "output_type": "stream",
     "text": [
      "[I 2023-10-25 14:30:36,937] Trial 192 finished with value: 227.22117121248095 and parameters: {'lambda': 0.002780722040409637, 'alpha': 0.0013950024910166514, 'colsample_bytree': 0.9, 'subsample': 0.8, 'learning_rate': 0.26278097358466873, 'n_estimators': 299, 'max_depth': 15, 'random_state': 625, 'min_child_weight': 95}. Best is trial 148 with value: 212.95961399599673.\n"
     ]
    },
    {
     "name": "stdout",
     "output_type": "stream",
     "text": [
      "Mean Absolute Error: 224.92314472846817\n",
      "Mean Absolute Error: 217.8061238965474\n",
      "Mean Absolute Error: 825.2366532989381\n",
      "Mean Absolute Error: 852.9145144174078\n",
      "Mean Absolute Error: 825.1023485738286\n"
     ]
    },
    {
     "name": "stderr",
     "output_type": "stream",
     "text": [
      "[I 2023-10-25 14:30:37,275] Trial 193 finished with value: 834.4178387633915 and parameters: {'lambda': 0.0015256908322308798, 'alpha': 0.002855472939951471, 'colsample_bytree': 0.4, 'subsample': 0.8, 'learning_rate': 0.0009698431423761785, 'n_estimators': 490, 'max_depth': 11, 'random_state': 576, 'min_child_weight': 106}. Best is trial 148 with value: 212.95961399599673.\n"
     ]
    },
    {
     "name": "stdout",
     "output_type": "stream",
     "text": [
      "Mean Absolute Error: 231.8258109376825\n",
      "Mean Absolute Error: 213.08248796577388\n"
     ]
    },
    {
     "name": "stderr",
     "output_type": "stream",
     "text": [
      "[I 2023-10-25 14:30:37,648] Trial 194 finished with value: 215.31805228160692 and parameters: {'lambda': 0.0011628339889374621, 'alpha': 0.0017510825605655345, 'colsample_bytree': 0.9, 'subsample': 0.8, 'learning_rate': 0.44405678797233716, 'n_estimators': 426, 'max_depth': 13, 'random_state': 605, 'min_child_weight': 115}. Best is trial 148 with value: 212.95961399599673.\n"
     ]
    },
    {
     "name": "stdout",
     "output_type": "stream",
     "text": [
      "Mean Absolute Error: 201.0458579413644\n",
      "Mean Absolute Error: 239.9376064648153\n"
     ]
    },
    {
     "name": "stderr",
     "output_type": "stream",
     "text": [
      "[I 2023-10-25 14:30:38,057] Trial 195 finished with value: 219.8536563244395 and parameters: {'lambda': 0.0024280729050031075, 'alpha': 0.0010097123561743878, 'colsample_bytree': 0.9, 'subsample': 1.0, 'learning_rate': 0.5578891949698764, 'n_estimators': 43, 'max_depth': 13, 'random_state': 601, 'min_child_weight': 119}. Best is trial 148 with value: 212.95961399599673.\n"
     ]
    },
    {
     "name": "stdout",
     "output_type": "stream",
     "text": [
      "Mean Absolute Error: 211.20915043246617\n",
      "Mean Absolute Error: 208.41421207603705\n",
      "Mean Absolute Error: 234.3335694808131\n",
      "Mean Absolute Error: 211.2400699481387\n"
     ]
    },
    {
     "name": "stderr",
     "output_type": "stream",
     "text": [
      "[I 2023-10-25 14:30:38,439] Trial 196 finished with value: 216.73606644215837 and parameters: {'lambda': 0.0017112521274756781, 'alpha': 0.0018531134901113302, 'colsample_bytree': 0.9, 'subsample': 0.8, 'learning_rate': 0.4395403130800358, 'n_estimators': 428, 'max_depth': 13, 'random_state': 475, 'min_child_weight': 124}. Best is trial 148 with value: 212.95961399599673.\n"
     ]
    },
    {
     "name": "stdout",
     "output_type": "stream",
     "text": [
      "Mean Absolute Error: 204.6345598975233\n",
      "Mean Absolute Error: 268.71960998342746\n"
     ]
    },
    {
     "name": "stderr",
     "output_type": "stream",
     "text": [
      "[I 2023-10-25 14:30:38,819] Trial 197 finished with value: 237.3007953509058 and parameters: {'lambda': 0.003240167359519308, 'alpha': 0.002498073361947394, 'colsample_bytree': 0.9, 'subsample': 0.8, 'learning_rate': 0.6769156335201593, 'n_estimators': 396, 'max_depth': 13, 'random_state': 579, 'min_child_weight': 112}. Best is trial 148 with value: 212.95961399599673.\n"
     ]
    },
    {
     "name": "stdout",
     "output_type": "stream",
     "text": [
      "Mean Absolute Error: 227.12502681034087\n",
      "Mean Absolute Error: 216.05774925894903\n"
     ]
    },
    {
     "name": "stderr",
     "output_type": "stream",
     "text": [
      "[I 2023-10-25 14:30:39,136] Trial 198 finished with value: 235.49693690700917 and parameters: {'lambda': 0.001292069432331051, 'alpha': 0.0021257717557481267, 'colsample_bytree': 0.9, 'subsample': 0.4, 'learning_rate': 0.3095773250129967, 'n_estimators': 466, 'max_depth': 13, 'random_state': 668, 'min_child_weight': 180}. Best is trial 148 with value: 212.95961399599673.\n"
     ]
    },
    {
     "name": "stdout",
     "output_type": "stream",
     "text": [
      "Mean Absolute Error: 252.71133192252177\n",
      "Mean Absolute Error: 226.45943780561652\n",
      "Mean Absolute Error: 227.3200409928892\n",
      "Mean Absolute Error: 233.47864188655055\n",
      "Mean Absolute Error: 210.8418920412024\n"
     ]
    },
    {
     "name": "stderr",
     "output_type": "stream",
     "text": [
      "[I 2023-10-25 14:30:39,538] Trial 199 finished with value: 217.86791753988004 and parameters: {'lambda': 0.011316484094675693, 'alpha': 0.001256542588107154, 'colsample_bytree': 0.9, 'subsample': 0.8, 'learning_rate': 0.4672221589742719, 'n_estimators': 507, 'max_depth': 13, 'random_state': 543, 'min_child_weight': 90}. Best is trial 148 with value: 212.95961399599673.\n"
     ]
    },
    {
     "name": "stdout",
     "output_type": "stream",
     "text": [
      "Mean Absolute Error: 209.28321869188713\n",
      "Mean Absolute Error: 265.1214174175137\n"
     ]
    },
    {
     "name": "stderr",
     "output_type": "stream",
     "text": [
      "[I 2023-10-25 14:30:39,903] Trial 200 finished with value: 255.61907875507248 and parameters: {'lambda': 0.001000381431533736, 'alpha': 0.11536771205942391, 'colsample_bytree': 0.9, 'subsample': 0.8, 'learning_rate': 0.20891944589587633, 'n_estimators': 433, 'max_depth': 11, 'random_state': 153, 'min_child_weight': 126}. Best is trial 148 with value: 212.95961399599673.\n"
     ]
    },
    {
     "name": "stdout",
     "output_type": "stream",
     "text": [
      "Mean Absolute Error: 254.69478193106286\n",
      "Mean Absolute Error: 247.0410369166409\n",
      "Mean Absolute Error: 232.6102394831379\n",
      "Mean Absolute Error: 211.72121775219819\n"
     ]
    },
    {
     "name": "stderr",
     "output_type": "stream",
     "text": [
      "[I 2023-10-25 14:30:40,299] Trial 201 finished with value: 216.69252522801136 and parameters: {'lambda': 0.0011867287452217627, 'alpha': 0.0016515653835284083, 'colsample_bytree': 0.8, 'subsample': 0.8, 'learning_rate': 0.37320817658360433, 'n_estimators': 446, 'max_depth': 17, 'random_state': 617, 'min_child_weight': 98}. Best is trial 148 with value: 212.95961399599673.\n"
     ]
    },
    {
     "name": "stdout",
     "output_type": "stream",
     "text": [
      "Mean Absolute Error: 205.74611844869796\n",
      "Mean Absolute Error: 229.38406259338277\n"
     ]
    },
    {
     "name": "stderr",
     "output_type": "stream",
     "text": [
      "[I 2023-10-25 14:30:40,689] Trial 202 finished with value: 216.54798058542943 and parameters: {'lambda': 0.0020523226184283485, 'alpha': 0.0014835509878752759, 'colsample_bytree': 0.9, 'subsample': 0.8, 'learning_rate': 0.3372467934159769, 'n_estimators': 476, 'max_depth': 13, 'random_state': 650, 'min_child_weight': 111}. Best is trial 148 with value: 212.95961399599673.\n"
     ]
    },
    {
     "name": "stdout",
     "output_type": "stream",
     "text": [
      "Mean Absolute Error: 213.3509028112573\n",
      "Mean Absolute Error: 206.90897635164825\n",
      "Mean Absolute Error: 437.66094963972546\n",
      "Mean Absolute Error: 446.6636330825994\n"
     ]
    },
    {
     "name": "stderr",
     "output_type": "stream",
     "text": [
      "[I 2023-10-25 14:30:41,053] Trial 203 finished with value: 438.1419364850299 and parameters: {'lambda': 0.009737271469457074, 'alpha': 0.0018151449343603273, 'colsample_bytree': 0.9, 'subsample': 0.8, 'learning_rate': 0.0843580210237866, 'n_estimators': 397, 'max_depth': 9, 'random_state': 623, 'min_child_weight': 115}. Best is trial 148 with value: 212.95961399599673.\n"
     ]
    },
    {
     "name": "stdout",
     "output_type": "stream",
     "text": [
      "Mean Absolute Error: 430.1012267327648\n",
      "Mean Absolute Error: 229.97107166283325\n",
      "Mean Absolute Error: 210.95155468652558\n"
     ]
    },
    {
     "name": "stderr",
     "output_type": "stream",
     "text": [
      "[I 2023-10-25 14:30:41,343] Trial 204 finished with value: 216.6280362078564 and parameters: {'lambda': 0.0014616984710861946, 'alpha': 0.005868794417786386, 'colsample_bytree': 0.9, 'subsample': 0.8, 'learning_rate': 0.4309709440590116, 'n_estimators': 524, 'max_depth': 5, 'random_state': 599, 'min_child_weight': 105}. Best is trial 148 with value: 212.95961399599673.\n"
     ]
    },
    {
     "name": "stdout",
     "output_type": "stream",
     "text": [
      "Mean Absolute Error: 208.96148227421037\n",
      "Mean Absolute Error: 235.787848128068\n"
     ]
    },
    {
     "name": "stderr",
     "output_type": "stream",
     "text": [
      "[I 2023-10-25 14:30:41,735] Trial 205 finished with value: 225.3213532831254 and parameters: {'lambda': 0.0018353732072667731, 'alpha': 0.23600276069934467, 'colsample_bytree': 0.6, 'subsample': 0.8, 'learning_rate': 0.277962164527086, 'n_estimators': 341, 'max_depth': 17, 'random_state': 642, 'min_child_weight': 71}. Best is trial 148 with value: 212.95961399599673.\n"
     ]
    },
    {
     "name": "stdout",
     "output_type": "stream",
     "text": [
      "Mean Absolute Error: 223.16660238647646\n",
      "Mean Absolute Error: 217.00960933483182\n",
      "Mean Absolute Error: 243.2928883311299\n",
      "Mean Absolute Error: 224.24311961107716\n"
     ]
    },
    {
     "name": "stderr",
     "output_type": "stream",
     "text": [
      "[I 2023-10-25 14:30:42,121] Trial 206 finished with value: 226.55046619077996 and parameters: {'lambda': 0.002528253405806051, 'alpha': 0.0026429468203042527, 'colsample_bytree': 0.7, 'subsample': 0.8, 'learning_rate': 0.5358121789126278, 'n_estimators': 377, 'max_depth': 15, 'random_state': 506, 'min_child_weight': 135}. Best is trial 148 with value: 212.95961399599673.\n"
     ]
    },
    {
     "name": "stdout",
     "output_type": "stream",
     "text": [
      "Mean Absolute Error: 212.1153906301328\n",
      "Mean Absolute Error: 228.6469777318368\n"
     ]
    },
    {
     "name": "stderr",
     "output_type": "stream",
     "text": [
      "[I 2023-10-25 14:30:42,567] Trial 207 finished with value: 213.09006992063374 and parameters: {'lambda': 0.0012335413366010605, 'alpha': 0.0021284218056201215, 'colsample_bytree': 0.9, 'subsample': 1.0, 'learning_rate': 0.37952553546905793, 'n_estimators': 966, 'max_depth': 13, 'random_state': 582, 'min_child_weight': 82}. Best is trial 148 with value: 212.95961399599673.\n"
     ]
    },
    {
     "name": "stdout",
     "output_type": "stream",
     "text": [
      "Mean Absolute Error: 207.6883271386911\n",
      "Mean Absolute Error: 202.93490489137326\n",
      "Mean Absolute Error: 233.4040535807008\n",
      "Mean Absolute Error: 214.43895354090205\n"
     ]
    },
    {
     "name": "stderr",
     "output_type": "stream",
     "text": [
      "[I 2023-10-25 14:30:43,010] Trial 208 finished with value: 216.79356358421356 and parameters: {'lambda': 0.033067554571177424, 'alpha': 0.0021730807956455525, 'colsample_bytree': 0.9, 'subsample': 1.0, 'learning_rate': 0.4009310491923328, 'n_estimators': 811, 'max_depth': 13, 'random_state': 566, 'min_child_weight': 77}. Best is trial 148 with value: 212.95961399599673.\n"
     ]
    },
    {
     "name": "stdout",
     "output_type": "stream",
     "text": [
      "Mean Absolute Error: 202.5376836310379\n",
      "Mean Absolute Error: 237.35862851001426\n"
     ]
    },
    {
     "name": "stderr",
     "output_type": "stream",
     "text": [
      "[I 2023-10-25 14:30:43,452] Trial 209 finished with value: 217.8439445373249 and parameters: {'lambda': 0.001490041075478678, 'alpha': 0.0033109031465266745, 'colsample_bytree': 0.9, 'subsample': 1.0, 'learning_rate': 0.49242833899140953, 'n_estimators': 711, 'max_depth': 13, 'random_state': 582, 'min_child_weight': 82}. Best is trial 148 with value: 212.95961399599673.\n"
     ]
    },
    {
     "name": "stdout",
     "output_type": "stream",
     "text": [
      "Mean Absolute Error: 210.9977785557133\n",
      "Mean Absolute Error: 205.1754265462471\n",
      "Mean Absolute Error: 625.7128746742457\n",
      "Mean Absolute Error: 642.3742821491826\n"
     ]
    },
    {
     "name": "stderr",
     "output_type": "stream",
     "text": [
      "[I 2023-10-25 14:30:43,875] Trial 210 finished with value: 629.3357819978104 and parameters: {'lambda': 0.002185058300260421, 'alpha': 0.0044470766692912755, 'colsample_bytree': 0.9, 'subsample': 1.0, 'learning_rate': 0.03394710004334933, 'n_estimators': 92, 'max_depth': 13, 'random_state': 547, 'min_child_weight': 85}. Best is trial 148 with value: 212.95961399599673.\n"
     ]
    },
    {
     "name": "stdout",
     "output_type": "stream",
     "text": [
      "Mean Absolute Error: 619.9201891700026\n",
      "Mean Absolute Error: 229.28098189746206\n"
     ]
    },
    {
     "name": "stderr",
     "output_type": "stream",
     "text": [
      "[I 2023-10-25 14:30:44,304] Trial 211 finished with value: 214.89137290041253 and parameters: {'lambda': 0.0012105694638834118, 'alpha': 0.0016819462387431044, 'colsample_bytree': 0.9, 'subsample': 1.0, 'learning_rate': 0.3409293439197956, 'n_estimators': 764, 'max_depth': 13, 'random_state': 611, 'min_child_weight': 90}. Best is trial 148 with value: 212.95961399599673.\n"
     ]
    },
    {
     "name": "stdout",
     "output_type": "stream",
     "text": [
      "Mean Absolute Error: 209.5940021988935\n",
      "Mean Absolute Error: 205.7991346048821\n",
      "Mean Absolute Error: 227.46222014622575\n",
      "Mean Absolute Error: 210.446951987957\n"
     ]
    },
    {
     "name": "stderr",
     "output_type": "stream",
     "text": [
      "[I 2023-10-25 14:30:44,722] Trial 212 finished with value: 214.30077826950603 and parameters: {'lambda': 0.001121473790426093, 'alpha': 0.0013391123112735394, 'colsample_bytree': 0.9, 'subsample': 1.0, 'learning_rate': 0.32388303976026217, 'n_estimators': 776, 'max_depth': 13, 'random_state': 606, 'min_child_weight': 94}. Best is trial 148 with value: 212.95961399599673.\n"
     ]
    },
    {
     "name": "stdout",
     "output_type": "stream",
     "text": [
      "Mean Absolute Error: 204.99316267433528\n",
      "Mean Absolute Error: 236.1113159078446\n"
     ]
    },
    {
     "name": "stderr",
     "output_type": "stream",
     "text": [
      "[I 2023-10-25 14:30:45,142] Trial 213 finished with value: 219.01948592482802 and parameters: {'lambda': 0.0010277182940850432, 'alpha': 0.0011917237572422912, 'colsample_bytree': 0.9, 'subsample': 1.0, 'learning_rate': 0.31663458169442915, 'n_estimators': 909, 'max_depth': 13, 'random_state': 603, 'min_child_weight': 91}. Best is trial 148 with value: 212.95961399599673.\n"
     ]
    },
    {
     "name": "stdout",
     "output_type": "stream",
     "text": [
      "Mean Absolute Error: 214.91273789330884\n",
      "Mean Absolute Error: 206.03440397333063\n",
      "Mean Absolute Error: 244.89521646465647\n",
      "Mean Absolute Error: 228.83674101436358\n"
     ]
    },
    {
     "name": "stderr",
     "output_type": "stream",
     "text": [
      "[I 2023-10-25 14:30:45,570] Trial 214 finished with value: 232.44576574806982 and parameters: {'lambda': 0.0011819258624152873, 'alpha': 0.0014129360016753125, 'colsample_bytree': 0.9, 'subsample': 1.0, 'learning_rate': 0.2468431532180082, 'n_estimators': 778, 'max_depth': 13, 'random_state': 614, 'min_child_weight': 95}. Best is trial 148 with value: 212.95961399599673.\n"
     ]
    },
    {
     "name": "stdout",
     "output_type": "stream",
     "text": [
      "Mean Absolute Error: 223.60533976518943\n",
      "Mean Absolute Error: 234.73478141742922\n"
     ]
    },
    {
     "name": "stderr",
     "output_type": "stream",
     "text": [
      "[I 2023-10-25 14:30:46,015] Trial 215 finished with value: 216.49449532229588 and parameters: {'lambda': 0.0012869794069033196, 'alpha': 0.001755670269365377, 'colsample_bytree': 0.9, 'subsample': 1.0, 'learning_rate': 0.34829841870782957, 'n_estimators': 892, 'max_depth': 13, 'random_state': 585, 'min_child_weight': 83}. Best is trial 148 with value: 212.95961399599673.\n"
     ]
    },
    {
     "name": "stdout",
     "output_type": "stream",
     "text": [
      "Mean Absolute Error: 209.6111442466501\n",
      "Mean Absolute Error: 205.1375603028083\n",
      "Mean Absolute Error: 255.2487972708214\n",
      "Mean Absolute Error: 224.59842890729973\n"
     ]
    },
    {
     "name": "stderr",
     "output_type": "stream",
     "text": [
      "[I 2023-10-25 14:30:46,449] Trial 216 finished with value: 230.60705398350856 and parameters: {'lambda': 0.0016843263199470832, 'alpha': 0.012974536199216909, 'colsample_bytree': 0.9, 'subsample': 1.0, 'learning_rate': 0.5616475416044459, 'n_estimators': 939, 'max_depth': 13, 'random_state': 628, 'min_child_weight': 73}. Best is trial 148 with value: 212.95961399599673.\n"
     ]
    },
    {
     "name": "stdout",
     "output_type": "stream",
     "text": [
      "Mean Absolute Error: 211.97393577240467\n",
      "Mean Absolute Error: 237.92946114071688\n"
     ]
    },
    {
     "name": "stderr",
     "output_type": "stream",
     "text": [
      "[I 2023-10-25 14:30:46,866] Trial 217 finished with value: 217.2365380372304 and parameters: {'lambda': 0.0014171947569141105, 'alpha': 0.0014125222859319058, 'colsample_bytree': 0.9, 'subsample': 1.0, 'learning_rate': 0.42307367199415685, 'n_estimators': 751, 'max_depth': 13, 'random_state': 562, 'min_child_weight': 90}. Best is trial 148 with value: 212.95961399599673.\n"
     ]
    },
    {
     "name": "stdout",
     "output_type": "stream",
     "text": [
      "Mean Absolute Error: 210.34541712494473\n",
      "Mean Absolute Error: 203.43473584602955\n",
      "Mean Absolute Error: 831.291718406025\n",
      "Mean Absolute Error: 859.3186127965312\n"
     ]
    },
    {
     "name": "stderr",
     "output_type": "stream",
     "text": [
      "[I 2023-10-25 14:30:47,269] Trial 218 finished with value: 840.6451730262365 and parameters: {'lambda': 0.0011524064260566961, 'alpha': 0.009762771868230928, 'colsample_bytree': 0.9, 'subsample': 1.0, 'learning_rate': 0.00010839082005640711, 'n_estimators': 859, 'max_depth': 13, 'random_state': 599, 'min_child_weight': 103}. Best is trial 148 with value: 212.95961399599673.\n"
     ]
    },
    {
     "name": "stdout",
     "output_type": "stream",
     "text": [
      "Mean Absolute Error: 831.3251878761536\n",
      "Mean Absolute Error: 236.04705535967605\n"
     ]
    },
    {
     "name": "stderr",
     "output_type": "stream",
     "text": [
      "[I 2023-10-25 14:30:47,705] Trial 219 finished with value: 222.4677383044241 and parameters: {'lambda': 0.0010070827440762993, 'alpha': 0.0020699634726548625, 'colsample_bytree': 1.0, 'subsample': 1.0, 'learning_rate': 0.2856965554090116, 'n_estimators': 727, 'max_depth': 13, 'random_state': 659, 'min_child_weight': 97}. Best is trial 148 with value: 212.95961399599673.\n"
     ]
    },
    {
     "name": "stdout",
     "output_type": "stream",
     "text": [
      "Mean Absolute Error: 217.46453888364675\n",
      "Mean Absolute Error: 213.89162066994953\n",
      "Mean Absolute Error: 227.84235200085803\n",
      "Mean Absolute Error: 210.36035744863582\n"
     ]
    },
    {
     "name": "stderr",
     "output_type": "stream",
     "text": [
      "[I 2023-10-25 14:30:48,224] Trial 220 finished with value: 214.30790176495398 and parameters: {'lambda': 0.0017453238823167702, 'alpha': 0.0012108273475299413, 'colsample_bytree': 0.9, 'subsample': 1.0, 'learning_rate': 0.34752784817477966, 'n_estimators': 805, 'max_depth': 13, 'random_state': 613, 'min_child_weight': 80}. Best is trial 148 with value: 212.95961399599673.\n"
     ]
    },
    {
     "name": "stdout",
     "output_type": "stream",
     "text": [
      "Mean Absolute Error: 204.7209958453681\n",
      "Mean Absolute Error: 236.90114426820148\n"
     ]
    },
    {
     "name": "stderr",
     "output_type": "stream",
     "text": [
      "[I 2023-10-25 14:30:48,665] Trial 221 finished with value: 218.67407747124366 and parameters: {'lambda': 0.0017816879512871483, 'alpha': 0.0010023886855205129, 'colsample_bytree': 0.9, 'subsample': 1.0, 'learning_rate': 0.3388269417851391, 'n_estimators': 860, 'max_depth': 13, 'random_state': 920, 'min_child_weight': 85}. Best is trial 148 with value: 212.95961399599673.\n"
     ]
    },
    {
     "name": "stdout",
     "output_type": "stream",
     "text": [
      "Mean Absolute Error: 211.2843120229092\n",
      "Mean Absolute Error: 207.8367761226203\n",
      "Mean Absolute Error: 235.43488113450542\n",
      "Mean Absolute Error: 213.97665864582197\n"
     ]
    },
    {
     "name": "stderr",
     "output_type": "stream",
     "text": [
      "[I 2023-10-25 14:30:49,123] Trial 222 finished with value: 217.65112496097728 and parameters: {'lambda': 0.0014094436568399893, 'alpha': 0.001186838945173708, 'colsample_bytree': 0.9, 'subsample': 1.0, 'learning_rate': 0.4064931878157457, 'n_estimators': 788, 'max_depth': 13, 'random_state': 614, 'min_child_weight': 77}. Best is trial 148 with value: 212.95961399599673.\n"
     ]
    },
    {
     "name": "stdout",
     "output_type": "stream",
     "text": [
      "Mean Absolute Error: 203.54183510260438\n",
      "Mean Absolute Error: 237.44339947453102\n"
     ]
    },
    {
     "name": "stderr",
     "output_type": "stream",
     "text": [
      "[I 2023-10-25 14:30:49,539] Trial 223 finished with value: 221.83593983515956 and parameters: {'lambda': 0.001974965886087533, 'alpha': 0.001584827167869574, 'colsample_bytree': 0.9, 'subsample': 1.0, 'learning_rate': 0.2919601802745205, 'n_estimators': 572, 'max_depth': 13, 'random_state': 585, 'min_child_weight': 92}. Best is trial 148 with value: 212.95961399599673.\n"
     ]
    },
    {
     "name": "stdout",
     "output_type": "stream",
     "text": [
      "Mean Absolute Error: 217.23115015068916\n",
      "Mean Absolute Error: 210.83326988025854\n",
      "Mean Absolute Error: 242.48398327081145\n",
      "Mean Absolute Error: 218.56259820727345\n"
     ]
    },
    {
     "name": "stderr",
     "output_type": "stream",
     "text": [
      "[I 2023-10-25 14:30:49,981] Trial 224 finished with value: 223.29392185461222 and parameters: {'lambda': 0.0014220196543783504, 'alpha': 0.001334721273382078, 'colsample_bytree': 0.9, 'subsample': 1.0, 'learning_rate': 0.4828914347444956, 'n_estimators': 842, 'max_depth': 13, 'random_state': 628, 'min_child_weight': 67}. Best is trial 148 with value: 212.95961399599673.\n"
     ]
    },
    {
     "name": "stdout",
     "output_type": "stream",
     "text": [
      "Mean Absolute Error: 208.83518408575176\n",
      "Mean Absolute Error: 232.05976370862334\n"
     ]
    },
    {
     "name": "stderr",
     "output_type": "stream",
     "text": [
      "[I 2023-10-25 14:30:50,415] Trial 225 finished with value: 214.89346676638766 and parameters: {'lambda': 0.0016876233570801463, 'alpha': 0.0019325292334292361, 'colsample_bytree': 0.9, 'subsample': 1.0, 'learning_rate': 0.3693491114743032, 'n_estimators': 771, 'max_depth': 11, 'random_state': 648, 'min_child_weight': 80}. Best is trial 148 with value: 212.95961399599673.\n"
     ]
    },
    {
     "name": "stdout",
     "output_type": "stream",
     "text": [
      "Mean Absolute Error: 209.8464093265344\n",
      "Mean Absolute Error: 202.77422726400533\n",
      "Mean Absolute Error: 236.02901725232266\n",
      "Mean Absolute Error: 211.11296821659252\n"
     ]
    },
    {
     "name": "stderr",
     "output_type": "stream",
     "text": [
      "[I 2023-10-25 14:30:50,858] Trial 226 finished with value: 216.66570597160094 and parameters: {'lambda': 0.0015805537897361115, 'alpha': 0.0018344006511708663, 'colsample_bytree': 0.9, 'subsample': 1.0, 'learning_rate': 0.3716188173288358, 'n_estimators': 757, 'max_depth': 11, 'random_state': 649, 'min_child_weight': 79}. Best is trial 148 with value: 212.95961399599673.\n"
     ]
    },
    {
     "name": "stdout",
     "output_type": "stream",
     "text": [
      "Mean Absolute Error: 202.8551324458876\n",
      "Mean Absolute Error: 256.6126962095658\n"
     ]
    },
    {
     "name": "stderr",
     "output_type": "stream",
     "text": [
      "[I 2023-10-25 14:30:51,249] Trial 227 finished with value: 235.29645026188908 and parameters: {'lambda': 0.0012667149594467195, 'alpha': 0.002326335300361656, 'colsample_bytree': 0.5, 'subsample': 1.0, 'learning_rate': 0.6297239692237712, 'n_estimators': 753, 'max_depth': 11, 'random_state': 607, 'min_child_weight': 87}. Best is trial 148 with value: 212.95961399599673.\n"
     ]
    },
    {
     "name": "stdout",
     "output_type": "stream",
     "text": [
      "Mean Absolute Error: 230.89796696500224\n",
      "Mean Absolute Error: 218.37868761109925\n",
      "Mean Absolute Error: 244.769676588635\n",
      "Mean Absolute Error: 210.59548418375624\n"
     ]
    },
    {
     "name": "stderr",
     "output_type": "stream",
     "text": [
      "[I 2023-10-25 14:30:51,668] Trial 228 finished with value: 220.66054059986197 and parameters: {'lambda': 0.0017403747746911006, 'alpha': 0.0016000376330712125, 'colsample_bytree': 0.9, 'subsample': 1.0, 'learning_rate': 0.4766789273885221, 'n_estimators': 977, 'max_depth': 11, 'random_state': 529, 'min_child_weight': 80}. Best is trial 148 with value: 212.95961399599673.\n"
     ]
    },
    {
     "name": "stdout",
     "output_type": "stream",
     "text": [
      "Mean Absolute Error: 206.61646102719465\n",
      "Mean Absolute Error: 813.7438061505918\n"
     ]
    },
    {
     "name": "stderr",
     "output_type": "stream",
     "text": [
      "[I 2023-10-25 14:30:52,057] Trial 229 finished with value: 822.6182518927785 and parameters: {'lambda': 0.0021750899842093523, 'alpha': 0.001263658722733212, 'colsample_bytree': 0.3, 'subsample': 1.0, 'learning_rate': 0.002705024594045589, 'n_estimators': 726, 'max_depth': 11, 'random_state': 579, 'min_child_weight': 67}. Best is trial 148 with value: 212.95961399599673.\n"
     ]
    },
    {
     "name": "stdout",
     "output_type": "stream",
     "text": [
      "Mean Absolute Error: 840.8081121418104\n",
      "Mean Absolute Error: 813.3028373859333\n"
     ]
    },
    {
     "name": "stderr",
     "output_type": "stream",
     "text": [
      "[I 2023-10-25 14:30:52,413] Trial 230 finished with value: 214.7096590849458 and parameters: {'lambda': 0.0011767788425279656, 'alpha': 0.0019407423697934138, 'colsample_bytree': 0.9, 'subsample': 1.0, 'learning_rate': 0.4046203290939882, 'n_estimators': 803, 'max_depth': 7, 'random_state': 674, 'min_child_weight': 61}. Best is trial 148 with value: 212.95961399599673.\n"
     ]
    },
    {
     "name": "stdout",
     "output_type": "stream",
     "text": [
      "Mean Absolute Error: 229.83162998960657\n",
      "Mean Absolute Error: 212.65950590754562\n",
      "Mean Absolute Error: 201.63784135768523\n"
     ]
    },
    {
     "name": "stderr",
     "output_type": "stream",
     "text": [
      "[I 2023-10-25 14:30:52,763] Trial 231 finished with value: 214.5985728776186 and parameters: {'lambda': 0.001196196243876161, 'alpha': 0.0019953896428946344, 'colsample_bytree': 0.9, 'subsample': 1.0, 'learning_rate': 0.39794028473912685, 'n_estimators': 801, 'max_depth': 7, 'random_state': 671, 'min_child_weight': 59}. Best is trial 148 with value: 212.95961399599673.\n"
     ]
    },
    {
     "name": "stdout",
     "output_type": "stream",
     "text": [
      "Mean Absolute Error: 234.37699723432314\n",
      "Mean Absolute Error: 206.38217619501393\n",
      "Mean Absolute Error: 203.0365452035188\n"
     ]
    },
    {
     "name": "stderr",
     "output_type": "stream",
     "text": [
      "[I 2023-10-25 14:30:53,125] Trial 232 finished with value: 216.01502113220394 and parameters: {'lambda': 0.00117742152410778, 'alpha': 0.0018731821049664456, 'colsample_bytree': 0.9, 'subsample': 1.0, 'learning_rate': 0.3920618444155883, 'n_estimators': 816, 'max_depth': 7, 'random_state': 663, 'min_child_weight': 43}. Best is trial 148 with value: 212.95961399599673.\n"
     ]
    },
    {
     "name": "stdout",
     "output_type": "stream",
     "text": [
      "Mean Absolute Error: 232.62480621808285\n",
      "Mean Absolute Error: 212.06842390281022\n",
      "Mean Absolute Error: 203.35183327571866\n"
     ]
    },
    {
     "name": "stderr",
     "output_type": "stream",
     "text": [
      "[I 2023-10-25 14:30:53,474] Trial 233 finished with value: 223.28510433756185 and parameters: {'lambda': 0.013455185122986409, 'alpha': 0.0014653043665163565, 'colsample_bytree': 0.9, 'subsample': 1.0, 'learning_rate': 0.511968941011803, 'n_estimators': 796, 'max_depth': 7, 'random_state': 688, 'min_child_weight': 51}. Best is trial 148 with value: 212.95961399599673.\n"
     ]
    },
    {
     "name": "stdout",
     "output_type": "stream",
     "text": [
      "Mean Absolute Error: 247.19662388331926\n",
      "Mean Absolute Error: 212.11742223980434\n",
      "Mean Absolute Error: 210.5412668895619\n",
      "Mean Absolute Error: 244.51244092425938\n",
      "Mean Absolute Error: 216.00499626944875\n"
     ]
    },
    {
     "name": "stderr",
     "output_type": "stream",
     "text": [
      "[I 2023-10-25 14:30:53,929] Trial 234 finished with value: 222.2032875583421 and parameters: {'lambda': 0.0010142184565484255, 'alpha': 0.0020130364028712287, 'colsample_bytree': 0.9, 'subsample': 1.0, 'learning_rate': 0.452911869463185, 'n_estimators': 821, 'max_depth': 11, 'random_state': 714, 'min_child_weight': 59}. Best is trial 148 with value: 212.95961399599673.\n"
     ]
    },
    {
     "name": "stdout",
     "output_type": "stream",
     "text": [
      "Mean Absolute Error: 206.09242548131812\n",
      "Mean Absolute Error: 247.3580864394468\n"
     ]
    },
    {
     "name": "stderr",
     "output_type": "stream",
     "text": [
      "[I 2023-10-25 14:30:54,290] Trial 235 finished with value: 236.31379366872224 and parameters: {'lambda': 0.0014314388968278949, 'alpha': 0.0016697313067168033, 'colsample_bytree': 0.9, 'subsample': 1.0, 'learning_rate': 0.2419262576175717, 'n_estimators': 791, 'max_depth': 7, 'random_state': 678, 'min_child_weight': 62}. Best is trial 148 with value: 212.95961399599673.\n"
     ]
    },
    {
     "name": "stdout",
     "output_type": "stream",
     "text": [
      "Mean Absolute Error: 235.1124960445956\n",
      "Mean Absolute Error: 226.47079852212434\n"
     ]
    },
    {
     "name": "stderr",
     "output_type": "stream",
     "text": [
      "[I 2023-10-25 14:30:54,633] Trial 236 finished with value: 220.0217035535741 and parameters: {'lambda': 0.0011991415359054226, 'alpha': 0.0012052623422574799, 'colsample_bytree': 0.9, 'subsample': 1.0, 'learning_rate': 0.3156273943065005, 'n_estimators': 770, 'max_depth': 7, 'random_state': 638, 'min_child_weight': 109}. Best is trial 148 with value: 212.95961399599673.\n"
     ]
    },
    {
     "name": "stdout",
     "output_type": "stream",
     "text": [
      "Mean Absolute Error: 233.66117413872473\n",
      "Mean Absolute Error: 215.72798739762362\n",
      "Mean Absolute Error: 210.675949124374\n"
     ]
    },
    {
     "name": "stderr",
     "output_type": "stream",
     "text": [
      "[I 2023-10-25 14:30:54,980] Trial 237 finished with value: 226.49766987238118 and parameters: {'lambda': 0.001657282001625458, 'alpha': 0.002027284123298663, 'colsample_bytree': 0.7, 'subsample': 1.0, 'learning_rate': 0.6031810248431961, 'n_estimators': 767, 'max_depth': 7, 'random_state': 662, 'min_child_weight': 56}. Best is trial 148 with value: 212.95961399599673.\n"
     ]
    },
    {
     "name": "stdout",
     "output_type": "stream",
     "text": [
      "Mean Absolute Error: 250.3193273870769\n",
      "Mean Absolute Error: 217.55263401755877\n",
      "Mean Absolute Error: 211.62104821250793\n"
     ]
    },
    {
     "name": "stderr",
     "output_type": "stream",
     "text": [
      "[I 2023-10-25 14:30:55,325] Trial 238 finished with value: 216.14079144037422 and parameters: {'lambda': 0.001315732621333751, 'alpha': 0.008670440013467062, 'colsample_bytree': 0.9, 'subsample': 1.0, 'learning_rate': 0.4153769118564127, 'n_estimators': 813, 'max_depth': 7, 'random_state': 623, 'min_child_weight': 74}. Best is trial 148 with value: 212.95961399599673.\n"
     ]
    },
    {
     "name": "stdout",
     "output_type": "stream",
     "text": [
      "Mean Absolute Error: 236.1981343975305\n",
      "Mean Absolute Error: 209.22023545743235\n",
      "Mean Absolute Error: 203.00400446615984\n"
     ]
    },
    {
     "name": "stderr",
     "output_type": "stream",
     "text": [
      "[I 2023-10-25 14:30:55,678] Trial 239 finished with value: 216.711010677902 and parameters: {'lambda': 0.007518129335667428, 'alpha': 0.0027005878196747473, 'colsample_bytree': 0.9, 'subsample': 1.0, 'learning_rate': 0.3347078073376027, 'n_estimators': 780, 'max_depth': 7, 'random_state': 694, 'min_child_weight': 68}. Best is trial 148 with value: 212.95961399599673.\n"
     ]
    },
    {
     "name": "stdout",
     "output_type": "stream",
     "text": [
      "Mean Absolute Error: 229.59061706878765\n",
      "Mean Absolute Error: 213.5336161921729\n",
      "Mean Absolute Error: 207.00879877274548\n"
     ]
    },
    {
     "name": "stderr",
     "output_type": "stream",
     "text": [
      "[I 2023-10-25 14:30:56,007] Trial 240 finished with value: 239.68381886389136 and parameters: {'lambda': 1.4296468928361248, 'alpha': 0.0015151460321545084, 'colsample_bytree': 0.9, 'subsample': 0.6, 'learning_rate': 0.7902507406982446, 'n_estimators': 972, 'max_depth': 7, 'random_state': 645, 'min_child_weight': 96}. Best is trial 148 with value: 212.95961399599673.\n"
     ]
    },
    {
     "name": "stdout",
     "output_type": "stream",
     "text": [
      "Mean Absolute Error: 268.48367669233966\n",
      "Mean Absolute Error: 228.98503624807063\n",
      "Mean Absolute Error: 221.5827436512638\n",
      "Mean Absolute Error: 236.63186066825287\n",
      "Mean Absolute Error: 207.12358731926722\n"
     ]
    },
    {
     "name": "stderr",
     "output_type": "stream",
     "text": [
      "[I 2023-10-25 14:30:56,437] Trial 241 finished with value: 215.60639456380807 and parameters: {'lambda': 0.002019228359166333, 'alpha': 0.0023182765639199383, 'colsample_bytree': 0.9, 'subsample': 1.0, 'learning_rate': 0.37136563362158787, 'n_estimators': 703, 'max_depth': 11, 'random_state': 601, 'min_child_weight': 87}. Best is trial 148 with value: 212.95961399599673.\n"
     ]
    },
    {
     "name": "stdout",
     "output_type": "stream",
     "text": [
      "Mean Absolute Error: 203.06373570390414\n",
      "Mean Absolute Error: 243.32519532371006\n"
     ]
    },
    {
     "name": "stderr",
     "output_type": "stream",
     "text": [
      "[I 2023-10-25 14:30:56,724] Trial 242 finished with value: 222.9652355016166 and parameters: {'lambda': 0.0016728528223528747, 'alpha': 0.0019433472079190264, 'colsample_bytree': 0.9, 'subsample': 0.5, 'learning_rate': 0.4292102034791909, 'n_estimators': 814, 'max_depth': 5, 'random_state': 620, 'min_child_weight': 100}. Best is trial 148 with value: 212.95961399599673.\n"
     ]
    },
    {
     "name": "stdout",
     "output_type": "stream",
     "text": [
      "Mean Absolute Error: 217.14766599173808\n",
      "Mean Absolute Error: 208.4228451894017\n"
     ]
    },
    {
     "name": "stderr",
     "output_type": "stream",
     "text": [
      "[I 2023-10-25 14:30:57,066] Trial 243 finished with value: 232.92881825386817 and parameters: {'lambda': 5.461223569705051, 'alpha': 0.0023370215123092266, 'colsample_bytree': 0.9, 'subsample': 0.7, 'learning_rate': 0.2898131934429044, 'n_estimators': 834, 'max_depth': 9, 'random_state': 12, 'min_child_weight': 208}. Best is trial 148 with value: 212.95961399599673.\n"
     ]
    },
    {
     "name": "stdout",
     "output_type": "stream",
     "text": [
      "Mean Absolute Error: 249.65252266057695\n",
      "Mean Absolute Error: 228.33091284939067\n",
      "Mean Absolute Error: 220.80301925163695\n",
      "Mean Absolute Error: 230.95884215485864\n",
      "Mean Absolute Error: 210.222852266337\n"
     ]
    },
    {
     "name": "stderr",
     "output_type": "stream",
     "text": [
      "[I 2023-10-25 14:30:57,527] Trial 244 finished with value: 215.0095614969058 and parameters: {'lambda': 0.1374845686200054, 'alpha': 0.0017469241788658438, 'colsample_bytree': 0.9, 'subsample': 1.0, 'learning_rate': 0.3591142753157685, 'n_estimators': 739, 'max_depth': 13, 'random_state': 561, 'min_child_weight': 74}. Best is trial 148 with value: 212.95961399599673.\n"
     ]
    },
    {
     "name": "stdout",
     "output_type": "stream",
     "text": [
      "Mean Absolute Error: 203.84699006952178\n",
      "Mean Absolute Error: 383.8599859154862\n"
     ]
    },
    {
     "name": "stderr",
     "output_type": "stream",
     "text": [
      "[I 2023-10-25 14:30:57,966] Trial 245 finished with value: 380.4609753913638 and parameters: {'lambda': 0.14562465755782264, 'alpha': 0.001703958525765631, 'colsample_bytree': 0.9, 'subsample': 1.0, 'learning_rate': 0.10582845440810996, 'n_estimators': 771, 'max_depth': 11, 'random_state': 592, 'min_child_weight': 73}. Best is trial 148 with value: 212.95961399599673.\n"
     ]
    },
    {
     "name": "stdout",
     "output_type": "stream",
     "text": [
      "Mean Absolute Error: 386.8423446946178\n",
      "Mean Absolute Error: 370.68059556398737\n",
      "Mean Absolute Error: 259.6297981578878\n",
      "Mean Absolute Error: 220.9974690042335\n"
     ]
    },
    {
     "name": "stderr",
     "output_type": "stream",
     "text": [
      "[I 2023-10-25 14:30:58,363] Trial 246 finished with value: 232.05108585085387 and parameters: {'lambda': 0.125082750924473, 'alpha': 0.0011318722105464517, 'colsample_bytree': 0.4, 'subsample': 1.0, 'learning_rate': 0.5164440891318649, 'n_estimators': 797, 'max_depth': 15, 'random_state': 564, 'min_child_weight': 242}. Best is trial 148 with value: 212.95961399599673.\n"
     ]
    },
    {
     "name": "stdout",
     "output_type": "stream",
     "text": [
      "Mean Absolute Error: 215.5259903904403\n",
      "Mean Absolute Error: 235.3297560652619\n"
     ]
    },
    {
     "name": "stderr",
     "output_type": "stream",
     "text": [
      "[I 2023-10-25 14:30:58,835] Trial 247 finished with value: 218.42134200482874 and parameters: {'lambda': 0.001007254063256234, 'alpha': 0.040598258499422106, 'colsample_bytree': 0.9, 'subsample': 1.0, 'learning_rate': 0.4005079970314809, 'n_estimators': 742, 'max_depth': 13, 'random_state': 286, 'min_child_weight': 59}. Best is trial 148 with value: 212.95961399599673.\n"
     ]
    },
    {
     "name": "stdout",
     "output_type": "stream",
     "text": [
      "Mean Absolute Error: 212.8470828948017\n",
      "Mean Absolute Error: 207.0871870544227\n"
     ]
    },
    {
     "name": "stderr",
     "output_type": "stream",
     "text": [
      "[I 2023-10-25 14:30:59,156] Trial 248 finished with value: 234.94838282970787 and parameters: {'lambda': 0.08766185918107534, 'alpha': 0.0013983742929360211, 'colsample_bytree': 0.9, 'subsample': 1.0, 'learning_rate': 0.2647974468674883, 'n_estimators': 780, 'max_depth': 7, 'random_state': 635, 'min_child_weight': 279}. Best is trial 148 with value: 212.95961399599673.\n"
     ]
    },
    {
     "name": "stdout",
     "output_type": "stream",
     "text": [
      "Mean Absolute Error: 245.13850326629338\n",
      "Mean Absolute Error: 231.94589222458498\n",
      "Mean Absolute Error: 227.7607529982453\n",
      "Mean Absolute Error: 228.76512552799954\n",
      "Mean Absolute Error: 211.03326299400683\n"
     ]
    },
    {
     "name": "stderr",
     "output_type": "stream",
     "text": [
      "[I 2023-10-25 14:30:59,626] Trial 249 finished with value: 216.5440323329975 and parameters: {'lambda': 0.0012573665697826887, 'alpha': 0.0017637572023850576, 'colsample_bytree': 0.9, 'subsample': 1.0, 'learning_rate': 0.32928271708276385, 'n_estimators': 732, 'max_depth': 13, 'random_state': 606, 'min_child_weight': 65}. Best is trial 148 with value: 212.95961399599673.\n"
     ]
    },
    {
     "name": "stdout",
     "output_type": "stream",
     "text": [
      "Mean Absolute Error: 209.83370847698606\n",
      "Mean Absolute Error: 235.1131401163664\n"
     ]
    },
    {
     "name": "stderr",
     "output_type": "stream",
     "text": [
      "[I 2023-10-25 14:31:00,026] Trial 250 finished with value: 215.56187790821448 and parameters: {'lambda': 0.0015555822801592396, 'alpha': 0.001412394896961512, 'colsample_bytree': 0.9, 'subsample': 1.0, 'learning_rate': 0.45596928800839603, 'n_estimators': 758, 'max_depth': 11, 'random_state': 581, 'min_child_weight': 114}. Best is trial 148 with value: 212.95961399599673.\n"
     ]
    },
    {
     "name": "stdout",
     "output_type": "stream",
     "text": [
      "Mean Absolute Error: 206.6631386970142\n",
      "Mean Absolute Error: 204.90935491126285\n",
      "Mean Absolute Error: 243.5844933970869\n",
      "Mean Absolute Error: 210.14670847307167\n"
     ]
    },
    {
     "name": "stderr",
     "output_type": "stream",
     "text": [
      "[I 2023-10-25 14:31:00,423] Trial 251 finished with value: 219.57467378291548 and parameters: {'lambda': 0.0018446707663411417, 'alpha': 0.05334499204532955, 'colsample_bytree': 0.9, 'subsample': 1.0, 'learning_rate': 0.5056933231522127, 'n_estimators': 769, 'max_depth': 11, 'random_state': 556, 'min_child_weight': 114}. Best is trial 148 with value: 212.95961399599673.\n"
     ]
    },
    {
     "name": "stdout",
     "output_type": "stream",
     "text": [
      "Mean Absolute Error: 204.99281947858793\n",
      "Mean Absolute Error: 248.93890232956363\n"
     ]
    },
    {
     "name": "stderr",
     "output_type": "stream",
     "text": [
      "[I 2023-10-25 14:31:00,803] Trial 252 finished with value: 225.1564077744696 and parameters: {'lambda': 0.018174326343901814, 'alpha': 0.006805089130646155, 'colsample_bytree': 0.9, 'subsample': 1.0, 'learning_rate': 0.5812770673907943, 'n_estimators': 751, 'max_depth': 11, 'random_state': 579, 'min_child_weight': 106}. Best is trial 148 with value: 212.95961399599673.\n"
     ]
    },
    {
     "name": "stdout",
     "output_type": "stream",
     "text": [
      "Mean Absolute Error: 218.56446517022488\n",
      "Mean Absolute Error: 207.9658558236204\n",
      "Mean Absolute Error: 235.80846066928424\n",
      "Mean Absolute Error: 211.98964384378507\n"
     ]
    },
    {
     "name": "stderr",
     "output_type": "stream",
     "text": [
      "[I 2023-10-25 14:31:01,257] Trial 253 finished with value: 218.64669003742247 and parameters: {'lambda': 0.0015373539060459566, 'alpha': 0.0010031567891283836, 'colsample_bytree': 0.9, 'subsample': 1.0, 'learning_rate': 0.42697676436086546, 'n_estimators': 751, 'max_depth': 11, 'random_state': 517, 'min_child_weight': 78}. Best is trial 148 with value: 212.95961399599673.\n"
     ]
    },
    {
     "name": "stdout",
     "output_type": "stream",
     "text": [
      "Mean Absolute Error: 208.1419655991981\n",
      "Mean Absolute Error: 235.34918785915377\n"
     ]
    },
    {
     "name": "stderr",
     "output_type": "stream",
     "text": [
      "[I 2023-10-25 14:31:01,703] Trial 254 finished with value: 217.48754227290866 and parameters: {'lambda': 0.0028860227881693803, 'alpha': 0.0013111591192630648, 'colsample_bytree': 0.9, 'subsample': 1.0, 'learning_rate': 0.43348716336042287, 'n_estimators': 692, 'max_depth': 11, 'random_state': 589, 'min_child_weight': 73}. Best is trial 148 with value: 212.95961399599673.\n"
     ]
    },
    {
     "name": "stdout",
     "output_type": "stream",
     "text": [
      "Mean Absolute Error: 210.60184422919917\n",
      "Mean Absolute Error: 206.5115947303731\n",
      "Mean Absolute Error: 269.5423312323049\n",
      "Mean Absolute Error: 224.18561569930804\n"
     ]
    },
    {
     "name": "stderr",
     "output_type": "stream",
     "text": [
      "[I 2023-10-25 14:31:04,758] Trial 255 finished with value: 235.73497944498956 and parameters: {'lambda': 0.002177765991268581, 'alpha': 0.019968415193883624, 'colsample_bytree': 0.9, 'subsample': 1.0, 'learning_rate': 0.6725754548148023, 'n_estimators': 797, 'max_depth': 11, 'random_state': 495, 'min_child_weight': 93}. Best is trial 148 with value: 212.95961399599673.\n"
     ]
    },
    {
     "name": "stdout",
     "output_type": "stream",
     "text": [
      "Mean Absolute Error: 213.47699140335578\n",
      "Mean Absolute Error: 247.75526222391716\n"
     ]
    },
    {
     "name": "stderr",
     "output_type": "stream",
     "text": [
      "[I 2023-10-25 14:31:05,110] Trial 256 finished with value: 233.81934244009867 and parameters: {'lambda': 0.005638298991809464, 'alpha': 0.002783938955865234, 'colsample_bytree': 0.9, 'subsample': 0.4, 'learning_rate': 0.49842963170645593, 'n_estimators': 537, 'max_depth': 13, 'random_state': 567, 'min_child_weight': 192}. Best is trial 148 with value: 212.95961399599673.\n"
     ]
    },
    {
     "name": "stdout",
     "output_type": "stream",
     "text": [
      "Mean Absolute Error: 231.19244133723464\n",
      "Mean Absolute Error: 222.51032375914417\n",
      "Mean Absolute Error: 233.48027028095322\n",
      "Mean Absolute Error: 212.87485501080292\n"
     ]
    },
    {
     "name": "stderr",
     "output_type": "stream",
     "text": [
      "[I 2023-10-25 14:31:05,516] Trial 257 finished with value: 217.54366115840472 and parameters: {'lambda': 0.05763301326988502, 'alpha': 0.001974427468249391, 'colsample_bytree': 0.6, 'subsample': 1.0, 'learning_rate': 0.3511586708693758, 'n_estimators': 674, 'max_depth': 13, 'random_state': 733, 'min_child_weight': 102}. Best is trial 148 with value: 212.95961399599673.\n"
     ]
    },
    {
     "name": "stdout",
     "output_type": "stream",
     "text": [
      "Mean Absolute Error: 206.275858183458\n",
      "Mean Absolute Error: 250.4789792511786\n"
     ]
    },
    {
     "name": "stderr",
     "output_type": "stream",
     "text": [
      "[I 2023-10-25 14:31:05,926] Trial 258 finished with value: 238.2103696761359 and parameters: {'lambda': 0.00195253477983338, 'alpha': 0.08356364400082109, 'colsample_bytree': 0.9, 'subsample': 1.0, 'learning_rate': 0.2346506409608475, 'n_estimators': 708, 'max_depth': 9, 'random_state': 611, 'min_child_weight': 82}. Best is trial 148 with value: 212.95961399599673.\n"
     ]
    },
    {
     "name": "stdout",
     "output_type": "stream",
     "text": [
      "Mean Absolute Error: 236.10145227095313\n",
      "Mean Absolute Error: 228.05067750627606\n"
     ]
    },
    {
     "name": "stderr",
     "output_type": "stream",
     "text": [
      "[I 2023-10-25 14:31:06,232] Trial 259 finished with value: 224.60925389978448 and parameters: {'lambda': 0.15076972949634945, 'alpha': 2.410015731107332, 'colsample_bytree': 0.9, 'subsample': 1.0, 'learning_rate': 0.2942252319426888, 'n_estimators': 878, 'max_depth': 5, 'random_state': 672, 'min_child_weight': 49}. Best is trial 148 with value: 212.95961399599673.\n"
     ]
    },
    {
     "name": "stdout",
     "output_type": "stream",
     "text": [
      "Mean Absolute Error: 237.11167933864067\n",
      "Mean Absolute Error: 218.55601166740558\n",
      "Mean Absolute Error: 218.16007069330726\n",
      "Mean Absolute Error: 270.7944612671453\n",
      "Mean Absolute Error: 261.28929329151146\n"
     ]
    },
    {
     "name": "stderr",
     "output_type": "stream",
     "text": [
      "[I 2023-10-25 14:31:06,641] Trial 260 finished with value: 261.00402428413986 and parameters: {'lambda': 0.0014585169076024866, 'alpha': 0.0016115275081742162, 'colsample_bytree': 0.9, 'subsample': 1.0, 'learning_rate': 0.19532991956281076, 'n_estimators': 805, 'max_depth': 11, 'random_state': 547, 'min_child_weight': 110}. Best is trial 148 with value: 212.95961399599673.\n"
     ]
    },
    {
     "name": "stdout",
     "output_type": "stream",
     "text": [
      "Mean Absolute Error: 250.92831829376274\n",
      "Mean Absolute Error: 246.59017727071898\n"
     ]
    },
    {
     "name": "stderr",
     "output_type": "stream",
     "text": [
      "[I 2023-10-25 14:31:07,057] Trial 261 finished with value: 222.73268229167127 and parameters: {'lambda': 0.0017448577511411044, 'alpha': 0.005355699450810212, 'colsample_bytree': 0.9, 'subsample': 1.0, 'learning_rate': 0.5536841324486121, 'n_estimators': 837, 'max_depth': 13, 'random_state': 590, 'min_child_weight': 97}. Best is trial 148 with value: 212.95961399599673.\n"
     ]
    },
    {
     "name": "stdout",
     "output_type": "stream",
     "text": [
      "Mean Absolute Error: 211.3407084422033\n",
      "Mean Absolute Error: 210.26716116209147\n",
      "Mean Absolute Error: 231.15100134733206\n",
      "Mean Absolute Error: 214.020868423161\n"
     ]
    },
    {
     "name": "stderr",
     "output_type": "stream",
     "text": [
      "[I 2023-10-25 14:31:07,429] Trial 262 finished with value: 217.79786748723572 and parameters: {'lambda': 0.0024616721402039923, 'alpha': 0.002111726554387451, 'colsample_bytree': 0.7, 'subsample': 0.6, 'learning_rate': 0.38365467185425683, 'n_estimators': 551, 'max_depth': 13, 'random_state': 648, 'min_child_weight': 118}. Best is trial 148 with value: 212.95961399599673.\n"
     ]
    },
    {
     "name": "stdout",
     "output_type": "stream",
     "text": [
      "Mean Absolute Error: 208.22173269121402\n",
      "Mean Absolute Error: 681.3068515469071\n"
     ]
    },
    {
     "name": "stderr",
     "output_type": "stream",
     "text": [
      "[I 2023-10-25 14:31:07,786] Trial 263 finished with value: 687.6472259133369 and parameters: {'lambda': 0.0013697226895686312, 'alpha': 0.0013257230295298506, 'colsample_bytree': 0.9, 'subsample': 0.5, 'learning_rate': 0.023473477412840234, 'n_estimators': 736, 'max_depth': 11, 'random_state': 524, 'min_child_weight': 89}. Best is trial 148 with value: 212.95961399599673.\n"
     ]
    },
    {
     "name": "stdout",
     "output_type": "stream",
     "text": [
      "Mean Absolute Error: 702.593500783697\n",
      "Mean Absolute Error: 679.0413254094065\n",
      "Mean Absolute Error: 310.4950796733264\n",
      "Mean Absolute Error: 307.81860187944335\n"
     ]
    },
    {
     "name": "stderr",
     "output_type": "stream",
     "text": [
      "[I 2023-10-25 14:31:08,173] Trial 264 finished with value: 304.93552575089376 and parameters: {'lambda': 0.003465607733082811, 'alpha': 0.0016872116634200735, 'colsample_bytree': 1.0, 'subsample': 1.0, 'learning_rate': 0.15122838208606298, 'n_estimators': 513, 'max_depth': 7, 'random_state': 615, 'min_child_weight': 62}. Best is trial 148 with value: 212.95961399599673.\n"
     ]
    },
    {
     "name": "stdout",
     "output_type": "stream",
     "text": [
      "Mean Absolute Error: 296.49289569991157\n",
      "Mean Absolute Error: 235.67078127730863\n"
     ]
    },
    {
     "name": "stderr",
     "output_type": "stream",
     "text": [
      "[I 2023-10-25 14:31:08,551] Trial 265 finished with value: 219.1795603439907 and parameters: {'lambda': 0.0015858890869368343, 'alpha': 0.025423314869967458, 'colsample_bytree': 0.9, 'subsample': 0.7, 'learning_rate': 0.4752025525070645, 'n_estimators': 761, 'max_depth': 13, 'random_state': 569, 'min_child_weight': 106}. Best is trial 148 with value: 212.95961399599673.\n"
     ]
    },
    {
     "name": "stdout",
     "output_type": "stream",
     "text": [
      "Mean Absolute Error: 217.01187662154777\n",
      "Mean Absolute Error: 204.8560231331156\n",
      "Mean Absolute Error: 229.24974944346803\n",
      "Mean Absolute Error: 209.1445206275715\n"
     ]
    },
    {
     "name": "stderr",
     "output_type": "stream",
     "text": [
      "[I 2023-10-25 14:31:09,041] Trial 266 finished with value: 214.57911918115488 and parameters: {'lambda': 0.023182843915098422, 'alpha': 0.01083442988552419, 'colsample_bytree': 0.9, 'subsample': 1.0, 'learning_rate': 0.3333855405784448, 'n_estimators': 919, 'max_depth': 17, 'random_state': 597, 'min_child_weight': 77}. Best is trial 148 with value: 212.95961399599673.\n"
     ]
    },
    {
     "name": "stdout",
     "output_type": "stream",
     "text": [
      "Mean Absolute Error: 205.34308747242517\n",
      "Mean Absolute Error: 232.79227559448162\n"
     ]
    },
    {
     "name": "stderr",
     "output_type": "stream",
     "text": [
      "[I 2023-10-25 14:31:09,486] Trial 267 finished with value: 221.0405863653292 and parameters: {'lambda': 0.02172676225116875, 'alpha': 0.008644610979437804, 'colsample_bytree': 0.9, 'subsample': 0.8, 'learning_rate': 0.2965889153016494, 'n_estimators': 929, 'max_depth': 17, 'random_state': 629, 'min_child_weight': 70}. Best is trial 148 with value: 212.95961399599673.\n"
     ]
    },
    {
     "name": "stdout",
     "output_type": "stream",
     "text": [
      "Mean Absolute Error: 221.04092009394836\n",
      "Mean Absolute Error: 209.28856340755758\n",
      "Mean Absolute Error: 755.6009450017543\n",
      "Mean Absolute Error: 779.7684687068427\n"
     ]
    },
    {
     "name": "stderr",
     "output_type": "stream",
     "text": [
      "[I 2023-10-25 14:31:09,863] Trial 268 finished with value: 763.1199821622487 and parameters: {'lambda': 0.006480998156114079, 'alpha': 0.011707387150386158, 'colsample_bytree': 0.5, 'subsample': 0.8, 'learning_rate': 0.011201744236804343, 'n_estimators': 917, 'max_depth': 17, 'random_state': 75, 'min_child_weight': 82}. Best is trial 148 with value: 212.95961399599673.\n"
     ]
    },
    {
     "name": "stdout",
     "output_type": "stream",
     "text": [
      "Mean Absolute Error: 753.9905327781493\n",
      "Mean Absolute Error: 418.95624288499874\n"
     ]
    },
    {
     "name": "stderr",
     "output_type": "stream",
     "text": [
      "[I 2023-10-25 14:31:10,250] Trial 269 finished with value: 416.7372885529806 and parameters: {'lambda': 0.17769779133644908, 'alpha': 0.01068335355402347, 'colsample_bytree': 0.3, 'subsample': 1.0, 'learning_rate': 0.09591793262268498, 'n_estimators': 642, 'max_depth': 17, 'random_state': 603, 'min_child_weight': 74}. Best is trial 148 with value: 212.95961399599673.\n"
     ]
    },
    {
     "name": "stdout",
     "output_type": "stream",
     "text": [
      "Mean Absolute Error: 423.1833901679335\n",
      "Mean Absolute Error: 408.0722326060097\n",
      "Mean Absolute Error: 356.9445051524885\n",
      "Mean Absolute Error: 360.19988806542165\n"
     ]
    },
    {
     "name": "stderr",
     "output_type": "stream",
     "text": [
      "[I 2023-10-25 14:31:10,667] Trial 270 finished with value: 353.5653609216377 and parameters: {'lambda': 0.002934055437042721, 'alpha': 0.015568637946189163, 'colsample_bytree': 0.9, 'subsample': 0.8, 'learning_rate': 0.12058372859024787, 'n_estimators': 856, 'max_depth': 17, 'random_state': 776, 'min_child_weight': 90}. Best is trial 148 with value: 212.95961399599673.\n"
     ]
    },
    {
     "name": "stdout",
     "output_type": "stream",
     "text": [
      "Mean Absolute Error: 343.55168954700287\n",
      "Mean Absolute Error: 527.167121272512\n"
     ]
    },
    {
     "name": "stderr",
     "output_type": "stream",
     "text": [
      "[I 2023-10-25 14:31:11,105] Trial 271 finished with value: 527.7592751762392 and parameters: {'lambda': 0.027548014151533563, 'alpha': 0.008101589364165624, 'colsample_bytree': 0.9, 'subsample': 1.0, 'learning_rate': 0.05646072750625471, 'n_estimators': 974, 'max_depth': 17, 'random_state': 657, 'min_child_weight': 80}. Best is trial 148 with value: 212.95961399599673.\n"
     ]
    },
    {
     "name": "stdout",
     "output_type": "stream",
     "text": [
      "Mean Absolute Error: 537.867173529147\n",
      "Mean Absolute Error: 518.2435307270584\n",
      "Mean Absolute Error: 786.9878431721919\n",
      "Mean Absolute Error: 812.709180090751\n"
     ]
    },
    {
     "name": "stderr",
     "output_type": "stream",
     "text": [
      "[I 2023-10-25 14:31:11,539] Trial 272 finished with value: 795.1477608338364 and parameters: {'lambda': 0.007145206617581906, 'alpha': 0.002816556205170047, 'colsample_bytree': 0.9, 'subsample': 0.8, 'learning_rate': 0.006400475203122841, 'n_estimators': 132, 'max_depth': 13, 'random_state': 483, 'min_child_weight': 67}. Best is trial 148 with value: 212.95961399599673.\n"
     ]
    },
    {
     "name": "stdout",
     "output_type": "stream",
     "text": [
      "Mean Absolute Error: 785.7462592385664\n",
      "Mean Absolute Error: 231.02688532267754\n"
     ]
    },
    {
     "name": "stderr",
     "output_type": "stream",
     "text": [
      "[I 2023-10-25 14:31:11,958] Trial 273 finished with value: 215.89154077163917 and parameters: {'lambda': 0.004826518981895798, 'alpha': 0.014545562816035263, 'colsample_bytree': 0.9, 'subsample': 0.8, 'learning_rate': 0.3463526280407363, 'n_estimators': 539, 'max_depth': 13, 'random_state': 247, 'min_child_weight': 77}. Best is trial 148 with value: 212.95961399599673.\n"
     ]
    },
    {
     "name": "stdout",
     "output_type": "stream",
     "text": [
      "Mean Absolute Error: 214.440703470604\n",
      "Mean Absolute Error: 202.20703352163602\n",
      "Mean Absolute Error: 245.01515326933492\n",
      "Mean Absolute Error: 233.1576071059956\n"
     ]
    },
    {
     "name": "stderr",
     "output_type": "stream",
     "text": [
      "[I 2023-10-25 14:31:12,410] Trial 274 finished with value: 233.5604977297212 and parameters: {'lambda': 0.010515717986724711, 'alpha': 0.002355063680340514, 'colsample_bytree': 0.9, 'subsample': 1.0, 'learning_rate': 0.24920469125876157, 'n_estimators': 522, 'max_depth': 17, 'random_state': 632, 'min_child_weight': 94}. Best is trial 148 with value: 212.95961399599673.\n"
     ]
    },
    {
     "name": "stdout",
     "output_type": "stream",
     "text": [
      "Mean Absolute Error: 222.50873281383298\n",
      "Mean Absolute Error: 232.42572942328843\n"
     ]
    },
    {
     "name": "stderr",
     "output_type": "stream",
     "text": [
      "[I 2023-10-25 14:31:12,818] Trial 275 finished with value: 215.30934662779975 and parameters: {'lambda': 0.0022376938716925864, 'alpha': 0.0034241277785520634, 'colsample_bytree': 0.7, 'subsample': 0.8, 'learning_rate': 0.3804285130480262, 'n_estimators': 944, 'max_depth': 13, 'random_state': 602, 'min_child_weight': 100}. Best is trial 148 with value: 212.95961399599673.\n"
     ]
    },
    {
     "name": "stdout",
     "output_type": "stream",
     "text": [
      "Mean Absolute Error: 213.82702352545476\n",
      "Mean Absolute Error: 199.67528693465607\n",
      "Mean Absolute Error: 239.0283847371472\n",
      "Mean Absolute Error: 219.14653525554712\n",
      "Mean Absolute Error: 215.39969408262033\n"
     ]
    },
    {
     "name": "stderr",
     "output_type": "stream",
     "text": [
      "[I 2023-10-25 14:31:13,180] Trial 276 finished with value: 224.52487135843822 and parameters: {'lambda': 0.0026266532713250163, 'alpha': 0.0035160376027101466, 'colsample_bytree': 0.7, 'subsample': 0.4, 'learning_rate': 0.37992554369931725, 'n_estimators': 915, 'max_depth': 13, 'random_state': 549, 'min_child_weight': 87}. Best is trial 148 with value: 212.95961399599673.\n"
     ]
    },
    {
     "name": "stdout",
     "output_type": "stream",
     "text": [
      "Mean Absolute Error: 238.38183382700424\n",
      "Mean Absolute Error: 224.07028577177908\n"
     ]
    },
    {
     "name": "stderr",
     "output_type": "stream",
     "text": [
      "[I 2023-10-25 14:31:13,571] Trial 277 finished with value: 225.5398340912171 and parameters: {'lambda': 0.003695631041866478, 'alpha': 0.002789698586599216, 'colsample_bytree': 0.7, 'subsample': 0.8, 'learning_rate': 0.2858451156584668, 'n_estimators': 951, 'max_depth': 13, 'random_state': 814, 'min_child_weight': 98}. Best is trial 148 with value: 212.95961399599673.\n"
     ]
    },
    {
     "name": "stdout",
     "output_type": "stream",
     "text": [
      "Mean Absolute Error: 214.16738267486795\n",
      "Mean Absolute Error: 261.73358541428786\n"
     ]
    },
    {
     "name": "stderr",
     "output_type": "stream",
     "text": [
      "[I 2023-10-25 14:31:14,009] Trial 278 finished with value: 236.25420389273646 and parameters: {'lambda': 0.06827471724934017, 'alpha': 0.005960316339455666, 'colsample_bytree': 0.7, 'subsample': 1.0, 'learning_rate': 0.6579719106308612, 'n_estimators': 952, 'max_depth': 13, 'random_state': 597, 'min_child_weight': 56}. Best is trial 148 with value: 212.95961399599673.\n"
     ]
    },
    {
     "name": "stdout",
     "output_type": "stream",
     "text": [
      "Mean Absolute Error: 223.54023104143292\n",
      "Mean Absolute Error: 223.48879522248868\n",
      "Mean Absolute Error: 258.4027786951666\n",
      "Mean Absolute Error: 248.73450550536964\n"
     ]
    },
    {
     "name": "stderr",
     "output_type": "stream",
     "text": [
      "[I 2023-10-25 14:31:14,437] Trial 279 finished with value: 249.0357116154579 and parameters: {'lambda': 0.0011531914658054452, 'alpha': 0.002066345691750937, 'colsample_bytree': 0.7, 'subsample': 0.8, 'learning_rate': 0.21185073541817742, 'n_estimators': 944, 'max_depth': 13, 'random_state': 499, 'min_child_weight': 84}. Best is trial 148 with value: 212.95961399599673.\n"
     ]
    },
    {
     "name": "stdout",
     "output_type": "stream",
     "text": [
      "Mean Absolute Error: 239.9698506458375\n",
      "Mean Absolute Error: 227.93212916573245\n"
     ]
    },
    {
     "name": "stderr",
     "output_type": "stream",
     "text": [
      "[I 2023-10-25 14:31:14,750] Trial 280 finished with value: 218.8157776428808 and parameters: {'lambda': 0.11517485427577896, 'alpha': 0.004226509562167548, 'colsample_bytree': 0.7, 'subsample': 1.0, 'learning_rate': 0.32769001372046397, 'n_estimators': 977, 'max_depth': 5, 'random_state': 567, 'min_child_weight': 102}. Best is trial 148 with value: 212.95961399599673.\n"
     ]
    },
    {
     "name": "stdout",
     "output_type": "stream",
     "text": [
      "Mean Absolute Error: 215.38239563683607\n",
      "Mean Absolute Error: 213.13280812607388\n",
      "Mean Absolute Error: 236.36657909909798\n",
      "Mean Absolute Error: 214.55370424147557\n"
     ]
    },
    {
     "name": "stderr",
     "output_type": "stream",
     "text": [
      "[I 2023-10-25 14:31:15,145] Trial 281 finished with value: 219.15275424052854 and parameters: {'lambda': 0.030583433668270776, 'alpha': 0.003198060309516742, 'colsample_bytree': 0.9, 'subsample': 0.8, 'learning_rate': 0.42527793424440563, 'n_estimators': 493, 'max_depth': 9, 'random_state': 612, 'min_child_weight': 70}. Best is trial 148 with value: 212.95961399599673.\n"
     ]
    },
    {
     "name": "stdout",
     "output_type": "stream",
     "text": [
      "Mean Absolute Error: 206.53797938101204\n",
      "Mean Absolute Error: 248.52298378839828\n"
     ]
    },
    {
     "name": "stderr",
     "output_type": "stream",
     "text": [
      "[I 2023-10-25 14:31:15,571] Trial 282 finished with value: 224.95364982773273 and parameters: {'lambda': 0.0021404982400115096, 'alpha': 0.0024739733853600954, 'colsample_bytree': 0.9, 'subsample': 1.0, 'learning_rate': 0.5648593327336667, 'n_estimators': 991, 'max_depth': 13, 'random_state': 592, 'min_child_weight': 92}. Best is trial 148 with value: 212.95961399599673.\n"
     ]
    },
    {
     "name": "stdout",
     "output_type": "stream",
     "text": [
      "Mean Absolute Error: 214.53498449552416\n",
      "Mean Absolute Error: 211.80298119927576\n"
     ]
    },
    {
     "name": "stderr",
     "output_type": "stream",
     "text": [
      "[I 2023-10-25 14:31:15,895] Trial 283 finished with value: 219.85839439569477 and parameters: {'lambda': 0.0019375741061746176, 'alpha': 0.007066792166627562, 'colsample_bytree': 0.9, 'subsample': 0.8, 'learning_rate': 0.3933284168530169, 'n_estimators': 561, 'max_depth': 7, 'random_state': 531, 'min_child_weight': 201}. Best is trial 148 with value: 212.95961399599673.\n"
     ]
    },
    {
     "name": "stdout",
     "output_type": "stream",
     "text": [
      "Mean Absolute Error: 236.4706488972842\n",
      "Mean Absolute Error: 215.02664570354844\n",
      "Mean Absolute Error: 208.0778885862517\n"
     ]
    },
    {
     "name": "stderr",
     "output_type": "stream",
     "text": [
      "[I 2023-10-25 14:31:16,234] Trial 284 finished with value: 287.8918783212002 and parameters: {'lambda': 0.09649915035384322, 'alpha': 0.009860960171277132, 'colsample_bytree': 0.9, 'subsample': 0.8, 'learning_rate': 0.17521492699308158, 'n_estimators': 581, 'max_depth': 13, 'random_state': 679, 'min_child_weight': 214}. Best is trial 148 with value: 212.95961399599673.\n"
     ]
    },
    {
     "name": "stdout",
     "output_type": "stream",
     "text": [
      "Mean Absolute Error: 296.18981834529336\n",
      "Mean Absolute Error: 288.9023854408588\n",
      "Mean Absolute Error: 278.58343117744835\n",
      "Mean Absolute Error: 246.29414562067026\n",
      "Mean Absolute Error: 226.88417085711234\n"
     ]
    },
    {
     "name": "stderr",
     "output_type": "stream",
     "text": [
      "[I 2023-10-25 14:31:16,647] Trial 285 finished with value: 231.17059732022327 and parameters: {'lambda': 0.0012005238098283162, 'alpha': 0.00188595276735583, 'colsample_bytree': 0.4, 'subsample': 1.0, 'learning_rate': 0.2633776467023643, 'n_estimators': 888, 'max_depth': 13, 'random_state': 639, 'min_child_weight': 79}. Best is trial 148 with value: 212.95961399599673.\n"
     ]
    },
    {
     "name": "stdout",
     "output_type": "stream",
     "text": [
      "Mean Absolute Error: 220.3334754828873\n",
      "Mean Absolute Error: 241.3506313119166\n"
     ]
    },
    {
     "name": "stderr",
     "output_type": "stream",
     "text": [
      "[I 2023-10-25 14:31:17,044] Trial 286 finished with value: 222.90242554088945 and parameters: {'lambda': 0.011773574451922595, 'alpha': 0.0022646726959929956, 'colsample_bytree': 0.6, 'subsample': 0.8, 'learning_rate': 0.4827746952997432, 'n_estimators': 952, 'max_depth': 13, 'random_state': 580, 'min_child_weight': 98}. Best is trial 148 with value: 212.95961399599673.\n"
     ]
    },
    {
     "name": "stdout",
     "output_type": "stream",
     "text": [
      "Mean Absolute Error: 217.8377113914751\n",
      "Mean Absolute Error: 209.51893391927663\n",
      "Mean Absolute Error: 829.7330157329812\n",
      "Mean Absolute Error: 857.6937381191319\n"
     ]
    },
    {
     "name": "stderr",
     "output_type": "stream",
     "text": [
      "[I 2023-10-25 14:31:17,412] Trial 287 finished with value: 839.0563568869321 and parameters: {'lambda': 0.017831994723149395, 'alpha': 0.0011330790764278328, 'colsample_bytree': 0.7, 'subsample': 0.6, 'learning_rate': 0.00032460012048835717, 'n_estimators': 784, 'max_depth': 13, 'random_state': 464, 'min_child_weight': 86}. Best is trial 148 with value: 212.95961399599673.\n"
     ]
    },
    {
     "name": "stdout",
     "output_type": "stream",
     "text": [
      "Mean Absolute Error: 829.7423168086835\n",
      "Mean Absolute Error: 277.7889056197902\n"
     ]
    },
    {
     "name": "stderr",
     "output_type": "stream",
     "text": [
      "[I 2023-10-25 14:31:17,754] Trial 288 finished with value: 247.54089236774507 and parameters: {'lambda': 0.015282412675558282, 'alpha': 0.0016568019906646621, 'colsample_bytree': 0.9, 'subsample': 1.0, 'learning_rate': 0.8581460053736972, 'n_estimators': 818, 'max_depth': 7, 'random_state': 617, 'min_child_weight': 65}. Best is trial 148 with value: 212.95961399599673.\n"
     ]
    },
    {
     "name": "stdout",
     "output_type": "stream",
     "text": [
      "Mean Absolute Error: 238.79365476577595\n",
      "Mean Absolute Error: 226.04011671766904\n",
      "Mean Absolute Error: 236.6744008429794\n",
      "Mean Absolute Error: 213.39828950906823\n"
     ]
    },
    {
     "name": "stderr",
     "output_type": "stream",
     "text": [
      "[I 2023-10-25 14:31:19,501] Trial 289 finished with value: 219.52892862047943 and parameters: {'lambda': 0.002504294493186934, 'alpha': 0.004936068318014258, 'colsample_bytree': 0.9, 'subsample': 0.8, 'learning_rate': 0.33976072575020483, 'n_estimators': 505, 'max_depth': 9, 'random_state': 510, 'min_child_weight': 75}. Best is trial 148 with value: 212.95961399599673.\n"
     ]
    },
    {
     "name": "stdout",
     "output_type": "stream",
     "text": [
      "Mean Absolute Error: 208.51409550939076\n",
      "Mean Absolute Error: 269.105259315083\n"
     ]
    },
    {
     "name": "stderr",
     "output_type": "stream",
     "text": [
      "[I 2023-10-25 14:31:19,909] Trial 290 finished with value: 242.78949638029567 and parameters: {'lambda': 0.0032061267605537377, 'alpha': 0.011928637469422364, 'colsample_bytree': 0.9, 'subsample': 0.5, 'learning_rate': 0.7349257392934718, 'n_estimators': 825, 'max_depth': 13, 'random_state': 653, 'min_child_weight': 104}. Best is trial 148 with value: 212.95961399599673.\n"
     ]
    },
    {
     "name": "stdout",
     "output_type": "stream",
     "text": [
      "Mean Absolute Error: 233.73859376295965\n",
      "Mean Absolute Error: 225.52463606284434\n"
     ]
    },
    {
     "name": "stderr",
     "output_type": "stream",
     "text": [
      "[I 2023-10-25 14:31:20,222] Trial 291 finished with value: 215.56175460061135 and parameters: {'lambda': 0.31511599926203626, 'alpha': 0.003729765619528894, 'colsample_bytree': 0.9, 'subsample': 1.0, 'learning_rate': 0.41048051664824237, 'n_estimators': 958, 'max_depth': 5, 'random_state': 553, 'min_child_weight': 94}. Best is trial 148 with value: 212.95961399599673.\n"
     ]
    },
    {
     "name": "stdout",
     "output_type": "stream",
     "text": [
      "Mean Absolute Error: 230.38107563295856\n",
      "Mean Absolute Error: 210.48549538569364\n",
      "Mean Absolute Error: 205.8186927831819\n",
      "Mean Absolute Error: 228.9135055631075\n",
      "Mean Absolute Error: 216.77519404728068\n"
     ]
    },
    {
     "name": "stderr",
     "output_type": "stream",
     "text": [
      "[I 2023-10-25 14:31:20,680] Trial 292 finished with value: 217.83756800081736 and parameters: {'lambda': 0.001814694252265747, 'alpha': 0.0019212388944077681, 'colsample_bytree': 0.9, 'subsample': 0.8, 'learning_rate': 0.3036654199535137, 'n_estimators': 538, 'max_depth': 13, 'random_state': 591, 'min_child_weight': 88}. Best is trial 148 with value: 212.95961399599673.\n"
     ]
    },
    {
     "name": "stdout",
     "output_type": "stream",
     "text": [
      "Mean Absolute Error: 207.82400439206387\n",
      "Mean Absolute Error: 254.1381115133555\n"
     ]
    },
    {
     "name": "stderr",
     "output_type": "stream",
     "text": [
      "[I 2023-10-25 14:31:21,088] Trial 293 finished with value: 228.91306426454707 and parameters: {'lambda': 0.03621772954887459, 'alpha': 0.0014743237008629766, 'colsample_bytree': 0.9, 'subsample': 0.7, 'learning_rate': 0.568976520268067, 'n_estimators': 597, 'max_depth': 13, 'random_state': 627, 'min_child_weight': 109}. Best is trial 148 with value: 212.95961399599673.\n"
     ]
    },
    {
     "name": "stdout",
     "output_type": "stream",
     "text": [
      "Mean Absolute Error: 218.98176684129987\n",
      "Mean Absolute Error: 213.6193144389859\n",
      "Mean Absolute Error: 244.6874681242669\n",
      "Mean Absolute Error: 216.19042574199216\n"
     ]
    },
    {
     "name": "stderr",
     "output_type": "stream",
     "text": [
      "[I 2023-10-25 14:31:21,540] Trial 294 finished with value: 224.47109491277925 and parameters: {'lambda': 0.0013353148542246478, 'alpha': 0.0379365306793959, 'colsample_bytree': 0.9, 'subsample': 0.8, 'learning_rate': 0.4858354322386754, 'n_estimators': 928, 'max_depth': 11, 'random_state': 672, 'min_child_weight': 53}. Best is trial 148 with value: 212.95961399599673.\n"
     ]
    },
    {
     "name": "stdout",
     "output_type": "stream",
     "text": [
      "Mean Absolute Error: 212.53539087207875\n",
      "Mean Absolute Error: 249.96066523931202\n"
     ]
    },
    {
     "name": "stderr",
     "output_type": "stream",
     "text": [
      "[I 2023-10-25 14:31:21,920] Trial 295 finished with value: 240.18786655228473 and parameters: {'lambda': 0.0010239347233711536, 'alpha': 0.0028503623795965633, 'colsample_bytree': 0.9, 'subsample': 1.0, 'learning_rate': 0.24268105937127663, 'n_estimators': 173, 'max_depth': 13, 'random_state': 607, 'min_child_weight': 185}. Best is trial 148 with value: 212.95961399599673.\n"
     ]
    },
    {
     "name": "stdout",
     "output_type": "stream",
     "text": [
      "Mean Absolute Error: 236.29536198751418\n",
      "Mean Absolute Error: 234.30757243002796\n",
      "Mean Absolute Error: 324.96711087500046\n",
      "Mean Absolute Error: 325.1965079945324\n"
     ]
    },
    {
     "name": "stderr",
     "output_type": "stream",
     "text": [
      "[I 2023-10-25 14:31:22,285] Trial 296 finished with value: 321.2975249178343 and parameters: {'lambda': 0.0023981779681008174, 'alpha': 0.0012080798256072878, 'colsample_bytree': 0.5, 'subsample': 0.8, 'learning_rate': 0.14102972764929703, 'n_estimators': 483, 'max_depth': 7, 'random_state': 712, 'min_child_weight': 82}. Best is trial 148 with value: 212.95961399599673.\n"
     ]
    },
    {
     "name": "stdout",
     "output_type": "stream",
     "text": [
      "Mean Absolute Error: 313.7289558839701\n",
      "Mean Absolute Error: 230.0444020045367\n"
     ]
    },
    {
     "name": "stderr",
     "output_type": "stream",
     "text": [
      "[I 2023-10-25 14:31:22,733] Trial 297 finished with value: 215.22954670802918 and parameters: {'lambda': 0.0015551838617311364, 'alpha': 0.002327260609640246, 'colsample_bytree': 0.9, 'subsample': 1.0, 'learning_rate': 0.36016434709513107, 'n_estimators': 800, 'max_depth': 11, 'random_state': 535, 'min_child_weight': 62}. Best is trial 148 with value: 212.95961399599673.\n"
     ]
    },
    {
     "name": "stdout",
     "output_type": "stream",
     "text": [
      "Mean Absolute Error: 210.43315287768536\n",
      "Mean Absolute Error: 205.21108524186548\n",
      "Mean Absolute Error: 240.10059110690068\n",
      "Mean Absolute Error: 216.77678222621353\n"
     ]
    },
    {
     "name": "stderr",
     "output_type": "stream",
     "text": [
      "[I 2023-10-25 14:31:23,217] Trial 298 finished with value: 220.85641416865485 and parameters: {'lambda': 0.02266214079825036, 'alpha': 0.04513640871095732, 'colsample_bytree': 0.7, 'subsample': 1.0, 'learning_rate': 0.3514283122694367, 'n_estimators': 797, 'max_depth': 13, 'random_state': 538, 'min_child_weight': 45}. Best is trial 148 with value: 212.95961399599673.\n"
     ]
    },
    {
     "name": "stdout",
     "output_type": "stream",
     "text": [
      "Mean Absolute Error: 205.69186917285035\n",
      "Mean Absolute Error: 236.42881849962134\n"
     ]
    },
    {
     "name": "stderr",
     "output_type": "stream",
     "text": [
      "[I 2023-10-25 14:31:23,715] Trial 299 finished with value: 221.4887751210282 and parameters: {'lambda': 0.0014129714573101644, 'alpha': 0.002551722074334964, 'colsample_bytree': 1.0, 'subsample': 1.0, 'learning_rate': 0.29427330945887853, 'n_estimators': 836, 'max_depth': 17, 'random_state': 564, 'min_child_weight': 62}. Best is trial 148 with value: 212.95961399599673.\n"
     ]
    },
    {
     "name": "stdout",
     "output_type": "stream",
     "text": [
      "Mean Absolute Error: 218.7464782274427\n",
      "Mean Absolute Error: 209.29102863602057\n",
      "Mean Absolute Error: 233.92618418290732\n",
      "Mean Absolute Error: 217.59975804885315\n"
     ]
    },
    {
     "name": "stderr",
     "output_type": "stream",
     "text": [
      "[I 2023-10-25 14:31:24,139] Trial 300 finished with value: 221.68770867484423 and parameters: {'lambda': 0.4851592290983962, 'alpha': 0.003393575846268717, 'colsample_bytree': 0.3, 'subsample': 1.0, 'learning_rate': 0.44414727317971037, 'n_estimators': 780, 'max_depth': 11, 'random_state': 576, 'min_child_weight': 52}. Best is trial 148 with value: 212.95961399599673.\n"
     ]
    },
    {
     "name": "stdout",
     "output_type": "stream",
     "text": [
      "Mean Absolute Error: 213.5371837927722\n",
      "Mean Absolute Error: 257.3282338539634\n"
     ]
    },
    {
     "name": "stderr",
     "output_type": "stream",
     "text": [
      "[I 2023-10-25 14:31:24,591] Trial 301 finished with value: 230.8845670087816 and parameters: {'lambda': 0.0016689893835656442, 'alpha': 0.00223707211793623, 'colsample_bytree': 0.9, 'subsample': 1.0, 'learning_rate': 0.5746961068666435, 'n_estimators': 793, 'max_depth': 13, 'random_state': 549, 'min_child_weight': 60}. Best is trial 148 with value: 212.95961399599673.\n"
     ]
    },
    {
     "name": "stdout",
     "output_type": "stream",
     "text": [
      "Mean Absolute Error: 220.18478955508462\n",
      "Mean Absolute Error: 215.14067761729683\n"
     ]
    },
    {
     "name": "stderr",
     "output_type": "stream",
     "text": [
      "[I 2023-10-25 14:31:24,910] Trial 302 finished with value: 247.7257264913568 and parameters: {'lambda': 0.19672766639214295, 'alpha': 0.0015701282440589112, 'colsample_bytree': 0.9, 'subsample': 1.0, 'learning_rate': 0.22371409763212013, 'n_estimators': 498, 'max_depth': 5, 'random_state': 641, 'min_child_weight': 69}. Best is trial 148 with value: 212.95961399599673.\n"
     ]
    },
    {
     "name": "stdout",
     "output_type": "stream",
     "text": [
      "Mean Absolute Error: 253.78747975758566\n",
      "Mean Absolute Error: 247.22620193844625\n",
      "Mean Absolute Error: 242.16349777803853\n",
      "Mean Absolute Error: 234.19420911359836\n",
      "Mean Absolute Error: 207.16734750753156\n"
     ]
    },
    {
     "name": "stderr",
     "output_type": "stream",
     "text": [
      "[I 2023-10-25 14:31:25,389] Trial 303 finished with value: 215.62397413023226 and parameters: {'lambda': 0.0012147406629316505, 'alpha': 0.006416383721956182, 'colsample_bytree': 0.9, 'subsample': 1.0, 'learning_rate': 0.33351310743129287, 'n_estimators': 515, 'max_depth': 13, 'random_state': 337, 'min_child_weight': 71}. Best is trial 148 with value: 212.95961399599673.\n"
     ]
    },
    {
     "name": "stdout",
     "output_type": "stream",
     "text": [
      "Mean Absolute Error: 205.51036576956687\n",
      "Mean Absolute Error: 236.06057885457648\n"
     ]
    },
    {
     "name": "stderr",
     "output_type": "stream",
     "text": [
      "[I 2023-10-25 14:31:25,753] Trial 304 finished with value: 215.3900064965026 and parameters: {'lambda': 0.09944967435368572, 'alpha': 0.029216012489366606, 'colsample_bytree': 0.9, 'subsample': 1.0, 'learning_rate': 0.4111144093643471, 'n_estimators': 809, 'max_depth': 9, 'random_state': 606, 'min_child_weight': 157}. Best is trial 148 with value: 212.95961399599673.\n"
     ]
    },
    {
     "name": "stdout",
     "output_type": "stream",
     "text": [
      "Mean Absolute Error: 206.50938585750396\n",
      "Mean Absolute Error: 203.60005477742737\n"
     ]
    },
    {
     "name": "stderr",
     "output_type": "stream",
     "text": [
      "[I 2023-10-25 14:31:26,118] Trial 305 finished with value: 266.7998775307711 and parameters: {'lambda': 0.01371358755569408, 'alpha': 0.016894272742912553, 'colsample_bytree': 0.9, 'subsample': 1.0, 'learning_rate': 0.9949666543867942, 'n_estimators': 999, 'max_depth': 9, 'random_state': 122, 'min_child_weight': 156}. Best is trial 148 with value: 212.95961399599673.\n"
     ]
    },
    {
     "name": "stdout",
     "output_type": "stream",
     "text": [
      "Mean Absolute Error: 313.19703355511376\n",
      "Mean Absolute Error: 250.33222612158815\n",
      "Mean Absolute Error: 236.87037291561128\n",
      "Mean Absolute Error: 239.4137463756407\n",
      "Mean Absolute Error: 219.46502191756417\n"
     ]
    },
    {
     "name": "stderr",
     "output_type": "stream",
     "text": [
      "[I 2023-10-25 14:31:26,515] Trial 306 finished with value: 224.9859916472955 and parameters: {'lambda': 0.08198246211809919, 'alpha': 0.026422074867996595, 'colsample_bytree': 0.9, 'subsample': 1.0, 'learning_rate': 0.2773126906871982, 'n_estimators': 807, 'max_depth': 9, 'random_state': 599, 'min_child_weight': 146}. Best is trial 148 with value: 212.95961399599673.\n"
     ]
    },
    {
     "name": "stdout",
     "output_type": "stream",
     "text": [
      "Mean Absolute Error: 216.0792066486816\n",
      "Mean Absolute Error: 231.5012364018233\n"
     ]
    },
    {
     "name": "stderr",
     "output_type": "stream",
     "text": [
      "[I 2023-10-25 14:31:26,890] Trial 307 finished with value: 215.52511817491575 and parameters: {'lambda': 0.12445729814026966, 'alpha': 0.013389517880109291, 'colsample_bytree': 0.9, 'subsample': 1.0, 'learning_rate': 0.3746606686565122, 'n_estimators': 849, 'max_depth': 9, 'random_state': 982, 'min_child_weight': 152}. Best is trial 148 with value: 212.95961399599673.\n"
     ]
    },
    {
     "name": "stdout",
     "output_type": "stream",
     "text": [
      "Mean Absolute Error: 211.11008035105905\n",
      "Mean Absolute Error: 203.9640377718649\n"
     ]
    },
    {
     "name": "stderr",
     "output_type": "stream",
     "text": [
      "[I 2023-10-25 14:31:27,232] Trial 308 finished with value: 236.56929107749966 and parameters: {'lambda': 0.009263989711219046, 'alpha': 0.017835273782328832, 'colsample_bytree': 0.4, 'subsample': 1.0, 'learning_rate': 0.4983976238283303, 'n_estimators': 866, 'max_depth': 9, 'random_state': 579, 'min_child_weight': 164}. Best is trial 148 with value: 212.95961399599673.\n"
     ]
    },
    {
     "name": "stdout",
     "output_type": "stream",
     "text": [
      "Mean Absolute Error: 259.57520670731463\n",
      "Mean Absolute Error: 231.70888450262177\n",
      "Mean Absolute Error: 218.42378202256262\n"
     ]
    },
    {
     "name": "stderr",
     "output_type": "stream",
     "text": [
      "[I 2023-10-25 14:31:27,594] Trial 309 finished with value: 215.32121844138842 and parameters: {'lambda': 0.06080981975607711, 'alpha': 0.01129080704114915, 'colsample_bytree': 0.9, 'subsample': 1.0, 'learning_rate': 0.40362479630132786, 'n_estimators': 773, 'max_depth': 9, 'random_state': 528, 'min_child_weight': 156}. Best is trial 148 with value: 212.95961399599673.\n"
     ]
    },
    {
     "name": "stdout",
     "output_type": "stream",
     "text": [
      "Mean Absolute Error: 231.5983366067032\n",
      "Mean Absolute Error: 208.24898419368495\n",
      "Mean Absolute Error: 206.11633452377714\n",
      "Mean Absolute Error: 233.38149947470419\n",
      "Mean Absolute Error: 215.3063728610421\n"
     ]
    },
    {
     "name": "stderr",
     "output_type": "stream",
     "text": [
      "[I 2023-10-25 14:31:27,961] Trial 310 finished with value: 219.42709999456318 and parameters: {'lambda': 0.06509747451332713, 'alpha': 0.009947084671084053, 'colsample_bytree': 0.9, 'subsample': 1.0, 'learning_rate': 0.32311402046082416, 'n_estimators': 769, 'max_depth': 11, 'random_state': 521, 'min_child_weight': 172}. Best is trial 148 with value: 212.95961399599673.\n"
     ]
    },
    {
     "name": "stdout",
     "output_type": "stream",
     "text": [
      "Mean Absolute Error: 209.59342764794323\n",
      "Mean Absolute Error: 279.5824022099048\n"
     ]
    },
    {
     "name": "stderr",
     "output_type": "stream",
     "text": [
      "[I 2023-10-25 14:31:28,304] Trial 311 finished with value: 271.2767265320372 and parameters: {'lambda': 0.008770006628518132, 'alpha': 0.06601542381156744, 'colsample_bytree': 0.7, 'subsample': 1.0, 'learning_rate': 0.18581190553447527, 'n_estimators': 739, 'max_depth': 7, 'random_state': 534, 'min_child_weight': 142}. Best is trial 148 with value: 212.95961399599673.\n"
     ]
    },
    {
     "name": "stdout",
     "output_type": "stream",
     "text": [
      "Mean Absolute Error: 271.44094453802296\n",
      "Mean Absolute Error: 262.8068328481838\n",
      "Mean Absolute Error: 263.6119016664534\n",
      "Mean Absolute Error: 229.38710723043272\n"
     ]
    },
    {
     "name": "stderr",
     "output_type": "stream",
     "text": [
      "[I 2023-10-25 14:31:28,696] Trial 312 finished with value: 241.57582326614985 and parameters: {'lambda': 0.04005158079146444, 'alpha': 0.0077714939408103844, 'colsample_bytree': 0.9, 'subsample': 0.4, 'learning_rate': 0.6474796740582998, 'n_estimators': 780, 'max_depth': 13, 'random_state': 513, 'min_child_weight': 59}. Best is trial 148 with value: 212.95961399599673.\n"
     ]
    },
    {
     "name": "stdout",
     "output_type": "stream",
     "text": [
      "Mean Absolute Error: 231.72846090156344\n",
      "Mean Absolute Error: 701.6692284334272\n"
     ]
    },
    {
     "name": "stderr",
     "output_type": "stream",
     "text": [
      "[I 2023-10-25 14:31:29,129] Trial 313 finished with value: 707.511489420894 and parameters: {'lambda': 0.004105405686128141, 'alpha': 0.013864626813903392, 'colsample_bytree': 0.9, 'subsample': 1.0, 'learning_rate': 0.019855124519385526, 'n_estimators': 275, 'max_depth': 9, 'random_state': 547, 'min_child_weight': 75}. Best is trial 148 with value: 212.95961399599673.\n"
     ]
    },
    {
     "name": "stdout",
     "output_type": "stream",
     "text": [
      "Mean Absolute Error: 722.6155567220927\n",
      "Mean Absolute Error: 698.2496831071622\n",
      "Mean Absolute Error: 250.30190737618227\n",
      "Mean Absolute Error: 213.63550584287339\n"
     ]
    },
    {
     "name": "stderr",
     "output_type": "stream",
     "text": [
      "[I 2023-10-25 14:31:29,606] Trial 314 finished with value: 224.13415158033703 and parameters: {'lambda': 0.022796775823252964, 'alpha': 0.004071447963406725, 'colsample_bytree': 0.9, 'subsample': 1.0, 'learning_rate': 0.479889573087735, 'n_estimators': 718, 'max_depth': 13, 'random_state': 557, 'min_child_weight': 66}. Best is trial 148 with value: 212.95961399599673.\n"
     ]
    },
    {
     "name": "stdout",
     "output_type": "stream",
     "text": [
      "Mean Absolute Error: 208.46504152195544\n",
      "Mean Absolute Error: 240.10542127468045\n"
     ]
    },
    {
     "name": "stderr",
     "output_type": "stream",
     "text": [
      "[I 2023-10-25 14:31:30,066] Trial 315 finished with value: 226.52080549842285 and parameters: {'lambda': 0.029328558559281803, 'alpha': 0.009630705946218577, 'colsample_bytree': 0.9, 'subsample': 1.0, 'learning_rate': 0.2658368985161836, 'n_estimators': 550, 'max_depth': 11, 'random_state': 218, 'min_child_weight': 79}. Best is trial 148 with value: 212.95961399599673.\n"
     ]
    },
    {
     "name": "stdout",
     "output_type": "stream",
     "text": [
      "Mean Absolute Error: 225.2419781774095\n",
      "Mean Absolute Error: 214.21501704317862\n",
      "Mean Absolute Error: 229.74165903963194\n",
      "Mean Absolute Error: 209.07296990837727\n"
     ]
    },
    {
     "name": "stderr",
     "output_type": "stream",
     "text": [
      "[I 2023-10-25 14:31:30,440] Trial 316 finished with value: 213.01963329604598 and parameters: {'lambda': 0.22423718465658796, 'alpha': 0.0011625680953685825, 'colsample_bytree': 0.6, 'subsample': 1.0, 'learning_rate': 0.3963316683672717, 'n_estimators': 904, 'max_depth': 13, 'random_state': 699, 'min_child_weight': 154}. Best is trial 148 with value: 212.95961399599673.\n"
     ]
    },
    {
     "name": "stdout",
     "output_type": "stream",
     "text": [
      "Mean Absolute Error: 200.2442709401287\n",
      "Mean Absolute Error: 261.09493442843586\n"
     ]
    },
    {
     "name": "stderr",
     "output_type": "stream",
     "text": [
      "[I 2023-10-25 14:31:30,821] Trial 317 finished with value: 236.56766907224394 and parameters: {'lambda': 0.23910453427617273, 'alpha': 0.0010374392172319625, 'colsample_bytree': 0.6, 'subsample': 1.0, 'learning_rate': 0.7574921280700214, 'n_estimators': 899, 'max_depth': 13, 'random_state': 699, 'min_child_weight': 152}. Best is trial 148 with value: 212.95961399599673.\n"
     ]
    },
    {
     "name": "stdout",
     "output_type": "stream",
     "text": [
      "Mean Absolute Error: 225.72089930860017\n",
      "Mean Absolute Error: 222.8871734796958\n",
      "Mean Absolute Error: 242.55525606969172\n",
      "Mean Absolute Error: 215.6844542233021\n"
     ]
    },
    {
     "name": "stderr",
     "output_type": "stream",
     "text": [
      "[I 2023-10-25 14:31:31,206] Trial 318 finished with value: 221.59474895484652 and parameters: {'lambda': 0.04496730767737957, 'alpha': 0.001218393227152951, 'colsample_bytree': 0.6, 'subsample': 1.0, 'learning_rate': 0.5596691675782205, 'n_estimators': 933, 'max_depth': 11, 'random_state': 699, 'min_child_weight': 165}. Best is trial 148 with value: 212.95961399599673.\n"
     ]
    },
    {
     "name": "stdout",
     "output_type": "stream",
     "text": [
      "Mean Absolute Error: 206.54453657154573\n",
      "Mean Absolute Error: 259.28863256800247\n"
     ]
    },
    {
     "name": "stderr",
     "output_type": "stream",
     "text": [
      "[I 2023-10-25 14:31:31,568] Trial 319 finished with value: 232.210924408811 and parameters: {'lambda': 0.26083868823030365, 'alpha': 0.0018050229627090194, 'colsample_bytree': 0.6, 'subsample': 0.5, 'learning_rate': 0.4199169446066634, 'n_estimators': 883, 'max_depth': 13, 'random_state': 673, 'min_child_weight': 154}. Best is trial 148 with value: 212.95961399599673.\n"
     ]
    },
    {
     "name": "stdout",
     "output_type": "stream",
     "text": [
      "Mean Absolute Error: 223.70220200013495\n",
      "Mean Absolute Error: 213.64193865829557\n"
     ]
    },
    {
     "name": "stderr",
     "output_type": "stream",
     "text": [
      "[I 2023-10-25 14:31:31,902] Trial 320 finished with value: 227.0993730901823 and parameters: {'lambda': 0.1646628085574171, 'alpha': 0.005350076268587723, 'colsample_bytree': 0.6, 'subsample': 0.6, 'learning_rate': 0.33038874646672894, 'n_estimators': 914, 'max_depth': 7, 'random_state': 489, 'min_child_weight': 178}. Best is trial 148 with value: 212.95961399599673.\n"
     ]
    },
    {
     "name": "stdout",
     "output_type": "stream",
     "text": [
      "Mean Absolute Error: 240.46204772069797\n",
      "Mean Absolute Error: 224.01409460473127\n",
      "Mean Absolute Error: 216.82197694511763\n"
     ]
    },
    {
     "name": "stderr",
     "output_type": "stream",
     "text": [
      "[I 2023-10-25 14:31:32,210] Trial 321 finished with value: 806.5625687464686 and parameters: {'lambda': 0.19514935633795547, 'alpha': 0.002928704064975782, 'colsample_bytree': 0.6, 'subsample': 1.0, 'learning_rate': 0.0048820617644822865, 'n_estimators': 961, 'max_depth': 5, 'random_state': 713, 'min_child_weight': 147}. Best is trial 148 with value: 212.95961399599673.\n"
     ]
    },
    {
     "name": "stdout",
     "output_type": "stream",
     "text": [
      "Mean Absolute Error: 797.7378901061172\n",
      "Mean Absolute Error: 824.5056870749657\n",
      "Mean Absolute Error: 797.4441290583231\n",
      "Mean Absolute Error: 466.60125392169675\n",
      "Mean Absolute Error: 475.7956736743874\n"
     ]
    },
    {
     "name": "stderr",
     "output_type": "stream",
     "text": [
      "[I 2023-10-25 14:31:32,580] Trial 322 finished with value: 466.45281479516325 and parameters: {'lambda': 0.08410489486890234, 'alpha': 0.0014469516816587318, 'colsample_bytree': 0.9, 'subsample': 1.0, 'learning_rate': 0.07542959882032263, 'n_estimators': 762, 'max_depth': 13, 'random_state': 657, 'min_child_weight': 159}. Best is trial 148 with value: 212.95961399599673.\n"
     ]
    },
    {
     "name": "stdout",
     "output_type": "stream",
     "text": [
      "Mean Absolute Error: 456.96151678940566\n",
      "Mean Absolute Error: 580.970691648989\n"
     ]
    },
    {
     "name": "stderr",
     "output_type": "stream",
     "text": [
      "[I 2023-10-25 14:31:32,933] Trial 323 finished with value: 584.3568100798901 and parameters: {'lambda': 0.3612408659589778, 'alpha': 0.16517215090585358, 'colsample_bytree': 0.9, 'subsample': 0.7, 'learning_rate': 0.04418436442567387, 'n_estimators': 829, 'max_depth': 9, 'random_state': 746, 'min_child_weight': 140}. Best is trial 148 with value: 212.95961399599673.\n"
     ]
    },
    {
     "name": "stdout",
     "output_type": "stream",
     "text": [
      "Mean Absolute Error: 596.3226717579374\n",
      "Mean Absolute Error: 575.777066832744\n",
      "Mean Absolute Error: 819.957233431492\n",
      "Mean Absolute Error: 847.3849538597286\n"
     ]
    },
    {
     "name": "stderr",
     "output_type": "stream",
     "text": [
      "[I 2023-10-25 14:31:33,401] Trial 324 finished with value: 829.0001322672206 and parameters: {'lambda': 0.015598472766839573, 'alpha': 0.007641128824374528, 'colsample_bytree': 0.9, 'subsample': 0.8, 'learning_rate': 0.0016752194043600968, 'n_estimators': 215, 'max_depth': 11, 'random_state': 527, 'min_child_weight': 56}. Best is trial 148 with value: 212.95961399599673.\n"
     ]
    },
    {
     "name": "stdout",
     "output_type": "stream",
     "text": [
      "Mean Absolute Error: 819.658209510441\n",
      "Mean Absolute Error: 256.11652095674685\n"
     ]
    },
    {
     "name": "stderr",
     "output_type": "stream",
     "text": [
      "[I 2023-10-25 14:31:33,963] Trial 325 finished with value: 243.23576390605604 and parameters: {'lambda': 0.12405987794786824, 'alpha': 0.002211431711274043, 'colsample_bytree': 0.9, 'subsample': 1.0, 'learning_rate': 0.2224122590694239, 'n_estimators': 793, 'max_depth': 13, 'random_state': 45, 'min_child_weight': 40}. Best is trial 148 with value: 212.95961399599673.\n"
     ]
    },
    {
     "name": "stdout",
     "output_type": "stream",
     "text": [
      "Mean Absolute Error: 241.6901786712402\n",
      "Mean Absolute Error: 231.90059209018102\n",
      "Mean Absolute Error: 235.27174930071152\n",
      "Mean Absolute Error: 209.6568649369555\n"
     ]
    },
    {
     "name": "stderr",
     "output_type": "stream",
     "text": [
      "[I 2023-10-25 14:31:34,419] Trial 326 finished with value: 217.25125579097926 and parameters: {'lambda': 0.14404412624976248, 'alpha': 0.011693546181752598, 'colsample_bytree': 0.7, 'subsample': 0.8, 'learning_rate': 0.39401522431917896, 'n_estimators': 558, 'max_depth': 13, 'random_state': 732, 'min_child_weight': 71}. Best is trial 148 with value: 212.95961399599673.\n"
     ]
    },
    {
     "name": "stdout",
     "output_type": "stream",
     "text": [
      "Mean Absolute Error: 206.8251531352707\n",
      "Mean Absolute Error: 643.6318634318633\n"
     ]
    },
    {
     "name": "stderr",
     "output_type": "stream",
     "text": [
      "[I 2023-10-25 14:31:34,834] Trial 327 finished with value: 648.087960697681 and parameters: {'lambda': 0.20437729702577084, 'alpha': 0.001015631666867591, 'colsample_bytree': 0.6, 'subsample': 0.8, 'learning_rate': 0.030669191443849636, 'n_estimators': 744, 'max_depth': 11, 'random_state': 680, 'min_child_weight': 63}. Best is trial 148 with value: 212.95961399599673.\n"
     ]
    },
    {
     "name": "stdout",
     "output_type": "stream",
     "text": [
      "Mean Absolute Error: 662.1730589183657\n",
      "Mean Absolute Error: 638.458959742814\n",
      "Mean Absolute Error: 721.4246706674076\n",
      "Mean Absolute Error: 744.7771770417527\n"
     ]
    },
    {
     "name": "stderr",
     "output_type": "stream",
     "text": [
      "[I 2023-10-25 14:31:35,206] Trial 328 finished with value: 728.7111176019638 and parameters: {'lambda': 0.027636802154581974, 'alpha': 0.0018493969906607213, 'colsample_bytree': 0.9, 'subsample': 1.0, 'learning_rate': 0.01665116976642952, 'n_estimators': 933, 'max_depth': 13, 'random_state': 171, 'min_child_weight': 162}. Best is trial 148 with value: 212.95961399599673.\n"
     ]
    },
    {
     "name": "stdout",
     "output_type": "stream",
     "text": [
      "Mean Absolute Error: 719.9315050967313\n",
      "Mean Absolute Error: 231.0851714439802\n"
     ]
    },
    {
     "name": "stderr",
     "output_type": "stream",
     "text": [
      "[I 2023-10-25 14:31:35,560] Trial 329 finished with value: 216.2361403393722 and parameters: {'lambda': 0.001334981626196206, 'alpha': 0.02185850747033528, 'colsample_bytree': 1.0, 'subsample': 0.8, 'learning_rate': 0.49411451619113345, 'n_estimators': 576, 'max_depth': 7, 'random_state': 508, 'min_child_weight': 82}. Best is trial 148 with value: 212.95961399599673.\n"
     ]
    },
    {
     "name": "stdout",
     "output_type": "stream",
     "text": [
      "Mean Absolute Error: 212.40196393140576\n",
      "Mean Absolute Error: 205.22128564273063\n",
      "Mean Absolute Error: 232.59639239429953\n",
      "Mean Absolute Error: 213.7887354585894\n"
     ]
    },
    {
     "name": "stderr",
     "output_type": "stream",
     "text": [
      "[I 2023-10-25 14:31:35,969] Trial 330 finished with value: 217.744007582059 and parameters: {'lambda': 0.2261298480599753, 'alpha': 0.002569434184252272, 'colsample_bytree': 0.9, 'subsample': 1.0, 'learning_rate': 0.3161072261931743, 'n_estimators': 527, 'max_depth': 13, 'random_state': 568, 'min_child_weight': 148}. Best is trial 148 with value: 212.95961399599673.\n"
     ]
    },
    {
     "name": "stdout",
     "output_type": "stream",
     "text": [
      "Mean Absolute Error: 206.8468948932881\n",
      "Mean Absolute Error: 253.60211563662662\n"
     ]
    },
    {
     "name": "stderr",
     "output_type": "stream",
     "text": [
      "[I 2023-10-25 14:31:36,319] Trial 331 finished with value: 228.50991642811334 and parameters: {'lambda': 0.11059398349350288, 'alpha': 0.0012792286759939864, 'colsample_bytree': 0.5, 'subsample': 0.8, 'learning_rate': 0.6660806238970791, 'n_estimators': 782, 'max_depth': 11, 'random_state': 639, 'min_child_weight': 196}. Best is trial 148 with value: 212.95961399599673.\n"
     ]
    },
    {
     "name": "stdout",
     "output_type": "stream",
     "text": [
      "Mean Absolute Error: 218.9320430400075\n",
      "Mean Absolute Error: 212.99559060770594\n",
      "Mean Absolute Error: 230.36372316362758\n",
      "Mean Absolute Error: 210.0245014290912\n"
     ]
    },
    {
     "name": "stderr",
     "output_type": "stream",
     "text": [
      "[I 2023-10-25 14:31:36,739] Trial 332 finished with value: 214.09617497102954 and parameters: {'lambda': 0.17243110772122697, 'alpha': 0.001618322662421632, 'colsample_bytree': 0.9, 'subsample': 1.0, 'learning_rate': 0.37536153174557324, 'n_estimators': 814, 'max_depth': 9, 'random_state': 623, 'min_child_weight': 73}. Best is trial 148 with value: 212.95961399599673.\n"
     ]
    },
    {
     "name": "stdout",
     "output_type": "stream",
     "text": [
      "Mean Absolute Error: 201.90030032036992\n",
      "Mean Absolute Error: 482.5721399239681\n"
     ]
    },
    {
     "name": "stderr",
     "output_type": "stream",
     "text": [
      "[I 2023-10-25 14:31:37,179] Trial 333 finished with value: 482.71008851019883 and parameters: {'lambda': 0.0010600966703262977, 'alpha': 0.03274519204420518, 'colsample_bytree': 0.9, 'subsample': 0.8, 'learning_rate': 0.06902174196817369, 'n_estimators': 827, 'max_depth': 17, 'random_state': 623, 'min_child_weight': 75}. Best is trial 148 with value: 212.95961399599673.\n"
     ]
    },
    {
     "name": "stdout",
     "output_type": "stream",
     "text": [
      "Mean Absolute Error: 492.2408285297986\n",
      "Mean Absolute Error: 473.3172970768299\n",
      "Mean Absolute Error: 246.46038168033107\n",
      "Mean Absolute Error: 233.56663001682924\n"
     ]
    },
    {
     "name": "stderr",
     "output_type": "stream",
     "text": [
      "[I 2023-10-25 14:31:37,565] Trial 334 finished with value: 235.05779650035547 and parameters: {'lambda': 0.1816978887002352, 'alpha': 0.0016011399876101646, 'colsample_bytree': 0.9, 'subsample': 0.4, 'learning_rate': 0.2550390258160913, 'n_estimators': 239, 'max_depth': 13, 'random_state': 655, 'min_child_weight': 67}. Best is trial 148 with value: 212.95961399599673.\n"
     ]
    },
    {
     "name": "stdout",
     "output_type": "stream",
     "text": [
      "Mean Absolute Error: 225.14637780390606\n",
      "Mean Absolute Error: 277.3902753039509\n"
     ]
    },
    {
     "name": "stderr",
     "output_type": "stream",
     "text": [
      "[I 2023-10-25 14:31:38,016] Trial 335 finished with value: 260.85144938417596 and parameters: {'lambda': 0.002966432372482942, 'alpha': 0.002080568661683997, 'colsample_bytree': 0.3, 'subsample': 1.0, 'learning_rate': 0.36243025225346065, 'n_estimators': 805, 'max_depth': 13, 'random_state': 635, 'min_child_weight': 78}. Best is trial 148 with value: 212.95961399599673.\n"
     ]
    },
    {
     "name": "stdout",
     "output_type": "stream",
     "text": [
      "Mean Absolute Error: 257.46007107586684\n",
      "Mean Absolute Error: 247.70400177271028\n"
     ]
    },
    {
     "name": "stderr",
     "output_type": "stream",
     "text": [
      "[I 2023-10-25 14:31:38,325] Trial 336 finished with value: 220.8914466065925 and parameters: {'lambda': 0.15853087204274796, 'alpha': 0.0014069184578833407, 'colsample_bytree': 0.9, 'subsample': 0.8, 'learning_rate': 0.5440469476504203, 'n_estimators': 874, 'max_depth': 5, 'random_state': 611, 'min_child_weight': 85}. Best is trial 148 with value: 212.95961399599673.\n"
     ]
    },
    {
     "name": "stdout",
     "output_type": "stream",
     "text": [
      "Mean Absolute Error: 234.52714442852198\n",
      "Mean Absolute Error: 219.20058351519296\n",
      "Mean Absolute Error: 208.9466118760626\n",
      "Mean Absolute Error: 239.1473698395346\n",
      "Mean Absolute Error: 211.74899223229772\n"
     ]
    },
    {
     "name": "stderr",
     "output_type": "stream",
     "text": [
      "[I 2023-10-25 14:31:38,768] Trial 337 finished with value: 218.97136729048296 and parameters: {'lambda': 0.0015039595363352588, 'alpha': 0.003008314669038566, 'colsample_bytree': 0.9, 'subsample': 1.0, 'learning_rate': 0.45781155812400004, 'n_estimators': 906, 'max_depth': 11, 'random_state': 588, 'min_child_weight': 63}. Best is trial 148 with value: 212.95961399599673.\n"
     ]
    },
    {
     "name": "stdout",
     "output_type": "stream",
     "text": [
      "Mean Absolute Error: 206.01773979961663\n",
      "Mean Absolute Error: 577.5767992785924\n"
     ]
    },
    {
     "name": "stderr",
     "output_type": "stream",
     "text": [
      "[I 2023-10-25 14:31:39,129] Trial 338 finished with value: 580.9273334148303 and parameters: {'lambda': 0.0018822901843336137, 'alpha': 0.0017689893831325332, 'colsample_bytree': 0.7, 'subsample': 0.8, 'learning_rate': 0.044296097931532996, 'n_estimators': 851, 'max_depth': 7, 'random_state': 659, 'min_child_weight': 72}. Best is trial 148 with value: 212.95961399599673.\n"
     ]
    },
    {
     "name": "stdout",
     "output_type": "stream",
     "text": [
      "Mean Absolute Error: 593.562312766391\n",
      "Mean Absolute Error: 571.6428881995076\n",
      "Mean Absolute Error: 757.6094630337046\n",
      "Mean Absolute Error: 781.158354721699\n"
     ]
    },
    {
     "name": "stderr",
     "output_type": "stream",
     "text": [
      "[I 2023-10-25 14:31:39,655] Trial 339 finished with value: 764.8832858848077 and parameters: {'lambda': 0.001237208056929591, 'alpha': 0.0024854711830294913, 'colsample_bytree': 0.9, 'subsample': 1.0, 'learning_rate': 0.010729527467775028, 'n_estimators': 529, 'max_depth': 13, 'random_state': 622, 'min_child_weight': 49}. Best is trial 148 with value: 212.95961399599673.\n"
     ]
    },
    {
     "name": "stdout",
     "output_type": "stream",
     "text": [
      "Mean Absolute Error: 755.8820398990197\n",
      "Mean Absolute Error: 232.55158196758046\n"
     ]
    },
    {
     "name": "stderr",
     "output_type": "stream",
     "text": [
      "[I 2023-10-25 14:31:40,085] Trial 340 finished with value: 221.02822176668096 and parameters: {'lambda': 0.0052750369194158745, 'alpha': 0.001259830469267637, 'colsample_bytree': 0.9, 'subsample': 0.8, 'learning_rate': 0.3107560790029108, 'n_estimators': 802, 'max_depth': 17, 'random_state': 698, 'min_child_weight': 89}. Best is trial 148 with value: 212.95961399599673.\n"
     ]
    },
    {
     "name": "stdout",
     "output_type": "stream",
     "text": [
      "Mean Absolute Error: 220.4661389353469\n",
      "Mean Absolute Error: 210.06694439711546\n",
      "Mean Absolute Error: 236.51884808589048\n",
      "Mean Absolute Error: 224.4031040091276\n"
     ]
    },
    {
     "name": "stderr",
     "output_type": "stream",
     "text": [
      "[I 2023-10-25 14:31:40,510] Trial 341 finished with value: 226.08277409786558 and parameters: {'lambda': 0.008227331205927701, 'alpha': 0.0015966941587877176, 'colsample_bytree': 0.9, 'subsample': 1.0, 'learning_rate': 0.27773014447263683, 'n_estimators': 823, 'max_depth': 13, 'random_state': 677, 'min_child_weight': 122}. Best is trial 148 with value: 212.95961399599673.\n"
     ]
    },
    {
     "name": "stdout",
     "output_type": "stream",
     "text": [
      "Mean Absolute Error: 217.32637019857867\n",
      "Mean Absolute Error: 227.60466579210046\n"
     ]
    },
    {
     "name": "stderr",
     "output_type": "stream",
     "text": [
      "[I 2023-10-25 14:31:40,909] Trial 342 finished with value: 215.5301217979954 and parameters: {'lambda': 0.001669394473768017, 'alpha': 0.6781520458841387, 'colsample_bytree': 0.9, 'subsample': 0.8, 'learning_rate': 0.36801018453495943, 'n_estimators': 547, 'max_depth': 9, 'random_state': 593, 'min_child_weight': 79}. Best is trial 148 with value: 212.95961399599673.\n"
     ]
    },
    {
     "name": "stdout",
     "output_type": "stream",
     "text": [
      "Mean Absolute Error: 212.75763933138077\n",
      "Mean Absolute Error: 206.22806027050495\n"
     ]
    },
    {
     "name": "stderr",
     "output_type": "stream",
     "text": [
      "[I 2023-10-25 14:31:41,276] Trial 343 finished with value: 837.6650413236453 and parameters: {'lambda': 0.003907460010053624, 'alpha': 0.004839883127964282, 'colsample_bytree': 0.9, 'subsample': 1.0, 'learning_rate': 0.0005159549118367917, 'n_estimators': 966, 'max_depth': 11, 'random_state': 641, 'min_child_weight': 225}. Best is trial 148 with value: 212.95961399599673.\n"
     ]
    },
    {
     "name": "stdout",
     "output_type": "stream",
     "text": [
      "Mean Absolute Error: 828.3563085887861\n",
      "Mean Absolute Error: 856.2859271646843\n",
      "Mean Absolute Error: 828.3528882174656\n",
      "Mean Absolute Error: 269.5589167993147\n",
      "Mean Absolute Error: 261.944703016442\n"
     ]
    },
    {
     "name": "stderr",
     "output_type": "stream",
     "text": [
      "[I 2023-10-25 14:31:41,664] Trial 344 finished with value: 261.5611850330974 and parameters: {'lambda': 0.001011094754875887, 'alpha': 0.0034282329464860625, 'colsample_bytree': 0.4, 'subsample': 0.6, 'learning_rate': 0.2006467142457843, 'n_estimators': 310, 'max_depth': 13, 'random_state': 571, 'min_child_weight': 69}. Best is trial 148 with value: 212.95961399599673.\n"
     ]
    },
    {
     "name": "stdout",
     "output_type": "stream",
     "text": [
      "Mean Absolute Error: 253.1799352835354\n",
      "Mean Absolute Error: 241.13804646249739\n"
     ]
    },
    {
     "name": "stderr",
     "output_type": "stream",
     "text": [
      "[I 2023-10-25 14:31:42,172] Trial 345 finished with value: 221.4425726637845 and parameters: {'lambda': 0.0021307612108896917, 'alpha': 0.0021240481435690025, 'colsample_bytree': 0.9, 'subsample': 1.0, 'learning_rate': 0.4586951720680342, 'n_estimators': 569, 'max_depth': 17, 'random_state': 613, 'min_child_weight': 58}. Best is trial 148 with value: 212.95961399599673.\n"
     ]
    },
    {
     "name": "stdout",
     "output_type": "stream",
     "text": [
      "Mean Absolute Error: 215.6624911965632\n",
      "Mean Absolute Error: 207.52718033229291\n",
      "Mean Absolute Error: 365.5489855435082\n",
      "Mean Absolute Error: 368.74647218096277\n"
     ]
    },
    {
     "name": "stderr",
     "output_type": "stream",
     "text": [
      "[I 2023-10-25 14:31:42,573] Trial 346 finished with value: 362.6949520727415 and parameters: {'lambda': 0.22838599085905584, 'alpha': 0.0011274500073333571, 'colsample_bytree': 0.9, 'subsample': 0.8, 'learning_rate': 0.11564305840057638, 'n_estimators': 943, 'max_depth': 13, 'random_state': 592, 'min_child_weight': 86}. Best is trial 148 with value: 212.95961399599673.\n"
     ]
    },
    {
     "name": "stdout",
     "output_type": "stream",
     "text": [
      "Mean Absolute Error: 353.7893984937537\n",
      "Mean Absolute Error: 229.10772223151966\n"
     ]
    },
    {
     "name": "stderr",
     "output_type": "stream",
     "text": [
      "[I 2023-10-25 14:31:42,974] Trial 347 finished with value: 214.7933871093251 and parameters: {'lambda': 0.0013751761263856555, 'alpha': 0.0018817885089911178, 'colsample_bytree': 0.7, 'subsample': 1.0, 'learning_rate': 0.34049808765826095, 'n_estimators': 987, 'max_depth': 11, 'random_state': 629, 'min_child_weight': 116}. Best is trial 148 with value: 212.95961399599673.\n"
     ]
    },
    {
     "name": "stdout",
     "output_type": "stream",
     "text": [
      "Mean Absolute Error: 211.25092052373714\n",
      "Mean Absolute Error: 204.02151857271846\n",
      "Mean Absolute Error: 301.9662504311005\n",
      "Mean Absolute Error: 296.7472733342928\n"
     ]
    },
    {
     "name": "stderr",
     "output_type": "stream",
     "text": [
      "[I 2023-10-25 14:31:43,430] Trial 348 finished with value: 294.5320363720816 and parameters: {'lambda': 0.139581754807407, 'alpha': 0.0024795913674677986, 'colsample_bytree': 0.7, 'subsample': 1.0, 'learning_rate': 0.15965842171161387, 'n_estimators': 997, 'max_depth': 11, 'random_state': 654, 'min_child_weight': 75}. Best is trial 148 with value: 212.95961399599673.\n"
     ]
    },
    {
     "name": "stdout",
     "output_type": "stream",
     "text": [
      "Mean Absolute Error: 284.88258535085146\n",
      "Mean Absolute Error: 240.60620654690706\n"
     ]
    },
    {
     "name": "stderr",
     "output_type": "stream",
     "text": [
      "[I 2023-10-25 14:31:43,850] Trial 349 finished with value: 230.05672657031343 and parameters: {'lambda': 0.0026556008225064823, 'alpha': 0.0041815943533136555, 'colsample_bytree': 0.7, 'subsample': 1.0, 'learning_rate': 0.25323084676954066, 'n_estimators': 973, 'max_depth': 11, 'random_state': 683, 'min_child_weight': 92}. Best is trial 148 with value: 212.95961399599673.\n"
     ]
    },
    {
     "name": "stdout",
     "output_type": "stream",
     "text": [
      "Mean Absolute Error: 226.73730476710634\n",
      "Mean Absolute Error: 222.82666839692683\n",
      "Mean Absolute Error: 229.10005122288894\n",
      "Mean Absolute Error: 217.6932824370616\n"
     ]
    },
    {
     "name": "stderr",
     "output_type": "stream",
     "text": [
      "[I 2023-10-25 14:31:44,249] Trial 350 finished with value: 219.15691334381668 and parameters: {'lambda': 0.005767863701470023, 'alpha': 0.0019897027069693215, 'colsample_bytree': 0.7, 'subsample': 1.0, 'learning_rate': 0.30805102283657626, 'n_estimators': 993, 'max_depth': 11, 'random_state': 872, 'min_child_weight': 133}. Best is trial 148 with value: 212.95961399599673.\n"
     ]
    },
    {
     "name": "stdout",
     "output_type": "stream",
     "text": [
      "Mean Absolute Error: 210.67740637149956\n",
      "Mean Absolute Error: 560.0320226218585\n"
     ]
    },
    {
     "name": "stderr",
     "output_type": "stream",
     "text": [
      "[I 2023-10-25 14:31:44,651] Trial 351 finished with value: 562.1329936253242 and parameters: {'lambda': 0.0018709846307541265, 'alpha': 0.0015032049177212846, 'colsample_bytree': 0.7, 'subsample': 1.0, 'learning_rate': 0.04822356689728892, 'n_estimators': 978, 'max_depth': 11, 'random_state': 631, 'min_child_weight': 101}. Best is trial 148 with value: 212.95961399599673.\n"
     ]
    },
    {
     "name": "stdout",
     "output_type": "stream",
     "text": [
      "Mean Absolute Error: 573.4357067595155\n",
      "Mean Absolute Error: 552.9312514945985\n",
      "Mean Absolute Error: 232.78389225053897\n",
      "Mean Absolute Error: 212.8374470058786\n"
     ]
    },
    {
     "name": "stderr",
     "output_type": "stream",
     "text": [
      "[I 2023-10-25 14:31:45,094] Trial 352 finished with value: 216.27045879707987 and parameters: {'lambda': 0.0015343712135216978, 'alpha': 0.0012171722338899951, 'colsample_bytree': 0.7, 'subsample': 1.0, 'learning_rate': 0.36111996847959377, 'n_estimators': 13, 'max_depth': 11, 'random_state': 661, 'min_child_weight': 81}. Best is trial 148 with value: 212.95961399599673.\n"
     ]
    },
    {
     "name": "stdout",
     "output_type": "stream",
     "text": [
      "Mean Absolute Error: 203.19003713482206\n",
      "Mean Absolute Error: 246.08840964979225\n"
     ]
    },
    {
     "name": "stderr",
     "output_type": "stream",
     "text": [
      "[I 2023-10-25 14:31:45,514] Trial 353 finished with value: 224.19649176963227 and parameters: {'lambda': 0.0013938393181118123, 'alpha': 0.006126547300406067, 'colsample_bytree': 0.7, 'subsample': 1.0, 'learning_rate': 0.5885668984396446, 'n_estimators': 608, 'max_depth': 11, 'random_state': 554, 'min_child_weight': 65}. Best is trial 148 with value: 212.95961399599673.\n"
     ]
    },
    {
     "name": "stdout",
     "output_type": "stream",
     "text": [
      "Mean Absolute Error: 214.58055957177015\n",
      "Mean Absolute Error: 211.92050608733442\n"
     ]
    },
    {
     "name": "stderr",
     "output_type": "stream",
     "text": [
      "[I 2023-10-25 14:31:45,836] Trial 354 finished with value: 252.91652750673552 and parameters: {'lambda': 0.0022174260826827896, 'alpha': 0.0032615714963293704, 'colsample_bytree': 0.7, 'subsample': 0.5, 'learning_rate': 0.2318308233565736, 'n_estimators': 955, 'max_depth': 7, 'random_state': 469, 'min_child_weight': 188}. Best is trial 148 with value: 212.95961399599673.\n"
     ]
    },
    {
     "name": "stdout",
     "output_type": "stream",
     "text": [
      "Mean Absolute Error: 266.9152722312326\n",
      "Mean Absolute Error: 247.56396297862267\n",
      "Mean Absolute Error: 244.27034731035127\n"
     ]
    },
    {
     "name": "stderr",
     "output_type": "stream",
     "text": [
      "[I 2023-10-25 14:31:46,163] Trial 355 finished with value: 333.3820815640365 and parameters: {'lambda': 0.17053889733192634, 'alpha': 0.0019379837423260324, 'colsample_bytree': 0.6, 'subsample': 1.0, 'learning_rate': 0.13941323925811602, 'n_estimators': 783, 'max_depth': 5, 'random_state': 621, 'min_child_weight': 204}. Best is trial 148 with value: 212.95961399599673.\n"
     ]
    },
    {
     "name": "stdout",
     "output_type": "stream",
     "text": [
      "Mean Absolute Error: 337.0173596274626\n",
      "Mean Absolute Error: 336.123917288012\n",
      "Mean Absolute Error: 327.00496777663494\n",
      "Mean Absolute Error: 615.0699112598029\n",
      "Mean Absolute Error: 630.3917431896124\n"
     ]
    },
    {
     "name": "stderr",
     "output_type": "stream",
     "text": [
      "[I 2023-10-25 14:31:46,688] Trial 356 finished with value: 618.2454535989342 and parameters: {'lambda': 0.002874311249780244, 'alpha': 0.002704875624547307, 'colsample_bytree': 0.9, 'subsample': 1.0, 'learning_rate': 0.035929394443089756, 'n_estimators': 932, 'max_depth': 17, 'random_state': 644, 'min_child_weight': 54}. Best is trial 148 with value: 212.95961399599673.\n"
     ]
    },
    {
     "name": "stdout",
     "output_type": "stream",
     "text": [
      "Mean Absolute Error: 609.2747063473877\n",
      "Mean Absolute Error: 643.6291211712759\n"
     ]
    },
    {
     "name": "stderr",
     "output_type": "stream",
     "text": [
      "[I 2023-10-25 14:31:47,090] Trial 357 finished with value: 648.7864738200523 and parameters: {'lambda': 0.04595601554037314, 'alpha': 0.0014256625821627447, 'colsample_bytree': 0.9, 'subsample': 0.7, 'learning_rate': 0.03051632978106774, 'n_estimators': 696, 'max_depth': 11, 'random_state': 605, 'min_child_weight': 114}. Best is trial 148 with value: 212.95961399599673.\n"
     ]
    },
    {
     "name": "stdout",
     "output_type": "stream",
     "text": [
      "Mean Absolute Error: 663.0851892806703\n",
      "Mean Absolute Error: 639.6451110082106\n",
      "Mean Absolute Error: 275.92706520400856\n",
      "Mean Absolute Error: 228.19675878594302\n"
     ]
    },
    {
     "name": "stderr",
     "output_type": "stream",
     "text": [
      "[I 2023-10-25 14:31:47,519] Trial 358 finished with value: 244.60739305758628 and parameters: {'lambda': 0.003326785724388252, 'alpha': 0.0021780058305006208, 'colsample_bytree': 1.0, 'subsample': 1.0, 'learning_rate': 0.8258065757441283, 'n_estimators': 750, 'max_depth': 9, 'random_state': 94, 'min_child_weight': 72}. Best is trial 148 with value: 212.95961399599673.\n"
     ]
    },
    {
     "name": "stdout",
     "output_type": "stream",
     "text": [
      "Mean Absolute Error: 229.69835518280726\n",
      "Mean Absolute Error: 230.74024399306953\n"
     ]
    },
    {
     "name": "stderr",
     "output_type": "stream",
     "text": [
      "[I 2023-10-25 14:31:47,945] Trial 359 finished with value: 220.07524672478849 and parameters: {'lambda': 0.0018412115855977284, 'alpha': 0.0016823138090498052, 'colsample_bytree': 0.9, 'subsample': 1.0, 'learning_rate': 0.2960238857743597, 'n_estimators': 583, 'max_depth': 11, 'random_state': 576, 'min_child_weight': 108}. Best is trial 148 with value: 212.95961399599673.\n"
     ]
    },
    {
     "name": "stdout",
     "output_type": "stream",
     "text": [
      "Mean Absolute Error: 217.6609898676038\n",
      "Mean Absolute Error: 211.82450631369218\n",
      "Mean Absolute Error: 232.70880045228276\n",
      "Mean Absolute Error: 208.67204396518645\n"
     ]
    },
    {
     "name": "stderr",
     "output_type": "stream",
     "text": [
      "[I 2023-10-25 14:31:48,418] Trial 360 finished with value: 215.0687990221013 and parameters: {'lambda': 0.0012079652067777773, 'alpha': 0.002300761632898535, 'colsample_bytree': 0.9, 'subsample': 1.0, 'learning_rate': 0.3957600271627213, 'n_estimators': 189, 'max_depth': 17, 'random_state': 538, 'min_child_weight': 97}. Best is trial 148 with value: 212.95961399599673.\n"
     ]
    },
    {
     "name": "stdout",
     "output_type": "stream",
     "text": [
      "Mean Absolute Error: 203.82555264883473\n",
      "Mean Absolute Error: 672.9571617874165\n"
     ]
    },
    {
     "name": "stderr",
     "output_type": "stream",
     "text": [
      "[I 2023-10-25 14:31:48,877] Trial 361 finished with value: 677.8106833067633 and parameters: {'lambda': 0.0012271796882649829, 'alpha': 0.001157950461168657, 'colsample_bytree': 0.9, 'subsample': 1.0, 'learning_rate': 0.024969566165283775, 'n_estimators': 244, 'max_depth': 17, 'random_state': 536, 'min_child_weight': 83}. Best is trial 148 with value: 212.95961399599673.\n"
     ]
    },
    {
     "name": "stdout",
     "output_type": "stream",
     "text": [
      "Mean Absolute Error: 692.0471744382867\n",
      "Mean Absolute Error: 668.4277136945867\n",
      "Mean Absolute Error: 789.7790989482301\n",
      "Mean Absolute Error: 815.1832239407549\n"
     ]
    },
    {
     "name": "stderr",
     "output_type": "stream",
     "text": [
      "[I 2023-10-25 14:31:49,815] Trial 362 finished with value: 797.9002467141122 and parameters: {'lambda': 0.011429449011609923, 'alpha': 0.0023322555657231897, 'colsample_bytree': 0.9, 'subsample': 1.0, 'learning_rate': 0.005910530444535785, 'n_estimators': 95, 'max_depth': 17, 'random_state': 510, 'min_child_weight': 19}. Best is trial 148 with value: 212.95961399599673.\n"
     ]
    },
    {
     "name": "stdout",
     "output_type": "stream",
     "text": [
      "Mean Absolute Error: 788.7384172533517\n",
      "Mean Absolute Error: 235.23620329971706\n"
     ]
    },
    {
     "name": "stderr",
     "output_type": "stream",
     "text": [
      "[I 2023-10-25 14:31:50,312] Trial 363 finished with value: 216.32702354885532 and parameters: {'lambda': 0.0013738881073693241, 'alpha': 0.008563660305488082, 'colsample_bytree': 0.9, 'subsample': 1.0, 'learning_rate': 0.47431029845196027, 'n_estimators': 817, 'max_depth': 17, 'random_state': 304, 'min_child_weight': 90}. Best is trial 148 with value: 212.95961399599673.\n"
     ]
    },
    {
     "name": "stdout",
     "output_type": "stream",
     "text": [
      "Mean Absolute Error: 207.8415545303745\n",
      "Mean Absolute Error: 205.90331281647443\n",
      "Mean Absolute Error: 241.16322092259765\n",
      "Mean Absolute Error: 207.8413367243056\n"
     ]
    },
    {
     "name": "stderr",
     "output_type": "stream",
     "text": [
      "[I 2023-10-25 14:31:50,780] Trial 364 finished with value: 217.90979509918552 and parameters: {'lambda': 0.0071434644104993615, 'alpha': 0.0016599752153484513, 'colsample_bytree': 0.9, 'subsample': 1.0, 'learning_rate': 0.4072158894040095, 'n_estimators': 200, 'max_depth': 17, 'random_state': 548, 'min_child_weight': 95}. Best is trial 148 with value: 212.95961399599673.\n"
     ]
    },
    {
     "name": "stdout",
     "output_type": "stream",
     "text": [
      "Mean Absolute Error: 204.72482765065325\n",
      "Mean Absolute Error: 234.2211257340671\n"
     ]
    },
    {
     "name": "stderr",
     "output_type": "stream",
     "text": [
      "[I 2023-10-25 14:31:51,272] Trial 365 finished with value: 219.46259320040284 and parameters: {'lambda': 0.0011687001492867823, 'alpha': 0.0013584693870155868, 'colsample_bytree': 0.9, 'subsample': 1.0, 'learning_rate': 0.33016372174375, 'n_estimators': 844, 'max_depth': 17, 'random_state': 723, 'min_child_weight': 74}. Best is trial 148 with value: 212.95961399599673.\n"
     ]
    },
    {
     "name": "stdout",
     "output_type": "stream",
     "text": [
      "Mean Absolute Error: 212.08036343995528\n",
      "Mean Absolute Error: 212.08629042718619\n",
      "Mean Absolute Error: 743.5051282682898\n",
      "Mean Absolute Error: 766.5564943193287\n"
     ]
    },
    {
     "name": "stderr",
     "output_type": "stream",
     "text": [
      "[I 2023-10-25 14:31:51,731] Trial 366 finished with value: 750.3712631814329 and parameters: {'lambda': 0.0010148397136312197, 'alpha': 0.056292954936973234, 'colsample_bytree': 0.9, 'subsample': 1.0, 'learning_rate': 0.013047072251235818, 'n_estimators': 193, 'max_depth': 17, 'random_state': 495, 'min_child_weight': 85}. Best is trial 148 with value: 212.95961399599673.\n"
     ]
    },
    {
     "name": "stdout",
     "output_type": "stream",
     "text": [
      "Mean Absolute Error: 741.0521669566804\n",
      "Mean Absolute Error: 778.2997634253692\n"
     ]
    },
    {
     "name": "stderr",
     "output_type": "stream",
     "text": [
      "[I 2023-10-25 14:31:52,088] Trial 367 finished with value: 786.4861030891112 and parameters: {'lambda': 0.0015488014836314676, 'alpha': 0.00203905402945431, 'colsample_bytree': 0.5, 'subsample': 1.0, 'learning_rate': 0.007766280136078413, 'n_estimators': 182, 'max_depth': 7, 'random_state': 525, 'min_child_weight': 175}. Best is trial 148 with value: 212.95961399599673.\n"
     ]
    },
    {
     "name": "stdout",
     "output_type": "stream",
     "text": [
      "Mean Absolute Error: 803.7810480249517\n",
      "Mean Absolute Error: 777.3774978170131\n",
      "Mean Absolute Error: 251.59215075405703\n",
      "Mean Absolute Error: 215.9567422956343\n"
     ]
    },
    {
     "name": "stderr",
     "output_type": "stream",
     "text": [
      "[I 2023-10-25 14:31:52,586] Trial 368 finished with value: 225.74419182621878 and parameters: {'lambda': 0.6498948122785049, 'alpha': 0.0017854960752678687, 'colsample_bytree': 0.9, 'subsample': 1.0, 'learning_rate': 0.5322919005090337, 'n_estimators': 554, 'max_depth': 17, 'random_state': 481, 'min_child_weight': 60}. Best is trial 148 with value: 212.95961399599673.\n"
     ]
    },
    {
     "name": "stdout",
     "output_type": "stream",
     "text": [
      "Mean Absolute Error: 209.68368242896497\n",
      "Mean Absolute Error: 231.5180829152398\n"
     ]
    },
    {
     "name": "stderr",
     "output_type": "stream",
     "text": [
      "[I 2023-10-25 14:31:53,051] Trial 369 finished with value: 214.21959847864227 and parameters: {'lambda': 0.3418137404311349, 'alpha': 0.08947258562095069, 'colsample_bytree': 0.9, 'subsample': 1.0, 'learning_rate': 0.40756645391829416, 'n_estimators': 523, 'max_depth': 15, 'random_state': 564, 'min_child_weight': 79}. Best is trial 148 with value: 212.95961399599673.\n"
     ]
    },
    {
     "name": "stdout",
     "output_type": "stream",
     "text": [
      "Mean Absolute Error: 206.88996178274678\n",
      "Mean Absolute Error: 204.2507507379402\n",
      "Mean Absolute Error: 269.16623533354954\n",
      "Mean Absolute Error: 230.38637737295986\n"
     ]
    },
    {
     "name": "stderr",
     "output_type": "stream",
     "text": [
      "[I 2023-10-25 14:31:53,481] Trial 370 finished with value: 238.26616901101048 and parameters: {'lambda': 0.36387450372836805, 'alpha': 0.1194098986846003, 'colsample_bytree': 0.6, 'subsample': 1.0, 'learning_rate': 0.6607676032009502, 'n_estimators': 526, 'max_depth': 15, 'random_state': 566, 'min_child_weight': 79}. Best is trial 148 with value: 212.95961399599673.\n"
     ]
    },
    {
     "name": "stdout",
     "output_type": "stream",
     "text": [
      "Mean Absolute Error: 215.2458943265221\n",
      "Mean Absolute Error: 233.21258865690876\n"
     ]
    },
    {
     "name": "stderr",
     "output_type": "stream",
     "text": [
      "[I 2023-10-25 14:31:53,865] Trial 371 finished with value: 219.689542231701 and parameters: {'lambda': 0.3036065768998151, 'alpha': 0.04179251762116856, 'colsample_bytree': 0.9, 'subsample': 0.4, 'learning_rate': 0.439458730758346, 'n_estimators': 509, 'max_depth': 15, 'random_state': 689, 'min_child_weight': 90}. Best is trial 148 with value: 212.95961399599673.\n"
     ]
    },
    {
     "name": "stdout",
     "output_type": "stream",
     "text": [
      "Mean Absolute Error: 216.75035950192654\n",
      "Mean Absolute Error: 209.1056785362678\n",
      "Mean Absolute Error: 283.1739634043211\n",
      "Mean Absolute Error: 274.6794261617105\n"
     ]
    },
    {
     "name": "stderr",
     "output_type": "stream",
     "text": [
      "[I 2023-10-25 14:31:54,290] Trial 372 finished with value: 274.742081019914 and parameters: {'lambda': 0.1940557391480219, 'alpha': 0.08077984119718866, 'colsample_bytree': 0.3, 'subsample': 1.0, 'learning_rate': 0.18875192098644103, 'n_estimators': 143, 'max_depth': 15, 'random_state': 586, 'min_child_weight': 78}. Best is trial 148 with value: 212.95961399599673.\n"
     ]
    },
    {
     "name": "stdout",
     "output_type": "stream",
     "text": [
      "Mean Absolute Error: 266.37285349371047\n",
      "Mean Absolute Error: 239.48647101979097\n"
     ]
    },
    {
     "name": "stderr",
     "output_type": "stream",
     "text": [
      "[I 2023-10-25 14:31:54,717] Trial 373 finished with value: 224.8467516593506 and parameters: {'lambda': 0.30565875017343047, 'alpha': 0.013869121229336095, 'colsample_bytree': 0.9, 'subsample': 1.0, 'learning_rate': 0.27579348118159663, 'n_estimators': 539, 'max_depth': 15, 'random_state': 559, 'min_child_weight': 98}. Best is trial 148 with value: 212.95961399599673.\n"
     ]
    },
    {
     "name": "stdout",
     "output_type": "stream",
     "text": [
      "Mean Absolute Error: 222.5106434331592\n",
      "Mean Absolute Error: 212.54314052510156\n",
      "Mean Absolute Error: 242.3863886962321\n",
      "Mean Absolute Error: 211.54080948280827\n"
     ]
    },
    {
     "name": "stderr",
     "output_type": "stream",
     "text": [
      "[I 2023-10-25 14:31:55,163] Trial 374 finished with value: 219.20163259998972 and parameters: {'lambda': 0.4038606209723598, 'alpha': 0.006673701593194756, 'colsample_bytree': 0.9, 'subsample': 1.0, 'learning_rate': 0.5224091744719228, 'n_estimators': 509, 'max_depth': 15, 'random_state': 665, 'min_child_weight': 119}. Best is trial 148 with value: 212.95961399599673.\n"
     ]
    },
    {
     "name": "stdout",
     "output_type": "stream",
     "text": [
      "Mean Absolute Error: 203.67769962092888\n",
      "Mean Absolute Error: 497.2913206911355\n"
     ]
    },
    {
     "name": "stderr",
     "output_type": "stream",
     "text": [
      "[I 2023-10-25 14:31:55,559] Trial 375 finished with value: 499.34530926523166 and parameters: {'lambda': 0.277318679742756, 'alpha': 0.018723411563877194, 'colsample_bytree': 0.9, 'subsample': 0.6, 'learning_rate': 0.0647262338109016, 'n_estimators': 154, 'max_depth': 15, 'random_state': 633, 'min_child_weight': 84}. Best is trial 148 with value: 212.95961399599673.\n"
     ]
    },
    {
     "name": "stdout",
     "output_type": "stream",
     "text": [
      "Mean Absolute Error: 510.22156859052166\n",
      "Mean Absolute Error: 490.5230385140377\n",
      "Mean Absolute Error: 228.5359566539173\n",
      "Mean Absolute Error: 209.39231946210515\n"
     ]
    },
    {
     "name": "stderr",
     "output_type": "stream",
     "text": [
      "[I 2023-10-25 14:31:55,948] Trial 376 finished with value: 213.85078866195315 and parameters: {'lambda': 0.21654219507500733, 'alpha': 0.1396581510671858, 'colsample_bytree': 0.9, 'subsample': 1.0, 'learning_rate': 0.4156499919410684, 'n_estimators': 561, 'max_depth': 9, 'random_state': 577, 'min_child_weight': 129}. Best is trial 148 with value: 212.95961399599673.\n"
     ]
    },
    {
     "name": "stdout",
     "output_type": "stream",
     "text": [
      "Mean Absolute Error: 203.62408986983695\n",
      "Mean Absolute Error: 478.12029809435995\n"
     ]
    },
    {
     "name": "stderr",
     "output_type": "stream",
     "text": [
      "[I 2023-10-25 14:31:56,373] Trial 377 finished with value: 478.4775237424155 and parameters: {'lambda': 0.21404785443905575, 'alpha': 0.16305743228617223, 'colsample_bytree': 0.9, 'subsample': 1.0, 'learning_rate': 0.07089464353777566, 'n_estimators': 591, 'max_depth': 9, 'random_state': 582, 'min_child_weight': 123}. Best is trial 148 with value: 212.95961399599673.\n"
     ]
    },
    {
     "name": "stdout",
     "output_type": "stream",
     "text": [
      "Mean Absolute Error: 488.2201509091866\n",
      "Mean Absolute Error: 469.0921222236998\n"
     ]
    },
    {
     "name": "stderr",
     "output_type": "stream",
     "text": [
      "[I 2023-10-25 14:31:56,711] Trial 378 finished with value: 239.0645085330688 and parameters: {'lambda': 0.1399282403060595, 'alpha': 0.03803504639421812, 'colsample_bytree': 0.4, 'subsample': 0.5, 'learning_rate': 0.6243709870733601, 'n_estimators': 565, 'max_depth': 9, 'random_state': 617, 'min_child_weight': 127}. Best is trial 148 with value: 212.95961399599673.\n"
     ]
    },
    {
     "name": "stdout",
     "output_type": "stream",
     "text": [
      "Mean Absolute Error: 261.70228568016034\n",
      "Mean Absolute Error: 227.3786930187686\n",
      "Mean Absolute Error: 228.11254690027755\n",
      "Mean Absolute Error: 713.0044545289327\n",
      "Mean Absolute Error: 735.9507682326707\n"
     ]
    },
    {
     "name": "stderr",
     "output_type": "stream",
     "text": [
      "[I 2023-10-25 14:31:57,099] Trial 379 finished with value: 719.9857197408315 and parameters: {'lambda': 0.2425288497828797, 'alpha': 0.08058671723765083, 'colsample_bytree': 0.9, 'subsample': 1.0, 'learning_rate': 0.01798591470274372, 'n_estimators': 536, 'max_depth': 9, 'random_state': 596, 'min_child_weight': 133}. Best is trial 148 with value: 212.95961399599673.\n"
     ]
    },
    {
     "name": "stdout",
     "output_type": "stream",
     "text": [
      "Mean Absolute Error: 711.0019364608913\n",
      "Mean Absolute Error: 234.2357330481012\n"
     ]
    },
    {
     "name": "stderr",
     "output_type": "stream",
     "text": [
      "[I 2023-10-25 14:31:57,498] Trial 380 finished with value: 217.45154170245755 and parameters: {'lambda': 0.16719992348390778, 'alpha': 0.21927442340308623, 'colsample_bytree': 0.9, 'subsample': 1.0, 'learning_rate': 0.3269546231302513, 'n_estimators': 556, 'max_depth': 9, 'random_state': 643, 'min_child_weight': 115}. Best is trial 148 with value: 212.95961399599673.\n"
     ]
    },
    {
     "name": "stdout",
     "output_type": "stream",
     "text": [
      "Mean Absolute Error: 212.70789427115892\n",
      "Mean Absolute Error: 205.41099778811252\n",
      "Mean Absolute Error: 389.9209696470803\n",
      "Mean Absolute Error: 394.9107239636039\n"
     ]
    },
    {
     "name": "stderr",
     "output_type": "stream",
     "text": [
      "[I 2023-10-25 14:31:57,871] Trial 381 finished with value: 387.8218428495131 and parameters: {'lambda': 0.47340665457373987, 'alpha': 0.0942760606818895, 'colsample_bytree': 0.9, 'subsample': 0.7, 'learning_rate': 0.10502947993089579, 'n_estimators': 527, 'max_depth': 9, 'random_state': 574, 'min_child_weight': 109}. Best is trial 148 with value: 212.95961399599673.\n"
     ]
    },
    {
     "name": "stdout",
     "output_type": "stream",
     "text": [
      "Mean Absolute Error: 378.633834937855\n",
      "Mean Absolute Error: 234.8120679652025\n"
     ]
    },
    {
     "name": "stderr",
     "output_type": "stream",
     "text": [
      "[I 2023-10-25 14:31:58,243] Trial 382 finished with value: 217.49900614727096 and parameters: {'lambda': 0.2879620078394289, 'alpha': 0.1064368823082447, 'colsample_bytree': 0.9, 'subsample': 0.8, 'learning_rate': 0.4409822121540154, 'n_estimators': 564, 'max_depth': 9, 'random_state': 448, 'min_child_weight': 142}. Best is trial 148 with value: 212.95961399599673.\n"
     ]
    },
    {
     "name": "stdout",
     "output_type": "stream",
     "text": [
      "Mean Absolute Error: 211.59607484532748\n",
      "Mean Absolute Error: 206.08887563128292\n",
      "Mean Absolute Error: 801.1973554869124\n",
      "Mean Absolute Error: 827.8632784444706\n"
     ]
    },
    {
     "name": "stderr",
     "output_type": "stream",
     "text": [
      "[I 2023-10-25 14:31:58,623] Trial 383 finished with value: 809.8591229886309 and parameters: {'lambda': 0.2562957373729649, 'alpha': 0.9673694753344005, 'colsample_bytree': 0.9, 'subsample': 1.0, 'learning_rate': 0.004349714367222953, 'n_estimators': 619, 'max_depth': 9, 'random_state': 616, 'min_child_weight': 129}. Best is trial 148 with value: 212.95961399599673.\n"
     ]
    },
    {
     "name": "stdout",
     "output_type": "stream",
     "text": [
      "Mean Absolute Error: 800.5167350345096\n",
      "Mean Absolute Error: 253.2601201727185\n"
     ]
    },
    {
     "name": "stderr",
     "output_type": "stream",
     "text": [
      "[I 2023-10-25 14:31:58,940] Trial 384 finished with value: 245.47584614630577 and parameters: {'lambda': 0.2101005731162722, 'alpha': 0.0010213926619567937, 'colsample_bytree': 0.9, 'subsample': 0.8, 'learning_rate': 0.23054443309398007, 'n_estimators': 651, 'max_depth': 5, 'random_state': 762, 'min_child_weight': 75}. Best is trial 148 with value: 212.95961399599673.\n"
     ]
    },
    {
     "name": "stdout",
     "output_type": "stream",
     "text": [
      "Mean Absolute Error: 244.12603191018488\n",
      "Mean Absolute Error: 239.04138635601387\n"
     ]
    },
    {
     "name": "stderr",
     "output_type": "stream",
     "text": [
      "[I 2023-10-25 14:31:59,306] Trial 385 finished with value: 832.8787342940383 and parameters: {'lambda': 0.7381064231544449, 'alpha': 9.394132438314132, 'colsample_bytree': 0.6, 'subsample': 1.0, 'learning_rate': 0.001169708060713285, 'n_estimators': 723, 'max_depth': 7, 'random_state': 369, 'min_child_weight': 120}. Best is trial 148 with value: 212.95961399599673.\n"
     ]
    },
    {
     "name": "stdout",
     "output_type": "stream",
     "text": [
      "Mean Absolute Error: 823.7184936865076\n",
      "Mean Absolute Error: 851.3603230064273\n",
      "Mean Absolute Error: 823.5573861891801\n",
      "Mean Absolute Error: 237.57760919296032\n",
      "Mean Absolute Error: 220.65555275340242\n"
     ]
    },
    {
     "name": "stderr",
     "output_type": "stream",
     "text": [
      "[I 2023-10-25 14:31:59,792] Trial 386 finished with value: 222.58476507508624 and parameters: {'lambda': 1.4367147097981237, 'alpha': 0.13636494889573825, 'colsample_bytree': 0.9, 'subsample': 1.0, 'learning_rate': 0.2825555983760146, 'n_estimators': 586, 'max_depth': 15, 'random_state': 672, 'min_child_weight': 68}. Best is trial 148 with value: 212.95961399599673.\n"
     ]
    },
    {
     "name": "stdout",
     "output_type": "stream",
     "text": [
      "Mean Absolute Error: 209.52113327889592\n",
      "Mean Absolute Error: 238.72388835424044\n"
     ]
    },
    {
     "name": "stderr",
     "output_type": "stream",
     "text": [
      "[I 2023-10-25 14:32:00,152] Trial 387 finished with value: 222.72137198181636 and parameters: {'lambda': 0.02338134326438304, 'alpha': 0.0602410335753099, 'colsample_bytree': 0.9, 'subsample': 0.8, 'learning_rate': 0.5364952015990163, 'n_estimators': 490, 'max_depth': 9, 'random_state': 600, 'min_child_weight': 171}. Best is trial 148 with value: 212.95961399599673.\n"
     ]
    },
    {
     "name": "stdout",
     "output_type": "stream",
     "text": [
      "Mean Absolute Error: 215.8257111428329\n",
      "Mean Absolute Error: 213.61451644837578\n",
      "Mean Absolute Error: 526.9287985348117\n",
      "Mean Absolute Error: 540.575937135439\n",
      "Mean Absolute Error: 520.51301289504\n"
     ]
    },
    {
     "name": "stderr",
     "output_type": "stream",
     "text": [
      "[I 2023-10-25 14:32:00,528] Trial 388 finished with value: 529.3392495217636 and parameters: {'lambda': 0.05572731749124185, 'alpha': 0.16921937487754882, 'colsample_bytree': 0.9, 'subsample': 1.0, 'learning_rate': 0.05658978253337903, 'n_estimators': 514, 'max_depth': 7, 'random_state': 627, 'min_child_weight': 105}. Best is trial 148 with value: 212.95961399599673.\n",
      "[I 2023-10-25 14:32:00,845] Trial 389 finished with value: 237.91575875351887 and parameters: {'lambda': 0.004266944699830575, 'alpha': 0.20688662285979256, 'colsample_bytree': 0.9, 'subsample': 0.8, 'learning_rate': 0.7709981906996025, 'n_estimators': 538, 'max_depth': 5, 'random_state': 697, 'min_child_weight': 112}. Best is trial 148 with value: 212.95961399599673.\n"
     ]
    },
    {
     "name": "stdout",
     "output_type": "stream",
     "text": [
      "Mean Absolute Error: 266.10908401887855\n",
      "Mean Absolute Error: 227.90321321652817\n",
      "Mean Absolute Error: 219.73497902514987\n",
      "Mean Absolute Error: 770.0114896490915\n",
      "Mean Absolute Error: 794.6059276762672\n"
     ]
    },
    {
     "name": "stderr",
     "output_type": "stream",
     "text": [
      "[I 2023-10-25 14:32:01,300] Trial 390 finished with value: 777.5948661399233 and parameters: {'lambda': 0.018253216767383593, 'alpha': 0.1346988231502692, 'colsample_bytree': 0.9, 'subsample': 1.0, 'learning_rate': 0.008973809110526379, 'n_estimators': 550, 'max_depth': 13, 'random_state': 562, 'min_child_weight': 83}. Best is trial 148 with value: 212.95961399599673.\n"
     ]
    },
    {
     "name": "stdout",
     "output_type": "stream",
     "text": [
      "Mean Absolute Error: 768.167181094411\n",
      "Mean Absolute Error: 229.82913021355807\n"
     ]
    },
    {
     "name": "stderr",
     "output_type": "stream",
     "text": [
      "[I 2023-10-25 14:32:01,675] Trial 391 finished with value: 216.5769102022908 and parameters: {'lambda': 0.09877071403105153, 'alpha': 0.09213867450391854, 'colsample_bytree': 0.9, 'subsample': 0.4, 'learning_rate': 0.36048157163546096, 'n_estimators': 757, 'max_depth': 9, 'random_state': 651, 'min_child_weight': 75}. Best is trial 148 with value: 212.95961399599673.\n"
     ]
    },
    {
     "name": "stdout",
     "output_type": "stream",
     "text": [
      "Mean Absolute Error: 212.25430651107314\n",
      "Mean Absolute Error: 207.64729388224112\n",
      "Mean Absolute Error: 234.376628576408\n",
      "Mean Absolute Error: 206.45220942113207\n"
     ]
    },
    {
     "name": "stderr",
     "output_type": "stream",
     "text": [
      "[I 2023-10-25 14:32:04,813] Trial 392 finished with value: 215.38866327933906 and parameters: {'lambda': 0.39223699522816713, 'alpha': 0.047610524474923394, 'colsample_bytree': 1.0, 'subsample': 0.8, 'learning_rate': 0.4462015107729456, 'n_estimators': 569, 'max_depth': 13, 'random_state': 581, 'min_child_weight': 69}. Best is trial 148 with value: 212.95961399599673.\n"
     ]
    },
    {
     "name": "stdout",
     "output_type": "stream",
     "text": [
      "Mean Absolute Error: 205.3371518404771\n",
      "Mean Absolute Error: 234.79869624436037\n",
      "Mean Absolute Error: 209.76786747788603\n"
     ]
    },
    {
     "name": "stderr",
     "output_type": "stream",
     "text": [
      "[I 2023-10-25 14:32:05,295] Trial 393 finished with value: 216.71691642066403 and parameters: {'lambda': 0.1194073572731718, 'alpha': 0.11246984177068618, 'colsample_bytree': 0.9, 'subsample': 1.0, 'learning_rate': 0.3346301386343969, 'n_estimators': 605, 'max_depth': 15, 'random_state': 627, 'min_child_weight': 87}. Best is trial 148 with value: 212.95961399599673.\n"
     ]
    },
    {
     "name": "stdout",
     "output_type": "stream",
     "text": [
      "Mean Absolute Error: 205.58418553974565\n",
      "Mean Absolute Error: 230.12422578238372\n"
     ]
    },
    {
     "name": "stderr",
     "output_type": "stream",
     "text": [
      "[I 2023-10-25 14:32:05,702] Trial 394 finished with value: 214.04024203458036 and parameters: {'lambda': 0.002514719087275636, 'alpha': 0.0013437703908384328, 'colsample_bytree': 0.5, 'subsample': 1.0, 'learning_rate': 0.42260524469300786, 'n_estimators': 869, 'max_depth': 13, 'random_state': 608, 'min_child_weight': 138}. Best is trial 148 with value: 212.95961399599673.\n"
     ]
    },
    {
     "name": "stdout",
     "output_type": "stream",
     "text": [
      "Mean Absolute Error: 209.41495487243418\n",
      "Mean Absolute Error: 202.58154544892315\n"
     ]
    },
    {
     "name": "stderr",
     "output_type": "stream",
     "text": [
      "[I 2023-10-25 14:32:06,071] Trial 395 finished with value: 434.3143532483629 and parameters: {'lambda': 0.0024772685862078313, 'alpha': 0.01996178535886187, 'colsample_bytree': 0.5, 'subsample': 0.8, 'learning_rate': 0.08730542981986779, 'n_estimators': 890, 'max_depth': 7, 'random_state': 607, 'min_child_weight': 138}. Best is trial 148 with value: 212.95961399599673.\n"
     ]
    },
    {
     "name": "stdout",
     "output_type": "stream",
     "text": [
      "Mean Absolute Error: 435.9381752349777\n",
      "Mean Absolute Error: 441.8532557943029\n",
      "Mean Absolute Error: 425.15162871580804\n"
     ]
    },
    {
     "name": "stderr",
     "output_type": "stream",
     "text": [
      "[I 2023-10-25 14:32:06,443] Trial 396 finished with value: 820.3180599882999 and parameters: {'lambda': 0.0034462710256843846, 'alpha': 0.04884803674957449, 'colsample_bytree': 0.5, 'subsample': 1.0, 'learning_rate': 0.0029135919465475848, 'n_estimators': 877, 'max_depth': 13, 'random_state': 639, 'min_child_weight': 135}. Best is trial 148 with value: 212.95961399599673.\n"
     ]
    },
    {
     "name": "stdout",
     "output_type": "stream",
     "text": [
      "Mean Absolute Error: 811.5998631857663\n",
      "Mean Absolute Error: 838.4717744415689\n",
      "Mean Absolute Error: 810.8825423375642\n"
     ]
    },
    {
     "name": "stderr",
     "output_type": "stream",
     "text": [
      "[I 2023-10-25 14:32:06,808] Trial 397 finished with value: 754.73560683482 and parameters: {'lambda': 0.0028027585209884514, 'alpha': 0.008744083225063815, 'colsample_bytree': 0.5, 'subsample': 0.8, 'learning_rate': 0.01256820147765754, 'n_estimators': 905, 'max_depth': 11, 'random_state': 670, 'min_child_weight': 128}. Best is trial 148 with value: 212.95961399599673.\n"
     ]
    },
    {
     "name": "stdout",
     "output_type": "stream",
     "text": [
      "Mean Absolute Error: 747.5618175999431\n",
      "Mean Absolute Error: 771.0583379007865\n",
      "Mean Absolute Error: 745.5866650037304\n"
     ]
    },
    {
     "name": "stderr",
     "output_type": "stream",
     "text": [
      "[I 2023-10-25 14:32:07,179] Trial 398 finished with value: 228.96126709148265 and parameters: {'lambda': 0.0019082272949880426, 'alpha': 0.2541745606750918, 'colsample_bytree': 0.3, 'subsample': 1.0, 'learning_rate': 0.5988372276503988, 'n_estimators': 861, 'max_depth': 9, 'random_state': 616, 'min_child_weight': 122}. Best is trial 148 with value: 212.95961399599673.\n"
     ]
    },
    {
     "name": "stdout",
     "output_type": "stream",
     "text": [
      "Mean Absolute Error: 247.03401509769282\n",
      "Mean Absolute Error: 224.32347976107857\n",
      "Mean Absolute Error: 215.52630641567652\n",
      "Mean Absolute Error: 240.6080515307802\n",
      "Mean Absolute Error: 215.84790485608607\n"
     ]
    },
    {
     "name": "stderr",
     "output_type": "stream",
     "text": [
      "[I 2023-10-25 14:32:07,560] Trial 399 finished with value: 220.1462536870977 and parameters: {'lambda': 0.012405770740721862, 'alpha': 0.07283094381785206, 'colsample_bytree': 0.5, 'subsample': 1.0, 'learning_rate': 0.4960352533763113, 'n_estimators': 919, 'max_depth': 13, 'random_state': 652, 'min_child_weight': 131}. Best is trial 148 with value: 212.95961399599673.\n"
     ]
    },
    {
     "name": "stdout",
     "output_type": "stream",
     "text": [
      "Mean Absolute Error: 203.98280467442686\n",
      "Mean Absolute Error: 440.8620290278852\n"
     ]
    },
    {
     "name": "stderr",
     "output_type": "stream",
     "text": [
      "[I 2023-10-25 14:32:07,878] Trial 400 finished with value: 441.4236994958476 and parameters: {'lambda': 0.0022472558404154548, 'alpha': 0.005033667062092112, 'colsample_bytree': 0.5, 'subsample': 0.8, 'learning_rate': 0.08526318157339058, 'n_estimators': 835, 'max_depth': 5, 'random_state': 141, 'min_child_weight': 141}. Best is trial 148 with value: 212.95961399599673.\n"
     ]
    },
    {
     "name": "stdout",
     "output_type": "stream",
     "text": [
      "Mean Absolute Error: 448.79945622340466\n",
      "Mean Absolute Error: 434.6096132362529\n",
      "Mean Absolute Error: 230.1898387142711\n",
      "Mean Absolute Error: 206.42495240631666\n"
     ]
    },
    {
     "name": "stderr",
     "output_type": "stream",
     "text": [
      "[I 2023-10-25 14:32:08,260] Trial 401 finished with value: 214.37165238267463 and parameters: {'lambda': 0.3155888302261218, 'alpha': 0.001201398932852841, 'colsample_bytree': 0.5, 'subsample': 1.0, 'learning_rate': 0.41364373987884606, 'n_estimators': 898, 'max_depth': 13, 'random_state': 596, 'min_child_weight': 150}. Best is trial 148 with value: 212.95961399599673.\n"
     ]
    },
    {
     "name": "stdout",
     "output_type": "stream",
     "text": [
      "Mean Absolute Error: 206.50016602743614\n",
      "Mean Absolute Error: 830.6521419682554\n"
     ]
    },
    {
     "name": "stderr",
     "output_type": "stream",
     "text": [
      "[I 2023-10-25 14:32:08,615] Trial 402 finished with value: 839.9935873962896 and parameters: {'lambda': 0.3418480045581794, 'alpha': 0.2719155303808981, 'colsample_bytree': 0.5, 'subsample': 1.0, 'learning_rate': 0.00019814413049402914, 'n_estimators': 862, 'max_depth': 13, 'random_state': 588, 'min_child_weight': 155}. Best is trial 148 with value: 212.95961399599673.\n"
     ]
    },
    {
     "name": "stdout",
     "output_type": "stream",
     "text": [
      "Mean Absolute Error: 858.6530886977695\n",
      "Mean Absolute Error: 830.6755315228442\n"
     ]
    },
    {
     "name": "stderr",
     "output_type": "stream",
     "text": [
      "[I 2023-10-25 14:32:08,975] Trial 403 finished with value: 217.48621978813358 and parameters: {'lambda': 0.008025687123514898, 'alpha': 0.0010175999880248426, 'colsample_bytree': 0.5, 'subsample': 0.6, 'learning_rate': 0.39167062484578374, 'n_estimators': 911, 'max_depth': 13, 'random_state': 629, 'min_child_weight': 153}. Best is trial 148 with value: 212.95961399599673.\n"
     ]
    },
    {
     "name": "stdout",
     "output_type": "stream",
     "text": [
      "Mean Absolute Error: 233.8399611428745\n",
      "Mean Absolute Error: 211.68568333969318\n",
      "Mean Absolute Error: 206.933014881833\n"
     ]
    },
    {
     "name": "stderr",
     "output_type": "stream",
     "text": [
      "[I 2023-10-25 14:32:09,340] Trial 404 finished with value: 231.2086558651796 and parameters: {'lambda': 0.0049653902293270566, 'alpha': 0.0012450696903184917, 'colsample_bytree': 0.5, 'subsample': 0.8, 'learning_rate': 0.2712778825786633, 'n_estimators': 893, 'max_depth': 13, 'random_state': 604, 'min_child_weight': 146}. Best is trial 148 with value: 212.95961399599673.\n"
     ]
    },
    {
     "name": "stdout",
     "output_type": "stream",
     "text": [
      "Mean Absolute Error: 244.05416629776204\n",
      "Mean Absolute Error: 227.02423212917125\n",
      "Mean Absolute Error: 222.54756916860546\n"
     ]
    },
    {
     "name": "stderr",
     "output_type": "stream",
     "text": [
      "[I 2023-10-25 14:32:09,665] Trial 405 finished with value: 300.81848452799795 and parameters: {'lambda': 0.4467082078349961, 'alpha': 0.0013565959297346076, 'colsample_bytree': 0.5, 'subsample': 0.5, 'learning_rate': 0.16525843042073124, 'n_estimators': 874, 'max_depth': 13, 'random_state': 917, 'min_child_weight': 151}. Best is trial 148 with value: 212.95961399599673.\n"
     ]
    },
    {
     "name": "stdout",
     "output_type": "stream",
     "text": [
      "Mean Absolute Error: 310.5279140345484\n",
      "Mean Absolute Error: 299.6024922761802\n",
      "Mean Absolute Error: 292.32504727326517\n",
      "Mean Absolute Error: 737.3634449440846\n",
      "Mean Absolute Error: 760.4851734067116\n"
     ]
    },
    {
     "name": "stderr",
     "output_type": "stream",
     "text": [
      "[I 2023-10-25 14:32:10,045] Trial 406 finished with value: 744.3510412165497 and parameters: {'lambda': 0.30820193449662353, 'alpha': 0.29260195400345584, 'colsample_bytree': 0.5, 'subsample': 1.0, 'learning_rate': 0.014233679941925622, 'n_estimators': 893, 'max_depth': 13, 'random_state': 593, 'min_child_weight': 145}. Best is trial 148 with value: 212.95961399599673.\n"
     ]
    },
    {
     "name": "stdout",
     "output_type": "stream",
     "text": [
      "Mean Absolute Error: 735.2045052988531\n",
      "Mean Absolute Error: 258.4347432274343\n"
     ]
    },
    {
     "name": "stderr",
     "output_type": "stream",
     "text": [
      "[I 2023-10-25 14:32:10,429] Trial 407 finished with value: 234.85267559733748 and parameters: {'lambda': 0.3486038320882708, 'alpha': 0.001341189980675804, 'colsample_bytree': 0.5, 'subsample': 0.8, 'learning_rate': 0.7055597669308221, 'n_estimators': 848, 'max_depth': 13, 'random_state': 615, 'min_child_weight': 161}. Best is trial 148 with value: 212.95961399599673.\n"
     ]
    },
    {
     "name": "stdout",
     "output_type": "stream",
     "text": [
      "Mean Absolute Error: 224.8879047463203\n",
      "Mean Absolute Error: 221.23537881825794\n",
      "Mean Absolute Error: 243.20550353426626\n",
      "Mean Absolute Error: 210.99861625045344\n"
     ]
    },
    {
     "name": "stderr",
     "output_type": "stream",
     "text": [
      "[I 2023-10-25 14:32:10,816] Trial 408 finished with value: 222.00159008278044 and parameters: {'lambda': 0.5435860701441827, 'alpha': 0.4604505816607288, 'colsample_bytree': 0.5, 'subsample': 1.0, 'learning_rate': 0.5111932511658521, 'n_estimators': 921, 'max_depth': 13, 'random_state': 644, 'min_child_weight': 141}. Best is trial 148 with value: 212.95961399599673.\n"
     ]
    },
    {
     "name": "stdout",
     "output_type": "stream",
     "text": [
      "Mean Absolute Error: 211.80065046362162\n",
      "Mean Absolute Error: 275.17643343538066\n"
     ]
    },
    {
     "name": "stderr",
     "output_type": "stream",
     "text": [
      "[I 2023-10-25 14:32:11,194] Trial 409 finished with value: 246.91490704998978 and parameters: {'lambda': 8.075413498219998, 'alpha': 0.007083191461116971, 'colsample_bytree': 0.5, 'subsample': 0.7, 'learning_rate': 0.8827282956773822, 'n_estimators': 880, 'max_depth': 11, 'random_state': 600, 'min_child_weight': 136}. Best is trial 148 with value: 212.95961399599673.\n"
     ]
    },
    {
     "name": "stdout",
     "output_type": "stream",
     "text": [
      "Mean Absolute Error: 231.98748780302165\n",
      "Mean Absolute Error: 233.5807999115671\n",
      "Mean Absolute Error: 237.28275646054195\n",
      "Mean Absolute Error: 210.38590604839592\n"
     ]
    },
    {
     "name": "stderr",
     "output_type": "stream",
     "text": [
      "[I 2023-10-25 14:32:11,596] Trial 410 finished with value: 217.7889469475227 and parameters: {'lambda': 0.26293908382406866, 'alpha': 0.03349041532936769, 'colsample_bytree': 0.6, 'subsample': 1.0, 'learning_rate': 0.41364890400241616, 'n_estimators': 820, 'max_depth': 13, 'random_state': 192, 'min_child_weight': 148}. Best is trial 148 with value: 212.95961399599673.\n"
     ]
    },
    {
     "name": "stdout",
     "output_type": "stream",
     "text": [
      "Mean Absolute Error: 205.6981783336302\n",
      "Mean Absolute Error: 589.3653404072503\n"
     ]
    },
    {
     "name": "stderr",
     "output_type": "stream",
     "text": [
      "[I 2023-10-25 14:32:11,930] Trial 411 finished with value: 593.292079626986 and parameters: {'lambda': 0.010658373844908793, 'alpha': 0.010029217892072667, 'colsample_bytree': 0.4, 'subsample': 0.8, 'learning_rate': 0.042646595766403624, 'n_estimators': 499, 'max_depth': 7, 'random_state': 845, 'min_child_weight': 164}. Best is trial 148 with value: 212.95961399599673.\n"
     ]
    },
    {
     "name": "stdout",
     "output_type": "stream",
     "text": [
      "Mean Absolute Error: 606.4099557555343\n",
      "Mean Absolute Error: 584.1009427181737\n",
      "Mean Absolute Error: 761.3729162689636\n",
      "Mean Absolute Error: 786.7601144938064\n"
     ]
    },
    {
     "name": "stderr",
     "output_type": "stream",
     "text": [
      "[I 2023-10-25 14:32:12,330] Trial 412 finished with value: 769.507308221373 and parameters: {'lambda': 0.006472299388930011, 'alpha': 0.3336100821987348, 'colsample_bytree': 0.9, 'subsample': 1.0, 'learning_rate': 0.01023579420880831, 'n_estimators': 358, 'max_depth': 9, 'random_state': 712, 'min_child_weight': 150}. Best is trial 148 with value: 212.95961399599673.\n"
     ]
    },
    {
     "name": "stdout",
     "output_type": "stream",
     "text": [
      "Mean Absolute Error: 760.3888939013491\n",
      "Mean Absolute Error: 233.1201611901995\n"
     ]
    },
    {
     "name": "stderr",
     "output_type": "stream",
     "text": [
      "[I 2023-10-25 14:32:12,714] Trial 413 finished with value: 220.7354355383292 and parameters: {'lambda': 0.04986790372395625, 'alpha': 0.1568140009502917, 'colsample_bytree': 0.6, 'subsample': 0.8, 'learning_rate': 0.3233878231428772, 'n_estimators': 968, 'max_depth': 11, 'random_state': 581, 'min_child_weight': 184}. Best is trial 148 with value: 212.95961399599673.\n"
     ]
    },
    {
     "name": "stdout",
     "output_type": "stream",
     "text": [
      "Mean Absolute Error: 215.45008250459674\n",
      "Mean Absolute Error: 213.63606292019136\n",
      "Mean Absolute Error: 251.35074425175233\n",
      "Mean Absolute Error: 217.82009559121374\n"
     ]
    },
    {
     "name": "stderr",
     "output_type": "stream",
     "text": [
      "[I 2023-10-25 14:32:13,161] Trial 414 finished with value: 227.96766973040988 and parameters: {'lambda': 0.016337353115880048, 'alpha': 0.0011104278265606803, 'colsample_bytree': 0.9, 'subsample': 1.0, 'learning_rate': 0.5822909483785308, 'n_estimators': 525, 'max_depth': 13, 'random_state': 684, 'min_child_weight': 91}. Best is trial 148 with value: 212.95961399599673.\n"
     ]
    },
    {
     "name": "stdout",
     "output_type": "stream",
     "text": [
      "Mean Absolute Error: 214.73216934826362\n",
      "Mean Absolute Error: 267.88466928427994\n"
     ]
    },
    {
     "name": "stderr",
     "output_type": "stream",
     "text": [
      "[I 2023-10-25 14:32:13,583] Trial 415 finished with value: 258.0709989631664 and parameters: {'lambda': 0.004239367184701702, 'alpha': 0.0960961615681718, 'colsample_bytree': 0.9, 'subsample': 1.0, 'learning_rate': 0.20240792803293992, 'n_estimators': 842, 'max_depth': 17, 'random_state': 634, 'min_child_weight': 136}. Best is trial 148 with value: 212.95961399599673.\n"
     ]
    },
    {
     "name": "stdout",
     "output_type": "stream",
     "text": [
      "Mean Absolute Error: 258.27123006721445\n",
      "Mean Absolute Error: 248.05709753800488\n"
     ]
    },
    {
     "name": "stderr",
     "output_type": "stream",
     "text": [
      "[I 2023-10-25 14:32:13,941] Trial 416 finished with value: 241.04314730607385 and parameters: {'lambda': 0.23430764312764213, 'alpha': 0.0014675469776242675, 'colsample_bytree': 0.5, 'subsample': 0.8, 'learning_rate': 0.2508421599459575, 'n_estimators': 998, 'max_depth': 15, 'random_state': 666, 'min_child_weight': 191}. Best is trial 148 with value: 212.95961399599673.\n"
     ]
    },
    {
     "name": "stdout",
     "output_type": "stream",
     "text": [
      "Mean Absolute Error: 250.61882034534446\n",
      "Mean Absolute Error: 240.16891789794383\n",
      "Mean Absolute Error: 232.34170367493326\n",
      "Mean Absolute Error: 543.9808365736496\n",
      "Mean Absolute Error: 556.856565484817\n"
     ]
    },
    {
     "name": "stderr",
     "output_type": "stream",
     "text": [
      "[I 2023-10-25 14:32:14,362] Trial 417 finished with value: 545.3673260874482 and parameters: {'lambda': 0.3937199836470235, 'alpha': 0.13496924814569305, 'colsample_bytree': 0.9, 'subsample': 1.0, 'learning_rate': 0.05241230103307596, 'n_estimators': 924, 'max_depth': 13, 'random_state': 619, 'min_child_weight': 93}. Best is trial 148 with value: 212.95961399599673.\n"
     ]
    },
    {
     "name": "stdout",
     "output_type": "stream",
     "text": [
      "Mean Absolute Error: 535.264576203878\n",
      "Mean Absolute Error: 424.4474183453853\n"
     ]
    },
    {
     "name": "stderr",
     "output_type": "stream",
     "text": [
      "[I 2023-10-25 14:32:14,710] Trial 418 finished with value: 422.4752401236635 and parameters: {'lambda': 0.0031995702316188726, 'alpha': 0.02343811803767074, 'colsample_bytree': 0.9, 'subsample': 0.8, 'learning_rate': 0.09335817158877663, 'n_estimators': 63, 'max_depth': 11, 'random_state': 581, 'min_child_weight': 254}. Best is trial 148 with value: 212.95961399599673.\n"
     ]
    },
    {
     "name": "stdout",
     "output_type": "stream",
     "text": [
      "Mean Absolute Error: 428.8437696819217\n",
      "Mean Absolute Error: 414.1345323436835\n",
      "Mean Absolute Error: 235.50966525491296\n",
      "Mean Absolute Error: 209.94448987447424\n"
     ]
    },
    {
     "name": "stderr",
     "output_type": "stream",
     "text": [
      "[I 2023-10-25 14:32:15,120] Trial 419 finished with value: 216.5129178987635 and parameters: {'lambda': 0.03556872943040233, 'alpha': 0.03000040504920251, 'colsample_bytree': 0.9, 'subsample': 1.0, 'learning_rate': 0.4324082218647174, 'n_estimators': 904, 'max_depth': 13, 'random_state': 603, 'min_child_weight': 215}. Best is trial 148 with value: 212.95961399599673.\n"
     ]
    },
    {
     "name": "stdout",
     "output_type": "stream",
     "text": [
      "Mean Absolute Error: 204.08459856690325\n",
      "Mean Absolute Error: 231.57803258327615\n"
     ]
    },
    {
     "name": "stderr",
     "output_type": "stream",
     "text": [
      "[I 2023-10-25 14:32:15,556] Trial 420 finished with value: 218.5156472460163 and parameters: {'lambda': 0.0017289367467169224, 'alpha': 0.011664010883311397, 'colsample_bytree': 1.0, 'subsample': 1.0, 'learning_rate': 0.309856259999764, 'n_estimators': 868, 'max_depth': 9, 'random_state': 644, 'min_child_weight': 79}. Best is trial 148 with value: 212.95961399599673.\n"
     ]
    },
    {
     "name": "stdout",
     "output_type": "stream",
     "text": [
      "Mean Absolute Error: 215.6683406388231\n",
      "Mean Absolute Error: 208.3005685159496\n",
      "Mean Absolute Error: 232.10015186862105\n",
      "Mean Absolute Error: 219.46949541147922\n"
     ]
    },
    {
     "name": "stderr",
     "output_type": "stream",
     "text": [
      "[I 2023-10-25 14:32:15,981] Trial 421 finished with value: 220.25881235603075 and parameters: {'lambda': 0.0026133685097872858, 'alpha': 0.025342263791718132, 'colsample_bytree': 0.9, 'subsample': 0.4, 'learning_rate': 0.3705237890900748, 'n_estimators': 796, 'max_depth': 17, 'random_state': 267, 'min_child_weight': 87}. Best is trial 148 with value: 212.95961399599673.\n"
     ]
    },
    {
     "name": "stdout",
     "output_type": "stream",
     "text": [
      "Mean Absolute Error: 209.2067897879919\n",
      "Mean Absolute Error: 240.02512169462776\n"
     ]
    },
    {
     "name": "stderr",
     "output_type": "stream",
     "text": [
      "[I 2023-10-25 14:32:16,335] Trial 422 finished with value: 220.94793152536204 and parameters: {'lambda': 0.03370900340967964, 'alpha': 0.0041770238979624555, 'colsample_bytree': 0.9, 'subsample': 0.8, 'learning_rate': 0.48542861602682086, 'n_estimators': 485, 'max_depth': 7, 'random_state': 617, 'min_child_weight': 168}. Best is trial 148 with value: 212.95961399599673.\n"
     ]
    },
    {
     "name": "stdout",
     "output_type": "stream",
     "text": [
      "Mean Absolute Error: 212.95160948238538\n",
      "Mean Absolute Error: 209.86706339907298\n",
      "Mean Absolute Error: 230.30215315038288\n",
      "Mean Absolute Error: 210.67380502944445\n"
     ]
    },
    {
     "name": "stderr",
     "output_type": "stream",
     "text": [
      "[I 2023-10-25 14:32:16,747] Trial 423 finished with value: 214.25886141176207 and parameters: {'lambda': 0.0013493010622721586, 'alpha': 0.0010065203710041136, 'colsample_bytree': 0.9, 'subsample': 1.0, 'learning_rate': 0.3856195100902343, 'n_estimators': 291, 'max_depth': 13, 'random_state': 659, 'min_child_weight': 159}. Best is trial 148 with value: 212.95961399599673.\n"
     ]
    },
    {
     "name": "stdout",
     "output_type": "stream",
     "text": [
      "Mean Absolute Error: 201.8006260554589\n",
      "Mean Absolute Error: 249.33431077717057\n"
     ]
    },
    {
     "name": "stderr",
     "output_type": "stream",
     "text": [
      "[I 2023-10-25 14:32:17,145] Trial 424 finished with value: 234.51112385001647 and parameters: {'lambda': 0.0013730686387506867, 'alpha': 0.0011193864724263253, 'colsample_bytree': 0.3, 'subsample': 1.0, 'learning_rate': 0.2935209253495046, 'n_estimators': 262, 'max_depth': 13, 'random_state': 664, 'min_child_weight': 162}. Best is trial 148 with value: 212.95961399599673.\n"
     ]
    },
    {
     "name": "stdout",
     "output_type": "stream",
     "text": [
      "Mean Absolute Error: 227.9254172561836\n",
      "Mean Absolute Error: 226.2736435166952\n",
      "Mean Absolute Error: 677.7550439326105\n",
      "Mean Absolute Error: 698.6684321203506\n"
     ]
    },
    {
     "name": "stderr",
     "output_type": "stream",
     "text": [
      "[I 2023-10-25 14:32:17,536] Trial 425 finished with value: 683.918582573921 and parameters: {'lambda': 0.001302103641391839, 'alpha': 0.0010284137268564146, 'colsample_bytree': 0.9, 'subsample': 1.0, 'learning_rate': 0.02418181407254006, 'n_estimators': 236, 'max_depth': 13, 'random_state': 675, 'min_child_weight': 158}. Best is trial 148 with value: 212.95961399599673.\n"
     ]
    },
    {
     "name": "stdout",
     "output_type": "stream",
     "text": [
      "Mean Absolute Error: 675.3322716688018\n",
      "Mean Absolute Error: 773.1597777809314\n"
     ]
    },
    {
     "name": "stderr",
     "output_type": "stream",
     "text": [
      "[I 2023-10-25 14:32:17,929] Trial 426 finished with value: 781.448628418981 and parameters: {'lambda': 0.001042806769675525, 'alpha': 0.07240795523330575, 'colsample_bytree': 0.7, 'subsample': 1.0, 'learning_rate': 0.008458930924630655, 'n_estimators': 332, 'max_depth': 13, 'random_state': 653, 'min_child_weight': 152}. Best is trial 148 with value: 212.95961399599673.\n"
     ]
    },
    {
     "name": "stdout",
     "output_type": "stream",
     "text": [
      "Mean Absolute Error: 798.9612312343722\n",
      "Mean Absolute Error: 772.2248762416394\n",
      "Mean Absolute Error: 244.61588779024711\n",
      "Mean Absolute Error: 220.08561205773373\n"
     ]
    },
    {
     "name": "stderr",
     "output_type": "stream",
     "text": [
      "[I 2023-10-25 14:32:18,389] Trial 427 finished with value: 226.31380461654484 and parameters: {'lambda': 0.0010041707560230226, 'alpha': 0.0012332596915399267, 'colsample_bytree': 0.9, 'subsample': 1.0, 'learning_rate': 0.6566526169858793, 'n_estimators': 295, 'max_depth': 13, 'random_state': 730, 'min_child_weight': 146}. Best is trial 148 with value: 212.95961399599673.\n"
     ]
    },
    {
     "name": "stdout",
     "output_type": "stream",
     "text": [
      "Mean Absolute Error: 214.23991400165374\n",
      "Mean Absolute Error: 346.3029211591491\n",
      "Mean Absolute Error: 346.2546299764275\n"
     ]
    },
    {
     "name": "stderr",
     "output_type": "stream",
     "text": [
      "[I 2023-10-25 14:32:18,909] Trial 428 finished with value: 341.1434225548426 and parameters: {'lambda': 0.0015481557527810591, 'alpha': 0.001348742000619549, 'colsample_bytree': 0.9, 'subsample': 1.0, 'learning_rate': 0.12919274396398497, 'n_estimators': 277, 'max_depth': 13, 'random_state': 702, 'min_child_weight': 156}. Best is trial 148 with value: 212.95961399599673.\n"
     ]
    },
    {
     "name": "stdout",
     "output_type": "stream",
     "text": [
      "Mean Absolute Error: 330.87271652895106\n",
      "Mean Absolute Error: 226.9369461703657\n"
     ]
    },
    {
     "name": "stderr",
     "output_type": "stream",
     "text": [
      "[I 2023-10-25 14:32:19,316] Trial 429 finished with value: 215.2170248768872 and parameters: {'lambda': 0.0018082031304323548, 'alpha': 0.01659199191442777, 'colsample_bytree': 0.6, 'subsample': 1.0, 'learning_rate': 0.36364362414649565, 'n_estimators': 945, 'max_depth': 13, 'random_state': 633, 'min_child_weight': 159}. Best is trial 148 with value: 212.95961399599673.\n"
     ]
    },
    {
     "name": "stdout",
     "output_type": "stream",
     "text": [
      "Mean Absolute Error: 215.05498341396\n",
      "Mean Absolute Error: 203.65914504633585\n",
      "Mean Absolute Error: 599.3906524930493\n",
      "Mean Absolute Error: 616.7804118657599\n"
     ]
    },
    {
     "name": "stderr",
     "output_type": "stream",
     "text": [
      "[I 2023-10-25 14:32:19,717] Trial 430 finished with value: 603.3568326291478 and parameters: {'lambda': 0.0012625541502956318, 'alpha': 0.01568216743096805, 'colsample_bytree': 0.9, 'subsample': 1.0, 'learning_rate': 0.039781559023419594, 'n_estimators': 261, 'max_depth': 13, 'random_state': 795, 'min_child_weight': 168}. Best is trial 148 with value: 212.95961399599673.\n"
     ]
    },
    {
     "name": "stdout",
     "output_type": "stream",
     "text": [
      "Mean Absolute Error: 593.8994335286342\n",
      "Mean Absolute Error: 233.3249565345225\n"
     ]
    },
    {
     "name": "stderr",
     "output_type": "stream",
     "text": [
      "[I 2023-10-25 14:32:20,124] Trial 431 finished with value: 216.51192847839297 and parameters: {'lambda': 0.01002343149961026, 'alpha': 0.0015464690591466157, 'colsample_bytree': 0.5, 'subsample': 1.0, 'learning_rate': 0.4677162182888644, 'n_estimators': 288, 'max_depth': 13, 'random_state': 690, 'min_child_weight': 138}. Best is trial 148 with value: 212.95961399599673.\n"
     ]
    },
    {
     "name": "stdout",
     "output_type": "stream",
     "text": [
      "Mean Absolute Error: 209.36406726709782\n",
      "Mean Absolute Error: 206.84676163355854\n",
      "Mean Absolute Error: 253.36257463704996\n",
      "Mean Absolute Error: 244.69629825527713\n"
     ]
    },
    {
     "name": "stderr",
     "output_type": "stream",
     "text": [
      "[I 2023-10-25 14:32:21,204] Trial 432 finished with value: 243.622802244972 and parameters: {'lambda': 4.672484567763553, 'alpha': 0.005776454856747422, 'colsample_bytree': 0.9, 'subsample': 1.0, 'learning_rate': 0.2297730989368871, 'n_estimators': 210, 'max_depth': 17, 'random_state': 650, 'min_child_weight': 144}. Best is trial 148 with value: 212.95961399599673.\n"
     ]
    },
    {
     "name": "stdout",
     "output_type": "stream",
     "text": [
      "Mean Absolute Error: 232.8095338425889\n",
      "Mean Absolute Error: 238.10716240979954\n",
      "Mean Absolute Error: 215.36097841970988\n"
     ]
    },
    {
     "name": "stderr",
     "output_type": "stream",
     "text": [
      "[I 2023-10-25 14:32:22,246] Trial 433 finished with value: 221.4727946052282 and parameters: {'lambda': 0.027282477009256585, 'alpha': 0.0011730978256540168, 'colsample_bytree': 0.9, 'subsample': 1.0, 'learning_rate': 0.5569897566906344, 'n_estimators': 806, 'max_depth': 13, 'random_state': 571, 'min_child_weight': 125}. Best is trial 148 with value: 212.95961399599673.\n"
     ]
    },
    {
     "name": "stdout",
     "output_type": "stream",
     "text": [
      "Mean Absolute Error: 210.9502429861752\n",
      "Mean Absolute Error: 229.0638152948257\n"
     ]
    },
    {
     "name": "stderr",
     "output_type": "stream",
     "text": [
      "[I 2023-10-25 14:32:22,604] Trial 434 finished with value: 215.8550520400272 and parameters: {'lambda': 0.0020214358052358375, 'alpha': 0.17197389363503998, 'colsample_bytree': 0.4, 'subsample': 1.0, 'learning_rate': 0.38600019449429795, 'n_estimators': 779, 'max_depth': 9, 'random_state': 601, 'min_child_weight': 151}. Best is trial 148 with value: 212.95961399599673.\n"
     ]
    },
    {
     "name": "stdout",
     "output_type": "stream",
     "text": [
      "Mean Absolute Error: 214.3221230068718\n",
      "Mean Absolute Error: 204.1792178183842\n"
     ]
    },
    {
     "name": "stderr",
     "output_type": "stream",
     "text": [
      "[I 2023-10-25 14:32:22,955] Trial 435 finished with value: 388.18992402170596 and parameters: {'lambda': 0.3242215609469431, 'alpha': 0.41083258290808466, 'colsample_bytree': 0.9, 'subsample': 0.6, 'learning_rate': 0.10726127917729936, 'n_estimators': 981, 'max_depth': 13, 'random_state': 615, 'min_child_weight': 174}. Best is trial 148 with value: 212.95961399599673.\n"
     ]
    },
    {
     "name": "stdout",
     "output_type": "stream",
     "text": [
      "Mean Absolute Error: 392.64848112053625\n",
      "Mean Absolute Error: 392.76345862972727\n",
      "Mean Absolute Error: 379.1578323148543\n",
      "Mean Absolute Error: 238.58679619774185\n",
      "Mean Absolute Error: 222.18449997288147\n",
      "Mean Absolute Error: 213.2123891466518\n"
     ]
    },
    {
     "name": "stderr",
     "output_type": "stream",
     "text": [
      "[I 2023-10-25 14:32:23,336] Trial 436 finished with value: 224.6612284390917 and parameters: {'lambda': 0.0014830900692535192, 'alpha': 0.001470415013371524, 'colsample_bytree': 0.9, 'subsample': 1.0, 'learning_rate': 0.30233281462915546, 'n_estimators': 343, 'max_depth': 15, 'random_state': 631, 'min_child_weight': 288}. Best is trial 148 with value: 212.95961399599673.\n",
      "[I 2023-10-25 14:32:23,689] Trial 437 finished with value: 259.5469733123737 and parameters: {'lambda': 0.0774545948460717, 'alpha': 0.05866814361706973, 'colsample_bytree': 0.7, 'subsample': 1.0, 'learning_rate': 0.9828422581958451, 'n_estimators': 821, 'max_depth': 7, 'random_state': 591, 'min_child_weight': 104}. Best is trial 148 with value: 212.95961399599673.\n"
     ]
    },
    {
     "name": "stdout",
     "output_type": "stream",
     "text": [
      "Mean Absolute Error: 293.471392044157\n",
      "Mean Absolute Error: 249.04067236368797\n",
      "Mean Absolute Error: 236.1288555292763\n",
      "Mean Absolute Error: 451.9037674633109\n",
      "Mean Absolute Error: 460.3728250031186\n"
     ]
    },
    {
     "name": "stderr",
     "output_type": "stream",
     "text": [
      "[I 2023-10-25 14:32:24,125] Trial 438 finished with value: 451.278745774332 and parameters: {'lambda': 0.018849518241473084, 'alpha': 0.20182648215497515, 'colsample_bytree': 0.9, 'subsample': 1.0, 'learning_rate': 0.07892337770614884, 'n_estimators': 901, 'max_depth': 17, 'random_state': 683, 'min_child_weight': 96}. Best is trial 148 with value: 212.95961399599673.\n"
     ]
    },
    {
     "name": "stdout",
     "output_type": "stream",
     "text": [
      "Mean Absolute Error: 441.5596448565664\n",
      "Mean Absolute Error: 238.46596674674154\n"
     ]
    },
    {
     "name": "stderr",
     "output_type": "stream",
     "text": [
      "[I 2023-10-25 14:32:24,511] Trial 439 finished with value: 220.26638078071258 and parameters: {'lambda': 0.20223804692934025, 'alpha': 0.0010023322463301927, 'colsample_bytree': 0.9, 'subsample': 0.5, 'learning_rate': 0.45108142602094675, 'n_estimators': 578, 'max_depth': 13, 'random_state': 661, 'min_child_weight': 131}. Best is trial 148 with value: 212.95961399599673.\n"
     ]
    },
    {
     "name": "stdout",
     "output_type": "stream",
     "text": [
      "Mean Absolute Error: 214.57091987400003\n",
      "Mean Absolute Error: 207.7622557213962\n"
     ]
    },
    {
     "name": "stderr",
     "output_type": "stream",
     "text": [
      "[I 2023-10-25 14:32:24,866] Trial 440 finished with value: 730.6610078817622 and parameters: {'lambda': 0.43458109118100696, 'alpha': 0.11459215245031482, 'colsample_bytree': 0.5, 'subsample': 1.0, 'learning_rate': 0.016532385335104545, 'n_estimators': 840, 'max_depth': 13, 'random_state': 566, 'min_child_weight': 197}. Best is trial 148 with value: 212.95961399599673.\n"
     ]
    },
    {
     "name": "stdout",
     "output_type": "stream",
     "text": [
      "Mean Absolute Error: 724.0267855068828\n",
      "Mean Absolute Error: 746.414239564003\n",
      "Mean Absolute Error: 721.541998574401\n",
      "Mean Absolute Error: 806.9725164185373\n",
      "Mean Absolute Error: 833.9735652496992\n"
     ]
    },
    {
     "name": "stderr",
     "output_type": "stream",
     "text": [
      "[I 2023-10-25 14:32:25,290] Trial 441 finished with value: 815.8721647825508 and parameters: {'lambda': 0.0012109865532419935, 'alpha': 0.0016624503214832556, 'colsample_bytree': 0.9, 'subsample': 0.7, 'learning_rate': 0.0034925167706181264, 'n_estimators': 789, 'max_depth': 9, 'random_state': 631, 'min_child_weight': 84}. Best is trial 148 with value: 212.95961399599673.\n"
     ]
    },
    {
     "name": "stdout",
     "output_type": "stream",
     "text": [
      "Mean Absolute Error: 806.670412679416\n",
      "Mean Absolute Error: 228.32957003697584\n"
     ]
    },
    {
     "name": "stderr",
     "output_type": "stream",
     "text": [
      "[I 2023-10-25 14:32:25,697] Trial 442 finished with value: 215.62657060882168 and parameters: {'lambda': 0.8869461220982316, 'alpha': 0.013058242058623822, 'colsample_bytree': 0.9, 'subsample': 1.0, 'learning_rate': 0.35334181471100057, 'n_estimators': 306, 'max_depth': 13, 'random_state': 606, 'min_child_weight': 182}. Best is trial 148 with value: 212.95961399599673.\n"
     ]
    },
    {
     "name": "stdout",
     "output_type": "stream",
     "text": [
      "Mean Absolute Error: 211.88358839290535\n",
      "Mean Absolute Error: 206.66655339658382\n",
      "Mean Absolute Error: 534.7763942263443\n",
      "Mean Absolute Error: 547.4302223650683\n"
     ]
    },
    {
     "name": "stderr",
     "output_type": "stream",
     "text": [
      "[I 2023-10-25 14:32:26,133] Trial 443 finished with value: 536.2129863067506 and parameters: {'lambda': 0.00211523909397833, 'alpha': 0.022536486713040708, 'colsample_bytree': 0.9, 'subsample': 1.0, 'learning_rate': 0.05473478501482464, 'n_estimators': 676, 'max_depth': 17, 'random_state': 584, 'min_child_weight': 101}. Best is trial 148 with value: 212.95961399599673.\n"
     ]
    },
    {
     "name": "stdout",
     "output_type": "stream",
     "text": [
      "Mean Absolute Error: 526.4323423288394\n",
      "Mean Absolute Error: 827.0068982878213\n"
     ]
    },
    {
     "name": "stderr",
     "output_type": "stream",
     "text": [
      "[I 2023-10-25 14:32:26,518] Trial 444 finished with value: 836.2692439599554 and parameters: {'lambda': 0.0016828494250373401, 'alpha': 0.007360075538750947, 'colsample_bytree': 0.6, 'subsample': 1.0, 'learning_rate': 0.0007047995294299429, 'n_estimators': 959, 'max_depth': 13, 'random_state': 641, 'min_child_weight': 143}. Best is trial 148 with value: 212.95961399599673.\n"
     ]
    },
    {
     "name": "stdout",
     "output_type": "stream",
     "text": [
      "Mean Absolute Error: 854.8543685193672\n",
      "Mean Absolute Error: 826.9464650726775\n"
     ]
    },
    {
     "name": "stderr",
     "output_type": "stream",
     "text": [
      "[I 2023-10-25 14:32:26,907] Trial 445 finished with value: 224.95065552187904 and parameters: {'lambda': 0.0013933578301985406, 'alpha': 0.0012063856597974557, 'colsample_bytree': 0.9, 'subsample': 1.0, 'learning_rate': 0.2686006228693692, 'n_estimators': 930, 'max_depth': 7, 'random_state': 553, 'min_child_weight': 89}. Best is trial 148 with value: 212.95961399599673.\n"
     ]
    },
    {
     "name": "stdout",
     "output_type": "stream",
     "text": [
      "Mean Absolute Error: 234.85108527683695\n",
      "Mean Absolute Error: 221.6472981262937\n",
      "Mean Absolute Error: 218.35358316250645\n"
     ]
    },
    {
     "name": "stderr",
     "output_type": "stream",
     "text": [
      "[I 2023-10-25 14:32:27,272] Trial 446 finished with value: 782.9616502897879 and parameters: {'lambda': 0.2654396116493923, 'alpha': 0.03656756000435362, 'colsample_bytree': 0.9, 'subsample': 0.8, 'learning_rate': 0.008292511541746728, 'n_estimators': 765, 'max_depth': 9, 'random_state': 617, 'min_child_weight': 167}. Best is trial 148 with value: 212.95961399599673.\n"
     ]
    },
    {
     "name": "stdout",
     "output_type": "stream",
     "text": [
      "Mean Absolute Error: 774.6495553095754\n",
      "Mean Absolute Error: 800.2668112349422\n",
      "Mean Absolute Error: 773.9685843248462\n",
      "Mean Absolute Error: 646.3555196558461\n",
      "Mean Absolute Error: 664.7444877837123\n"
     ]
    },
    {
     "name": "stderr",
     "output_type": "stream",
     "text": [
      "[I 2023-10-25 14:32:27,698] Trial 447 finished with value: 651.0523783266605 and parameters: {'lambda': 0.0019492633624501351, 'alpha': 0.005532019967985637, 'colsample_bytree': 0.9, 'subsample': 1.0, 'learning_rate': 0.02998712739418008, 'n_estimators': 880, 'max_depth': 13, 'random_state': 666, 'min_child_weight': 118}. Best is trial 148 with value: 212.95961399599673.\n"
     ]
    },
    {
     "name": "stdout",
     "output_type": "stream",
     "text": [
      "Mean Absolute Error: 642.0571275404232\n",
      "Mean Absolute Error: 248.51440831888\n",
      "Mean Absolute Error: 222.06512096450814\n"
     ]
    },
    {
     "name": "stderr",
     "output_type": "stream",
     "text": [
      "[I 2023-10-25 14:32:28,125] Trial 448 finished with value: 228.8321396350525 and parameters: {'lambda': 0.05112864848784969, 'alpha': 0.009158152242622222, 'colsample_bytree': 0.7, 'subsample': 0.4, 'learning_rate': 0.5192047716212637, 'n_estimators': 855, 'max_depth': 17, 'random_state': 586, 'min_child_weight': 81}. Best is trial 148 with value: 212.95961399599673.\n"
     ]
    },
    {
     "name": "stdout",
     "output_type": "stream",
     "text": [
      "Mean Absolute Error: 215.91688962176934\n",
      "Mean Absolute Error: 236.82787743187396\n"
     ]
    },
    {
     "name": "stderr",
     "output_type": "stream",
     "text": [
      "[I 2023-10-25 14:32:28,533] Trial 449 finished with value: 219.88845616147978 and parameters: {'lambda': 0.07192488463920764, 'alpha': 0.0014495288680917671, 'colsample_bytree': 1.0, 'subsample': 0.8, 'learning_rate': 0.4215790707653838, 'n_estimators': 373, 'max_depth': 15, 'random_state': 707, 'min_child_weight': 208}. Best is trial 148 with value: 212.95961399599673.\n"
     ]
    },
    {
     "name": "stdout",
     "output_type": "stream",
     "text": [
      "Mean Absolute Error: 215.94365865186506\n",
      "Mean Absolute Error: 206.89383240070032\n",
      "Mean Absolute Error: 281.6799485526412\n",
      "Mean Absolute Error: 274.87732695774\n"
     ]
    },
    {
     "name": "stderr",
     "output_type": "stream",
     "text": [
      "[I 2023-10-25 14:32:28,938] Trial 450 finished with value: 273.41377043938 and parameters: {'lambda': 0.04431768577380998, 'alpha': 0.0010034906568691538, 'colsample_bytree': 0.9, 'subsample': 1.0, 'learning_rate': 0.1844541855677149, 'n_estimators': 545, 'max_depth': 13, 'random_state': 605, 'min_child_weight': 151}. Best is trial 148 with value: 212.95961399599673.\n"
     ]
    },
    {
     "name": "stdout",
     "output_type": "stream",
     "text": [
      "Mean Absolute Error: 263.68403580775885\n",
      "Mean Absolute Error: 273.7257664526942\n"
     ]
    },
    {
     "name": "stderr",
     "output_type": "stream",
     "text": [
      "[I 2023-10-25 14:32:29,348] Trial 451 finished with value: 247.40795321115033 and parameters: {'lambda': 0.00893467831923863, 'alpha': 0.0017623929884558309, 'colsample_bytree': 0.5, 'subsample': 1.0, 'learning_rate': 0.7684528055782225, 'n_estimators': 629, 'max_depth': 13, 'random_state': 644, 'min_child_weight': 109}. Best is trial 148 with value: 212.95961399599673.\n"
     ]
    },
    {
     "name": "stdout",
     "output_type": "stream",
     "text": [
      "Mean Absolute Error: 236.17653215653903\n",
      "Mean Absolute Error: 232.32156102421783\n",
      "Mean Absolute Error: 820.4207595053954\n",
      "Mean Absolute Error: 847.9575194331381\n"
     ]
    },
    {
     "name": "stderr",
     "output_type": "stream",
     "text": [
      "[I 2023-10-25 14:32:29,759] Trial 452 finished with value: 829.5211962361133 and parameters: {'lambda': 0.005769071509948149, 'alpha': 0.0012491877759369847, 'colsample_bytree': 0.9, 'subsample': 0.8, 'learning_rate': 0.001611770570114555, 'n_estimators': 521, 'max_depth': 17, 'random_state': 622, 'min_child_weight': 94}. Best is trial 148 with value: 212.95961399599673.\n"
     ]
    },
    {
     "name": "stdout",
     "output_type": "stream",
     "text": [
      "Mean Absolute Error: 820.1853097698064\n",
      "Mean Absolute Error: 225.34453943510343\n"
     ]
    },
    {
     "name": "stderr",
     "output_type": "stream",
     "text": [
      "[I 2023-10-25 14:32:30,154] Trial 453 finished with value: 215.26726876482067 and parameters: {'lambda': 0.17333313846758433, 'alpha': 0.002983029059096329, 'colsample_bytree': 0.9, 'subsample': 1.0, 'learning_rate': 0.33233996426623846, 'n_estimators': 816, 'max_depth': 9, 'random_state': 53, 'min_child_weight': 158}. Best is trial 148 with value: 212.95961399599673.\n"
     ]
    },
    {
     "name": "stdout",
     "output_type": "stream",
     "text": [
      "Mean Absolute Error: 213.7760141430761\n",
      "Mean Absolute Error: 206.68125271628253\n"
     ]
    },
    {
     "name": "stderr",
     "output_type": "stream",
     "text": [
      "[I 2023-10-25 14:32:30,534] Trial 454 finished with value: 803.8943892337012 and parameters: {'lambda': 0.001150388180906784, 'alpha': 0.02662448072109796, 'colsample_bytree': 0.9, 'subsample': 0.8, 'learning_rate': 0.005180215818843062, 'n_estimators': 596, 'max_depth': 7, 'random_state': 564, 'min_child_weight': 88}. Best is trial 148 with value: 212.95961399599673.\n"
     ]
    },
    {
     "name": "stdout",
     "output_type": "stream",
     "text": [
      "Mean Absolute Error: 795.4429483415842\n",
      "Mean Absolute Error: 821.5564950096151\n",
      "Mean Absolute Error: 794.6837243499043\n",
      "Mean Absolute Error: 249.15102606186485\n",
      "Mean Absolute Error: 230.7784072432728\n"
     ]
    },
    {
     "name": "stderr",
     "output_type": "stream",
     "text": [
      "[I 2023-10-25 14:32:30,987] Trial 455 finished with value: 233.46934390983313 and parameters: {'lambda': 0.08934695823692285, 'alpha': 0.004042695751310978, 'colsample_bytree': 0.3, 'subsample': 1.0, 'learning_rate': 0.5713687035387192, 'n_estimators': 228, 'max_depth': 13, 'random_state': 591, 'min_child_weight': 81}. Best is trial 148 with value: 212.95961399599673.\n"
     ]
    },
    {
     "name": "stdout",
     "output_type": "stream",
     "text": [
      "Mean Absolute Error: 220.47859842436176\n",
      "Mean Absolute Error: 259.26984984692734\n"
     ]
    },
    {
     "name": "stderr",
     "output_type": "stream",
     "text": [
      "[I 2023-10-25 14:32:31,399] Trial 456 finished with value: 249.1387156721107 and parameters: {'lambda': 0.002455019321108508, 'alpha': 0.0019012122924348168, 'colsample_bytree': 0.8, 'subsample': 1.0, 'learning_rate': 0.21918936481877035, 'n_estimators': 565, 'max_depth': 13, 'random_state': 654, 'min_child_weight': 148}. Best is trial 148 with value: 212.95961399599673.\n"
     ]
    },
    {
     "name": "stdout",
     "output_type": "stream",
     "text": [
      "Mean Absolute Error: 249.1479789491345\n",
      "Mean Absolute Error: 238.99831822027022\n",
      "Mean Absolute Error: 240.48093902514321\n",
      "Mean Absolute Error: 212.42518866583202\n"
     ]
    },
    {
     "name": "stderr",
     "output_type": "stream",
     "text": [
      "[I 2023-10-25 14:32:31,858] Trial 457 finished with value: 218.3481624617771 and parameters: {'lambda': 0.003354206910028571, 'alpha': 0.0014718799774979135, 'colsample_bytree': 0.9, 'subsample': 0.8, 'learning_rate': 0.39704511259686687, 'n_estimators': 541, 'max_depth': 17, 'random_state': 677, 'min_child_weight': 100}. Best is trial 148 with value: 212.95961399599673.\n"
     ]
    },
    {
     "name": "stdout",
     "output_type": "stream",
     "text": [
      "Mean Absolute Error: 202.13835969435604\n",
      "Mean Absolute Error: 248.5229649179151\n"
     ]
    },
    {
     "name": "stderr",
     "output_type": "stream",
     "text": [
      "[I 2023-10-25 14:32:32,233] Trial 458 finished with value: 234.04252230296683 and parameters: {'lambda': 0.013199604716622924, 'alpha': 0.12594080249116632, 'colsample_bytree': 0.7, 'subsample': 0.6, 'learning_rate': 0.27141111189526085, 'n_estimators': 773, 'max_depth': 13, 'random_state': 625, 'min_child_weight': 161}. Best is trial 148 with value: 212.95961399599673.\n"
     ]
    },
    {
     "name": "stdout",
     "output_type": "stream",
     "text": [
      "Mean Absolute Error: 229.973479983637\n",
      "Mean Absolute Error: 223.63112200734832\n",
      "Mean Absolute Error: 242.78213415260393\n",
      "Mean Absolute Error: 222.06134109221895\n"
     ]
    },
    {
     "name": "stderr",
     "output_type": "stream",
     "text": [
      "[I 2023-10-25 14:32:32,871] Trial 459 finished with value: 226.63898057074076 and parameters: {'lambda': 0.001579873853394628, 'alpha': 0.18518237013209568, 'colsample_bytree': 0.9, 'subsample': 1.0, 'learning_rate': 0.45516359338184753, 'n_estimators': 323, 'max_depth': 13, 'random_state': 574, 'min_child_weight': 29}. Best is trial 148 with value: 212.95961399599673.\n"
     ]
    },
    {
     "name": "stdout",
     "output_type": "stream",
     "text": [
      "Mean Absolute Error: 215.07346646739944\n",
      "Mean Absolute Error: 232.56696866193894\n"
     ]
    },
    {
     "name": "stderr",
     "output_type": "stream",
     "text": [
      "[I 2023-10-25 14:32:33,273] Trial 460 finished with value: 218.04569513240622 and parameters: {'lambda': 0.11006242190718911, 'alpha': 0.002685475090551644, 'colsample_bytree': 0.9, 'subsample': 1.0, 'learning_rate': 0.32281492694961, 'n_estimators': 909, 'max_depth': 9, 'random_state': 603, 'min_child_weight': 139}. Best is trial 148 with value: 212.95961399599673.\n"
     ]
    },
    {
     "name": "stdout",
     "output_type": "stream",
     "text": [
      "Mean Absolute Error: 214.00038542968437\n",
      "Mean Absolute Error: 207.56973130559538\n"
     ]
    },
    {
     "name": "stderr",
     "output_type": "stream",
     "text": [
      "[I 2023-10-25 14:32:33,634] Trial 461 finished with value: 742.8067283428101 and parameters: {'lambda': 0.0038198341087545343, 'alpha': 0.0016548403179483947, 'colsample_bytree': 0.6, 'subsample': 0.8, 'learning_rate': 0.01440812777705862, 'n_estimators': 865, 'max_depth': 7, 'random_state': 548, 'min_child_weight': 124}. Best is trial 148 with value: 212.95961399599673.\n"
     ]
    },
    {
     "name": "stdout",
     "output_type": "stream",
     "text": [
      "Mean Absolute Error: 735.5556325200042\n",
      "Mean Absolute Error: 759.258518615365\n",
      "Mean Absolute Error: 733.606033893061\n",
      "Mean Absolute Error: 251.79535971907836\n",
      "Mean Absolute Error: 228.65094674761139\n"
     ]
    },
    {
     "name": "stderr",
     "output_type": "stream",
     "text": [
      "[I 2023-10-25 14:32:34,035] Trial 462 finished with value: 232.59323407849163 and parameters: {'lambda': 0.0010002740459538126, 'alpha': 0.04791437781610174, 'colsample_bytree': 0.9, 'subsample': 0.5, 'learning_rate': 0.6727946121024743, 'n_estimators': 796, 'max_depth': 15, 'random_state': 342, 'min_child_weight': 178}. Best is trial 148 with value: 212.95961399599673.\n"
     ]
    },
    {
     "name": "stdout",
     "output_type": "stream",
     "text": [
      "Mean Absolute Error: 217.3333957687852\n",
      "Mean Absolute Error: 227.97873495162835\n"
     ]
    },
    {
     "name": "stderr",
     "output_type": "stream",
     "text": [
      "[I 2023-10-25 14:32:34,425] Trial 463 finished with value: 214.52228463889756 and parameters: {'lambda': 0.024508299656438286, 'alpha': 0.09566625911474383, 'colsample_bytree': 0.5, 'subsample': 1.0, 'learning_rate': 0.3883340966986408, 'n_estimators': 828, 'max_depth': 11, 'random_state': 646, 'min_child_weight': 113}. Best is trial 148 with value: 212.95961399599673.\n"
     ]
    },
    {
     "name": "stdout",
     "output_type": "stream",
     "text": [
      "Mean Absolute Error: 213.32672862791358\n",
      "Mean Absolute Error: 202.26139033715077\n",
      "Mean Absolute Error: 780.1336318024745\n",
      "Mean Absolute Error: 805.0782373610434\n"
     ]
    },
    {
     "name": "stderr",
     "output_type": "stream",
     "text": [
      "[I 2023-10-25 14:32:34,817] Trial 464 finished with value: 787.9348133615343 and parameters: {'lambda': 0.028754881482857774, 'alpha': 0.1008789583148998, 'colsample_bytree': 0.5, 'subsample': 1.0, 'learning_rate': 0.007566724120092044, 'n_estimators': 839, 'max_depth': 13, 'random_state': 625, 'min_child_weight': 116}. Best is trial 148 with value: 212.95961399599673.\n"
     ]
    },
    {
     "name": "stdout",
     "output_type": "stream",
     "text": [
      "Mean Absolute Error: 778.592570921085\n",
      "Mean Absolute Error: 704.6890570955306\n"
     ]
    },
    {
     "name": "stderr",
     "output_type": "stream",
     "text": [
      "[I 2023-10-25 14:32:35,205] Trial 465 finished with value: 710.3166336303998 and parameters: {'lambda': 0.0598575411816566, 'alpha': 0.06641722572514554, 'colsample_bytree': 0.5, 'subsample': 0.8, 'learning_rate': 0.01987894886349778, 'n_estimators': 833, 'max_depth': 17, 'random_state': 8, 'min_child_weight': 110}. Best is trial 148 with value: 212.95961399599673.\n"
     ]
    },
    {
     "name": "stdout",
     "output_type": "stream",
     "text": [
      "Mean Absolute Error: 724.8577083274934\n",
      "Mean Absolute Error: 701.4031354681753\n",
      "Mean Absolute Error: 248.8172225852492\n",
      "Mean Absolute Error: 216.300522438761\n",
      "Mean Absolute Error: 212.4111458633827\n"
     ]
    },
    {
     "name": "stderr",
     "output_type": "stream",
     "text": [
      "[I 2023-10-25 14:32:35,592] Trial 466 finished with value: 225.84296362913096 and parameters: {'lambda': 0.004640430905725762, 'alpha': 0.08763214742377004, 'colsample_bytree': 0.5, 'subsample': 0.7, 'learning_rate': 0.5086213418612254, 'n_estimators': 883, 'max_depth': 11, 'random_state': 748, 'min_child_weight': 106}. Best is trial 148 with value: 212.95961399599673.\n"
     ]
    },
    {
     "name": "stdout",
     "output_type": "stream",
     "text": [
      "Mean Absolute Error: 318.1777416008515\n",
      "Mean Absolute Error: 316.0167865680813\n"
     ]
    },
    {
     "name": "stderr",
     "output_type": "stream",
     "text": [
      "[I 2023-10-25 14:32:35,991] Trial 467 finished with value: 312.79297646341735 and parameters: {'lambda': 0.007668267946215263, 'alpha': 0.008154150976574888, 'colsample_bytree': 0.5, 'subsample': 1.0, 'learning_rate': 0.14743965065291956, 'n_estimators': 853, 'max_depth': 13, 'random_state': 240, 'min_child_weight': 111}. Best is trial 148 with value: 212.95961399599673.\n"
     ]
    },
    {
     "name": "stdout",
     "output_type": "stream",
     "text": [
      "Mean Absolute Error: 304.18440122131926\n",
      "Mean Absolute Error: 232.08188187150418\n"
     ]
    },
    {
     "name": "stderr",
     "output_type": "stream",
     "text": [
      "[I 2023-10-25 14:32:36,369] Trial 468 finished with value: 215.92347322241213 and parameters: {'lambda': 0.006533479645169956, 'alpha': 0.10777339196337274, 'colsample_bytree': 0.5, 'subsample': 0.8, 'learning_rate': 0.4102861551890646, 'n_estimators': 809, 'max_depth': 9, 'random_state': 694, 'min_child_weight': 117}. Best is trial 148 with value: 212.95961399599673.\n"
     ]
    },
    {
     "name": "stdout",
     "output_type": "stream",
     "text": [
      "Mean Absolute Error: 212.8975342258519\n",
      "Mean Absolute Error: 202.79100356988027\n"
     ]
    },
    {
     "name": "stderr",
     "output_type": "stream",
     "text": [
      "[I 2023-10-25 14:32:36,746] Trial 469 finished with value: 822.57645746045 and parameters: {'lambda': 0.019846874491039366, 'alpha': 0.13680707422182545, 'colsample_bytree': 0.5, 'subsample': 1.0, 'learning_rate': 0.0026118324213283643, 'n_estimators': 898, 'max_depth': 13, 'random_state': 404, 'min_child_weight': 130}. Best is trial 148 with value: 212.95961399599673.\n"
     ]
    },
    {
     "name": "stdout",
     "output_type": "stream",
     "text": [
      "Mean Absolute Error: 813.7656302422636\n",
      "Mean Absolute Error: 840.7366470694249\n",
      "Mean Absolute Error: 813.2270950696617\n",
      "Mean Absolute Error: 232.8292304550069\n",
      "Mean Absolute Error: 214.27826656537175\n"
     ]
    },
    {
     "name": "stderr",
     "output_type": "stream",
     "text": [
      "[I 2023-10-25 14:32:37,179] Trial 470 finished with value: 218.33082997272584 and parameters: {'lambda': 0.22518320803052475, 'alpha': 0.0012504560846928424, 'colsample_bytree': 0.5, 'subsample': 1.0, 'learning_rate': 0.3361742468084022, 'n_estimators': 823, 'max_depth': 17, 'random_state': 594, 'min_child_weight': 102}. Best is trial 148 with value: 212.95961399599673.\n"
     ]
    },
    {
     "name": "stdout",
     "output_type": "stream",
     "text": [
      "Mean Absolute Error: 207.8849928977988\n",
      "Mean Absolute Error: 262.8693589200621\n"
     ]
    },
    {
     "name": "stderr",
     "output_type": "stream",
     "text": [
      "[I 2023-10-25 14:32:37,586] Trial 471 finished with value: 237.52347576549593 and parameters: {'lambda': 0.011648268439557179, 'alpha': 0.07675503018775298, 'colsample_bytree': 0.5, 'subsample': 0.8, 'learning_rate': 0.6100292544740072, 'n_estimators': 982, 'max_depth': 13, 'random_state': 643, 'min_child_weight': 120}. Best is trial 148 with value: 212.95961399599673.\n"
     ]
    },
    {
     "name": "stdout",
     "output_type": "stream",
     "text": [
      "Mean Absolute Error: 229.2970046091763\n",
      "Mean Absolute Error: 220.40406376724934\n",
      "Mean Absolute Error: 249.40800224658705\n",
      "Mean Absolute Error: 234.53036805912893\n"
     ]
    },
    {
     "name": "stderr",
     "output_type": "stream",
     "text": [
      "[I 2023-10-25 14:32:37,982] Trial 472 finished with value: 238.21510215163872 and parameters: {'lambda': 0.5591196816400954, 'alpha': 0.010410208046929497, 'colsample_bytree': 0.4, 'subsample': 1.0, 'learning_rate': 0.2502555476028123, 'n_estimators': 547, 'max_depth': 11, 'random_state': 576, 'min_child_weight': 125}. Best is trial 148 with value: 212.95961399599673.\n"
     ]
    },
    {
     "name": "stdout",
     "output_type": "stream",
     "text": [
      "Mean Absolute Error: 230.70693614920023\n",
      "Mean Absolute Error: 234.6922762530661\n"
     ]
    },
    {
     "name": "stderr",
     "output_type": "stream",
     "text": [
      "[I 2023-10-25 14:32:38,327] Trial 473 finished with value: 217.40425786280488 and parameters: {'lambda': 0.015748934907590228, 'alpha': 0.004661228832405621, 'colsample_bytree': 0.5, 'subsample': 1.0, 'learning_rate': 0.47324355031626536, 'n_estimators': 575, 'max_depth': 7, 'random_state': 610, 'min_child_weight': 154}. Best is trial 148 with value: 212.95961399599673.\n"
     ]
    },
    {
     "name": "stdout",
     "output_type": "stream",
     "text": [
      "Mean Absolute Error: 210.53128679644846\n",
      "Mean Absolute Error: 206.98921053890007\n",
      "Mean Absolute Error: 231.93996341790643\n",
      "Mean Absolute Error: 215.28515753614295\n"
     ]
    },
    {
     "name": "stderr",
     "output_type": "stream",
     "text": [
      "[I 2023-10-25 14:32:38,748] Trial 474 finished with value: 220.3537966766148 and parameters: {'lambda': 0.04552911578944872, 'alpha': 0.15077912058486617, 'colsample_bytree': 0.9, 'subsample': 0.8, 'learning_rate': 0.3069163073626972, 'n_estimators': 513, 'max_depth': 13, 'random_state': 667, 'min_child_weight': 113}. Best is trial 148 with value: 212.95961399599673.\n"
     ]
    },
    {
     "name": "stdout",
     "output_type": "stream",
     "text": [
      "Mean Absolute Error: 213.83626907579495\n",
      "Mean Absolute Error: 236.41581049828537\n"
     ]
    },
    {
     "name": "stderr",
     "output_type": "stream",
     "text": [
      "[I 2023-10-25 14:32:39,152] Trial 475 finished with value: 216.39773742270577 and parameters: {'lambda': 0.3404545091601993, 'alpha': 0.9743984042269351, 'colsample_bytree': 0.7, 'subsample': 1.0, 'learning_rate': 0.43050145526282235, 'n_estimators': 939, 'max_depth': 9, 'random_state': 629, 'min_child_weight': 96}. Best is trial 148 with value: 212.95961399599673.\n"
     ]
    },
    {
     "name": "stdout",
     "output_type": "stream",
     "text": [
      "Mean Absolute Error: 209.15836555265835\n",
      "Mean Absolute Error: 203.61903621717357\n"
     ]
    },
    {
     "name": "stderr",
     "output_type": "stream",
     "text": [
      "[I 2023-10-25 14:32:39,522] Trial 476 finished with value: 225.348080374892 and parameters: {'lambda': 0.13889849428005138, 'alpha': 0.48766526671746385, 'colsample_bytree': 0.9, 'subsample': 0.4, 'learning_rate': 0.372528505486747, 'n_estimators': 832, 'max_depth': 15, 'random_state': 720, 'min_child_weight': 145}. Best is trial 148 with value: 212.95961399599673.\n"
     ]
    },
    {
     "name": "stdout",
     "output_type": "stream",
     "text": [
      "Mean Absolute Error: 242.14418006923378\n",
      "Mean Absolute Error: 220.2560832899881\n",
      "Mean Absolute Error: 213.64397776545414\n",
      "Mean Absolute Error: 253.98988927190175\n",
      "Mean Absolute Error: 217.63369491846876\n"
     ]
    },
    {
     "name": "stderr",
     "output_type": "stream",
     "text": [
      "[I 2023-10-25 14:32:39,950] Trial 477 finished with value: 228.12534524722923 and parameters: {'lambda': 0.10134546736580345, 'alpha': 0.3363801824595507, 'colsample_bytree': 0.6, 'subsample': 0.8, 'learning_rate': 0.5544489855765216, 'n_estimators': 865, 'max_depth': 13, 'random_state': 557, 'min_child_weight': 106}. Best is trial 148 with value: 212.95961399599673.\n"
     ]
    },
    {
     "name": "stdout",
     "output_type": "stream",
     "text": [
      "Mean Absolute Error: 212.75245155131728\n",
      "Mean Absolute Error: 238.66144989302478\n"
     ]
    },
    {
     "name": "stderr",
     "output_type": "stream",
     "text": [
      "[I 2023-10-25 14:32:40,395] Trial 478 finished with value: 225.9662603204891 and parameters: {'lambda': 0.03642380771606728, 'alpha': 0.014423112306800972, 'colsample_bytree': 0.9, 'subsample': 1.0, 'learning_rate': 0.27661978540344734, 'n_estimators': 525, 'max_depth': 17, 'random_state': 596, 'min_child_weight': 133}. Best is trial 148 with value: 212.95961399599673.\n"
     ]
    },
    {
     "name": "stdout",
     "output_type": "stream",
     "text": [
      "Mean Absolute Error: 222.71128025118352\n",
      "Mean Absolute Error: 216.526050817259\n",
      "Mean Absolute Error: 236.26795730773662\n",
      "Mean Absolute Error: 212.38176410180242\n"
     ]
    },
    {
     "name": "stderr",
     "output_type": "stream",
     "text": [
      "[I 2023-10-25 14:32:40,823] Trial 479 finished with value: 217.44937054212062 and parameters: {'lambda': 0.024237782547523953, 'alpha': 0.01934946176709881, 'colsample_bytree': 0.7, 'subsample': 1.0, 'learning_rate': 0.37261304598499034, 'n_estimators': 811, 'max_depth': 11, 'random_state': 655, 'min_child_weight': 92}. Best is trial 148 with value: 212.95961399599673.\n"
     ]
    },
    {
     "name": "stdout",
     "output_type": "stream",
     "text": [
      "Mean Absolute Error: 203.69839021682284\n",
      "Mean Absolute Error: 287.25550163395536\n",
      "Mean Absolute Error: 241.8865696322716\n"
     ]
    },
    {
     "name": "stderr",
     "output_type": "stream",
     "text": [
      "[I 2023-10-25 14:32:41,300] Trial 480 finished with value: 253.1750550459798 and parameters: {'lambda': 0.28471538620620734, 'alpha': 0.21183089967211727, 'colsample_bytree': 0.9, 'subsample': 0.8, 'learning_rate': 0.7310177164624357, 'n_estimators': 959, 'max_depth': 13, 'random_state': 618, 'min_child_weight': 51}. Best is trial 148 with value: 212.95961399599673.\n"
     ]
    },
    {
     "name": "stdout",
     "output_type": "stream",
     "text": [
      "Mean Absolute Error: 230.38309387171245\n",
      "Mean Absolute Error: 783.7717658267131\n"
     ]
    },
    {
     "name": "stderr",
     "output_type": "stream",
     "text": [
      "[I 2023-10-25 14:32:41,686] Trial 481 finished with value: 792.3036427624739 and parameters: {'lambda': 0.1959799042777111, 'alpha': 0.061622378005629086, 'colsample_bytree': 1.0, 'subsample': 1.0, 'learning_rate': 0.0068944419154380356, 'n_estimators': 889, 'max_depth': 13, 'random_state': 578, 'min_child_weight': 168}. Best is trial 148 with value: 212.95961399599673.\n"
     ]
    },
    {
     "name": "stdout",
     "output_type": "stream",
     "text": [
      "Mean Absolute Error: 810.0053516500999\n",
      "Mean Absolute Error: 783.1338108106088\n",
      "Mean Absolute Error: 569.3550091811884\n",
      "Mean Absolute Error: 585.4146251347869\n"
     ]
    },
    {
     "name": "stderr",
     "output_type": "stream",
     "text": [
      "[I 2023-10-25 14:32:42,099] Trial 482 finished with value: 572.798681116827 and parameters: {'lambda': 0.002700454844870643, 'alpha': 0.0010044124542561209, 'colsample_bytree': 0.9, 'subsample': 1.0, 'learning_rate': 0.04620974733719083, 'n_estimators': 919, 'max_depth': 9, 'random_state': 678, 'min_child_weight': 140}. Best is trial 148 with value: 212.95961399599673.\n"
     ]
    },
    {
     "name": "stdout",
     "output_type": "stream",
     "text": [
      "Mean Absolute Error: 563.6264090345055\n",
      "Mean Absolute Error: 806.3588975116287\n"
     ]
    },
    {
     "name": "stderr",
     "output_type": "stream",
     "text": [
      "[I 2023-10-25 14:32:42,480] Trial 483 finished with value: 815.1051213785662 and parameters: {'lambda': 0.16949952893882916, 'alpha': 0.05461659728964464, 'colsample_bytree': 0.5, 'subsample': 0.8, 'learning_rate': 0.00362818461198004, 'n_estimators': 547, 'max_depth': 17, 'random_state': 636, 'min_child_weight': 101}. Best is trial 148 with value: 212.95961399599673.\n"
     ]
    },
    {
     "name": "stdout",
     "output_type": "stream",
     "text": [
      "Mean Absolute Error: 833.1267383159978\n",
      "Mean Absolute Error: 805.8297283080718\n"
     ]
    },
    {
     "name": "stderr",
     "output_type": "stream",
     "text": [
      "[I 2023-10-25 14:32:42,847] Trial 484 finished with value: 247.90654353479067 and parameters: {'lambda': 0.009540430991443801, 'alpha': 0.0037080380189940397, 'colsample_bytree': 0.9, 'subsample': 1.0, 'learning_rate': 0.21897625556495431, 'n_estimators': 852, 'max_depth': 7, 'random_state': 603, 'min_child_weight': 121}. Best is trial 148 with value: 212.95961399599673.\n"
     ]
    },
    {
     "name": "stdout",
     "output_type": "stream",
     "text": [
      "Mean Absolute Error: 257.125672684382\n",
      "Mean Absolute Error: 246.52242342619158\n",
      "Mean Absolute Error: 240.07153449379845\n",
      "Mean Absolute Error: 757.3318093985584\n",
      "Mean Absolute Error: 782.1217815464961\n"
     ]
    },
    {
     "name": "stderr",
     "output_type": "stream",
     "text": [
      "[I 2023-10-25 14:32:43,245] Trial 485 finished with value: 765.2279742877669 and parameters: {'lambda': 0.0698551447939941, 'alpha': 0.006526627560661612, 'colsample_bytree': 0.9, 'subsample': 1.0, 'learning_rate': 0.010923599414158616, 'n_estimators': 579, 'max_depth': 11, 'random_state': 581, 'min_child_weight': 159}. Best is trial 148 with value: 212.95961399599673.\n"
     ]
    },
    {
     "name": "stdout",
     "output_type": "stream",
     "text": [
      "Mean Absolute Error: 756.2303319182462\n",
      "Mean Absolute Error: 645.8938876692079\n"
     ]
    },
    {
     "name": "stderr",
     "output_type": "stream",
     "text": [
      "[I 2023-10-25 14:32:43,645] Trial 486 finished with value: 650.858563573915 and parameters: {'lambda': 0.014664413810729044, 'alpha': 0.0013938975525379631, 'colsample_bytree': 0.9, 'subsample': 0.8, 'learning_rate': 0.030110890739814745, 'n_estimators': 605, 'max_depth': 13, 'random_state': 554, 'min_child_weight': 113}. Best is trial 148 with value: 212.95961399599673.\n"
     ]
    },
    {
     "name": "stdout",
     "output_type": "stream",
     "text": [
      "Mean Absolute Error: 664.7158226255725\n",
      "Mean Absolute Error: 641.9659804269648\n",
      "Mean Absolute Error: 256.3559444897493\n",
      "Mean Absolute Error: 244.69875065583844\n"
     ]
    },
    {
     "name": "stderr",
     "output_type": "stream",
     "text": [
      "[I 2023-10-25 14:32:44,087] Trial 487 finished with value: 242.4838894072301 and parameters: {'lambda': 0.004769396793501957, 'alpha': 0.08441407284362089, 'colsample_bytree': 0.3, 'subsample': 1.0, 'learning_rate': 0.5023436149042565, 'n_estimators': 797, 'max_depth': 13, 'random_state': 658, 'min_child_weight': 73}. Best is trial 148 with value: 212.95961399599673.\n"
     ]
    },
    {
     "name": "stdout",
     "output_type": "stream",
     "text": [
      "Mean Absolute Error: 226.3969730761025\n",
      "Mean Absolute Error: 236.5916953541642\n"
     ]
    },
    {
     "name": "stderr",
     "output_type": "stream",
     "text": [
      "[I 2023-10-25 14:32:44,473] Trial 488 finished with value: 224.51191693337526 and parameters: {'lambda': 0.021691012032712082, 'alpha': 0.001949668502894126, 'colsample_bytree': 0.8, 'subsample': 0.6, 'learning_rate': 0.31252565562564544, 'n_estimators': 257, 'max_depth': 17, 'random_state': 614, 'min_child_weight': 154}. Best is trial 148 with value: 212.95961399599673.\n"
     ]
    },
    {
     "name": "stdout",
     "output_type": "stream",
     "text": [
      "Mean Absolute Error: 224.42754041979836\n",
      "Mean Absolute Error: 212.51651502616326\n",
      "Mean Absolute Error: 231.67365978337523\n",
      "Mean Absolute Error: 208.3083959912564\n"
     ]
    },
    {
     "name": "stderr",
     "output_type": "stream",
     "text": [
      "[I 2023-10-25 14:32:44,922] Trial 489 finished with value: 215.55837921898183 and parameters: {'lambda': 2.6711902372359693, 'alpha': 0.0029858018371850177, 'colsample_bytree': 0.9, 'subsample': 0.8, 'learning_rate': 0.4199720475058205, 'n_estimators': 997, 'max_depth': 13, 'random_state': 701, 'min_child_weight': 94}. Best is trial 148 with value: 212.95961399599673.\n"
     ]
    },
    {
     "name": "stdout",
     "output_type": "stream",
     "text": [
      "Mean Absolute Error: 206.69308188231395\n",
      "Mean Absolute Error: 301.78716420502485\n"
     ]
    },
    {
     "name": "stderr",
     "output_type": "stream",
     "text": [
      "[I 2023-10-25 14:32:45,314] Trial 490 finished with value: 296.66842212564 and parameters: {'lambda': 0.034781098319468705, 'alpha': 0.012134882639924582, 'colsample_bytree': 0.9, 'subsample': 0.5, 'learning_rate': 0.1617666523084622, 'n_estimators': 512, 'max_depth': 11, 'random_state': 637, 'min_child_weight': 87}. Best is trial 148 with value: 212.95961399599673.\n"
     ]
    },
    {
     "name": "stdout",
     "output_type": "stream",
     "text": [
      "Mean Absolute Error: 298.79132793399594\n",
      "Mean Absolute Error: 289.4267742378993\n",
      "Mean Absolute Error: 229.77332806590528\n",
      "Mean Absolute Error: 211.2190703496122\n"
     ]
    },
    {
     "name": "stderr",
     "output_type": "stream",
     "text": [
      "[I 2023-10-25 14:32:45,743] Trial 491 finished with value: 214.79574357225542 and parameters: {'lambda': 0.0057474347696570794, 'alpha': 0.00130573099617082, 'colsample_bytree': 0.7, 'subsample': 1.0, 'learning_rate': 0.34990991975555613, 'n_estimators': 563, 'max_depth': 9, 'random_state': 564, 'min_child_weight': 106}. Best is trial 148 with value: 212.95961399599673.\n"
     ]
    },
    {
     "name": "stdout",
     "output_type": "stream",
     "text": [
      "Mean Absolute Error: 203.39483230124875\n",
      "Mean Absolute Error: 814.7592479341633\n"
     ]
    },
    {
     "name": "stderr",
     "output_type": "stream",
     "text": [
      "[I 2023-10-25 14:32:46,149] Trial 492 finished with value: 823.5424941457059 and parameters: {'lambda': 0.0029385540798536236, 'alpha': 0.03147144496568377, 'colsample_bytree': 0.7, 'subsample': 1.0, 'learning_rate': 0.0024612750904706568, 'n_estimators': 560, 'max_depth': 9, 'random_state': 562, 'min_child_weight': 109}. Best is trial 148 with value: 212.95961399599673.\n"
     ]
    },
    {
     "name": "stdout",
     "output_type": "stream",
     "text": [
      "Mean Absolute Error: 841.6623452683965\n",
      "Mean Absolute Error: 814.2058892345576\n",
      "Mean Absolute Error: 792.1038094782159\n",
      "Mean Absolute Error: 818.2063404196311\n"
     ]
    },
    {
     "name": "stderr",
     "output_type": "stream",
     "text": [
      "[I 2023-10-25 14:32:46,545] Trial 493 finished with value: 800.5189162869897 and parameters: {'lambda': 0.0037831632478136507, 'alpha': 0.0012490870194756282, 'colsample_bytree': 0.7, 'subsample': 0.7, 'learning_rate': 0.005696773355820828, 'n_estimators': 584, 'max_depth': 9, 'random_state': 539, 'min_child_weight': 106}. Best is trial 148 with value: 212.95961399599673.\n"
     ]
    },
    {
     "name": "stdout",
     "output_type": "stream",
     "text": [
      "Mean Absolute Error: 791.246598963122\n",
      "Mean Absolute Error: 250.63545385025336\n"
     ]
    },
    {
     "name": "stderr",
     "output_type": "stream",
     "text": [
      "[I 2023-10-25 14:32:46,923] Trial 494 finished with value: 228.63827153307554 and parameters: {'lambda': 0.005885290716009247, 'alpha': 0.0015061778677765137, 'colsample_bytree': 0.7, 'subsample': 0.8, 'learning_rate': 0.5766668703273314, 'n_estimators': 531, 'max_depth': 9, 'random_state': 545, 'min_child_weight': 114}. Best is trial 148 with value: 212.95961399599673.\n"
     ]
    },
    {
     "name": "stdout",
     "output_type": "stream",
     "text": [
      "Mean Absolute Error: 220.51919049070005\n",
      "Mean Absolute Error: 214.7601702582732\n",
      "Mean Absolute Error: 767.7792814568523\n",
      "Mean Absolute Error: 792.617388729574\n"
     ]
    },
    {
     "name": "stderr",
     "output_type": "stream",
     "text": [
      "[I 2023-10-25 14:32:47,329] Trial 495 finished with value: 775.6106335665785 and parameters: {'lambda': 0.0022745863662584106, 'alpha': 0.0012226747226679478, 'colsample_bytree': 0.7, 'subsample': 1.0, 'learning_rate': 0.009325327170659677, 'n_estimators': 552, 'max_depth': 9, 'random_state': 576, 'min_child_weight': 125}. Best is trial 148 with value: 212.95961399599673.\n"
     ]
    },
    {
     "name": "stdout",
     "output_type": "stream",
     "text": [
      "Mean Absolute Error: 766.4352305133091\n",
      "Mean Absolute Error: 829.666939183201\n"
     ]
    },
    {
     "name": "stderr",
     "output_type": "stream",
     "text": [
      "[I 2023-10-25 14:32:47,737] Trial 496 finished with value: 838.9741975328433 and parameters: {'lambda': 0.039347820733678825, 'alpha': 0.10005752865378888, 'colsample_bytree': 0.5, 'subsample': 1.0, 'learning_rate': 0.0003358031548353599, 'n_estimators': 611, 'max_depth': 9, 'random_state': 592, 'min_child_weight': 102}. Best is trial 148 with value: 212.95961399599673.\n"
     ]
    },
    {
     "name": "stdout",
     "output_type": "stream",
     "text": [
      "Mean Absolute Error: 857.6004652168083\n",
      "Mean Absolute Error: 829.6551881985207\n"
     ]
    },
    {
     "name": "stderr",
     "output_type": "stream",
     "text": [
      "[I 2023-10-25 14:32:48,121] Trial 497 finished with value: 629.7732150859246 and parameters: {'lambda': 0.007063111160308385, 'alpha': 0.0010198537624315231, 'colsample_bytree': 0.6, 'subsample': 0.8, 'learning_rate': 0.03428152225467839, 'n_estimators': 565, 'max_depth': 9, 'random_state': 553, 'min_child_weight': 117}. Best is trial 148 with value: 212.95961399599673.\n"
     ]
    },
    {
     "name": "stdout",
     "output_type": "stream",
     "text": [
      "Mean Absolute Error: 625.4032172622929\n",
      "Mean Absolute Error: 643.2015059157892\n",
      "Mean Absolute Error: 620.7149220796916\n"
     ]
    },
    {
     "name": "stderr",
     "output_type": "stream",
     "text": [
      "[I 2023-10-25 14:32:48,478] Trial 498 finished with value: 828.3774753109715 and parameters: {'lambda': 0.0032021444389252604, 'alpha': 0.18370625192491166, 'colsample_bytree': 0.7, 'subsample': 1.0, 'learning_rate': 0.0018027396354800209, 'n_estimators': 593, 'max_depth': 9, 'random_state': 519, 'min_child_weight': 237}. Best is trial 148 with value: 212.95961399599673.\n"
     ]
    },
    {
     "name": "stdout",
     "output_type": "stream",
     "text": [
      "Mean Absolute Error: 819.2679799207257\n",
      "Mean Absolute Error: 846.7877838989594\n",
      "Mean Absolute Error: 819.0766621132294\n",
      "Mean Absolute Error: 502.6762960224496\n",
      "Mean Absolute Error: 514.7954197443395\n"
     ]
    },
    {
     "name": "stderr",
     "output_type": "stream",
     "text": [
      "[I 2023-10-25 14:32:48,868] Trial 499 finished with value: 504.22270900984705 and parameters: {'lambda': 0.00206203352164389, 'alpha': 0.021902115211145462, 'colsample_bytree': 0.7, 'subsample': 1.0, 'learning_rate': 0.063780307530416, 'n_estimators': 498, 'max_depth': 9, 'random_state': 684, 'min_child_weight': 149}. Best is trial 148 with value: 212.95961399599673.\n"
     ]
    },
    {
     "name": "stdout",
     "output_type": "stream",
     "text": [
      "Mean Absolute Error: 495.19641126275224\n"
     ]
    }
   ],
   "source": [
    "study.optimize(objective, n_trials=500)"
   ]
  },
  {
   "cell_type": "code",
   "execution_count": 144,
   "id": "b87db151-dec5-4b3f-9604-ac46ec2297f4",
   "metadata": {},
   "outputs": [
    {
     "name": "stdout",
     "output_type": "stream",
     "text": [
      "  Value: 212.95961399599673\n",
      "{'lambda': 0.0014379830852848591, 'alpha': 0.0011776334600574765, 'colsample_bytree': 0.9, 'subsample': 0.8, 'learning_rate': 0.3920948018175181, 'n_estimators': 530, 'max_depth': 13, 'random_state': 594, 'min_child_weight': 113}\n"
     ]
    }
   ],
   "source": [
    "trial = study.best_trial\n",
    "\n",
    "print(\"  Value: {}\".format(trial.value))\n",
    "print(trial.params)"
   ]
  },
  {
   "cell_type": "code",
   "execution_count": 166,
   "id": "d8814625-ca05-43c5-ad19-49b458fafe01",
   "metadata": {},
   "outputs": [],
   "source": [
    "param = {'lambda': 3.0630279080034972, 'alpha': 0.2730983425661975, 'colsample_bytree': 0.8, 'subsample': 1.0, 'learning_rate': 0.36918926915348443, 'n_estimators': 61, 'max_depth': 11, 'random_state': 889, 'min_child_weight': 112}"
   ]
  },
  {
   "cell_type": "code",
   "execution_count": 167,
   "id": "bc59abc9-2568-418c-abc8-077814c3f5b9",
   "metadata": {},
   "outputs": [],
   "source": [
    "model = xgb.XGBRegressor(**param)"
   ]
  },
  {
   "cell_type": "code",
   "execution_count": 168,
   "id": "3686b0a9-8b38-440c-b17c-57a1230718a7",
   "metadata": {},
   "outputs": [],
   "source": [
    "X_train = data.drop(columns = 'pv_measurement')\n",
    "y_train = data['pv_measurement']"
   ]
  },
  {
   "cell_type": "code",
   "execution_count": 174,
   "id": "1cc57365-a844-427a-8658-674c589480d7",
   "metadata": {},
   "outputs": [
    {
     "data": {
      "text/html": [
       "<style>#sk-container-id-4 {color: black;}#sk-container-id-4 pre{padding: 0;}#sk-container-id-4 div.sk-toggleable {background-color: white;}#sk-container-id-4 label.sk-toggleable__label {cursor: pointer;display: block;width: 100%;margin-bottom: 0;padding: 0.3em;box-sizing: border-box;text-align: center;}#sk-container-id-4 label.sk-toggleable__label-arrow:before {content: \"▸\";float: left;margin-right: 0.25em;color: #696969;}#sk-container-id-4 label.sk-toggleable__label-arrow:hover:before {color: black;}#sk-container-id-4 div.sk-estimator:hover label.sk-toggleable__label-arrow:before {color: black;}#sk-container-id-4 div.sk-toggleable__content {max-height: 0;max-width: 0;overflow: hidden;text-align: left;background-color: #f0f8ff;}#sk-container-id-4 div.sk-toggleable__content pre {margin: 0.2em;color: black;border-radius: 0.25em;background-color: #f0f8ff;}#sk-container-id-4 input.sk-toggleable__control:checked~div.sk-toggleable__content {max-height: 200px;max-width: 100%;overflow: auto;}#sk-container-id-4 input.sk-toggleable__control:checked~label.sk-toggleable__label-arrow:before {content: \"▾\";}#sk-container-id-4 div.sk-estimator input.sk-toggleable__control:checked~label.sk-toggleable__label {background-color: #d4ebff;}#sk-container-id-4 div.sk-label input.sk-toggleable__control:checked~label.sk-toggleable__label {background-color: #d4ebff;}#sk-container-id-4 input.sk-hidden--visually {border: 0;clip: rect(1px 1px 1px 1px);clip: rect(1px, 1px, 1px, 1px);height: 1px;margin: -1px;overflow: hidden;padding: 0;position: absolute;width: 1px;}#sk-container-id-4 div.sk-estimator {font-family: monospace;background-color: #f0f8ff;border: 1px dotted black;border-radius: 0.25em;box-sizing: border-box;margin-bottom: 0.5em;}#sk-container-id-4 div.sk-estimator:hover {background-color: #d4ebff;}#sk-container-id-4 div.sk-parallel-item::after {content: \"\";width: 100%;border-bottom: 1px solid gray;flex-grow: 1;}#sk-container-id-4 div.sk-label:hover label.sk-toggleable__label {background-color: #d4ebff;}#sk-container-id-4 div.sk-serial::before {content: \"\";position: absolute;border-left: 1px solid gray;box-sizing: border-box;top: 0;bottom: 0;left: 50%;z-index: 0;}#sk-container-id-4 div.sk-serial {display: flex;flex-direction: column;align-items: center;background-color: white;padding-right: 0.2em;padding-left: 0.2em;position: relative;}#sk-container-id-4 div.sk-item {position: relative;z-index: 1;}#sk-container-id-4 div.sk-parallel {display: flex;align-items: stretch;justify-content: center;background-color: white;position: relative;}#sk-container-id-4 div.sk-item::before, #sk-container-id-4 div.sk-parallel-item::before {content: \"\";position: absolute;border-left: 1px solid gray;box-sizing: border-box;top: 0;bottom: 0;left: 50%;z-index: -1;}#sk-container-id-4 div.sk-parallel-item {display: flex;flex-direction: column;z-index: 1;position: relative;background-color: white;}#sk-container-id-4 div.sk-parallel-item:first-child::after {align-self: flex-end;width: 50%;}#sk-container-id-4 div.sk-parallel-item:last-child::after {align-self: flex-start;width: 50%;}#sk-container-id-4 div.sk-parallel-item:only-child::after {width: 0;}#sk-container-id-4 div.sk-dashed-wrapped {border: 1px dashed gray;margin: 0 0.4em 0.5em 0.4em;box-sizing: border-box;padding-bottom: 0.4em;background-color: white;}#sk-container-id-4 div.sk-label label {font-family: monospace;font-weight: bold;display: inline-block;line-height: 1.2em;}#sk-container-id-4 div.sk-label-container {text-align: center;}#sk-container-id-4 div.sk-container {/* jupyter's `normalize.less` sets `[hidden] { display: none; }` but bootstrap.min.css set `[hidden] { display: none !important; }` so we also need the `!important` here to be able to override the default hidden behavior on the sphinx rendered scikit-learn.org. See: https://github.com/scikit-learn/scikit-learn/issues/21755 */display: inline-block !important;position: relative;}#sk-container-id-4 div.sk-text-repr-fallback {display: none;}</style><div id=\"sk-container-id-4\" class=\"sk-top-container\"><div class=\"sk-text-repr-fallback\"><pre>XGBRegressor(alpha=0.2730983425661975, base_score=None, booster=None,\n",
       "             callbacks=None, colsample_bylevel=None, colsample_bynode=None,\n",
       "             colsample_bytree=0.8, device=None, early_stopping_rounds=None,\n",
       "             enable_categorical=False, eval_metric=None, feature_types=None,\n",
       "             gamma=None, grow_policy=None, importance_type=None,\n",
       "             interaction_constraints=None, lambda=3.0630279080034972,\n",
       "             learning_rate=0.36918926915348443, max_bin=None,\n",
       "             max_cat_threshold=None, max_cat_to_onehot=None,\n",
       "             max_delta_step=None, max_depth=11, max_leaves=None,\n",
       "             min_child_weight=112, missing=nan, monotone_constraints=None,\n",
       "             multi_strategy=None, n_estimators=61, n_jobs=None, ...)</pre><b>In a Jupyter environment, please rerun this cell to show the HTML representation or trust the notebook. <br />On GitHub, the HTML representation is unable to render, please try loading this page with nbviewer.org.</b></div><div class=\"sk-container\" hidden><div class=\"sk-item\"><div class=\"sk-estimator sk-toggleable\"><input class=\"sk-toggleable__control sk-hidden--visually\" id=\"sk-estimator-id-4\" type=\"checkbox\" checked><label for=\"sk-estimator-id-4\" class=\"sk-toggleable__label sk-toggleable__label-arrow\">XGBRegressor</label><div class=\"sk-toggleable__content\"><pre>XGBRegressor(alpha=0.2730983425661975, base_score=None, booster=None,\n",
       "             callbacks=None, colsample_bylevel=None, colsample_bynode=None,\n",
       "             colsample_bytree=0.8, device=None, early_stopping_rounds=None,\n",
       "             enable_categorical=False, eval_metric=None, feature_types=None,\n",
       "             gamma=None, grow_policy=None, importance_type=None,\n",
       "             interaction_constraints=None, lambda=3.0630279080034972,\n",
       "             learning_rate=0.36918926915348443, max_bin=None,\n",
       "             max_cat_threshold=None, max_cat_to_onehot=None,\n",
       "             max_delta_step=None, max_depth=11, max_leaves=None,\n",
       "             min_child_weight=112, missing=nan, monotone_constraints=None,\n",
       "             multi_strategy=None, n_estimators=61, n_jobs=None, ...)</pre></div></div></div></div></div>"
      ],
      "text/plain": [
       "XGBRegressor(alpha=0.2730983425661975, base_score=None, booster=None,\n",
       "             callbacks=None, colsample_bylevel=None, colsample_bynode=None,\n",
       "             colsample_bytree=0.8, device=None, early_stopping_rounds=None,\n",
       "             enable_categorical=False, eval_metric=None, feature_types=None,\n",
       "             gamma=None, grow_policy=None, importance_type=None,\n",
       "             interaction_constraints=None, lambda=3.0630279080034972,\n",
       "             learning_rate=0.36918926915348443, max_bin=None,\n",
       "             max_cat_threshold=None, max_cat_to_onehot=None,\n",
       "             max_delta_step=None, max_depth=11, max_leaves=None,\n",
       "             min_child_weight=112, missing=nan, monotone_constraints=None,\n",
       "             multi_strategy=None, n_estimators=61, n_jobs=None, ...)"
      ]
     },
     "execution_count": 174,
     "metadata": {},
     "output_type": "execute_result"
    }
   ],
   "source": [
    "model.fit(X_train,y_train)"
   ]
  },
  {
   "cell_type": "code",
   "execution_count": 177,
   "id": "d3e23b31-17c0-4740-a8f7-83929b92e87b",
   "metadata": {},
   "outputs": [
    {
     "data": {
      "text/plain": [
       "0                       direct_rad:W\n",
       "1                      diffuse_rad:W\n",
       "2               precip_type_5min:idx\n",
       "3                    clear_sky_rad:W\n",
       "4                     precip_5min:mm\n",
       "5                              hours\n",
       "6                      sun_azimuth:d\n",
       "7                  fresh_snow_24h:cm\n",
       "8                    direct_rad_1h:J\n",
       "9                              month\n",
       "10                   rain_water:kgm2\n",
       "11          absolute_humidity_2m:gm3\n",
       "12                              year\n",
       "13                  msl_pressure:hPa\n",
       "14               wind_speed_u_10m:ms\n",
       "15                    dew_point_2m:K\n",
       "16                       t_1000hPa:K\n",
       "17           effective_cloud_cover:p\n",
       "18                   snow_water:kgm2\n",
       "19                               day\n",
       "20                 pressure_100m:hPa\n",
       "21              ceiling_height_agl:m\n",
       "22                 wind_speed_10m:ms\n",
       "23    super_cooled_liquid_water:kgm2\n",
       "24                      visibility:m\n",
       "25               total_cloud_cover:p\n",
       "26               wind_speed_v_10m:ms\n",
       "27                  pressure_50m:hPa\n",
       "28               air_density_2m:kgm3\n",
       "29                   sun_elevation:d\n",
       "30                  diffuse_rad_1h:J\n",
       "31                  cloud_base_agl:m\n",
       "32             clear_sky_energy_1h:J\n",
       "33       relative_humidity_1000hPa:p\n",
       "34                  sfc_pressure:hPa\n",
       "35                 fresh_snow_12h:cm\n",
       "37                  is_in_shadow:idx\n",
       "Name: Feature, dtype: object"
      ]
     },
     "execution_count": 177,
     "metadata": {},
     "output_type": "execute_result"
    }
   ],
   "source": [
    "feature_importance = model.feature_importances_\n",
    "# Define a threshold for feature importance\n",
    "threshold = 0.0001  # Adjust this value as needed\n",
    "\n",
    "# Create a DataFrame to store feature importance\n",
    "feature_importance_df = pd.DataFrame({'Feature': X_train.columns, 'Importance': feature_importance})\n",
    "# Filter features above the threshold\n",
    "selected_features = feature_importance_df[feature_importance_df['Importance'] >= threshold]['Feature']\n",
    "\n",
    "# Create a new DataFrame with the selected features\n",
    "X_selected = X_train[selected_features]\n",
    "X_selected['pv_measurement'] = data['pv_measurement']\n",
    "selected_features"
   ]
  },
  {
   "cell_type": "code",
   "execution_count": 178,
   "id": "45d72ad2-aedc-4650-981b-69bd1c4a9526",
   "metadata": {},
   "outputs": [],
   "source": [
    "\n",
    "# Sample DataFrame (replace this with your own dataset)\n",
    "data = X_selected\n",
    "\n",
    "# Define the number of splits (e.g., 5 for 80-20 train-test splits)\n",
    "n_splits = 3\n",
    "\n",
    "\n",
    "# Initialize the TimeSeriesSplit\n",
    "tscv = TimeSeriesSplit(n_splits=n_splits)"
   ]
  },
  {
   "cell_type": "code",
   "execution_count": 179,
   "id": "1573e419-6bd9-4d33-b578-002ffc47bf10",
   "metadata": {},
   "outputs": [
    {
     "data": {
      "text/html": [
       "<div>\n",
       "<style scoped>\n",
       "    .dataframe tbody tr th:only-of-type {\n",
       "        vertical-align: middle;\n",
       "    }\n",
       "\n",
       "    .dataframe tbody tr th {\n",
       "        vertical-align: top;\n",
       "    }\n",
       "\n",
       "    .dataframe thead th {\n",
       "        text-align: right;\n",
       "    }\n",
       "</style>\n",
       "<table border=\"1\" class=\"dataframe\">\n",
       "  <thead>\n",
       "    <tr style=\"text-align: right;\">\n",
       "      <th></th>\n",
       "      <th>direct_rad:W</th>\n",
       "      <th>diffuse_rad:W</th>\n",
       "      <th>precip_type_5min:idx</th>\n",
       "      <th>clear_sky_rad:W</th>\n",
       "      <th>precip_5min:mm</th>\n",
       "      <th>hours</th>\n",
       "      <th>sun_azimuth:d</th>\n",
       "      <th>fresh_snow_24h:cm</th>\n",
       "      <th>direct_rad_1h:J</th>\n",
       "      <th>month</th>\n",
       "      <th>...</th>\n",
       "      <th>air_density_2m:kgm3</th>\n",
       "      <th>sun_elevation:d</th>\n",
       "      <th>diffuse_rad_1h:J</th>\n",
       "      <th>cloud_base_agl:m</th>\n",
       "      <th>clear_sky_energy_1h:J</th>\n",
       "      <th>relative_humidity_1000hPa:p</th>\n",
       "      <th>sfc_pressure:hPa</th>\n",
       "      <th>fresh_snow_12h:cm</th>\n",
       "      <th>is_in_shadow:idx</th>\n",
       "      <th>pv_measurement</th>\n",
       "    </tr>\n",
       "    <tr>\n",
       "      <th>date_forecast</th>\n",
       "      <th></th>\n",
       "      <th></th>\n",
       "      <th></th>\n",
       "      <th></th>\n",
       "      <th></th>\n",
       "      <th></th>\n",
       "      <th></th>\n",
       "      <th></th>\n",
       "      <th></th>\n",
       "      <th></th>\n",
       "      <th></th>\n",
       "      <th></th>\n",
       "      <th></th>\n",
       "      <th></th>\n",
       "      <th></th>\n",
       "      <th></th>\n",
       "      <th></th>\n",
       "      <th></th>\n",
       "      <th></th>\n",
       "      <th></th>\n",
       "      <th></th>\n",
       "    </tr>\n",
       "  </thead>\n",
       "  <tbody>\n",
       "    <tr>\n",
       "      <th>2019-06-02 22:00:00</th>\n",
       "      <td>0.00</td>\n",
       "      <td>0.000</td>\n",
       "      <td>0.0</td>\n",
       "      <td>0.000</td>\n",
       "      <td>0.0</td>\n",
       "      <td>22</td>\n",
       "      <td>348.036740</td>\n",
       "      <td>0.0</td>\n",
       "      <td>0.000</td>\n",
       "      <td>6</td>\n",
       "      <td>...</td>\n",
       "      <td>1.22825</td>\n",
       "      <td>-3.77425</td>\n",
       "      <td>0.000</td>\n",
       "      <td>1728.950</td>\n",
       "      <td>0.000</td>\n",
       "      <td>71.674995</td>\n",
       "      <td>1005.80000</td>\n",
       "      <td>0.0</td>\n",
       "      <td>1.00</td>\n",
       "      <td>0.00</td>\n",
       "    </tr>\n",
       "    <tr>\n",
       "      <th>2019-06-02 23:00:00</th>\n",
       "      <td>0.00</td>\n",
       "      <td>0.000</td>\n",
       "      <td>0.0</td>\n",
       "      <td>0.000</td>\n",
       "      <td>0.0</td>\n",
       "      <td>23</td>\n",
       "      <td>91.980750</td>\n",
       "      <td>0.0</td>\n",
       "      <td>0.000</td>\n",
       "      <td>6</td>\n",
       "      <td>...</td>\n",
       "      <td>1.22350</td>\n",
       "      <td>-4.35725</td>\n",
       "      <td>0.000</td>\n",
       "      <td>1689.825</td>\n",
       "      <td>0.000</td>\n",
       "      <td>68.000000</td>\n",
       "      <td>1004.65000</td>\n",
       "      <td>0.0</td>\n",
       "      <td>1.00</td>\n",
       "      <td>0.00</td>\n",
       "    </tr>\n",
       "    <tr>\n",
       "      <th>2019-06-03 00:00:00</th>\n",
       "      <td>0.00</td>\n",
       "      <td>0.000</td>\n",
       "      <td>0.0</td>\n",
       "      <td>0.000</td>\n",
       "      <td>0.0</td>\n",
       "      <td>0</td>\n",
       "      <td>14.934750</td>\n",
       "      <td>0.0</td>\n",
       "      <td>0.000</td>\n",
       "      <td>6</td>\n",
       "      <td>...</td>\n",
       "      <td>1.21975</td>\n",
       "      <td>-3.30950</td>\n",
       "      <td>0.000</td>\n",
       "      <td>1563.225</td>\n",
       "      <td>0.000</td>\n",
       "      <td>67.950000</td>\n",
       "      <td>1003.95000</td>\n",
       "      <td>0.0</td>\n",
       "      <td>1.00</td>\n",
       "      <td>0.00</td>\n",
       "    </tr>\n",
       "    <tr>\n",
       "      <th>2019-06-03 02:00:00</th>\n",
       "      <td>0.15</td>\n",
       "      <td>11.975</td>\n",
       "      <td>0.0</td>\n",
       "      <td>23.100</td>\n",
       "      <td>0.0</td>\n",
       "      <td>2</td>\n",
       "      <td>41.997500</td>\n",
       "      <td>0.0</td>\n",
       "      <td>282.975</td>\n",
       "      <td>6</td>\n",
       "      <td>...</td>\n",
       "      <td>1.21800</td>\n",
       "      <td>3.05125</td>\n",
       "      <td>22068.950</td>\n",
       "      <td>1003.500</td>\n",
       "      <td>32468.150</td>\n",
       "      <td>79.925000</td>\n",
       "      <td>1002.50000</td>\n",
       "      <td>0.0</td>\n",
       "      <td>0.00</td>\n",
       "      <td>19.36</td>\n",
       "    </tr>\n",
       "    <tr>\n",
       "      <th>2019-06-03 03:00:00</th>\n",
       "      <td>6.30</td>\n",
       "      <td>45.125</td>\n",
       "      <td>0.0</td>\n",
       "      <td>84.375</td>\n",
       "      <td>0.0</td>\n",
       "      <td>3</td>\n",
       "      <td>55.041748</td>\n",
       "      <td>0.0</td>\n",
       "      <td>11627.550</td>\n",
       "      <td>6</td>\n",
       "      <td>...</td>\n",
       "      <td>1.21650</td>\n",
       "      <td>8.07100</td>\n",
       "      <td>102788.050</td>\n",
       "      <td>809.375</td>\n",
       "      <td>179499.080</td>\n",
       "      <td>82.850000</td>\n",
       "      <td>1001.67500</td>\n",
       "      <td>0.0</td>\n",
       "      <td>0.00</td>\n",
       "      <td>251.02</td>\n",
       "    </tr>\n",
       "    <tr>\n",
       "      <th>...</th>\n",
       "      <td>...</td>\n",
       "      <td>...</td>\n",
       "      <td>...</td>\n",
       "      <td>...</td>\n",
       "      <td>...</td>\n",
       "      <td>...</td>\n",
       "      <td>...</td>\n",
       "      <td>...</td>\n",
       "      <td>...</td>\n",
       "      <td>...</td>\n",
       "      <td>...</td>\n",
       "      <td>...</td>\n",
       "      <td>...</td>\n",
       "      <td>...</td>\n",
       "      <td>...</td>\n",
       "      <td>...</td>\n",
       "      <td>...</td>\n",
       "      <td>...</td>\n",
       "      <td>...</td>\n",
       "      <td>...</td>\n",
       "      <td>...</td>\n",
       "    </tr>\n",
       "    <tr>\n",
       "      <th>2023-04-30 19:00:00</th>\n",
       "      <td>0.10</td>\n",
       "      <td>2.825</td>\n",
       "      <td>0.0</td>\n",
       "      <td>4.225</td>\n",
       "      <td>0.0</td>\n",
       "      <td>19</td>\n",
       "      <td>304.939240</td>\n",
       "      <td>0.0</td>\n",
       "      <td>13230.649</td>\n",
       "      <td>4</td>\n",
       "      <td>...</td>\n",
       "      <td>1.27650</td>\n",
       "      <td>-0.18050</td>\n",
       "      <td>56431.050</td>\n",
       "      <td>542.700</td>\n",
       "      <td>84464.945</td>\n",
       "      <td>74.625000</td>\n",
       "      <td>1014.05000</td>\n",
       "      <td>0.0</td>\n",
       "      <td>0.75</td>\n",
       "      <td>9.02</td>\n",
       "    </tr>\n",
       "    <tr>\n",
       "      <th>2023-04-30 20:00:00</th>\n",
       "      <td>0.00</td>\n",
       "      <td>0.000</td>\n",
       "      <td>0.0</td>\n",
       "      <td>0.000</td>\n",
       "      <td>0.0</td>\n",
       "      <td>20</td>\n",
       "      <td>318.625760</td>\n",
       "      <td>0.0</td>\n",
       "      <td>176.350</td>\n",
       "      <td>4</td>\n",
       "      <td>...</td>\n",
       "      <td>1.27975</td>\n",
       "      <td>-5.17600</td>\n",
       "      <td>5067.875</td>\n",
       "      <td>546.400</td>\n",
       "      <td>2270.875</td>\n",
       "      <td>76.875000</td>\n",
       "      <td>1014.05000</td>\n",
       "      <td>0.0</td>\n",
       "      <td>1.00</td>\n",
       "      <td>0.00</td>\n",
       "    </tr>\n",
       "    <tr>\n",
       "      <th>2023-04-30 21:00:00</th>\n",
       "      <td>0.00</td>\n",
       "      <td>0.000</td>\n",
       "      <td>0.0</td>\n",
       "      <td>0.000</td>\n",
       "      <td>0.0</td>\n",
       "      <td>21</td>\n",
       "      <td>332.785740</td>\n",
       "      <td>0.0</td>\n",
       "      <td>0.000</td>\n",
       "      <td>4</td>\n",
       "      <td>...</td>\n",
       "      <td>1.28100</td>\n",
       "      <td>-8.95075</td>\n",
       "      <td>0.000</td>\n",
       "      <td>548.350</td>\n",
       "      <td>0.000</td>\n",
       "      <td>77.775000</td>\n",
       "      <td>1013.92505</td>\n",
       "      <td>0.0</td>\n",
       "      <td>1.00</td>\n",
       "      <td>0.00</td>\n",
       "    </tr>\n",
       "    <tr>\n",
       "      <th>2023-04-30 22:00:00</th>\n",
       "      <td>0.00</td>\n",
       "      <td>0.000</td>\n",
       "      <td>0.0</td>\n",
       "      <td>0.000</td>\n",
       "      <td>0.0</td>\n",
       "      <td>22</td>\n",
       "      <td>347.378000</td>\n",
       "      <td>0.0</td>\n",
       "      <td>0.000</td>\n",
       "      <td>4</td>\n",
       "      <td>...</td>\n",
       "      <td>1.28100</td>\n",
       "      <td>-11.23325</td>\n",
       "      <td>0.000</td>\n",
       "      <td>527.775</td>\n",
       "      <td>0.000</td>\n",
       "      <td>79.000000</td>\n",
       "      <td>1013.80000</td>\n",
       "      <td>0.0</td>\n",
       "      <td>1.00</td>\n",
       "      <td>0.00</td>\n",
       "    </tr>\n",
       "    <tr>\n",
       "      <th>2023-04-30 23:00:00</th>\n",
       "      <td>0.00</td>\n",
       "      <td>0.000</td>\n",
       "      <td>0.0</td>\n",
       "      <td>0.000</td>\n",
       "      <td>0.0</td>\n",
       "      <td>23</td>\n",
       "      <td>92.209500</td>\n",
       "      <td>0.0</td>\n",
       "      <td>0.000</td>\n",
       "      <td>4</td>\n",
       "      <td>...</td>\n",
       "      <td>1.28100</td>\n",
       "      <td>-11.84150</td>\n",
       "      <td>0.000</td>\n",
       "      <td>526.525</td>\n",
       "      <td>0.000</td>\n",
       "      <td>79.850000</td>\n",
       "      <td>1013.40000</td>\n",
       "      <td>0.0</td>\n",
       "      <td>1.00</td>\n",
       "      <td>0.00</td>\n",
       "    </tr>\n",
       "  </tbody>\n",
       "</table>\n",
       "<p>33196 rows × 38 columns</p>\n",
       "</div>"
      ],
      "text/plain": [
       "                     direct_rad:W  diffuse_rad:W  precip_type_5min:idx  \\\n",
       "date_forecast                                                            \n",
       "2019-06-02 22:00:00          0.00          0.000                   0.0   \n",
       "2019-06-02 23:00:00          0.00          0.000                   0.0   \n",
       "2019-06-03 00:00:00          0.00          0.000                   0.0   \n",
       "2019-06-03 02:00:00          0.15         11.975                   0.0   \n",
       "2019-06-03 03:00:00          6.30         45.125                   0.0   \n",
       "...                           ...            ...                   ...   \n",
       "2023-04-30 19:00:00          0.10          2.825                   0.0   \n",
       "2023-04-30 20:00:00          0.00          0.000                   0.0   \n",
       "2023-04-30 21:00:00          0.00          0.000                   0.0   \n",
       "2023-04-30 22:00:00          0.00          0.000                   0.0   \n",
       "2023-04-30 23:00:00          0.00          0.000                   0.0   \n",
       "\n",
       "                     clear_sky_rad:W  precip_5min:mm  hours  sun_azimuth:d  \\\n",
       "date_forecast                                                                \n",
       "2019-06-02 22:00:00            0.000             0.0     22     348.036740   \n",
       "2019-06-02 23:00:00            0.000             0.0     23      91.980750   \n",
       "2019-06-03 00:00:00            0.000             0.0      0      14.934750   \n",
       "2019-06-03 02:00:00           23.100             0.0      2      41.997500   \n",
       "2019-06-03 03:00:00           84.375             0.0      3      55.041748   \n",
       "...                              ...             ...    ...            ...   \n",
       "2023-04-30 19:00:00            4.225             0.0     19     304.939240   \n",
       "2023-04-30 20:00:00            0.000             0.0     20     318.625760   \n",
       "2023-04-30 21:00:00            0.000             0.0     21     332.785740   \n",
       "2023-04-30 22:00:00            0.000             0.0     22     347.378000   \n",
       "2023-04-30 23:00:00            0.000             0.0     23      92.209500   \n",
       "\n",
       "                     fresh_snow_24h:cm  direct_rad_1h:J  month  ...  \\\n",
       "date_forecast                                                   ...   \n",
       "2019-06-02 22:00:00                0.0            0.000      6  ...   \n",
       "2019-06-02 23:00:00                0.0            0.000      6  ...   \n",
       "2019-06-03 00:00:00                0.0            0.000      6  ...   \n",
       "2019-06-03 02:00:00                0.0          282.975      6  ...   \n",
       "2019-06-03 03:00:00                0.0        11627.550      6  ...   \n",
       "...                                ...              ...    ...  ...   \n",
       "2023-04-30 19:00:00                0.0        13230.649      4  ...   \n",
       "2023-04-30 20:00:00                0.0          176.350      4  ...   \n",
       "2023-04-30 21:00:00                0.0            0.000      4  ...   \n",
       "2023-04-30 22:00:00                0.0            0.000      4  ...   \n",
       "2023-04-30 23:00:00                0.0            0.000      4  ...   \n",
       "\n",
       "                     air_density_2m:kgm3  sun_elevation:d  diffuse_rad_1h:J  \\\n",
       "date_forecast                                                                 \n",
       "2019-06-02 22:00:00              1.22825         -3.77425             0.000   \n",
       "2019-06-02 23:00:00              1.22350         -4.35725             0.000   \n",
       "2019-06-03 00:00:00              1.21975         -3.30950             0.000   \n",
       "2019-06-03 02:00:00              1.21800          3.05125         22068.950   \n",
       "2019-06-03 03:00:00              1.21650          8.07100        102788.050   \n",
       "...                                  ...              ...               ...   \n",
       "2023-04-30 19:00:00              1.27650         -0.18050         56431.050   \n",
       "2023-04-30 20:00:00              1.27975         -5.17600          5067.875   \n",
       "2023-04-30 21:00:00              1.28100         -8.95075             0.000   \n",
       "2023-04-30 22:00:00              1.28100        -11.23325             0.000   \n",
       "2023-04-30 23:00:00              1.28100        -11.84150             0.000   \n",
       "\n",
       "                     cloud_base_agl:m  clear_sky_energy_1h:J  \\\n",
       "date_forecast                                                  \n",
       "2019-06-02 22:00:00          1728.950                  0.000   \n",
       "2019-06-02 23:00:00          1689.825                  0.000   \n",
       "2019-06-03 00:00:00          1563.225                  0.000   \n",
       "2019-06-03 02:00:00          1003.500              32468.150   \n",
       "2019-06-03 03:00:00           809.375             179499.080   \n",
       "...                               ...                    ...   \n",
       "2023-04-30 19:00:00           542.700              84464.945   \n",
       "2023-04-30 20:00:00           546.400               2270.875   \n",
       "2023-04-30 21:00:00           548.350                  0.000   \n",
       "2023-04-30 22:00:00           527.775                  0.000   \n",
       "2023-04-30 23:00:00           526.525                  0.000   \n",
       "\n",
       "                     relative_humidity_1000hPa:p  sfc_pressure:hPa  \\\n",
       "date_forecast                                                        \n",
       "2019-06-02 22:00:00                    71.674995        1005.80000   \n",
       "2019-06-02 23:00:00                    68.000000        1004.65000   \n",
       "2019-06-03 00:00:00                    67.950000        1003.95000   \n",
       "2019-06-03 02:00:00                    79.925000        1002.50000   \n",
       "2019-06-03 03:00:00                    82.850000        1001.67500   \n",
       "...                                          ...               ...   \n",
       "2023-04-30 19:00:00                    74.625000        1014.05000   \n",
       "2023-04-30 20:00:00                    76.875000        1014.05000   \n",
       "2023-04-30 21:00:00                    77.775000        1013.92505   \n",
       "2023-04-30 22:00:00                    79.000000        1013.80000   \n",
       "2023-04-30 23:00:00                    79.850000        1013.40000   \n",
       "\n",
       "                     fresh_snow_12h:cm  is_in_shadow:idx  pv_measurement  \n",
       "date_forecast                                                             \n",
       "2019-06-02 22:00:00                0.0              1.00            0.00  \n",
       "2019-06-02 23:00:00                0.0              1.00            0.00  \n",
       "2019-06-03 00:00:00                0.0              1.00            0.00  \n",
       "2019-06-03 02:00:00                0.0              0.00           19.36  \n",
       "2019-06-03 03:00:00                0.0              0.00          251.02  \n",
       "...                                ...               ...             ...  \n",
       "2023-04-30 19:00:00                0.0              0.75            9.02  \n",
       "2023-04-30 20:00:00                0.0              1.00            0.00  \n",
       "2023-04-30 21:00:00                0.0              1.00            0.00  \n",
       "2023-04-30 22:00:00                0.0              1.00            0.00  \n",
       "2023-04-30 23:00:00                0.0              1.00            0.00  \n",
       "\n",
       "[33196 rows x 38 columns]"
      ]
     },
     "execution_count": 179,
     "metadata": {},
     "output_type": "execute_result"
    }
   ],
   "source": [
    "from sklearn.neighbors import LocalOutlierFactor\n",
    "df = data\n",
    "# Crea un modello di rilevamento delle anomalie\n",
    "clf = LocalOutlierFactor(n_neighbors=20)\n",
    "\n",
    "# Identifica i dati anomali\n",
    "anomalies = clf.fit_predict(df)\n",
    "df[anomalies == -1]\n",
    "# Stampa i dati anomali\n",
    "df = df[anomalies != -1]\n",
    "data = df\n",
    "data"
   ]
  },
  {
   "cell_type": "code",
   "execution_count": 180,
   "id": "e39e62c4-d842-4e6e-a67f-da452a79e678",
   "metadata": {},
   "outputs": [],
   "source": [
    "param = {'lambda': 0.0014379830852848591, 'alpha': 0.0011776334600574765, 'colsample_bytree': 0.9, 'subsample': 0.8, 'learning_rate': 0.3920948018175181, 'n_estimators': 530, 'max_depth': 13, 'random_state': 594, 'min_child_weight': 113}"
   ]
  },
  {
   "cell_type": "code",
   "execution_count": 181,
   "id": "7a5d7bb0-91cb-4cc5-862d-025e403cf6c9",
   "metadata": {},
   "outputs": [],
   "source": [
    "model_A = xgb.XGBRegressor(**param)"
   ]
  },
  {
   "cell_type": "code",
   "execution_count": 182,
   "id": "88cb0791-4848-49f6-bbc3-03518bc4f94d",
   "metadata": {},
   "outputs": [],
   "source": [
    "X_train = data.drop(columns = 'pv_measurement')\n",
    "y_train = data['pv_measurement']"
   ]
  },
  {
   "cell_type": "code",
   "execution_count": 183,
   "id": "871b3461-0ce0-4353-bf3f-207d6ed0c79f",
   "metadata": {},
   "outputs": [],
   "source": [
    "model_A.fit(X_train,y_train)\n",
    "df_test_A = df_test_A[selected_features]\n",
    "y_pred_A = model_A.predict(df_test_A)"
   ]
  },
  {
   "cell_type": "code",
   "execution_count": 187,
   "id": "9e6ab7b3-fdcb-492b-bac4-890a12480f9d",
   "metadata": {},
   "outputs": [
    {
     "data": {
      "image/png": "[encoded data removed]",
      "text/plain": [
       "<Figure size 640x480 with 1 Axes>"
      ]
     },
     "metadata": {},
     "output_type": "display_data"
    }
   ],
   "source": [
    "plt.plot(range(len(y_pred_A)), y_pred_A, label='Predizione', color='red', linestyle='-')\n",
    "\n",
    "# Aggiungi una legenda\n",
    "plt.legend()\n",
    "\n",
    "# Aggiungi etichette agli assi\n",
    "plt.ylabel('Valori y')\n",
    "\n",
    "# Titolo del grafico\n",
    "plt.title('Grafico di Predizione')\n",
    "\n",
    "# Mostra il grafico\n",
    "plt.show()"
   ]
  },
  {
   "cell_type": "code",
   "execution_count": 198,
   "id": "006f3c40-6b7b-41a6-bf5d-decb0321db8b",
   "metadata": {},
   "outputs": [],
   "source": [
    "df = pd.DataFrame({'Prediction':y_pred_A})"
   ]
  },
  {
   "cell_type": "code",
   "execution_count": 200,
   "id": "c340aac0-1709-4090-a725-e58f968cff11",
   "metadata": {},
   "outputs": [],
   "source": [
    "threshold = 0.05\n",
    "df['Prediction'] = df['Prediction'].apply(lambda x: 0 if x < threshold else x)"
   ]
  },
  {
   "cell_type": "code",
   "execution_count": 201,
   "id": "33dac465-12c8-4234-9328-0639f338f50e",
   "metadata": {},
   "outputs": [
    {
     "data": {
      "text/html": [
       "<div>\n",
       "<style scoped>\n",
       "    .dataframe tbody tr th:only-of-type {\n",
       "        vertical-align: middle;\n",
       "    }\n",
       "\n",
       "    .dataframe tbody tr th {\n",
       "        vertical-align: top;\n",
       "    }\n",
       "\n",
       "    .dataframe thead th {\n",
       "        text-align: right;\n",
       "    }\n",
       "</style>\n",
       "<table border=\"1\" class=\"dataframe\">\n",
       "  <thead>\n",
       "    <tr style=\"text-align: right;\">\n",
       "      <th></th>\n",
       "      <th>Prediction</th>\n",
       "    </tr>\n",
       "  </thead>\n",
       "  <tbody>\n",
       "    <tr>\n",
       "      <th>0</th>\n",
       "      <td>5.308310</td>\n",
       "    </tr>\n",
       "    <tr>\n",
       "      <th>1</th>\n",
       "      <td>5.579570</td>\n",
       "    </tr>\n",
       "    <tr>\n",
       "      <th>2</th>\n",
       "      <td>6.945213</td>\n",
       "    </tr>\n",
       "    <tr>\n",
       "      <th>3</th>\n",
       "      <td>119.827332</td>\n",
       "    </tr>\n",
       "    <tr>\n",
       "      <th>4</th>\n",
       "      <td>68.475784</td>\n",
       "    </tr>\n",
       "    <tr>\n",
       "      <th>...</th>\n",
       "      <td>...</td>\n",
       "    </tr>\n",
       "    <tr>\n",
       "      <th>715</th>\n",
       "      <td>358.559723</td>\n",
       "    </tr>\n",
       "    <tr>\n",
       "      <th>716</th>\n",
       "      <td>157.780548</td>\n",
       "    </tr>\n",
       "    <tr>\n",
       "      <th>717</th>\n",
       "      <td>105.086205</td>\n",
       "    </tr>\n",
       "    <tr>\n",
       "      <th>718</th>\n",
       "      <td>0.000000</td>\n",
       "    </tr>\n",
       "    <tr>\n",
       "      <th>719</th>\n",
       "      <td>0.000000</td>\n",
       "    </tr>\n",
       "  </tbody>\n",
       "</table>\n",
       "<p>720 rows × 1 columns</p>\n",
       "</div>"
      ],
      "text/plain": [
       "     Prediction\n",
       "0      5.308310\n",
       "1      5.579570\n",
       "2      6.945213\n",
       "3    119.827332\n",
       "4     68.475784\n",
       "..          ...\n",
       "715  358.559723\n",
       "716  157.780548\n",
       "717  105.086205\n",
       "718    0.000000\n",
       "719    0.000000\n",
       "\n",
       "[720 rows x 1 columns]"
      ]
     },
     "execution_count": 201,
     "metadata": {},
     "output_type": "execute_result"
    }
   ],
   "source": [
    "df"
   ]
  },
  {
   "cell_type": "code",
   "execution_count": null,
   "id": "9ebad8e5-6ecb-4225-a64b-637db86272cf",
   "metadata": {},
   "outputs": [],
   "source": []
  }
 ],
 "metadata": {
  "environment": {
   "kernel": "python3",
   "name": "common-cpu.m112",
   "type": "gcloud",
   "uri": "gcr.io/deeplearning-platform-release/base-cpu:m112"
  },
  "kernelspec": {
   "display_name": "Python 3",
   "language": "python",
   "name": "python3"
  },
  "language_info": {
   "codemirror_mode": {
    "name": "ipython",
    "version": 3
   },
   "file_extension": ".py",
   "mimetype": "text/x-python",
   "name": "python",
   "nbconvert_exporter": "python",
   "pygments_lexer": "ipython3",
   "version": "3.10.12"
  }
 },
 "nbformat": 4,
 "nbformat_minor": 5
}
