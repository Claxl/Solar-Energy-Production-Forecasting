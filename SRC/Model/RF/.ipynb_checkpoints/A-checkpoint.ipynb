{
 "cells": [
  {
   "cell_type": "code",
   "execution_count": 1,
   "id": "436c40c3",
   "metadata": {},
   "outputs": [],
   "source": [
    "import pandas as pd\n",
    "import numpy as np\n",
    "import matplotlib.pyplot as plt\n"
   ]
  },
  {
   "cell_type": "code",
   "execution_count": 2,
   "id": "72316c01",
   "metadata": {},
   "outputs": [],
   "source": [
    "train = pd.read_csv('trainMA.csv')\n",
    "test = pd.read_csv('testMA.csv')"
   ]
  },
  {
   "cell_type": "code",
   "execution_count": 3,
   "id": "eb517529",
   "metadata": {},
   "outputs": [],
   "source": [
    "train = train.rename(columns={'Unnamed: 0': 'date_forecast'})"
   ]
  },
  {
   "cell_type": "code",
   "execution_count": 4,
   "id": "d2728e72",
   "metadata": {},
   "outputs": [],
   "source": [
    "train.set_index('date_forecast', inplace=True)\n",
    "test.set_index('date_forecast', inplace=True)\n",
    "train.index = pd.to_datetime(train.index)\n"
   ]
  },
  {
   "cell_type": "code",
   "execution_count": 5,
   "id": "89414a98",
   "metadata": {},
   "outputs": [
    {
     "name": "stderr",
     "output_type": "stream",
     "text": [
      "C:\\Users\\claxl\\AppData\\Local\\Temp\\ipykernel_61052\\2428353307.py:5: SettingWithCopyWarning: \n",
      "A value is trying to be set on a copy of a slice from a DataFrame\n",
      "\n",
      "See the caveats in the documentation: https://pandas.pydata.org/pandas-docs/stable/user_guide/indexing.html#returning-a-view-versus-a-copy\n",
      "  train['is_est'].iloc[-4418:] = 1\n"
     ]
    }
   ],
   "source": [
    "import re\n",
    "train = train.rename(columns = lambda x:re.sub('[^A-Za-z0-9_]+', '', x))\n",
    "test = test.rename(columns = lambda x:re.sub('[^A-Za-z0-9_]+', '', x))\n",
    "train['is_est'] = 0\n",
    "train['is_est'].iloc[-4418:] = 1\n"
   ]
  },
  {
   "cell_type": "code",
   "execution_count": 6,
   "id": "28a64255",
   "metadata": {},
   "outputs": [],
   "source": [
    "nan_col = ['snow_densitykgm3','ceiling_height_aglm','cloud_base_aglm']\n",
    "for col in nan_col:\n",
    "    \n",
    "    test[col] = test[col].fillna(0)\n",
    "    train[col] = train[col].fillna(train[col].median())\n",
    "\n",
    "train=train.dropna()\n",
    "test=test.dropna()"
   ]
  },
  {
   "cell_type": "code",
   "execution_count": 17,
   "id": "0f344591",
   "metadata": {},
   "outputs": [
    {
     "data": {
      "text/plain": [
       "absolute_humidity_2mgm3        0.0\n",
       "air_density_2mkgm3             0.0\n",
       "ceiling_height_aglm            0.0\n",
       "clear_sky_energy_1hJ           0.0\n",
       "clear_sky_radW                 0.0\n",
       "                              ... \n",
       "wind_speed_w_1000hPams_sqrt    0.0\n",
       "minute_sqrt                    0.0\n",
       "hour_sqrt                      0.0\n",
       "month_sqrt                     0.0\n",
       "is_est_sqrt                    0.0\n",
       "Length: 99, dtype: float64"
      ]
     },
     "execution_count": 17,
     "metadata": {},
     "output_type": "execute_result"
    }
   ],
   "source": [
    "train.isna().mean()"
   ]
  },
  {
   "cell_type": "code",
   "execution_count": 8,
   "id": "75144e64",
   "metadata": {},
   "outputs": [
    {
     "data": {
      "text/plain": [
       "Index(['absolute_humidity_2mgm3', 'air_density_2mkgm3', 'ceiling_height_aglm',\n",
       "       'clear_sky_energy_1hJ', 'clear_sky_radW', 'cloud_base_aglm',\n",
       "       'dew_or_rimeidx', 'dew_point_2mK', 'diffuse_radW', 'diffuse_rad_1hJ',\n",
       "       'direct_radW', 'direct_rad_1hJ', 'effective_cloud_coverp', 'elevationm',\n",
       "       'fresh_snow_12hcm', 'fresh_snow_1hcm', 'fresh_snow_24hcm',\n",
       "       'fresh_snow_3hcm', 'fresh_snow_6hcm', 'is_dayidx', 'is_in_shadowidx',\n",
       "       'msl_pressurehPa', 'precip_5minmm', 'precip_type_5minidx',\n",
       "       'pressure_100mhPa', 'pressure_50mhPa', 'prob_rimep', 'rain_waterkgm2',\n",
       "       'relative_humidity_1000hPap', 'sfc_pressurehPa', 'snow_densitykgm3',\n",
       "       'snow_depthcm', 'snow_driftidx', 'snow_melt_10minmm', 'snow_waterkgm2',\n",
       "       'sun_azimuthd', 'sun_elevationd', 'super_cooled_liquid_waterkgm2',\n",
       "       't_1000hPaK', 'total_cloud_coverp', 'visibilitym', 'wind_speed_10mms',\n",
       "       'wind_speed_u_10mms', 'wind_speed_v_10mms', 'wind_speed_w_1000hPams',\n",
       "       'minute', 'hour', 'month', 'pv_measurement', 'is_est'],\n",
       "      dtype='object')"
      ]
     },
     "execution_count": 8,
     "metadata": {},
     "output_type": "execute_result"
    }
   ],
   "source": [
    "train.columns"
   ]
  },
  {
   "cell_type": "code",
   "execution_count": 9,
   "id": "8dbadc96",
   "metadata": {},
   "outputs": [
    {
     "data": {
      "text/plain": [
       "((34061, 50), (720, 48))"
      ]
     },
     "execution_count": 9,
     "metadata": {},
     "output_type": "execute_result"
    }
   ],
   "source": [
    "train.shape, test.shape"
   ]
  },
  {
   "cell_type": "code",
   "execution_count": 10,
   "id": "11ff0efb",
   "metadata": {},
   "outputs": [],
   "source": [
    "train['pv_measurement'] = train['pv_measurement'].mask(train['is_in_shadowidx'] == 1, 0)\n"
   ]
  },
  {
   "cell_type": "code",
   "execution_count": 11,
   "id": "403e77f3",
   "metadata": {},
   "outputs": [
    {
     "data": {
      "text/plain": [
       "<Axes: xlabel='date_forecast'>"
      ]
     },
     "execution_count": 11,
     "metadata": {},
     "output_type": "execute_result"
    },
    {
     "data": {
      "image/png": "[encoded data removed]",
      "text/plain": [
       "<Figure size 640x480 with 1 Axes>"
      ]
     },
     "metadata": {},
     "output_type": "display_data"
    }
   ],
   "source": [
    "train['pv_measurement'].plot()"
   ]
  },
  {
   "cell_type": "code",
   "execution_count": 12,
   "id": "ac249039",
   "metadata": {},
   "outputs": [],
   "source": [
    "def transform(df):\n",
    "    for col in df.columns:\n",
    "        if col == 'pv_measurement':\n",
    "            df['pv_measurement'] = np.sqrt(df['pv_measurement'])\n",
    "            continue\n",
    "        new_col_name = col + \"_sqrt\"\n",
    "        df[new_col_name] = np.sqrt(df[col])\n",
    "\n",
    "    return df"
   ]
  },
  {
   "cell_type": "code",
   "execution_count": 13,
   "id": "e855c2f6",
   "metadata": {},
   "outputs": [
    {
     "name": "stderr",
     "output_type": "stream",
     "text": [
      "C:\\Users\\claxl\\anaconda3\\Lib\\site-packages\\pandas\\core\\arraylike.py:402: RuntimeWarning: invalid value encountered in sqrt\n",
      "  result = getattr(ufunc, method)(*inputs, **kwargs)\n",
      "C:\\Users\\claxl\\anaconda3\\Lib\\site-packages\\pandas\\core\\arraylike.py:402: RuntimeWarning: invalid value encountered in sqrt\n",
      "  result = getattr(ufunc, method)(*inputs, **kwargs)\n",
      "C:\\Users\\claxl\\anaconda3\\Lib\\site-packages\\pandas\\core\\arraylike.py:402: RuntimeWarning: invalid value encountered in sqrt\n",
      "  result = getattr(ufunc, method)(*inputs, **kwargs)\n",
      "C:\\Users\\claxl\\anaconda3\\Lib\\site-packages\\pandas\\core\\arraylike.py:402: RuntimeWarning: invalid value encountered in sqrt\n",
      "  result = getattr(ufunc, method)(*inputs, **kwargs)\n",
      "C:\\Users\\claxl\\anaconda3\\Lib\\site-packages\\pandas\\core\\arraylike.py:402: RuntimeWarning: invalid value encountered in sqrt\n",
      "  result = getattr(ufunc, method)(*inputs, **kwargs)\n",
      "C:\\Users\\claxl\\anaconda3\\Lib\\site-packages\\pandas\\core\\arraylike.py:402: RuntimeWarning: invalid value encountered in sqrt\n",
      "  result = getattr(ufunc, method)(*inputs, **kwargs)\n",
      "C:\\Users\\claxl\\anaconda3\\Lib\\site-packages\\pandas\\core\\arraylike.py:402: RuntimeWarning: invalid value encountered in sqrt\n",
      "  result = getattr(ufunc, method)(*inputs, **kwargs)\n"
     ]
    }
   ],
   "source": [
    "train = transform(train)\n",
    "test = transform(test)"
   ]
  },
  {
   "cell_type": "code",
   "execution_count": 14,
   "id": "306383fb",
   "metadata": {},
   "outputs": [
    {
     "data": {
      "text/plain": [
       "((34061, 99), (720, 96))"
      ]
     },
     "execution_count": 14,
     "metadata": {},
     "output_type": "execute_result"
    }
   ],
   "source": [
    "train.shape,test.shape"
   ]
  },
  {
   "cell_type": "code",
   "execution_count": 15,
   "id": "a13eba11",
   "metadata": {},
   "outputs": [],
   "source": [
    "train.index = pd.to_datetime(train.index)\n",
    "test.index = pd.to_datetime(test.index)"
   ]
  },
  {
   "cell_type": "code",
   "execution_count": 21,
   "id": "f175495f",
   "metadata": {},
   "outputs": [],
   "source": [
    "train['hours'] = train.index.hour\n",
    "train['day'] = train.index.day\n",
    "train['month'] = train.index.month\n",
    "train['year'] = train.index.year\n",
    "train['dayofyear'] = train.index.dayofyear"
   ]
  },
  {
   "cell_type": "code",
   "execution_count": 22,
   "id": "000b8c9c",
   "metadata": {},
   "outputs": [],
   "source": [
    "test['hours'] = test.index.hour\n",
    "test['day'] = test.index.day\n",
    "test['month'] = test.index.month\n",
    "test['year'] = test.index.year\n",
    "test['dayofyear'] = test.index.dayofyear"
   ]
  },
  {
   "cell_type": "code",
   "execution_count": 23,
   "id": "f461834b",
   "metadata": {},
   "outputs": [],
   "source": [
    "# Supponiamo che \"gruppi\" sia il risultato della suddivisione\n",
    "gruppi = train.groupby('is_est')\n",
    "\n",
    "# Itera attraverso i gruppi e crea un DataFrame separato per ciascun gruppo\n",
    "dataframes_per_gruppo = {}\n",
    "for valore, gruppo in gruppi:\n",
    "    dataframes_per_gruppo[valore] = gruppo.copy()\n",
    "train_set = dataframes_per_gruppo[0]\n",
    "val_set = dataframes_per_gruppo[1]"
   ]
  },
  {
   "cell_type": "code",
   "execution_count": 26,
   "id": "0c3a4709",
   "metadata": {},
   "outputs": [],
   "source": [
    "train = train.fillna(0)\n",
    "test = test.fillna(0)"
   ]
  },
  {
   "cell_type": "code",
   "execution_count": 29,
   "id": "680757aa",
   "metadata": {},
   "outputs": [
    {
     "data": {
      "text/html": [
       "<div>\n",
       "<style scoped>\n",
       "    .dataframe tbody tr th:only-of-type {\n",
       "        vertical-align: middle;\n",
       "    }\n",
       "\n",
       "    .dataframe tbody tr th {\n",
       "        vertical-align: top;\n",
       "    }\n",
       "\n",
       "    .dataframe thead th {\n",
       "        text-align: right;\n",
       "    }\n",
       "</style>\n",
       "<table border=\"1\" class=\"dataframe\">\n",
       "  <thead>\n",
       "    <tr style=\"text-align: right;\">\n",
       "      <th></th>\n",
       "      <th>absolute_humidity_2mgm3</th>\n",
       "      <th>air_density_2mkgm3</th>\n",
       "      <th>ceiling_height_aglm</th>\n",
       "      <th>clear_sky_energy_1hJ</th>\n",
       "      <th>clear_sky_radW</th>\n",
       "      <th>cloud_base_aglm</th>\n",
       "      <th>dew_or_rimeidx</th>\n",
       "      <th>dew_point_2mK</th>\n",
       "      <th>diffuse_radW</th>\n",
       "      <th>diffuse_rad_1hJ</th>\n",
       "      <th>...</th>\n",
       "      <th>wind_speed_u_10mms_sqrt</th>\n",
       "      <th>wind_speed_v_10mms_sqrt</th>\n",
       "      <th>wind_speed_w_1000hPams_sqrt</th>\n",
       "      <th>minute_sqrt</th>\n",
       "      <th>hour_sqrt</th>\n",
       "      <th>month_sqrt</th>\n",
       "      <th>hours</th>\n",
       "      <th>day</th>\n",
       "      <th>year</th>\n",
       "      <th>dayofyear</th>\n",
       "    </tr>\n",
       "    <tr>\n",
       "      <th>date_forecast</th>\n",
       "      <th></th>\n",
       "      <th></th>\n",
       "      <th></th>\n",
       "      <th></th>\n",
       "      <th></th>\n",
       "      <th></th>\n",
       "      <th></th>\n",
       "      <th></th>\n",
       "      <th></th>\n",
       "      <th></th>\n",
       "      <th></th>\n",
       "      <th></th>\n",
       "      <th></th>\n",
       "      <th></th>\n",
       "      <th></th>\n",
       "      <th></th>\n",
       "      <th></th>\n",
       "      <th></th>\n",
       "      <th></th>\n",
       "      <th></th>\n",
       "      <th></th>\n",
       "    </tr>\n",
       "  </thead>\n",
       "  <tbody>\n",
       "    <tr>\n",
       "      <th>2019-06-02 22:00:00</th>\n",
       "      <td>7.70</td>\n",
       "      <td>1.2285</td>\n",
       "      <td>1728.750000</td>\n",
       "      <td>0.000000</td>\n",
       "      <td>0.00</td>\n",
       "      <td>1728.750000</td>\n",
       "      <td>0.0</td>\n",
       "      <td>280.299988</td>\n",
       "      <td>0.0</td>\n",
       "      <td>0.000000</td>\n",
       "      <td>...</td>\n",
       "      <td>0.000000</td>\n",
       "      <td>0.000000</td>\n",
       "      <td>-0.0</td>\n",
       "      <td>4.743416</td>\n",
       "      <td>4.690416</td>\n",
       "      <td>2.44949</td>\n",
       "      <td>22</td>\n",
       "      <td>2</td>\n",
       "      <td>2019</td>\n",
       "      <td>153</td>\n",
       "    </tr>\n",
       "    <tr>\n",
       "      <th>2019-06-02 23:00:00</th>\n",
       "      <td>7.70</td>\n",
       "      <td>1.2235</td>\n",
       "      <td>1689.649963</td>\n",
       "      <td>0.000000</td>\n",
       "      <td>0.00</td>\n",
       "      <td>1689.649963</td>\n",
       "      <td>0.0</td>\n",
       "      <td>280.299988</td>\n",
       "      <td>0.0</td>\n",
       "      <td>0.000000</td>\n",
       "      <td>...</td>\n",
       "      <td>0.000000</td>\n",
       "      <td>0.547723</td>\n",
       "      <td>-0.0</td>\n",
       "      <td>4.743416</td>\n",
       "      <td>4.795832</td>\n",
       "      <td>2.44949</td>\n",
       "      <td>23</td>\n",
       "      <td>2</td>\n",
       "      <td>2019</td>\n",
       "      <td>153</td>\n",
       "    </tr>\n",
       "    <tr>\n",
       "      <th>2019-06-03 00:00:00</th>\n",
       "      <td>7.85</td>\n",
       "      <td>1.2195</td>\n",
       "      <td>1563.250000</td>\n",
       "      <td>0.000000</td>\n",
       "      <td>0.00</td>\n",
       "      <td>1563.250000</td>\n",
       "      <td>0.0</td>\n",
       "      <td>280.649994</td>\n",
       "      <td>0.0</td>\n",
       "      <td>0.000000</td>\n",
       "      <td>...</td>\n",
       "      <td>0.000000</td>\n",
       "      <td>0.866025</td>\n",
       "      <td>-0.0</td>\n",
       "      <td>4.743416</td>\n",
       "      <td>0.000000</td>\n",
       "      <td>2.44949</td>\n",
       "      <td>0</td>\n",
       "      <td>3</td>\n",
       "      <td>2019</td>\n",
       "      <td>154</td>\n",
       "    </tr>\n",
       "    <tr>\n",
       "      <th>2019-06-03 01:00:00</th>\n",
       "      <td>8.45</td>\n",
       "      <td>1.2180</td>\n",
       "      <td>1283.400024</td>\n",
       "      <td>0.000000</td>\n",
       "      <td>0.00</td>\n",
       "      <td>1283.400024</td>\n",
       "      <td>0.0</td>\n",
       "      <td>281.699997</td>\n",
       "      <td>0.0</td>\n",
       "      <td>0.000000</td>\n",
       "      <td>...</td>\n",
       "      <td>0.000000</td>\n",
       "      <td>0.948683</td>\n",
       "      <td>-0.0</td>\n",
       "      <td>4.743416</td>\n",
       "      <td>1.000000</td>\n",
       "      <td>2.44949</td>\n",
       "      <td>1</td>\n",
       "      <td>3</td>\n",
       "      <td>2019</td>\n",
       "      <td>154</td>\n",
       "    </tr>\n",
       "    <tr>\n",
       "      <th>2019-06-03 02:00:00</th>\n",
       "      <td>8.95</td>\n",
       "      <td>1.2180</td>\n",
       "      <td>1003.500000</td>\n",
       "      <td>28421.850586</td>\n",
       "      <td>21.95</td>\n",
       "      <td>1003.500000</td>\n",
       "      <td>0.0</td>\n",
       "      <td>282.500000</td>\n",
       "      <td>11.4</td>\n",
       "      <td>20473.800293</td>\n",
       "      <td>...</td>\n",
       "      <td>0.000000</td>\n",
       "      <td>0.948683</td>\n",
       "      <td>-0.0</td>\n",
       "      <td>4.743416</td>\n",
       "      <td>1.414214</td>\n",
       "      <td>2.44949</td>\n",
       "      <td>2</td>\n",
       "      <td>3</td>\n",
       "      <td>2019</td>\n",
       "      <td>154</td>\n",
       "    </tr>\n",
       "    <tr>\n",
       "      <th>...</th>\n",
       "      <td>...</td>\n",
       "      <td>...</td>\n",
       "      <td>...</td>\n",
       "      <td>...</td>\n",
       "      <td>...</td>\n",
       "      <td>...</td>\n",
       "      <td>...</td>\n",
       "      <td>...</td>\n",
       "      <td>...</td>\n",
       "      <td>...</td>\n",
       "      <td>...</td>\n",
       "      <td>...</td>\n",
       "      <td>...</td>\n",
       "      <td>...</td>\n",
       "      <td>...</td>\n",
       "      <td>...</td>\n",
       "      <td>...</td>\n",
       "      <td>...</td>\n",
       "      <td>...</td>\n",
       "      <td>...</td>\n",
       "      <td>...</td>\n",
       "    </tr>\n",
       "    <tr>\n",
       "      <th>2023-04-30 19:00:00</th>\n",
       "      <td>4.55</td>\n",
       "      <td>1.2765</td>\n",
       "      <td>1674.200012</td>\n",
       "      <td>77243.597656</td>\n",
       "      <td>1.70</td>\n",
       "      <td>542.699982</td>\n",
       "      <td>0.0</td>\n",
       "      <td>272.449997</td>\n",
       "      <td>1.2</td>\n",
       "      <td>51847.349609</td>\n",
       "      <td>...</td>\n",
       "      <td>2.190890</td>\n",
       "      <td>1.396424</td>\n",
       "      <td>-0.0</td>\n",
       "      <td>4.743416</td>\n",
       "      <td>4.358899</td>\n",
       "      <td>2.00000</td>\n",
       "      <td>19</td>\n",
       "      <td>30</td>\n",
       "      <td>2023</td>\n",
       "      <td>120</td>\n",
       "    </tr>\n",
       "    <tr>\n",
       "      <th>2023-04-30 20:00:00</th>\n",
       "      <td>4.50</td>\n",
       "      <td>1.2800</td>\n",
       "      <td>1762.400024</td>\n",
       "      <td>474.799988</td>\n",
       "      <td>0.00</td>\n",
       "      <td>546.399994</td>\n",
       "      <td>0.0</td>\n",
       "      <td>272.299988</td>\n",
       "      <td>0.0</td>\n",
       "      <td>2152.050049</td>\n",
       "      <td>...</td>\n",
       "      <td>2.012461</td>\n",
       "      <td>1.516575</td>\n",
       "      <td>-0.0</td>\n",
       "      <td>4.743416</td>\n",
       "      <td>4.472136</td>\n",
       "      <td>2.00000</td>\n",
       "      <td>20</td>\n",
       "      <td>30</td>\n",
       "      <td>2023</td>\n",
       "      <td>120</td>\n",
       "    </tr>\n",
       "    <tr>\n",
       "      <th>2023-04-30 21:00:00</th>\n",
       "      <td>4.50</td>\n",
       "      <td>1.2810</td>\n",
       "      <td>1696.650024</td>\n",
       "      <td>0.000000</td>\n",
       "      <td>0.00</td>\n",
       "      <td>548.350006</td>\n",
       "      <td>0.0</td>\n",
       "      <td>272.299988</td>\n",
       "      <td>0.0</td>\n",
       "      <td>0.000000</td>\n",
       "      <td>...</td>\n",
       "      <td>1.884144</td>\n",
       "      <td>1.612452</td>\n",
       "      <td>-0.0</td>\n",
       "      <td>4.743416</td>\n",
       "      <td>4.582576</td>\n",
       "      <td>2.00000</td>\n",
       "      <td>21</td>\n",
       "      <td>30</td>\n",
       "      <td>2023</td>\n",
       "      <td>120</td>\n",
       "    </tr>\n",
       "    <tr>\n",
       "      <th>2023-04-30 22:00:00</th>\n",
       "      <td>4.50</td>\n",
       "      <td>1.2810</td>\n",
       "      <td>1353.399963</td>\n",
       "      <td>0.000000</td>\n",
       "      <td>0.00</td>\n",
       "      <td>527.800018</td>\n",
       "      <td>0.0</td>\n",
       "      <td>272.299988</td>\n",
       "      <td>0.0</td>\n",
       "      <td>0.000000</td>\n",
       "      <td>...</td>\n",
       "      <td>1.788854</td>\n",
       "      <td>1.596872</td>\n",
       "      <td>-0.0</td>\n",
       "      <td>4.743416</td>\n",
       "      <td>4.690416</td>\n",
       "      <td>2.00000</td>\n",
       "      <td>22</td>\n",
       "      <td>30</td>\n",
       "      <td>2023</td>\n",
       "      <td>120</td>\n",
       "    </tr>\n",
       "    <tr>\n",
       "      <th>2023-04-30 23:00:00</th>\n",
       "      <td>4.50</td>\n",
       "      <td>1.2810</td>\n",
       "      <td>1626.600037</td>\n",
       "      <td>0.000000</td>\n",
       "      <td>0.00</td>\n",
       "      <td>526.500000</td>\n",
       "      <td>0.0</td>\n",
       "      <td>272.299988</td>\n",
       "      <td>0.0</td>\n",
       "      <td>0.000000</td>\n",
       "      <td>...</td>\n",
       "      <td>1.643168</td>\n",
       "      <td>1.596872</td>\n",
       "      <td>-0.0</td>\n",
       "      <td>4.743416</td>\n",
       "      <td>4.795832</td>\n",
       "      <td>2.00000</td>\n",
       "      <td>23</td>\n",
       "      <td>30</td>\n",
       "      <td>2023</td>\n",
       "      <td>120</td>\n",
       "    </tr>\n",
       "  </tbody>\n",
       "</table>\n",
       "<p>34061 rows × 101 columns</p>\n",
       "</div>"
      ],
      "text/plain": [
       "                     absolute_humidity_2mgm3  air_density_2mkgm3  \\\n",
       "date_forecast                                                      \n",
       "2019-06-02 22:00:00                     7.70              1.2285   \n",
       "2019-06-02 23:00:00                     7.70              1.2235   \n",
       "2019-06-03 00:00:00                     7.85              1.2195   \n",
       "2019-06-03 01:00:00                     8.45              1.2180   \n",
       "2019-06-03 02:00:00                     8.95              1.2180   \n",
       "...                                      ...                 ...   \n",
       "2023-04-30 19:00:00                     4.55              1.2765   \n",
       "2023-04-30 20:00:00                     4.50              1.2800   \n",
       "2023-04-30 21:00:00                     4.50              1.2810   \n",
       "2023-04-30 22:00:00                     4.50              1.2810   \n",
       "2023-04-30 23:00:00                     4.50              1.2810   \n",
       "\n",
       "                     ceiling_height_aglm  clear_sky_energy_1hJ  \\\n",
       "date_forecast                                                    \n",
       "2019-06-02 22:00:00          1728.750000              0.000000   \n",
       "2019-06-02 23:00:00          1689.649963              0.000000   \n",
       "2019-06-03 00:00:00          1563.250000              0.000000   \n",
       "2019-06-03 01:00:00          1283.400024              0.000000   \n",
       "2019-06-03 02:00:00          1003.500000          28421.850586   \n",
       "...                                  ...                   ...   \n",
       "2023-04-30 19:00:00          1674.200012          77243.597656   \n",
       "2023-04-30 20:00:00          1762.400024            474.799988   \n",
       "2023-04-30 21:00:00          1696.650024              0.000000   \n",
       "2023-04-30 22:00:00          1353.399963              0.000000   \n",
       "2023-04-30 23:00:00          1626.600037              0.000000   \n",
       "\n",
       "                     clear_sky_radW  cloud_base_aglm  dew_or_rimeidx  \\\n",
       "date_forecast                                                          \n",
       "2019-06-02 22:00:00            0.00      1728.750000             0.0   \n",
       "2019-06-02 23:00:00            0.00      1689.649963             0.0   \n",
       "2019-06-03 00:00:00            0.00      1563.250000             0.0   \n",
       "2019-06-03 01:00:00            0.00      1283.400024             0.0   \n",
       "2019-06-03 02:00:00           21.95      1003.500000             0.0   \n",
       "...                             ...              ...             ...   \n",
       "2023-04-30 19:00:00            1.70       542.699982             0.0   \n",
       "2023-04-30 20:00:00            0.00       546.399994             0.0   \n",
       "2023-04-30 21:00:00            0.00       548.350006             0.0   \n",
       "2023-04-30 22:00:00            0.00       527.800018             0.0   \n",
       "2023-04-30 23:00:00            0.00       526.500000             0.0   \n",
       "\n",
       "                     dew_point_2mK  diffuse_radW  diffuse_rad_1hJ  ...  \\\n",
       "date_forecast                                                      ...   \n",
       "2019-06-02 22:00:00     280.299988           0.0         0.000000  ...   \n",
       "2019-06-02 23:00:00     280.299988           0.0         0.000000  ...   \n",
       "2019-06-03 00:00:00     280.649994           0.0         0.000000  ...   \n",
       "2019-06-03 01:00:00     281.699997           0.0         0.000000  ...   \n",
       "2019-06-03 02:00:00     282.500000          11.4     20473.800293  ...   \n",
       "...                            ...           ...              ...  ...   \n",
       "2023-04-30 19:00:00     272.449997           1.2     51847.349609  ...   \n",
       "2023-04-30 20:00:00     272.299988           0.0      2152.050049  ...   \n",
       "2023-04-30 21:00:00     272.299988           0.0         0.000000  ...   \n",
       "2023-04-30 22:00:00     272.299988           0.0         0.000000  ...   \n",
       "2023-04-30 23:00:00     272.299988           0.0         0.000000  ...   \n",
       "\n",
       "                     wind_speed_u_10mms_sqrt  wind_speed_v_10mms_sqrt  \\\n",
       "date_forecast                                                           \n",
       "2019-06-02 22:00:00                 0.000000                 0.000000   \n",
       "2019-06-02 23:00:00                 0.000000                 0.547723   \n",
       "2019-06-03 00:00:00                 0.000000                 0.866025   \n",
       "2019-06-03 01:00:00                 0.000000                 0.948683   \n",
       "2019-06-03 02:00:00                 0.000000                 0.948683   \n",
       "...                                      ...                      ...   \n",
       "2023-04-30 19:00:00                 2.190890                 1.396424   \n",
       "2023-04-30 20:00:00                 2.012461                 1.516575   \n",
       "2023-04-30 21:00:00                 1.884144                 1.612452   \n",
       "2023-04-30 22:00:00                 1.788854                 1.596872   \n",
       "2023-04-30 23:00:00                 1.643168                 1.596872   \n",
       "\n",
       "                     wind_speed_w_1000hPams_sqrt  minute_sqrt  hour_sqrt  \\\n",
       "date_forecast                                                              \n",
       "2019-06-02 22:00:00                         -0.0     4.743416   4.690416   \n",
       "2019-06-02 23:00:00                         -0.0     4.743416   4.795832   \n",
       "2019-06-03 00:00:00                         -0.0     4.743416   0.000000   \n",
       "2019-06-03 01:00:00                         -0.0     4.743416   1.000000   \n",
       "2019-06-03 02:00:00                         -0.0     4.743416   1.414214   \n",
       "...                                          ...          ...        ...   \n",
       "2023-04-30 19:00:00                         -0.0     4.743416   4.358899   \n",
       "2023-04-30 20:00:00                         -0.0     4.743416   4.472136   \n",
       "2023-04-30 21:00:00                         -0.0     4.743416   4.582576   \n",
       "2023-04-30 22:00:00                         -0.0     4.743416   4.690416   \n",
       "2023-04-30 23:00:00                         -0.0     4.743416   4.795832   \n",
       "\n",
       "                     month_sqrt  hours  day  year  dayofyear  \n",
       "date_forecast                                                 \n",
       "2019-06-02 22:00:00     2.44949     22    2  2019        153  \n",
       "2019-06-02 23:00:00     2.44949     23    2  2019        153  \n",
       "2019-06-03 00:00:00     2.44949      0    3  2019        154  \n",
       "2019-06-03 01:00:00     2.44949      1    3  2019        154  \n",
       "2019-06-03 02:00:00     2.44949      2    3  2019        154  \n",
       "...                         ...    ...  ...   ...        ...  \n",
       "2023-04-30 19:00:00     2.00000     19   30  2023        120  \n",
       "2023-04-30 20:00:00     2.00000     20   30  2023        120  \n",
       "2023-04-30 21:00:00     2.00000     21   30  2023        120  \n",
       "2023-04-30 22:00:00     2.00000     22   30  2023        120  \n",
       "2023-04-30 23:00:00     2.00000     23   30  2023        120  \n",
       "\n",
       "[34061 rows x 101 columns]"
      ]
     },
     "execution_count": 29,
     "metadata": {},
     "output_type": "execute_result"
    }
   ],
   "source": [
    "train"
   ]
  },
  {
   "cell_type": "code",
   "execution_count": 40,
   "id": "85810a32",
   "metadata": {},
   "outputs": [],
   "source": [
    "# Number of trees in random forest\n",
    "n_estimators = [int(x) for x in np.linspace(start = 10, stop = 300, num = 10)]\n",
    "# Number of features to consider at every split\n",
    "max_features = ['log2', 'sqrt', None]\n",
    "# Maximum number of levels in tree\n",
    "max_depth = [2,4]\n",
    "# Minimum number of samples required to split a node\n",
    "min_samples_split = [2, 5]\n",
    "# Minimum number of samples required at each leaf node\n",
    "min_samples_leaf = [1, 2]\n",
    "# Method of selecting samples for training each tree\n",
    "bootstrap = [True, False]\n"
   ]
  },
  {
   "cell_type": "code",
   "execution_count": 41,
   "id": "7dab1ca6",
   "metadata": {},
   "outputs": [
    {
     "name": "stdout",
     "output_type": "stream",
     "text": [
      "{'n_estimators': [10, 42, 74, 106, 138, 171, 203, 235, 267, 300], 'max_features': ['log2', 'sqrt', None], 'max_depth': [2, 4], 'min_samples_split': [2, 5], 'min_samples_leaf': [1, 2], 'bootstrap': [True, False], 'n_jobs': [-1]}\n"
     ]
    }
   ],
   "source": [
    "param_grid = {'n_estimators': n_estimators,\n",
    "               'max_features': max_features,\n",
    "               'max_depth': max_depth,\n",
    "               'min_samples_split': min_samples_split,\n",
    "               'min_samples_leaf': min_samples_leaf,\n",
    "               'bootstrap': bootstrap,\n",
    "                'n_jobs' : [-1]\n",
    "             }\n",
    "print(param_grid)"
   ]
  },
  {
   "cell_type": "code",
   "execution_count": 42,
   "id": "07afb070",
   "metadata": {},
   "outputs": [
    {
     "name": "stdout",
     "output_type": "stream",
     "text": [
      "Fitting 10 folds for each of 10 candidates, totalling 100 fits\n"
     ]
    },
    {
     "data": {
      "text/html": [
       "<style>#sk-container-id-3 {color: black;}#sk-container-id-3 pre{padding: 0;}#sk-container-id-3 div.sk-toggleable {background-color: white;}#sk-container-id-3 label.sk-toggleable__label {cursor: pointer;display: block;width: 100%;margin-bottom: 0;padding: 0.3em;box-sizing: border-box;text-align: center;}#sk-container-id-3 label.sk-toggleable__label-arrow:before {content: \"▸\";float: left;margin-right: 0.25em;color: #696969;}#sk-container-id-3 label.sk-toggleable__label-arrow:hover:before {color: black;}#sk-container-id-3 div.sk-estimator:hover label.sk-toggleable__label-arrow:before {color: black;}#sk-container-id-3 div.sk-toggleable__content {max-height: 0;max-width: 0;overflow: hidden;text-align: left;background-color: #f0f8ff;}#sk-container-id-3 div.sk-toggleable__content pre {margin: 0.2em;color: black;border-radius: 0.25em;background-color: #f0f8ff;}#sk-container-id-3 input.sk-toggleable__control:checked~div.sk-toggleable__content {max-height: 200px;max-width: 100%;overflow: auto;}#sk-container-id-3 input.sk-toggleable__control:checked~label.sk-toggleable__label-arrow:before {content: \"▾\";}#sk-container-id-3 div.sk-estimator input.sk-toggleable__control:checked~label.sk-toggleable__label {background-color: #d4ebff;}#sk-container-id-3 div.sk-label input.sk-toggleable__control:checked~label.sk-toggleable__label {background-color: #d4ebff;}#sk-container-id-3 input.sk-hidden--visually {border: 0;clip: rect(1px 1px 1px 1px);clip: rect(1px, 1px, 1px, 1px);height: 1px;margin: -1px;overflow: hidden;padding: 0;position: absolute;width: 1px;}#sk-container-id-3 div.sk-estimator {font-family: monospace;background-color: #f0f8ff;border: 1px dotted black;border-radius: 0.25em;box-sizing: border-box;margin-bottom: 0.5em;}#sk-container-id-3 div.sk-estimator:hover {background-color: #d4ebff;}#sk-container-id-3 div.sk-parallel-item::after {content: \"\";width: 100%;border-bottom: 1px solid gray;flex-grow: 1;}#sk-container-id-3 div.sk-label:hover label.sk-toggleable__label {background-color: #d4ebff;}#sk-container-id-3 div.sk-serial::before {content: \"\";position: absolute;border-left: 1px solid gray;box-sizing: border-box;top: 0;bottom: 0;left: 50%;z-index: 0;}#sk-container-id-3 div.sk-serial {display: flex;flex-direction: column;align-items: center;background-color: white;padding-right: 0.2em;padding-left: 0.2em;position: relative;}#sk-container-id-3 div.sk-item {position: relative;z-index: 1;}#sk-container-id-3 div.sk-parallel {display: flex;align-items: stretch;justify-content: center;background-color: white;position: relative;}#sk-container-id-3 div.sk-item::before, #sk-container-id-3 div.sk-parallel-item::before {content: \"\";position: absolute;border-left: 1px solid gray;box-sizing: border-box;top: 0;bottom: 0;left: 50%;z-index: -1;}#sk-container-id-3 div.sk-parallel-item {display: flex;flex-direction: column;z-index: 1;position: relative;background-color: white;}#sk-container-id-3 div.sk-parallel-item:first-child::after {align-self: flex-end;width: 50%;}#sk-container-id-3 div.sk-parallel-item:last-child::after {align-self: flex-start;width: 50%;}#sk-container-id-3 div.sk-parallel-item:only-child::after {width: 0;}#sk-container-id-3 div.sk-dashed-wrapped {border: 1px dashed gray;margin: 0 0.4em 0.5em 0.4em;box-sizing: border-box;padding-bottom: 0.4em;background-color: white;}#sk-container-id-3 div.sk-label label {font-family: monospace;font-weight: bold;display: inline-block;line-height: 1.2em;}#sk-container-id-3 div.sk-label-container {text-align: center;}#sk-container-id-3 div.sk-container {/* jupyter's `normalize.less` sets `[hidden] { display: none; }` but bootstrap.min.css set `[hidden] { display: none !important; }` so we also need the `!important` here to be able to override the default hidden behavior on the sphinx rendered scikit-learn.org. See: https://github.com/scikit-learn/scikit-learn/issues/21755 */display: inline-block !important;position: relative;}#sk-container-id-3 div.sk-text-repr-fallback {display: none;}</style><div id=\"sk-container-id-3\" class=\"sk-top-container\"><div class=\"sk-text-repr-fallback\"><pre>RandomizedSearchCV(cv=10, estimator=RandomForestRegressor(), n_jobs=4,\n",
       "                   param_distributions={&#x27;bootstrap&#x27;: [True, False],\n",
       "                                        &#x27;max_depth&#x27;: [2, 4],\n",
       "                                        &#x27;max_features&#x27;: [&#x27;log2&#x27;, &#x27;sqrt&#x27;, None],\n",
       "                                        &#x27;min_samples_leaf&#x27;: [1, 2],\n",
       "                                        &#x27;min_samples_split&#x27;: [2, 5],\n",
       "                                        &#x27;n_estimators&#x27;: [10, 42, 74, 106, 138,\n",
       "                                                         171, 203, 235, 267,\n",
       "                                                         300],\n",
       "                                        &#x27;n_jobs&#x27;: [-1]},\n",
       "                   verbose=2)</pre><b>In a Jupyter environment, please rerun this cell to show the HTML representation or trust the notebook. <br />On GitHub, the HTML representation is unable to render, please try loading this page with nbviewer.org.</b></div><div class=\"sk-container\" hidden><div class=\"sk-item sk-dashed-wrapped\"><div class=\"sk-label-container\"><div class=\"sk-label sk-toggleable\"><input class=\"sk-toggleable__control sk-hidden--visually\" id=\"sk-estimator-id-7\" type=\"checkbox\" ><label for=\"sk-estimator-id-7\" class=\"sk-toggleable__label sk-toggleable__label-arrow\">RandomizedSearchCV</label><div class=\"sk-toggleable__content\"><pre>RandomizedSearchCV(cv=10, estimator=RandomForestRegressor(), n_jobs=4,\n",
       "                   param_distributions={&#x27;bootstrap&#x27;: [True, False],\n",
       "                                        &#x27;max_depth&#x27;: [2, 4],\n",
       "                                        &#x27;max_features&#x27;: [&#x27;log2&#x27;, &#x27;sqrt&#x27;, None],\n",
       "                                        &#x27;min_samples_leaf&#x27;: [1, 2],\n",
       "                                        &#x27;min_samples_split&#x27;: [2, 5],\n",
       "                                        &#x27;n_estimators&#x27;: [10, 42, 74, 106, 138,\n",
       "                                                         171, 203, 235, 267,\n",
       "                                                         300],\n",
       "                                        &#x27;n_jobs&#x27;: [-1]},\n",
       "                   verbose=2)</pre></div></div></div><div class=\"sk-parallel\"><div class=\"sk-parallel-item\"><div class=\"sk-item\"><div class=\"sk-label-container\"><div class=\"sk-label sk-toggleable\"><input class=\"sk-toggleable__control sk-hidden--visually\" id=\"sk-estimator-id-8\" type=\"checkbox\" ><label for=\"sk-estimator-id-8\" class=\"sk-toggleable__label sk-toggleable__label-arrow\">estimator: RandomForestRegressor</label><div class=\"sk-toggleable__content\"><pre>RandomForestRegressor()</pre></div></div></div><div class=\"sk-serial\"><div class=\"sk-item\"><div class=\"sk-estimator sk-toggleable\"><input class=\"sk-toggleable__control sk-hidden--visually\" id=\"sk-estimator-id-9\" type=\"checkbox\" ><label for=\"sk-estimator-id-9\" class=\"sk-toggleable__label sk-toggleable__label-arrow\">RandomForestRegressor</label><div class=\"sk-toggleable__content\"><pre>RandomForestRegressor()</pre></div></div></div></div></div></div></div></div></div></div>"
      ],
      "text/plain": [
       "RandomizedSearchCV(cv=10, estimator=RandomForestRegressor(), n_jobs=4,\n",
       "                   param_distributions={'bootstrap': [True, False],\n",
       "                                        'max_depth': [2, 4],\n",
       "                                        'max_features': ['log2', 'sqrt', None],\n",
       "                                        'min_samples_leaf': [1, 2],\n",
       "                                        'min_samples_split': [2, 5],\n",
       "                                        'n_estimators': [10, 42, 74, 106, 138,\n",
       "                                                         171, 203, 235, 267,\n",
       "                                                         300],\n",
       "                                        'n_jobs': [-1]},\n",
       "                   verbose=2)"
      ]
     },
     "execution_count": 42,
     "metadata": {},
     "output_type": "execute_result"
    }
   ],
   "source": [
    "from sklearn.metrics import mean_absolute_error\n",
    "from sklearn.ensemble import RandomForestRegressor\n",
    "from sklearn.model_selection import RandomizedSearchCV\n",
    "rf_Model = RandomForestRegressor()\n",
    "\n",
    "y_train = train['pv_measurement']\n",
    "X_train = train.drop(columns = 'pv_measurement')\n",
    "rf_RandomGrid = RandomizedSearchCV(estimator = rf_Model, param_distributions = param_grid, cv = 10, verbose=2, n_jobs = 4)\n",
    "rf_RandomGrid.fit(X_train, y_train)"
   ]
  },
  {
   "cell_type": "code",
   "execution_count": 43,
   "id": "1038b779",
   "metadata": {},
   "outputs": [],
   "source": [
    "model_A = RandomForestRegressor(**rf_RandomGrid.best_params_)"
   ]
  },
  {
   "cell_type": "code",
   "execution_count": 44,
   "id": "70c1c0e9",
   "metadata": {},
   "outputs": [],
   "source": [
    "X_train = train.drop(columns = 'pv_measurement')\n",
    "y_train = train['pv_measurement']"
   ]
  },
  {
   "cell_type": "code",
   "execution_count": 45,
   "id": "79c190a7",
   "metadata": {
    "scrolled": true
   },
   "outputs": [],
   "source": [
    "model_A.fit(X_train,y_train)\n",
    "y_pred_A = model_A.predict(test)"
   ]
  },
  {
   "cell_type": "code",
   "execution_count": 46,
   "id": "9be875f4",
   "metadata": {},
   "outputs": [
    {
     "data": {
      "image/png": "[encoded data removed]",
      "text/plain": [
       "<Figure size 640x480 with 1 Axes>"
      ]
     },
     "metadata": {},
     "output_type": "display_data"
    }
   ],
   "source": [
    "plt.plot(range(len(y_pred_A)), (y_pred_A)**2, label='Predizione', color='red', linestyle='-')\n",
    "# Aggiungi una legenda\n",
    "plt.legend()\n",
    "\n",
    "# Aggiungi etichette agli assi\n",
    "plt.ylabel('Valori y')\n",
    "\n",
    "# Titolo del grafico\n",
    "plt.title('Grafico di Predizione')\n",
    "\n",
    "# Mostra il grafico\n",
    "plt.show()"
   ]
  },
  {
   "cell_type": "code",
   "execution_count": 47,
   "id": "2e8a7a7a",
   "metadata": {},
   "outputs": [],
   "source": [
    "df = pd.DataFrame({'Prediction':y_pred_A**2})"
   ]
  },
  {
   "cell_type": "code",
   "execution_count": 48,
   "id": "be8fe11b",
   "metadata": {},
   "outputs": [],
   "source": [
    "test = test.reset_index()\n",
    "df.loc[test['is_in_shadowidx'] == 1, 'Prediction'] = 0\n"
   ]
  },
  {
   "cell_type": "code",
   "execution_count": 49,
   "id": "de8accfa",
   "metadata": {},
   "outputs": [],
   "source": [
    "df.to_csv('A1.csv')"
   ]
  },
  {
   "cell_type": "code",
   "execution_count": 50,
   "id": "e07a6bc3",
   "metadata": {},
   "outputs": [
    {
     "data": {
      "text/html": [
       "<div>\n",
       "<style scoped>\n",
       "    .dataframe tbody tr th:only-of-type {\n",
       "        vertical-align: middle;\n",
       "    }\n",
       "\n",
       "    .dataframe tbody tr th {\n",
       "        vertical-align: top;\n",
       "    }\n",
       "\n",
       "    .dataframe thead th {\n",
       "        text-align: right;\n",
       "    }\n",
       "</style>\n",
       "<table border=\"1\" class=\"dataframe\">\n",
       "  <thead>\n",
       "    <tr style=\"text-align: right;\">\n",
       "      <th></th>\n",
       "      <th>Prediction</th>\n",
       "    </tr>\n",
       "  </thead>\n",
       "  <tbody>\n",
       "    <tr>\n",
       "      <th>0</th>\n",
       "      <td>0.000000</td>\n",
       "    </tr>\n",
       "    <tr>\n",
       "      <th>1</th>\n",
       "      <td>0.000000</td>\n",
       "    </tr>\n",
       "    <tr>\n",
       "      <th>2</th>\n",
       "      <td>0.000000</td>\n",
       "    </tr>\n",
       "    <tr>\n",
       "      <th>3</th>\n",
       "      <td>47.280658</td>\n",
       "    </tr>\n",
       "    <tr>\n",
       "      <th>4</th>\n",
       "      <td>377.897418</td>\n",
       "    </tr>\n",
       "    <tr>\n",
       "      <th>...</th>\n",
       "      <td>...</td>\n",
       "    </tr>\n",
       "    <tr>\n",
       "      <th>715</th>\n",
       "      <td>239.384269</td>\n",
       "    </tr>\n",
       "    <tr>\n",
       "      <th>716</th>\n",
       "      <td>114.054976</td>\n",
       "    </tr>\n",
       "    <tr>\n",
       "      <th>717</th>\n",
       "      <td>0.000000</td>\n",
       "    </tr>\n",
       "    <tr>\n",
       "      <th>718</th>\n",
       "      <td>0.000000</td>\n",
       "    </tr>\n",
       "    <tr>\n",
       "      <th>719</th>\n",
       "      <td>0.000000</td>\n",
       "    </tr>\n",
       "  </tbody>\n",
       "</table>\n",
       "<p>720 rows × 1 columns</p>\n",
       "</div>"
      ],
      "text/plain": [
       "     Prediction\n",
       "0      0.000000\n",
       "1      0.000000\n",
       "2      0.000000\n",
       "3     47.280658\n",
       "4    377.897418\n",
       "..          ...\n",
       "715  239.384269\n",
       "716  114.054976\n",
       "717    0.000000\n",
       "718    0.000000\n",
       "719    0.000000\n",
       "\n",
       "[720 rows x 1 columns]"
      ]
     },
     "execution_count": 50,
     "metadata": {},
     "output_type": "execute_result"
    }
   ],
   "source": [
    "df"
   ]
  },
  {
   "cell_type": "code",
   "execution_count": null,
   "id": "4939a81d",
   "metadata": {},
   "outputs": [],
   "source": [
    "rf_RandomGrid.best_params_"
   ]
  },
  {
   "cell_type": "code",
   "execution_count": null,
   "id": "cc32f3af",
   "metadata": {},
   "outputs": [],
   "source": []
  }
 ],
 "metadata": {
  "kernelspec": {
   "display_name": "Python 3 (ipykernel)",
   "language": "python",
   "name": "python3"
  },
  "language_info": {
   "codemirror_mode": {
    "name": "ipython",
    "version": 3
   },
   "file_extension": ".py",
   "mimetype": "text/x-python",
   "name": "python",
   "nbconvert_exporter": "python",
   "pygments_lexer": "ipython3",
   "version": "3.11.4"
  }
 },
 "nbformat": 4,
 "nbformat_minor": 5
}
