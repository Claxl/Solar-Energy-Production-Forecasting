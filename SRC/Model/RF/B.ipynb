{
 "cells": [
  {
   "cell_type": "code",
   "execution_count": 1,
   "id": "436c40c3",
   "metadata": {},
   "outputs": [],
   "source": [
    "import pandas as pd\n",
    "import numpy as np\n",
    "import matplotlib.pyplot as plt\n"
   ]
  },
  {
   "cell_type": "code",
   "execution_count": 2,
   "id": "72316c01",
   "metadata": {},
   "outputs": [],
   "source": [
    "train = pd.read_csv('trainMB.csv')\n",
    "test = pd.read_csv('testMB.csv')"
   ]
  },
  {
   "cell_type": "code",
   "execution_count": 3,
   "id": "eb517529",
   "metadata": {},
   "outputs": [],
   "source": [
    "train = train.rename(columns={'Unnamed: 0': 'date_forecast'})"
   ]
  },
  {
   "cell_type": "code",
   "execution_count": 4,
   "id": "d2728e72",
   "metadata": {},
   "outputs": [
    {
     "name": "stderr",
     "output_type": "stream",
     "text": [
      "C:\\Users\\claxl\\AppData\\Local\\Temp\\ipykernel_57472\\3272929725.py:5: SettingWithCopyWarning: \n",
      "A value is trying to be set on a copy of a slice from a DataFrame\n",
      "\n",
      "See the caveats in the documentation: https://pandas.pydata.org/pandas-docs/stable/user_guide/indexing.html#returning-a-view-versus-a-copy\n",
      "  train['is_est'].iloc[-4418:] = 1\n"
     ]
    }
   ],
   "source": [
    "train.set_index('date_forecast', inplace=True)\n",
    "test.set_index('date_forecast', inplace=True)\n",
    "train.index = pd.to_datetime(train.index)\n",
    "train['is_est'] = 0\n",
    "train['is_est'].iloc[-4418:] = 1\n"
   ]
  },
  {
   "cell_type": "code",
   "execution_count": 5,
   "id": "89414a98",
   "metadata": {},
   "outputs": [],
   "source": [
    "import re\n",
    "train = train.rename(columns = lambda x:re.sub('[^A-Za-z0-9_]+', '', x))\n",
    "test = test.rename(columns = lambda x:re.sub('[^A-Za-z0-9_]+', '', x))"
   ]
  },
  {
   "cell_type": "code",
   "execution_count": 6,
   "id": "28a64255",
   "metadata": {},
   "outputs": [],
   "source": [
    "nan_col = ['snow_densitykgm3','ceiling_height_aglm','cloud_base_aglm']\n",
    "for col in nan_col:\n",
    "    \n",
    "    test[col] = test[col].fillna(0)\n",
    "    train[col] = train[col].fillna(train[col].median())\n",
    "\n",
    "train=train.dropna()\n",
    "test=test.dropna()"
   ]
  },
  {
   "cell_type": "code",
   "execution_count": 7,
   "id": "0f344591",
   "metadata": {},
   "outputs": [
    {
     "data": {
      "text/plain": [
       "absolute_humidity_2mgm3          0\n",
       "air_density_2mkgm3               0\n",
       "ceiling_height_aglm              0\n",
       "clear_sky_energy_1hJ             0\n",
       "clear_sky_radW                   0\n",
       "cloud_base_aglm                  0\n",
       "dew_or_rimeidx                   0\n",
       "dew_point_2mK                    0\n",
       "diffuse_radW                     0\n",
       "diffuse_rad_1hJ                  0\n",
       "direct_radW                      0\n",
       "direct_rad_1hJ                   0\n",
       "effective_cloud_coverp           0\n",
       "elevationm                       0\n",
       "fresh_snow_12hcm                 0\n",
       "fresh_snow_1hcm                  0\n",
       "fresh_snow_24hcm                 0\n",
       "fresh_snow_3hcm                  0\n",
       "fresh_snow_6hcm                  0\n",
       "is_dayidx                        0\n",
       "is_in_shadowidx                  0\n",
       "msl_pressurehPa                  0\n",
       "precip_5minmm                    0\n",
       "precip_type_5minidx              0\n",
       "pressure_100mhPa                 0\n",
       "pressure_50mhPa                  0\n",
       "prob_rimep                       0\n",
       "rain_waterkgm2                   0\n",
       "relative_humidity_1000hPap       0\n",
       "sfc_pressurehPa                  0\n",
       "snow_densitykgm3                 0\n",
       "snow_depthcm                     0\n",
       "snow_driftidx                    0\n",
       "snow_melt_10minmm                0\n",
       "snow_waterkgm2                   0\n",
       "sun_azimuthd                     0\n",
       "sun_elevationd                   0\n",
       "super_cooled_liquid_waterkgm2    0\n",
       "t_1000hPaK                       0\n",
       "total_cloud_coverp               0\n",
       "visibilitym                      0\n",
       "wind_speed_10mms                 0\n",
       "wind_speed_u_10mms               0\n",
       "wind_speed_v_10mms               0\n",
       "wind_speed_w_1000hPams           0\n",
       "minute                           0\n",
       "hour                             0\n",
       "month                            0\n",
       "pv_measurement                   0\n",
       "is_est                           0\n",
       "dtype: int64"
      ]
     },
     "execution_count": 7,
     "metadata": {},
     "output_type": "execute_result"
    }
   ],
   "source": [
    "train.isna().sum()"
   ]
  },
  {
   "cell_type": "code",
   "execution_count": 8,
   "id": "75144e64",
   "metadata": {},
   "outputs": [
    {
     "data": {
      "text/plain": [
       "Index(['absolute_humidity_2mgm3', 'air_density_2mkgm3', 'ceiling_height_aglm',\n",
       "       'clear_sky_energy_1hJ', 'clear_sky_radW', 'cloud_base_aglm',\n",
       "       'dew_or_rimeidx', 'dew_point_2mK', 'diffuse_radW', 'diffuse_rad_1hJ',\n",
       "       'direct_radW', 'direct_rad_1hJ', 'effective_cloud_coverp', 'elevationm',\n",
       "       'fresh_snow_12hcm', 'fresh_snow_1hcm', 'fresh_snow_24hcm',\n",
       "       'fresh_snow_3hcm', 'fresh_snow_6hcm', 'is_dayidx', 'is_in_shadowidx',\n",
       "       'msl_pressurehPa', 'precip_5minmm', 'precip_type_5minidx',\n",
       "       'pressure_100mhPa', 'pressure_50mhPa', 'prob_rimep', 'rain_waterkgm2',\n",
       "       'relative_humidity_1000hPap', 'sfc_pressurehPa', 'snow_densitykgm3',\n",
       "       'snow_depthcm', 'snow_driftidx', 'snow_melt_10minmm', 'snow_waterkgm2',\n",
       "       'sun_azimuthd', 'sun_elevationd', 'super_cooled_liquid_waterkgm2',\n",
       "       't_1000hPaK', 'total_cloud_coverp', 'visibilitym', 'wind_speed_10mms',\n",
       "       'wind_speed_u_10mms', 'wind_speed_v_10mms', 'wind_speed_w_1000hPams',\n",
       "       'minute', 'hour', 'month', 'pv_measurement', 'is_est'],\n",
       "      dtype='object')"
      ]
     },
     "execution_count": 8,
     "metadata": {},
     "output_type": "execute_result"
    }
   ],
   "source": [
    "train.columns"
   ]
  },
  {
   "cell_type": "code",
   "execution_count": 9,
   "id": "8dbadc96",
   "metadata": {},
   "outputs": [
    {
     "data": {
      "text/plain": [
       "((32819, 50), (720, 48))"
      ]
     },
     "execution_count": 9,
     "metadata": {},
     "output_type": "execute_result"
    }
   ],
   "source": [
    "train.shape, test.shape"
   ]
  },
  {
   "cell_type": "code",
   "execution_count": 10,
   "id": "3e22a64e",
   "metadata": {},
   "outputs": [
    {
     "data": {
      "text/html": [
       "<div>\n",
       "<style scoped>\n",
       "    .dataframe tbody tr th:only-of-type {\n",
       "        vertical-align: middle;\n",
       "    }\n",
       "\n",
       "    .dataframe tbody tr th {\n",
       "        vertical-align: top;\n",
       "    }\n",
       "\n",
       "    .dataframe thead th {\n",
       "        text-align: right;\n",
       "    }\n",
       "</style>\n",
       "<table border=\"1\" class=\"dataframe\">\n",
       "  <thead>\n",
       "    <tr style=\"text-align: right;\">\n",
       "      <th></th>\n",
       "      <th>absolute_humidity_2mgm3</th>\n",
       "      <th>air_density_2mkgm3</th>\n",
       "      <th>ceiling_height_aglm</th>\n",
       "      <th>clear_sky_energy_1hJ</th>\n",
       "      <th>clear_sky_radW</th>\n",
       "      <th>cloud_base_aglm</th>\n",
       "      <th>dew_or_rimeidx</th>\n",
       "      <th>dew_point_2mK</th>\n",
       "      <th>diffuse_radW</th>\n",
       "      <th>diffuse_rad_1hJ</th>\n",
       "      <th>...</th>\n",
       "      <th>visibilitym</th>\n",
       "      <th>wind_speed_10mms</th>\n",
       "      <th>wind_speed_u_10mms</th>\n",
       "      <th>wind_speed_v_10mms</th>\n",
       "      <th>wind_speed_w_1000hPams</th>\n",
       "      <th>minute</th>\n",
       "      <th>hour</th>\n",
       "      <th>month</th>\n",
       "      <th>pv_measurement</th>\n",
       "      <th>is_est</th>\n",
       "    </tr>\n",
       "    <tr>\n",
       "      <th>date_forecast</th>\n",
       "      <th></th>\n",
       "      <th></th>\n",
       "      <th></th>\n",
       "      <th></th>\n",
       "      <th></th>\n",
       "      <th></th>\n",
       "      <th></th>\n",
       "      <th></th>\n",
       "      <th></th>\n",
       "      <th></th>\n",
       "      <th></th>\n",
       "      <th></th>\n",
       "      <th></th>\n",
       "      <th></th>\n",
       "      <th></th>\n",
       "      <th></th>\n",
       "      <th></th>\n",
       "      <th></th>\n",
       "      <th></th>\n",
       "      <th></th>\n",
       "      <th></th>\n",
       "    </tr>\n",
       "  </thead>\n",
       "  <tbody>\n",
       "    <tr>\n",
       "      <th>2019-01-01 00:00:00</th>\n",
       "      <td>5.55</td>\n",
       "      <td>1.2395</td>\n",
       "      <td>1200.700012</td>\n",
       "      <td>0.000000e+00</td>\n",
       "      <td>0.000000</td>\n",
       "      <td>1200.700012</td>\n",
       "      <td>0.0</td>\n",
       "      <td>275.150009</td>\n",
       "      <td>0.000000</td>\n",
       "      <td>0.000000</td>\n",
       "      <td>...</td>\n",
       "      <td>16823.399902</td>\n",
       "      <td>2.80</td>\n",
       "      <td>1.20</td>\n",
       "      <td>2.55</td>\n",
       "      <td>-0.0</td>\n",
       "      <td>22.5</td>\n",
       "      <td>0.0</td>\n",
       "      <td>1.0</td>\n",
       "      <td>0.000000</td>\n",
       "      <td>0</td>\n",
       "    </tr>\n",
       "    <tr>\n",
       "      <th>2019-01-01 10:00:00</th>\n",
       "      <td>5.70</td>\n",
       "      <td>1.2505</td>\n",
       "      <td>1856.150024</td>\n",
       "      <td>4.517990e+04</td>\n",
       "      <td>20.650000</td>\n",
       "      <td>1856.150024</td>\n",
       "      <td>0.0</td>\n",
       "      <td>275.600006</td>\n",
       "      <td>3.400000</td>\n",
       "      <td>7203.199707</td>\n",
       "      <td>...</td>\n",
       "      <td>3877.450073</td>\n",
       "      <td>7.30</td>\n",
       "      <td>5.50</td>\n",
       "      <td>-4.80</td>\n",
       "      <td>0.0</td>\n",
       "      <td>22.5</td>\n",
       "      <td>10.0</td>\n",
       "      <td>1.0</td>\n",
       "      <td>0.862500</td>\n",
       "      <td>0</td>\n",
       "    </tr>\n",
       "    <tr>\n",
       "      <th>2019-01-01 11:00:00</th>\n",
       "      <td>5.60</td>\n",
       "      <td>1.2540</td>\n",
       "      <td>2179.200073</td>\n",
       "      <td>9.082660e+04</td>\n",
       "      <td>27.100000</td>\n",
       "      <td>2179.200073</td>\n",
       "      <td>0.0</td>\n",
       "      <td>275.349991</td>\n",
       "      <td>5.350000</td>\n",
       "      <td>15655.649902</td>\n",
       "      <td>...</td>\n",
       "      <td>13198.600098</td>\n",
       "      <td>7.00</td>\n",
       "      <td>5.40</td>\n",
       "      <td>-4.45</td>\n",
       "      <td>0.0</td>\n",
       "      <td>22.5</td>\n",
       "      <td>11.0</td>\n",
       "      <td>1.0</td>\n",
       "      <td>10.350000</td>\n",
       "      <td>0</td>\n",
       "    </tr>\n",
       "    <tr>\n",
       "      <th>2019-01-01 12:00:00</th>\n",
       "      <td>5.45</td>\n",
       "      <td>1.2570</td>\n",
       "      <td>2424.950073</td>\n",
       "      <td>8.985360e+04</td>\n",
       "      <td>20.150000</td>\n",
       "      <td>2424.950073</td>\n",
       "      <td>0.0</td>\n",
       "      <td>274.899994</td>\n",
       "      <td>7.350000</td>\n",
       "      <td>22645.500000</td>\n",
       "      <td>...</td>\n",
       "      <td>20815.500000</td>\n",
       "      <td>6.60</td>\n",
       "      <td>5.20</td>\n",
       "      <td>-4.10</td>\n",
       "      <td>0.0</td>\n",
       "      <td>22.5</td>\n",
       "      <td>12.0</td>\n",
       "      <td>1.0</td>\n",
       "      <td>5.175000</td>\n",
       "      <td>0</td>\n",
       "    </tr>\n",
       "    <tr>\n",
       "      <th>2019-01-01 13:00:00</th>\n",
       "      <td>5.30</td>\n",
       "      <td>1.2625</td>\n",
       "      <td>2554.449951</td>\n",
       "      <td>4.286300e+04</td>\n",
       "      <td>2.450000</td>\n",
       "      <td>2554.449951</td>\n",
       "      <td>0.0</td>\n",
       "      <td>274.500000</td>\n",
       "      <td>0.950000</td>\n",
       "      <td>15217.299805</td>\n",
       "      <td>...</td>\n",
       "      <td>11989.649902</td>\n",
       "      <td>7.30</td>\n",
       "      <td>4.85</td>\n",
       "      <td>-5.50</td>\n",
       "      <td>0.0</td>\n",
       "      <td>22.5</td>\n",
       "      <td>13.0</td>\n",
       "      <td>1.0</td>\n",
       "      <td>0.862500</td>\n",
       "      <td>0</td>\n",
       "    </tr>\n",
       "    <tr>\n",
       "      <th>...</th>\n",
       "      <td>...</td>\n",
       "      <td>...</td>\n",
       "      <td>...</td>\n",
       "      <td>...</td>\n",
       "      <td>...</td>\n",
       "      <td>...</td>\n",
       "      <td>...</td>\n",
       "      <td>...</td>\n",
       "      <td>...</td>\n",
       "      <td>...</td>\n",
       "      <td>...</td>\n",
       "      <td>...</td>\n",
       "      <td>...</td>\n",
       "      <td>...</td>\n",
       "      <td>...</td>\n",
       "      <td>...</td>\n",
       "      <td>...</td>\n",
       "      <td>...</td>\n",
       "      <td>...</td>\n",
       "      <td>...</td>\n",
       "      <td>...</td>\n",
       "    </tr>\n",
       "    <tr>\n",
       "      <th>2023-04-30 16:00:00</th>\n",
       "      <td>4.50</td>\n",
       "      <td>1.2695</td>\n",
       "      <td>2185.000000</td>\n",
       "      <td>1.266570e+06</td>\n",
       "      <td>285.699997</td>\n",
       "      <td>656.700012</td>\n",
       "      <td>0.0</td>\n",
       "      <td>272.349991</td>\n",
       "      <td>122.650002</td>\n",
       "      <td>503916.500000</td>\n",
       "      <td>...</td>\n",
       "      <td>22730.750000</td>\n",
       "      <td>7.00</td>\n",
       "      <td>7.00</td>\n",
       "      <td>0.55</td>\n",
       "      <td>-0.0</td>\n",
       "      <td>22.5</td>\n",
       "      <td>16.0</td>\n",
       "      <td>4.0</td>\n",
       "      <td>197.669857</td>\n",
       "      <td>1</td>\n",
       "    </tr>\n",
       "    <tr>\n",
       "      <th>2023-04-30 17:00:00</th>\n",
       "      <td>4.60</td>\n",
       "      <td>1.2720</td>\n",
       "      <td>2007.900024</td>\n",
       "      <td>7.911844e+05</td>\n",
       "      <td>155.599998</td>\n",
       "      <td>581.699982</td>\n",
       "      <td>0.0</td>\n",
       "      <td>272.500000</td>\n",
       "      <td>73.450001</td>\n",
       "      <td>352996.000000</td>\n",
       "      <td>...</td>\n",
       "      <td>20819.199219</td>\n",
       "      <td>6.30</td>\n",
       "      <td>6.20</td>\n",
       "      <td>1.15</td>\n",
       "      <td>-0.0</td>\n",
       "      <td>22.5</td>\n",
       "      <td>17.0</td>\n",
       "      <td>4.0</td>\n",
       "      <td>118.454331</td>\n",
       "      <td>1</td>\n",
       "    </tr>\n",
       "    <tr>\n",
       "      <th>2023-04-30 18:00:00</th>\n",
       "      <td>4.60</td>\n",
       "      <td>1.2745</td>\n",
       "      <td>1950.000000</td>\n",
       "      <td>3.587465e+05</td>\n",
       "      <td>50.850000</td>\n",
       "      <td>544.299988</td>\n",
       "      <td>0.0</td>\n",
       "      <td>272.500000</td>\n",
       "      <td>27.650000</td>\n",
       "      <td>181940.500000</td>\n",
       "      <td>...</td>\n",
       "      <td>22582.700195</td>\n",
       "      <td>5.75</td>\n",
       "      <td>5.45</td>\n",
       "      <td>1.75</td>\n",
       "      <td>-0.0</td>\n",
       "      <td>22.5</td>\n",
       "      <td>18.0</td>\n",
       "      <td>4.0</td>\n",
       "      <td>45.263035</td>\n",
       "      <td>1</td>\n",
       "    </tr>\n",
       "    <tr>\n",
       "      <th>2023-04-30 19:00:00</th>\n",
       "      <td>4.55</td>\n",
       "      <td>1.2765</td>\n",
       "      <td>1677.950012</td>\n",
       "      <td>7.724135e+04</td>\n",
       "      <td>1.700000</td>\n",
       "      <td>542.850006</td>\n",
       "      <td>0.0</td>\n",
       "      <td>272.449997</td>\n",
       "      <td>1.200000</td>\n",
       "      <td>51855.349609</td>\n",
       "      <td>...</td>\n",
       "      <td>23433.750000</td>\n",
       "      <td>5.20</td>\n",
       "      <td>4.80</td>\n",
       "      <td>1.95</td>\n",
       "      <td>-0.0</td>\n",
       "      <td>22.5</td>\n",
       "      <td>19.0</td>\n",
       "      <td>4.0</td>\n",
       "      <td>0.828587</td>\n",
       "      <td>1</td>\n",
       "    </tr>\n",
       "    <tr>\n",
       "      <th>2023-04-30 20:00:00</th>\n",
       "      <td>4.50</td>\n",
       "      <td>1.2790</td>\n",
       "      <td>1766.500000</td>\n",
       "      <td>4.747500e+02</td>\n",
       "      <td>0.000000</td>\n",
       "      <td>546.350006</td>\n",
       "      <td>0.0</td>\n",
       "      <td>272.299988</td>\n",
       "      <td>0.000000</td>\n",
       "      <td>2151.399902</td>\n",
       "      <td>...</td>\n",
       "      <td>21307.700195</td>\n",
       "      <td>4.65</td>\n",
       "      <td>4.05</td>\n",
       "      <td>2.30</td>\n",
       "      <td>-0.0</td>\n",
       "      <td>22.5</td>\n",
       "      <td>20.0</td>\n",
       "      <td>4.0</td>\n",
       "      <td>-0.000000</td>\n",
       "      <td>1</td>\n",
       "    </tr>\n",
       "  </tbody>\n",
       "</table>\n",
       "<p>13401 rows × 50 columns</p>\n",
       "</div>"
      ],
      "text/plain": [
       "                     absolute_humidity_2mgm3  air_density_2mkgm3  \\\n",
       "date_forecast                                                      \n",
       "2019-01-01 00:00:00                     5.55              1.2395   \n",
       "2019-01-01 10:00:00                     5.70              1.2505   \n",
       "2019-01-01 11:00:00                     5.60              1.2540   \n",
       "2019-01-01 12:00:00                     5.45              1.2570   \n",
       "2019-01-01 13:00:00                     5.30              1.2625   \n",
       "...                                      ...                 ...   \n",
       "2023-04-30 16:00:00                     4.50              1.2695   \n",
       "2023-04-30 17:00:00                     4.60              1.2720   \n",
       "2023-04-30 18:00:00                     4.60              1.2745   \n",
       "2023-04-30 19:00:00                     4.55              1.2765   \n",
       "2023-04-30 20:00:00                     4.50              1.2790   \n",
       "\n",
       "                     ceiling_height_aglm  clear_sky_energy_1hJ  \\\n",
       "date_forecast                                                    \n",
       "2019-01-01 00:00:00          1200.700012          0.000000e+00   \n",
       "2019-01-01 10:00:00          1856.150024          4.517990e+04   \n",
       "2019-01-01 11:00:00          2179.200073          9.082660e+04   \n",
       "2019-01-01 12:00:00          2424.950073          8.985360e+04   \n",
       "2019-01-01 13:00:00          2554.449951          4.286300e+04   \n",
       "...                                  ...                   ...   \n",
       "2023-04-30 16:00:00          2185.000000          1.266570e+06   \n",
       "2023-04-30 17:00:00          2007.900024          7.911844e+05   \n",
       "2023-04-30 18:00:00          1950.000000          3.587465e+05   \n",
       "2023-04-30 19:00:00          1677.950012          7.724135e+04   \n",
       "2023-04-30 20:00:00          1766.500000          4.747500e+02   \n",
       "\n",
       "                     clear_sky_radW  cloud_base_aglm  dew_or_rimeidx  \\\n",
       "date_forecast                                                          \n",
       "2019-01-01 00:00:00        0.000000      1200.700012             0.0   \n",
       "2019-01-01 10:00:00       20.650000      1856.150024             0.0   \n",
       "2019-01-01 11:00:00       27.100000      2179.200073             0.0   \n",
       "2019-01-01 12:00:00       20.150000      2424.950073             0.0   \n",
       "2019-01-01 13:00:00        2.450000      2554.449951             0.0   \n",
       "...                             ...              ...             ...   \n",
       "2023-04-30 16:00:00      285.699997       656.700012             0.0   \n",
       "2023-04-30 17:00:00      155.599998       581.699982             0.0   \n",
       "2023-04-30 18:00:00       50.850000       544.299988             0.0   \n",
       "2023-04-30 19:00:00        1.700000       542.850006             0.0   \n",
       "2023-04-30 20:00:00        0.000000       546.350006             0.0   \n",
       "\n",
       "                     dew_point_2mK  diffuse_radW  diffuse_rad_1hJ  ...  \\\n",
       "date_forecast                                                      ...   \n",
       "2019-01-01 00:00:00     275.150009      0.000000         0.000000  ...   \n",
       "2019-01-01 10:00:00     275.600006      3.400000      7203.199707  ...   \n",
       "2019-01-01 11:00:00     275.349991      5.350000     15655.649902  ...   \n",
       "2019-01-01 12:00:00     274.899994      7.350000     22645.500000  ...   \n",
       "2019-01-01 13:00:00     274.500000      0.950000     15217.299805  ...   \n",
       "...                            ...           ...              ...  ...   \n",
       "2023-04-30 16:00:00     272.349991    122.650002    503916.500000  ...   \n",
       "2023-04-30 17:00:00     272.500000     73.450001    352996.000000  ...   \n",
       "2023-04-30 18:00:00     272.500000     27.650000    181940.500000  ...   \n",
       "2023-04-30 19:00:00     272.449997      1.200000     51855.349609  ...   \n",
       "2023-04-30 20:00:00     272.299988      0.000000      2151.399902  ...   \n",
       "\n",
       "                      visibilitym  wind_speed_10mms  wind_speed_u_10mms  \\\n",
       "date_forecast                                                             \n",
       "2019-01-01 00:00:00  16823.399902              2.80                1.20   \n",
       "2019-01-01 10:00:00   3877.450073              7.30                5.50   \n",
       "2019-01-01 11:00:00  13198.600098              7.00                5.40   \n",
       "2019-01-01 12:00:00  20815.500000              6.60                5.20   \n",
       "2019-01-01 13:00:00  11989.649902              7.30                4.85   \n",
       "...                           ...               ...                 ...   \n",
       "2023-04-30 16:00:00  22730.750000              7.00                7.00   \n",
       "2023-04-30 17:00:00  20819.199219              6.30                6.20   \n",
       "2023-04-30 18:00:00  22582.700195              5.75                5.45   \n",
       "2023-04-30 19:00:00  23433.750000              5.20                4.80   \n",
       "2023-04-30 20:00:00  21307.700195              4.65                4.05   \n",
       "\n",
       "                     wind_speed_v_10mms  wind_speed_w_1000hPams  minute  hour  \\\n",
       "date_forecast                                                                   \n",
       "2019-01-01 00:00:00                2.55                    -0.0    22.5   0.0   \n",
       "2019-01-01 10:00:00               -4.80                     0.0    22.5  10.0   \n",
       "2019-01-01 11:00:00               -4.45                     0.0    22.5  11.0   \n",
       "2019-01-01 12:00:00               -4.10                     0.0    22.5  12.0   \n",
       "2019-01-01 13:00:00               -5.50                     0.0    22.5  13.0   \n",
       "...                                 ...                     ...     ...   ...   \n",
       "2023-04-30 16:00:00                0.55                    -0.0    22.5  16.0   \n",
       "2023-04-30 17:00:00                1.15                    -0.0    22.5  17.0   \n",
       "2023-04-30 18:00:00                1.75                    -0.0    22.5  18.0   \n",
       "2023-04-30 19:00:00                1.95                    -0.0    22.5  19.0   \n",
       "2023-04-30 20:00:00                2.30                    -0.0    22.5  20.0   \n",
       "\n",
       "                     month  pv_measurement  is_est  \n",
       "date_forecast                                       \n",
       "2019-01-01 00:00:00    1.0        0.000000       0  \n",
       "2019-01-01 10:00:00    1.0        0.862500       0  \n",
       "2019-01-01 11:00:00    1.0       10.350000       0  \n",
       "2019-01-01 12:00:00    1.0        5.175000       0  \n",
       "2019-01-01 13:00:00    1.0        0.862500       0  \n",
       "...                    ...             ...     ...  \n",
       "2023-04-30 16:00:00    4.0      197.669857       1  \n",
       "2023-04-30 17:00:00    4.0      118.454331       1  \n",
       "2023-04-30 18:00:00    4.0       45.263035       1  \n",
       "2023-04-30 19:00:00    4.0        0.828587       1  \n",
       "2023-04-30 20:00:00    4.0       -0.000000       1  \n",
       "\n",
       "[13401 rows x 50 columns]"
      ]
     },
     "execution_count": 10,
     "metadata": {},
     "output_type": "execute_result"
    }
   ],
   "source": [
    "import pandas as pd\n",
    "\n",
    "# Esempio di un DataFrame con una colonna rappresentante una curva\n",
    "data = {'Tempo': [1, 2, 3, 4, 5, 6, 7, 8],\n",
    "        'Curva': [1, 2, 2, 2, 3, 3, 2, 2]}\n",
    "\n",
    "df = train\n",
    "\n",
    "# Sostituisci 'colonna_curva' con il nome della colonna che rappresenta la curva\n",
    "nome_colonna_curva = 'pv_measurement'\n",
    "\n",
    "# Calcola la differenza tra i valori adiacenti\n",
    "df['Differenza'] = df[nome_colonna_curva].diff()\n",
    "\n",
    "# Filtra le righe in cui la differenza è diversa da zero\n",
    "df_senza_stazionari = df[df['Differenza'] != 0]\n",
    "\n",
    "# Ora df_senza_stazionari conterrà solo le righe in cui la curva non è stazionaria\n",
    "# Puoi rimuovere la colonna 'Differenza' se non è più necessaria\n",
    "df_senza_stazionari = df_senza_stazionari.drop(columns=['Differenza'])\n",
    "\n",
    "df_senza_stazionari['pv_measurement'] = df_senza_stazionari['pv_measurement'].dropna()\n",
    "df_senza_stazionari"
   ]
  },
  {
   "cell_type": "code",
   "execution_count": 11,
   "id": "21d35d57",
   "metadata": {},
   "outputs": [],
   "source": [
    "df_senza_stazionari['pv_measurement'].dropna()\n",
    "df_senza_stazionari = df_senza_stazionari.reset_index()"
   ]
  },
  {
   "cell_type": "code",
   "execution_count": 12,
   "id": "2007c7cd",
   "metadata": {},
   "outputs": [
    {
     "data": {
      "text/plain": [
       "<Axes: >"
      ]
     },
     "execution_count": 12,
     "metadata": {},
     "output_type": "execute_result"
    },
    {
     "data": {
      "image/png": "[encoded data removed]",
      "text/plain": [
       "<Figure size 640x480 with 1 Axes>"
      ]
     },
     "metadata": {},
     "output_type": "display_data"
    }
   ],
   "source": [
    "df_senza_stazionari['pv_measurement'].plot()"
   ]
  },
  {
   "cell_type": "code",
   "execution_count": 13,
   "id": "34d2a912",
   "metadata": {},
   "outputs": [],
   "source": [
    "df_senza_stazionari = df_senza_stazionari.reset_index()"
   ]
  },
  {
   "cell_type": "code",
   "execution_count": 14,
   "id": "9754bab9",
   "metadata": {},
   "outputs": [],
   "source": [
    "train = df_senza_stazionari"
   ]
  },
  {
   "cell_type": "code",
   "execution_count": 15,
   "id": "11ff0efb",
   "metadata": {},
   "outputs": [],
   "source": [
    "train['pv_measurement'] = train['pv_measurement'].mask(train['is_in_shadowidx'] == 1, 0)\n"
   ]
  },
  {
   "cell_type": "code",
   "execution_count": 16,
   "id": "403e77f3",
   "metadata": {},
   "outputs": [
    {
     "data": {
      "text/plain": [
       "<Axes: >"
      ]
     },
     "execution_count": 16,
     "metadata": {},
     "output_type": "execute_result"
    },
    {
     "data": {
      "image/png": "[encoded data removed]",
      "text/plain": [
       "<Figure size 640x480 with 1 Axes>"
      ]
     },
     "metadata": {},
     "output_type": "display_data"
    }
   ],
   "source": [
    "train['pv_measurement'].plot()"
   ]
  },
  {
   "cell_type": "code",
   "execution_count": 17,
   "id": "ccd06872",
   "metadata": {},
   "outputs": [],
   "source": [
    "train.set_index('date_forecast', inplace=True)\n",
    "train.index = pd.to_datetime(train.index)"
   ]
  },
  {
   "cell_type": "code",
   "execution_count": 18,
   "id": "1630d5bb",
   "metadata": {},
   "outputs": [],
   "source": [
    "train  = train.drop(columns = 'index')"
   ]
  },
  {
   "cell_type": "code",
   "execution_count": 19,
   "id": "ac249039",
   "metadata": {},
   "outputs": [],
   "source": [
    "def transform(df):\n",
    "    for col in df.columns:\n",
    "        if col == 'pv_measurement':\n",
    "            df['pv_measurement'] = np.sqrt(df['pv_measurement'])\n",
    "            continue\n",
    "        new_col_name = col + \"_sqrt\"\n",
    "        df[new_col_name] = np.sqrt(df[col])\n",
    "\n",
    "    return df"
   ]
  },
  {
   "cell_type": "code",
   "execution_count": 20,
   "id": "e855c2f6",
   "metadata": {},
   "outputs": [
    {
     "name": "stderr",
     "output_type": "stream",
     "text": [
      "C:\\Users\\claxl\\anaconda3\\Lib\\site-packages\\pandas\\core\\arraylike.py:402: RuntimeWarning: invalid value encountered in sqrt\n",
      "  result = getattr(ufunc, method)(*inputs, **kwargs)\n",
      "C:\\Users\\claxl\\anaconda3\\Lib\\site-packages\\pandas\\core\\arraylike.py:402: RuntimeWarning: invalid value encountered in sqrt\n",
      "  result = getattr(ufunc, method)(*inputs, **kwargs)\n",
      "C:\\Users\\claxl\\anaconda3\\Lib\\site-packages\\pandas\\core\\arraylike.py:402: RuntimeWarning: invalid value encountered in sqrt\n",
      "  result = getattr(ufunc, method)(*inputs, **kwargs)\n",
      "C:\\Users\\claxl\\anaconda3\\Lib\\site-packages\\pandas\\core\\arraylike.py:402: RuntimeWarning: invalid value encountered in sqrt\n",
      "  result = getattr(ufunc, method)(*inputs, **kwargs)\n",
      "C:\\Users\\claxl\\anaconda3\\Lib\\site-packages\\pandas\\core\\arraylike.py:402: RuntimeWarning: invalid value encountered in sqrt\n",
      "  result = getattr(ufunc, method)(*inputs, **kwargs)\n",
      "C:\\Users\\claxl\\anaconda3\\Lib\\site-packages\\pandas\\core\\arraylike.py:402: RuntimeWarning: invalid value encountered in sqrt\n",
      "  result = getattr(ufunc, method)(*inputs, **kwargs)\n",
      "C:\\Users\\claxl\\anaconda3\\Lib\\site-packages\\pandas\\core\\arraylike.py:402: RuntimeWarning: invalid value encountered in sqrt\n",
      "  result = getattr(ufunc, method)(*inputs, **kwargs)\n"
     ]
    }
   ],
   "source": [
    "train = transform(train)\n",
    "test = transform(test)"
   ]
  },
  {
   "cell_type": "code",
   "execution_count": 21,
   "id": "306383fb",
   "metadata": {},
   "outputs": [
    {
     "data": {
      "text/plain": [
       "((13401, 99), (720, 96))"
      ]
     },
     "execution_count": 21,
     "metadata": {},
     "output_type": "execute_result"
    }
   ],
   "source": [
    "train.shape,test.shape"
   ]
  },
  {
   "cell_type": "code",
   "execution_count": 26,
   "id": "acd1a1d3",
   "metadata": {},
   "outputs": [
    {
     "data": {
      "text/plain": [
       "absolute_humidity_2mgm3        0.000000\n",
       "air_density_2mkgm3             0.000000\n",
       "ceiling_height_aglm            0.000000\n",
       "clear_sky_energy_1hJ           0.000000\n",
       "clear_sky_radW                 0.000000\n",
       "                                 ...   \n",
       "wind_speed_v_10mms_sqrt        0.572222\n",
       "wind_speed_w_1000hPams_sqrt    0.000000\n",
       "minute_sqrt                    0.000000\n",
       "hour_sqrt                      0.000000\n",
       "month_sqrt                     0.000000\n",
       "Length: 96, dtype: float64"
      ]
     },
     "execution_count": 26,
     "metadata": {},
     "output_type": "execute_result"
    }
   ],
   "source": [
    "test.isna().mean()"
   ]
  },
  {
   "cell_type": "code",
   "execution_count": 27,
   "id": "a13eba11",
   "metadata": {},
   "outputs": [],
   "source": [
    "train.index = pd.to_datetime(train.index)\n",
    "test.index = pd.to_datetime(test.index)"
   ]
  },
  {
   "cell_type": "code",
   "execution_count": 28,
   "id": "f175495f",
   "metadata": {},
   "outputs": [],
   "source": [
    "train['hours'] = train.index.hour\n",
    "train['day'] = train.index.day\n",
    "train['month'] = train.index.month\n",
    "train['year'] = train.index.year\n",
    "train['dayofyear'] = train.index.dayofyear"
   ]
  },
  {
   "cell_type": "code",
   "execution_count": 29,
   "id": "000b8c9c",
   "metadata": {},
   "outputs": [],
   "source": [
    "test['hours'] = test.index.hour\n",
    "test['day'] = test.index.day\n",
    "test['month'] = test.index.month\n",
    "test['year'] = test.index.year\n",
    "test['dayofyear'] = test.index.dayofyear"
   ]
  },
  {
   "cell_type": "code",
   "execution_count": 30,
   "id": "e11e4661",
   "metadata": {},
   "outputs": [],
   "source": [
    "train = train.fillna(0)\n",
    "test = test.fillna(0)"
   ]
  },
  {
   "cell_type": "code",
   "execution_count": 31,
   "id": "f461834b",
   "metadata": {},
   "outputs": [],
   "source": [
    "# Supponiamo che \"gruppi\" sia il risultato della suddivisione\n",
    "gruppi = train.groupby('is_est')\n",
    "\n",
    "# Itera attraverso i gruppi e crea un DataFrame separato per ciascun gruppo\n",
    "dataframes_per_gruppo = {}\n",
    "for valore, gruppo in gruppi:\n",
    "    dataframes_per_gruppo[valore] = gruppo.copy()\n",
    "train_set = dataframes_per_gruppo[0]\n",
    "val_set = dataframes_per_gruppo[1]"
   ]
  },
  {
   "cell_type": "code",
   "execution_count": 33,
   "id": "35f52ed3",
   "metadata": {},
   "outputs": [],
   "source": [
    "train = train.drop(columns = ['is_est','is_est_sqrt'])"
   ]
  },
  {
   "cell_type": "code",
   "execution_count": 32,
   "id": "1e4e3f03",
   "metadata": {},
   "outputs": [],
   "source": [
    "# Number of trees in random forest\n",
    "n_estimators = [int(x) for x in np.linspace(start = 10, stop = 300, num = 10)]\n",
    "# Number of features to consider at every split\n",
    "max_features = ['log2', 'sqrt', None]\n",
    "# Maximum number of levels in tree\n",
    "max_depth = [2,4]\n",
    "# Minimum number of samples required to split a node\n",
    "min_samples_split = [2, 5]\n",
    "# Minimum number of samples required at each leaf node\n",
    "min_samples_leaf = [1, 2]\n",
    "# Method of selecting samples for training each tree\n",
    "bootstrap = [True, False]\n"
   ]
  },
  {
   "cell_type": "code",
   "execution_count": 34,
   "id": "07afb070",
   "metadata": {},
   "outputs": [
    {
     "name": "stdout",
     "output_type": "stream",
     "text": [
      "{'n_estimators': [10, 42, 74, 106, 138, 171, 203, 235, 267, 300], 'max_features': ['log2', 'sqrt', None], 'max_depth': [2, 4], 'min_samples_split': [2, 5], 'min_samples_leaf': [1, 2], 'bootstrap': [True, False], 'n_jobs': [-1]}\n"
     ]
    }
   ],
   "source": [
    "param_grid = {'n_estimators': n_estimators,\n",
    "               'max_features': max_features,\n",
    "               'max_depth': max_depth,\n",
    "               'min_samples_split': min_samples_split,\n",
    "               'min_samples_leaf': min_samples_leaf,\n",
    "               'bootstrap': bootstrap,\n",
    "                'n_jobs' : [-1]\n",
    "             }\n",
    "print(param_grid)"
   ]
  },
  {
   "cell_type": "code",
   "execution_count": 35,
   "id": "2773b7fc",
   "metadata": {},
   "outputs": [
    {
     "name": "stdout",
     "output_type": "stream",
     "text": [
      "Fitting 10 folds for each of 10 candidates, totalling 100 fits\n"
     ]
    },
    {
     "data": {
      "text/html": [
       "<style>#sk-container-id-1 {color: black;}#sk-container-id-1 pre{padding: 0;}#sk-container-id-1 div.sk-toggleable {background-color: white;}#sk-container-id-1 label.sk-toggleable__label {cursor: pointer;display: block;width: 100%;margin-bottom: 0;padding: 0.3em;box-sizing: border-box;text-align: center;}#sk-container-id-1 label.sk-toggleable__label-arrow:before {content: \"▸\";float: left;margin-right: 0.25em;color: #696969;}#sk-container-id-1 label.sk-toggleable__label-arrow:hover:before {color: black;}#sk-container-id-1 div.sk-estimator:hover label.sk-toggleable__label-arrow:before {color: black;}#sk-container-id-1 div.sk-toggleable__content {max-height: 0;max-width: 0;overflow: hidden;text-align: left;background-color: #f0f8ff;}#sk-container-id-1 div.sk-toggleable__content pre {margin: 0.2em;color: black;border-radius: 0.25em;background-color: #f0f8ff;}#sk-container-id-1 input.sk-toggleable__control:checked~div.sk-toggleable__content {max-height: 200px;max-width: 100%;overflow: auto;}#sk-container-id-1 input.sk-toggleable__control:checked~label.sk-toggleable__label-arrow:before {content: \"▾\";}#sk-container-id-1 div.sk-estimator input.sk-toggleable__control:checked~label.sk-toggleable__label {background-color: #d4ebff;}#sk-container-id-1 div.sk-label input.sk-toggleable__control:checked~label.sk-toggleable__label {background-color: #d4ebff;}#sk-container-id-1 input.sk-hidden--visually {border: 0;clip: rect(1px 1px 1px 1px);clip: rect(1px, 1px, 1px, 1px);height: 1px;margin: -1px;overflow: hidden;padding: 0;position: absolute;width: 1px;}#sk-container-id-1 div.sk-estimator {font-family: monospace;background-color: #f0f8ff;border: 1px dotted black;border-radius: 0.25em;box-sizing: border-box;margin-bottom: 0.5em;}#sk-container-id-1 div.sk-estimator:hover {background-color: #d4ebff;}#sk-container-id-1 div.sk-parallel-item::after {content: \"\";width: 100%;border-bottom: 1px solid gray;flex-grow: 1;}#sk-container-id-1 div.sk-label:hover label.sk-toggleable__label {background-color: #d4ebff;}#sk-container-id-1 div.sk-serial::before {content: \"\";position: absolute;border-left: 1px solid gray;box-sizing: border-box;top: 0;bottom: 0;left: 50%;z-index: 0;}#sk-container-id-1 div.sk-serial {display: flex;flex-direction: column;align-items: center;background-color: white;padding-right: 0.2em;padding-left: 0.2em;position: relative;}#sk-container-id-1 div.sk-item {position: relative;z-index: 1;}#sk-container-id-1 div.sk-parallel {display: flex;align-items: stretch;justify-content: center;background-color: white;position: relative;}#sk-container-id-1 div.sk-item::before, #sk-container-id-1 div.sk-parallel-item::before {content: \"\";position: absolute;border-left: 1px solid gray;box-sizing: border-box;top: 0;bottom: 0;left: 50%;z-index: -1;}#sk-container-id-1 div.sk-parallel-item {display: flex;flex-direction: column;z-index: 1;position: relative;background-color: white;}#sk-container-id-1 div.sk-parallel-item:first-child::after {align-self: flex-end;width: 50%;}#sk-container-id-1 div.sk-parallel-item:last-child::after {align-self: flex-start;width: 50%;}#sk-container-id-1 div.sk-parallel-item:only-child::after {width: 0;}#sk-container-id-1 div.sk-dashed-wrapped {border: 1px dashed gray;margin: 0 0.4em 0.5em 0.4em;box-sizing: border-box;padding-bottom: 0.4em;background-color: white;}#sk-container-id-1 div.sk-label label {font-family: monospace;font-weight: bold;display: inline-block;line-height: 1.2em;}#sk-container-id-1 div.sk-label-container {text-align: center;}#sk-container-id-1 div.sk-container {/* jupyter's `normalize.less` sets `[hidden] { display: none; }` but bootstrap.min.css set `[hidden] { display: none !important; }` so we also need the `!important` here to be able to override the default hidden behavior on the sphinx rendered scikit-learn.org. See: https://github.com/scikit-learn/scikit-learn/issues/21755 */display: inline-block !important;position: relative;}#sk-container-id-1 div.sk-text-repr-fallback {display: none;}</style><div id=\"sk-container-id-1\" class=\"sk-top-container\"><div class=\"sk-text-repr-fallback\"><pre>RandomizedSearchCV(cv=10, estimator=RandomForestRegressor(), n_jobs=4,\n",
       "                   param_distributions={&#x27;bootstrap&#x27;: [True, False],\n",
       "                                        &#x27;max_depth&#x27;: [2, 4],\n",
       "                                        &#x27;max_features&#x27;: [&#x27;log2&#x27;, &#x27;sqrt&#x27;, None],\n",
       "                                        &#x27;min_samples_leaf&#x27;: [1, 2],\n",
       "                                        &#x27;min_samples_split&#x27;: [2, 5],\n",
       "                                        &#x27;n_estimators&#x27;: [10, 42, 74, 106, 138,\n",
       "                                                         171, 203, 235, 267,\n",
       "                                                         300],\n",
       "                                        &#x27;n_jobs&#x27;: [-1]},\n",
       "                   verbose=2)</pre><b>In a Jupyter environment, please rerun this cell to show the HTML representation or trust the notebook. <br />On GitHub, the HTML representation is unable to render, please try loading this page with nbviewer.org.</b></div><div class=\"sk-container\" hidden><div class=\"sk-item sk-dashed-wrapped\"><div class=\"sk-label-container\"><div class=\"sk-label sk-toggleable\"><input class=\"sk-toggleable__control sk-hidden--visually\" id=\"sk-estimator-id-1\" type=\"checkbox\" ><label for=\"sk-estimator-id-1\" class=\"sk-toggleable__label sk-toggleable__label-arrow\">RandomizedSearchCV</label><div class=\"sk-toggleable__content\"><pre>RandomizedSearchCV(cv=10, estimator=RandomForestRegressor(), n_jobs=4,\n",
       "                   param_distributions={&#x27;bootstrap&#x27;: [True, False],\n",
       "                                        &#x27;max_depth&#x27;: [2, 4],\n",
       "                                        &#x27;max_features&#x27;: [&#x27;log2&#x27;, &#x27;sqrt&#x27;, None],\n",
       "                                        &#x27;min_samples_leaf&#x27;: [1, 2],\n",
       "                                        &#x27;min_samples_split&#x27;: [2, 5],\n",
       "                                        &#x27;n_estimators&#x27;: [10, 42, 74, 106, 138,\n",
       "                                                         171, 203, 235, 267,\n",
       "                                                         300],\n",
       "                                        &#x27;n_jobs&#x27;: [-1]},\n",
       "                   verbose=2)</pre></div></div></div><div class=\"sk-parallel\"><div class=\"sk-parallel-item\"><div class=\"sk-item\"><div class=\"sk-label-container\"><div class=\"sk-label sk-toggleable\"><input class=\"sk-toggleable__control sk-hidden--visually\" id=\"sk-estimator-id-2\" type=\"checkbox\" ><label for=\"sk-estimator-id-2\" class=\"sk-toggleable__label sk-toggleable__label-arrow\">estimator: RandomForestRegressor</label><div class=\"sk-toggleable__content\"><pre>RandomForestRegressor()</pre></div></div></div><div class=\"sk-serial\"><div class=\"sk-item\"><div class=\"sk-estimator sk-toggleable\"><input class=\"sk-toggleable__control sk-hidden--visually\" id=\"sk-estimator-id-3\" type=\"checkbox\" ><label for=\"sk-estimator-id-3\" class=\"sk-toggleable__label sk-toggleable__label-arrow\">RandomForestRegressor</label><div class=\"sk-toggleable__content\"><pre>RandomForestRegressor()</pre></div></div></div></div></div></div></div></div></div></div>"
      ],
      "text/plain": [
       "RandomizedSearchCV(cv=10, estimator=RandomForestRegressor(), n_jobs=4,\n",
       "                   param_distributions={'bootstrap': [True, False],\n",
       "                                        'max_depth': [2, 4],\n",
       "                                        'max_features': ['log2', 'sqrt', None],\n",
       "                                        'min_samples_leaf': [1, 2],\n",
       "                                        'min_samples_split': [2, 5],\n",
       "                                        'n_estimators': [10, 42, 74, 106, 138,\n",
       "                                                         171, 203, 235, 267,\n",
       "                                                         300],\n",
       "                                        'n_jobs': [-1]},\n",
       "                   verbose=2)"
      ]
     },
     "execution_count": 35,
     "metadata": {},
     "output_type": "execute_result"
    }
   ],
   "source": [
    "from sklearn.metrics import mean_absolute_error\n",
    "from sklearn.ensemble import RandomForestRegressor\n",
    "from sklearn.model_selection import RandomizedSearchCV\n",
    "rf_Model = RandomForestRegressor()\n",
    "\n",
    "y_train = train['pv_measurement']\n",
    "X_train = train.drop(columns = 'pv_measurement')\n",
    "rf_RandomGrid = RandomizedSearchCV(estimator = rf_Model, param_distributions = param_grid, cv = 10, verbose=2, n_jobs = 4)\n",
    "rf_RandomGrid.fit(X_train, y_train)"
   ]
  },
  {
   "cell_type": "code",
   "execution_count": 44,
   "id": "1038b779",
   "metadata": {},
   "outputs": [],
   "source": [
    "model_A = RandomForestRegressor(**rf_RandomGrid.best_params_)"
   ]
  },
  {
   "cell_type": "code",
   "execution_count": 45,
   "id": "70c1c0e9",
   "metadata": {},
   "outputs": [],
   "source": [
    "X_train = train.drop(columns = 'pv_measurement' )\n",
    "y_train = train['pv_measurement']"
   ]
  },
  {
   "cell_type": "code",
   "execution_count": null,
   "id": "70499693",
   "metadata": {},
   "outputs": [],
   "source": [
    "model_A.fit(X_train,y_train)"
   ]
  },
  {
   "cell_type": "code",
   "execution_count": 47,
   "id": "79c190a7",
   "metadata": {
    "scrolled": true
   },
   "outputs": [],
   "source": [
    "y_pred_A = model_A.predict(test.drop(columns = 'date_forecast'))"
   ]
  },
  {
   "cell_type": "code",
   "execution_count": 48,
   "id": "9be875f4",
   "metadata": {},
   "outputs": [
    {
     "data": {
      "image/png": "[encoded data removed]",
      "text/plain": [
       "<Figure size 640x480 with 1 Axes>"
      ]
     },
     "metadata": {},
     "output_type": "display_data"
    }
   ],
   "source": [
    "plt.plot(range(len(y_pred_A)), (y_pred_A)**2, label='Predizione', color='red', linestyle='-')\n",
    "# Aggiungi una legenda\n",
    "plt.legend()\n",
    "\n",
    "# Aggiungi etichette agli assi\n",
    "plt.ylabel('Valori y')\n",
    "\n",
    "# Titolo del grafico\n",
    "plt.title('Grafico di Predizione')\n",
    "\n",
    "# Mostra il grafico\n",
    "plt.show()"
   ]
  },
  {
   "cell_type": "code",
   "execution_count": 49,
   "id": "2e8a7a7a",
   "metadata": {},
   "outputs": [],
   "source": [
    "df = pd.DataFrame({'Prediction':y_pred_A**2})"
   ]
  },
  {
   "cell_type": "code",
   "execution_count": 50,
   "id": "be8fe11b",
   "metadata": {},
   "outputs": [],
   "source": [
    "test = test.reset_index()\n",
    "df.loc[test['is_in_shadowidx'] == 1, 'Prediction'] = 0\n"
   ]
  },
  {
   "cell_type": "code",
   "execution_count": 51,
   "id": "de8accfa",
   "metadata": {},
   "outputs": [],
   "source": [
    "df.to_csv('B1.csv')"
   ]
  },
  {
   "cell_type": "code",
   "execution_count": 52,
   "id": "e07a6bc3",
   "metadata": {},
   "outputs": [
    {
     "data": {
      "text/html": [
       "<div>\n",
       "<style scoped>\n",
       "    .dataframe tbody tr th:only-of-type {\n",
       "        vertical-align: middle;\n",
       "    }\n",
       "\n",
       "    .dataframe tbody tr th {\n",
       "        vertical-align: top;\n",
       "    }\n",
       "\n",
       "    .dataframe thead th {\n",
       "        text-align: right;\n",
       "    }\n",
       "</style>\n",
       "<table border=\"1\" class=\"dataframe\">\n",
       "  <thead>\n",
       "    <tr style=\"text-align: right;\">\n",
       "      <th></th>\n",
       "      <th>Prediction</th>\n",
       "    </tr>\n",
       "  </thead>\n",
       "  <tbody>\n",
       "    <tr>\n",
       "      <th>0</th>\n",
       "      <td>0.000000</td>\n",
       "    </tr>\n",
       "    <tr>\n",
       "      <th>1</th>\n",
       "      <td>0.000000</td>\n",
       "    </tr>\n",
       "    <tr>\n",
       "      <th>2</th>\n",
       "      <td>0.000000</td>\n",
       "    </tr>\n",
       "    <tr>\n",
       "      <th>3</th>\n",
       "      <td>5.425849</td>\n",
       "    </tr>\n",
       "    <tr>\n",
       "      <th>4</th>\n",
       "      <td>43.749651</td>\n",
       "    </tr>\n",
       "    <tr>\n",
       "      <th>...</th>\n",
       "      <td>...</td>\n",
       "    </tr>\n",
       "    <tr>\n",
       "      <th>715</th>\n",
       "      <td>42.243420</td>\n",
       "    </tr>\n",
       "    <tr>\n",
       "      <th>716</th>\n",
       "      <td>11.064311</td>\n",
       "    </tr>\n",
       "    <tr>\n",
       "      <th>717</th>\n",
       "      <td>0.000000</td>\n",
       "    </tr>\n",
       "    <tr>\n",
       "      <th>718</th>\n",
       "      <td>0.000000</td>\n",
       "    </tr>\n",
       "    <tr>\n",
       "      <th>719</th>\n",
       "      <td>0.000000</td>\n",
       "    </tr>\n",
       "  </tbody>\n",
       "</table>\n",
       "<p>720 rows × 1 columns</p>\n",
       "</div>"
      ],
      "text/plain": [
       "     Prediction\n",
       "0      0.000000\n",
       "1      0.000000\n",
       "2      0.000000\n",
       "3      5.425849\n",
       "4     43.749651\n",
       "..          ...\n",
       "715   42.243420\n",
       "716   11.064311\n",
       "717    0.000000\n",
       "718    0.000000\n",
       "719    0.000000\n",
       "\n",
       "[720 rows x 1 columns]"
      ]
     },
     "execution_count": 52,
     "metadata": {},
     "output_type": "execute_result"
    }
   ],
   "source": [
    "df"
   ]
  },
  {
   "cell_type": "code",
   "execution_count": null,
   "id": "4939a81d",
   "metadata": {},
   "outputs": [],
   "source": []
  }
 ],
 "metadata": {
  "kernelspec": {
   "display_name": "Python 3 (ipykernel)",
   "language": "python",
   "name": "python3"
  },
  "language_info": {
   "codemirror_mode": {
    "name": "ipython",
    "version": 3
   },
   "file_extension": ".py",
   "mimetype": "text/x-python",
   "name": "python",
   "nbconvert_exporter": "python",
   "pygments_lexer": "ipython3",
   "version": "3.11.4"
  }
 },
 "nbformat": 4,
 "nbformat_minor": 5
}
