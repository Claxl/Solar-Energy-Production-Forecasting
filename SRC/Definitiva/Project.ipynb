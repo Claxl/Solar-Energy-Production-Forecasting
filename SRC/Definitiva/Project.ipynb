{
 "cells": [
  {
   "cell_type": "code",
   "execution_count": 1,
   "id": "71b4bd69",
   "metadata": {},
   "outputs": [],
   "source": [
    "import os\n",
    "import pandas as pd\n",
    "import numpy as np\n",
    "import matplotlib.pyplot as plt\n",
    "import warnings\n",
    "import lightgbm as lgb\n",
    "from sklearn.metrics import mean_absolute_error\n",
    "from statsmodels.imputation import mice\n",
    "# Sopprime tutti i FutureWarning\n",
    "warnings.simplefilter(action='ignore', category=FutureWarning)"
   ]
  },
  {
   "cell_type": "code",
   "execution_count": null,
   "id": "1ae28768",
   "metadata": {},
   "outputs": [],
   "source": [
    "# ADD TIME FEATURES\n",
    "def add_time_features(df, time_column):\n",
    "    '''\n",
    "        This function will add some time feature based on the param 'time_columns'\n",
    "        \n",
    "        Params:\n",
    "            df-> Dataframe with the column contained in 'time_column'\n",
    "            time_column -> the column that is a datetime object\n",
    "        \n",
    "        Returns:\n",
    "            A dataframe with time features\n",
    "    '''\n",
    "    \n",
    "    df[time_column] = pd.to_datetime(df[time_column])  # Make sure the time column is in datetime format\n",
    "    df['hour'] = df[time_column].dt.hour\n",
    "    df['day_of_week'] = df[time_column].dt.dayofweek\n",
    "    df['month'] = df[time_column].dt.month\n",
    "    df['day_of_year'] = df[time_column].dt.dayofyear\n",
    "    df['week_of_year'] = df[time_column].dt.isocalendar().week\n",
    "    df['year'] = df[time_column].dt.year\n",
    "    #df['sin_hour'] = np.sin(np.pi * df[time_column].dt.hour/24.)\n",
    "    #df['sin_month'] = np.sin(np.pi * df[time_column].dt.month/12.)\n",
    "    #why these feature? Who knows\n",
    "    return df"
   ]
  },
  {
   "cell_type": "code",
   "execution_count": 58,
   "id": "5f19d034",
   "metadata": {},
   "outputs": [],
   "source": [
    "def plot_targets(targets):\n",
    "    '''\n",
    "        Plot the target, by a giving date\n",
    "        \n",
    "        Params:\n",
    "            Targets-> A dataframe with the target value\n",
    "            Start_date -> the start date\n",
    "            End_date -> the end date\n",
    "        \n",
    "        Returns:\n",
    "            Sto cazzo\n",
    "    '''\n",
    "    plt.figure(figsize=(15, 6))\n",
    "    plt.plot(targets, label='PV Measurement', color='blue')\n",
    "    plt.xlabel('Time')\n",
    "    plt.ylabel('PV Measurement')\n",
    "    plt.title('PV Measurement Over Time')\n",
    "    plt.legend()\n",
    "    plt.grid(True)\n",
    "    plt.tight_layout()\n",
    "    plt.show()"
   ]
  },
  {
   "cell_type": "code",
   "execution_count": 4,
   "id": "9cbb000a",
   "metadata": {},
   "outputs": [],
   "source": [
    "def to_datetime(df,column):\n",
    "    '''\n",
    "        Make the column in datetime format\n",
    "    '''\n",
    "    return pd.to_datetime(df[column])"
   ]
  },
  {
   "cell_type": "code",
   "execution_count": 5,
   "id": "bb095594",
   "metadata": {},
   "outputs": [],
   "source": [
    "def resampling(df,column):\n",
    "    '''\n",
    "        Resample df to 1 hour using mean() as aggregator and drop rows where all columns are NaN\n",
    "        \n",
    "        Params :\n",
    "            df -> the dataframe to be resampled\n",
    "            column -> the time column\n",
    "    '''\n",
    "    return df.set_index(keys = column).resample('1H').mean().dropna(how='all').reset_index()"
   ]
  },
  {
   "cell_type": "code",
   "execution_count": 6,
   "id": "6d8b425c",
   "metadata": {},
   "outputs": [],
   "source": [
    "def filter_df(df,columnlist):\n",
    "    return df.drop(columns = columnlist)"
   ]
  },
  {
   "cell_type": "code",
   "execution_count": 7,
   "id": "e2af914d",
   "metadata": {},
   "outputs": [],
   "source": [
    "def extract_data_calc(df):\n",
    "    '''\n",
    "    This function create a dataframe with 'date_forecast' as index and the column 'date_calc' resampled by '1H'.\n",
    "    If there's no data in a specific bin, the resulting value for that bin would be NaN (not a number).\n",
    "    Params:\n",
    "        df -> dataframe with 'date_forecast' and 'date_calc' columns.\n",
    "            'date_calc' is expected to contain data that the user wants to resample or analyze.\n",
    "    Returns:\n",
    "        A dataframe with 'date_calc' resampled.\n",
    "    '''\n",
    "    return df.set_index('date_forecast')['date_calc'].resample('1H').first().to_frame()\n",
    "\n"
   ]
  },
  {
   "cell_type": "code",
   "execution_count": 8,
   "id": "a2f7582b",
   "metadata": {},
   "outputs": [],
   "source": [
    "def is_estimated_feature(df):\n",
    "    '''\n",
    "        This function will create some time feature and estimated information. It's need to let the model understand is\n",
    "        estimated value.\n",
    "        Params:\n",
    "            df -> It MUST be an estimated dataframe, that contains 'data_forecast' as datetime type\n",
    "        Returns:\n",
    "            A dataframe with 'time_dummy', 'time_delta' and 'is_estimated'     \n",
    "    '''\n",
    "    df['time_dummy'] = (df['date_forecast'] - df['date_forecast'].dt.normalize()).dt.total_seconds() / 3600\n",
    "    df['time_delta'] = (df['date_calc'] - df['date_forecast']).dt.total_seconds() / 3600\n",
    "    df['is_estimated'] = 1\n",
    "    return df"
   ]
  },
  {
   "cell_type": "code",
   "execution_count": 9,
   "id": "b0d039d0",
   "metadata": {},
   "outputs": [],
   "source": [
    "def delete_stationarity(df):\n",
    "    '''\n",
    "    Removes constant stretches of data within a DataFrame where the 'pv_measurement' column does not change.    \n",
    "    The function identifies blocks of data where the 'pv_measurement' stays constant for more than two consecutive\n",
    "    points and removes these blocks to address data stationarity.\n",
    "\n",
    "    params:\n",
    "        df -> DataFrame\n",
    "              A pandas DataFrame with a 'pv_measurement' column which contains the data from which to remove stationarity.\n",
    "        \n",
    "    return:\n",
    "        The DataFrame with constant stretches of data removed from the 'pv_measurement' column.\n",
    "    '''\n",
    "    \n",
    "    #Calculate the difference, this need for check the constant\n",
    "    df['diff'] = df['pv_measurement'].diff().fillna(0)\n",
    "\n",
    "    # Create an indicator for constant stretches\n",
    "    df['constant'] = (df['diff'] == 0).astype(int)\n",
    "\n",
    "    # Use the indicator to mark stretches. The diff() function here identifies change-points.\n",
    "    df['block'] = (df['constant'].diff() != 0).astype(int).cumsum()\n",
    "\n",
    "    # Get the size of each constant block\n",
    "    block_sizes = df.groupby('block')['constant'].sum()\n",
    "\n",
    "    # Identify blocks that are constant for more than N consecutive time points (in this case 2)\n",
    "    constant_blocks = block_sizes[block_sizes > 2].index\n",
    "    \n",
    "    # Remove the constant\n",
    "    filtered_df = df[~df['block'].isin(constant_blocks)]\n",
    "        \n",
    "    return filtered_df.drop(columns=['diff', 'constant', 'block'])\n"
   ]
  },
  {
   "cell_type": "code",
   "execution_count": 10,
   "id": "7a20dbdf",
   "metadata": {},
   "outputs": [],
   "source": [
    "def impute_nan(df):\n",
    "    '''\n",
    "        This function will impute the Nan in the give dataframe\n",
    "        \n",
    "        Params:\n",
    "            df -> the dataframe to be imputed\n",
    "        Return:\n",
    "            The dataframe imputed\n",
    "    '''\n",
    "    \n",
    "    for col in df.columns:\n",
    "        df[col] = df[col].fillna(df[col].median())\n",
    "    return df"
   ]
  },
  {
   "cell_type": "code",
   "execution_count": 11,
   "id": "854253e9",
   "metadata": {},
   "outputs": [],
   "source": [
    "import pandas as pd\n",
    "from scipy import stats\n",
    "\n",
    "def remove_outliers(df, column, method='IQR', **kwargs):\n",
    "    '''\n",
    "    Removes outliers from a specific column in a pandas DataFrame based on the selected method.\n",
    "    Additionally, prints the number of outliers removed.\n",
    "    \n",
    "    Parameters:\n",
    "    df : DataFrame\n",
    "        The pandas DataFrame from which to remove outliers.\n",
    "    column : str\n",
    "        The name of the column from which to remove outliers.\n",
    "    method : str, optional\n",
    "        The method used to identify and remove outliers. Accepted values are 'IQR' for Interquartile Range or\n",
    "        'Z-score'. The default is 'IQR'.\n",
    "    **kwargs : additional keyword arguments\n",
    "        Additional parameters required for the specified outlier removal method.\n",
    "        \n",
    "    Returns:\n",
    "    DataFrame\n",
    "        A new DataFrame with outliers removed from the specified column.\n",
    "    '''\n",
    "\n",
    "    if method == 'IQR':\n",
    "        # Calculate the IQR (Interquartile Range) for the column\n",
    "        Q1 = df[column].quantile(0.25)\n",
    "        Q3 = df[column].quantile(0.75)\n",
    "        IQR = Q3 - Q1\n",
    "        \n",
    "        # Determine upper and lower bounds for outlier detection\n",
    "        lower_bound = Q1 - (3 * IQR)\n",
    "        upper_bound = Q3 + (3 * IQR)\n",
    "        \n",
    "        # Filtering before removing to determine the number of outliers\n",
    "        outliers = df[(df[column] < lower_bound) | (df[column] > upper_bound)]\n",
    "        non_outliers = df[(df[column] >= lower_bound) & (df[column] <= upper_bound)]\n",
    "        \n",
    "    elif method == 'Z-score':\n",
    "        # Calculate Z-scores for the column\n",
    "        z_scores = stats.zscore(df[column].dropna())\n",
    "        \n",
    "        # Define a threshold for identifying outliers\n",
    "        threshold = kwargs.get('threshold', 3) # Default threshold is 3\n",
    "        \n",
    "        # Create masks for outliers and non-outliers\n",
    "        mask = (abs(z_scores) < threshold)\n",
    "        non_outliers = df[mask]\n",
    "        outliers = df[~mask]\n",
    "        \n",
    "    else:\n",
    "        raise ValueError(\"Method not recognized. Use 'IQR' or 'Z-score'.\")\n",
    "    \n",
    "    # Print the number of outliers removed\n",
    "    num_outliers = len(outliers)\n",
    "    #if(num_outliers > 0):\n",
    "       # print(f'For {column} there was outliers {num_outliers}')\n",
    "    \n",
    "    # Return the DataFrame without outliers\n",
    "    return non_outliers\n",
    "\n",
    "# Example usage:\n",
    "# Assuming `data` is your DataFrame and you want to remove outliers from the 'price' column using IQR method:\n",
    "# cleaned_data = remove_outliers(data, 'price', method='IQR')\n",
    "\n",
    "# Or using Z-score method with a specific threshold:\n",
    "# cleaned_data = remove_outliers(data, 'price', method='Z-score', threshold=2.5)\n"
   ]
  },
  {
   "cell_type": "code",
   "execution_count": 12,
   "id": "acb538af",
   "metadata": {},
   "outputs": [],
   "source": [
    "def one_hot_encoding(df, columns_to_encode):\n",
    "    '''\n",
    "        Perform one-hot encoding on the selected columns\n",
    "        Params:\n",
    "            df: Dataframe\n",
    "            columns_to_encode: List of columns\n",
    "        Return\n",
    "            Dataframe with columns encoded \n",
    "    '''\n",
    "    one_hot_encoded_df = pd.get_dummies(df[columns_to_encode], columns=columns_to_encode)\n",
    "    return pd.concat([df, one_hot_encoded_df], axis=1)"
   ]
  },
  {
   "cell_type": "code",
   "execution_count": 13,
   "id": "8e52c14e",
   "metadata": {},
   "outputs": [],
   "source": [
    "def should_process_column(column_name):\n",
    "    \"\"\"\n",
    "    Check if the column should be processed based on its name.\n",
    "    \n",
    "    Args:\n",
    "    column_name (str): The name of the column to check.\n",
    "\n",
    "    Returns:\n",
    "    bool: True if the column should be processed, False otherwise.\n",
    "    \"\"\"\n",
    "    excluded_substrings = ['idx', 'time', 'estimated']\n",
    "    return not any(substring in column_name for substring in excluded_substrings)"
   ]
  },
  {
   "cell_type": "code",
   "execution_count": 40,
   "id": "ca674a97",
   "metadata": {},
   "outputs": [],
   "source": [
    "def fix_encoding(df):\n",
    "    df[['dew_or_rime:idx_-1.0', 'dew_or_rime:idx_-0.75', 'dew_or_rime:idx_-0.5', 'dew_or_rime:idx_-0.25', 'dew_or_rime:idx_0.75','is_estimated_0']] = 0\n",
    "    return df"
   ]
  },
  {
   "cell_type": "code",
   "execution_count": 41,
   "id": "8d189931",
   "metadata": {},
   "outputs": [],
   "source": [
    "def preprocessing(targets, observed, estimated, test):\n",
    "    '''\n",
    "        This function makes all the preprocessing needed for the correct run of the model, it will perform:\n",
    "            - Resampling\n",
    "            - Filtering\n",
    "            - Imputation\n",
    "            - Outliers removal\n",
    "            - Categorical Encoding\n",
    "        \n",
    "        Params:\n",
    "            targets -> dataframe of the target parquet\n",
    "            observed -> dataframe of observed train data\n",
    "            estimated -> dataframe of estimated train data\n",
    "            test -> dataframe of test data\n",
    "        Returns:\n",
    "            train_data -> dataframe of all data ready to train\n",
    "            test_data -> dataframe of all data ready to test\n",
    "            is_day -> dataframe of is_day categorical feature for post processing\n",
    "    \n",
    "    '''    \n",
    "    targets['time'] = to_datetime(targets,'time')\n",
    "    estimated['date_forecast'] = to_datetime(estimated,'date_forecast')\n",
    "    observed['date_forecast'] = to_datetime(observed,'date_forecast')\n",
    "    test['date_forecast'] = to_datetime(test,'date_forecast')\n",
    "\n",
    "    observed_resampled = resampling(observed,'date_forecast')\n",
    "    estimated_resampled = resampling(estimated,'date_forecast')\n",
    "    test_resampled = resampling(test,'date_forecast')\n",
    "    \n",
    "    date_calc_resampled_observed = extract_data_calc(estimated)\n",
    "    date_calc_resampled_test = extract_data_calc(test)\n",
    "    \n",
    "    estimated_resampled = estimated_resampled.merge(date_calc_resampled_observed, left_on='date_forecast', right_index=True)\n",
    "    test_resampled = test_resampled.merge(date_calc_resampled_test, left_on='date_forecast', right_index=True)\n",
    "    \n",
    "    is_day = test_resampled[['date_forecast', 'is_day:idx']]   \n",
    "    test_resampled = filter_df(test_resampled,['is_day:idx', 'snow_density:kgm3','elevation:m'])\n",
    "    observed_resampled = filter_df(observed_resampled,['is_day:idx', 'snow_density:kgm3','elevation:m']) \n",
    "    estimated_resampled = filter_df(estimated_resampled,[ 'is_day:idx', 'snow_density:kgm3','elevation:m'])\n",
    "    \n",
    "    #This MUST be zero because is not estimated.\n",
    "    observed_resampled['time_dummy'] = 0\n",
    "    observed_resampled['is_estimated'] = 0\n",
    "    observed_resampled['time_delta'] = 0\n",
    "    \n",
    "    estimated_resampled = is_estimated_feature(estimated_resampled)\n",
    "    test_resampled = is_estimated_feature(test_resampled)\n",
    "    \n",
    "    X = pd.concat([observed_resampled,estimated_resampled],axis = 0)\n",
    "    train_data = pd.merge(targets, X, how='inner', left_on='time', right_on='date_forecast')\n",
    "    \n",
    "    train_data = add_time_features(train_data, 'time')\n",
    "    test_data = add_time_features(test_resampled, 'date_forecast')\n",
    "    \n",
    "    train_data = delete_stationarity(train_data)\n",
    "    \n",
    "    train_data = filter_df(train_data, ['time','date_calc'])\n",
    "    test_data = filter_df(test_resampled, ['date_calc'])\n",
    "    \n",
    "    train_data = impute_nan(train_data)\n",
    "    test_data = impute_nan(test_data)\n",
    "\n",
    "    train_data = one_hot_encoding(train_data, ['dew_or_rime:idx', 'is_in_shadow:idx','is_estimated'])\n",
    "    test_data = one_hot_encoding(test_data, ['dew_or_rime:idx', 'is_in_shadow:idx','is_estimated'])\n",
    "    test_data = fix_encoding(test_data)\n",
    "    test_data = test_data[train_data.drop(columns = 'pv_measurement').columns]\n",
    "    \n",
    "    cleaned_columns = {}\n",
    "    columns_to_process = [column for column in train_data.columns if should_process_column(column)]\n",
    "    # Loop through each column in the DataFrame\n",
    "    for column in train_data.columns:\n",
    "        if column in columns_to_process:\n",
    "            if pd.api.types.is_numeric_dtype(train_data[column]):  # Check if the column is numeric\n",
    "                # Remove outliers from the column\n",
    "                cleaned_data = remove_outliers(train_data, column, method='IQR')\n",
    "                # Add the cleaned column to our dictionary\n",
    "                cleaned_columns[column] = cleaned_data[column]\n",
    "            else:\n",
    "                # For non-numeric columns, just copy the data\n",
    "                cleaned_columns[column] = train_data[column]\n",
    "        else:\n",
    "            cleaned_columns[column] = train_data[column]\n",
    "\n",
    "    # Create a new DataFrame using the cleaned columns\n",
    "    train_cleaned_data = pd.DataFrame(cleaned_columns)\n",
    "    train_cleaned_data = train_cleaned_data.set_index('date_forecast')\n",
    "    test_data = test_data.set_index('date_forecast')\n",
    "    return train_cleaned_data, test_data, is_day"
   ]
  },
  {
   "cell_type": "code",
   "execution_count": 62,
   "id": "be740186",
   "metadata": {},
   "outputs": [],
   "source": [
    "from sklearn.model_selection import TimeSeriesSplit\n",
    "def train_data_split(n_splits = 5):\n",
    "    '''\n",
    "        This function return the cross_validator split\n",
    "    '''\n",
    "    return TimeSeriesSplit(n_splits=n_splits)"
   ]
  },
  {
   "cell_type": "code",
   "execution_count": 63,
   "id": "63a93368",
   "metadata": {},
   "outputs": [],
   "source": [
    "import re\n",
    "def regexdf(df):\n",
    "    '''\n",
    "        This function let lgbm work, this because it cannot accept ':'\n",
    "    '''\n",
    "    return df.rename(columns=lambda x: re.sub('[^A-Za-z0-9_-]+', '', x))"
   ]
  },
  {
   "cell_type": "code",
   "execution_count": 64,
   "id": "b872af68",
   "metadata": {},
   "outputs": [],
   "source": [
    "def evaluate_model(df,model, n_splits = 5):\n",
    "    '''\n",
    "        This function evaluate the model by splitting the data in # fold.\n",
    "        \n",
    "        Params:\n",
    "            df -> dataframe\n",
    "            model -> A regressor model\n",
    "            n_splits -> how many splits you want\n",
    "    '''\n",
    "    data = df\n",
    "    tscv = train_data_split(n_splits)\n",
    "    fold = 1\n",
    "    maelist = []\n",
    "    \n",
    "    for train_index, test_index in tscv.split(data):\n",
    "        train_data = data.iloc[train_index] #Take the train part\n",
    "        test_data = data.iloc[test_index] #Take the test part\n",
    "\n",
    "        # Extract target variable for training and testing data\n",
    "        y_train = train_data['pv_measurement']\n",
    "        y_test = test_data['pv_measurement']\n",
    "\n",
    "        # Extract features for training and testing data\n",
    "        X_train = train_data.drop(columns = 'pv_measurement')\n",
    "        X_test = test_data.drop(columns = 'pv_measurement')\n",
    "        \n",
    "        # Train the model\n",
    "        model.fit(X_train, y_train)\n",
    "\n",
    "        # Make predictions on the test data\n",
    "        y_pred = model.predict(X_test)\n",
    "\n",
    "        # Evaluate the model using Mean Absolute Error (MAE)\n",
    "        mae = mean_absolute_error(y_test, y_pred)\n",
    "        print(f'{fold} --> {mae}')\n",
    "        fold +=1\n",
    "        maelist.append(mae)\n",
    "    print(f'Mean : {np.mean(maelist)}')\n",
    "    print(f'Std : {np.std(maelist)}')"
   ]
  },
  {
   "cell_type": "code",
   "execution_count": 65,
   "id": "70f5bb33",
   "metadata": {},
   "outputs": [],
   "source": [
    "def objective(trial,data, tscv):\n",
    "    '''\n",
    "        This function is used by optuna to perform a bayesian optimization of the hyperparameter.\n",
    "        PLEASE NOTE THAT IF YOU CHANGE THE MODEL YOU MUST CHANGE THE PARAM DICTIONARY.\n",
    "        THIS NOT WORK PROPERLY FOR RANDOM FOREST.\n",
    "        \n",
    "        Params:\n",
    "            trial -> optuna stuff\n",
    "            data -> Dataframe\n",
    "                    Your train_data\n",
    "            tscv -> cross_validation split\n",
    "        Returns:\n",
    "            mean_mae, the mean by all the mae of each fold\n",
    "    \n",
    "    '''\n",
    "    fold = 1\n",
    "    maelist = []\n",
    "    \n",
    "    #CHANGE THIS PART IF YOU CHANGE THE MODEL, THIS WORK ONLY WITH LIGHTGBM\n",
    "    param = {\n",
    "            'metric': 'mae', \n",
    "            'random_state': 42,\n",
    "            'n_estimators': trial.suggest_int('n_estimators',10,1000),\n",
    "            'reg_alpha': trial.suggest_loguniform('reg_alpha', 1e-3, 10.0),\n",
    "            'reg_lambda': trial.suggest_loguniform('reg_lambda', 1e-3, 10.0),\n",
    "            'colsample_bytree': trial.suggest_categorical('colsample_bytree', [0.3,0.4,0.5,0.6,0.7,0.8,0.9, 1.0]),\n",
    "            'subsample': trial.suggest_categorical('subsample', [0.4,0.5,0.6,0.7,0.8,1.0]),\n",
    "            'learning_rate': trial.suggest_loguniform('learning_rate', 1e-4,1e-1),\n",
    "            'max_depth': trial.suggest_int('max_depth', 1,50),\n",
    "            'num_leaves' : trial.suggest_int('num_leaves', 1, 1000),\n",
    "            'min_child_samples': trial.suggest_int('min_child_samples', 1, 300),\n",
    "            'cat_smooth' : trial.suggest_int('min_data_per_groups', 1, 100),\n",
    "            'verbosity': -1\n",
    "        }\n",
    "    #CHANGE THIS PART IF YOU CHANGE THE MODEL, DONT MODIFY **param PART\n",
    "    model = lgb.LGBMRegressor(**param)\n",
    "    maelist = []\n",
    "    \n",
    "    for train_index, test_index in tscv.split(data):\n",
    "        train_data = data.iloc[train_index]\n",
    "        test_data = data.iloc[test_index]\n",
    "\n",
    "        # Extract target variable for training and testing data\n",
    "        y_train = train_data['pv_measurement']\n",
    "        y_test = test_data['pv_measurement']\n",
    "\n",
    "        # Extract features for training and testing data\n",
    "        X_train = train_data.drop(columns = 'pv_measurement')\n",
    "        X_test = test_data.drop(columns = 'pv_measurement')\n",
    "        \n",
    "        # Train the model\n",
    "        model.fit(X_train, y_train,eval_set=[(X_test,y_test)])\n",
    "\n",
    "        # Make predictions on the test data\n",
    "        y_pred = model.predict(X_test)\n",
    "\n",
    "        # Evaluate the model using Mean Absolute Error (MAE)\n",
    "        mae = mean_absolute_error(y_test, y_pred)\n",
    "        print(f'{fold} --> {mae}')\n",
    "        fold +=1\n",
    "        maelist.append(mae)    \n",
    "    print(f'Mean : {np.mean(maelist)}')\n",
    "    print(f'Std : {np.std(maelist)}')\n",
    "    return np.mean(maelist)"
   ]
  },
  {
   "cell_type": "code",
   "execution_count": 66,
   "id": "71fcbd76",
   "metadata": {},
   "outputs": [],
   "source": [
    "import optuna\n",
    "from warnings import simplefilter\n",
    "simplefilter(\"ignore\", category=RuntimeWarning)\n",
    "def tune_model(df,n_trials=50, n_splits = 5):\n",
    "    '''\n",
    "        This function will tune your model, by using optuna.\n",
    "        DONT USE THIS FOR RANDOM FOREST\n",
    "        Params:\n",
    "            df -> dataframe of training data\n",
    "            n_trials -> how many iteration of hypertuning you want\n",
    "            n_splits -> how many split you want\n",
    "        Return: \n",
    "            The best hyperparameter found\n",
    "    '''\n",
    "    data = df\n",
    "    study = optuna.create_study(direction='minimize')\n",
    "    tscv = train_data_split(n_splits)\n",
    "    study.optimize(lambda trial: objective(trial, data,tscv), n_trials=n_trials)\n",
    "    trial = study.best_trial\n",
    "    return trial.params"
   ]
  },
  {
   "cell_type": "code",
   "execution_count": 67,
   "id": "0382cf16",
   "metadata": {},
   "outputs": [],
   "source": [
    "from sklearn.utils import resample\n",
    "from sklearn.ensemble import BaggingRegressor  # For regression\n",
    "\n",
    "def bagging_model(df,model,num_models = 10):\n",
    "    '''\n",
    "        This function will bag your model.\n",
    "        Params:\n",
    "            df -> train dataset\n",
    "            model -> your model PLS CHANGE THE PART DOWN IF YOU DONT USE LIGHTGBM\n",
    "            params -> the hyperparameter\n",
    "            num_models -> how many model you want to bag\n",
    "        Return:\n",
    "            the bagged model\n",
    "    '''\n",
    "    # Create Validation - Train using estimated data DONT USE TIMESERIES SPLIT UNLESS YOU WANT TO DO #tscv * #num_models ITERATION \n",
    "    train = df[df['is_estimated'] == 0]\n",
    "    test = df[df['is_estimated'] == 1]\n",
    "    \n",
    "    X_train = train.drop(columns = 'pv_measurement')\n",
    "    y_train = train['pv_measurement']\n",
    "    \n",
    "    X_valid = test.drop(columns = 'pv_measurement')\n",
    "    y_valid = test['pv_measurement']\n",
    "    \n",
    "    bagged_model = BaggingRegressor(\n",
    "        base_estimator=model,  # Use the LightGBM base model\n",
    "        n_estimators=num_models,  # Number of base models in the ensemble (adjust as needed)\n",
    "        random_state=42  # Set the random seed for reproducibility\n",
    "    )\n",
    "    bagged_model.fit(X_train, y_train)  # Replace with your training data and target\n",
    "\n",
    "    # Make predictions using the bagged model\n",
    "    predictions = bagged_model.predict(X_valid)  # Replace with your validation data\n",
    "\n",
    "\n",
    "    # Calculate the mean squared error of the bagged predictions\n",
    "    mae = mean_absolute_error(y_valid, predictions)\n",
    "    print(f\"Bagged MAE: {mae}\")\n",
    "    return bagged_model"
   ]
  },
  {
   "cell_type": "code",
   "execution_count": 68,
   "id": "a24a90a1",
   "metadata": {},
   "outputs": [],
   "source": [
    "def final_model(df,model,param,X_test):\n",
    "    '''\n",
    "        This function will retrain on the bagged model so the model is trained on ALL TRAIN DATA.\n",
    "        \n",
    "        Params:\n",
    "            df -> Train data\n",
    "            model -> your model\n",
    "            param -> your hyperparameter\n",
    "            X_test -> Test Data\n",
    "        Return:\n",
    "            the prediction\n",
    "    '''\n",
    "    X_train = df.drop(columns = 'pv_measurement')\n",
    "    y_train = df['pv_measurement']\n",
    "    model.fit(X_train,y_train)\n",
    "    return model.predict(X_test)"
   ]
  },
  {
   "cell_type": "code",
   "execution_count": 69,
   "id": "1e63009f",
   "metadata": {},
   "outputs": [],
   "source": [
    "def post_process(prediction, is_day):\n",
    "    '''\n",
    "        This function will post_process the predicition, by multiplying the is_day on that prediction.\n",
    "        I.E.\n",
    "            This is for rescale the prediction that can be too high in a 0.5 day moment.\n",
    "        Params:\n",
    "            Prediction -> your prediction\n",
    "            is_day -> the is_day dataframe\n",
    "        Return:\n",
    "            the clipped version of the adjusted prediction, it's clipped for any eventual negative prediction\n",
    "    '''\n",
    "    adjusted_predictions = prediction * is_day['is_day:idx']\n",
    "    return np.clip(adjusted_predictions, 0, None)"
   ]
  },
  {
   "cell_type": "code",
   "execution_count": 70,
   "id": "b43f5657",
   "metadata": {},
   "outputs": [],
   "source": [
    "def submission(predictions):\n",
    "    '''\n",
    "        This function will create a ready to deliver file\n",
    "        \n",
    "        Params: \n",
    "            predictions -> the entire prediction for all the location\n",
    "        \n",
    "        Returns: \n",
    "            stocazzo\n",
    "        Save:\n",
    "            Submission file\n",
    "    \n",
    "    '''\n",
    "    all_predictions = np.array(predictions).flatten()\n",
    "    # Save the final_predictions to CSV\n",
    "    df = pd.DataFrame(all_predictions, columns=['prediction'])\n",
    "    df['id'] = df.index\n",
    "    df = df[['id', 'prediction']]\n",
    "    df.to_csv('TestFECla3.csv', index=False)"
   ]
  },
  {
   "cell_type": "code",
   "execution_count": 144,
   "id": "8d85a8d0",
   "metadata": {},
   "outputs": [],
   "source": [
    "def feature_engineering(df):\n",
    "    '''\n",
    "        This function will create new feature from the interaction of different feature of df dataframe.\n",
    "        \n",
    "        Params:\n",
    "            df: dataframe\n",
    "        Return:\n",
    "            FE dataframe\n",
    "    '''\n",
    "    \n",
    "    df['direct_diffuse_rad_interaction'] = df['direct_rad:W'] * df['diffuse_rad:W']\n",
    "    df['raddir'] = (df['direct_rad:W'] ) * (df['absolute_humidity_2m:gm3'])\n",
    "    df['effectivehum'] = (df['absolute_humidity_2m:gm3']) * (df['direct_rad:W'])\n",
    "    df['Radiazione_solare_effettiva'] = (df['direct_rad:W'] + df['diffuse_rad:W'] ) * (df['effective_cloud_cover:p'])\n",
    "    df['direct_radW_squared'] = df['direct_rad:W'] ** 2\n",
    "    df['clearcloud'] =   df['clear_sky_rad:W']*df['total_cloud_cover:p']\n",
    "    df['radiation_squared'] = df['clear_sky_rad:W'] ** 2\n",
    "    df['effectivehum'] = (df['absolute_humidity_2m:gm3']) * (df['direct_rad:W'])\n",
    "\n",
    "   # df = df[df.index.month.isin([4, 5, 6, 7, 8, 9])]\n",
    "\n",
    "    return df"
   ]
  },
  {
   "cell_type": "code",
   "execution_count": 151,
   "id": "c921c437",
   "metadata": {},
   "outputs": [],
   "source": [
    "locations = ['B','C']"
   ]
  },
  {
   "cell_type": "code",
   "execution_count": 149,
   "id": "c87ac458",
   "metadata": {},
   "outputs": [],
   "source": [
    "all_predictions = []"
   ]
  },
  {
   "cell_type": "code",
   "execution_count": 153,
   "id": "fe6f8df2",
   "metadata": {
    "scrolled": true
   },
   "outputs": [
    {
     "name": "stdout",
     "output_type": "stream",
     "text": [
      "1 --> 60.02873248512057\n",
      "2 --> 77.35967821081188\n",
      "3 --> 54.2876062752486\n",
      "4 --> 59.490544684674916\n"
     ]
    },
    {
     "name": "stderr",
     "output_type": "stream",
     "text": [
      "[I 2023-11-03 23:35:26,766] A new study created in memory with name: no-name-f601b117-1df5-4a28-a058-29d8b0362c67\n"
     ]
    },
    {
     "name": "stdout",
     "output_type": "stream",
     "text": [
      "5 --> 53.91127465952274\n",
      "Mean : 61.01556726307574\n",
      "Std : 8.557639065374799\n",
      "__________\n",
      "1 --> 85.89601952466532\n",
      "2 --> 94.2468433606805\n",
      "3 --> 86.89956979580636\n",
      "4 --> 86.55084601040711\n"
     ]
    },
    {
     "name": "stderr",
     "output_type": "stream",
     "text": [
      "[I 2023-11-03 23:35:36,729] Trial 0 finished with value: 87.54645218187649 and parameters: {'n_estimators': 729, 'reg_alpha': 0.015194914410699234, 'reg_lambda': 0.013810558654892037, 'colsample_bytree': 0.7, 'subsample': 0.7, 'learning_rate': 0.0018300745974126269, 'max_depth': 48, 'num_leaves': 749, 'min_child_samples': 112, 'min_data_per_groups': 34}. Best is trial 0 with value: 87.54645218187649.\n"
     ]
    },
    {
     "name": "stdout",
     "output_type": "stream",
     "text": [
      "5 --> 84.13898221782311\n",
      "Mean : 87.54645218187649\n",
      "Std : 3.4825194882724015\n",
      "1 --> 57.04748693828791\n",
      "2 --> 74.48466515343328\n",
      "3 --> 51.11716261544208\n",
      "4 --> 59.72237065853287\n"
     ]
    },
    {
     "name": "stderr",
     "output_type": "stream",
     "text": [
      "[I 2023-11-03 23:35:41,984] Trial 1 finished with value: 59.18445280050364 and parameters: {'n_estimators': 752, 'reg_alpha': 0.8721483486855206, 'reg_lambda': 0.04146537327949163, 'colsample_bytree': 0.6, 'subsample': 0.4, 'learning_rate': 0.02175302609890348, 'max_depth': 41, 'num_leaves': 200, 'min_child_samples': 227, 'min_data_per_groups': 21}. Best is trial 1 with value: 59.18445280050364.\n"
     ]
    },
    {
     "name": "stdout",
     "output_type": "stream",
     "text": [
      "5 --> 53.55057863682205\n",
      "Mean : 59.18445280050364\n",
      "Std : 8.194805498426335\n",
      "1 --> 208.84234523551908\n",
      "2 --> 212.1437129040628\n",
      "3 --> 208.7369034651023\n",
      "4 --> 202.50055171276077\n"
     ]
    },
    {
     "name": "stderr",
     "output_type": "stream",
     "text": [
      "[I 2023-11-03 23:35:43,752] Trial 2 finished with value: 204.7478716879714 and parameters: {'n_estimators': 225, 'reg_alpha': 0.9202664864745359, 'reg_lambda': 0.017076356575051355, 'colsample_bytree': 1.0, 'subsample': 1.0, 'learning_rate': 0.00011977186804336893, 'max_depth': 8, 'num_leaves': 26, 'min_child_samples': 200, 'min_data_per_groups': 90}. Best is trial 1 with value: 59.18445280050364.\n"
     ]
    },
    {
     "name": "stdout",
     "output_type": "stream",
     "text": [
      "5 --> 191.5158451224121\n",
      "Mean : 204.7478716879714\n",
      "Std : 7.314540717595494\n",
      "1 --> 163.1051336138892\n",
      "2 --> 165.63257372051788\n",
      "3 --> 161.50051154040412\n",
      "4 --> 157.89505969286753\n"
     ]
    },
    {
     "name": "stderr",
     "output_type": "stream",
     "text": [
      "[I 2023-11-03 23:35:44,455] Trial 3 finished with value: 160.00718716034882 and parameters: {'n_estimators': 85, 'reg_alpha': 0.28310761595527856, 'reg_lambda': 0.012281231062844889, 'colsample_bytree': 0.9, 'subsample': 0.6, 'learning_rate': 0.003961068551937152, 'max_depth': 46, 'num_leaves': 110, 'min_child_samples': 286, 'min_data_per_groups': 13}. Best is trial 1 with value: 59.18445280050364.\n"
     ]
    },
    {
     "name": "stdout",
     "output_type": "stream",
     "text": [
      "5 --> 151.90265723406534\n",
      "Mean : 160.00718716034882\n",
      "Std : 4.766901543965744\n",
      "1 --> 198.98467748972715\n",
      "2 --> 201.70858750752265\n",
      "3 --> 198.56185730766103\n",
      "4 --> 193.32366267824887\n"
     ]
    },
    {
     "name": "stderr",
     "output_type": "stream",
     "text": [
      "[I 2023-11-03 23:35:46,369] Trial 4 finished with value: 195.01798755802082 and parameters: {'n_estimators': 758, 'reg_alpha': 0.004499006654686778, 'reg_lambda': 0.06414883938316264, 'colsample_bytree': 0.8, 'subsample': 0.7, 'learning_rate': 0.00011885681063948608, 'max_depth': 2, 'num_leaves': 296, 'min_child_samples': 283, 'min_data_per_groups': 4}. Best is trial 1 with value: 59.18445280050364.\n"
     ]
    },
    {
     "name": "stdout",
     "output_type": "stream",
     "text": [
      "5 --> 182.51115280694435\n",
      "Mean : 195.01798755802082\n",
      "Std : 6.816882304836096\n",
      "1 --> 179.90545521507025\n",
      "2 --> 182.41982766828986\n",
      "3 --> 180.3678967397828\n",
      "4 --> 175.02399945107456\n"
     ]
    },
    {
     "name": "stderr",
     "output_type": "stream",
     "text": [
      "[I 2023-11-03 23:35:52,184] Trial 5 finished with value: 177.0408428224263 and parameters: {'n_estimators': 391, 'reg_alpha': 0.5135088375397622, 'reg_lambda': 0.02493305264397738, 'colsample_bytree': 0.8, 'subsample': 0.7, 'learning_rate': 0.0005066912425829513, 'max_depth': 17, 'num_leaves': 673, 'min_child_samples': 80, 'min_data_per_groups': 6}. Best is trial 1 with value: 59.18445280050364.\n"
     ]
    },
    {
     "name": "stdout",
     "output_type": "stream",
     "text": [
      "5 --> 167.487035037914\n",
      "Mean : 177.0408428224263\n",
      "Std : 5.358202502128663\n",
      "1 --> 190.92825322676734\n",
      "2 --> 193.60227140091249\n",
      "3 --> 191.2562431459657\n",
      "4 --> 185.48040757589334\n"
     ]
    },
    {
     "name": "stderr",
     "output_type": "stream",
     "text": [
      "[I 2023-11-03 23:36:04,777] Trial 6 finished with value: 187.61265049958445 and parameters: {'n_estimators': 890, 'reg_alpha': 0.026129957944939042, 'reg_lambda': 0.5531476740010292, 'colsample_bytree': 1.0, 'subsample': 0.5, 'learning_rate': 0.00014474416029843483, 'max_depth': 23, 'num_leaves': 372, 'min_child_samples': 77, 'min_data_per_groups': 1}. Best is trial 1 with value: 59.18445280050364.\n"
     ]
    },
    {
     "name": "stdout",
     "output_type": "stream",
     "text": [
      "5 --> 176.79607714838338\n",
      "Mean : 187.61265049958445\n",
      "Std : 6.0280886905624715\n",
      "1 --> 210.9170946890783\n",
      "2 --> 214.16235661841608\n",
      "3 --> 210.70921487486785\n"
     ]
    },
    {
     "name": "stderr",
     "output_type": "stream",
     "text": [
      "[I 2023-11-03 23:36:05,183] Trial 7 finished with value: 206.6879007440469 and parameters: {'n_estimators': 41, 'reg_alpha': 0.0010423559382129759, 'reg_lambda': 4.238965645593345, 'colsample_bytree': 0.4, 'subsample': 0.6, 'learning_rate': 0.0003809642860883906, 'max_depth': 5, 'num_leaves': 990, 'min_child_samples': 14, 'min_data_per_groups': 57}. Best is trial 1 with value: 59.18445280050364.\n"
     ]
    },
    {
     "name": "stdout",
     "output_type": "stream",
     "text": [
      "4 --> 204.4490326450052\n",
      "5 --> 193.2018048928671\n",
      "Mean : 206.6879007440469\n",
      "Std : 7.440589372535461\n",
      "1 --> 200.57855847666517\n",
      "2 --> 203.53695662600416\n",
      "3 --> 200.23241336626262\n",
      "4 --> 194.2537589407939\n"
     ]
    },
    {
     "name": "stderr",
     "output_type": "stream",
     "text": [
      "[I 2023-11-03 23:36:13,902] Trial 8 finished with value: 196.63119756815874 and parameters: {'n_estimators': 672, 'reg_alpha': 0.35700138707528806, 'reg_lambda': 6.250267999351691, 'colsample_bytree': 1.0, 'subsample': 1.0, 'learning_rate': 0.00011201210628675762, 'max_depth': 17, 'num_leaves': 599, 'min_child_samples': 53, 'min_data_per_groups': 38}. Best is trial 1 with value: 59.18445280050364.\n"
     ]
    },
    {
     "name": "stdout",
     "output_type": "stream",
     "text": [
      "5 --> 184.55430043106787\n",
      "Mean : 196.63119756815874\n",
      "Std : 6.748978891925677\n",
      "1 --> 58.03538794495076\n",
      "2 --> 78.66490752324206\n",
      "3 --> 52.20373567058924\n",
      "4 --> 59.834292358104015\n"
     ]
    },
    {
     "name": "stderr",
     "output_type": "stream",
     "text": [
      "[I 2023-11-03 23:36:20,980] Trial 9 finished with value: 60.968964962345225 and parameters: {'n_estimators': 243, 'reg_alpha': 0.003721702864850646, 'reg_lambda': 0.015472543775307025, 'colsample_bytree': 0.9, 'subsample': 1.0, 'learning_rate': 0.09556585437732892, 'max_depth': 38, 'num_leaves': 845, 'min_child_samples': 48, 'min_data_per_groups': 6}. Best is trial 1 with value: 59.18445280050364.\n"
     ]
    },
    {
     "name": "stdout",
     "output_type": "stream",
     "text": [
      "5 --> 56.106501314840095\n",
      "Mean : 60.968964962345225\n",
      "Std : 9.20339650797168\n",
      "1 --> 60.981296287708936\n",
      "2 --> 76.42492269256377\n",
      "3 --> 51.76132606072491\n",
      "4 --> 59.251705523573854\n"
     ]
    },
    {
     "name": "stderr",
     "output_type": "stream",
     "text": [
      "[I 2023-11-03 23:36:29,289] Trial 10 finished with value: 60.664663109262435 and parameters: {'n_estimators': 981, 'reg_alpha': 8.473378544797654, 'reg_lambda': 0.0012632319672873516, 'colsample_bytree': 0.6, 'subsample': 0.4, 'learning_rate': 0.03155084895505526, 'max_depth': 34, 'num_leaves': 216, 'min_child_samples': 179, 'min_data_per_groups': 72}. Best is trial 1 with value: 59.18445280050364.\n"
     ]
    },
    {
     "name": "stdout",
     "output_type": "stream",
     "text": [
      "5 --> 54.90406498174071\n",
      "Mean : 60.664663109262435\n",
      "Std : 8.519816773010524\n",
      "1 --> 60.908362053334685\n",
      "2 --> 76.04518524428232\n",
      "3 --> 51.59762556232361\n",
      "4 --> 60.431431643890825\n"
     ]
    },
    {
     "name": "stderr",
     "output_type": "stream",
     "text": [
      "[I 2023-11-03 23:36:37,361] Trial 11 finished with value: 60.970688566773084 and parameters: {'n_estimators': 999, 'reg_alpha': 8.469398177879471, 'reg_lambda': 0.0013771992503597333, 'colsample_bytree': 0.6, 'subsample': 0.4, 'learning_rate': 0.04168172197727145, 'max_depth': 36, 'num_leaves': 222, 'min_child_samples': 189, 'min_data_per_groups': 71}. Best is trial 1 with value: 59.18445280050364.\n"
     ]
    },
    {
     "name": "stdout",
     "output_type": "stream",
     "text": [
      "5 --> 55.87083833003399\n",
      "Mean : 60.970688566773084\n",
      "Std : 8.26314607429807\n",
      "1 --> 55.566690568602475\n",
      "2 --> 74.54271827562944\n",
      "3 --> 50.34683584073849\n",
      "4 --> 58.28790559900595\n"
     ]
    },
    {
     "name": "stderr",
     "output_type": "stream",
     "text": [
      "[I 2023-11-03 23:36:41,289] Trial 12 finished with value: 58.402317565279375 and parameters: {'n_estimators': 536, 'reg_alpha': 6.031356650991469, 'reg_lambda': 0.0018625269105163721, 'colsample_bytree': 0.6, 'subsample': 0.4, 'learning_rate': 0.019077915335731922, 'max_depth': 33, 'num_leaves': 424, 'min_child_samples': 215, 'min_data_per_groups': 81}. Best is trial 12 with value: 58.402317565279375.\n"
     ]
    },
    {
     "name": "stdout",
     "output_type": "stream",
     "text": [
      "5 --> 53.26743754242053\n",
      "Mean : 58.402317565279375\n",
      "Std : 8.48320911349644\n",
      "1 --> 56.40117938354061\n",
      "2 --> 74.7207420397251\n",
      "3 --> 50.64870141447419\n",
      "4 --> 58.415278260933945\n"
     ]
    },
    {
     "name": "stderr",
     "output_type": "stream",
     "text": [
      "[I 2023-11-03 23:36:44,202] Trial 13 finished with value: 58.62694680412352 and parameters: {'n_estimators': 552, 'reg_alpha': 2.1374975439941064, 'reg_lambda': 0.2513707954807767, 'colsample_bytree': 0.3, 'subsample': 0.8, 'learning_rate': 0.01189946026014902, 'max_depth': 30, 'num_leaves': 481, 'min_child_samples': 245, 'min_data_per_groups': 98}. Best is trial 12 with value: 58.402317565279375.\n"
     ]
    },
    {
     "name": "stdout",
     "output_type": "stream",
     "text": [
      "5 --> 52.94883292194377\n",
      "Mean : 58.62694680412352\n",
      "Std : 8.48413184745074\n",
      "1 --> 57.052091254694815\n",
      "2 --> 74.92870106257709\n",
      "3 --> 51.55010837787142\n",
      "4 --> 58.14510755545257\n"
     ]
    },
    {
     "name": "stderr",
     "output_type": "stream",
     "text": [
      "[I 2023-11-03 23:36:46,636] Trial 14 finished with value: 58.93709910481509 and parameters: {'n_estimators': 507, 'reg_alpha': 2.9329852902927285, 'reg_lambda': 0.21872996131704728, 'colsample_bytree': 0.3, 'subsample': 0.8, 'learning_rate': 0.0096308846197362, 'max_depth': 29, 'num_leaves': 495, 'min_child_samples': 243, 'min_data_per_groups': 95}. Best is trial 12 with value: 58.402317565279375.\n"
     ]
    },
    {
     "name": "stdout",
     "output_type": "stream",
     "text": [
      "5 --> 53.0094872734796\n",
      "Mean : 58.93709910481509\n",
      "Std : 8.362009954642657\n",
      "1 --> 55.09156137941138\n",
      "2 --> 74.88884534351168\n",
      "3 --> 50.70516859170699\n",
      "4 --> 57.19166970788943\n"
     ]
    },
    {
     "name": "stderr",
     "output_type": "stream",
     "text": [
      "[I 2023-11-03 23:36:51,270] Trial 15 finished with value: 58.118918369843506 and parameters: {'n_estimators': 538, 'reg_alpha': 2.4149551152310975, 'reg_lambda': 0.0044050659923897, 'colsample_bytree': 0.5, 'subsample': 0.8, 'learning_rate': 0.009447774116506838, 'max_depth': 27, 'num_leaves': 461, 'min_child_samples': 157, 'min_data_per_groups': 81}. Best is trial 15 with value: 58.118918369843506.\n"
     ]
    },
    {
     "name": "stdout",
     "output_type": "stream",
     "text": [
      "5 --> 52.717346826698\n",
      "Mean : 58.118918369843506\n",
      "Std : 8.664823045386624\n",
      "1 --> 67.05008596333741\n",
      "2 --> 80.06273266834916\n",
      "3 --> 66.39109096795615\n",
      "4 --> 68.38665986163662\n"
     ]
    },
    {
     "name": "stderr",
     "output_type": "stream",
     "text": [
      "[I 2023-11-03 23:36:55,347] Trial 16 finished with value: 69.42621910326935 and parameters: {'n_estimators': 370, 'reg_alpha': 0.12473152190974329, 'reg_lambda': 0.0033638785679931055, 'colsample_bytree': 0.5, 'subsample': 0.8, 'learning_rate': 0.005602767265691612, 'max_depth': 23, 'num_leaves': 400, 'min_child_samples': 119, 'min_data_per_groups': 78}. Best is trial 15 with value: 58.118918369843506.\n"
     ]
    },
    {
     "name": "stdout",
     "output_type": "stream",
     "text": [
      "5 --> 65.2405260550673\n",
      "Mean : 69.42621910326935\n",
      "Std : 5.414686362610678\n",
      "1 --> 91.64616337162172\n",
      "2 --> 98.82077732422816\n",
      "3 --> 92.19384648139248\n",
      "4 --> 90.9334497907907\n"
     ]
    },
    {
     "name": "stderr",
     "output_type": "stream",
     "text": [
      "[I 2023-11-03 23:37:01,542] Trial 17 finished with value: 92.49266020498537 and parameters: {'n_estimators': 594, 'reg_alpha': 2.6925024958032595, 'reg_lambda': 0.004511007777564842, 'colsample_bytree': 0.5, 'subsample': 0.5, 'learning_rate': 0.002051912851085928, 'max_depth': 16, 'num_leaves': 596, 'min_child_samples': 147, 'min_data_per_groups': 59}. Best is trial 15 with value: 58.118918369843506.\n"
     ]
    },
    {
     "name": "stdout",
     "output_type": "stream",
     "text": [
      "5 --> 88.8690640568938\n",
      "Mean : 92.49266020498537\n",
      "Std : 3.358943255410931\n",
      "1 --> 55.2361113551146\n",
      "2 --> 74.62297423663725\n",
      "3 --> 50.94870093058118\n",
      "4 --> 56.948921824582605\n"
     ]
    },
    {
     "name": "stderr",
     "output_type": "stream",
     "text": [
      "[I 2023-11-03 23:37:05,154] Trial 18 finished with value: 58.05667703007722 and parameters: {'n_estimators': 409, 'reg_alpha': 5.417378567706603, 'reg_lambda': 0.004360392551805239, 'colsample_bytree': 0.5, 'subsample': 0.8, 'learning_rate': 0.01260887379569523, 'max_depth': 27, 'num_leaves': 427, 'min_child_samples': 157, 'min_data_per_groups': 80}. Best is trial 18 with value: 58.05667703007722.\n"
     ]
    },
    {
     "name": "stdout",
     "output_type": "stream",
     "text": [
      "5 --> 52.52667680347043\n",
      "Mean : 58.05667703007722\n",
      "Std : 8.540833006158525\n",
      "1 --> 58.0679154517959\n",
      "2 --> 75.86719782830974\n",
      "3 --> 55.63169176763431\n",
      "4 --> 59.85798946961373\n"
     ]
    },
    {
     "name": "stderr",
     "output_type": "stream",
     "text": [
      "[I 2023-11-03 23:37:08,754] Trial 19 finished with value: 61.048883945598924 and parameters: {'n_estimators': 416, 'reg_alpha': 1.5589817084248871, 'reg_lambda': 0.004049656039334597, 'colsample_bytree': 0.5, 'subsample': 0.8, 'learning_rate': 0.007522638823278548, 'max_depth': 12, 'num_leaves': 584, 'min_child_samples': 155, 'min_data_per_groups': 47}. Best is trial 18 with value: 58.05667703007722.\n"
     ]
    },
    {
     "name": "stdout",
     "output_type": "stream",
     "text": [
      "5 --> 55.81962521064094\n",
      "Mean : 61.048883945598924\n",
      "Std : 7.570706006055893\n",
      "1 --> 119.6184338429908\n",
      "2 --> 123.81316799237108\n",
      "3 --> 120.51563294451273\n",
      "4 --> 117.30853474813841\n"
     ]
    },
    {
     "name": "stderr",
     "output_type": "stream",
     "text": [
      "[I 2023-11-03 23:37:10,751] Trial 20 finished with value: 119.25227638278395 and parameters: {'n_estimators': 234, 'reg_alpha': 3.389099840316092, 'reg_lambda': 0.007043145463749691, 'colsample_bytree': 0.5, 'subsample': 0.8, 'learning_rate': 0.003191870466094739, 'max_depth': 26, 'num_leaves': 316, 'min_child_samples': 134, 'min_data_per_groups': 65}. Best is trial 18 with value: 58.05667703007722.\n"
     ]
    },
    {
     "name": "stdout",
     "output_type": "stream",
     "text": [
      "5 --> 115.00561238590674\n",
      "Mean : 119.25227638278395\n",
      "Std : 2.978058428129245\n",
      "1 --> 55.246209155746364\n",
      "2 --> 74.21536976658629\n",
      "3 --> 50.22297211650462\n",
      "4 --> 57.16005109885511\n"
     ]
    },
    {
     "name": "stderr",
     "output_type": "stream",
     "text": [
      "[I 2023-11-03 23:37:13,637] Trial 21 finished with value: 57.91770454667305 and parameters: {'n_estimators': 427, 'reg_alpha': 9.661610059726769, 'reg_lambda': 0.002246888642378946, 'colsample_bytree': 0.5, 'subsample': 0.4, 'learning_rate': 0.01624027907121199, 'max_depth': 31, 'num_leaves': 434, 'min_child_samples': 211, 'min_data_per_groups': 83}. Best is trial 21 with value: 57.91770454667305.\n"
     ]
    },
    {
     "name": "stdout",
     "output_type": "stream",
     "text": [
      "5 --> 52.74392059567287\n",
      "Mean : 57.91770454667305\n",
      "Std : 8.477048608267095\n",
      "1 --> 55.04380053157454\n",
      "2 --> 75.02065036440206\n",
      "3 --> 51.225189587359125\n",
      "4 --> 57.56987757790002\n"
     ]
    },
    {
     "name": "stderr",
     "output_type": "stream",
     "text": [
      "[I 2023-11-03 23:37:16,576] Trial 22 finished with value: 58.38454766247836 and parameters: {'n_estimators': 321, 'reg_alpha': 9.520423598853922, 'reg_lambda': 0.0028199192983719957, 'colsample_bytree': 0.5, 'subsample': 0.8, 'learning_rate': 0.013704134675535487, 'max_depth': 26, 'num_leaves': 498, 'min_child_samples': 157, 'min_data_per_groups': 87}. Best is trial 21 with value: 57.91770454667305.\n"
     ]
    },
    {
     "name": "stdout",
     "output_type": "stream",
     "text": [
      "5 --> 53.06322025115605\n",
      "Mean : 58.38454766247836\n",
      "Std : 8.580875541744762\n",
      "1 --> 56.2141278106505\n",
      "2 --> 75.33805775170862\n",
      "3 --> 52.05050557425823\n",
      "4 --> 57.63011885060936\n"
     ]
    },
    {
     "name": "stderr",
     "output_type": "stream",
     "text": [
      "[I 2023-11-03 23:37:21,699] Trial 23 finished with value: 58.92941880522808 and parameters: {'n_estimators': 641, 'reg_alpha': 4.72157100164819, 'reg_lambda': 0.001011241767655592, 'colsample_bytree': 0.5, 'subsample': 0.8, 'learning_rate': 0.006363609467561877, 'max_depth': 41, 'num_leaves': 348, 'min_child_samples': 181, 'min_data_per_groups': 83}. Best is trial 21 with value: 57.91770454667305.\n"
     ]
    },
    {
     "name": "stdout",
     "output_type": "stream",
     "text": [
      "5 --> 53.41428403891365\n",
      "Mean : 58.92941880522808\n",
      "Std : 8.438490106210784\n",
      "1 --> 54.956116026751815\n",
      "2 --> 75.13664987654197\n",
      "3 --> 50.110665691326794\n",
      "4 --> 57.13112555739409\n"
     ]
    },
    {
     "name": "stderr",
     "output_type": "stream",
     "text": [
      "[I 2023-11-03 23:37:29,034] Trial 24 finished with value: 58.1913251559893 and parameters: {'n_estimators': 469, 'reg_alpha': 1.4296579959433284, 'reg_lambda': 0.007499693422612697, 'colsample_bytree': 0.5, 'subsample': 0.4, 'learning_rate': 0.01629606346059605, 'max_depth': 21, 'num_leaves': 716, 'min_child_samples': 98, 'min_data_per_groups': 74}. Best is trial 21 with value: 57.91770454667305.\n"
     ]
    },
    {
     "name": "stdout",
     "output_type": "stream",
     "text": [
      "5 --> 53.62206862793182\n",
      "Mean : 58.1913251559893\n",
      "Std : 8.773936331963801\n",
      "1 --> 63.79129067889992\n",
      "2 --> 78.1454365463941\n",
      "3 --> 58.12001203305665\n",
      "4 --> 62.149503469921314\n"
     ]
    },
    {
     "name": "stderr",
     "output_type": "stream",
     "text": [
      "[I 2023-11-03 23:37:31,765] Trial 25 finished with value: 64.12699050190028 and parameters: {'n_estimators': 306, 'reg_alpha': 4.360034656174261, 'reg_lambda': 0.002463073779826335, 'colsample_bytree': 0.7, 'subsample': 0.8, 'learning_rate': 0.009413230286150077, 'max_depth': 30, 'num_leaves': 424, 'min_child_samples': 261, 'min_data_per_groups': 66}. Best is trial 21 with value: 57.91770454667305.\n"
     ]
    },
    {
     "name": "stdout",
     "output_type": "stream",
     "text": [
      "5 --> 58.42870978122946\n",
      "Mean : 64.12699050190028\n",
      "Std : 7.33613211892904\n",
      "1 --> 55.02867596754978\n",
      "2 --> 74.94067754120681\n",
      "3 --> 52.00830554606095\n",
      "4 --> 57.35950212918616\n"
     ]
    },
    {
     "name": "stderr",
     "output_type": "stream",
     "text": [
      "[I 2023-11-03 23:37:33,860] Trial 26 finished with value: 58.553185169575706 and parameters: {'n_estimators': 144, 'reg_alpha': 9.738301295731977, 'reg_lambda': 0.005660909780360347, 'colsample_bytree': 0.4, 'subsample': 0.6, 'learning_rate': 0.029664721186125457, 'max_depth': 21, 'num_leaves': 547, 'min_child_samples': 166, 'min_data_per_groups': 92}. Best is trial 21 with value: 57.91770454667305.\n"
     ]
    },
    {
     "name": "stdout",
     "output_type": "stream",
     "text": [
      "5 --> 53.428764663874844\n",
      "Mean : 58.553185169575706\n",
      "Std : 8.384415129892993\n",
      "1 --> 63.68009707460596\n",
      "2 --> 78.01555421889066\n",
      "3 --> 59.765286504713345\n",
      "4 --> 63.28027073038057\n"
     ]
    },
    {
     "name": "stderr",
     "output_type": "stream",
     "text": [
      "[I 2023-11-03 23:37:38,337] Trial 27 finished with value: 64.90249178315331 and parameters: {'n_estimators': 485, 'reg_alpha': 3.4979249169636724, 'reg_lambda': 0.002380052661598963, 'colsample_bytree': 0.5, 'subsample': 0.5, 'learning_rate': 0.005393601920824873, 'max_depth': 28, 'num_leaves': 268, 'min_child_samples': 205, 'min_data_per_groups': 54}. Best is trial 21 with value: 57.91770454667305.\n"
     ]
    },
    {
     "name": "stdout",
     "output_type": "stream",
     "text": [
      "5 --> 59.771250387176046\n",
      "Mean : 64.90249178315331\n",
      "Std : 6.7645956678534995\n",
      "1 --> 59.847523728938945\n",
      "2 --> 76.51420939546536\n",
      "3 --> 51.21684967422118\n",
      "4 --> 58.31856362293819\n"
     ]
    },
    {
     "name": "stderr",
     "output_type": "stream",
     "text": [
      "[I 2023-11-03 23:37:43,237] Trial 28 finished with value: 60.122765955147905 and parameters: {'n_estimators': 407, 'reg_alpha': 1.5491512774943037, 'reg_lambda': 0.008095392476890615, 'colsample_bytree': 0.5, 'subsample': 0.4, 'learning_rate': 0.050843923641172774, 'max_depth': 32, 'num_leaves': 139, 'min_child_samples': 139, 'min_data_per_groups': 100}. Best is trial 21 with value: 57.91770454667305.\n"
     ]
    },
    {
     "name": "stdout",
     "output_type": "stream",
     "text": [
      "5 --> 54.71668335417582\n",
      "Mean : 60.122765955147905\n",
      "Std : 8.724120543495193\n",
      "1 --> 55.37440910994544\n",
      "2 --> 75.80036262333495\n",
      "3 --> 50.79523581524959\n",
      "4 --> 57.58228165608732\n"
     ]
    },
    {
     "name": "stderr",
     "output_type": "stream",
     "text": [
      "[I 2023-11-03 23:37:56,792] Trial 29 finished with value: 58.71648180397624 and parameters: {'n_estimators': 827, 'reg_alpha': 4.543208855676713, 'reg_lambda': 0.0255616123072828, 'colsample_bytree': 0.7, 'subsample': 0.7, 'learning_rate': 0.013384430247487037, 'max_depth': 39, 'num_leaves': 715, 'min_child_samples': 107, 'min_data_per_groups': 44}. Best is trial 21 with value: 57.91770454667305.\n"
     ]
    },
    {
     "name": "stdout",
     "output_type": "stream",
     "text": [
      "5 --> 54.03011981526389\n",
      "Mean : 58.71648180397624\n",
      "Std : 8.820691247525627\n",
      "1 --> 83.29986035110682\n",
      "2 --> 92.13528453869515\n",
      "3 --> 83.96955798874829\n",
      "4 --> 83.79051474238159\n"
     ]
    },
    {
     "name": "stderr",
     "output_type": "stream",
     "text": [
      "[I 2023-11-03 23:38:06,435] Trial 30 finished with value: 84.95932784151483 and parameters: {'n_estimators': 605, 'reg_alpha': 0.8727993153621427, 'reg_lambda': 0.0011155375847097342, 'colsample_bytree': 0.5, 'subsample': 0.8, 'learning_rate': 0.0023279036725167477, 'max_depth': 44, 'num_leaves': 830, 'min_child_samples': 125, 'min_data_per_groups': 84}. Best is trial 21 with value: 57.91770454667305.\n"
     ]
    },
    {
     "name": "stdout",
     "output_type": "stream",
     "text": [
      "5 --> 81.60142158664227\n",
      "Mean : 84.95932784151483\n",
      "Std : 3.684277126118264\n",
      "1 --> 54.71416805512299\n",
      "2 --> 75.14054867695123\n",
      "3 --> 50.07982787125664\n",
      "4 --> 57.08677818690928\n"
     ]
    },
    {
     "name": "stderr",
     "output_type": "stream",
     "text": [
      "[I 2023-11-03 23:38:14,398] Trial 31 finished with value: 58.20652484665281 and parameters: {'n_estimators': 467, 'reg_alpha': 1.6148477009656317, 'reg_lambda': 0.007993410162723667, 'colsample_bytree': 0.5, 'subsample': 0.4, 'learning_rate': 0.0177514443344081, 'max_depth': 20, 'num_leaves': 817, 'min_child_samples': 92, 'min_data_per_groups': 75}. Best is trial 21 with value: 57.91770454667305.\n"
     ]
    },
    {
     "name": "stdout",
     "output_type": "stream",
     "text": [
      "5 --> 54.01130144302391\n",
      "Mean : 58.20652484665281\n",
      "Std : 8.761902245091928\n",
      "1 --> 54.59939658544388\n",
      "2 --> 74.80087423591809\n",
      "3 --> 49.68865402867837\n",
      "4 --> 57.17300953551643\n"
     ]
    },
    {
     "name": "stderr",
     "output_type": "stream",
     "text": [
      "[I 2023-11-03 23:38:20,867] Trial 32 finished with value: 57.97054050944989 and parameters: {'n_estimators': 453, 'reg_alpha': 1.4848551290031387, 'reg_lambda': 0.004214021907149654, 'colsample_bytree': 0.5, 'subsample': 0.4, 'learning_rate': 0.018134630998588527, 'max_depth': 24, 'num_leaves': 661, 'min_child_samples': 102, 'min_data_per_groups': 62}. Best is trial 21 with value: 57.91770454667305.\n"
     ]
    },
    {
     "name": "stdout",
     "output_type": "stream",
     "text": [
      "5 --> 53.590768161692715\n",
      "Mean : 57.97054050944989\n",
      "Std : 8.752517921759466\n",
      "1 --> 55.72033332405505\n",
      "2 --> 74.16609544752431\n",
      "3 --> 50.16436411335887\n",
      "4 --> 57.86345069818502\n"
     ]
    },
    {
     "name": "stderr",
     "output_type": "stream",
     "text": [
      "[I 2023-11-03 23:38:23,431] Trial 33 finished with value: 58.127008078371794 and parameters: {'n_estimators': 313, 'reg_alpha': 5.0483788342429605, 'reg_lambda': 0.003765963684169005, 'colsample_bytree': 0.5, 'subsample': 0.4, 'learning_rate': 0.025760154465154117, 'max_depth': 24, 'num_leaves': 625, 'min_child_samples': 225, 'min_data_per_groups': 63}. Best is trial 21 with value: 57.91770454667305.\n"
     ]
    },
    {
     "name": "stdout",
     "output_type": "stream",
     "text": [
      "5 --> 52.72079680873571\n",
      "Mean : 58.127008078371794\n",
      "Std : 8.434982972200018\n",
      "1 --> 55.660489968257295\n",
      "2 --> 74.73448743284634\n",
      "3 --> 50.93174489221106\n",
      "4 --> 58.23350066097339\n"
     ]
    },
    {
     "name": "stderr",
     "output_type": "stream",
     "text": [
      "[I 2023-11-03 23:38:31,728] Trial 34 finished with value: 58.32273126599896 and parameters: {'n_estimators': 699, 'reg_alpha': 0.9892371394311449, 'reg_lambda': 0.0019852804941096107, 'colsample_bytree': 0.9, 'subsample': 0.4, 'learning_rate': 0.008478222322699132, 'max_depth': 13, 'num_leaves': 465, 'min_child_samples': 192, 'min_data_per_groups': 89}. Best is trial 21 with value: 57.91770454667305.\n"
     ]
    },
    {
     "name": "stdout",
     "output_type": "stream",
     "text": [
      "5 --> 52.05343337570674\n",
      "Mean : 58.32273126599896\n",
      "Std : 8.60664867324173\n",
      "1 --> 56.25041753206076\n",
      "2 --> 75.42196331403912\n",
      "3 --> 50.794570146505194\n",
      "4 --> 58.06826023420693\n"
     ]
    },
    {
     "name": "stderr",
     "output_type": "stream",
     "text": [
      "[I 2023-11-03 23:38:38,572] Trial 35 finished with value: 58.775370751438004 and parameters: {'n_estimators': 567, 'reg_alpha': 0.5540212064499875, 'reg_lambda': 0.012029878158865814, 'colsample_bytree': 0.8, 'subsample': 0.4, 'learning_rate': 0.02045962382719584, 'max_depth': 26, 'num_leaves': 535, 'min_child_samples': 171, 'min_data_per_groups': 33}. Best is trial 21 with value: 57.91770454667305.\n"
     ]
    },
    {
     "name": "stdout",
     "output_type": "stream",
     "text": [
      "5 --> 53.34164253037803\n",
      "Mean : 58.775370751438004\n",
      "Std : 8.685655054915646\n",
      "1 --> 54.35362982050797\n",
      "2 --> 74.61392419554222\n",
      "3 --> 50.4356539032859\n",
      "4 --> 57.05547305769553\n"
     ]
    },
    {
     "name": "stderr",
     "output_type": "stream",
     "text": [
      "[I 2023-11-03 23:38:44,472] Trial 36 finished with value: 57.82033727955019 and parameters: {'n_estimators': 438, 'reg_alpha': 1.9835010380969074, 'reg_lambda': 0.03244262418358882, 'colsample_bytree': 0.5, 'subsample': 1.0, 'learning_rate': 0.01125176164613616, 'max_depth': 35, 'num_leaves': 648, 'min_child_samples': 126, 'min_data_per_groups': 69}. Best is trial 36 with value: 57.82033727955019.\n"
     ]
    },
    {
     "name": "stdout",
     "output_type": "stream",
     "text": [
      "5 --> 52.6430054207193\n",
      "Mean : 57.82033727955019\n",
      "Std : 8.67140073037304\n",
      "1 --> 78.32897577130646\n",
      "2 --> 88.53830711227737\n",
      "3 --> 79.91983206240157\n",
      "4 --> 80.06651506176965\n"
     ]
    },
    {
     "name": "stderr",
     "output_type": "stream",
     "text": [
      "[I 2023-11-03 23:38:49,388] Trial 37 finished with value: 80.95127726380227 and parameters: {'n_estimators': 346, 'reg_alpha': 0.20180139250579165, 'reg_lambda': 0.04137945160857078, 'colsample_bytree': 0.3, 'subsample': 1.0, 'learning_rate': 0.004356418110524909, 'max_depth': 35, 'num_leaves': 674, 'min_child_samples': 65, 'min_data_per_groups': 68}. Best is trial 36 with value: 57.82033727955019.\n"
     ]
    },
    {
     "name": "stdout",
     "output_type": "stream",
     "text": [
      "5 --> 77.90275631125637\n",
      "Mean : 80.95127726380227\n",
      "Std : 3.887921048451146\n",
      "1 --> 62.400285706220025\n",
      "2 --> 78.30303245994406\n",
      "3 --> 63.821696653519396\n",
      "4 --> 66.86391653154195\n"
     ]
    },
    {
     "name": "stderr",
     "output_type": "stream",
     "text": [
      "[I 2023-11-03 23:38:55,399] Trial 38 finished with value: 67.06655966231423 and parameters: {'n_estimators': 162, 'reg_alpha': 0.5479655936813268, 'reg_lambda': 0.017721279649043433, 'colsample_bytree': 0.4, 'subsample': 1.0, 'learning_rate': 0.013212642869920688, 'max_depth': 46, 'num_leaves': 907, 'min_child_samples': 34, 'min_data_per_groups': 60}. Best is trial 36 with value: 57.82033727955019.\n"
     ]
    },
    {
     "name": "stdout",
     "output_type": "stream",
     "text": [
      "5 --> 63.94386696034579\n",
      "Mean : 67.06655966231423\n",
      "Std : 5.802651867214154\n",
      "1 --> 68.44255100722238\n",
      "2 --> 82.06137902510224\n",
      "3 --> 68.5040821616789\n",
      "4 --> 71.08073765396136\n"
     ]
    },
    {
     "name": "stderr",
     "output_type": "stream",
     "text": [
      "[I 2023-11-03 23:39:06,364] Trial 39 finished with value: 71.52619576585366 and parameters: {'n_estimators': 456, 'reg_alpha': 5.76737011449132, 'reg_lambda': 0.011649166957175187, 'colsample_bytree': 1.0, 'subsample': 1.0, 'learning_rate': 0.004217945954434193, 'max_depth': 49, 'num_leaves': 768, 'min_child_samples': 83, 'min_data_per_groups': 20}. Best is trial 36 with value: 57.82033727955019.\n"
     ]
    },
    {
     "name": "stdout",
     "output_type": "stream",
     "text": [
      "5 --> 67.5422289813034\n",
      "Mean : 71.52619576585366\n",
      "Std : 5.398194998511528\n",
      "1 --> 55.95289885787581\n",
      "2 --> 75.71817348659117\n",
      "3 --> 50.52811651582549\n",
      "4 --> 58.187826301628434\n"
     ]
    },
    {
     "name": "stderr",
     "output_type": "stream",
     "text": [
      "[I 2023-11-03 23:39:13,472] Trial 40 finished with value: 58.85431389283434 and parameters: {'n_estimators': 424, 'reg_alpha': 1.153123728288568, 'reg_lambda': 0.03279542762151941, 'colsample_bytree': 0.7, 'subsample': 0.7, 'learning_rate': 0.025216126190315102, 'max_depth': 32, 'num_leaves': 652, 'min_child_samples': 124, 'min_data_per_groups': 78}. Best is trial 36 with value: 57.82033727955019.\n"
     ]
    },
    {
     "name": "stdout",
     "output_type": "stream",
     "text": [
      "5 --> 53.88455430225084\n",
      "Mean : 58.85431389283434\n",
      "Std : 8.80086641713604\n",
      "1 --> 53.531469650991134\n",
      "2 --> 74.45484137575525\n",
      "3 --> 50.351668790380025\n",
      "4 --> 57.085774241193555\n"
     ]
    },
    {
     "name": "stderr",
     "output_type": "stream",
     "text": [
      "[I 2023-11-03 23:39:21,860] Trial 41 finished with value: 57.62493198728326 and parameters: {'n_estimators': 529, 'reg_alpha': 2.3639688241709598, 'reg_lambda': 0.00448381361714765, 'colsample_bytree': 0.5, 'subsample': 0.6, 'learning_rate': 0.008956356626491089, 'max_depth': 28, 'num_leaves': 534, 'min_child_samples': 106, 'min_data_per_groups': 80}. Best is trial 41 with value: 57.62493198728326.\n"
     ]
    },
    {
     "name": "stdout",
     "output_type": "stream",
     "text": [
      "5 --> 52.70090587809634\n",
      "Mean : 57.62493198728326\n",
      "Std : 8.688375747553394\n",
      "1 --> 73.28560531081091\n",
      "2 --> 84.33601973696456\n",
      "3 --> 73.5310206840306\n",
      "4 --> 74.5873362063269\n"
     ]
    },
    {
     "name": "stderr",
     "output_type": "stream",
     "text": [
      "[I 2023-11-03 23:39:26,754] Trial 42 finished with value: 75.53549643369834 and parameters: {'n_estimators': 262, 'reg_alpha': 1.8429452311926213, 'reg_lambda': 0.0018033569587580646, 'colsample_bytree': 0.5, 'subsample': 0.6, 'learning_rate': 0.00660738613553064, 'max_depth': 38, 'num_leaves': 543, 'min_child_samples': 102, 'min_data_per_groups': 69}. Best is trial 41 with value: 57.62493198728326.\n"
     ]
    },
    {
     "name": "stdout",
     "output_type": "stream",
     "text": [
      "5 --> 71.93750023035872\n",
      "Mean : 75.53549643369834\n",
      "Std : 4.480484973821492\n",
      "1 --> 54.03377814224862\n",
      "2 --> 74.9556399722078\n",
      "3 --> 50.769798155776876\n",
      "4 --> 57.32650090175206\n"
     ]
    },
    {
     "name": "stderr",
     "output_type": "stream",
     "text": [
      "[I 2023-11-03 23:39:33,383] Trial 43 finished with value: 58.154216135042624 and parameters: {'n_estimators': 370, 'reg_alpha': 2.4935137449631886, 'reg_lambda': 0.005741997269722839, 'colsample_bytree': 0.8, 'subsample': 0.6, 'learning_rate': 0.011696626375439945, 'max_depth': 31, 'num_leaves': 561, 'min_child_samples': 112, 'min_data_per_groups': 52}. Best is trial 41 with value: 57.62493198728326.\n"
     ]
    },
    {
     "name": "stdout",
     "output_type": "stream",
     "text": [
      "5 --> 53.68536350322775\n",
      "Mean : 58.154216135042624\n",
      "Std : 8.653915153886429\n",
      "1 --> 56.0021807377028\n",
      "2 --> 74.67154109324157\n",
      "3 --> 50.185973970143515\n",
      "4 --> 57.84663400591597\n"
     ]
    },
    {
     "name": "stderr",
     "output_type": "stream",
     "text": [
      "[I 2023-11-03 23:39:41,060] Trial 44 finished with value: 58.42678002004122 and parameters: {'n_estimators': 629, 'reg_alpha': 0.6922288768908085, 'reg_lambda': 0.06515850898181125, 'colsample_bytree': 0.5, 'subsample': 0.6, 'learning_rate': 0.01672857602806794, 'max_depth': 36, 'num_leaves': 357, 'min_child_samples': 136, 'min_data_per_groups': 86}. Best is trial 41 with value: 57.62493198728326.\n"
     ]
    },
    {
     "name": "stdout",
     "output_type": "stream",
     "text": [
      "5 --> 53.42757029320226\n",
      "Mean : 58.42678002004122\n",
      "Std : 8.520686540977069\n",
      "1 --> 57.30440226464566\n",
      "2 --> 75.72890899050934\n",
      "3 --> 51.529510929606964\n",
      "4 --> 60.450965254899565\n"
     ]
    },
    {
     "name": "stderr",
     "output_type": "stream",
     "text": [
      "[I 2023-11-03 23:39:45,701] Trial 45 finished with value: 59.81364312819736 and parameters: {'n_estimators': 429, 'reg_alpha': 0.3347781813249374, 'reg_lambda': 0.022043170091192058, 'colsample_bytree': 0.9, 'subsample': 1.0, 'learning_rate': 0.0205993940110808, 'max_depth': 24, 'num_leaves': 768, 'min_child_samples': 300, 'min_data_per_groups': 75}. Best is trial 41 with value: 57.62493198728326.\n"
     ]
    },
    {
     "name": "stdout",
     "output_type": "stream",
     "text": [
      "5 --> 54.05442820132525\n",
      "Mean : 59.81364312819736\n",
      "Std : 8.506392414298833\n",
      "1 --> 58.559979373526296\n",
      "2 --> 76.33274730594471\n",
      "3 --> 50.77628412477767\n",
      "4 --> 58.165568487555895\n"
     ]
    },
    {
     "name": "stderr",
     "output_type": "stream",
     "text": [
      "[I 2023-11-03 23:39:52,251] Trial 46 finished with value: 59.749545709757264 and parameters: {'n_estimators': 513, 'reg_alpha': 6.594145263660922, 'reg_lambda': 0.012533424347760514, 'colsample_bytree': 0.5, 'subsample': 0.6, 'learning_rate': 0.038138566691057765, 'max_depth': 18, 'num_leaves': 653, 'min_child_samples': 88, 'min_data_per_groups': 93}. Best is trial 41 with value: 57.62493198728326.\n"
     ]
    },
    {
     "name": "stdout",
     "output_type": "stream",
     "text": [
      "5 --> 54.91314925698174\n",
      "Mean : 59.749545709757264\n",
      "Std : 8.750277495136148\n",
      "1 --> 55.52458583918083\n",
      "2 --> 76.3460958582591\n",
      "3 --> 50.91739162177345\n",
      "4 --> 57.559176057243874\n"
     ]
    },
    {
     "name": "stderr",
     "output_type": "stream",
     "text": [
      "[I 2023-11-03 23:40:16,248] Trial 47 finished with value: 58.909845583352286 and parameters: {'n_estimators': 735, 'reg_alpha': 3.342985309379711, 'reg_lambda': 0.002843361398064511, 'colsample_bytree': 1.0, 'subsample': 1.0, 'learning_rate': 0.009985568954851722, 'max_depth': 28, 'num_leaves': 427, 'min_child_samples': 57, 'min_data_per_groups': 62}. Best is trial 41 with value: 57.62493198728326.\n"
     ]
    },
    {
     "name": "stdout",
     "output_type": "stream",
     "text": [
      "5 --> 54.2019785403042\n",
      "Mean : 58.909845583352286\n",
      "Std : 8.981652941150971\n",
      "1 --> 56.36786438508091\n",
      "2 --> 76.20235955648647\n",
      "3 --> 52.29391507520132\n",
      "4 --> 58.22782863680474\n"
     ]
    },
    {
     "name": "stderr",
     "output_type": "stream",
     "text": [
      "[I 2023-11-03 23:40:25,782] Trial 48 finished with value: 59.59251049784109 and parameters: {'n_estimators': 273, 'reg_alpha': 6.751429152106341, 'reg_lambda': 0.0016024393544693807, 'colsample_bytree': 0.6, 'subsample': 0.4, 'learning_rate': 0.05554034466492224, 'max_depth': 34, 'num_leaves': 271, 'min_child_samples': 32, 'min_data_per_groups': 79}. Best is trial 41 with value: 57.62493198728326.\n"
     ]
    },
    {
     "name": "stdout",
     "output_type": "stream",
     "text": [
      "5 --> 54.87058483563205\n",
      "Mean : 59.59251049784109\n",
      "Std : 8.528937354538025\n",
      "1 --> 55.55854026152474\n",
      "2 --> 75.12344209547919\n",
      "3 --> 50.41486740842185\n",
      "4 --> 57.49468915731587\n"
     ]
    },
    {
     "name": "stderr",
     "output_type": "stream",
     "text": [
      "[I 2023-11-03 23:40:33,198] Trial 49 finished with value: 58.48146911136818 and parameters: {'n_estimators': 375, 'reg_alpha': 2.1301242105023404, 'reg_lambda': 0.0051196857523304285, 'colsample_bytree': 0.5, 'subsample': 0.5, 'learning_rate': 0.02374747849623242, 'max_depth': 40, 'num_leaves': 709, 'min_child_samples': 68, 'min_data_per_groups': 70}. Best is trial 41 with value: 57.62493198728326.\n"
     ]
    },
    {
     "name": "stdout",
     "output_type": "stream",
     "text": [
      "5 --> 53.815806634099246\n",
      "Mean : 58.48146911136818\n",
      "Std : 8.64072892675866\n",
      "__________\n",
      "__________\n",
      "__________\n"
     ]
    },
    {
     "data": {
      "image/png": "[encoded data removed]",
      "text/plain": [
       "<Figure size 1500x600 with 1 Axes>"
      ]
     },
     "metadata": {},
     "output_type": "display_data"
    },
    {
     "name": "stdout",
     "output_type": "stream",
     "text": [
      "1 --> 105.76986058913741\n",
      "2 --> 41.7837030647276\n",
      "3 --> 68.48449139997925\n",
      "4 --> 44.03814152035701\n"
     ]
    },
    {
     "name": "stderr",
     "output_type": "stream",
     "text": [
      "[I 2023-11-03 23:40:38,252] A new study created in memory with name: no-name-36ae6ddb-b173-46f2-abda-8d2350561f64\n"
     ]
    },
    {
     "name": "stdout",
     "output_type": "stream",
     "text": [
      "5 --> 50.493961980481906\n",
      "Mean : 62.114031710936636\n",
      "Std : 23.75500048948792\n",
      "__________\n",
      "1 --> 110.8939471465386\n",
      "2 --> 41.922503354142115\n",
      "3 --> 68.8027439926159\n",
      "4 --> 44.124283628965735\n"
     ]
    },
    {
     "name": "stderr",
     "output_type": "stream",
     "text": [
      "[I 2023-11-03 23:40:40,707] Trial 0 finished with value: 63.505167769220876 and parameters: {'n_estimators': 410, 'reg_alpha': 0.018630593514738655, 'reg_lambda': 0.0031232319282800394, 'colsample_bytree': 0.4, 'subsample': 0.8, 'learning_rate': 0.0660314244127206, 'max_depth': 19, 'num_leaves': 983, 'min_child_samples': 262, 'min_data_per_groups': 9}. Best is trial 0 with value: 63.505167769220876.\n"
     ]
    },
    {
     "name": "stdout",
     "output_type": "stream",
     "text": [
      "5 --> 51.782360723842025\n",
      "Mean : 63.505167769220876\n",
      "Std : 25.50535239140937\n",
      "1 --> 145.89406958063304\n",
      "2 --> 81.21672416449076\n",
      "3 --> 112.10584475764932\n",
      "4 --> 86.87338245726015\n"
     ]
    },
    {
     "name": "stderr",
     "output_type": "stream",
     "text": [
      "[I 2023-11-03 23:40:49,095] Trial 1 finished with value: 102.60245724583596 and parameters: {'n_estimators': 979, 'reg_alpha': 6.757199344555777, 'reg_lambda': 0.1493890918382281, 'colsample_bytree': 0.6, 'subsample': 0.7, 'learning_rate': 0.0008562045139487013, 'max_depth': 37, 'num_leaves': 59, 'min_child_samples': 107, 'min_data_per_groups': 11}. Best is trial 0 with value: 63.505167769220876.\n"
     ]
    },
    {
     "name": "stdout",
     "output_type": "stream",
     "text": [
      "5 --> 86.92226526914656\n",
      "Mean : 102.60245724583596\n",
      "Std : 24.145806535723896\n",
      "1 --> 115.9252245848366\n",
      "2 --> 40.23039985403945\n",
      "3 --> 67.11101124219796\n",
      "4 --> 43.09628861519409\n"
     ]
    },
    {
     "name": "stderr",
     "output_type": "stream",
     "text": [
      "[I 2023-11-03 23:40:53,710] Trial 2 finished with value: 63.56689104174004 and parameters: {'n_estimators': 761, 'reg_alpha': 0.008191161432683154, 'reg_lambda': 0.5416479818038972, 'colsample_bytree': 0.7, 'subsample': 0.6, 'learning_rate': 0.012694260183781201, 'max_depth': 19, 'num_leaves': 674, 'min_child_samples': 292, 'min_data_per_groups': 56}. Best is trial 0 with value: 63.505167769220876.\n"
     ]
    },
    {
     "name": "stdout",
     "output_type": "stream",
     "text": [
      "5 --> 51.471530912432115\n",
      "Mean : 63.56689104174004\n",
      "Std : 27.79888846958609\n",
      "1 --> 108.84594336965259\n",
      "2 --> 41.94740184083159\n",
      "3 --> 71.86562279447361\n",
      "4 --> 44.254615049530614\n"
     ]
    },
    {
     "name": "stderr",
     "output_type": "stream",
     "text": [
      "[I 2023-11-03 23:41:13,928] Trial 3 finished with value: 63.7052178192969 and parameters: {'n_estimators': 821, 'reg_alpha': 0.06802749316358567, 'reg_lambda': 0.040073134839575766, 'colsample_bytree': 1.0, 'subsample': 0.6, 'learning_rate': 0.05998060509181463, 'max_depth': 23, 'num_leaves': 579, 'min_child_samples': 34, 'min_data_per_groups': 92}. Best is trial 0 with value: 63.505167769220876.\n"
     ]
    },
    {
     "name": "stdout",
     "output_type": "stream",
     "text": [
      "5 --> 51.61250604199611\n",
      "Mean : 63.7052178192969\n",
      "Std : 24.908791600398015\n",
      "1 --> 101.64716812989342\n",
      "2 --> 40.638694932788056\n",
      "3 --> 67.89863136691619\n",
      "4 --> 42.59220503793874\n"
     ]
    },
    {
     "name": "stderr",
     "output_type": "stream",
     "text": [
      "[I 2023-11-03 23:41:22,678] Trial 4 finished with value: 60.719995387007444 and parameters: {'n_estimators': 857, 'reg_alpha': 1.1225505744090147, 'reg_lambda': 0.0021941073449364317, 'colsample_bytree': 0.4, 'subsample': 0.5, 'learning_rate': 0.01984966605302855, 'max_depth': 41, 'num_leaves': 770, 'min_child_samples': 119, 'min_data_per_groups': 86}. Best is trial 4 with value: 60.719995387007444.\n"
     ]
    },
    {
     "name": "stdout",
     "output_type": "stream",
     "text": [
      "5 --> 50.8232774675008\n",
      "Mean : 60.719995387007444\n",
      "Std : 22.61144276559447\n",
      "1 --> 217.94064887619325\n",
      "2 --> 148.12051901820558\n",
      "3 --> 198.57870057439945\n",
      "4 --> 156.20964689414475\n"
     ]
    },
    {
     "name": "stderr",
     "output_type": "stream",
     "text": [
      "[I 2023-11-03 23:41:28,388] Trial 5 finished with value: 174.6863711607187 and parameters: {'n_estimators': 208, 'reg_alpha': 1.2831554575301507, 'reg_lambda': 0.07518745967256402, 'colsample_bytree': 0.4, 'subsample': 1.0, 'learning_rate': 0.00013801569744453836, 'max_depth': 33, 'num_leaves': 129, 'min_child_samples': 9, 'min_data_per_groups': 89}. Best is trial 4 with value: 60.719995387007444.\n"
     ]
    },
    {
     "name": "stdout",
     "output_type": "stream",
     "text": [
      "5 --> 152.58234044065028\n",
      "Mean : 174.6863711607187\n",
      "Std : 28.20460231683415\n",
      "1 --> 99.59680839190348\n",
      "2 --> 40.521585335963714\n",
      "3 --> 68.15108556668525\n",
      "4 --> 42.63270144843201\n"
     ]
    },
    {
     "name": "stderr",
     "output_type": "stream",
     "text": [
      "[I 2023-11-03 23:41:30,251] Trial 6 finished with value: 60.65012388206627 and parameters: {'n_estimators': 231, 'reg_alpha': 0.005279660257527678, 'reg_lambda': 0.784231623765906, 'colsample_bytree': 0.9, 'subsample': 0.5, 'learning_rate': 0.039636960841325626, 'max_depth': 6, 'num_leaves': 266, 'min_child_samples': 83, 'min_data_per_groups': 40}. Best is trial 6 with value: 60.65012388206627.\n"
     ]
    },
    {
     "name": "stdout",
     "output_type": "stream",
     "text": [
      "5 --> 52.348438667346905\n",
      "Mean : 60.65012388206627\n",
      "Std : 21.77986323676606\n",
      "1 --> 102.35588181050991\n",
      "2 --> 39.67807215802521\n",
      "3 --> 66.61619979684312\n",
      "4 --> 42.56992928900694\n"
     ]
    },
    {
     "name": "stderr",
     "output_type": "stream",
     "text": [
      "[I 2023-11-03 23:41:33,962] Trial 7 finished with value: 60.19196490310495 and parameters: {'n_estimators': 128, 'reg_alpha': 0.002014590153967212, 'reg_lambda': 0.0706237760655963, 'colsample_bytree': 0.6, 'subsample': 0.5, 'learning_rate': 0.045086720267259905, 'max_depth': 34, 'num_leaves': 181, 'min_child_samples': 27, 'min_data_per_groups': 43}. Best is trial 7 with value: 60.19196490310495.\n"
     ]
    },
    {
     "name": "stdout",
     "output_type": "stream",
     "text": [
      "5 --> 49.73974146113955\n",
      "Mean : 60.19196490310495\n",
      "Std : 23.063701318593328\n",
      "1 --> 212.39205004072386\n",
      "2 --> 139.55655297774635\n",
      "3 --> 187.94913639683026\n",
      "4 --> 147.69091851079824\n"
     ]
    },
    {
     "name": "stderr",
     "output_type": "stream",
     "text": [
      "[I 2023-11-03 23:41:35,365] Trial 8 finished with value: 166.3316634582648 and parameters: {'n_estimators': 250, 'reg_alpha': 0.0013032758256629675, 'reg_lambda': 1.876893806256648, 'colsample_bytree': 0.6, 'subsample': 0.5, 'learning_rate': 0.00039460043233988264, 'max_depth': 16, 'num_leaves': 558, 'min_child_samples': 300, 'min_data_per_groups': 38}. Best is trial 7 with value: 60.19196490310495.\n"
     ]
    },
    {
     "name": "stdout",
     "output_type": "stream",
     "text": [
      "5 --> 144.06965936522536\n",
      "Mean : 166.3316634582648\n",
      "Std : 28.80574626026605\n",
      "1 --> 105.01664267462205\n",
      "2 --> 40.311087080106425\n",
      "3 --> 67.54119104432681\n",
      "4 --> 42.26838890188264\n"
     ]
    },
    {
     "name": "stderr",
     "output_type": "stream",
     "text": [
      "[I 2023-11-03 23:41:40,676] Trial 9 finished with value: 61.2276296047249 and parameters: {'n_estimators': 420, 'reg_alpha': 0.2734184906375263, 'reg_lambda': 0.19698387318761618, 'colsample_bytree': 1.0, 'subsample': 0.4, 'learning_rate': 0.020058894091877902, 'max_depth': 39, 'num_leaves': 630, 'min_child_samples': 150, 'min_data_per_groups': 68}. Best is trial 7 with value: 60.19196490310495.\n"
     ]
    },
    {
     "name": "stdout",
     "output_type": "stream",
     "text": [
      "5 --> 51.000838322686604\n",
      "Mean : 61.2276296047249\n",
      "Std : 23.911840342500234\n",
      "1 --> 195.7983952858946\n",
      "2 --> 123.81812828672663\n",
      "3 --> 167.62449249493952\n",
      "4 --> 131.37817755936243\n"
     ]
    },
    {
     "name": "stderr",
     "output_type": "stream",
     "text": [
      "[I 2023-11-03 23:41:41,281] Trial 10 finished with value: 149.53233272970962 and parameters: {'n_estimators': 53, 'reg_alpha': 0.0013781313949148652, 'reg_lambda': 3.4793746531878167, 'colsample_bytree': 0.8, 'subsample': 0.7, 'learning_rate': 0.004627620425811624, 'max_depth': 49, 'num_leaves': 327, 'min_child_samples': 195, 'min_data_per_groups': 29}. Best is trial 7 with value: 60.19196490310495.\n"
     ]
    },
    {
     "name": "stdout",
     "output_type": "stream",
     "text": [
      "5 --> 129.04247002162504\n",
      "Mean : 149.53233272970962\n",
      "Std : 27.851401843728265\n",
      "1 --> 112.13285864621423\n",
      "2 --> 50.676053289050344\n"
     ]
    },
    {
     "name": "stderr",
     "output_type": "stream",
     "text": [
      "[I 2023-11-03 23:41:41,662] Trial 11 finished with value: 72.70819420853208 and parameters: {'n_estimators': 43, 'reg_alpha': 0.006149734527797381, 'reg_lambda': 6.309071358054903, 'colsample_bytree': 0.9, 'subsample': 0.5, 'learning_rate': 0.050771052013782535, 'max_depth': 2, 'num_leaves': 312, 'min_child_samples': 64, 'min_data_per_groups': 39}. Best is trial 7 with value: 60.19196490310495.\n"
     ]
    },
    {
     "name": "stdout",
     "output_type": "stream",
     "text": [
      "3 --> 79.2785471096575\n",
      "4 --> 57.6410451336181\n",
      "5 --> 63.81246686412021\n",
      "Mean : 72.70819420853208\n",
      "Std : 21.858828344615667\n",
      "1 --> 100.11667650588548\n",
      "2 --> 40.892994618268425\n",
      "3 --> 69.2284250001484\n",
      "4 --> 44.49692403676383\n"
     ]
    },
    {
     "name": "stderr",
     "output_type": "stream",
     "text": [
      "[I 2023-11-03 23:41:42,470] Trial 12 finished with value: 60.83472340581254 and parameters: {'n_estimators': 212, 'reg_alpha': 0.0010687268038877431, 'reg_lambda': 0.6906560589103283, 'colsample_bytree': 0.5, 'subsample': 0.5, 'learning_rate': 0.0909214269444463, 'max_depth': 2, 'num_leaves': 289, 'min_child_samples': 68, 'min_data_per_groups': 60}. Best is trial 7 with value: 60.19196490310495.\n"
     ]
    },
    {
     "name": "stdout",
     "output_type": "stream",
     "text": [
      "5 --> 49.43859686799661\n",
      "Mean : 60.83472340581254\n",
      "Std : 21.94535942351482\n",
      "1 --> 106.53493987761486\n",
      "2 --> 42.73446270377863\n",
      "3 --> 67.6419754654479\n",
      "4 --> 46.40127836639672\n"
     ]
    },
    {
     "name": "stderr",
     "output_type": "stream",
     "text": [
      "[I 2023-11-03 23:42:15,218] Trial 13 finished with value: 62.912973873638386 and parameters: {'n_estimators': 548, 'reg_alpha': 0.005200406151968319, 'reg_lambda': 0.020393854927533407, 'colsample_bytree': 0.9, 'subsample': 0.5, 'learning_rate': 0.006307189877421744, 'max_depth': 10, 'num_leaves': 187, 'min_child_samples': 1, 'min_data_per_groups': 25}. Best is trial 7 with value: 60.19196490310495.\n"
     ]
    },
    {
     "name": "stdout",
     "output_type": "stream",
     "text": [
      "5 --> 51.25221295495387\n",
      "Mean : 62.912973873638386\n",
      "Std : 23.413761427272448\n",
      "1 --> 152.28295587467986\n",
      "2 --> 89.61314485388732\n",
      "3 --> 123.52640061190341\n",
      "4 --> 95.33492423643347\n"
     ]
    },
    {
     "name": "stderr",
     "output_type": "stream",
     "text": [
      "[I 2023-11-03 23:42:18,608] Trial 14 finished with value: 111.18512478867228 and parameters: {'n_estimators': 322, 'reg_alpha': 0.03148975174363259, 'reg_lambda': 9.505786128463845, 'colsample_bytree': 0.9, 'subsample': 0.4, 'learning_rate': 0.002173733778672694, 'max_depth': 27, 'num_leaves': 425, 'min_child_samples': 65, 'min_data_per_groups': 44}. Best is trial 7 with value: 60.19196490310495.\n"
     ]
    },
    {
     "name": "stdout",
     "output_type": "stream",
     "text": [
      "5 --> 95.16819836645728\n",
      "Mean : 111.18512478867228\n",
      "Std : 23.72534474685957\n",
      "1 --> 108.0935618453201\n",
      "2 --> 40.80514271857413\n",
      "3 --> 67.38413925816009\n",
      "4 --> 43.46732020491887\n"
     ]
    },
    {
     "name": "stderr",
     "output_type": "stream",
     "text": [
      "[I 2023-11-03 23:42:21,207] Trial 15 finished with value: 62.12033621066398 and parameters: {'n_estimators': 555, 'reg_alpha': 0.003928191679508144, 'reg_lambda': 0.8441456354625482, 'colsample_bytree': 0.3, 'subsample': 0.8, 'learning_rate': 0.02634154315544335, 'max_depth': 31, 'num_leaves': 50, 'min_child_samples': 194, 'min_data_per_groups': 73}. Best is trial 7 with value: 60.19196490310495.\n"
     ]
    },
    {
     "name": "stdout",
     "output_type": "stream",
     "text": [
      "5 --> 50.851517026346734\n",
      "Mean : 62.12033621066398\n",
      "Std : 24.78105673010124\n",
      "1 --> 126.55116042768888\n",
      "2 --> 62.45507185161768\n",
      "3 --> 88.64990843185701\n",
      "4 --> 68.08320571212715\n"
     ]
    },
    {
     "name": "stderr",
     "output_type": "stream",
     "text": [
      "[I 2023-11-03 23:42:22,658] Trial 16 finished with value: 82.90841068599312 and parameters: {'n_estimators': 133, 'reg_alpha': 0.02077543882553019, 'reg_lambda': 0.015074949766375403, 'colsample_bytree': 0.6, 'subsample': 1.0, 'learning_rate': 0.00993993857415056, 'max_depth': 11, 'num_leaves': 431, 'min_child_samples': 98, 'min_data_per_groups': 23}. Best is trial 7 with value: 60.19196490310495.\n"
     ]
    },
    {
     "name": "stdout",
     "output_type": "stream",
     "text": [
      "5 --> 68.8027070066749\n",
      "Mean : 82.90841068599312\n",
      "Std : 23.557381219743796\n",
      "1 --> 106.59460013628947\n",
      "2 --> 41.50061765883682\n",
      "3 --> 70.1315026802958\n",
      "4 --> 43.40263308725895\n"
     ]
    },
    {
     "name": "stderr",
     "output_type": "stream",
     "text": [
      "[I 2023-11-03 23:42:33,986] Trial 17 finished with value: 62.56467029895835 and parameters: {'n_estimators': 654, 'reg_alpha': 0.0028869975398631525, 'reg_lambda': 0.28714983421817125, 'colsample_bytree': 0.5, 'subsample': 0.5, 'learning_rate': 0.03476504437128477, 'max_depth': 47, 'num_leaves': 202, 'min_child_samples': 50, 'min_data_per_groups': 51}. Best is trial 7 with value: 60.19196490310495.\n"
     ]
    },
    {
     "name": "stdout",
     "output_type": "stream",
     "text": [
      "5 --> 51.19399793211066\n",
      "Mean : 62.56467029895835\n",
      "Std : 24.232465196797932\n",
      "1 --> 103.407509024665\n",
      "2 --> 40.52050205632409\n",
      "3 --> 67.59455968500434\n",
      "4 --> 42.10032225978868\n"
     ]
    },
    {
     "name": "stderr",
     "output_type": "stream",
     "text": [
      "[I 2023-11-03 23:42:36,102] Trial 18 finished with value: 60.835392079850465 and parameters: {'n_estimators': 344, 'reg_alpha': 0.013976101386031595, 'reg_lambda': 0.08434812104125282, 'colsample_bytree': 0.7, 'subsample': 0.5, 'learning_rate': 0.03304463643983052, 'max_depth': 8, 'num_leaves': 248, 'min_child_samples': 145, 'min_data_per_groups': 1}. Best is trial 7 with value: 60.19196490310495.\n"
     ]
    },
    {
     "name": "stdout",
     "output_type": "stream",
     "text": [
      "5 --> 50.554067373470176\n",
      "Mean : 60.835392079850465\n",
      "Std : 23.35583320468835\n",
      "1 --> 121.06615440434135\n",
      "2 --> 65.02460849329539\n",
      "3 --> 90.87874566943836\n",
      "4 --> 69.44045571963969\n"
     ]
    },
    {
     "name": "stderr",
     "output_type": "stream",
     "text": [
      "[I 2023-11-03 23:42:38,152] Trial 19 finished with value: 83.29450587632991 and parameters: {'n_estimators': 132, 'reg_alpha': 0.002532892322511101, 'reg_lambda': 1.4704130977573027, 'colsample_bytree': 0.3, 'subsample': 0.5, 'learning_rate': 0.009654001535329412, 'max_depth': 27, 'num_leaves': 419, 'min_child_samples': 27, 'min_data_per_groups': 75}. Best is trial 7 with value: 60.19196490310495.\n"
     ]
    },
    {
     "name": "stdout",
     "output_type": "stream",
     "text": [
      "5 --> 70.06256509493478\n",
      "Mean : 83.29450587632991\n",
      "Std : 20.904670476886476\n",
      "1 --> 148.29075418491627\n",
      "2 --> 73.99256096840823\n",
      "3 --> 106.85223928544454\n",
      "4 --> 82.29063629400534\n"
     ]
    },
    {
     "name": "stderr",
     "output_type": "stream",
     "text": [
      "[I 2023-11-03 23:42:38,391] Trial 20 finished with value: 99.24986582236792 and parameters: {'n_estimators': 10, 'reg_alpha': 0.05120031814479527, 'reg_lambda': 0.335829563317974, 'colsample_bytree': 0.8, 'subsample': 0.7, 'learning_rate': 0.09911665562962974, 'max_depth': 33, 'num_leaves': 6, 'min_child_samples': 188, 'min_data_per_groups': 61}. Best is trial 7 with value: 60.19196490310495.\n"
     ]
    },
    {
     "name": "stdout",
     "output_type": "stream",
     "text": [
      "5 --> 84.82313837906518\n",
      "Mean : 99.24986582236792\n",
      "Std : 26.81970243334145\n",
      "1 --> 99.69946472544964\n",
      "2 --> 41.2679424150467\n",
      "3 --> 68.4606139233096\n",
      "4 --> 42.38334169747283\n"
     ]
    },
    {
     "name": "stderr",
     "output_type": "stream",
     "text": [
      "[I 2023-11-03 23:42:48,741] Trial 21 finished with value: 60.434962349802014 and parameters: {'n_estimators': 991, 'reg_alpha': 0.2375041621319191, 'reg_lambda': 0.0014728730049815087, 'colsample_bytree': 0.4, 'subsample': 0.5, 'learning_rate': 0.019629864932275337, 'max_depth': 43, 'num_leaves': 783, 'min_child_samples': 98, 'min_data_per_groups': 84}. Best is trial 7 with value: 60.19196490310495.\n"
     ]
    },
    {
     "name": "stdout",
     "output_type": "stream",
     "text": [
      "5 --> 50.363448987731296\n",
      "Mean : 60.434962349802014\n",
      "Std : 21.91247714314316\n",
      "1 --> 101.15511344788668\n",
      "2 --> 42.473659786617745\n",
      "3 --> 69.70142002690811\n",
      "4 --> 43.44249833718762\n"
     ]
    },
    {
     "name": "stderr",
     "output_type": "stream",
     "text": [
      "[I 2023-11-03 23:42:55,953] Trial 22 finished with value: 61.791888123992614 and parameters: {'n_estimators': 671, 'reg_alpha': 0.14233051965831414, 'reg_lambda': 0.0012309005259408202, 'colsample_bytree': 0.4, 'subsample': 0.5, 'learning_rate': 0.045370268807686485, 'max_depth': 45, 'num_leaves': 957, 'min_child_samples': 89, 'min_data_per_groups': 35}. Best is trial 7 with value: 60.19196490310495.\n"
     ]
    },
    {
     "name": "stdout",
     "output_type": "stream",
     "text": [
      "5 --> 52.18674902136289\n",
      "Mean : 61.791888123992614\n",
      "Std : 21.97351565702137\n",
      "1 --> 101.9393582032303\n",
      "2 --> 40.58168705698886\n",
      "3 --> 67.72766343851086\n",
      "4 --> 42.46196589201092\n"
     ]
    },
    {
     "name": "stderr",
     "output_type": "stream",
     "text": [
      "[I 2023-11-03 23:43:05,108] Trial 23 finished with value: 60.7610649504982 and parameters: {'n_estimators': 934, 'reg_alpha': 0.010352426978551222, 'reg_lambda': 0.004720600276366349, 'colsample_bytree': 0.6, 'subsample': 0.5, 'learning_rate': 0.016650447989503936, 'max_depth': 44, 'num_leaves': 819, 'min_child_samples': 124, 'min_data_per_groups': 47}. Best is trial 7 with value: 60.19196490310495.\n"
     ]
    },
    {
     "name": "stdout",
     "output_type": "stream",
     "text": [
      "5 --> 51.094650161750074\n",
      "Mean : 60.7610649504982\n",
      "Std : 22.7142652229417\n",
      "1 --> 99.2976934887216\n",
      "2 --> 41.091756021574724\n",
      "3 --> 68.17066267138974\n",
      "4 --> 42.87714484455169\n"
     ]
    },
    {
     "name": "stderr",
     "output_type": "stream",
     "text": [
      "[I 2023-11-03 23:43:12,702] Trial 24 finished with value: 60.81050638581023 and parameters: {'n_estimators': 459, 'reg_alpha': 0.04289213153153863, 'reg_lambda': 0.007661151101096014, 'colsample_bytree': 0.9, 'subsample': 0.5, 'learning_rate': 0.030887713649280973, 'max_depth': 37, 'num_leaves': 771, 'min_child_samples': 86, 'min_data_per_groups': 83}. Best is trial 7 with value: 60.19196490310495.\n"
     ]
    },
    {
     "name": "stdout",
     "output_type": "stream",
     "text": [
      "5 --> 52.615274902813425\n",
      "Mean : 60.81050638581023\n",
      "Std : 21.508286137203466\n",
      "1 --> 108.22318791608087\n",
      "2 --> 47.84775164162059\n",
      "3 --> 70.95089076777954\n",
      "4 --> 52.02533913924253\n"
     ]
    },
    {
     "name": "stderr",
     "output_type": "stream",
     "text": [
      "[I 2023-11-03 23:43:14,934] Trial 25 finished with value: 66.71813345311469 and parameters: {'n_estimators': 146, 'reg_alpha': 0.0025009450892064175, 'reg_lambda': 0.0094478104307242, 'colsample_bytree': 0.4, 'subsample': 0.8, 'learning_rate': 0.01462486421407862, 'max_depth': 41, 'num_leaves': 124, 'min_child_samples': 48, 'min_data_per_groups': 97}. Best is trial 7 with value: 60.19196490310495.\n"
     ]
    },
    {
     "name": "stdout",
     "output_type": "stream",
     "text": [
      "5 --> 54.54349780084994\n",
      "Mean : 66.71813345311469\n",
      "Std : 22.18457593998747\n",
      "1 --> 102.35881097473238\n",
      "2 --> 40.99158397500085\n",
      "3 --> 67.81721612101953\n",
      "4 --> 42.94837067940849\n"
     ]
    },
    {
     "name": "stderr",
     "output_type": "stream",
     "text": [
      "[I 2023-11-03 23:43:17,937] Trial 26 finished with value: 61.080123552763645 and parameters: {'n_estimators': 312, 'reg_alpha': 0.010658242532440017, 'reg_lambda': 0.001015479907008874, 'colsample_bytree': 0.6, 'subsample': 0.6, 'learning_rate': 0.0496961620283221, 'max_depth': 30, 'num_leaves': 880, 'min_child_samples': 132, 'min_data_per_groups': 53}. Best is trial 7 with value: 60.19196490310495.\n"
     ]
    },
    {
     "name": "stdout",
     "output_type": "stream",
     "text": [
      "5 --> 51.28463601365696\n",
      "Mean : 61.080123552763645\n",
      "Std : 22.704977041655024\n",
      "1 --> 109.01453937977217\n",
      "2 --> 40.47184016461418\n",
      "3 --> 69.09327066368776\n",
      "4 --> 43.73398830569375\n"
     ]
    },
    {
     "name": "stderr",
     "output_type": "stream",
     "text": [
      "[I 2023-11-03 23:43:40,414] Trial 27 finished with value: 62.55379316749272 and parameters: {'n_estimators': 627, 'reg_alpha': 0.13964807909954424, 'reg_lambda': 0.042168913263617235, 'colsample_bytree': 0.9, 'subsample': 1.0, 'learning_rate': 0.0313606290411533, 'max_depth': 50, 'num_leaves': 367, 'min_child_samples': 24, 'min_data_per_groups': 66}. Best is trial 7 with value: 60.19196490310495.\n"
     ]
    },
    {
     "name": "stdout",
     "output_type": "stream",
     "text": [
      "5 --> 50.45532732369579\n",
      "Mean : 62.55379316749272\n",
      "Std : 25.256825943717196\n",
      "1 --> 106.61537755236876\n",
      "2 --> 40.97117711825823\n",
      "3 --> 67.74483603637842\n",
      "4 --> 43.2600267110981\n"
     ]
    },
    {
     "name": "stderr",
     "output_type": "stream",
     "text": [
      "[I 2023-11-03 23:43:44,619] Trial 28 finished with value: 61.8818493713571 and parameters: {'n_estimators': 742, 'reg_alpha': 0.022032660818489692, 'reg_lambda': 0.15558099643320575, 'colsample_bytree': 0.3, 'subsample': 0.4, 'learning_rate': 0.021933995082929685, 'max_depth': 24, 'num_leaves': 487, 'min_child_samples': 177, 'min_data_per_groups': 19}. Best is trial 7 with value: 60.19196490310495.\n"
     ]
    },
    {
     "name": "stdout",
     "output_type": "stream",
     "text": [
      "5 --> 50.817829438681976\n",
      "Mean : 61.8818493713571\n",
      "Std : 24.25656276760114\n",
      "1 --> 110.01159338070514\n",
      "2 --> 42.00366013083184\n",
      "3 --> 69.23284185779471\n",
      "4 --> 44.34619727860603\n"
     ]
    },
    {
     "name": "stderr",
     "output_type": "stream",
     "text": [
      "[I 2023-11-03 23:43:46,552] Trial 29 finished with value: 63.639087745768265 and parameters: {'n_estimators': 354, 'reg_alpha': 0.006342048204121072, 'reg_lambda': 0.004956727909051532, 'colsample_bytree': 0.4, 'subsample': 0.8, 'learning_rate': 0.07176534606048594, 'max_depth': 19, 'num_leaves': 982, 'min_child_samples': 239, 'min_data_per_groups': 32}. Best is trial 7 with value: 60.19196490310495.\n"
     ]
    },
    {
     "name": "stdout",
     "output_type": "stream",
     "text": [
      "5 --> 52.60114608090364\n",
      "Mean : 63.639087745768265\n",
      "Std : 25.075258207181406\n",
      "1 --> 98.7322686129915\n",
      "2 --> 41.31902781765038\n",
      "3 --> 69.98538730206259\n",
      "4 --> 43.03908117635993\n"
     ]
    },
    {
     "name": "stderr",
     "output_type": "stream",
     "text": [
      "[I 2023-11-03 23:43:50,441] Trial 30 finished with value: 61.40003583780996 and parameters: {'n_estimators': 260, 'reg_alpha': 0.0018722153798120323, 'reg_lambda': 0.0027857192141600086, 'colsample_bytree': 0.7, 'subsample': 0.5, 'learning_rate': 0.07405764368455615, 'max_depth': 36, 'num_leaves': 677, 'min_child_samples': 80, 'min_data_per_groups': 45}. Best is trial 7 with value: 60.19196490310495.\n"
     ]
    },
    {
     "name": "stdout",
     "output_type": "stream",
     "text": [
      "5 --> 53.92441427998536\n",
      "Mean : 61.40003583780996\n",
      "Std : 21.27750135991739\n",
      "1 --> 102.28763017704142\n",
      "2 --> 40.91267129419881\n",
      "3 --> 67.80183680768239\n",
      "4 --> 42.520411077254344\n"
     ]
    },
    {
     "name": "stderr",
     "output_type": "stream",
     "text": [
      "[I 2023-11-03 23:43:58,247] Trial 31 finished with value: 60.85697087238244 and parameters: {'n_estimators': 885, 'reg_alpha': 0.4808472217975215, 'reg_lambda': 0.0021843256188959765, 'colsample_bytree': 0.4, 'subsample': 0.5, 'learning_rate': 0.01786278337635426, 'max_depth': 42, 'num_leaves': 786, 'min_child_samples': 125, 'min_data_per_groups': 82}. Best is trial 7 with value: 60.19196490310495.\n"
     ]
    },
    {
     "name": "stdout",
     "output_type": "stream",
     "text": [
      "5 --> 50.7623050057352\n",
      "Mean : 60.85697087238244\n",
      "Std : 22.80630387862931\n",
      "1 --> 101.83116663111836\n",
      "2 --> 42.62326359811993\n",
      "3 --> 69.66535075081431\n",
      "4 --> 44.20401214844741\n"
     ]
    },
    {
     "name": "stderr",
     "output_type": "stream",
     "text": [
      "[I 2023-11-03 23:44:07,873] Trial 32 finished with value: 62.005738007752974 and parameters: {'n_estimators': 999, 'reg_alpha': 0.9770071987140629, 'reg_lambda': 0.0018687079525294694, 'colsample_bytree': 0.4, 'subsample': 0.5, 'learning_rate': 0.043870259250176034, 'max_depth': 40, 'num_leaves': 717, 'min_child_samples': 113, 'min_data_per_groups': 99}. Best is trial 7 with value: 60.19196490310495.\n"
     ]
    },
    {
     "name": "stdout",
     "output_type": "stream",
     "text": [
      "5 --> 51.704896910264814\n",
      "Mean : 62.005738007752974\n",
      "Std : 22.10621413781242\n",
      "1 --> 106.66339026794707\n",
      "2 --> 40.38897636558785\n",
      "3 --> 67.34151378858319\n",
      "4 --> 43.019466724451355\n"
     ]
    },
    {
     "name": "stderr",
     "output_type": "stream",
     "text": [
      "[I 2023-11-03 23:44:13,468] Trial 33 finished with value: 61.57621688787312 and parameters: {'n_estimators': 871, 'reg_alpha': 3.3834715832014393, 'reg_lambda': 0.003544014356107552, 'colsample_bytree': 0.4, 'subsample': 0.5, 'learning_rate': 0.011216887717287063, 'max_depth': 36, 'num_leaves': 881, 'min_child_samples': 174, 'min_data_per_groups': 80}. Best is trial 7 with value: 60.19196490310495.\n"
     ]
    },
    {
     "name": "stdout",
     "output_type": "stream",
     "text": [
      "5 --> 50.467737292796116\n",
      "Mean : 61.57621688787312\n",
      "Std : 24.424341580682366\n",
      "1 --> 102.55703510859317\n",
      "2 --> 41.80680771871381\n",
      "3 --> 69.27167496744894\n",
      "4 --> 43.34217537208\n"
     ]
    },
    {
     "name": "stderr",
     "output_type": "stream",
     "text": [
      "[I 2023-11-03 23:44:27,552] Trial 34 finished with value: 61.81006099017346 and parameters: {'n_estimators': 950, 'reg_alpha': 0.08609305923859557, 'reg_lambda': 0.001367244607802167, 'colsample_bytree': 1.0, 'subsample': 0.7, 'learning_rate': 0.023227293544307026, 'max_depth': 43, 'num_leaves': 550, 'min_child_samples': 106, 'min_data_per_groups': 91}. Best is trial 7 with value: 60.19196490310495.\n"
     ]
    },
    {
     "name": "stdout",
     "output_type": "stream",
     "text": [
      "5 --> 52.07261178403139\n",
      "Mean : 61.81006099017346\n",
      "Std : 22.59204479740769\n",
      "1 --> 111.2109901938596\n",
      "2 --> 41.83470590038549\n",
      "3 --> 71.69327104297962\n",
      "4 --> 44.85645136961374\n"
     ]
    },
    {
     "name": "stderr",
     "output_type": "stream",
     "text": [
      "[I 2023-11-03 23:44:39,687] Trial 35 finished with value: 64.32083958683566 and parameters: {'n_estimators': 756, 'reg_alpha': 0.0038975489855879704, 'reg_lambda': 0.002762734863589066, 'colsample_bytree': 0.6, 'subsample': 0.6, 'learning_rate': 0.06430316362898224, 'max_depth': 34, 'num_leaves': 144, 'min_child_samples': 45, 'min_data_per_groups': 17}. Best is trial 7 with value: 60.19196490310495.\n"
     ]
    },
    {
     "name": "stdout",
     "output_type": "stream",
     "text": [
      "5 --> 52.00877942733982\n",
      "Mean : 64.32083958683566\n",
      "Std : 25.64805806189471\n",
      "1 --> 99.35144407554044\n",
      "2 --> 39.426987823107645\n",
      "3 --> 66.20602578172917\n",
      "4 --> 41.954925444825726\n"
     ]
    },
    {
     "name": "stderr",
     "output_type": "stream",
     "text": [
      "[I 2023-11-03 23:44:48,366] Trial 36 finished with value: 59.64187638849696 and parameters: {'n_estimators': 810, 'reg_alpha': 0.35736251355940796, 'reg_lambda': 0.04022374431736895, 'colsample_bytree': 0.4, 'subsample': 0.5, 'learning_rate': 0.006731113162474734, 'max_depth': 16, 'num_leaves': 890, 'min_child_samples': 76, 'min_data_per_groups': 59}. Best is trial 36 with value: 59.64187638849696.\n"
     ]
    },
    {
     "name": "stdout",
     "output_type": "stream",
     "text": [
      "5 --> 51.269998817281824\n",
      "Mean : 59.64187638849696\n",
      "Std : 21.961311939913397\n",
      "1 --> 101.72505633908048\n",
      "2 --> 39.640737918189174\n",
      "3 --> 66.54994162474104\n",
      "4 --> 43.20168948717434\n"
     ]
    },
    {
     "name": "stderr",
     "output_type": "stream",
     "text": [
      "[I 2023-11-03 23:45:11,304] Trial 37 finished with value: 60.10001255538507 and parameters: {'n_estimators': 806, 'reg_alpha': 0.25224191837877474, 'reg_lambda': 0.04511636268685804, 'colsample_bytree': 0.4, 'subsample': 0.5, 'learning_rate': 0.007405856677720909, 'max_depth': 16, 'num_leaves': 890, 'min_child_samples': 17, 'min_data_per_groups': 56}. Best is trial 36 with value: 59.64187638849696.\n"
     ]
    },
    {
     "name": "stdout",
     "output_type": "stream",
     "text": [
      "5 --> 49.382637407740276\n",
      "Mean : 60.10001255538507\n",
      "Std : 22.773858813330108\n",
      "1 --> 103.0511834393512\n",
      "2 --> 39.63161036078938\n",
      "3 --> 66.61889364954683\n",
      "4 --> 43.294313805487164\n"
     ]
    },
    {
     "name": "stderr",
     "output_type": "stream",
     "text": [
      "[I 2023-11-03 23:45:35,092] Trial 38 finished with value: 60.4317789367415 and parameters: {'n_estimators': 792, 'reg_alpha': 0.22203294852966673, 'reg_lambda': 0.04750945884138305, 'colsample_bytree': 0.4, 'subsample': 0.5, 'learning_rate': 0.007424904035404535, 'max_depth': 15, 'num_leaves': 916, 'min_child_samples': 15, 'min_data_per_groups': 58}. Best is trial 36 with value: 59.64187638849696.\n"
     ]
    },
    {
     "name": "stdout",
     "output_type": "stream",
     "text": [
      "5 --> 49.562893428532895\n",
      "Mean : 60.4317789367415\n",
      "Std : 23.23431266351562\n",
      "1 --> 103.86706056841034\n",
      "2 --> 45.84665418835466\n",
      "3 --> 69.05171621828312\n",
      "4 --> 49.74468123048706\n"
     ]
    },
    {
     "name": "stderr",
     "output_type": "stream",
     "text": [
      "[I 2023-11-03 23:46:02,275] Trial 39 finished with value: 64.28493775006417 and parameters: {'n_estimators': 801, 'reg_alpha': 0.07430576822801611, 'reg_lambda': 0.049641407358535505, 'colsample_bytree': 0.4, 'subsample': 0.6, 'learning_rate': 0.0029594704342845433, 'max_depth': 15, 'num_leaves': 905, 'min_child_samples': 16, 'min_data_per_groups': 57}. Best is trial 36 with value: 59.64187638849696.\n"
     ]
    },
    {
     "name": "stdout",
     "output_type": "stream",
     "text": [
      "5 --> 52.91457654478569\n",
      "Mean : 64.28493775006417\n",
      "Std : 21.307937948414107\n",
      "1 --> 99.25936095739526\n",
      "2 --> 40.63782683433618\n",
      "3 --> 65.63103086222172\n",
      "4 --> 43.79911134572794\n"
     ]
    },
    {
     "name": "stderr",
     "output_type": "stream",
     "text": [
      "[I 2023-11-03 23:46:16,156] Trial 40 finished with value: 59.76638285127101 and parameters: {'n_estimators': 727, 'reg_alpha': 0.4076311191443963, 'reg_lambda': 0.10483419546424344, 'colsample_bytree': 0.4, 'subsample': 1.0, 'learning_rate': 0.005050333534230803, 'max_depth': 16, 'num_leaves': 835, 'min_child_samples': 33, 'min_data_per_groups': 66}. Best is trial 36 with value: 59.64187638849696.\n"
     ]
    },
    {
     "name": "stdout",
     "output_type": "stream",
     "text": [
      "5 --> 49.50458425667398\n",
      "Mean : 59.76638285127101\n",
      "Std : 21.541816733989602\n",
      "1 --> 98.9093382726148\n",
      "2 --> 39.786199143636\n",
      "3 --> 65.80104188342412\n",
      "4 --> 42.79533533527891\n"
     ]
    },
    {
     "name": "stderr",
     "output_type": "stream",
     "text": [
      "[I 2023-11-03 23:46:29,516] Trial 41 finished with value: 59.349924310434936 and parameters: {'n_estimators': 699, 'reg_alpha': 0.3394266524573342, 'reg_lambda': 0.12191204685854004, 'colsample_bytree': 0.4, 'subsample': 1.0, 'learning_rate': 0.006853996842924638, 'max_depth': 15, 'num_leaves': 928, 'min_child_samples': 31, 'min_data_per_groups': 65}. Best is trial 41 with value: 59.349924310434936.\n"
     ]
    },
    {
     "name": "stdout",
     "output_type": "stream",
     "text": [
      "5 --> 49.45770691722088\n",
      "Mean : 59.349924310434936\n",
      "Std : 21.731147574229244\n",
      "1 --> 99.01349107452465\n",
      "2 --> 40.524931470294874\n",
      "3 --> 65.60811844318236\n",
      "4 --> 43.80226949358481\n"
     ]
    },
    {
     "name": "stderr",
     "output_type": "stream",
     "text": [
      "[I 2023-11-03 23:46:43,331] Trial 42 finished with value: 59.64837565399589 and parameters: {'n_estimators': 721, 'reg_alpha': 0.47568719809770765, 'reg_lambda': 0.1101901857556747, 'colsample_bytree': 0.4, 'subsample': 1.0, 'learning_rate': 0.005126008947418241, 'max_depth': 21, 'num_leaves': 818, 'min_child_samples': 37, 'min_data_per_groups': 66}. Best is trial 41 with value: 59.349924310434936.\n"
     ]
    },
    {
     "name": "stdout",
     "output_type": "stream",
     "text": [
      "5 --> 49.293067788392726\n",
      "Mean : 59.64837565399589\n",
      "Std : 21.490316168313484\n",
      "1 --> 101.87574512551951\n",
      "2 --> 42.12939376481126\n",
      "3 --> 66.40521138839266\n",
      "4 --> 45.601955739442815\n"
     ]
    },
    {
     "name": "stderr",
     "output_type": "stream",
     "text": [
      "[I 2023-11-03 23:46:57,096] Trial 43 finished with value: 61.29078392288793 and parameters: {'n_estimators': 704, 'reg_alpha': 0.4558437843820282, 'reg_lambda': 0.08950853138806682, 'colsample_bytree': 0.4, 'subsample': 1.0, 'learning_rate': 0.00426106406268864, 'max_depth': 20, 'num_leaves': 1000, 'min_child_samples': 37, 'min_data_per_groups': 65}. Best is trial 41 with value: 59.349924310434936.\n"
     ]
    },
    {
     "name": "stdout",
     "output_type": "stream",
     "text": [
      "5 --> 50.441613596273406\n",
      "Mean : 61.29078392288793\n",
      "Std : 21.92851633583363\n",
      "1 --> 105.21919026137883\n",
      "2 --> 40.98031492451981\n",
      "3 --> 66.55856612725168\n",
      "4 --> 44.91458639042511\n"
     ]
    },
    {
     "name": "stderr",
     "output_type": "stream",
     "text": [
      "[I 2023-11-03 23:48:22,363] Trial 44 finished with value: 61.49882774444261 and parameters: {'n_estimators': 614, 'reg_alpha': 0.45962838355383484, 'reg_lambda': 0.12200483618162615, 'colsample_bytree': 0.4, 'subsample': 1.0, 'learning_rate': 0.006854697424316774, 'max_depth': 22, 'num_leaves': 840, 'min_child_samples': 1, 'min_data_per_groups': 74}. Best is trial 41 with value: 59.349924310434936.\n"
     ]
    },
    {
     "name": "stdout",
     "output_type": "stream",
     "text": [
      "5 --> 49.821481018637655\n",
      "Mean : 61.49882774444261\n",
      "Std : 23.534986328014305\n",
      "1 --> 110.63630346693174\n",
      "2 --> 51.63453133759948\n",
      "3 --> 75.39711629172915\n",
      "4 --> 56.19558501049079\n"
     ]
    },
    {
     "name": "stderr",
     "output_type": "stream",
     "text": [
      "[I 2023-11-03 23:48:32,606] Trial 45 finished with value: 70.35517411496727 and parameters: {'n_estimators': 837, 'reg_alpha': 0.7436562328360591, 'reg_lambda': 0.026680731809388004, 'colsample_bytree': 0.4, 'subsample': 1.0, 'learning_rate': 0.0022112318580166947, 'max_depth': 17, 'num_leaves': 719, 'min_child_samples': 59, 'min_data_per_groups': 70}. Best is trial 41 with value: 59.349924310434936.\n"
     ]
    },
    {
     "name": "stdout",
     "output_type": "stream",
     "text": [
      "5 --> 57.91233446808519\n",
      "Mean : 70.35517411496727\n",
      "Std : 21.69687189834952\n",
      "1 --> 99.77244185560828\n",
      "2 --> 40.750844273381574\n",
      "3 --> 65.60588681992728\n",
      "4 --> 44.14788816349116\n"
     ]
    },
    {
     "name": "stderr",
     "output_type": "stream",
     "text": [
      "[I 2023-11-03 23:48:44,767] Trial 46 finished with value: 59.986630479462896 and parameters: {'n_estimators': 719, 'reg_alpha': 1.4977802988273945, 'reg_lambda': 0.13504755528285495, 'colsample_bytree': 0.4, 'subsample': 1.0, 'learning_rate': 0.004849403025032364, 'max_depth': 13, 'num_leaves': 938, 'min_child_samples': 37, 'min_data_per_groups': 62}. Best is trial 41 with value: 59.349924310434936.\n"
     ]
    },
    {
     "name": "stdout",
     "output_type": "stream",
     "text": [
      "5 --> 49.65609128490618\n",
      "Mean : 59.986630479462896\n",
      "Std : 21.64295773616057\n",
      "1 --> 100.41642155797231\n",
      "2 --> 40.744874270956466\n",
      "3 --> 66.36767355413616\n",
      "4 --> 43.80723041426405\n"
     ]
    },
    {
     "name": "stderr",
     "output_type": "stream",
     "text": [
      "[I 2023-11-03 23:49:01,487] Trial 47 finished with value: 60.21754083698462 and parameters: {'n_estimators': 707, 'reg_alpha': 1.5416927035831012, 'reg_lambda': 0.1358681213505572, 'colsample_bytree': 0.8, 'subsample': 1.0, 'learning_rate': 0.004982555457691542, 'max_depth': 13, 'num_leaves': 936, 'min_child_samples': 37, 'min_data_per_groups': 62}. Best is trial 41 with value: 59.349924310434936.\n"
     ]
    },
    {
     "name": "stdout",
     "output_type": "stream",
     "text": [
      "5 --> 49.75150438759413\n",
      "Mean : 60.21754083698462\n",
      "Std : 21.962673307138665\n",
      "1 --> 111.66411550327916\n",
      "2 --> 51.34292830854325\n",
      "3 --> 75.06685795410866\n",
      "4 --> 55.822413206787296\n"
     ]
    },
    {
     "name": "stderr",
     "output_type": "stream",
     "text": [
      "[I 2023-11-03 23:49:09,437] Trial 48 finished with value: 70.30011190258472 and parameters: {'n_estimators': 579, 'reg_alpha': 0.7003179486909529, 'reg_lambda': 0.07483598963639716, 'colsample_bytree': 0.5, 'subsample': 1.0, 'learning_rate': 0.0032389324540173414, 'max_depth': 12, 'num_leaves': 844, 'min_child_samples': 70, 'min_data_per_groups': 70}. Best is trial 41 with value: 59.349924310434936.\n"
     ]
    },
    {
     "name": "stdout",
     "output_type": "stream",
     "text": [
      "5 --> 57.60424454020524\n",
      "Mean : 70.30011190258472\n",
      "Std : 22.198496702369752\n",
      "1 --> 100.79011031931735\n",
      "2 --> 40.0050553280133\n",
      "3 --> 68.79956419073895\n",
      "4 --> 42.73695637382164\n"
     ]
    },
    {
     "name": "stderr",
     "output_type": "stream",
     "text": [
      "[I 2023-11-03 23:49:14,186] Trial 49 finished with value: 60.6160752853592 and parameters: {'n_estimators': 714, 'reg_alpha': 1.893692784439907, 'reg_lambda': 0.2332722833725539, 'colsample_bytree': 1.0, 'subsample': 1.0, 'learning_rate': 0.012508551280335532, 'max_depth': 5, 'num_leaves': 736, 'min_child_samples': 50, 'min_data_per_groups': 79}. Best is trial 41 with value: 59.349924310434936.\n"
     ]
    },
    {
     "name": "stdout",
     "output_type": "stream",
     "text": [
      "5 --> 50.74869021490482\n",
      "Mean : 60.6160752853592\n",
      "Std : 22.4622568164368\n",
      "__________\n",
      "__________\n",
      "__________\n"
     ]
    },
    {
     "data": {
      "image/png": "[encoded data removed]",
      "text/plain": [
       "<Figure size 1500x600 with 1 Axes>"
      ]
     },
     "metadata": {},
     "output_type": "display_data"
    }
   ],
   "source": [
    "for loc in locations:\n",
    "    train = pd.read_parquet(f'{loc}/train_targets.parquet').fillna(0)\n",
    "    X_train_estimated = pd.read_parquet(f'{loc}/X_train_estimated.parquet')\n",
    "    X_train_observed = pd.read_parquet(f'{loc}/X_train_observed.parquet')\n",
    "    X_test_estimated = pd.read_parquet(f'{loc}/X_test_estimated.parquet')\n",
    "\n",
    "    train_data, test_data, is_day= preprocessing(train, X_train_observed, X_train_estimated, X_test_estimated)\n",
    "    train_data = feature_engineering(train_data)\n",
    "    test_data = feature_engineering(test_data)\n",
    "    train_data = regexdf(train_data)\n",
    "    test_data = regexdf(test_data)\n",
    "\n",
    "    evaluate_model(train_data,lgb.LGBMRegressor(verbose=-1))\n",
    "    print('__________')\n",
    "    param = tune_model(train_data)\n",
    "    param.setdefault('verbose', -1)\n",
    "    print('__________')\n",
    "    #model = bagging_model(train_data,lgb.LGBMRegressor(**param))\n",
    "    print('__________')\n",
    "    prediction = final_model(train_data, lgb.LGBMRegressor(**param), param,test_data)\n",
    "    print('__________')\n",
    "    final_prediction = post_process(prediction, is_day)\n",
    "    plot_targets(final_prediction)\n",
    "    all_predictions.append([final_prediction])\n",
    "submission(all_predictions)"
   ]
  },
  {
   "cell_type": "code",
   "execution_count": 152,
   "id": "fd939af6",
   "metadata": {},
   "outputs": [
    {
     "data": {
      "text/plain": [
       "[[0        0.000000\n",
       "  1        0.000000\n",
       "  2        0.000000\n",
       "  3       50.357006\n",
       "  4      372.701058\n",
       "            ...    \n",
       "  715    247.741065\n",
       "  716     80.039508\n",
       "  717      1.430945\n",
       "  718      0.000000\n",
       "  719      0.000000\n",
       "  Name: is_day:idx, Length: 720, dtype: float64]]"
      ]
     },
     "execution_count": 152,
     "metadata": {},
     "output_type": "execute_result"
    }
   ],
   "source": [
    "all_predictions"
   ]
  },
  {
   "cell_type": "code",
   "execution_count": null,
   "id": "69015e3f",
   "metadata": {},
   "outputs": [],
   "source": []
  }
 ],
 "metadata": {
  "kernelspec": {
   "display_name": "Python 3 (ipykernel)",
   "language": "python",
   "name": "python3"
  },
  "language_info": {
   "codemirror_mode": {
    "name": "ipython",
    "version": 3
   },
   "file_extension": ".py",
   "mimetype": "text/x-python",
   "name": "python",
   "nbconvert_exporter": "python",
   "pygments_lexer": "ipython3",
   "version": "3.11.4"
  }
 },
 "nbformat": 4,
 "nbformat_minor": 5
}
