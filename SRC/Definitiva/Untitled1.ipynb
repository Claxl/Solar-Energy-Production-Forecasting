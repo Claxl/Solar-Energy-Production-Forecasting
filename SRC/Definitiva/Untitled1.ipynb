{
 "cells": [
  {
   "cell_type": "code",
   "execution_count": 10,
   "id": "814d3ad1",
   "metadata": {},
   "outputs": [],
   "source": [
    "import pandas as pd\n",
    "gbm = pd.read_csv('TestFECla1.csv')\n",
    "cat = pd.read_csv('cat_pred.csv')\n",
    "\n",
    "\n",
    "result = (gbm*0.4 + cat*0.6)\n"
   ]
  },
  {
   "cell_type": "code",
   "execution_count": 11,
   "id": "9ddb3ff8",
   "metadata": {},
   "outputs": [],
   "source": [
    "result = result.set_index('id')"
   ]
  },
  {
   "cell_type": "code",
   "execution_count": 12,
   "id": "e23a1862",
   "metadata": {},
   "outputs": [],
   "source": [
    "result['prediction'] = result['prediction'].replace(-0, 0)"
   ]
  },
  {
   "cell_type": "code",
   "execution_count": 13,
   "id": "c7e9732e",
   "metadata": {},
   "outputs": [],
   "source": [
    "result.to_csv('meanWeightCatFE.csv')"
   ]
  },
  {
   "cell_type": "code",
   "execution_count": 14,
   "id": "e5e7e699",
   "metadata": {},
   "outputs": [
    {
     "data": {
      "text/html": [
       "<div>\n",
       "<style scoped>\n",
       "    .dataframe tbody tr th:only-of-type {\n",
       "        vertical-align: middle;\n",
       "    }\n",
       "\n",
       "    .dataframe tbody tr th {\n",
       "        vertical-align: top;\n",
       "    }\n",
       "\n",
       "    .dataframe thead th {\n",
       "        text-align: right;\n",
       "    }\n",
       "</style>\n",
       "<table border=\"1\" class=\"dataframe\">\n",
       "  <thead>\n",
       "    <tr style=\"text-align: right;\">\n",
       "      <th></th>\n",
       "      <th>prediction</th>\n",
       "    </tr>\n",
       "    <tr>\n",
       "      <th>id</th>\n",
       "      <th></th>\n",
       "    </tr>\n",
       "  </thead>\n",
       "  <tbody>\n",
       "    <tr>\n",
       "      <th>0.0</th>\n",
       "      <td>0.000000</td>\n",
       "    </tr>\n",
       "    <tr>\n",
       "      <th>1.0</th>\n",
       "      <td>0.000000</td>\n",
       "    </tr>\n",
       "    <tr>\n",
       "      <th>2.0</th>\n",
       "      <td>0.000000</td>\n",
       "    </tr>\n",
       "    <tr>\n",
       "      <th>3.0</th>\n",
       "      <td>44.625047</td>\n",
       "    </tr>\n",
       "    <tr>\n",
       "      <th>4.0</th>\n",
       "      <td>336.013818</td>\n",
       "    </tr>\n",
       "    <tr>\n",
       "      <th>...</th>\n",
       "      <td>...</td>\n",
       "    </tr>\n",
       "    <tr>\n",
       "      <th>2155.0</th>\n",
       "      <td>84.695005</td>\n",
       "    </tr>\n",
       "    <tr>\n",
       "      <th>2156.0</th>\n",
       "      <td>48.254014</td>\n",
       "    </tr>\n",
       "    <tr>\n",
       "      <th>2157.0</th>\n",
       "      <td>5.254217</td>\n",
       "    </tr>\n",
       "    <tr>\n",
       "      <th>2158.0</th>\n",
       "      <td>0.000000</td>\n",
       "    </tr>\n",
       "    <tr>\n",
       "      <th>2159.0</th>\n",
       "      <td>0.000000</td>\n",
       "    </tr>\n",
       "  </tbody>\n",
       "</table>\n",
       "<p>2160 rows × 1 columns</p>\n",
       "</div>"
      ],
      "text/plain": [
       "        prediction\n",
       "id                \n",
       "0.0       0.000000\n",
       "1.0       0.000000\n",
       "2.0       0.000000\n",
       "3.0      44.625047\n",
       "4.0     336.013818\n",
       "...            ...\n",
       "2155.0   84.695005\n",
       "2156.0   48.254014\n",
       "2157.0    5.254217\n",
       "2158.0    0.000000\n",
       "2159.0    0.000000\n",
       "\n",
       "[2160 rows x 1 columns]"
      ]
     },
     "execution_count": 14,
     "metadata": {},
     "output_type": "execute_result"
    }
   ],
   "source": [
    "result"
   ]
  },
  {
   "cell_type": "code",
   "execution_count": null,
   "id": "f05a3778",
   "metadata": {},
   "outputs": [],
   "source": []
  }
 ],
 "metadata": {
  "kernelspec": {
   "display_name": "Python 3 (ipykernel)",
   "language": "python",
   "name": "python3"
  },
  "language_info": {
   "codemirror_mode": {
    "name": "ipython",
    "version": 3
   },
   "file_extension": ".py",
   "mimetype": "text/x-python",
   "name": "python",
   "nbconvert_exporter": "python",
   "pygments_lexer": "ipython3",
   "version": "3.11.4"
  }
 },
 "nbformat": 4,
 "nbformat_minor": 5
}
